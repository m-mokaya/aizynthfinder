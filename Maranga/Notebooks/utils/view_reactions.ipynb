{
 "cells": [
  {
   "cell_type": "code",
   "execution_count": 1,
   "metadata": {},
   "outputs": [],
   "source": [
    "# Notebook to view the classifications of reactions used for set of retrosynthetic routes"
   ]
  },
  {
   "cell_type": "code",
   "execution_count": 9,
   "metadata": {},
   "outputs": [],
   "source": [
    "import pandas as pd\n",
    "import json\n",
    "import sys\n",
    "import os\n",
    "import ast\n",
    "\n",
    "sys.path.append('../../../')\n",
    "\n",
    "#import aizynthfinder.chem as chem\n",
    "import aizynthfinder.analysis\n",
    "\n",
    "from aizynthfinder.mcts.node import Node\n",
    "from aizynthfinder.analysis import ReactionTree\n",
    "from aizynthfinder.mcts.state import State\n",
    "from aizynthfinder.chem import TreeMolecule\n",
    "from aizynthfinder.context.collection import ContextCollection\n",
    "from aizynthfinder.context.stock import StockException\n",
    "\n",
    "from Maranga.utils.parse_multismiles import findkeys\n",
    "\n",
    "import matplotlib.pyplot as plt"
   ]
  },
  {
   "cell_type": "code",
   "execution_count": 10,
   "metadata": {},
   "outputs": [],
   "source": [
    "file_ext = '/data/localhost/not-backed-up/mokaya/exscientia/'"
   ]
  },
  {
   "cell_type": "code",
   "execution_count": 11,
   "metadata": {},
   "outputs": [
    {
     "ename": "FileNotFoundError",
     "evalue": "File /data/localhost/not-backed-up/mokaya/exscientia/aizynthfinder/Maranga/experiments/target_2/results/tg2_results_std_opt5_1.hdf5 does not exist",
     "output_type": "error",
     "traceback": [
      "\u001b[0;31m---------------------------------------------------------------------------\u001b[0m",
      "\u001b[0;31mFileNotFoundError\u001b[0m                         Traceback (most recent call last)",
      "\u001b[0;32m<ipython-input-11-01d9a3f678dc>\u001b[0m in \u001b[0;36m<module>\u001b[0;34m\u001b[0m\n\u001b[1;32m      2\u001b[0m \u001b[0mhdf_file\u001b[0m \u001b[0;34m=\u001b[0m \u001b[0;34m'/data/localhost/not-backed-up/mokaya/exscientia/aizynthfinder/Maranga/experiments/target_2/results/tg2_results_std_opt5_1.hdf5'\u001b[0m\u001b[0;34m\u001b[0m\u001b[0;34m\u001b[0m\u001b[0m\n\u001b[1;32m      3\u001b[0m \u001b[0;34m\u001b[0m\u001b[0m\n\u001b[0;32m----> 4\u001b[0;31m \u001b[0mdata\u001b[0m \u001b[0;34m=\u001b[0m \u001b[0mpd\u001b[0m\u001b[0;34m.\u001b[0m\u001b[0mread_hdf\u001b[0m\u001b[0;34m(\u001b[0m\u001b[0mhdf_file\u001b[0m\u001b[0;34m,\u001b[0m \u001b[0;34m'table'\u001b[0m\u001b[0;34m)\u001b[0m\u001b[0;34m\u001b[0m\u001b[0;34m\u001b[0m\u001b[0m\n\u001b[0m\u001b[1;32m      5\u001b[0m \u001b[0msolved_data\u001b[0m \u001b[0;34m=\u001b[0m \u001b[0mdata\u001b[0m\u001b[0;34m.\u001b[0m\u001b[0mloc\u001b[0m\u001b[0;34m[\u001b[0m\u001b[0;34m(\u001b[0m\u001b[0mdata\u001b[0m\u001b[0;34m.\u001b[0m\u001b[0mis_solved\u001b[0m\u001b[0;34m==\u001b[0m\u001b[0;32mTrue\u001b[0m\u001b[0;34m)\u001b[0m\u001b[0;34m]\u001b[0m\u001b[0;34m\u001b[0m\u001b[0;34m\u001b[0m\u001b[0m\n\u001b[1;32m      6\u001b[0m \u001b[0mreactions_1\u001b[0m \u001b[0;34m=\u001b[0m \u001b[0msolved_data\u001b[0m\u001b[0;34m.\u001b[0m\u001b[0mtrees\u001b[0m\u001b[0;34m.\u001b[0m\u001b[0mvalues\u001b[0m\u001b[0;34m\u001b[0m\u001b[0;34m\u001b[0m\u001b[0m\n",
      "\u001b[0;32m/data/pegasus/mokaya/miniconda3/envs/aizynth-dev/lib/python3.8/site-packages/pandas/io/pytables.py\u001b[0m in \u001b[0;36mread_hdf\u001b[0;34m(path_or_buf, key, mode, errors, where, start, stop, columns, iterator, chunksize, **kwargs)\u001b[0m\n\u001b[1;32m    395\u001b[0m \u001b[0;34m\u001b[0m\u001b[0m\n\u001b[1;32m    396\u001b[0m         \u001b[0;32mif\u001b[0m \u001b[0;32mnot\u001b[0m \u001b[0mexists\u001b[0m\u001b[0;34m:\u001b[0m\u001b[0;34m\u001b[0m\u001b[0;34m\u001b[0m\u001b[0m\n\u001b[0;32m--> 397\u001b[0;31m             \u001b[0;32mraise\u001b[0m \u001b[0mFileNotFoundError\u001b[0m\u001b[0;34m(\u001b[0m\u001b[0;34mf\"File {path_or_buf} does not exist\"\u001b[0m\u001b[0;34m)\u001b[0m\u001b[0;34m\u001b[0m\u001b[0;34m\u001b[0m\u001b[0m\n\u001b[0m\u001b[1;32m    398\u001b[0m \u001b[0;34m\u001b[0m\u001b[0m\n\u001b[1;32m    399\u001b[0m         \u001b[0mstore\u001b[0m \u001b[0;34m=\u001b[0m \u001b[0mHDFStore\u001b[0m\u001b[0;34m(\u001b[0m\u001b[0mpath_or_buf\u001b[0m\u001b[0;34m,\u001b[0m \u001b[0mmode\u001b[0m\u001b[0;34m=\u001b[0m\u001b[0mmode\u001b[0m\u001b[0;34m,\u001b[0m \u001b[0merrors\u001b[0m\u001b[0;34m=\u001b[0m\u001b[0merrors\u001b[0m\u001b[0;34m,\u001b[0m \u001b[0;34m**\u001b[0m\u001b[0mkwargs\u001b[0m\u001b[0;34m)\u001b[0m\u001b[0;34m\u001b[0m\u001b[0;34m\u001b[0m\u001b[0m\n",
      "\u001b[0;31mFileNotFoundError\u001b[0m: File /data/localhost/not-backed-up/mokaya/exscientia/aizynthfinder/Maranga/experiments/target_2/results/tg2_results_std_opt5_1.hdf5 does not exist"
     ]
    }
   ],
   "source": [
    "# Load from hdf5 file\n",
    "hdf_file = '/data/localhost/not-backed-up/mokaya/exscientia/aizynthfinder/Maranga/experiments/target_2/results/tg2_results_std_opt5_1.hdf5'\n",
    "\n",
    "data = pd.read_hdf(hdf_file, 'table')\n",
    "solved_data = data.loc[(data.is_solved==True)]\n",
    "reactions_1 = solved_data.trees.values"
   ]
  },
  {
   "cell_type": "code",
   "execution_count": 4,
   "metadata": {},
   "outputs": [],
   "source": [
    "# # file location of json file\n",
    "# json_file_1 = os.path.join(file_ext, 'aizynthfinder/Maranga/experiments/target_2/results/opt4_class/tg2_std_opt4_novelrxns.json')\n",
    "\n",
    "# with open(json_file_1) as f:\n",
    "#     data_1 = json.load(f)\n",
    "\n",
    "# data_1_r = data_1.get('reaction trees')\n",
    "# #data_1_r = [ast.literal_eval(i) for i in data_1_r]\n",
    "# reactions_1 = [json.loads(i) for i in data_1_r]"
   ]
  },
  {
   "cell_type": "code",
   "execution_count": 5,
   "metadata": {},
   "outputs": [],
   "source": [
    "#  # file location of json file\n",
    "# json_file_2 = '/data/localhost/not-backed-up/mokaya/exscientia/aizynthfinder/Maranga/experiments/target_2/results/tg2_std_solved.json'\n",
    "\n",
    "# with open(json_file_2) as f:\n",
    "#     data_2 = json.load(f)\n",
    "\n",
    "# data_2_r = data_2.get('reaction trees')\n",
    "# reactions_2 = [json.loads(i) for i in data_2_r]"
   ]
  },
  {
   "cell_type": "code",
   "execution_count": 13,
   "metadata": {},
   "outputs": [],
   "source": [
    "# Load from hdf5 file\n",
    "hdf_file = '/data/localhost/not-backed-up/mokaya/exscientia/aizynthfinder/Maranga/experiments/target_2/results/std/tg2_results_std_4.hdf5'\n",
    "\n",
    "data_3 = pd.read_hdf(hdf_file, 'table')\n",
    "\n",
    "solved_data_3 = data.loc[(data_3.is_solved==True)]\n",
    "reactions_3 = solved_data_3.trees.values"
   ]
  },
  {
   "cell_type": "code",
   "execution_count": 15,
   "metadata": {},
   "outputs": [],
   "source": [
    "# find classifications from list of reactio dicts and retuirn a dict with frequency\n",
    "def count_reactions(rxns):\n",
    "    templates = []\n",
    "    templates_dict = {}\n",
    "    for i in rxns:\n",
    "        templates.extend(list(findkeys(i, 'classification')))\n",
    "\n",
    "    print('# Templates: ', len(templates))\n",
    "\n",
    "    for i in templates:\n",
    "        if i in templates_dict:\n",
    "            templates_dict[i] += 1\n",
    "        else:\n",
    "            templates_dict[i] = 1\n",
    "    return templates_dict\n"
   ]
  },
  {
   "cell_type": "code",
   "execution_count": 5,
   "metadata": {},
   "outputs": [
    {
     "name": "stdout",
     "output_type": "stream",
     "text": [
      "# Templates:  644\n",
      "25\n"
     ]
    }
   ],
   "source": [
    "templates_1 = count_reactions(reactions_1)\n",
    "s_templates_1 = dict(sorted(templates_1.items(), key=lambda kv: kv[1], reverse=True))\n",
    "print(len(s_templates_1))\n",
    "\n"
   ]
  },
  {
   "cell_type": "code",
   "execution_count": null,
   "metadata": {},
   "outputs": [],
   "source": []
  },
  {
   "cell_type": "code",
   "execution_count": 24,
   "metadata": {},
   "outputs": [
    {
     "name": "stdout",
     "output_type": "stream",
     "text": [
      "# Templates:  1226\n",
      "37\n"
     ]
    }
   ],
   "source": [
    "templates_2 = count_reactions(reactions_2)\n",
    "print(len(templates_2))\n",
    "s_templates_2 = dict(sorted(templates_2.items(), key=lambda kv: kv[1], reverse=True))"
   ]
  },
  {
   "cell_type": "code",
   "execution_count": 16,
   "metadata": {},
   "outputs": [
    {
     "name": "stdout",
     "output_type": "stream",
     "text": [
      "# Templates:  873\n",
      "26\n"
     ]
    }
   ],
   "source": [
    "templates_3 = count_reactions(reactions_3)\n",
    "print(len(templates_3))\n",
    "s_templates_3 = dict(sorted(templates_3.items(), key=lambda kv: kv[1], reverse=True))"
   ]
  },
  {
   "cell_type": "code",
   "execution_count": 6,
   "metadata": {},
   "outputs": [
    {
     "name": "stdout",
     "output_type": "stream",
     "text": [
      "Unassigned      228       \n",
      "Heteroaryl N-alkylation 129       \n",
      "Reductive amination 91        \n",
      "Halogenation    60        \n",
      "Alcohol to halide 23        \n",
      "Other deprotections 17        \n",
      "O-substitution  15        \n",
      "S-substitution  13        \n",
      "Ketone to alcohol 13        \n",
      "RCO2H deprotections 9         \n",
      "O-sulfonylation 8         \n",
      "Other functional group interconversion 6         \n",
      "Nitro to amine reduction 6         \n",
      "NH deprotections 4         \n",
      "N-substitution with alkyl-X 3         \n",
      "Stille reaction 3         \n",
      "Cyano or imine to amine 3         \n",
      "Dehydration     3         \n",
      "N-arylation with Ar-X 2         \n",
      "O-containing heterocycle formation 2         \n",
      "Other C-C bond formation 2         \n",
      "Carbamate/carbonate formation 1         \n",
      "Alkene to alkane 1         \n",
      "Friedel-Crafts reaction 1         \n",
      "Acid to acid chloride 1         \n"
     ]
    }
   ],
   "source": [
    "for k, v in s_templates_1.items():\n",
    "    label, num = k, v\n",
    "    print (\"{:<15} {:<10}\".format(label, num))"
   ]
  },
  {
   "cell_type": "code",
   "execution_count": 18,
   "metadata": {},
   "outputs": [
    {
     "name": "stdout",
     "output_type": "stream",
     "text": [
      "Unassigned      266       \n",
      "Heteroaryl N-alkylation 193       \n",
      "Halogenation    104       \n",
      "Reductive amination 86        \n",
      "Alcohol to halide 36        \n",
      "Other deprotections 31        \n",
      "O-substitution  25        \n",
      "S-substitution  19        \n",
      "Other functional group interconversion 19        \n",
      "Nitro to amine reduction 16        \n",
      "O-containing heterocycle formation 16        \n",
      "Ketone to alcohol 13        \n",
      "RCO2H deprotections 9         \n",
      "O-sulfonylation 8         \n",
      "Other C-C bond formation 7         \n",
      "NH deprotections 4         \n",
      "N-acylation to amide 3         \n",
      "Stille reaction 3         \n",
      "Alkene to alkane 3         \n",
      "Cyano or imine to amine 3         \n",
      "Dehydration     3         \n",
      "N-arylation with Ar-X 2         \n",
      "N-substitution with alkyl-X 1         \n",
      "Carbamate/carbonate formation 1         \n",
      "Friedel-Crafts reaction 1         \n",
      "Acid to acid chloride 1         \n"
     ]
    }
   ],
   "source": [
    "for k, v in s_templates_3.items():\n",
    "    label, num = k, v\n",
    "    print (\"{:<15} {:<10}\".format(label, num))\n"
   ]
  },
  {
   "cell_type": "code",
   "execution_count": 23,
   "metadata": {},
   "outputs": [
    {
     "name": "stdout",
     "output_type": "stream",
     "text": [
      "['Alcohol to halide', 'Cyano or imine to amine', 'Alcohol to halide', 'N-substitution with alkyl-X', 'Alcohol to halide', 'RCO2H deprotections', 'O-sulfonylation', 'RCO2H deprotections', 'Other C-C bond formation', 'Dehydration', 'Reductive amination', 'Alcohol to halide', 'Alcohol to halide', 'S-substitution', 'Acid to acid chloride', 'O-substitution', 'Nitro to amine reduction', 'Stille reaction', 'Stille reaction', 'Heteroaryl N-alkylation', 'Reductive amination']\n"
     ]
    }
   ],
   "source": [
    "tem = list(s_templates_3.keys())\n",
    "\n",
    "import random\n",
    "\n",
    "rand21 = random.choices(tem, k=21)\n",
    "print(rand21)"
   ]
  },
  {
   "cell_type": "code",
   "execution_count": 11,
   "metadata": {},
   "outputs": [],
   "source": [
    "opt_list = ['Unassigned', 'Heteroaryl N-alkylation', 'Halogenation', 'Reductive amination', 'Alcohol to halide', 'RCO2H deprotections', 'Other reductions', 'O-containing heterocycle formation', 'Other functional group interconversion', 'Stille reaction', 'Ketone to alcohol', 'ROH deprotections', 'O-substitution', 'Friedel-Crafts reaction', 'NH deprotections', 'O-sulfonylation', 'S-substitution', 'N-substitution with alkyl-X', 'Nitro to amine reduction', 'Amide to amine reduction', 'N-arylation with Ar-X', 'Other deprotections', 'Alkene to alkane', 'O-acylation to ester', 'NH protections', 'Dehydration', 'N-acylation to amide']"
   ]
  },
  {
   "cell_type": "code",
   "execution_count": 19,
   "metadata": {},
   "outputs": [
    {
     "name": "stdout",
     "output_type": "stream",
     "text": [
      "Stille reaction\n",
      "Alkene to alkane\n",
      "NH protections\n",
      "Dehydration\n"
     ]
    }
   ],
   "source": [
    "# determine if any reactions optimised don't feature\n",
    "for i in opt_list:\n",
    "    if i not in s_templates_1.keys():\n",
    "        print(i)"
   ]
  },
  {
   "cell_type": "code",
   "execution_count": 36,
   "metadata": {},
   "outputs": [
    {
     "name": "stdout",
     "output_type": "stream",
     "text": [
      "1199\n"
     ]
    }
   ],
   "source": [
    "print(sum(s_templates_3.values()))"
   ]
  },
  {
   "cell_type": "code",
   "execution_count": 38,
   "metadata": {},
   "outputs": [
    {
     "name": "stdout",
     "output_type": "stream",
     "text": [
      "\n",
      "Unassigned\n",
      "213 246\n",
      "24.94145199063232 20.517097581317763\n",
      "\n",
      "Heteroaryl N-alkylation\n",
      "168 189\n",
      "19.672131147540984 15.763135946622187\n",
      "\n",
      "Halogenation\n",
      "107 107\n",
      "12.52927400468384 8.924103419516264\n",
      "\n",
      "Reductive amination\n",
      "119 132\n",
      "13.934426229508196 11.009174311926607\n",
      "\n",
      "Alcohol to halide\n",
      "11 32\n",
      "1.288056206088993 2.6688907422852375\n",
      "\n",
      "RCO2H deprotections\n",
      "82 129\n",
      "9.601873536299765 10.758965804837365\n",
      "\n",
      "Other reductions\n",
      "32 47\n",
      "3.747072599531616 3.919933277731443\n",
      "\n",
      "O-containing heterocycle formation\n",
      "3 3\n",
      "0.351288056206089 0.25020850708924103\n",
      "\n",
      "Other functional group interconversion\n",
      "34 49\n",
      "3.9812646370023423 4.08673894912427\n",
      "\n",
      "Stille reaction\n",
      "None None\n",
      "Reaction not used.\n",
      "\n",
      "Ketone to alcohol\n",
      "4 4\n",
      "0.468384074941452 0.3336113427856547\n",
      "\n",
      "ROH deprotections\n",
      "4 32\n",
      "0.468384074941452 2.6688907422852375\n",
      "\n",
      "O-substitution\n",
      "5 28\n",
      "0.5854800936768151 2.335279399499583\n",
      "\n",
      "Friedel-Crafts reaction\n",
      "13 13\n",
      "1.5222482435597189 1.084236864053378\n",
      "\n",
      "NH deprotections\n",
      "4 23\n",
      "0.468384074941452 1.9182652210175146\n",
      "\n",
      "O-sulfonylation\n",
      "8 14\n",
      "0.936768149882904 1.1676396997497915\n",
      "\n",
      "S-substitution\n",
      "7 7\n",
      "0.819672131147541 0.5838198498748958\n",
      "\n",
      "N-substitution with alkyl-X\n",
      "5 5\n",
      "0.5854800936768151 0.4170141784820684\n",
      "\n",
      "Nitro to amine reduction\n",
      "2 2\n",
      "0.234192037470726 0.16680567139282734\n",
      "\n",
      "Amide to amine reduction\n",
      "7 16\n",
      "0.819672131147541 1.3344453711426187\n",
      "\n",
      "N-arylation with Ar-X\n",
      "9 22\n",
      "1.053864168618267 1.834862385321101\n",
      "\n",
      "Other deprotections\n",
      "3 4\n",
      "0.351288056206089 0.3336113427856547\n",
      "\n",
      "Alkene to alkane\n",
      "None 11\n",
      "Reaction not used.\n",
      "\n",
      "O-acylation to ester\n",
      "2 57\n",
      "0.234192037470726 4.75396163469558\n",
      "\n",
      "NH protections\n",
      "None 5\n",
      "Reaction not used.\n",
      "\n",
      "Dehydration\n",
      "None None\n",
      "Reaction not used.\n",
      "\n",
      "N-acylation to amide\n",
      "1 11\n",
      "0.117096018735363 0.9174311926605505\n"
     ]
    }
   ],
   "source": [
    "# plot difference in freq of reactions\n",
    "diff_d = {}\n",
    "for i in opt_list: \n",
    "    opt = s_templates_1.get(i)\n",
    "    std = s_templates_3.get(i)\n",
    "\n",
    "    opt_total = sum(s_templates_1.values())\n",
    "    std_total = sum(s_templates_3.values())\n",
    "\n",
    "    print()\n",
    "    \n",
    "    print(i)\n",
    "    print(opt, std)\n",
    "    \n",
    "\n",
    "    if opt != None and std != None:\n",
    "        print((opt/opt_total)*100, (std/std_total)*100)\n",
    "        diff_d[i] = (opt/opt_total)*100 - (std/std_total)*100\n",
    "    else:\n",
    "        print('Reaction not used.')"
   ]
  },
  {
   "cell_type": "code",
   "execution_count": 34,
   "metadata": {},
   "outputs": [
    {
     "data": {
      "text/plain": "<function matplotlib.pyplot.show(close=None, block=None)>"
     },
     "execution_count": 34,
     "metadata": {},
     "output_type": "execute_result"
    },
    {
     "data": {
      "image/png": "[encoded data removed]",
      "text/plain": "<Figure size 432x288 with 1 Axes>"
     },
     "metadata": {
      "needs_background": "light"
     },
     "output_type": "display_data"
    }
   ],
   "source": [
    "plt.plot(diff_d.keys(), diff_d.values())\n",
    "plt.xticks(rotation=90)\n",
    "plt.xlabel('Templates')\n",
    "plt.ylabel('Difference in FREQ (OPT - STD) / %')\n",
    "plt.axhline(y=0, alpha=0.3, c='red', linestyle='dotted')\n",
    "plt.show"
   ]
  },
  {
   "cell_type": "code",
   "execution_count": 58,
   "metadata": {},
   "outputs": [
    {
     "name": "stdout",
     "output_type": "stream",
     "text": [
      "Dehydration\n"
     ]
    }
   ],
   "source": [
    "to_optimise_hash = []\n",
    "for i in s_templates_2:\n",
    "    if i not in s_templates_1:\n",
    "        print(i)\n",
    "        to_optimise_hash.append(i)"
   ]
  },
  {
   "cell_type": "code",
   "execution_count": 59,
   "metadata": {},
   "outputs": [
    {
     "name": "stdout",
     "output_type": "stream",
     "text": [
      "['Dehydration']\n",
      "Length:  1\n"
     ]
    }
   ],
   "source": [
    "print(to_optimise_hash)\n",
    "print('Length: ', len(to_optimise_hash))"
   ]
  },
  {
   "cell_type": "code",
   "execution_count": 60,
   "metadata": {},
   "outputs": [
    {
     "name": "stdout",
     "output_type": "stream",
     "text": [
      "{'Unassigned': 250, 'Heteroaryl N-alkylation': 201, 'Reductive amination': 158, 'Halogenation': 133, 'RCO2H deprotections': 110, 'Other functional group interconversion': 49, 'O-acylation to ester': 31, 'Amide to amine reduction': 27, 'Other reductions': 26, 'ROH deprotections': 20, 'O-substitution': 20, 'Alcohol to halide': 19, 'N-arylation with Ar-X': 18, 'Alcohols to aldehydes': 15, 'NH deprotections': 15, 'N-acylation to amide': 15, 'Friedel-Crafts reaction': 13, 'Ester to alcohol': 13, 'Stille reaction': 12, 'Acid to acid chloride': 11, 'Alkene oxidative cleavage': 9, 'S-substitution': 9, 'N-substitution with alkyl-X': 8, 'Ketone to alcohol': 8, 'O-sulfonylation': 7, 'Other functional group addition': 5, 'Nitro to amine reduction': 4, 'NH protections': 4, 'O-containing heterocycle formation': 3, 'Alkene to alkane': 3, 'Suzuki coupling': 2, 'Other deprotections': 2, 'Other organometallic C-C bond formation': 2, 'Cyano or imine to amine': 1, 'RSH deprotections': 1, 'Alkyne to alkane': 1, 'Other C-C bond formation': 1}\n"
     ]
    }
   ],
   "source": [
    "print(s_templates_1)"
   ]
  },
  {
   "cell_type": "code",
   "execution_count": 61,
   "metadata": {},
   "outputs": [
    {
     "name": "stdout",
     "output_type": "stream",
     "text": [
      "1226\n",
      "384\n"
     ]
    }
   ],
   "source": [
    "s_total_1 = sum(list(s_templates_1.values()))\n",
    "s_total_2 = sum(list(s_templates_2.values()))\n",
    "print(s_total_1)\n",
    "print(s_total_2)"
   ]
  },
  {
   "cell_type": "code",
   "execution_count": 24,
   "metadata": {},
   "outputs": [
    {
     "ename": "TypeError",
     "evalue": "unhashable type: 'slice'",
     "output_type": "error",
     "traceback": [
      "\u001b[0;31m---------------------------------------------------------------------------\u001b[0m",
      "\u001b[0;31mTypeError\u001b[0m                                 Traceback (most recent call last)",
      "\u001b[0;32m<ipython-input-24-981a6cd973d7>\u001b[0m in \u001b[0;36m<module>\u001b[0;34m\u001b[0m\n\u001b[0;32m----> 1\u001b[0;31m \u001b[0mprint\u001b[0m\u001b[0;34m(\u001b[0m\u001b[0ms_templates_1\u001b[0m\u001b[0;34m[\u001b[0m\u001b[0;34m:\u001b[0m\u001b[0;36m5\u001b[0m\u001b[0;34m]\u001b[0m\u001b[0;34m)\u001b[0m\u001b[0;34m\u001b[0m\u001b[0;34m\u001b[0m\u001b[0m\n\u001b[0m",
      "\u001b[0;31mTypeError\u001b[0m: unhashable type: 'slice'"
     ]
    }
   ],
   "source": []
  },
  {
   "cell_type": "code",
   "execution_count": 62,
   "metadata": {
    "tags": []
   },
   "outputs": [
    {
     "name": "stdout",
     "output_type": "stream",
     "text": [
      "Alcohol to halide\n",
      "prop:  0.015497553017944535\n",
      "p:  0.018505825908156272\n",
      "\n",
      "O-containing heterocycle formation\n",
      "prop:  0.0024469820554649264\n",
      "p:  0.010966415352981495\n",
      "\n"
     ]
    }
   ],
   "source": [
    "for label, val in s_templates_1.items():\n",
    "    prop = val / 1226\n",
    "    for lab, v in s_templates_2.items():\n",
    "        p = v / 1459\n",
    "        if label == lab and p > prop:\n",
    "            print(label)\n",
    "            print('prop: ', prop)\n",
    "            print('p: ', p)\n",
    "            to_optimise_hash.append(label)\n",
    "            print('')"
   ]
  },
  {
   "cell_type": "code",
   "execution_count": 63,
   "metadata": {},
   "outputs": [
    {
     "name": "stdout",
     "output_type": "stream",
     "text": [
      "['Dehydration', 'Alcohol to halide', 'O-containing heterocycle formation']\n",
      "3\n"
     ]
    }
   ],
   "source": [
    "print(to_optimise_hash)\n",
    "print(len(to_optimise_hash))"
   ]
  },
  {
   "cell_type": "code",
   "execution_count": 64,
   "metadata": {},
   "outputs": [
    {
     "name": "stdout",
     "output_type": "stream",
     "text": [
      "3\n"
     ]
    }
   ],
   "source": [
    "print(len(set(to_optimise_hash)))"
   ]
  },
  {
   "cell_type": "code",
   "execution_count": 66,
   "metadata": {},
   "outputs": [
    {
     "name": "stdout",
     "output_type": "stream",
     "text": [
      "[246, 189, 132, 129, 107, 57, 49, 47, 32, 32, 28, 23, 22, 16, 14, 13, 11, 11, 7, 5, 5, 4, 4, 3, 2]\n",
      "[213, 168, 119, 107, 82, 34, 32, 13, 11, 9, 8, 7, 7, 5, 5, 4, 4, 4, 3, 3, 2, 2, 1]\n"
     ]
    },
    {
     "data": {
      "text/plain": "<function matplotlib.pyplot.show(close=None, block=None)>"
     },
     "execution_count": 66,
     "metadata": {},
     "output_type": "execute_result"
    },
    {
     "data": {
      "image/png": "[encoded data removed]",
      "text/plain": "<Figure size 432x288 with 1 Axes>"
     },
     "metadata": {
      "needs_background": "light"
     },
     "output_type": "display_data"
    }
   ],
   "source": [
    "import matplotlib.pyplot as plt\n",
    "\n",
    "temps = list(opt_s_templates_3.keys())\n",
    "dc = list(opt_s_templates_3.values())\n",
    "\n",
    "temps_1 = list(opt_s_templates_1.keys())\n",
    "dc_1 = list(opt_s_templates_1.values())\n",
    "print(dc)\n",
    "print(dc_1)\n",
    "\n",
    "plt.plot(temps, dc)\n",
    "plt.plot(temps_1, dc_1)\n",
    "plt.xticks(rotation=90)\n",
    "plt.xlabel('Tempalte')\n",
    "plt.ylabel('Frequency in Solved Routes')\n",
    "plt.show"
   ]
  },
  {
   "cell_type": "code",
   "execution_count": 58,
   "metadata": {},
   "outputs": [],
   "source": [
    "opt_list = ['Unassigned', 'Heteroaryl N-alkylation', 'Halogenation', 'Reductive amination', 'Alcohol to halide', 'RCO2H deprotections', 'Other reductions', 'O-containing heterocycle formation', 'Other functional group interconversion', 'Stille reaction', 'Ketone to alcohol', 'ROH deprotections', 'O-substitution', 'Friedel-Crafts reaction', 'NH deprotections', 'O-sulfonylation', 'S-substitution', 'N-substitution with alkyl-X', 'Nitro to amine reduction', 'Amide to amine reduction', 'N-arylation with Ar-X', 'Other deprotections', 'Alkene to alkane', 'O-acylation to ester', 'NH protections', 'Dehydration', 'N-acylation to amide']"
   ]
  },
  {
   "cell_type": "code",
   "execution_count": 70,
   "metadata": {},
   "outputs": [
    {
     "ename": "KeyError",
     "evalue": "'Alkene to alkane'",
     "output_type": "error",
     "traceback": [
      "\u001b[0;31m---------------------------------------------------------------------------\u001b[0m",
      "\u001b[0;31mKeyError\u001b[0m                                  Traceback (most recent call last)",
      "\u001b[0;32m<ipython-input-70-7eb779829b30>\u001b[0m in \u001b[0;36m<module>\u001b[0;34m\u001b[0m\n\u001b[1;32m     13\u001b[0m \u001b[0;34m\u001b[0m\u001b[0m\n\u001b[1;32m     14\u001b[0m \u001b[0;32mfor\u001b[0m \u001b[0mkey\u001b[0m \u001b[0;32min\u001b[0m \u001b[0mopt_o_temps\u001b[0m\u001b[0;34m:\u001b[0m\u001b[0;34m\u001b[0m\u001b[0;34m\u001b[0m\u001b[0m\n\u001b[0;32m---> 15\u001b[0;31m     \u001b[0mopt_template_1\u001b[0m\u001b[0;34m[\u001b[0m\u001b[0mkey\u001b[0m\u001b[0;34m]\u001b[0m \u001b[0;34m=\u001b[0m \u001b[0mopt_template_1\u001b[0m\u001b[0;34m.\u001b[0m\u001b[0mpop\u001b[0m\u001b[0;34m(\u001b[0m\u001b[0mkey\u001b[0m\u001b[0;34m)\u001b[0m\u001b[0;34m\u001b[0m\u001b[0;34m\u001b[0m\u001b[0m\n\u001b[0m\u001b[1;32m     16\u001b[0m \u001b[0;34m\u001b[0m\u001b[0m\n\u001b[1;32m     17\u001b[0m \u001b[0mprint\u001b[0m\u001b[0;34m(\u001b[0m\u001b[0mlen\u001b[0m\u001b[0;34m(\u001b[0m\u001b[0mopt_s_templates_3\u001b[0m\u001b[0;34m)\u001b[0m\u001b[0;34m)\u001b[0m\u001b[0;34m\u001b[0m\u001b[0;34m\u001b[0m\u001b[0m\n",
      "\u001b[0;31mKeyError\u001b[0m: 'Alkene to alkane'"
     ]
    }
   ],
   "source": [
    "opt_template_3 = {}\n",
    "for k,v in s_templates_3.items():\n",
    "    if k in opt_list:\n",
    "        opt_template_3[k] = v\n",
    "\n",
    "opt_s_templates_3 = dict(sorted(opt_template_3.items(), key=lambda kv: kv[1], reverse=True))\n",
    "\n",
    "opt_template_1 = {}\n",
    "for k,v in s_templates_1.items():\n",
    "    if k in opt_list:\n",
    "        opt_template_1[k] = v\n",
    "\n",
    "\n",
    "for key in opt_o_temps:\n",
    "    opt_template_1[key] = opt_template_1.pop(key)\n",
    "\n",
    "print(len(opt_s_templates_3))\n"
   ]
  },
  {
   "cell_type": "code",
   "execution_count": 69,
   "metadata": {},
   "outputs": [],
   "source": [
    "o_temps=['Unassigned', 'Heteroaryl N-alkylation', 'Reductive amination', 'RCO2H deprotections', 'Halogenation', 'O-acylation to ester', 'Other functional group interconversion', 'Other reductions', 'Alcohol to halide', 'ROH deprotections', 'O-substitution', 'NH deprotections', 'N-arylation with Ar-X', 'Amide to amine reduction', 'O-sulfonylation', 'Friedel-Crafts reaction', 'N-acylation to amide', 'Alkene to alkane', 'Acid to acid chloride', 'S-substitution', 'N-substitution with alkyl-X', 'NH protections', 'Other deprotections', 'Ketone to alcohol', 'O-containing heterocycle formation', 'Nitro to amine reduction', 'Alcohols to aldehydes']\n",
    "opt_o_temps = [i for i in o_temps if i in opt_list]"
   ]
  },
  {
   "cell_type": "code",
   "execution_count": null,
   "metadata": {},
   "outputs": [],
   "source": []
  }
 ],
 "metadata": {
  "kernelspec": {
   "display_name": "Python 3.7.4 64-bit ('base': conda)",
   "name": "python374jvsc74a57bd07b87193dc311a96dedb26d8e0dfc0dcaa4bf5f3dd89dae4225d4717d78168cf3"
  },
  "language_info": {
   "name": "python",
   "version": ""
  },
  "orig_nbformat": 3
 },
 "nbformat": 4,
 "nbformat_minor": 4
}