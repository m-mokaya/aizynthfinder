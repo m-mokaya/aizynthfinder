{
 "cells": [
  {
   "cell_type": "code",
   "execution_count": 2,
   "id": "cee513a0",
   "metadata": {},
   "outputs": [],
   "source": [
    "import os\n",
    "import sys\n",
    "import argparse\n",
    "\n",
    "import json\n",
    "import pandas as pd\n",
    "import numpy as np\n",
    "\n",
    "sys.path.append('../../../')\n",
    "\n",
    "import Maranga.utils.parse_multismiles as mutils\n",
    "import Maranga.scripts.fingerprints as fings\n",
    "import aizynthfinder.context.scoring as scoring\n",
    "import aizynthfinder.context.config as con\n",
    "\n",
    "from aizynthfinder.analysis import ReactionTree\n",
    "from rdkit.Chem import rdChemReactions\n",
    "from rdkit import DataStructs\n",
    "from rdkit.ML.Cluster import Butina\n",
    "from sklearn.metrics.pairwise import euclidean_distances\n",
    "from scipy.spatial.distance import euclidean\n",
    "\n"
   ]
  },
  {
   "cell_type": "code",
   "execution_count": 27,
   "id": "0045a9ec",
   "metadata": {},
   "outputs": [],
   "source": [
    "#convert input to list of rxns\n",
    "data_e = mutils.read_hdf('/data/localhost/not-backed-up/mokaya/exscientia/aizynthfinder/Maranga/experiments/target_2/results/tg2_std_opt1_results.hdf5')\n",
    "solved_data_e = data_e.loc[(data_e.is_solved==True)]\n",
    "solved_trees_e = mutils.collect_trees(solved_data_e)"
   ]
  },
  {
   "cell_type": "code",
   "execution_count": 28,
   "id": "297e2220",
   "metadata": {},
   "outputs": [],
   "source": [
    "#convert input to list of rxns\n",
    "data_s = mutils.read_hdf('/data/localhost/not-backed-up/mokaya/exscientia/aizynthfinder/Maranga/experiments/target_2/results/tg2_std_results.hdf5')\n",
    "solved_data_s = data_s.loc[(data_s.is_solved==True)]\n",
    "solved_trees_s = mutils.collect_trees(solved_data_s)"
   ]
  },
  {
   "cell_type": "code",
   "execution_count": 29,
   "id": "ba5643b9",
   "metadata": {},
   "outputs": [
    {
     "output_type": "stream",
     "name": "stdout",
     "text": [
      "28\n27\n"
     ]
    }
   ],
   "source": [
    "print(len(solved_data_s))\n",
    "print(len(solved_data_e))"
   ]
  },
  {
   "cell_type": "code",
   "execution_count": 30,
   "id": "01bcf59a",
   "metadata": {},
   "outputs": [
    {
     "output_type": "stream",
     "name": "stdout",
     "text": [
      "Multiple Molecules\nMultiple Molecules\n"
     ]
    }
   ],
   "source": [
    "#parse imported reaction trees\n",
    "reactions_e = fings.parse_input(solved_trees_e, 'explore')\n",
    "reactions_s = fings.parse_input(solved_trees_s, 'normal')\n",
    "reactions = reactions_e + reactions_s\n",
    "\n",
    "r_e = [i.get('reaction') for i in reactions_e]\n",
    "r_s = [i.get('reaction') for i in reactions_s]"
   ]
  },
  {
   "cell_type": "code",
   "execution_count": 31,
   "metadata": {},
   "outputs": [],
   "source": [
    "rs = [ReactionTree.from_dict(i) for i in r_s]\n",
    "re = [ReactionTree.from_dict(i) for i in r_e]"
   ]
  },
  {
   "cell_type": "code",
   "execution_count": 33,
   "id": "5b077802",
   "metadata": {},
   "outputs": [
    {
     "output_type": "stream",
     "name": "stdout",
     "text": [
      "Print lengh of reaction vector:  182\n"
     ]
    }
   ],
   "source": [
    "#generate fingerprints\n",
    "fingerprints = fings.generate_fingerprints(reactions)"
   ]
  },
  {
   "cell_type": "code",
   "execution_count": 34,
   "metadata": {},
   "outputs": [],
   "source": [
    "# function to calculate the lenght of reaction\n",
    "def get_length(f):\n",
    "    return sum(1 if i != 0 else 0 for i in f)"
   ]
  },
  {
   "cell_type": "code",
   "execution_count": 35,
   "metadata": {},
   "outputs": [
    {
     "output_type": "stream",
     "name": "stdout",
     "text": [
      "{'molecule': 0, 'index': 0, 'reaction': {'type': 'mol', 'hide': False, 'smiles': 'CN1CCN(C2Cn3cccc3Sc3ccc(Cl)cc32)CC1', 'is_chemical': True, 'in_stock': False, 'children': [{'type': 'reaction', 'hide': False, 'smiles': '[C:1]([CH3:2])([cH3:3])[N:5]([CH3:4])[CH3:6]>>O=[C:1]([CH3:2])[cH3:3].[CH3:4][N:5][CH3:6]', 'is_reaction': True, 'metadata': {'template_hash': 'e2c3ee5da9aa9675ad987be40beb5130d31e54544c07aad9093e3547', 'classification': 'Reductive amination', 'library_occurence': 82, 'policy_probability': 0.3255999982357025, 'policy_name': 'uspto', 'template_code': 41471}, 'children': [{'type': 'mol', 'hide': False, 'smiles': 'CN1CCNCC1', 'is_chemical': True, 'in_stock': True}, {'type': 'mol', 'hide': False, 'smiles': 'O=C1Cn2cccc2Sc2ccc(Cl)cc21', 'is_chemical': True, 'in_stock': False, 'children': [{'type': 'reaction', 'hide': False, 'smiles': '[C:1]([CH3:2])(=[O:3])[c:5]([cH2:4])[cH2:6]>>(O=[C:1]([CH3:2])[O:3].[cH2:4][c:5][cH2:6])', 'is_reaction': True, 'metadata': {'template_hash': '9a5276992ccda13b6431b631a7a99deea628d1ae4a1226bec315ced4', 'classification': 'Unassigned', 'library_occurence': 295, 'policy_probability': 0.23999999463558197, 'policy_name': 'uspto', 'template_code': 28239}, 'children': [{'type': 'mol', 'hide': False, 'smiles': 'O=C(O)Cn1cccc1Sc1ccc(Cl)cc1', 'is_chemical': True, 'in_stock': False, 'children': [{'type': 'reaction', 'hide': False, 'smiles': '[O:1][C:2]([CH3:3])=[O:4]>>CC[O:1][C:2]([CH3:3])=[O:4]', 'is_reaction': True, 'metadata': {'template_hash': '9a4c5ceadb3b4a753bb8f03491f138cd875a84f1d327e818237f90df', 'classification': 'RCO2H deprotections', 'library_occurence': 9599, 'policy_probability': 0.6650000214576721, 'policy_name': 'uspto', 'template_code': 28233}, 'children': [{'type': 'mol', 'hide': False, 'smiles': 'CCOC(=O)Cn1cccc1Sc1ccc(Cl)cc1', 'is_chemical': True, 'in_stock': False, 'children': [{'type': 'reaction', 'hide': False, 'smiles': '[C:1]([C:2](=[O:3])[O:4][CH2:5][CH3:6])[n:8]([cH2:7])[cH2:9]>>Br[C:1][C:2](=[O:3])[O:4][CH2:5][CH3:6].[cH2:7][n:8][cH2:9]', 'is_reaction': True, 'metadata': {'template_hash': '49c1628032788008e8b4aa844c67dfa3dc3da53c87bef32faff5e68f', 'classification': 'Heteroaryl N-alkylation', 'library_occurence': 104, 'policy_probability': 0.8719000220298767, 'policy_name': 'uspto', 'template_code': 13522}, 'children': [{'type': 'mol', 'hide': False, 'smiles': 'CCOC(=O)CBr', 'is_chemical': True, 'in_stock': True}, {'type': 'mol', 'hide': False, 'smiles': 'Clc1ccc(Sc2ccc[nH]2)cc1', 'is_chemical': True, 'in_stock': False, 'children': [{'type': 'reaction', 'hide': False, 'smiles': '[S:1]([cH3:2])[c:4](:[NH:3])[cH2:5]>>Cl[S:1][cH3:2].[NH:3]:[c:4][cH2:5]', 'is_reaction': True, 'metadata': {'template_hash': 'cca685540fa090059d4b84008cff5859b106a1b153e3a038da801bc9', 'classification': 'Unassigned', 'library_occurence': 13, 'policy_probability': 0.8452000021934509, 'policy_name': 'uspto', 'template_code': 37427}, 'children': [{'type': 'mol', 'hide': False, 'smiles': 'ClSc1ccc(Cl)cc1', 'is_chemical': True, 'in_stock': False, 'children': [{'type': 'reaction', 'hide': False, 'smiles': '[Cl:1][S:2][cH3:3]>>O=C1CCC(=O)N1[Cl:1].[S:2][cH3:3]', 'is_reaction': True, 'metadata': {'template_hash': '69b86575f88b9f0c270424306fd5889c8e4ec122f68301130afe06ca', 'classification': 'Halogenation', 'library_occurence': 11, 'policy_probability': 0.6385999917984009, 'policy_name': 'uspto', 'template_code': 19446}, 'children': [{'type': 'mol', 'hide': False, 'smiles': 'O=C1CCC(=O)N1Cl', 'is_chemical': True, 'in_stock': True}, {'type': 'mol', 'hide': False, 'smiles': 'Sc1ccc(Cl)cc1', 'is_chemical': True, 'in_stock': True}]}]}, {'type': 'mol', 'hide': False, 'smiles': 'c1cc[nH]c1', 'is_chemical': True, 'in_stock': True}]}]}]}]}]}]}]}]}]}]}, 'type': 'explore', 'fingerprint': [1, 1, 1, 1, 1, 1, 0, 0, 0, 0, 0, 0, 0, 0, 0, 0, 0, 0, 0, 0, 0, 0, 0, 0, 0, 0, 0, 0, 0, 0, 0, 0, 0, 0, 0, 0, 0, 0, 0, 0, 0, 0, 0, 0, 0, 0, 0, 0, 0, 0, 0, 0, 0, 0, 0, 0, 0, 0, 0, 0, 0, 0, 0, 0, 0, 0, 0, 0, 0, 0, 0, 0, 0, 0, 0, 0, 0, 0, 0, 0, 0, 0, 0, 0, 0, 0, 0, 0, 0, 0, 0, 0, 0, 0, 0, 0, 0, 0, 0, 0, 0, 0, 0, 0, 0, 0, 0, 0, 0, 0, 0, 0, 0, 0, 0, 0, 0, 0, 0, 0, 0, 0, 0, 0, 0, 0, 0, 0, 0, 0, 0, 0, 0, 0, 0, 0, 0, 0, 0, 0, 0, 0, 0, 0, 0, 0, 0, 0, 0, 0, 0, 0, 0, 0, 0, 0, 0, 0, 0, 0, 0, 0, 0, 0, 0, 0, 0, 0, 0, 0, 0, 0, 0, 0, 0, 0, 0, 0, 0, 0, 0, 0]}\n"
     ]
    }
   ],
   "source": [
    "print(fingerprints[0])"
   ]
  },
  {
   "cell_type": "code",
   "execution_count": 39,
   "id": "82ab474c",
   "metadata": {},
   "outputs": [],
   "source": [
    "#determine the largset similarity of explore reactions to all other 'normal' reactions\n",
    "largest, lengths, all_distances, explore_reactions = fings.split_sim(reactions)"
   ]
  },
  {
   "cell_type": "code",
   "execution_count": 11,
   "metadata": {},
   "outputs": [],
   "source": [
    "stock_file = '/data/localhost/not-backed-up/mokaya/exscientia/aizynthfinder/aizynthfinder/data/molport_blocks_stock.hdf5'\n",
    "stock = pd.read_hdf(stock_file, 'table')\n",
    "stock_inchis = stock['inchi_key'].tolist()"
   ]
  },
  {
   "cell_type": "code",
   "execution_count": 12,
   "metadata": {},
   "outputs": [
    {
     "output_type": "stream",
     "name": "stdout",
     "text": [
      "485828\n"
     ]
    }
   ],
   "source": [
    "print(len(stock_inchis))"
   ]
  },
  {
   "cell_type": "code",
   "execution_count": 40,
   "metadata": {},
   "outputs": [],
   "source": [
    "explore_rxn_trees = [ReactionTree.from_dict(i.get('reaction')) for i in explore_reactions]\n",
    "\n",
    "costs = mutils.calculate_route_cost(explore_rxn_trees, stock_inchis, stock)"
   ]
  },
  {
   "cell_type": "code",
   "execution_count": 41,
   "metadata": {},
   "outputs": [],
   "source": [
    "nan_mean = np.nanmean(costs)\n",
    "costs = [nan_mean if np.isnan(i) else i for i in costs]"
   ]
  },
  {
   "cell_type": "code",
   "execution_count": 42,
   "metadata": {
    "tags": []
   },
   "outputs": [],
   "source": [
    "for index, i in enumerate(explore_reactions):\n",
    "    i['cost'] = costs[index]\n",
    "    "
   ]
  },
  {
   "cell_type": "code",
   "execution_count": null,
   "metadata": {},
   "outputs": [],
   "source": []
  },
  {
   "cell_type": "code",
   "execution_count": 21,
   "metadata": {},
   "outputs": [
    {
     "output_type": "stream",
     "name": "stdout",
     "text": [
      "{'molecule': 0, 'index': 10, 'reaction': {'type': 'mol', 'hide': False, 'smiles': 'CN1CCN(C2Cn3cccc3Sc3ccc(Cl)cc32)CC1', 'is_chemical': True, 'in_stock': False, 'children': [{'type': 'reaction', 'hide': False, 'smiles': '[C:1][NH2:2]>>O=[C:1][NH2:2]', 'is_reaction': True, 'metadata': {'template_hash': '741ea9ca823b25f0e17ec44f4af7b5febf2f3d637a0b1e851f7bf2a3', 'classification': 'Unassigned', 'library_occurence': 100, 'policy_probability': 0.0003000000142492354, 'policy_name': 'uspto', 'template_code': 21328}, 'children': [{'type': 'mol', 'hide': False, 'smiles': 'O=CN1CCN(C2Cn3cccc3Sc3ccc(Cl)cc32)CC1', 'is_chemical': True, 'in_stock': False, 'children': [{'type': 'reaction', 'hide': False, 'smiles': '[C:1]([CH3:2])([cH3:3])[N:5]([CH3:4])[CH3:6]>>O=[C:1]([CH3:2])[cH3:3].[CH3:4][N:5][CH3:6]', 'is_reaction': True, 'metadata': {'template_hash': 'e2c3ee5da9aa9675ad987be40beb5130d31e54544c07aad9093e3547', 'classification': 'Reductive amination', 'library_occurence': 82, 'policy_probability': 0.010499999858438969, 'policy_name': 'uspto', 'template_code': 41471}, 'children': [{'type': 'mol', 'hide': False, 'smiles': 'O=C1Cn2cccc2Sc2ccc(Cl)cc21', 'is_chemical': True, 'in_stock': False, 'children': [{'type': 'reaction', 'hide': False, 'smiles': '[C:1]([CH3:2])(=[O:3])[c:5]([cH2:4])[cH2:6]>>(O=[C:1]([CH3:2])[O:3].[cH2:4][c:5][cH2:6])', 'is_reaction': True, 'metadata': {'template_hash': '9a5276992ccda13b6431b631a7a99deea628d1ae4a1226bec315ced4', 'classification': 'Unassigned', 'library_occurence': 295, 'policy_probability': 0.23999999463558197, 'policy_name': 'uspto', 'template_code': 28239}, 'children': [{'type': 'mol', 'hide': False, 'smiles': 'O=C(O)Cn1cccc1Sc1ccc(Cl)cc1', 'is_chemical': True, 'in_stock': False, 'children': [{'type': 'reaction', 'hide': False, 'smiles': '[O:1][C:2]([CH3:3])=[O:4]>>CC[O:1][C:2]([CH3:3])=[O:4]', 'is_reaction': True, 'metadata': {'template_hash': '9a4c5ceadb3b4a753bb8f03491f138cd875a84f1d327e818237f90df', 'classification': 'RCO2H deprotections', 'library_occurence': 9599, 'policy_probability': 0.6650000214576721, 'policy_name': 'uspto', 'template_code': 28233}, 'children': [{'type': 'mol', 'hide': False, 'smiles': 'CCOC(=O)Cn1cccc1Sc1ccc(Cl)cc1', 'is_chemical': True, 'in_stock': False, 'children': [{'type': 'reaction', 'hide': False, 'smiles': '[C:1]([C:2](=[O:3])[O:4][CH2:5][CH3:6])[n:8]([cH2:7])[cH2:9]>>Br[C:1][C:2](=[O:3])[O:4][CH2:5][CH3:6].[cH2:7][n:8][cH2:9]', 'is_reaction': True, 'metadata': {'template_hash': '49c1628032788008e8b4aa844c67dfa3dc3da53c87bef32faff5e68f', 'classification': 'Heteroaryl N-alkylation', 'library_occurence': 104, 'policy_probability': 0.8719000220298767, 'policy_name': 'uspto', 'template_code': 13522}, 'children': [{'type': 'mol', 'hide': False, 'smiles': 'CCOC(=O)CBr', 'is_chemical': True, 'in_stock': True}, {'type': 'mol', 'hide': False, 'smiles': 'Clc1ccc(Sc2ccc[nH]2)cc1', 'is_chemical': True, 'in_stock': False, 'children': [{'type': 'reaction', 'hide': False, 'smiles': '[S:1]([cH3:2])[c:4](:[NH:3])[cH2:5]>>Cl[S:1][cH3:2].[NH:3]:[c:4][cH2:5]', 'is_reaction': True, 'metadata': {'template_hash': 'cca685540fa090059d4b84008cff5859b106a1b153e3a038da801bc9', 'classification': 'Unassigned', 'library_occurence': 13, 'policy_probability': 0.8452000021934509, 'policy_name': 'uspto', 'template_code': 37427}, 'children': [{'type': 'mol', 'hide': False, 'smiles': 'ClSc1ccc(Cl)cc1', 'is_chemical': True, 'in_stock': False, 'children': [{'type': 'reaction', 'hide': False, 'smiles': '[Cl:1][S:2][cH3:3]>>O=C1CCC(=O)N1[Cl:1].[S:2][cH3:3]', 'is_reaction': True, 'metadata': {'template_hash': '69b86575f88b9f0c270424306fd5889c8e4ec122f68301130afe06ca', 'classification': 'Halogenation', 'library_occurence': 11, 'policy_probability': 0.6385999917984009, 'policy_name': 'uspto', 'template_code': 19446}, 'children': [{'type': 'mol', 'hide': False, 'smiles': 'O=C1CCC(=O)N1Cl', 'is_chemical': True, 'in_stock': True}, {'type': 'mol', 'hide': False, 'smiles': 'Sc1ccc(Cl)cc1', 'is_chemical': True, 'in_stock': True}]}]}, {'type': 'mol', 'hide': False, 'smiles': 'c1cc[nH]c1', 'is_chemical': True, 'in_stock': True}]}]}]}]}]}]}]}]}, {'type': 'mol', 'hide': False, 'smiles': 'O=CN1CCNCC1', 'is_chemical': True, 'in_stock': True}]}]}]}]}, 'type': 'explore', 'fingerprint': [1, 1, 1, 1, 1, 1, 0, 0, 0, 0, 0, 0, 0, 0, 0, 0, 0, 1, 0, 0, 0, 0, 0, 0, 0, 0, 0, 0, 0, 0, 0, 0, 0, 0, 0, 0, 0, 0, 0, 0, 0, 0, 0, 0, 0, 0, 0, 0, 0, 0, 0, 0, 0, 0, 0, 0, 0, 0, 0, 0, 0, 0, 0, 0, 0, 0, 0, 0, 0, 0, 0, 0, 0, 0, 0, 0, 0, 0, 0, 0, 0, 0, 0, 0, 0, 0, 0, 0, 0, 0, 0, 0, 0, 0, 0, 0, 0, 0, 0, 0, 0, 0, 0, 0, 0, 0, 0, 0, 0, 0, 0, 0, 0, 0, 0, 0, 0, 0, 0, 0, 0, 0, 0, 0, 0, 0, 0, 0, 0, 0, 0, 0, 0, 0, 0, 0, 0, 0, 0, 0, 0, 0, 0, 0, 0, 0, 0, 0, 0, 0, 0, 0, 0, 0, 0, 0, 0, 0, 0, 0, 0, 0, 0, 0, 0, 0, 0, 0, 0, 0, 0, 0, 0, 0, 0, 0, 0, 0, 0, 0, 0, 0, 0, 0, 0, 0, 0, 0, 0, 0, 0, 0, 0, 0, 0, 0, 0, 0, 0, 0, 0, 0, 0, 0, 0, 0, 0, 0, 0, 0, 0, 0, 0, 0, 0, 0, 0, 0, 0, 0, 0, 0, 0, 0, 0, 0, 0, 0, 0, 0, 0, 0, 0, 0, 0, 0, 0, 0, 0, 0, 0, 0, 0], 'largest': 0.9958847736625515, 'cost': 12.838147513170583}\n"
     ]
    }
   ],
   "source": [
    "print(explore_reactions[10])"
   ]
  },
  {
   "cell_type": "code",
   "execution_count": 43,
   "metadata": {},
   "outputs": [],
   "source": [
    "plot_largest = [i.get('largest') for i in explore_reactions]\n",
    "plot_costs = [i.get('cost') for i in explore_reactions]"
   ]
  },
  {
   "cell_type": "code",
   "execution_count": 22,
   "metadata": {},
   "outputs": [
    {
     "output_type": "stream",
     "name": "stdout",
     "text": [
      "64\n"
     ]
    }
   ],
   "source": [
    "opt_reactions = [i.get('reaction') for i in explore_reactions if (i.get('largest') < 1.0 and i.get('cost') < 25.0)]\n",
    "print(len(opt_reactions))\n",
    "\n",
    "for i in opt_reactions:\n",
    "    jsons = []\n",
    "    jsons.append(ReactionTree.from_dict(i).to_json)\n",
    "\n",
    "# save reaction trees to JSON file as dict under 'reaction trees': \n",
    "\n",
    "data_json = {\n",
    "    'reaction trees': opt_reactions\n",
    "}\n",
    "\n",
    "with open('/data/localhost/not-backed-up/mokaya/exscientia/aizynthfinder/Maranga/experiments/target_2/results/tg2_exp_u25_solved.json', 'w') as outfile:\n",
    "    json.dump(data_json, outfile)"
   ]
  },
  {
   "cell_type": "code",
   "execution_count": 20,
   "metadata": {
    "tags": []
   },
   "outputs": [
    {
     "output_type": "stream",
     "name": "stdout",
     "text": [
      "Index:  1\n",
      "Index:  2\n",
      "Index:  3\n",
      "Index:  4\n",
      "Index:  5\n",
      "Index:  6\n",
      "Index:  7\n",
      "Index:  8\n",
      "Index:  9\n"
     ]
    }
   ],
   "source": [
    "# get all the results for reactions that are the same length\n",
    "\n",
    "largest = []\n",
    "lengths = []\n",
    "distances = []\n",
    "all_numbers = []\n",
    "for i in range(1, 10):\n",
    "    print('Index: ', i)\n",
    "    number = [x for x in fingerprints if (get_length(x.get('fingerprint')) == i)]\n",
    "    all_numbers.extend(number)\n",
    "    lar, lens, dist = fings.split_sim(number)\n",
    "    largest.extend(lar)\n",
    "    lengths.extend(lens)\n",
    "    distances.extend(dist)"
   ]
  },
  {
   "cell_type": "code",
   "execution_count": 13,
   "metadata": {},
   "outputs": [],
   "source": [
    "five = [i for i in fingerprints if get_length(i.get('fingerprint')) == 5]\n",
    "\n",
    "la5, le5, d5 = fings.split_sim(five)"
   ]
  },
  {
   "cell_type": "code",
   "execution_count": 21,
   "metadata": {},
   "outputs": [],
   "source": [
    "odd_la, odd_le, odd_dist = fings.split_sim(all_numbers)"
   ]
  },
  {
   "cell_type": "code",
   "execution_count": 69,
   "metadata": {
    "tags": []
   },
   "outputs": [],
   "source": [
    "five_e = [i for i in five if i.get('type') == 'explore']\n",
    "five_s = [i for i in five if i.get('type') == 'normal']\n",
    "\n",
    "for index, i in enumerate(five_e):\n",
    "    f = i.get('fingerprint')\n",
    "    for index2, p in enumerate(five_s):\n",
    "        count = 0\n",
    "        f2 = p.get('fingerprint')\n",
    "        for z,v in zip(f, f2):\n",
    "            if z == v:\n",
    "                count+= 1\n",
    "        if count == 0:\n",
    "            print(index)\n",
    "            print(index2)\n",
    "            print('new')"
   ]
  },
  {
   "cell_type": "code",
   "execution_count": 53,
   "metadata": {},
   "outputs": [],
   "source": [
    "e_fingerprints = [i for i in fingerprints if i.get('type') == 'explore']\n",
    "s_fingerprints = [i for i in fingerprints if i.get('type') == 'normal']"
   ]
  },
  {
   "cell_type": "code",
   "execution_count": 87,
   "metadata": {
    "tags": []
   },
   "outputs": [
    {
     "output_type": "stream",
     "name": "stdout",
     "text": [
      "0\n1\n17\n18\n19\n20\n21\n22\n23\n24\n25\n26\n27\n28\n29\n30\n31\n32\n33\n34\n35\n36\n37\n38\n39\n53\n54\n55\n56\n57\n58\n59\n60\n61\n62\n63\n64\n65\n66\n67\n68\n69\n70\n71\n72\n73\n74\n83\n84\n85\n86\n87\n88\n89\n90\n91\n92\n102\n103\n104\n105\n106\n107\n108\n109\n110\n111\n112\n113\n114\n115\n116\n117\n118\n119\n120\n121\n122\n123\n127\n128\n129\n130\n131\n132\n133\n134\n135\n139\n140\n141\n142\n143\n144\n145\n146\n147\n148\n149\n"
     ]
    }
   ],
   "source": [
    "for index, i in enumerate(e_fingerprints[50:200]):\n",
    "    rxn_fp = i.get('fingerprint')\n",
    "    t = 0\n",
    "    for p in rxn_fp:\n",
    "        if p != 0:\n",
    "            t += 1\n",
    "    \n",
    "    \n",
    "    \n",
    "    if t == 2:\n",
    "        print(index)"
   ]
  },
  {
   "cell_type": "code",
   "execution_count": 52,
   "metadata": {},
   "outputs": [
    {
     "output_type": "stream",
     "name": "stdout",
     "text": [
      "5\n24\n25\n26\n"
     ]
    }
   ],
   "source": [
    "item_fp = e_fingerprints[52].get('fingerprint')\n",
    "for index, it in enumerate(item_fp):\n",
    "    if it != 0:\n",
    "        print(index)"
   ]
  },
  {
   "cell_type": "code",
   "execution_count": 93,
   "metadata": {},
   "outputs": [],
   "source": [
    "e_fing_two = []\n",
    "for i in e_fingerprints:\n",
    "    _fp = i.get('fingerprint')\n",
    "    t = 0\n",
    "    for p in _fp:\n",
    "        if p != 0:\n",
    "            t += 1\n",
    "    \n",
    "    \n",
    "    \n",
    "    if t == 2:\n",
    "        e_fing_two.append(i)\n",
    "    "
   ]
  },
  {
   "cell_type": "code",
   "execution_count": 94,
   "metadata": {},
   "outputs": [],
   "source": [
    "e_fing_two.append(s_fingerprints[88])"
   ]
  },
  {
   "cell_type": "code",
   "execution_count": 80,
   "metadata": {},
   "outputs": [
    {
     "output_type": "stream",
     "name": "stdout",
     "text": [
      "None\n"
     ]
    }
   ],
   "source": []
  },
  {
   "cell_type": "code",
   "execution_count": 68,
   "metadata": {},
   "outputs": [
    {
     "output_type": "stream",
     "name": "stdout",
     "text": [
      "1485\n"
     ]
    }
   ],
   "source": [
    "print(len(rxns_teste))"
   ]
  },
  {
   "cell_type": "code",
   "execution_count": 95,
   "metadata": {},
   "outputs": [],
   "source": [
    "larg_sub, len_sub, all_dist_sub = fings.split_sim(e_fing_two)"
   ]
  },
  {
   "cell_type": "code",
   "execution_count": 96,
   "metadata": {},
   "outputs": [
    {
     "output_type": "stream",
     "name": "stdout",
     "text": [
      "{0.9883720930232558, 0.9806201550387597}\n"
     ]
    }
   ],
   "source": [
    "print(set(all_dist_sub))"
   ]
  },
  {
   "cell_type": "code",
   "execution_count": 98,
   "metadata": {
    "tags": []
   },
   "outputs": [
    {
     "output_type": "stream",
     "name": "stdout",
     "text": [
      "0\n4\n5\n7\n8\n9\n10\n11\n12\n13\n14\n15\n16\n17\n19\n20\n21\n22\n23\n26\n31\n32\n33\n34\n35\n36\n37\n38\n39\n40\n41\n46\n49\n50\n51\n52\n53\n54\n55\n56\n57\n58\n59\n60\n61\n64\n65\n70\n73\n74\n75\n76\n77\n78\n79\n80\n81\n82\n83\n84\n95\n96\n97\n98\n102\n104\n107\n109\n110\n111\n112\n113\n114\n115\n116\n126\n127\n128\n131\n132\n134\n135\n138\n141\n142\n143\n144\n145\n146\n147\n156\n157\n158\n159\n160\n161\n163\n164\n169\n170\n171\n172\n173\n174\n175\n176\n177\n178\n179\n180\n181\n182\n184\n185\n186\n187\n188\n189\n190\n191\n192\n193\n194\n195\n201\n202\n203\n204\n205\n206\n207\n208\n210\n212\n213\n214\n215\n216\n217\n218\n219\n220\n221\n222\n223\n224\n227\n228\n229\n230\n231\n232\n233\n234\n235\n261\n263\n266\n267\n268\n271\n272\n273\n274\n275\n276\n277\n278\n279\n280\n281\n282\n285\n286\n287\n290\n291\n292\n293\n294\n295\n296\n297\n298\n301\n302\n303\n304\n305\n306\n307\n308\n309\n310\n311\n312\n313\n314\n315\n316\n317\n318\n319\n322\n323\n324\n325\n328\n330\n331\n332\n333\n338\n339\n342\n343\n344\n345\n346\n347\n348\n352\n353\n354\n355\n356\n357\n358\n359\n360\n361\n362\n363\n364\n365\n366\n367\n368\n369\n370\n372\n374\n375\n376\n377\n378\n379\n380\n381\n382\n383\n384\n400\n401\n402\n403\n405\n406\n407\n408\n409\n410\n418\n422\n424\n425\n426\n428\n430\n432\n433\n434\n435\n436\n439\n440\n441\n444\n446\n449\n450\n451\n452\n453\n454\n455\n456\n457\n458\n459\n461\n462\n464\n465\n466\n473\n474\n475\n476\n477\n478\n481\n482\n485\n486\n487\n488\n489\n490\n491\n492\n493\n494\n495\n496\n497\n500\n501\n506\n507\n510\n513\n514\n515\n516\n517\n518\n519\n523\n526\n527\n528\n529\n530\n531\n532\n533\n534\n535\n539\n540\n541\n542\n543\n544\n545\n551\n552\n553\n554\n555\n556\n557\n558\n559\n560\n561\n562\n564\n565\n569\n570\n571\n572\n573\n575\n577\n579\n580\n583\n584\n585\n587\n588\n589\n591\n592\n594\n599\n606\n608\n609\n610\n611\n612\n613\n616\n619\n620\n621\n622\n623\n624\n625\n626\n627\n628\n629\n630\n631\n632\n633\n636\n637\n638\n639\n640\n641\n644\n645\n646\n647\n648\n649\n650\n651\n654\n655\n658\n659\n661\n662\n663\n664\n665\n666\n667\n668\n670\n671\n672\n674\n675\n676\n677\n678\n679\n680\n684\n688\n689\n690\n691\n692\n693\n694\n695\n696\n697\n698\n699\n700\n701\n702\n703\n704\n705\n706\n707\n712\n713\n714\n715\n733\n736\n739\n742\n743\n744\n745\n746\n750\n751\n752\n753\n754\n755\n759\n761\n763\n764\n765\n766\n767\n768\n769\n770\n773\n774\n775\n776\n781\n783\n784\n785\n786\n787\n788\n789\n"
     ]
    }
   ],
   "source": [
    "vals = []\n",
    "for ind, i in enumerate(all_dist_sub):\n",
    "    if i == 255/258:\n",
    "        print(ind)"
   ]
  },
  {
   "cell_type": "code",
   "execution_count": null,
   "metadata": {},
   "outputs": [],
   "source": [
    "print()"
   ]
  },
  {
   "cell_type": "code",
   "execution_count": 75,
   "metadata": {},
   "outputs": [
    {
     "output_type": "stream",
     "name": "stdout",
     "text": [
      "[0.9883720930232558, 0.9883720930232558, 0.9883720930232558, 0.9883720930232558, 0.9883720930232558, 0.9883720930232558, 0.9883720930232558, 0.9883720930232558, 0.9883720930232558, 0.9883720930232558]\n"
     ]
    }
   ],
   "source": [
    "print(all_dist_sub[:10])"
   ]
  },
  {
   "cell_type": "code",
   "execution_count": 100,
   "metadata": {},
   "outputs": [],
   "source": [
    "# save picture of reaction\n",
    "e_tree = ReactionTree.from_dict(e_fing_two[12].get('reaction')).to_image().save('/data/localhost/not-backed-up/mokaya/exscientia/aizynthfinder/Maranga/experiments/price/results/images/figures/tg1_sub_example_2b_e.png')\n",
    "# s_tree = ReactionTree.from_dict(five_s[7].get('reaction')).to_image().save('/data/localhost/not-backed-up/mokaya/exscientia/aizynthfinder/Maranga/experiments/price/results/images/figures/ex_one_s_5(3).png')"
   ]
  },
  {
   "cell_type": "code",
   "execution_count": 33,
   "metadata": {},
   "outputs": [
    {
     "output_type": "stream",
     "name": "stdout",
     "text": [
      "['7d30de1baf17b3adffc5cb03e7ad551f26a20475d3a92733e82b7ab5', '677b2598725218cb04c751df543c67caf9bb1559fc14ca130453d8cb', 'd9381630c8affe1876dfcd902fbefe3e36835cf8e28617cc92c5e261', 'ace077327b65885e2493775e77cea5434d2da2918de8308af58629a6', '2808c54891d2ec97e49ef2bf07a2550b6ef29671d72f88f71a119e95', '8c06b827d9f644ced2afc4ca529ba35cf97a331927df42997aa2e424']\n"
     ]
    }
   ],
   "source": [
    "# return a list of reaction clasification from reaction\n",
    "print(list(mutils.findkeys(e_fingerprints[835].get('reaction'), 'template_hash')))\n",
    "#print(list(mutils.findkeys(five_s[7].get('reaction'), 'template_hash')))"
   ]
  },
  {
   "cell_type": "code",
   "execution_count": 1,
   "metadata": {},
   "outputs": [
    {
     "output_type": "error",
     "ename": "NameError",
     "evalue": "name 'min_distances' is not defined",
     "traceback": [
      "\u001b[0;31m---------------------------------------------------------------------------\u001b[0m",
      "\u001b[0;31mNameError\u001b[0m                                 Traceback (most recent call last)",
      "\u001b[0;32m<ipython-input-1-482649af2b88>\u001b[0m in \u001b[0;36m<module>\u001b[0;34m\u001b[0m\n\u001b[1;32m      5\u001b[0m \u001b[0;34m\u001b[0m\u001b[0m\n\u001b[1;32m      6\u001b[0m \u001b[0;34m\u001b[0m\u001b[0m\n\u001b[0;32m----> 7\u001b[0;31m \u001b[0mplt\u001b[0m\u001b[0;34m.\u001b[0m\u001b[0mhist\u001b[0m\u001b[0;34m(\u001b[0m\u001b[0mmin_distances\u001b[0m\u001b[0;34m)\u001b[0m\u001b[0;34m\u001b[0m\u001b[0;34m\u001b[0m\u001b[0m\n\u001b[0m\u001b[1;32m      8\u001b[0m \u001b[0;31m#plt.hist(largest)\u001b[0m\u001b[0;34m\u001b[0m\u001b[0;34m\u001b[0m\u001b[0;34m\u001b[0m\u001b[0m\n\u001b[1;32m      9\u001b[0m \u001b[0mplt\u001b[0m\u001b[0;34m.\u001b[0m\u001b[0mxlabel\u001b[0m\u001b[0;34m(\u001b[0m\u001b[0;34m'Distance'\u001b[0m\u001b[0;34m)\u001b[0m\u001b[0;34m\u001b[0m\u001b[0;34m\u001b[0m\u001b[0m\n",
      "\u001b[0;31mNameError\u001b[0m: name 'min_distances' is not defined"
     ]
    }
   ],
   "source": [
    "#plot SCATTER of all distances\n",
    "\n",
    "%matplotlib inline\n",
    "import matplotlib.pyplot as plt\n",
    "\n",
    "\n",
    "plt.hist(min_distances)\n",
    "#plt.hist(largest)\n",
    "plt.xlabel('Distance')\n",
    "plt.ylabel('Freq')\n",
    "#plt.ylim(0,100)\n",
    "#plt.savefig('/data/localhost/not-backed-up/mokaya/exscientia/aizynthfinder/Maranga/Images/tg1e3_split_lsim.png')\n",
    "plt.show()"
   ]
  },
  {
   "cell_type": "code",
   "execution_count": 6,
   "metadata": {
    "tags": []
   },
   "outputs": [
    {
     "output_type": "stream",
     "name": "stdout",
     "text": [
      "{'molecule': 0, 'index': 1, 'reaction': {'type': 'mol', 'hide': False, 'smiles': 'O=S(=O)(NCC(c1ccco1)N1CCN(c2ccccc2)CC1)c1ccccc1', 'is_chemical': True, 'in_stock': False, 'children': [{'type': 'reaction', 'hide': False, 'smiles': '[c:1]([cH2:2])[cH2:3]>>Cl[c:1]([cH2:2])[cH2:3]', 'is_reaction': True, 'metadata': {'template_hash': '9860ae00c69ec5f62a57f92b2877531856501cab10bf169231c3b9a0', 'classification': 'Other functional group interconversion', 'library_occurence': 197, 'policy_probability': 0.0006000000284984708, 'policy_name': 'uspto', 'template_code': 27892}, 'children': [{'type': 'mol', 'hide': False, 'smiles': 'O=S(=O)(NCC(c1ccco1)N1CCN(c2ccccc2)CC1)c1ccc(Cl)cc1', 'is_chemical': True, 'in_stock': True}]}]}, 'type': 'explore'}\n1145\n"
     ]
    }
   ],
   "source": [
    "print(reactions_e[1])\n",
    "print(len(reactions_e))"
   ]
  },
  {
   "cell_type": "code",
   "execution_count": 16,
   "metadata": {},
   "outputs": [
    {
     "output_type": "stream",
     "name": "stdout",
     "text": [
      "Print lengh of reaction vector:  173\nPrint lengh of reaction vector:  205\n"
     ]
    }
   ],
   "source": [
    "rxns_s = fings.generate_fingerprints(reactions_s)\n",
    "rxns_e = fings.generate_fingerprints(reactions_e)\n"
   ]
  },
  {
   "cell_type": "code",
   "execution_count": 12,
   "metadata": {},
   "outputs": [
    {
     "output_type": "stream",
     "name": "stdout",
     "text": [
      "{0.9942196531791907, 1.0}\n"
     ]
    }
   ],
   "source": [
    "print(set(largest))"
   ]
  },
  {
   "cell_type": "code",
   "execution_count": 13,
   "metadata": {},
   "outputs": [
    {
     "output_type": "stream",
     "name": "stdout",
     "text": [
      "{0, 1, 2, 3, 4, 5, 6, 7, 8}\n"
     ]
    }
   ],
   "source": [
    "print(set(lengths))"
   ]
  },
  {
   "cell_type": "code",
   "execution_count": 27,
   "metadata": {},
   "outputs": [
    {
     "output_type": "stream",
     "name": "stdout",
     "text": [
      "INDEX:  835\nlar:  0.9767441860465116\nlen:  6\n"
     ]
    }
   ],
   "source": [
    "for index, (x, y) in enumerate(zip(largest, lengths)):\n",
    "    if (y == 6 and x < 0.98):\n",
    "        print('INDEX: ', index)\n",
    "        print('lar: ', x)\n",
    "        print('len: ', y)"
   ]
  },
  {
   "cell_type": "code",
   "execution_count": null,
   "metadata": {},
   "outputs": [],
   "source": []
  },
  {
   "cell_type": "code",
   "execution_count": 37,
   "metadata": {},
   "outputs": [
    {
     "output_type": "stream",
     "name": "stdout",
     "text": [
      "{0.9961240310077519, 1.0, 0.9922480620155039, 0.9883720930232558, 0.9767441860465116, 0.9806201550387597}\n{0.9883720930232558, 0.9767441860465116, 0.9922480620155039, 0.9806201550387597, 0.9844961240310077, 0.9728682170542635, 0.9689922480620154, 0.9961240310077519, 0.9651162790697675, 1.0, 0.9612403100775194, 0.9573643410852714, 0.9534883720930233, 0.9496124031007752}\n6\n"
     ]
    }
   ],
   "source": [
    "print((set(largest)))\n",
    "print((set(all_distances)))\n",
    "print(max(lengths))"
   ]
  },
  {
   "cell_type": "code",
   "execution_count": null,
   "metadata": {},
   "outputs": [],
   "source": [
    "# find a pair of reactions that are the same + same length\n",
    "five = [i for i in ]"
   ]
  },
  {
   "cell_type": "code",
   "execution_count": 10,
   "metadata": {},
   "outputs": [
    {
     "output_type": "display_data",
     "data": {
      "text/plain": "<Figure size 432x288 with 1 Axes>",
      "image/svg+xml": "<?xml version=\"1.0\" encoding=\"utf-8\" standalone=\"no\"?>\n<!DOCTYPE svg PUBLIC \"-//W3C//DTD SVG 1.1//EN\"\n  \"http://www.w3.org/Graphics/SVG/1.1/DTD/svg11.dtd\">\n<!-- Created with matplotlib (https://matplotlib.org/) -->\n<svg height=\"262.19625pt\" version=\"1.1\" viewBox=\"0 0 388.965625 262.19625\" width=\"388.965625pt\" xmlns=\"http://www.w3.org/2000/svg\" xmlns:xlink=\"http://www.w3.org/1999/xlink\">\n <metadata>\n  <rdf:RDF xmlns:cc=\"http://creativecommons.org/ns#\" xmlns:dc=\"http://purl.org/dc/elements/1.1/\" xmlns:rdf=\"http://www.w3.org/1999/02/22-rdf-syntax-ns#\">\n   <cc:Work>\n    <dc:type rdf:resource=\"http://purl.org/dc/dcmitype/StillImage\"/>\n    <dc:date>2021-06-10T07:54:40.491312</dc:date>\n    <dc:format>image/svg+xml</dc:format>\n    <dc:creator>\n     <cc:Agent>\n      <dc:title>Matplotlib v3.3.4, https://matplotlib.org/</dc:title>\n     </cc:Agent>\n    </dc:creator>\n   </cc:Work>\n  </rdf:RDF>\n </metadata>\n <defs>\n  <style type=\"text/css\">*{stroke-linecap:butt;stroke-linejoin:round;}</style>\n </defs>\n <g id=\"figure_1\">\n  <g id=\"patch_1\">\n   <path d=\"M -0 262.19625 \nL 388.965625 262.19625 \nL 388.965625 0 \nL -0 0 \nz\n\" style=\"fill:none;\"/>\n  </g>\n  <g id=\"axes_1\">\n   <g id=\"patch_2\">\n    <path d=\"M 46.965625 224.64 \nL 381.765625 224.64 \nL 381.765625 7.2 \nL 46.965625 7.2 \nz\n\" style=\"fill:#ffffff;\"/>\n   </g>\n   <g id=\"patch_3\">\n    <path clip-path=\"url(#p17afa0f322)\" d=\"M 62.183807 224.64 \nL 92.62017 224.64 \nL 92.62017 215.920602 \nL 62.183807 215.920602 \nz\n\" style=\"fill:#1f77b4;\"/>\n   </g>\n   <g id=\"patch_4\">\n    <path clip-path=\"url(#p17afa0f322)\" d=\"M 92.62017 224.64 \nL 123.056534 224.64 \nL 123.056534 222.46015 \nL 92.62017 222.46015 \nz\n\" style=\"fill:#1f77b4;\"/>\n   </g>\n   <g id=\"patch_5\">\n    <path clip-path=\"url(#p17afa0f322)\" d=\"M 123.056534 224.64 \nL 153.492898 224.64 \nL 153.492898 222.46015 \nL 123.056534 222.46015 \nz\n\" style=\"fill:#1f77b4;\"/>\n   </g>\n   <g id=\"patch_6\">\n    <path clip-path=\"url(#p17afa0f322)\" d=\"M 153.492898 224.64 \nL 183.929261 224.64 \nL 183.929261 223.550075 \nL 153.492898 223.550075 \nz\n\" style=\"fill:#1f77b4;\"/>\n   </g>\n   <g id=\"patch_7\">\n    <path clip-path=\"url(#p17afa0f322)\" d=\"M 183.929261 224.64 \nL 214.365625 224.64 \nL 214.365625 220.280301 \nL 183.929261 220.280301 \nz\n\" style=\"fill:#1f77b4;\"/>\n   </g>\n   <g id=\"patch_8\">\n    <path clip-path=\"url(#p17afa0f322)\" d=\"M 214.365625 224.64 \nL 244.801989 224.64 \nL 244.801989 207.201203 \nL 214.365625 207.201203 \nz\n\" style=\"fill:#1f77b4;\"/>\n   </g>\n   <g id=\"patch_9\">\n    <path clip-path=\"url(#p17afa0f322)\" d=\"M 244.801989 224.64 \nL 275.238352 224.64 \nL 275.238352 213.740752 \nL 244.801989 213.740752 \nz\n\" style=\"fill:#1f77b4;\"/>\n   </g>\n   <g id=\"patch_10\">\n    <path clip-path=\"url(#p17afa0f322)\" d=\"M 275.238352 224.64 \nL 305.674716 224.64 \nL 305.674716 202.841504 \nL 275.238352 202.841504 \nz\n\" style=\"fill:#1f77b4;\"/>\n   </g>\n   <g id=\"patch_11\">\n    <path clip-path=\"url(#p17afa0f322)\" d=\"M 305.674716 224.64 \nL 336.11108 224.64 \nL 336.11108 193.03218 \nL 305.674716 193.03218 \nz\n\" style=\"fill:#1f77b4;\"/>\n   </g>\n   <g id=\"patch_12\">\n    <path clip-path=\"url(#p17afa0f322)\" d=\"M 336.11108 224.64 \nL 366.547443 224.64 \nL 366.547443 17.554286 \nL 336.11108 17.554286 \nz\n\" style=\"fill:#1f77b4;\"/>\n   </g>\n   <g id=\"matplotlib.axis_1\">\n    <g id=\"xtick_1\">\n     <g id=\"line2d_1\">\n      <defs>\n       <path d=\"M 0 0 \nL 0 3.5 \n\" id=\"m3ea80c9a4a\" style=\"stroke:#000000;stroke-width:0.8;\"/>\n      </defs>\n      <g>\n       <use style=\"stroke:#000000;stroke-width:0.8;\" x=\"97.600666\" xlink:href=\"#m3ea80c9a4a\" y=\"224.64\"/>\n      </g>\n     </g>\n     <g id=\"text_1\">\n      <!-- 0.96 -->\n      <g transform=\"translate(86.467854 239.238437)scale(0.1 -0.1)\">\n       <defs>\n        <path d=\"M 31.78125 66.40625 \nQ 24.171875 66.40625 20.328125 58.90625 \nQ 16.5 51.421875 16.5 36.375 \nQ 16.5 21.390625 20.328125 13.890625 \nQ 24.171875 6.390625 31.78125 6.390625 \nQ 39.453125 6.390625 43.28125 13.890625 \nQ 47.125 21.390625 47.125 36.375 \nQ 47.125 51.421875 43.28125 58.90625 \nQ 39.453125 66.40625 31.78125 66.40625 \nz\nM 31.78125 74.21875 \nQ 44.046875 74.21875 50.515625 64.515625 \nQ 56.984375 54.828125 56.984375 36.375 \nQ 56.984375 17.96875 50.515625 8.265625 \nQ 44.046875 -1.421875 31.78125 -1.421875 \nQ 19.53125 -1.421875 13.0625 8.265625 \nQ 6.59375 17.96875 6.59375 36.375 \nQ 6.59375 54.828125 13.0625 64.515625 \nQ 19.53125 74.21875 31.78125 74.21875 \nz\n\" id=\"DejaVuSans-48\"/>\n        <path d=\"M 10.6875 12.40625 \nL 21 12.40625 \nL 21 0 \nL 10.6875 0 \nz\n\" id=\"DejaVuSans-46\"/>\n        <path d=\"M 10.984375 1.515625 \nL 10.984375 10.5 \nQ 14.703125 8.734375 18.5 7.8125 \nQ 22.3125 6.890625 25.984375 6.890625 \nQ 35.75 6.890625 40.890625 13.453125 \nQ 46.046875 20.015625 46.78125 33.40625 \nQ 43.953125 29.203125 39.59375 26.953125 \nQ 35.25 24.703125 29.984375 24.703125 \nQ 19.046875 24.703125 12.671875 31.3125 \nQ 6.296875 37.9375 6.296875 49.421875 \nQ 6.296875 60.640625 12.9375 67.421875 \nQ 19.578125 74.21875 30.609375 74.21875 \nQ 43.265625 74.21875 49.921875 64.515625 \nQ 56.59375 54.828125 56.59375 36.375 \nQ 56.59375 19.140625 48.40625 8.859375 \nQ 40.234375 -1.421875 26.421875 -1.421875 \nQ 22.703125 -1.421875 18.890625 -0.6875 \nQ 15.09375 0.046875 10.984375 1.515625 \nz\nM 30.609375 32.421875 \nQ 37.25 32.421875 41.125 36.953125 \nQ 45.015625 41.5 45.015625 49.421875 \nQ 45.015625 57.28125 41.125 61.84375 \nQ 37.25 66.40625 30.609375 66.40625 \nQ 23.96875 66.40625 20.09375 61.84375 \nQ 16.21875 57.28125 16.21875 49.421875 \nQ 16.21875 41.5 20.09375 36.953125 \nQ 23.96875 32.421875 30.609375 32.421875 \nz\n\" id=\"DejaVuSans-57\"/>\n        <path d=\"M 33.015625 40.375 \nQ 26.375 40.375 22.484375 35.828125 \nQ 18.609375 31.296875 18.609375 23.390625 \nQ 18.609375 15.53125 22.484375 10.953125 \nQ 26.375 6.390625 33.015625 6.390625 \nQ 39.65625 6.390625 43.53125 10.953125 \nQ 47.40625 15.53125 47.40625 23.390625 \nQ 47.40625 31.296875 43.53125 35.828125 \nQ 39.65625 40.375 33.015625 40.375 \nz\nM 52.59375 71.296875 \nL 52.59375 62.3125 \nQ 48.875 64.0625 45.09375 64.984375 \nQ 41.3125 65.921875 37.59375 65.921875 \nQ 27.828125 65.921875 22.671875 59.328125 \nQ 17.53125 52.734375 16.796875 39.40625 \nQ 19.671875 43.65625 24.015625 45.921875 \nQ 28.375 48.1875 33.59375 48.1875 \nQ 44.578125 48.1875 50.953125 41.515625 \nQ 57.328125 34.859375 57.328125 23.390625 \nQ 57.328125 12.15625 50.6875 5.359375 \nQ 44.046875 -1.421875 33.015625 -1.421875 \nQ 20.359375 -1.421875 13.671875 8.265625 \nQ 6.984375 17.96875 6.984375 36.375 \nQ 6.984375 53.65625 15.1875 63.9375 \nQ 23.390625 74.21875 37.203125 74.21875 \nQ 40.921875 74.21875 44.703125 73.484375 \nQ 48.484375 72.75 52.59375 71.296875 \nz\n\" id=\"DejaVuSans-54\"/>\n       </defs>\n       <use xlink:href=\"#DejaVuSans-48\"/>\n       <use x=\"63.623047\" xlink:href=\"#DejaVuSans-46\"/>\n       <use x=\"95.410156\" xlink:href=\"#DejaVuSans-57\"/>\n       <use x=\"159.033203\" xlink:href=\"#DejaVuSans-54\"/>\n      </g>\n     </g>\n    </g>\n    <g id=\"xtick_2\">\n     <g id=\"line2d_2\">\n      <g>\n       <use style=\"stroke:#000000;stroke-width:0.8;\" x=\"164.837361\" xlink:href=\"#m3ea80c9a4a\" y=\"224.64\"/>\n      </g>\n     </g>\n     <g id=\"text_2\">\n      <!-- 0.97 -->\n      <g transform=\"translate(153.704548 239.238437)scale(0.1 -0.1)\">\n       <defs>\n        <path d=\"M 8.203125 72.90625 \nL 55.078125 72.90625 \nL 55.078125 68.703125 \nL 28.609375 0 \nL 18.3125 0 \nL 43.21875 64.59375 \nL 8.203125 64.59375 \nz\n\" id=\"DejaVuSans-55\"/>\n       </defs>\n       <use xlink:href=\"#DejaVuSans-48\"/>\n       <use x=\"63.623047\" xlink:href=\"#DejaVuSans-46\"/>\n       <use x=\"95.410156\" xlink:href=\"#DejaVuSans-57\"/>\n       <use x=\"159.033203\" xlink:href=\"#DejaVuSans-55\"/>\n      </g>\n     </g>\n    </g>\n    <g id=\"xtick_3\">\n     <g id=\"line2d_3\">\n      <g>\n       <use style=\"stroke:#000000;stroke-width:0.8;\" x=\"232.074055\" xlink:href=\"#m3ea80c9a4a\" y=\"224.64\"/>\n      </g>\n     </g>\n     <g id=\"text_3\">\n      <!-- 0.98 -->\n      <g transform=\"translate(220.941242 239.238437)scale(0.1 -0.1)\">\n       <defs>\n        <path d=\"M 31.78125 34.625 \nQ 24.75 34.625 20.71875 30.859375 \nQ 16.703125 27.09375 16.703125 20.515625 \nQ 16.703125 13.921875 20.71875 10.15625 \nQ 24.75 6.390625 31.78125 6.390625 \nQ 38.8125 6.390625 42.859375 10.171875 \nQ 46.921875 13.96875 46.921875 20.515625 \nQ 46.921875 27.09375 42.890625 30.859375 \nQ 38.875 34.625 31.78125 34.625 \nz\nM 21.921875 38.8125 \nQ 15.578125 40.375 12.03125 44.71875 \nQ 8.5 49.078125 8.5 55.328125 \nQ 8.5 64.0625 14.71875 69.140625 \nQ 20.953125 74.21875 31.78125 74.21875 \nQ 42.671875 74.21875 48.875 69.140625 \nQ 55.078125 64.0625 55.078125 55.328125 \nQ 55.078125 49.078125 51.53125 44.71875 \nQ 48 40.375 41.703125 38.8125 \nQ 48.828125 37.15625 52.796875 32.3125 \nQ 56.78125 27.484375 56.78125 20.515625 \nQ 56.78125 9.90625 50.3125 4.234375 \nQ 43.84375 -1.421875 31.78125 -1.421875 \nQ 19.734375 -1.421875 13.25 4.234375 \nQ 6.78125 9.90625 6.78125 20.515625 \nQ 6.78125 27.484375 10.78125 32.3125 \nQ 14.796875 37.15625 21.921875 38.8125 \nz\nM 18.3125 54.390625 \nQ 18.3125 48.734375 21.84375 45.5625 \nQ 25.390625 42.390625 31.78125 42.390625 \nQ 38.140625 42.390625 41.71875 45.5625 \nQ 45.3125 48.734375 45.3125 54.390625 \nQ 45.3125 60.0625 41.71875 63.234375 \nQ 38.140625 66.40625 31.78125 66.40625 \nQ 25.390625 66.40625 21.84375 63.234375 \nQ 18.3125 60.0625 18.3125 54.390625 \nz\n\" id=\"DejaVuSans-56\"/>\n       </defs>\n       <use xlink:href=\"#DejaVuSans-48\"/>\n       <use x=\"63.623047\" xlink:href=\"#DejaVuSans-46\"/>\n       <use x=\"95.410156\" xlink:href=\"#DejaVuSans-57\"/>\n       <use x=\"159.033203\" xlink:href=\"#DejaVuSans-56\"/>\n      </g>\n     </g>\n    </g>\n    <g id=\"xtick_4\">\n     <g id=\"line2d_4\">\n      <g>\n       <use style=\"stroke:#000000;stroke-width:0.8;\" x=\"299.310749\" xlink:href=\"#m3ea80c9a4a\" y=\"224.64\"/>\n      </g>\n     </g>\n     <g id=\"text_4\">\n      <!-- 0.99 -->\n      <g transform=\"translate(288.177936 239.238437)scale(0.1 -0.1)\">\n       <use xlink:href=\"#DejaVuSans-48\"/>\n       <use x=\"63.623047\" xlink:href=\"#DejaVuSans-46\"/>\n       <use x=\"95.410156\" xlink:href=\"#DejaVuSans-57\"/>\n       <use x=\"159.033203\" xlink:href=\"#DejaVuSans-57\"/>\n      </g>\n     </g>\n    </g>\n    <g id=\"xtick_5\">\n     <g id=\"line2d_5\">\n      <g>\n       <use style=\"stroke:#000000;stroke-width:0.8;\" x=\"366.547443\" xlink:href=\"#m3ea80c9a4a\" y=\"224.64\"/>\n      </g>\n     </g>\n     <g id=\"text_5\">\n      <!-- 1.00 -->\n      <g transform=\"translate(355.414631 239.238437)scale(0.1 -0.1)\">\n       <defs>\n        <path d=\"M 12.40625 8.296875 \nL 28.515625 8.296875 \nL 28.515625 63.921875 \nL 10.984375 60.40625 \nL 10.984375 69.390625 \nL 28.421875 72.90625 \nL 38.28125 72.90625 \nL 38.28125 8.296875 \nL 54.390625 8.296875 \nL 54.390625 0 \nL 12.40625 0 \nz\n\" id=\"DejaVuSans-49\"/>\n       </defs>\n       <use xlink:href=\"#DejaVuSans-49\"/>\n       <use x=\"63.623047\" xlink:href=\"#DejaVuSans-46\"/>\n       <use x=\"95.410156\" xlink:href=\"#DejaVuSans-48\"/>\n       <use x=\"159.033203\" xlink:href=\"#DejaVuSans-48\"/>\n      </g>\n     </g>\n    </g>\n    <g id=\"text_6\">\n     <!-- Distances -->\n     <g transform=\"translate(189.898438 252.916562)scale(0.1 -0.1)\">\n      <defs>\n       <path d=\"M 19.671875 64.796875 \nL 19.671875 8.109375 \nL 31.59375 8.109375 \nQ 46.6875 8.109375 53.6875 14.9375 \nQ 60.6875 21.78125 60.6875 36.53125 \nQ 60.6875 51.171875 53.6875 57.984375 \nQ 46.6875 64.796875 31.59375 64.796875 \nz\nM 9.8125 72.90625 \nL 30.078125 72.90625 \nQ 51.265625 72.90625 61.171875 64.09375 \nQ 71.09375 55.28125 71.09375 36.53125 \nQ 71.09375 17.671875 61.125 8.828125 \nQ 51.171875 0 30.078125 0 \nL 9.8125 0 \nz\n\" id=\"DejaVuSans-68\"/>\n       <path d=\"M 9.421875 54.6875 \nL 18.40625 54.6875 \nL 18.40625 0 \nL 9.421875 0 \nz\nM 9.421875 75.984375 \nL 18.40625 75.984375 \nL 18.40625 64.59375 \nL 9.421875 64.59375 \nz\n\" id=\"DejaVuSans-105\"/>\n       <path d=\"M 44.28125 53.078125 \nL 44.28125 44.578125 \nQ 40.484375 46.53125 36.375 47.5 \nQ 32.28125 48.484375 27.875 48.484375 \nQ 21.1875 48.484375 17.84375 46.4375 \nQ 14.5 44.390625 14.5 40.28125 \nQ 14.5 37.15625 16.890625 35.375 \nQ 19.28125 33.59375 26.515625 31.984375 \nL 29.59375 31.296875 \nQ 39.15625 29.25 43.1875 25.515625 \nQ 47.21875 21.78125 47.21875 15.09375 \nQ 47.21875 7.46875 41.1875 3.015625 \nQ 35.15625 -1.421875 24.609375 -1.421875 \nQ 20.21875 -1.421875 15.453125 -0.5625 \nQ 10.6875 0.296875 5.421875 2 \nL 5.421875 11.28125 \nQ 10.40625 8.6875 15.234375 7.390625 \nQ 20.0625 6.109375 24.8125 6.109375 \nQ 31.15625 6.109375 34.5625 8.28125 \nQ 37.984375 10.453125 37.984375 14.40625 \nQ 37.984375 18.0625 35.515625 20.015625 \nQ 33.0625 21.96875 24.703125 23.78125 \nL 21.578125 24.515625 \nQ 13.234375 26.265625 9.515625 29.90625 \nQ 5.8125 33.546875 5.8125 39.890625 \nQ 5.8125 47.609375 11.28125 51.796875 \nQ 16.75 56 26.8125 56 \nQ 31.78125 56 36.171875 55.265625 \nQ 40.578125 54.546875 44.28125 53.078125 \nz\n\" id=\"DejaVuSans-115\"/>\n       <path d=\"M 18.3125 70.21875 \nL 18.3125 54.6875 \nL 36.8125 54.6875 \nL 36.8125 47.703125 \nL 18.3125 47.703125 \nL 18.3125 18.015625 \nQ 18.3125 11.328125 20.140625 9.421875 \nQ 21.96875 7.515625 27.59375 7.515625 \nL 36.8125 7.515625 \nL 36.8125 0 \nL 27.59375 0 \nQ 17.1875 0 13.234375 3.875 \nQ 9.28125 7.765625 9.28125 18.015625 \nL 9.28125 47.703125 \nL 2.6875 47.703125 \nL 2.6875 54.6875 \nL 9.28125 54.6875 \nL 9.28125 70.21875 \nz\n\" id=\"DejaVuSans-116\"/>\n       <path d=\"M 34.28125 27.484375 \nQ 23.390625 27.484375 19.1875 25 \nQ 14.984375 22.515625 14.984375 16.5 \nQ 14.984375 11.71875 18.140625 8.90625 \nQ 21.296875 6.109375 26.703125 6.109375 \nQ 34.1875 6.109375 38.703125 11.40625 \nQ 43.21875 16.703125 43.21875 25.484375 \nL 43.21875 27.484375 \nz\nM 52.203125 31.203125 \nL 52.203125 0 \nL 43.21875 0 \nL 43.21875 8.296875 \nQ 40.140625 3.328125 35.546875 0.953125 \nQ 30.953125 -1.421875 24.3125 -1.421875 \nQ 15.921875 -1.421875 10.953125 3.296875 \nQ 6 8.015625 6 15.921875 \nQ 6 25.140625 12.171875 29.828125 \nQ 18.359375 34.515625 30.609375 34.515625 \nL 43.21875 34.515625 \nL 43.21875 35.40625 \nQ 43.21875 41.609375 39.140625 45 \nQ 35.0625 48.390625 27.6875 48.390625 \nQ 23 48.390625 18.546875 47.265625 \nQ 14.109375 46.140625 10.015625 43.890625 \nL 10.015625 52.203125 \nQ 14.9375 54.109375 19.578125 55.046875 \nQ 24.21875 56 28.609375 56 \nQ 40.484375 56 46.34375 49.84375 \nQ 52.203125 43.703125 52.203125 31.203125 \nz\n\" id=\"DejaVuSans-97\"/>\n       <path d=\"M 54.890625 33.015625 \nL 54.890625 0 \nL 45.90625 0 \nL 45.90625 32.71875 \nQ 45.90625 40.484375 42.875 44.328125 \nQ 39.84375 48.1875 33.796875 48.1875 \nQ 26.515625 48.1875 22.3125 43.546875 \nQ 18.109375 38.921875 18.109375 30.90625 \nL 18.109375 0 \nL 9.078125 0 \nL 9.078125 54.6875 \nL 18.109375 54.6875 \nL 18.109375 46.1875 \nQ 21.34375 51.125 25.703125 53.5625 \nQ 30.078125 56 35.796875 56 \nQ 45.21875 56 50.046875 50.171875 \nQ 54.890625 44.34375 54.890625 33.015625 \nz\n\" id=\"DejaVuSans-110\"/>\n       <path d=\"M 48.78125 52.59375 \nL 48.78125 44.1875 \nQ 44.96875 46.296875 41.140625 47.34375 \nQ 37.3125 48.390625 33.40625 48.390625 \nQ 24.65625 48.390625 19.8125 42.84375 \nQ 14.984375 37.3125 14.984375 27.296875 \nQ 14.984375 17.28125 19.8125 11.734375 \nQ 24.65625 6.203125 33.40625 6.203125 \nQ 37.3125 6.203125 41.140625 7.25 \nQ 44.96875 8.296875 48.78125 10.40625 \nL 48.78125 2.09375 \nQ 45.015625 0.34375 40.984375 -0.53125 \nQ 36.96875 -1.421875 32.421875 -1.421875 \nQ 20.0625 -1.421875 12.78125 6.34375 \nQ 5.515625 14.109375 5.515625 27.296875 \nQ 5.515625 40.671875 12.859375 48.328125 \nQ 20.21875 56 33.015625 56 \nQ 37.15625 56 41.109375 55.140625 \nQ 45.0625 54.296875 48.78125 52.59375 \nz\n\" id=\"DejaVuSans-99\"/>\n       <path d=\"M 56.203125 29.59375 \nL 56.203125 25.203125 \nL 14.890625 25.203125 \nQ 15.484375 15.921875 20.484375 11.0625 \nQ 25.484375 6.203125 34.421875 6.203125 \nQ 39.59375 6.203125 44.453125 7.46875 \nQ 49.3125 8.734375 54.109375 11.28125 \nL 54.109375 2.78125 \nQ 49.265625 0.734375 44.1875 -0.34375 \nQ 39.109375 -1.421875 33.890625 -1.421875 \nQ 20.796875 -1.421875 13.15625 6.1875 \nQ 5.515625 13.8125 5.515625 26.8125 \nQ 5.515625 40.234375 12.765625 48.109375 \nQ 20.015625 56 32.328125 56 \nQ 43.359375 56 49.78125 48.890625 \nQ 56.203125 41.796875 56.203125 29.59375 \nz\nM 47.21875 32.234375 \nQ 47.125 39.59375 43.09375 43.984375 \nQ 39.0625 48.390625 32.421875 48.390625 \nQ 24.90625 48.390625 20.390625 44.140625 \nQ 15.875 39.890625 15.1875 32.171875 \nz\n\" id=\"DejaVuSans-101\"/>\n      </defs>\n      <use xlink:href=\"#DejaVuSans-68\"/>\n      <use x=\"77.001953\" xlink:href=\"#DejaVuSans-105\"/>\n      <use x=\"104.785156\" xlink:href=\"#DejaVuSans-115\"/>\n      <use x=\"156.884766\" xlink:href=\"#DejaVuSans-116\"/>\n      <use x=\"196.09375\" xlink:href=\"#DejaVuSans-97\"/>\n      <use x=\"257.373047\" xlink:href=\"#DejaVuSans-110\"/>\n      <use x=\"320.751953\" xlink:href=\"#DejaVuSans-99\"/>\n      <use x=\"375.732422\" xlink:href=\"#DejaVuSans-101\"/>\n      <use x=\"437.255859\" xlink:href=\"#DejaVuSans-115\"/>\n     </g>\n    </g>\n   </g>\n   <g id=\"matplotlib.axis_2\">\n    <g id=\"ytick_1\">\n     <g id=\"line2d_6\">\n      <defs>\n       <path d=\"M 0 0 \nL -3.5 0 \n\" id=\"mcb8c68086d\" style=\"stroke:#000000;stroke-width:0.8;\"/>\n      </defs>\n      <g>\n       <use style=\"stroke:#000000;stroke-width:0.8;\" x=\"46.965625\" xlink:href=\"#mcb8c68086d\" y=\"224.64\"/>\n      </g>\n     </g>\n     <g id=\"text_7\">\n      <!-- 0 -->\n      <g transform=\"translate(33.603125 228.439219)scale(0.1 -0.1)\">\n       <use xlink:href=\"#DejaVuSans-48\"/>\n      </g>\n     </g>\n    </g>\n    <g id=\"ytick_2\">\n     <g id=\"line2d_7\">\n      <g>\n       <use style=\"stroke:#000000;stroke-width:0.8;\" x=\"46.965625\" xlink:href=\"#mcb8c68086d\" y=\"197.39188\"/>\n      </g>\n     </g>\n     <g id=\"text_8\">\n      <!-- 25 -->\n      <g transform=\"translate(27.240625 201.191098)scale(0.1 -0.1)\">\n       <defs>\n        <path d=\"M 19.1875 8.296875 \nL 53.609375 8.296875 \nL 53.609375 0 \nL 7.328125 0 \nL 7.328125 8.296875 \nQ 12.9375 14.109375 22.625 23.890625 \nQ 32.328125 33.6875 34.8125 36.53125 \nQ 39.546875 41.84375 41.421875 45.53125 \nQ 43.3125 49.21875 43.3125 52.78125 \nQ 43.3125 58.59375 39.234375 62.25 \nQ 35.15625 65.921875 28.609375 65.921875 \nQ 23.96875 65.921875 18.8125 64.3125 \nQ 13.671875 62.703125 7.8125 59.421875 \nL 7.8125 69.390625 \nQ 13.765625 71.78125 18.9375 73 \nQ 24.125 74.21875 28.421875 74.21875 \nQ 39.75 74.21875 46.484375 68.546875 \nQ 53.21875 62.890625 53.21875 53.421875 \nQ 53.21875 48.921875 51.53125 44.890625 \nQ 49.859375 40.875 45.40625 35.40625 \nQ 44.1875 33.984375 37.640625 27.21875 \nQ 31.109375 20.453125 19.1875 8.296875 \nz\n\" id=\"DejaVuSans-50\"/>\n        <path d=\"M 10.796875 72.90625 \nL 49.515625 72.90625 \nL 49.515625 64.59375 \nL 19.828125 64.59375 \nL 19.828125 46.734375 \nQ 21.96875 47.46875 24.109375 47.828125 \nQ 26.265625 48.1875 28.421875 48.1875 \nQ 40.625 48.1875 47.75 41.5 \nQ 54.890625 34.8125 54.890625 23.390625 \nQ 54.890625 11.625 47.5625 5.09375 \nQ 40.234375 -1.421875 26.90625 -1.421875 \nQ 22.3125 -1.421875 17.546875 -0.640625 \nQ 12.796875 0.140625 7.71875 1.703125 \nL 7.71875 11.625 \nQ 12.109375 9.234375 16.796875 8.0625 \nQ 21.484375 6.890625 26.703125 6.890625 \nQ 35.15625 6.890625 40.078125 11.328125 \nQ 45.015625 15.765625 45.015625 23.390625 \nQ 45.015625 31 40.078125 35.4375 \nQ 35.15625 39.890625 26.703125 39.890625 \nQ 22.75 39.890625 18.8125 39.015625 \nQ 14.890625 38.140625 10.796875 36.28125 \nz\n\" id=\"DejaVuSans-53\"/>\n       </defs>\n       <use xlink:href=\"#DejaVuSans-50\"/>\n       <use x=\"63.623047\" xlink:href=\"#DejaVuSans-53\"/>\n      </g>\n     </g>\n    </g>\n    <g id=\"ytick_3\">\n     <g id=\"line2d_8\">\n      <g>\n       <use style=\"stroke:#000000;stroke-width:0.8;\" x=\"46.965625\" xlink:href=\"#mcb8c68086d\" y=\"170.143759\"/>\n      </g>\n     </g>\n     <g id=\"text_9\">\n      <!-- 50 -->\n      <g transform=\"translate(27.240625 173.942978)scale(0.1 -0.1)\">\n       <use xlink:href=\"#DejaVuSans-53\"/>\n       <use x=\"63.623047\" xlink:href=\"#DejaVuSans-48\"/>\n      </g>\n     </g>\n    </g>\n    <g id=\"ytick_4\">\n     <g id=\"line2d_9\">\n      <g>\n       <use style=\"stroke:#000000;stroke-width:0.8;\" x=\"46.965625\" xlink:href=\"#mcb8c68086d\" y=\"142.895639\"/>\n      </g>\n     </g>\n     <g id=\"text_10\">\n      <!-- 75 -->\n      <g transform=\"translate(27.240625 146.694858)scale(0.1 -0.1)\">\n       <use xlink:href=\"#DejaVuSans-55\"/>\n       <use x=\"63.623047\" xlink:href=\"#DejaVuSans-53\"/>\n      </g>\n     </g>\n    </g>\n    <g id=\"ytick_5\">\n     <g id=\"line2d_10\">\n      <g>\n       <use style=\"stroke:#000000;stroke-width:0.8;\" x=\"46.965625\" xlink:href=\"#mcb8c68086d\" y=\"115.647519\"/>\n      </g>\n     </g>\n     <g id=\"text_11\">\n      <!-- 100 -->\n      <g transform=\"translate(20.878125 119.446738)scale(0.1 -0.1)\">\n       <use xlink:href=\"#DejaVuSans-49\"/>\n       <use x=\"63.623047\" xlink:href=\"#DejaVuSans-48\"/>\n       <use x=\"127.246094\" xlink:href=\"#DejaVuSans-48\"/>\n      </g>\n     </g>\n    </g>\n    <g id=\"ytick_6\">\n     <g id=\"line2d_11\">\n      <g>\n       <use style=\"stroke:#000000;stroke-width:0.8;\" x=\"46.965625\" xlink:href=\"#mcb8c68086d\" y=\"88.399398\"/>\n      </g>\n     </g>\n     <g id=\"text_12\">\n      <!-- 125 -->\n      <g transform=\"translate(20.878125 92.198617)scale(0.1 -0.1)\">\n       <use xlink:href=\"#DejaVuSans-49\"/>\n       <use x=\"63.623047\" xlink:href=\"#DejaVuSans-50\"/>\n       <use x=\"127.246094\" xlink:href=\"#DejaVuSans-53\"/>\n      </g>\n     </g>\n    </g>\n    <g id=\"ytick_7\">\n     <g id=\"line2d_12\">\n      <g>\n       <use style=\"stroke:#000000;stroke-width:0.8;\" x=\"46.965625\" xlink:href=\"#mcb8c68086d\" y=\"61.151278\"/>\n      </g>\n     </g>\n     <g id=\"text_13\">\n      <!-- 150 -->\n      <g transform=\"translate(20.878125 64.950497)scale(0.1 -0.1)\">\n       <use xlink:href=\"#DejaVuSans-49\"/>\n       <use x=\"63.623047\" xlink:href=\"#DejaVuSans-53\"/>\n       <use x=\"127.246094\" xlink:href=\"#DejaVuSans-48\"/>\n      </g>\n     </g>\n    </g>\n    <g id=\"ytick_8\">\n     <g id=\"line2d_13\">\n      <g>\n       <use style=\"stroke:#000000;stroke-width:0.8;\" x=\"46.965625\" xlink:href=\"#mcb8c68086d\" y=\"33.903158\"/>\n      </g>\n     </g>\n     <g id=\"text_14\">\n      <!-- 175 -->\n      <g transform=\"translate(20.878125 37.702377)scale(0.1 -0.1)\">\n       <use xlink:href=\"#DejaVuSans-49\"/>\n       <use x=\"63.623047\" xlink:href=\"#DejaVuSans-55\"/>\n       <use x=\"127.246094\" xlink:href=\"#DejaVuSans-53\"/>\n      </g>\n     </g>\n    </g>\n    <g id=\"text_15\">\n     <!-- Freq -->\n     <g transform=\"translate(14.798438 126.627031)rotate(-90)scale(0.1 -0.1)\">\n      <defs>\n       <path d=\"M 9.8125 72.90625 \nL 51.703125 72.90625 \nL 51.703125 64.59375 \nL 19.671875 64.59375 \nL 19.671875 43.109375 \nL 48.578125 43.109375 \nL 48.578125 34.8125 \nL 19.671875 34.8125 \nL 19.671875 0 \nL 9.8125 0 \nz\n\" id=\"DejaVuSans-70\"/>\n       <path d=\"M 41.109375 46.296875 \nQ 39.59375 47.171875 37.8125 47.578125 \nQ 36.03125 48 33.890625 48 \nQ 26.265625 48 22.1875 43.046875 \nQ 18.109375 38.09375 18.109375 28.8125 \nL 18.109375 0 \nL 9.078125 0 \nL 9.078125 54.6875 \nL 18.109375 54.6875 \nL 18.109375 46.1875 \nQ 20.953125 51.171875 25.484375 53.578125 \nQ 30.03125 56 36.53125 56 \nQ 37.453125 56 38.578125 55.875 \nQ 39.703125 55.765625 41.0625 55.515625 \nz\n\" id=\"DejaVuSans-114\"/>\n       <path d=\"M 14.796875 27.296875 \nQ 14.796875 17.390625 18.875 11.75 \nQ 22.953125 6.109375 30.078125 6.109375 \nQ 37.203125 6.109375 41.296875 11.75 \nQ 45.40625 17.390625 45.40625 27.296875 \nQ 45.40625 37.203125 41.296875 42.84375 \nQ 37.203125 48.484375 30.078125 48.484375 \nQ 22.953125 48.484375 18.875 42.84375 \nQ 14.796875 37.203125 14.796875 27.296875 \nz\nM 45.40625 8.203125 \nQ 42.578125 3.328125 38.25 0.953125 \nQ 33.9375 -1.421875 27.875 -1.421875 \nQ 17.96875 -1.421875 11.734375 6.484375 \nQ 5.515625 14.40625 5.515625 27.296875 \nQ 5.515625 40.1875 11.734375 48.09375 \nQ 17.96875 56 27.875 56 \nQ 33.9375 56 38.25 53.625 \nQ 42.578125 51.265625 45.40625 46.390625 \nL 45.40625 54.6875 \nL 54.390625 54.6875 \nL 54.390625 -20.796875 \nL 45.40625 -20.796875 \nz\n\" id=\"DejaVuSans-113\"/>\n      </defs>\n      <use xlink:href=\"#DejaVuSans-70\"/>\n      <use x=\"50.269531\" xlink:href=\"#DejaVuSans-114\"/>\n      <use x=\"89.132812\" xlink:href=\"#DejaVuSans-101\"/>\n      <use x=\"150.65625\" xlink:href=\"#DejaVuSans-113\"/>\n     </g>\n    </g>\n   </g>\n   <g id=\"patch_13\">\n    <path d=\"M 46.965625 224.64 \nL 46.965625 7.2 \n\" style=\"fill:none;stroke:#000000;stroke-linecap:square;stroke-linejoin:miter;stroke-width:0.8;\"/>\n   </g>\n   <g id=\"patch_14\">\n    <path d=\"M 381.765625 224.64 \nL 381.765625 7.2 \n\" style=\"fill:none;stroke:#000000;stroke-linecap:square;stroke-linejoin:miter;stroke-width:0.8;\"/>\n   </g>\n   <g id=\"patch_15\">\n    <path d=\"M 46.965625 224.64 \nL 381.765625 224.64 \n\" style=\"fill:none;stroke:#000000;stroke-linecap:square;stroke-linejoin:miter;stroke-width:0.8;\"/>\n   </g>\n   <g id=\"patch_16\">\n    <path d=\"M 46.965625 7.2 \nL 381.765625 7.2 \n\" style=\"fill:none;stroke:#000000;stroke-linecap:square;stroke-linejoin:miter;stroke-width:0.8;\"/>\n   </g>\n  </g>\n </g>\n <defs>\n  <clipPath id=\"p17afa0f322\">\n   <rect height=\"217.44\" width=\"334.8\" x=\"46.965625\" y=\"7.2\"/>\n  </clipPath>\n </defs>\n</svg>\n",
      "image/png": "[encoded data removed]"
     },
     "metadata": {
      "needs_background": "light"
     }
    }
   ],
   "source": [
    "#plot HIST of largest similarity\n",
    "\n",
    "%matplotlib inline\n",
    "import matplotlib.pyplot as plt\n",
    "\n",
    "\n",
    "plt.hist(largest)\n",
    "#plt.hist(largest)\n",
    "plt.xlabel('Distances')\n",
    "plt.ylabel('Freq')\n",
    "#plt.ylim(0,100)\n",
    "#plt.savefig('/data/localhost/not-backed-up/mokaya/exscientia/aizynthfinder/Maranga/Images/tg1e3_split_lsim.png')\n",
    "plt.show()"
   ]
  },
  {
   "cell_type": "code",
   "execution_count": 49,
   "id": "72b0e92c",
   "metadata": {},
   "outputs": [
    {
     "output_type": "display_data",
     "data": {
      "text/plain": "<Figure size 432x288 with 1 Axes>",
      "image/svg+xml": "<?xml version=\"1.0\" encoding=\"utf-8\" standalone=\"no\"?>\n<!DOCTYPE svg PUBLIC \"-//W3C//DTD SVG 1.1//EN\"\n  \"http://www.w3.org/Graphics/SVG/1.1/DTD/svg11.dtd\">\n<!-- Created with matplotlib (https://matplotlib.org/) -->\n<svg height=\"265.995469pt\" version=\"1.1\" viewBox=\"0 0 388.965625 265.995469\" width=\"388.965625pt\" xmlns=\"http://www.w3.org/2000/svg\" xmlns:xlink=\"http://www.w3.org/1999/xlink\">\n <metadata>\n  <rdf:RDF xmlns:cc=\"http://creativecommons.org/ns#\" xmlns:dc=\"http://purl.org/dc/elements/1.1/\" xmlns:rdf=\"http://www.w3.org/1999/02/22-rdf-syntax-ns#\">\n   <cc:Work>\n    <dc:type rdf:resource=\"http://purl.org/dc/dcmitype/StillImage\"/>\n    <dc:date>2021-06-10T14:52:04.766148</dc:date>\n    <dc:format>image/svg+xml</dc:format>\n    <dc:creator>\n     <cc:Agent>\n      <dc:title>Matplotlib v3.3.4, https://matplotlib.org/</dc:title>\n     </cc:Agent>\n    </dc:creator>\n   </cc:Work>\n  </rdf:RDF>\n </metadata>\n <defs>\n  <style type=\"text/css\">*{stroke-linecap:butt;stroke-linejoin:round;}</style>\n </defs>\n <g id=\"figure_1\">\n  <g id=\"patch_1\">\n   <path d=\"M -0 265.995469 \nL 388.965625 265.995469 \nL 388.965625 0 \nL -0 0 \nz\n\" style=\"fill:none;\"/>\n  </g>\n  <g id=\"axes_1\">\n   <g id=\"patch_2\">\n    <path d=\"M 46.965625 228.439219 \nL 381.765625 228.439219 \nL 381.765625 10.999219 \nL 46.965625 10.999219 \nz\n\" style=\"fill:#ffffff;\"/>\n   </g>\n   <g id=\"PathCollection_1\">\n    <defs>\n     <path d=\"M 0 3 \nC 0.795609 3 1.55874 2.683901 2.12132 2.12132 \nC 2.683901 1.55874 3 0.795609 3 0 \nC 3 -0.795609 2.683901 -1.55874 2.12132 -2.12132 \nC 1.55874 -2.683901 0.795609 -3 0 -3 \nC -0.795609 -3 -1.55874 -2.683901 -2.12132 -2.12132 \nC -2.683901 -1.55874 -3 -0.795609 -3 0 \nC -3 0.795609 -2.683901 1.55874 -2.12132 2.12132 \nC -1.55874 2.683901 -0.795609 3 0 3 \nz\n\" id=\"m90b2e0be76\" style=\"stroke:#0000ff;\"/>\n    </defs>\n    <g clip-path=\"url(#pbafd94bacf)\">\n     <use style=\"fill:#0000ff;stroke:#0000ff;\" x=\"146.729261\" xlink:href=\"#m90b2e0be76\" y=\"206.612155\"/>\n     <use style=\"fill:#0000ff;stroke:#0000ff;\" x=\"163.638352\" xlink:href=\"#m90b2e0be76\" y=\"207.58738\"/>\n     <use style=\"fill:#0000ff;stroke:#0000ff;\" x=\"163.638352\" xlink:href=\"#m90b2e0be76\" y=\"204.610178\"/>\n     <use style=\"fill:#0000ff;stroke:#0000ff;\" x=\"180.547443\" xlink:href=\"#m90b2e0be76\" y=\"197.165745\"/>\n     <use style=\"fill:#0000ff;stroke:#0000ff;\" x=\"163.638352\" xlink:href=\"#m90b2e0be76\" y=\"202.99134\"/>\n     <use style=\"fill:#0000ff;stroke:#0000ff;\" x=\"163.638352\" xlink:href=\"#m90b2e0be76\" y=\"203.454321\"/>\n     <use style=\"fill:#0000ff;stroke:#0000ff;\" x=\"163.638352\" xlink:href=\"#m90b2e0be76\" y=\"188.376282\"/>\n     <use style=\"fill:#0000ff;stroke:#0000ff;\" x=\"163.638352\" xlink:href=\"#m90b2e0be76\" y=\"200.91268\"/>\n     <use style=\"fill:#0000ff;stroke:#0000ff;\" x=\"163.638352\" xlink:href=\"#m90b2e0be76\" y=\"187.905665\"/>\n     <use style=\"fill:#0000ff;stroke:#0000ff;\" x=\"163.638352\" xlink:href=\"#m90b2e0be76\" y=\"186.645522\"/>\n     <use style=\"fill:#0000ff;stroke:#0000ff;\" x=\"163.638352\" xlink:href=\"#m90b2e0be76\" y=\"202.910245\"/>\n     <use style=\"fill:#0000ff;stroke:#0000ff;\" x=\"163.638352\" xlink:href=\"#m90b2e0be76\" y=\"178.70543\"/>\n     <use style=\"fill:#0000ff;stroke:#0000ff;\" x=\"163.638352\" xlink:href=\"#m90b2e0be76\" y=\"196.056507\"/>\n     <use style=\"fill:#0000ff;stroke:#0000ff;\" x=\"146.729261\" xlink:href=\"#m90b2e0be76\" y=\"200.78487\"/>\n     <use style=\"fill:#0000ff;stroke:#0000ff;\" x=\"146.729261\" xlink:href=\"#m90b2e0be76\" y=\"195.607074\"/>\n     <use style=\"fill:#0000ff;stroke:#0000ff;\" x=\"146.729261\" xlink:href=\"#m90b2e0be76\" y=\"166.695727\"/>\n     <use style=\"fill:#0000ff;stroke:#0000ff;\" x=\"231.274716\" xlink:href=\"#m90b2e0be76\" y=\"144.437303\"/>\n     <use style=\"fill:#0000ff;stroke:#0000ff;\" x=\"163.638352\" xlink:href=\"#m90b2e0be76\" y=\"203.660404\"/>\n     <use style=\"fill:#0000ff;stroke:#0000ff;\" x=\"163.638352\" xlink:href=\"#m90b2e0be76\" y=\"185.047301\"/>\n     <use style=\"fill:#0000ff;stroke:#0000ff;\" x=\"163.638352\" xlink:href=\"#m90b2e0be76\" y=\"179.829101\"/>\n     <use style=\"fill:#0000ff;stroke:#0000ff;\" x=\"163.638352\" xlink:href=\"#m90b2e0be76\" y=\"183.581271\"/>\n     <use style=\"fill:#0000ff;stroke:#0000ff;\" x=\"86.417669\" xlink:href=\"#m90b2e0be76\" y=\"-1\"/>\n     <use style=\"fill:#0000ff;stroke:#0000ff;\" x=\"62.183807\" xlink:href=\"#m90b2e0be76\" y=\"-1\"/>\n     <use style=\"fill:#0000ff;stroke:#0000ff;\" x=\"62.183807\" xlink:href=\"#m90b2e0be76\" y=\"221.802869\"/>\n     <use style=\"fill:#0000ff;stroke:#0000ff;\" x=\"62.183807\" xlink:href=\"#m90b2e0be76\" y=\"141.46322\"/>\n     <use style=\"fill:#0000ff;stroke:#0000ff;\" x=\"79.092898\" xlink:href=\"#m90b2e0be76\" y=\"218.56568\"/>\n     <use style=\"fill:#0000ff;stroke:#0000ff;\" x=\"79.092898\" xlink:href=\"#m90b2e0be76\" y=\"104.629967\"/>\n     <use style=\"fill:#0000ff;stroke:#0000ff;\" x=\"79.092898\" xlink:href=\"#m90b2e0be76\" y=\"197.899894\"/>\n     <use style=\"fill:#0000ff;stroke:#0000ff;\" x=\"79.092898\" xlink:href=\"#m90b2e0be76\" y=\"-1\"/>\n     <use style=\"fill:#0000ff;stroke:#0000ff;\" x=\"79.092898\" xlink:href=\"#m90b2e0be76\" y=\"-1\"/>\n     <use style=\"fill:#0000ff;stroke:#0000ff;\" x=\"79.092898\" xlink:href=\"#m90b2e0be76\" y=\"173.737333\"/>\n     <use style=\"fill:#0000ff;stroke:#0000ff;\" x=\"146.729261\" xlink:href=\"#m90b2e0be76\" y=\"88.743673\"/>\n     <use style=\"fill:#0000ff;stroke:#0000ff;\" x=\"163.638352\" xlink:href=\"#m90b2e0be76\" y=\"122.726984\"/>\n     <use style=\"fill:#0000ff;stroke:#0000ff;\" x=\"249.496777\" xlink:href=\"#m90b2e0be76\" y=\"-1\"/>\n     <use style=\"fill:#0000ff;stroke:#0000ff;\" x=\"254.737527\" xlink:href=\"#m90b2e0be76\" y=\"-1\"/>\n     <use style=\"fill:#0000ff;stroke:#0000ff;\" x=\"62.183807\" xlink:href=\"#m90b2e0be76\" y=\"219.548391\"/>\n     <use style=\"fill:#0000ff;stroke:#0000ff;\" x=\"62.183807\" xlink:href=\"#m90b2e0be76\" y=\"64.020127\"/>\n     <use style=\"fill:#0000ff;stroke:#0000ff;\" x=\"79.092898\" xlink:href=\"#m90b2e0be76\" y=\"212.557543\"/>\n     <use style=\"fill:#0000ff;stroke:#0000ff;\" x=\"96.001989\" xlink:href=\"#m90b2e0be76\" y=\"165.315551\"/>\n     <use style=\"fill:#0000ff;stroke:#0000ff;\" x=\"96.001989\" xlink:href=\"#m90b2e0be76\" y=\"70.568942\"/>\n     <use style=\"fill:#0000ff;stroke:#0000ff;\" x=\"96.001989\" xlink:href=\"#m90b2e0be76\" y=\"65.928012\"/>\n     <use style=\"fill:#0000ff;stroke:#0000ff;\" x=\"62.183807\" xlink:href=\"#m90b2e0be76\" y=\"187.547821\"/>\n     <use style=\"fill:#0000ff;stroke:#0000ff;\" x=\"62.183807\" xlink:href=\"#m90b2e0be76\" y=\"64.020127\"/>\n     <use style=\"fill:#0000ff;stroke:#0000ff;\" x=\"62.183807\" xlink:href=\"#m90b2e0be76\" y=\"-1\"/>\n     <use style=\"fill:#0000ff;stroke:#0000ff;\" x=\"78.572245\" xlink:href=\"#m90b2e0be76\" y=\"-1\"/>\n     <use style=\"fill:#0000ff;stroke:#0000ff;\" x=\"79.092898\" xlink:href=\"#m90b2e0be76\" y=\"204.26355\"/>\n     <use style=\"fill:#0000ff;stroke:#0000ff;\" x=\"96.001989\" xlink:href=\"#m90b2e0be76\" y=\"165.635624\"/>\n     <use style=\"fill:#0000ff;stroke:#0000ff;\" x=\"96.001989\" xlink:href=\"#m90b2e0be76\" y=\"87.742747\"/>\n     <use style=\"fill:#0000ff;stroke:#0000ff;\" x=\"96.001989\" xlink:href=\"#m90b2e0be76\" y=\"158.906101\"/>\n     <use style=\"fill:#0000ff;stroke:#0000ff;\" x=\"96.001989\" xlink:href=\"#m90b2e0be76\" y=\"172.861808\"/>\n     <use style=\"fill:#0000ff;stroke:#0000ff;\" x=\"112.91108\" xlink:href=\"#m90b2e0be76\" y=\"184.311366\"/>\n     <use style=\"fill:#0000ff;stroke:#0000ff;\" x=\"163.638352\" xlink:href=\"#m90b2e0be76\" y=\"195.726639\"/>\n     <use style=\"fill:#0000ff;stroke:#0000ff;\" x=\"163.638352\" xlink:href=\"#m90b2e0be76\" y=\"174.376884\"/>\n     <use style=\"fill:#0000ff;stroke:#0000ff;\" x=\"163.638352\" xlink:href=\"#m90b2e0be76\" y=\"183.28436\"/>\n     <use style=\"fill:#0000ff;stroke:#0000ff;\" x=\"180.547443\" xlink:href=\"#m90b2e0be76\" y=\"180.625031\"/>\n     <use style=\"fill:#0000ff;stroke:#0000ff;\" x=\"180.547443\" xlink:href=\"#m90b2e0be76\" y=\"200.802096\"/>\n     <use style=\"fill:#0000ff;stroke:#0000ff;\" x=\"62.183807\" xlink:href=\"#m90b2e0be76\" y=\"223.018802\"/>\n     <use style=\"fill:#0000ff;stroke:#0000ff;\" x=\"79.092898\" xlink:href=\"#m90b2e0be76\" y=\"193.32294\"/>\n     <use style=\"fill:#0000ff;stroke:#0000ff;\" x=\"79.092898\" xlink:href=\"#m90b2e0be76\" y=\"169.552285\"/>\n     <use style=\"fill:#0000ff;stroke:#0000ff;\" x=\"79.092898\" xlink:href=\"#m90b2e0be76\" y=\"-1\"/>\n     <use style=\"fill:#0000ff;stroke:#0000ff;\" x=\"101.261488\" xlink:href=\"#m90b2e0be76\" y=\"-1\"/>\n     <use style=\"fill:#0000ff;stroke:#0000ff;\" x=\"146.729261\" xlink:href=\"#m90b2e0be76\" y=\"204.131422\"/>\n     <use style=\"fill:#0000ff;stroke:#0000ff;\" x=\"146.729261\" xlink:href=\"#m90b2e0be76\" y=\"194.97261\"/>\n     <use style=\"fill:#0000ff;stroke:#0000ff;\" x=\"163.638352\" xlink:href=\"#m90b2e0be76\" y=\"206.211502\"/>\n     <use style=\"fill:#0000ff;stroke:#0000ff;\" x=\"163.638352\" xlink:href=\"#m90b2e0be76\" y=\"195.848494\"/>\n     <use style=\"fill:#0000ff;stroke:#0000ff;\" x=\"180.547443\" xlink:href=\"#m90b2e0be76\" y=\"208.462723\"/>\n     <use style=\"fill:#0000ff;stroke:#0000ff;\" x=\"214.365625\" xlink:href=\"#m90b2e0be76\" y=\"188.145418\"/>\n     <use style=\"fill:#0000ff;stroke:#0000ff;\" x=\"214.365625\" xlink:href=\"#m90b2e0be76\" y=\"193.774871\"/>\n     <use style=\"fill:#0000ff;stroke:#0000ff;\" x=\"231.274716\" xlink:href=\"#m90b2e0be76\" y=\"194.858987\"/>\n     <use style=\"fill:#0000ff;stroke:#0000ff;\" x=\"112.91108\" xlink:href=\"#m90b2e0be76\" y=\"205.568853\"/>\n     <use style=\"fill:#0000ff;stroke:#0000ff;\" x=\"112.91108\" xlink:href=\"#m90b2e0be76\" y=\"172.049177\"/>\n     <use style=\"fill:#0000ff;stroke:#0000ff;\" x=\"112.91108\" xlink:href=\"#m90b2e0be76\" y=\"190.465066\"/>\n     <use style=\"fill:#0000ff;stroke:#0000ff;\" x=\"112.91108\" xlink:href=\"#m90b2e0be76\" y=\"205.377837\"/>\n     <use style=\"fill:#0000ff;stroke:#0000ff;\" x=\"129.82017\" xlink:href=\"#m90b2e0be76\" y=\"179.585707\"/>\n     <use style=\"fill:#0000ff;stroke:#0000ff;\" x=\"112.91108\" xlink:href=\"#m90b2e0be76\" y=\"168.48058\"/>\n     <use style=\"fill:#0000ff;stroke:#0000ff;\" x=\"129.82017\" xlink:href=\"#m90b2e0be76\" y=\"178.863296\"/>\n     <use style=\"fill:#0000ff;stroke:#0000ff;\" x=\"96.001989\" xlink:href=\"#m90b2e0be76\" y=\"174.655472\"/>\n     <use style=\"fill:#0000ff;stroke:#0000ff;\" x=\"163.638352\" xlink:href=\"#m90b2e0be76\" y=\"136.682327\"/>\n     <use style=\"fill:#0000ff;stroke:#0000ff;\" x=\"180.547443\" xlink:href=\"#m90b2e0be76\" y=\"150.281962\"/>\n     <use style=\"fill:#0000ff;stroke:#0000ff;\" x=\"180.547443\" xlink:href=\"#m90b2e0be76\" y=\"155.054651\"/>\n     <use style=\"fill:#0000ff;stroke:#0000ff;\" x=\"180.547443\" xlink:href=\"#m90b2e0be76\" y=\"154.063193\"/>\n     <use style=\"fill:#0000ff;stroke:#0000ff;\" x=\"180.547443\" xlink:href=\"#m90b2e0be76\" y=\"161.214935\"/>\n     <use style=\"fill:#0000ff;stroke:#0000ff;\" x=\"180.547443\" xlink:href=\"#m90b2e0be76\" y=\"162.138956\"/>\n     <use style=\"fill:#0000ff;stroke:#0000ff;\" x=\"180.547443\" xlink:href=\"#m90b2e0be76\" y=\"163.710486\"/>\n     <use style=\"fill:#0000ff;stroke:#0000ff;\" x=\"180.547443\" xlink:href=\"#m90b2e0be76\" y=\"148.401071\"/>\n     <use style=\"fill:#0000ff;stroke:#0000ff;\" x=\"180.547443\" xlink:href=\"#m90b2e0be76\" y=\"147.753594\"/>\n     <use style=\"fill:#0000ff;stroke:#0000ff;\" x=\"180.547443\" xlink:href=\"#m90b2e0be76\" y=\"155.137349\"/>\n     <use style=\"fill:#0000ff;stroke:#0000ff;\" x=\"180.547443\" xlink:href=\"#m90b2e0be76\" y=\"145.586723\"/>\n     <use style=\"fill:#0000ff;stroke:#0000ff;\" x=\"146.729261\" xlink:href=\"#m90b2e0be76\" y=\"204.536688\"/>\n     <use style=\"fill:#0000ff;stroke:#0000ff;\" x=\"163.638352\" xlink:href=\"#m90b2e0be76\" y=\"188.008906\"/>\n     <use style=\"fill:#0000ff;stroke:#0000ff;\" x=\"231.274716\" xlink:href=\"#m90b2e0be76\" y=\"155.616169\"/>\n     <use style=\"fill:#0000ff;stroke:#0000ff;\" x=\"163.638352\" xlink:href=\"#m90b2e0be76\" y=\"205.991317\"/>\n     <use style=\"fill:#0000ff;stroke:#0000ff;\" x=\"163.638352\" xlink:href=\"#m90b2e0be76\" y=\"200.573353\"/>\n     <use style=\"fill:#0000ff;stroke:#0000ff;\" x=\"163.638352\" xlink:href=\"#m90b2e0be76\" y=\"190.097526\"/>\n     <use style=\"fill:#0000ff;stroke:#0000ff;\" x=\"180.547443\" xlink:href=\"#m90b2e0be76\" y=\"177.626037\"/>\n     <use style=\"fill:#0000ff;stroke:#0000ff;\" x=\"163.638352\" xlink:href=\"#m90b2e0be76\" y=\"178.877678\"/>\n     <use style=\"fill:#0000ff;stroke:#0000ff;\" x=\"180.547443\" xlink:href=\"#m90b2e0be76\" y=\"176.472678\"/>\n     <use style=\"fill:#0000ff;stroke:#0000ff;\" x=\"129.82017\" xlink:href=\"#m90b2e0be76\" y=\"201.156911\"/>\n     <use style=\"fill:#0000ff;stroke:#0000ff;\" x=\"146.729261\" xlink:href=\"#m90b2e0be76\" y=\"204.119338\"/>\n     <use style=\"fill:#0000ff;stroke:#0000ff;\" x=\"146.729261\" xlink:href=\"#m90b2e0be76\" y=\"179.263192\"/>\n     <use style=\"fill:#0000ff;stroke:#0000ff;\" x=\"146.729261\" xlink:href=\"#m90b2e0be76\" y=\"178.826848\"/>\n     <use style=\"fill:#0000ff;stroke:#0000ff;\" x=\"163.638352\" xlink:href=\"#m90b2e0be76\" y=\"205.327793\"/>\n     <use style=\"fill:#0000ff;stroke:#0000ff;\" x=\"180.547443\" xlink:href=\"#m90b2e0be76\" y=\"192.854777\"/>\n     <use style=\"fill:#0000ff;stroke:#0000ff;\" x=\"163.638352\" xlink:href=\"#m90b2e0be76\" y=\"193.559794\"/>\n     <use style=\"fill:#0000ff;stroke:#0000ff;\" x=\"163.638352\" xlink:href=\"#m90b2e0be76\" y=\"198.395202\"/>\n     <use style=\"fill:#0000ff;stroke:#0000ff;\" x=\"163.638352\" xlink:href=\"#m90b2e0be76\" y=\"199.63286\"/>\n     <use style=\"fill:#0000ff;stroke:#0000ff;\" x=\"163.638352\" xlink:href=\"#m90b2e0be76\" y=\"198.515303\"/>\n     <use style=\"fill:#0000ff;stroke:#0000ff;\" x=\"163.638352\" xlink:href=\"#m90b2e0be76\" y=\"200.885273\"/>\n     <use style=\"fill:#0000ff;stroke:#0000ff;\" x=\"163.638352\" xlink:href=\"#m90b2e0be76\" y=\"202.46294\"/>\n     <use style=\"fill:#0000ff;stroke:#0000ff;\" x=\"163.638352\" xlink:href=\"#m90b2e0be76\" y=\"193.300782\"/>\n     <use style=\"fill:#0000ff;stroke:#0000ff;\" x=\"163.638352\" xlink:href=\"#m90b2e0be76\" y=\"201.238171\"/>\n     <use style=\"fill:#0000ff;stroke:#0000ff;\" x=\"163.638352\" xlink:href=\"#m90b2e0be76\" y=\"160.522296\"/>\n     <use style=\"fill:#0000ff;stroke:#0000ff;\" x=\"96.001989\" xlink:href=\"#m90b2e0be76\" y=\"196.973949\"/>\n     <use style=\"fill:#0000ff;stroke:#0000ff;\" x=\"96.001989\" xlink:href=\"#m90b2e0be76\" y=\"195.443771\"/>\n     <use style=\"fill:#0000ff;stroke:#0000ff;\" x=\"96.001989\" xlink:href=\"#m90b2e0be76\" y=\"168.234326\"/>\n     <use style=\"fill:#0000ff;stroke:#0000ff;\" x=\"112.91108\" xlink:href=\"#m90b2e0be76\" y=\"198.15246\"/>\n     <use style=\"fill:#0000ff;stroke:#0000ff;\" x=\"112.91108\" xlink:href=\"#m90b2e0be76\" y=\"157.496317\"/>\n     <use style=\"fill:#0000ff;stroke:#0000ff;\" x=\"163.638352\" xlink:href=\"#m90b2e0be76\" y=\"185.149117\"/>\n     <use style=\"fill:#0000ff;stroke:#0000ff;\" x=\"163.638352\" xlink:href=\"#m90b2e0be76\" y=\"187.951189\"/>\n     <use style=\"fill:#0000ff;stroke:#0000ff;\" x=\"231.274716\" xlink:href=\"#m90b2e0be76\" y=\"152.111282\"/>\n     <use style=\"fill:#0000ff;stroke:#0000ff;\" x=\"163.638352\" xlink:href=\"#m90b2e0be76\" y=\"176.739729\"/>\n     <use style=\"fill:#0000ff;stroke:#0000ff;\" x=\"180.547443\" xlink:href=\"#m90b2e0be76\" y=\"208.186337\"/>\n     <use style=\"fill:#0000ff;stroke:#0000ff;\" x=\"180.547443\" xlink:href=\"#m90b2e0be76\" y=\"204.00833\"/>\n     <use style=\"fill:#0000ff;stroke:#0000ff;\" x=\"180.547443\" xlink:href=\"#m90b2e0be76\" y=\"191.129145\"/>\n     <use style=\"fill:#0000ff;stroke:#0000ff;\" x=\"214.365625\" xlink:href=\"#m90b2e0be76\" y=\"188.173521\"/>\n     <use style=\"fill:#0000ff;stroke:#0000ff;\" x=\"231.274716\" xlink:href=\"#m90b2e0be76\" y=\"174.568949\"/>\n     <use style=\"fill:#0000ff;stroke:#0000ff;\" x=\"231.274716\" xlink:href=\"#m90b2e0be76\" y=\"170.930498\"/>\n     <use style=\"fill:#0000ff;stroke:#0000ff;\" x=\"62.183807\" xlink:href=\"#m90b2e0be76\" y=\"109.781642\"/>\n     <use style=\"fill:#0000ff;stroke:#0000ff;\" x=\"79.092898\" xlink:href=\"#m90b2e0be76\" y=\"215.319677\"/>\n     <use style=\"fill:#0000ff;stroke:#0000ff;\" x=\"79.092898\" xlink:href=\"#m90b2e0be76\" y=\"-1\"/>\n     <use style=\"fill:#0000ff;stroke:#0000ff;\" x=\"79.092898\" xlink:href=\"#m90b2e0be76\" y=\"-1\"/>\n     <use style=\"fill:#0000ff;stroke:#0000ff;\" x=\"79.092898\" xlink:href=\"#m90b2e0be76\" y=\"63.399368\"/>\n     <use style=\"fill:#0000ff;stroke:#0000ff;\" x=\"79.092898\" xlink:href=\"#m90b2e0be76\" y=\"-1\"/>\n     <use style=\"fill:#0000ff;stroke:#0000ff;\" x=\"128.239008\" xlink:href=\"#m90b2e0be76\" y=\"-1\"/>\n     <use style=\"fill:#0000ff;stroke:#0000ff;\" x=\"146.729261\" xlink:href=\"#m90b2e0be76\" y=\"205.894896\"/>\n     <use style=\"fill:#0000ff;stroke:#0000ff;\" x=\"163.638352\" xlink:href=\"#m90b2e0be76\" y=\"207.029617\"/>\n     <use style=\"fill:#0000ff;stroke:#0000ff;\" x=\"163.638352\" xlink:href=\"#m90b2e0be76\" y=\"202.649267\"/>\n     <use style=\"fill:#0000ff;stroke:#0000ff;\" x=\"163.638352\" xlink:href=\"#m90b2e0be76\" y=\"197.897267\"/>\n     <use style=\"fill:#0000ff;stroke:#0000ff;\" x=\"163.638352\" xlink:href=\"#m90b2e0be76\" y=\"197.55196\"/>\n     <use style=\"fill:#0000ff;stroke:#0000ff;\" x=\"163.638352\" xlink:href=\"#m90b2e0be76\" y=\"196.080111\"/>\n     <use style=\"fill:#0000ff;stroke:#0000ff;\" x=\"163.638352\" xlink:href=\"#m90b2e0be76\" y=\"200.811084\"/>\n     <use style=\"fill:#0000ff;stroke:#0000ff;\" x=\"163.638352\" xlink:href=\"#m90b2e0be76\" y=\"201.9767\"/>\n     <use style=\"fill:#0000ff;stroke:#0000ff;\" x=\"163.638352\" xlink:href=\"#m90b2e0be76\" y=\"191.941782\"/>\n     <use style=\"fill:#0000ff;stroke:#0000ff;\" x=\"96.001989\" xlink:href=\"#m90b2e0be76\" y=\"162.982794\"/>\n     <use style=\"fill:#0000ff;stroke:#0000ff;\" x=\"129.82017\" xlink:href=\"#m90b2e0be76\" y=\"164.155404\"/>\n     <use style=\"fill:#0000ff;stroke:#0000ff;\" x=\"297.799899\" xlink:href=\"#m90b2e0be76\" y=\"-1\"/>\n     <use style=\"fill:#0000ff;stroke:#0000ff;\" x=\"293.983632\" xlink:href=\"#m90b2e0be76\" y=\"-1\"/>\n     <use style=\"fill:#0000ff;stroke:#0000ff;\" x=\"129.82017\" xlink:href=\"#m90b2e0be76\" y=\"186.31329\"/>\n     <use style=\"fill:#0000ff;stroke:#0000ff;\" x=\"146.729261\" xlink:href=\"#m90b2e0be76\" y=\"201.635219\"/>\n     <use style=\"fill:#0000ff;stroke:#0000ff;\" x=\"146.729261\" xlink:href=\"#m90b2e0be76\" y=\"193.388666\"/>\n     <use style=\"fill:#0000ff;stroke:#0000ff;\" x=\"146.729261\" xlink:href=\"#m90b2e0be76\" y=\"195.870715\"/>\n     <use style=\"fill:#0000ff;stroke:#0000ff;\" x=\"146.729261\" xlink:href=\"#m90b2e0be76\" y=\"196.798799\"/>\n     <use style=\"fill:#0000ff;stroke:#0000ff;\" x=\"146.729261\" xlink:href=\"#m90b2e0be76\" y=\"168.992469\"/>\n     <use style=\"fill:#0000ff;stroke:#0000ff;\" x=\"79.092898\" xlink:href=\"#m90b2e0be76\" y=\"214.710213\"/>\n     <use style=\"fill:#0000ff;stroke:#0000ff;\" x=\"79.092898\" xlink:href=\"#m90b2e0be76\" y=\"187.166203\"/>\n     <use style=\"fill:#0000ff;stroke:#0000ff;\" x=\"96.001989\" xlink:href=\"#m90b2e0be76\" y=\"64.950503\"/>\n     <use style=\"fill:#0000ff;stroke:#0000ff;\" x=\"96.001989\" xlink:href=\"#m90b2e0be76\" y=\"198.084635\"/>\n     <use style=\"fill:#0000ff;stroke:#0000ff;\" x=\"96.001989\" xlink:href=\"#m90b2e0be76\" y=\"150.048831\"/>\n     <use style=\"fill:#0000ff;stroke:#0000ff;\" x=\"96.001989\" xlink:href=\"#m90b2e0be76\" y=\"68.076475\"/>\n     <use style=\"fill:#0000ff;stroke:#0000ff;\" x=\"112.91108\" xlink:href=\"#m90b2e0be76\" y=\"204.987652\"/>\n     <use style=\"fill:#0000ff;stroke:#0000ff;\" x=\"146.729261\" xlink:href=\"#m90b2e0be76\" y=\"204.822976\"/>\n     <use style=\"fill:#0000ff;stroke:#0000ff;\" x=\"163.638352\" xlink:href=\"#m90b2e0be76\" y=\"206.208255\"/>\n     <use style=\"fill:#0000ff;stroke:#0000ff;\" x=\"163.638352\" xlink:href=\"#m90b2e0be76\" y=\"187.762437\"/>\n     <use style=\"fill:#0000ff;stroke:#0000ff;\" x=\"163.638352\" xlink:href=\"#m90b2e0be76\" y=\"187.752772\"/>\n     <use style=\"fill:#0000ff;stroke:#0000ff;\" x=\"163.638352\" xlink:href=\"#m90b2e0be76\" y=\"186.295017\"/>\n     <use style=\"fill:#0000ff;stroke:#0000ff;\" x=\"163.638352\" xlink:href=\"#m90b2e0be76\" y=\"181.089445\"/>\n     <use style=\"fill:#0000ff;stroke:#0000ff;\" x=\"163.638352\" xlink:href=\"#m90b2e0be76\" y=\"196.815807\"/>\n     <use style=\"fill:#0000ff;stroke:#0000ff;\" x=\"163.638352\" xlink:href=\"#m90b2e0be76\" y=\"183.775937\"/>\n     <use style=\"fill:#0000ff;stroke:#0000ff;\" x=\"163.638352\" xlink:href=\"#m90b2e0be76\" y=\"183.657672\"/>\n     <use style=\"fill:#0000ff;stroke:#0000ff;\" x=\"163.638352\" xlink:href=\"#m90b2e0be76\" y=\"187.823944\"/>\n     <use style=\"fill:#0000ff;stroke:#0000ff;\" x=\"163.638352\" xlink:href=\"#m90b2e0be76\" y=\"187.769683\"/>\n     <use style=\"fill:#0000ff;stroke:#0000ff;\" x=\"112.91108\" xlink:href=\"#m90b2e0be76\" y=\"165.007105\"/>\n     <use style=\"fill:#0000ff;stroke:#0000ff;\" x=\"129.82017\" xlink:href=\"#m90b2e0be76\" y=\"146.835101\"/>\n     <use style=\"fill:#0000ff;stroke:#0000ff;\" x=\"146.729261\" xlink:href=\"#m90b2e0be76\" y=\"167.789319\"/>\n     <use style=\"fill:#0000ff;stroke:#0000ff;\" x=\"214.365625\" xlink:href=\"#m90b2e0be76\" y=\"116.695145\"/>\n     <use style=\"fill:#0000ff;stroke:#0000ff;\" x=\"231.274716\" xlink:href=\"#m90b2e0be76\" y=\"114.236173\"/>\n     <use style=\"fill:#0000ff;stroke:#0000ff;\" x=\"146.729261\" xlink:href=\"#m90b2e0be76\" y=\"201.031775\"/>\n     <use style=\"fill:#0000ff;stroke:#0000ff;\" x=\"146.729261\" xlink:href=\"#m90b2e0be76\" y=\"195.954512\"/>\n     <use style=\"fill:#0000ff;stroke:#0000ff;\" x=\"163.638352\" xlink:href=\"#m90b2e0be76\" y=\"203.830666\"/>\n     <use style=\"fill:#0000ff;stroke:#0000ff;\" x=\"163.638352\" xlink:href=\"#m90b2e0be76\" y=\"201.693048\"/>\n     <use style=\"fill:#0000ff;stroke:#0000ff;\" x=\"163.638352\" xlink:href=\"#m90b2e0be76\" y=\"196.693947\"/>\n     <use style=\"fill:#0000ff;stroke:#0000ff;\" x=\"79.092898\" xlink:href=\"#m90b2e0be76\" y=\"172.891106\"/>\n     <use style=\"fill:#0000ff;stroke:#0000ff;\" x=\"79.092898\" xlink:href=\"#m90b2e0be76\" y=\"158.833669\"/>\n     <use style=\"fill:#0000ff;stroke:#0000ff;\" x=\"62.183807\" xlink:href=\"#m90b2e0be76\" y=\"195.386449\"/>\n     <use style=\"fill:#0000ff;stroke:#0000ff;\" x=\"79.092898\" xlink:href=\"#m90b2e0be76\" y=\"147.068738\"/>\n     <use style=\"fill:#0000ff;stroke:#0000ff;\" x=\"79.092898\" xlink:href=\"#m90b2e0be76\" y=\"172.565984\"/>\n     <use style=\"fill:#0000ff;stroke:#0000ff;\" x=\"79.092898\" xlink:href=\"#m90b2e0be76\" y=\"114.330763\"/>\n     <use style=\"fill:#0000ff;stroke:#0000ff;\" x=\"79.092898\" xlink:href=\"#m90b2e0be76\" y=\"196.452295\"/>\n     <use style=\"fill:#0000ff;stroke:#0000ff;\" x=\"62.183807\" xlink:href=\"#m90b2e0be76\" y=\"173.100916\"/>\n     <use style=\"fill:#0000ff;stroke:#0000ff;\" x=\"79.092898\" xlink:href=\"#m90b2e0be76\" y=\"179.802694\"/>\n     <use style=\"fill:#0000ff;stroke:#0000ff;\" x=\"79.092898\" xlink:href=\"#m90b2e0be76\" y=\"167.967227\"/>\n     <use style=\"fill:#0000ff;stroke:#0000ff;\" x=\"129.82017\" xlink:href=\"#m90b2e0be76\" y=\"198.356209\"/>\n     <use style=\"fill:#0000ff;stroke:#0000ff;\" x=\"129.82017\" xlink:href=\"#m90b2e0be76\" y=\"201.890849\"/>\n     <use style=\"fill:#0000ff;stroke:#0000ff;\" x=\"146.729261\" xlink:href=\"#m90b2e0be76\" y=\"204.239633\"/>\n     <use style=\"fill:#0000ff;stroke:#0000ff;\" x=\"146.729261\" xlink:href=\"#m90b2e0be76\" y=\"199.841236\"/>\n     <use style=\"fill:#0000ff;stroke:#0000ff;\" x=\"146.729261\" xlink:href=\"#m90b2e0be76\" y=\"202.830425\"/>\n     <use style=\"fill:#0000ff;stroke:#0000ff;\" x=\"146.729261\" xlink:href=\"#m90b2e0be76\" y=\"195.177385\"/>\n     <use style=\"fill:#0000ff;stroke:#0000ff;\" x=\"146.729261\" xlink:href=\"#m90b2e0be76\" y=\"180.157538\"/>\n     <use style=\"fill:#0000ff;stroke:#0000ff;\" x=\"62.183807\" xlink:href=\"#m90b2e0be76\" y=\"64.020127\"/>\n     <use style=\"fill:#0000ff;stroke:#0000ff;\" x=\"96.001989\" xlink:href=\"#m90b2e0be76\" y=\"174.565577\"/>\n     <use style=\"fill:#0000ff;stroke:#0000ff;\" x=\"96.001989\" xlink:href=\"#m90b2e0be76\" y=\"164.351638\"/>\n     <use style=\"fill:#0000ff;stroke:#0000ff;\" x=\"112.91108\" xlink:href=\"#m90b2e0be76\" y=\"197.385603\"/>\n     <use style=\"fill:#0000ff;stroke:#0000ff;\" x=\"112.91108\" xlink:href=\"#m90b2e0be76\" y=\"168.055991\"/>\n     <use style=\"fill:#0000ff;stroke:#0000ff;\" x=\"112.91108\" xlink:href=\"#m90b2e0be76\" y=\"149.919218\"/>\n    </g>\n   </g>\n   <g id=\"matplotlib.axis_1\">\n    <g id=\"xtick_1\">\n     <g id=\"line2d_1\">\n      <defs>\n       <path d=\"M 0 0 \nL 0 3.5 \n\" id=\"m6981a93293\" style=\"stroke:#000000;stroke-width:0.8;\"/>\n      </defs>\n      <g>\n       <use style=\"stroke:#000000;stroke-width:0.8;\" x=\"87.547443\" xlink:href=\"#m6981a93293\" y=\"228.439219\"/>\n      </g>\n     </g>\n     <g id=\"text_1\">\n      <!-- 2.5 -->\n      <g transform=\"translate(79.595881 243.037656)scale(0.1 -0.1)\">\n       <defs>\n        <path d=\"M 19.1875 8.296875 \nL 53.609375 8.296875 \nL 53.609375 0 \nL 7.328125 0 \nL 7.328125 8.296875 \nQ 12.9375 14.109375 22.625 23.890625 \nQ 32.328125 33.6875 34.8125 36.53125 \nQ 39.546875 41.84375 41.421875 45.53125 \nQ 43.3125 49.21875 43.3125 52.78125 \nQ 43.3125 58.59375 39.234375 62.25 \nQ 35.15625 65.921875 28.609375 65.921875 \nQ 23.96875 65.921875 18.8125 64.3125 \nQ 13.671875 62.703125 7.8125 59.421875 \nL 7.8125 69.390625 \nQ 13.765625 71.78125 18.9375 73 \nQ 24.125 74.21875 28.421875 74.21875 \nQ 39.75 74.21875 46.484375 68.546875 \nQ 53.21875 62.890625 53.21875 53.421875 \nQ 53.21875 48.921875 51.53125 44.890625 \nQ 49.859375 40.875 45.40625 35.40625 \nQ 44.1875 33.984375 37.640625 27.21875 \nQ 31.109375 20.453125 19.1875 8.296875 \nz\n\" id=\"DejaVuSans-50\"/>\n        <path d=\"M 10.6875 12.40625 \nL 21 12.40625 \nL 21 0 \nL 10.6875 0 \nz\n\" id=\"DejaVuSans-46\"/>\n        <path d=\"M 10.796875 72.90625 \nL 49.515625 72.90625 \nL 49.515625 64.59375 \nL 19.828125 64.59375 \nL 19.828125 46.734375 \nQ 21.96875 47.46875 24.109375 47.828125 \nQ 26.265625 48.1875 28.421875 48.1875 \nQ 40.625 48.1875 47.75 41.5 \nQ 54.890625 34.8125 54.890625 23.390625 \nQ 54.890625 11.625 47.5625 5.09375 \nQ 40.234375 -1.421875 26.90625 -1.421875 \nQ 22.3125 -1.421875 17.546875 -0.640625 \nQ 12.796875 0.140625 7.71875 1.703125 \nL 7.71875 11.625 \nQ 12.109375 9.234375 16.796875 8.0625 \nQ 21.484375 6.890625 26.703125 6.890625 \nQ 35.15625 6.890625 40.078125 11.328125 \nQ 45.015625 15.765625 45.015625 23.390625 \nQ 45.015625 31 40.078125 35.4375 \nQ 35.15625 39.890625 26.703125 39.890625 \nQ 22.75 39.890625 18.8125 39.015625 \nQ 14.890625 38.140625 10.796875 36.28125 \nz\n\" id=\"DejaVuSans-53\"/>\n       </defs>\n       <use xlink:href=\"#DejaVuSans-50\"/>\n       <use x=\"63.623047\" xlink:href=\"#DejaVuSans-46\"/>\n       <use x=\"95.410156\" xlink:href=\"#DejaVuSans-53\"/>\n      </g>\n     </g>\n    </g>\n    <g id=\"xtick_2\">\n     <g id=\"line2d_2\">\n      <g>\n       <use style=\"stroke:#000000;stroke-width:0.8;\" x=\"129.82017\" xlink:href=\"#m6981a93293\" y=\"228.439219\"/>\n      </g>\n     </g>\n     <g id=\"text_2\">\n      <!-- 5.0 -->\n      <g transform=\"translate(121.868608 243.037656)scale(0.1 -0.1)\">\n       <defs>\n        <path d=\"M 31.78125 66.40625 \nQ 24.171875 66.40625 20.328125 58.90625 \nQ 16.5 51.421875 16.5 36.375 \nQ 16.5 21.390625 20.328125 13.890625 \nQ 24.171875 6.390625 31.78125 6.390625 \nQ 39.453125 6.390625 43.28125 13.890625 \nQ 47.125 21.390625 47.125 36.375 \nQ 47.125 51.421875 43.28125 58.90625 \nQ 39.453125 66.40625 31.78125 66.40625 \nz\nM 31.78125 74.21875 \nQ 44.046875 74.21875 50.515625 64.515625 \nQ 56.984375 54.828125 56.984375 36.375 \nQ 56.984375 17.96875 50.515625 8.265625 \nQ 44.046875 -1.421875 31.78125 -1.421875 \nQ 19.53125 -1.421875 13.0625 8.265625 \nQ 6.59375 17.96875 6.59375 36.375 \nQ 6.59375 54.828125 13.0625 64.515625 \nQ 19.53125 74.21875 31.78125 74.21875 \nz\n\" id=\"DejaVuSans-48\"/>\n       </defs>\n       <use xlink:href=\"#DejaVuSans-53\"/>\n       <use x=\"63.623047\" xlink:href=\"#DejaVuSans-46\"/>\n       <use x=\"95.410156\" xlink:href=\"#DejaVuSans-48\"/>\n      </g>\n     </g>\n    </g>\n    <g id=\"xtick_3\">\n     <g id=\"line2d_3\">\n      <g>\n       <use style=\"stroke:#000000;stroke-width:0.8;\" x=\"172.092898\" xlink:href=\"#m6981a93293\" y=\"228.439219\"/>\n      </g>\n     </g>\n     <g id=\"text_3\">\n      <!-- 7.5 -->\n      <g transform=\"translate(164.141335 243.037656)scale(0.1 -0.1)\">\n       <defs>\n        <path d=\"M 8.203125 72.90625 \nL 55.078125 72.90625 \nL 55.078125 68.703125 \nL 28.609375 0 \nL 18.3125 0 \nL 43.21875 64.59375 \nL 8.203125 64.59375 \nz\n\" id=\"DejaVuSans-55\"/>\n       </defs>\n       <use xlink:href=\"#DejaVuSans-55\"/>\n       <use x=\"63.623047\" xlink:href=\"#DejaVuSans-46\"/>\n       <use x=\"95.410156\" xlink:href=\"#DejaVuSans-53\"/>\n      </g>\n     </g>\n    </g>\n    <g id=\"xtick_4\">\n     <g id=\"line2d_4\">\n      <g>\n       <use style=\"stroke:#000000;stroke-width:0.8;\" x=\"214.365625\" xlink:href=\"#m6981a93293\" y=\"228.439219\"/>\n      </g>\n     </g>\n     <g id=\"text_4\">\n      <!-- 10.0 -->\n      <g transform=\"translate(203.232813 243.037656)scale(0.1 -0.1)\">\n       <defs>\n        <path d=\"M 12.40625 8.296875 \nL 28.515625 8.296875 \nL 28.515625 63.921875 \nL 10.984375 60.40625 \nL 10.984375 69.390625 \nL 28.421875 72.90625 \nL 38.28125 72.90625 \nL 38.28125 8.296875 \nL 54.390625 8.296875 \nL 54.390625 0 \nL 12.40625 0 \nz\n\" id=\"DejaVuSans-49\"/>\n       </defs>\n       <use xlink:href=\"#DejaVuSans-49\"/>\n       <use x=\"63.623047\" xlink:href=\"#DejaVuSans-48\"/>\n       <use x=\"127.246094\" xlink:href=\"#DejaVuSans-46\"/>\n       <use x=\"159.033203\" xlink:href=\"#DejaVuSans-48\"/>\n      </g>\n     </g>\n    </g>\n    <g id=\"xtick_5\">\n     <g id=\"line2d_5\">\n      <g>\n       <use style=\"stroke:#000000;stroke-width:0.8;\" x=\"256.638352\" xlink:href=\"#m6981a93293\" y=\"228.439219\"/>\n      </g>\n     </g>\n     <g id=\"text_5\">\n      <!-- 12.5 -->\n      <g transform=\"translate(245.50554 243.037656)scale(0.1 -0.1)\">\n       <use xlink:href=\"#DejaVuSans-49\"/>\n       <use x=\"63.623047\" xlink:href=\"#DejaVuSans-50\"/>\n       <use x=\"127.246094\" xlink:href=\"#DejaVuSans-46\"/>\n       <use x=\"159.033203\" xlink:href=\"#DejaVuSans-53\"/>\n      </g>\n     </g>\n    </g>\n    <g id=\"xtick_6\">\n     <g id=\"line2d_6\">\n      <g>\n       <use style=\"stroke:#000000;stroke-width:0.8;\" x=\"298.91108\" xlink:href=\"#m6981a93293\" y=\"228.439219\"/>\n      </g>\n     </g>\n     <g id=\"text_6\">\n      <!-- 15.0 -->\n      <g transform=\"translate(287.778267 243.037656)scale(0.1 -0.1)\">\n       <use xlink:href=\"#DejaVuSans-49\"/>\n       <use x=\"63.623047\" xlink:href=\"#DejaVuSans-53\"/>\n       <use x=\"127.246094\" xlink:href=\"#DejaVuSans-46\"/>\n       <use x=\"159.033203\" xlink:href=\"#DejaVuSans-48\"/>\n      </g>\n     </g>\n    </g>\n    <g id=\"xtick_7\">\n     <g id=\"line2d_7\">\n      <g>\n       <use style=\"stroke:#000000;stroke-width:0.8;\" x=\"341.183807\" xlink:href=\"#m6981a93293\" y=\"228.439219\"/>\n      </g>\n     </g>\n     <g id=\"text_7\">\n      <!-- 17.5 -->\n      <g transform=\"translate(330.050994 243.037656)scale(0.1 -0.1)\">\n       <use xlink:href=\"#DejaVuSans-49\"/>\n       <use x=\"63.623047\" xlink:href=\"#DejaVuSans-55\"/>\n       <use x=\"127.246094\" xlink:href=\"#DejaVuSans-46\"/>\n       <use x=\"159.033203\" xlink:href=\"#DejaVuSans-53\"/>\n      </g>\n     </g>\n    </g>\n    <g id=\"text_8\">\n     <!-- Length -->\n     <g transform=\"translate(197.11875 256.715781)scale(0.1 -0.1)\">\n      <defs>\n       <path d=\"M 9.8125 72.90625 \nL 19.671875 72.90625 \nL 19.671875 8.296875 \nL 55.171875 8.296875 \nL 55.171875 0 \nL 9.8125 0 \nz\n\" id=\"DejaVuSans-76\"/>\n       <path d=\"M 56.203125 29.59375 \nL 56.203125 25.203125 \nL 14.890625 25.203125 \nQ 15.484375 15.921875 20.484375 11.0625 \nQ 25.484375 6.203125 34.421875 6.203125 \nQ 39.59375 6.203125 44.453125 7.46875 \nQ 49.3125 8.734375 54.109375 11.28125 \nL 54.109375 2.78125 \nQ 49.265625 0.734375 44.1875 -0.34375 \nQ 39.109375 -1.421875 33.890625 -1.421875 \nQ 20.796875 -1.421875 13.15625 6.1875 \nQ 5.515625 13.8125 5.515625 26.8125 \nQ 5.515625 40.234375 12.765625 48.109375 \nQ 20.015625 56 32.328125 56 \nQ 43.359375 56 49.78125 48.890625 \nQ 56.203125 41.796875 56.203125 29.59375 \nz\nM 47.21875 32.234375 \nQ 47.125 39.59375 43.09375 43.984375 \nQ 39.0625 48.390625 32.421875 48.390625 \nQ 24.90625 48.390625 20.390625 44.140625 \nQ 15.875 39.890625 15.1875 32.171875 \nz\n\" id=\"DejaVuSans-101\"/>\n       <path d=\"M 54.890625 33.015625 \nL 54.890625 0 \nL 45.90625 0 \nL 45.90625 32.71875 \nQ 45.90625 40.484375 42.875 44.328125 \nQ 39.84375 48.1875 33.796875 48.1875 \nQ 26.515625 48.1875 22.3125 43.546875 \nQ 18.109375 38.921875 18.109375 30.90625 \nL 18.109375 0 \nL 9.078125 0 \nL 9.078125 54.6875 \nL 18.109375 54.6875 \nL 18.109375 46.1875 \nQ 21.34375 51.125 25.703125 53.5625 \nQ 30.078125 56 35.796875 56 \nQ 45.21875 56 50.046875 50.171875 \nQ 54.890625 44.34375 54.890625 33.015625 \nz\n\" id=\"DejaVuSans-110\"/>\n       <path d=\"M 45.40625 27.984375 \nQ 45.40625 37.75 41.375 43.109375 \nQ 37.359375 48.484375 30.078125 48.484375 \nQ 22.859375 48.484375 18.828125 43.109375 \nQ 14.796875 37.75 14.796875 27.984375 \nQ 14.796875 18.265625 18.828125 12.890625 \nQ 22.859375 7.515625 30.078125 7.515625 \nQ 37.359375 7.515625 41.375 12.890625 \nQ 45.40625 18.265625 45.40625 27.984375 \nz\nM 54.390625 6.78125 \nQ 54.390625 -7.171875 48.1875 -13.984375 \nQ 42 -20.796875 29.203125 -20.796875 \nQ 24.46875 -20.796875 20.265625 -20.09375 \nQ 16.0625 -19.390625 12.109375 -17.921875 \nL 12.109375 -9.1875 \nQ 16.0625 -11.328125 19.921875 -12.34375 \nQ 23.78125 -13.375 27.78125 -13.375 \nQ 36.625 -13.375 41.015625 -8.765625 \nQ 45.40625 -4.15625 45.40625 5.171875 \nL 45.40625 9.625 \nQ 42.625 4.78125 38.28125 2.390625 \nQ 33.9375 0 27.875 0 \nQ 17.828125 0 11.671875 7.65625 \nQ 5.515625 15.328125 5.515625 27.984375 \nQ 5.515625 40.671875 11.671875 48.328125 \nQ 17.828125 56 27.875 56 \nQ 33.9375 56 38.28125 53.609375 \nQ 42.625 51.21875 45.40625 46.390625 \nL 45.40625 54.6875 \nL 54.390625 54.6875 \nz\n\" id=\"DejaVuSans-103\"/>\n       <path d=\"M 18.3125 70.21875 \nL 18.3125 54.6875 \nL 36.8125 54.6875 \nL 36.8125 47.703125 \nL 18.3125 47.703125 \nL 18.3125 18.015625 \nQ 18.3125 11.328125 20.140625 9.421875 \nQ 21.96875 7.515625 27.59375 7.515625 \nL 36.8125 7.515625 \nL 36.8125 0 \nL 27.59375 0 \nQ 17.1875 0 13.234375 3.875 \nQ 9.28125 7.765625 9.28125 18.015625 \nL 9.28125 47.703125 \nL 2.6875 47.703125 \nL 2.6875 54.6875 \nL 9.28125 54.6875 \nL 9.28125 70.21875 \nz\n\" id=\"DejaVuSans-116\"/>\n       <path d=\"M 54.890625 33.015625 \nL 54.890625 0 \nL 45.90625 0 \nL 45.90625 32.71875 \nQ 45.90625 40.484375 42.875 44.328125 \nQ 39.84375 48.1875 33.796875 48.1875 \nQ 26.515625 48.1875 22.3125 43.546875 \nQ 18.109375 38.921875 18.109375 30.90625 \nL 18.109375 0 \nL 9.078125 0 \nL 9.078125 75.984375 \nL 18.109375 75.984375 \nL 18.109375 46.1875 \nQ 21.34375 51.125 25.703125 53.5625 \nQ 30.078125 56 35.796875 56 \nQ 45.21875 56 50.046875 50.171875 \nQ 54.890625 44.34375 54.890625 33.015625 \nz\n\" id=\"DejaVuSans-104\"/>\n      </defs>\n      <use xlink:href=\"#DejaVuSans-76\"/>\n      <use x=\"53.962891\" xlink:href=\"#DejaVuSans-101\"/>\n      <use x=\"115.486328\" xlink:href=\"#DejaVuSans-110\"/>\n      <use x=\"178.865234\" xlink:href=\"#DejaVuSans-103\"/>\n      <use x=\"242.341797\" xlink:href=\"#DejaVuSans-116\"/>\n      <use x=\"281.550781\" xlink:href=\"#DejaVuSans-104\"/>\n     </g>\n    </g>\n   </g>\n   <g id=\"matplotlib.axis_2\">\n    <g id=\"ytick_1\">\n     <g id=\"line2d_8\">\n      <defs>\n       <path d=\"M 0 0 \nL -3.5 0 \n\" id=\"mc4fcc75138\" style=\"stroke:#000000;stroke-width:0.8;\"/>\n      </defs>\n      <g>\n       <use style=\"stroke:#000000;stroke-width:0.8;\" x=\"46.965625\" xlink:href=\"#mc4fcc75138\" y=\"228.439219\"/>\n      </g>\n     </g>\n     <g id=\"text_9\">\n      <!-- 0 -->\n      <g transform=\"translate(33.603125 232.238437)scale(0.1 -0.1)\">\n       <use xlink:href=\"#DejaVuSans-48\"/>\n      </g>\n     </g>\n    </g>\n    <g id=\"ytick_2\">\n     <g id=\"line2d_9\">\n      <g>\n       <use style=\"stroke:#000000;stroke-width:0.8;\" x=\"46.965625\" xlink:href=\"#mc4fcc75138\" y=\"184.951219\"/>\n      </g>\n     </g>\n     <g id=\"text_10\">\n      <!-- 20 -->\n      <g transform=\"translate(27.240625 188.750437)scale(0.1 -0.1)\">\n       <use xlink:href=\"#DejaVuSans-50\"/>\n       <use x=\"63.623047\" xlink:href=\"#DejaVuSans-48\"/>\n      </g>\n     </g>\n    </g>\n    <g id=\"ytick_3\">\n     <g id=\"line2d_10\">\n      <g>\n       <use style=\"stroke:#000000;stroke-width:0.8;\" x=\"46.965625\" xlink:href=\"#mc4fcc75138\" y=\"141.463219\"/>\n      </g>\n     </g>\n     <g id=\"text_11\">\n      <!-- 40 -->\n      <g transform=\"translate(27.240625 145.262437)scale(0.1 -0.1)\">\n       <defs>\n        <path d=\"M 37.796875 64.3125 \nL 12.890625 25.390625 \nL 37.796875 25.390625 \nz\nM 35.203125 72.90625 \nL 47.609375 72.90625 \nL 47.609375 25.390625 \nL 58.015625 25.390625 \nL 58.015625 17.1875 \nL 47.609375 17.1875 \nL 47.609375 0 \nL 37.796875 0 \nL 37.796875 17.1875 \nL 4.890625 17.1875 \nL 4.890625 26.703125 \nz\n\" id=\"DejaVuSans-52\"/>\n       </defs>\n       <use xlink:href=\"#DejaVuSans-52\"/>\n       <use x=\"63.623047\" xlink:href=\"#DejaVuSans-48\"/>\n      </g>\n     </g>\n    </g>\n    <g id=\"ytick_4\">\n     <g id=\"line2d_11\">\n      <g>\n       <use style=\"stroke:#000000;stroke-width:0.8;\" x=\"46.965625\" xlink:href=\"#mc4fcc75138\" y=\"97.975219\"/>\n      </g>\n     </g>\n     <g id=\"text_12\">\n      <!-- 60 -->\n      <g transform=\"translate(27.240625 101.774437)scale(0.1 -0.1)\">\n       <defs>\n        <path d=\"M 33.015625 40.375 \nQ 26.375 40.375 22.484375 35.828125 \nQ 18.609375 31.296875 18.609375 23.390625 \nQ 18.609375 15.53125 22.484375 10.953125 \nQ 26.375 6.390625 33.015625 6.390625 \nQ 39.65625 6.390625 43.53125 10.953125 \nQ 47.40625 15.53125 47.40625 23.390625 \nQ 47.40625 31.296875 43.53125 35.828125 \nQ 39.65625 40.375 33.015625 40.375 \nz\nM 52.59375 71.296875 \nL 52.59375 62.3125 \nQ 48.875 64.0625 45.09375 64.984375 \nQ 41.3125 65.921875 37.59375 65.921875 \nQ 27.828125 65.921875 22.671875 59.328125 \nQ 17.53125 52.734375 16.796875 39.40625 \nQ 19.671875 43.65625 24.015625 45.921875 \nQ 28.375 48.1875 33.59375 48.1875 \nQ 44.578125 48.1875 50.953125 41.515625 \nQ 57.328125 34.859375 57.328125 23.390625 \nQ 57.328125 12.15625 50.6875 5.359375 \nQ 44.046875 -1.421875 33.015625 -1.421875 \nQ 20.359375 -1.421875 13.671875 8.265625 \nQ 6.984375 17.96875 6.984375 36.375 \nQ 6.984375 53.65625 15.1875 63.9375 \nQ 23.390625 74.21875 37.203125 74.21875 \nQ 40.921875 74.21875 44.703125 73.484375 \nQ 48.484375 72.75 52.59375 71.296875 \nz\n\" id=\"DejaVuSans-54\"/>\n       </defs>\n       <use xlink:href=\"#DejaVuSans-54\"/>\n       <use x=\"63.623047\" xlink:href=\"#DejaVuSans-48\"/>\n      </g>\n     </g>\n    </g>\n    <g id=\"ytick_5\">\n     <g id=\"line2d_12\">\n      <g>\n       <use style=\"stroke:#000000;stroke-width:0.8;\" x=\"46.965625\" xlink:href=\"#mc4fcc75138\" y=\"54.487219\"/>\n      </g>\n     </g>\n     <g id=\"text_13\">\n      <!-- 80 -->\n      <g transform=\"translate(27.240625 58.286437)scale(0.1 -0.1)\">\n       <defs>\n        <path d=\"M 31.78125 34.625 \nQ 24.75 34.625 20.71875 30.859375 \nQ 16.703125 27.09375 16.703125 20.515625 \nQ 16.703125 13.921875 20.71875 10.15625 \nQ 24.75 6.390625 31.78125 6.390625 \nQ 38.8125 6.390625 42.859375 10.171875 \nQ 46.921875 13.96875 46.921875 20.515625 \nQ 46.921875 27.09375 42.890625 30.859375 \nQ 38.875 34.625 31.78125 34.625 \nz\nM 21.921875 38.8125 \nQ 15.578125 40.375 12.03125 44.71875 \nQ 8.5 49.078125 8.5 55.328125 \nQ 8.5 64.0625 14.71875 69.140625 \nQ 20.953125 74.21875 31.78125 74.21875 \nQ 42.671875 74.21875 48.875 69.140625 \nQ 55.078125 64.0625 55.078125 55.328125 \nQ 55.078125 49.078125 51.53125 44.71875 \nQ 48 40.375 41.703125 38.8125 \nQ 48.828125 37.15625 52.796875 32.3125 \nQ 56.78125 27.484375 56.78125 20.515625 \nQ 56.78125 9.90625 50.3125 4.234375 \nQ 43.84375 -1.421875 31.78125 -1.421875 \nQ 19.734375 -1.421875 13.25 4.234375 \nQ 6.78125 9.90625 6.78125 20.515625 \nQ 6.78125 27.484375 10.78125 32.3125 \nQ 14.796875 37.15625 21.921875 38.8125 \nz\nM 18.3125 54.390625 \nQ 18.3125 48.734375 21.84375 45.5625 \nQ 25.390625 42.390625 31.78125 42.390625 \nQ 38.140625 42.390625 41.71875 45.5625 \nQ 45.3125 48.734375 45.3125 54.390625 \nQ 45.3125 60.0625 41.71875 63.234375 \nQ 38.140625 66.40625 31.78125 66.40625 \nQ 25.390625 66.40625 21.84375 63.234375 \nQ 18.3125 60.0625 18.3125 54.390625 \nz\n\" id=\"DejaVuSans-56\"/>\n       </defs>\n       <use xlink:href=\"#DejaVuSans-56\"/>\n       <use x=\"63.623047\" xlink:href=\"#DejaVuSans-48\"/>\n      </g>\n     </g>\n    </g>\n    <g id=\"ytick_6\">\n     <g id=\"line2d_13\">\n      <g>\n       <use style=\"stroke:#000000;stroke-width:0.8;\" x=\"46.965625\" xlink:href=\"#mc4fcc75138\" y=\"10.999219\"/>\n      </g>\n     </g>\n     <g id=\"text_14\">\n      <!-- 100 -->\n      <g transform=\"translate(20.878125 14.798437)scale(0.1 -0.1)\">\n       <use xlink:href=\"#DejaVuSans-49\"/>\n       <use x=\"63.623047\" xlink:href=\"#DejaVuSans-48\"/>\n       <use x=\"127.246094\" xlink:href=\"#DejaVuSans-48\"/>\n      </g>\n     </g>\n    </g>\n    <g id=\"text_15\">\n     <!-- Cost -->\n     <g transform=\"translate(14.798438 130.834844)rotate(-90)scale(0.1 -0.1)\">\n      <defs>\n       <path d=\"M 64.40625 67.28125 \nL 64.40625 56.890625 \nQ 59.421875 61.53125 53.78125 63.8125 \nQ 48.140625 66.109375 41.796875 66.109375 \nQ 29.296875 66.109375 22.65625 58.46875 \nQ 16.015625 50.828125 16.015625 36.375 \nQ 16.015625 21.96875 22.65625 14.328125 \nQ 29.296875 6.6875 41.796875 6.6875 \nQ 48.140625 6.6875 53.78125 8.984375 \nQ 59.421875 11.28125 64.40625 15.921875 \nL 64.40625 5.609375 \nQ 59.234375 2.09375 53.4375 0.328125 \nQ 47.65625 -1.421875 41.21875 -1.421875 \nQ 24.65625 -1.421875 15.125 8.703125 \nQ 5.609375 18.84375 5.609375 36.375 \nQ 5.609375 53.953125 15.125 64.078125 \nQ 24.65625 74.21875 41.21875 74.21875 \nQ 47.75 74.21875 53.53125 72.484375 \nQ 59.328125 70.75 64.40625 67.28125 \nz\n\" id=\"DejaVuSans-67\"/>\n       <path d=\"M 30.609375 48.390625 \nQ 23.390625 48.390625 19.1875 42.75 \nQ 14.984375 37.109375 14.984375 27.296875 \nQ 14.984375 17.484375 19.15625 11.84375 \nQ 23.34375 6.203125 30.609375 6.203125 \nQ 37.796875 6.203125 41.984375 11.859375 \nQ 46.1875 17.53125 46.1875 27.296875 \nQ 46.1875 37.015625 41.984375 42.703125 \nQ 37.796875 48.390625 30.609375 48.390625 \nz\nM 30.609375 56 \nQ 42.328125 56 49.015625 48.375 \nQ 55.71875 40.765625 55.71875 27.296875 \nQ 55.71875 13.875 49.015625 6.21875 \nQ 42.328125 -1.421875 30.609375 -1.421875 \nQ 18.84375 -1.421875 12.171875 6.21875 \nQ 5.515625 13.875 5.515625 27.296875 \nQ 5.515625 40.765625 12.171875 48.375 \nQ 18.84375 56 30.609375 56 \nz\n\" id=\"DejaVuSans-111\"/>\n       <path d=\"M 44.28125 53.078125 \nL 44.28125 44.578125 \nQ 40.484375 46.53125 36.375 47.5 \nQ 32.28125 48.484375 27.875 48.484375 \nQ 21.1875 48.484375 17.84375 46.4375 \nQ 14.5 44.390625 14.5 40.28125 \nQ 14.5 37.15625 16.890625 35.375 \nQ 19.28125 33.59375 26.515625 31.984375 \nL 29.59375 31.296875 \nQ 39.15625 29.25 43.1875 25.515625 \nQ 47.21875 21.78125 47.21875 15.09375 \nQ 47.21875 7.46875 41.1875 3.015625 \nQ 35.15625 -1.421875 24.609375 -1.421875 \nQ 20.21875 -1.421875 15.453125 -0.5625 \nQ 10.6875 0.296875 5.421875 2 \nL 5.421875 11.28125 \nQ 10.40625 8.6875 15.234375 7.390625 \nQ 20.0625 6.109375 24.8125 6.109375 \nQ 31.15625 6.109375 34.5625 8.28125 \nQ 37.984375 10.453125 37.984375 14.40625 \nQ 37.984375 18.0625 35.515625 20.015625 \nQ 33.0625 21.96875 24.703125 23.78125 \nL 21.578125 24.515625 \nQ 13.234375 26.265625 9.515625 29.90625 \nQ 5.8125 33.546875 5.8125 39.890625 \nQ 5.8125 47.609375 11.28125 51.796875 \nQ 16.75 56 26.8125 56 \nQ 31.78125 56 36.171875 55.265625 \nQ 40.578125 54.546875 44.28125 53.078125 \nz\n\" id=\"DejaVuSans-115\"/>\n      </defs>\n      <use xlink:href=\"#DejaVuSans-67\"/>\n      <use x=\"69.824219\" xlink:href=\"#DejaVuSans-111\"/>\n      <use x=\"131.005859\" xlink:href=\"#DejaVuSans-115\"/>\n      <use x=\"183.105469\" xlink:href=\"#DejaVuSans-116\"/>\n     </g>\n    </g>\n   </g>\n   <g id=\"patch_3\">\n    <path d=\"M 46.965625 228.439219 \nL 46.965625 10.999219 \n\" style=\"fill:none;stroke:#000000;stroke-linecap:square;stroke-linejoin:miter;stroke-width:0.8;\"/>\n   </g>\n   <g id=\"patch_4\">\n    <path d=\"M 381.765625 228.439219 \nL 381.765625 10.999219 \n\" style=\"fill:none;stroke:#000000;stroke-linecap:square;stroke-linejoin:miter;stroke-width:0.8;\"/>\n   </g>\n   <g id=\"patch_5\">\n    <path d=\"M 46.965625 228.439219 \nL 381.765625 228.439219 \n\" style=\"fill:none;stroke:#000000;stroke-linecap:square;stroke-linejoin:miter;stroke-width:0.8;\"/>\n   </g>\n   <g id=\"patch_6\">\n    <path d=\"M 46.965625 10.999219 \nL 381.765625 10.999219 \n\" style=\"fill:none;stroke:#000000;stroke-linecap:square;stroke-linejoin:miter;stroke-width:0.8;\"/>\n   </g>\n  </g>\n </g>\n <defs>\n  <clipPath id=\"pbafd94bacf\">\n   <rect height=\"217.44\" width=\"334.8\" x=\"46.965625\" y=\"10.999219\"/>\n  </clipPath>\n </defs>\n</svg>\n",
      "image/png": "[encoded data removed]"
     },
     "metadata": {
      "needs_background": "light"
     }
    }
   ],
   "source": [
    "#plot SCATTER of largest similarity for explore against all normal\n",
    "\n",
    "%matplotlib inline\n",
    "import matplotlib.pyplot as plt\n",
    "\n",
    "\n",
    "plt.scatter(lengths, costs, c='b')\n",
    "#plt.hist(largest)\n",
    "plt.ylabel('Cost')\n",
    "plt.xlabel('Length')\n",
    "#plt.ylim(0,20)\n",
    "plt.ylim(0,100)\n",
    "#plt.savefig('/data/localhost/not-backed-up/mokaya/exscientia/aizynthfinder/Maranga/experiments/target_2/results/images/tg2_opt3_lenvscost_2.png')\n",
    "plt.show()"
   ]
  },
  {
   "cell_type": "code",
   "execution_count": 46,
   "metadata": {},
   "outputs": [
    {
     "output_type": "stream",
     "name": "stdout",
     "text": [
      "188\n"
     ]
    }
   ],
   "source": [
    "print(sum(1 if i.get('cost' ) < 100 else 0 for i in explore_reactions))"
   ]
  },
  {
   "cell_type": "code",
   "execution_count": 10,
   "id": "9d72e454",
   "metadata": {},
   "outputs": [
    {
     "output_type": "error",
     "ename": "KeyboardInterrupt",
     "evalue": "",
     "traceback": [
      "\u001b[0;31m---------------------------------------------------------------------------\u001b[0m",
      "\u001b[0;31mKeyboardInterrupt\u001b[0m                         Traceback (most recent call last)",
      "\u001b[0;32m<ipython-input-10-28011a0c565b>\u001b[0m in \u001b[0;36m<module>\u001b[0;34m\u001b[0m\n\u001b[1;32m      1\u001b[0m \u001b[0;31m# fingerprint distance calculations\u001b[0m\u001b[0;34m\u001b[0m\u001b[0;34m\u001b[0m\u001b[0;34m\u001b[0m\u001b[0m\n\u001b[0;32m----> 2\u001b[0;31m \u001b[0mdistances\u001b[0m\u001b[0;34m,\u001b[0m \u001b[0mlargest_distances\u001b[0m\u001b[0;34m,\u001b[0m \u001b[0mreactions_dict\u001b[0m \u001b[0;34m=\u001b[0m \u001b[0mfings\u001b[0m\u001b[0;34m.\u001b[0m\u001b[0mcalculate_distances\u001b[0m\u001b[0;34m(\u001b[0m\u001b[0mfingerprints\u001b[0m\u001b[0;34m)\u001b[0m\u001b[0;34m\u001b[0m\u001b[0;34m\u001b[0m\u001b[0m\n\u001b[0m",
      "\u001b[0;32m/data/pegasus/not-backed-up/mokaya/exscientia/aizynthfinder/Maranga/scripts/fingerprints.py\u001b[0m in \u001b[0;36mcalculate_distances\u001b[0;34m(rxn_dict)\u001b[0m\n\u001b[1;32m    106\u001b[0m         \u001b[0;32mfor\u001b[0m \u001b[0mindex2\u001b[0m\u001b[0;34m,\u001b[0m \u001b[0mitem2\u001b[0m \u001b[0;32min\u001b[0m \u001b[0menumerate\u001b[0m\u001b[0;34m(\u001b[0m\u001b[0mfingerprints\u001b[0m\u001b[0;34m)\u001b[0m\u001b[0;34m:\u001b[0m\u001b[0;34m\u001b[0m\u001b[0;34m\u001b[0m\u001b[0m\n\u001b[1;32m    107\u001b[0m             \u001b[0;32mif\u001b[0m \u001b[0mindex1\u001b[0m \u001b[0;34m!=\u001b[0m \u001b[0mindex2\u001b[0m\u001b[0;34m:\u001b[0m\u001b[0;34m\u001b[0m\u001b[0;34m\u001b[0m\u001b[0m\n\u001b[0;32m--> 108\u001b[0;31m                 \u001b[0mdist\u001b[0m\u001b[0;34m.\u001b[0m\u001b[0mappend\u001b[0m\u001b[0;34m(\u001b[0m\u001b[0meuclidean\u001b[0m\u001b[0;34m(\u001b[0m\u001b[0mitem1\u001b[0m\u001b[0;34m,\u001b[0m \u001b[0mitem2\u001b[0m\u001b[0;34m)\u001b[0m\u001b[0;34m)\u001b[0m\u001b[0;34m\u001b[0m\u001b[0;34m\u001b[0m\u001b[0m\n\u001b[0m\u001b[1;32m    109\u001b[0m         \u001b[0mlargest_distances\u001b[0m\u001b[0;34m.\u001b[0m\u001b[0mappend\u001b[0m\u001b[0;34m(\u001b[0m\u001b[0mmin\u001b[0m\u001b[0;34m(\u001b[0m\u001b[0mdist\u001b[0m\u001b[0;34m)\u001b[0m\u001b[0;34m)\u001b[0m\u001b[0;34m\u001b[0m\u001b[0;34m\u001b[0m\u001b[0m\n\u001b[1;32m    110\u001b[0m         \u001b[0mrxn_dict\u001b[0m\u001b[0;34m[\u001b[0m\u001b[0mindex1\u001b[0m\u001b[0;34m]\u001b[0m\u001b[0;34m[\u001b[0m\u001b[0;34m'max distance'\u001b[0m\u001b[0;34m]\u001b[0m \u001b[0;34m=\u001b[0m \u001b[0mmin\u001b[0m\u001b[0;34m(\u001b[0m\u001b[0mdist\u001b[0m\u001b[0;34m)\u001b[0m\u001b[0;34m\u001b[0m\u001b[0;34m\u001b[0m\u001b[0m\n",
      "\u001b[0;32m/data/pegasus/mokaya/miniconda3/envs/aizynth-dev/lib/python3.8/site-packages/scipy/spatial/distance.py\u001b[0m in \u001b[0;36meuclidean\u001b[0;34m(u, v, w)\u001b[0m\n\u001b[1;32m    624\u001b[0m \u001b[0;34m\u001b[0m\u001b[0m\n\u001b[1;32m    625\u001b[0m     \"\"\"\n\u001b[0;32m--> 626\u001b[0;31m     \u001b[0;32mreturn\u001b[0m \u001b[0mminkowski\u001b[0m\u001b[0;34m(\u001b[0m\u001b[0mu\u001b[0m\u001b[0;34m,\u001b[0m \u001b[0mv\u001b[0m\u001b[0;34m,\u001b[0m \u001b[0mp\u001b[0m\u001b[0;34m=\u001b[0m\u001b[0;36m2\u001b[0m\u001b[0;34m,\u001b[0m \u001b[0mw\u001b[0m\u001b[0;34m=\u001b[0m\u001b[0mw\u001b[0m\u001b[0;34m)\u001b[0m\u001b[0;34m\u001b[0m\u001b[0;34m\u001b[0m\u001b[0m\n\u001b[0m\u001b[1;32m    627\u001b[0m \u001b[0;34m\u001b[0m\u001b[0m\n\u001b[1;32m    628\u001b[0m \u001b[0;34m\u001b[0m\u001b[0m\n",
      "\u001b[0;32m/data/pegasus/mokaya/miniconda3/envs/aizynth-dev/lib/python3.8/site-packages/scipy/spatial/distance.py\u001b[0m in \u001b[0;36mminkowski\u001b[0;34m(u, v, p, w)\u001b[0m\n\u001b[1;32m    511\u001b[0m \u001b[0;34m\u001b[0m\u001b[0m\n\u001b[1;32m    512\u001b[0m     \"\"\"\n\u001b[0;32m--> 513\u001b[0;31m     \u001b[0mu\u001b[0m \u001b[0;34m=\u001b[0m \u001b[0m_validate_vector\u001b[0m\u001b[0;34m(\u001b[0m\u001b[0mu\u001b[0m\u001b[0;34m)\u001b[0m\u001b[0;34m\u001b[0m\u001b[0;34m\u001b[0m\u001b[0m\n\u001b[0m\u001b[1;32m    514\u001b[0m     \u001b[0mv\u001b[0m \u001b[0;34m=\u001b[0m \u001b[0m_validate_vector\u001b[0m\u001b[0;34m(\u001b[0m\u001b[0mv\u001b[0m\u001b[0;34m)\u001b[0m\u001b[0;34m\u001b[0m\u001b[0;34m\u001b[0m\u001b[0m\n\u001b[1;32m    515\u001b[0m     \u001b[0;32mif\u001b[0m \u001b[0mp\u001b[0m \u001b[0;34m<\u001b[0m \u001b[0;36m1\u001b[0m\u001b[0;34m:\u001b[0m\u001b[0;34m\u001b[0m\u001b[0;34m\u001b[0m\u001b[0m\n",
      "\u001b[0;32m/data/pegasus/mokaya/miniconda3/envs/aizynth-dev/lib/python3.8/site-packages/scipy/spatial/distance.py\u001b[0m in \u001b[0;36m_validate_vector\u001b[0;34m(u, dtype)\u001b[0m\n\u001b[1;32m    334\u001b[0m \u001b[0;32mdef\u001b[0m \u001b[0m_validate_vector\u001b[0m\u001b[0;34m(\u001b[0m\u001b[0mu\u001b[0m\u001b[0;34m,\u001b[0m \u001b[0mdtype\u001b[0m\u001b[0;34m=\u001b[0m\u001b[0;32mNone\u001b[0m\u001b[0;34m)\u001b[0m\u001b[0;34m:\u001b[0m\u001b[0;34m\u001b[0m\u001b[0;34m\u001b[0m\u001b[0m\n\u001b[1;32m    335\u001b[0m     \u001b[0;31m# XXX Is order='c' really necessary?\u001b[0m\u001b[0;34m\u001b[0m\u001b[0;34m\u001b[0m\u001b[0;34m\u001b[0m\u001b[0m\n\u001b[0;32m--> 336\u001b[0;31m     \u001b[0mu\u001b[0m \u001b[0;34m=\u001b[0m \u001b[0mnp\u001b[0m\u001b[0;34m.\u001b[0m\u001b[0masarray\u001b[0m\u001b[0;34m(\u001b[0m\u001b[0mu\u001b[0m\u001b[0;34m,\u001b[0m \u001b[0mdtype\u001b[0m\u001b[0;34m=\u001b[0m\u001b[0mdtype\u001b[0m\u001b[0;34m,\u001b[0m \u001b[0morder\u001b[0m\u001b[0;34m=\u001b[0m\u001b[0;34m'c'\u001b[0m\u001b[0;34m)\u001b[0m\u001b[0;34m.\u001b[0m\u001b[0msqueeze\u001b[0m\u001b[0;34m(\u001b[0m\u001b[0;34m)\u001b[0m\u001b[0;34m\u001b[0m\u001b[0;34m\u001b[0m\u001b[0m\n\u001b[0m\u001b[1;32m    337\u001b[0m     \u001b[0;31m# Ensure values such as u=1 and u=[1] still return 1-D arrays.\u001b[0m\u001b[0;34m\u001b[0m\u001b[0;34m\u001b[0m\u001b[0;34m\u001b[0m\u001b[0m\n\u001b[1;32m    338\u001b[0m     \u001b[0mu\u001b[0m \u001b[0;34m=\u001b[0m \u001b[0mnp\u001b[0m\u001b[0;34m.\u001b[0m\u001b[0matleast_1d\u001b[0m\u001b[0;34m(\u001b[0m\u001b[0mu\u001b[0m\u001b[0;34m)\u001b[0m\u001b[0;34m\u001b[0m\u001b[0;34m\u001b[0m\u001b[0m\n",
      "\u001b[0;32m/data/pegasus/mokaya/miniconda3/envs/aizynth-dev/lib/python3.8/site-packages/numpy/core/_asarray.py\u001b[0m in \u001b[0;36masarray\u001b[0;34m(a, dtype, order, like)\u001b[0m\n\u001b[1;32m    100\u001b[0m         \u001b[0;32mreturn\u001b[0m \u001b[0m_asarray_with_like\u001b[0m\u001b[0;34m(\u001b[0m\u001b[0ma\u001b[0m\u001b[0;34m,\u001b[0m \u001b[0mdtype\u001b[0m\u001b[0;34m=\u001b[0m\u001b[0mdtype\u001b[0m\u001b[0;34m,\u001b[0m \u001b[0morder\u001b[0m\u001b[0;34m=\u001b[0m\u001b[0morder\u001b[0m\u001b[0;34m,\u001b[0m \u001b[0mlike\u001b[0m\u001b[0;34m=\u001b[0m\u001b[0mlike\u001b[0m\u001b[0;34m)\u001b[0m\u001b[0;34m\u001b[0m\u001b[0;34m\u001b[0m\u001b[0m\n\u001b[1;32m    101\u001b[0m \u001b[0;34m\u001b[0m\u001b[0m\n\u001b[0;32m--> 102\u001b[0;31m     \u001b[0;32mreturn\u001b[0m \u001b[0marray\u001b[0m\u001b[0;34m(\u001b[0m\u001b[0ma\u001b[0m\u001b[0;34m,\u001b[0m \u001b[0mdtype\u001b[0m\u001b[0;34m,\u001b[0m \u001b[0mcopy\u001b[0m\u001b[0;34m=\u001b[0m\u001b[0;32mFalse\u001b[0m\u001b[0;34m,\u001b[0m \u001b[0morder\u001b[0m\u001b[0;34m=\u001b[0m\u001b[0morder\u001b[0m\u001b[0;34m)\u001b[0m\u001b[0;34m\u001b[0m\u001b[0;34m\u001b[0m\u001b[0m\n\u001b[0m\u001b[1;32m    103\u001b[0m \u001b[0;34m\u001b[0m\u001b[0m\n\u001b[1;32m    104\u001b[0m \u001b[0;34m\u001b[0m\u001b[0m\n",
      "\u001b[0;31mKeyboardInterrupt\u001b[0m: "
     ]
    }
   ],
   "source": [
    "# fingerprint distance calculations\n",
    "distances, largest_distances, reactions_dict = fings.calculate_distances(fingerprints)"
   ]
  },
  {
   "cell_type": "code",
   "execution_count": 16,
   "metadata": {},
   "outputs": [
    {
     "output_type": "stream",
     "name": "stdout",
     "text": [
      "2\n705\n"
     ]
    }
   ],
   "source": [
    "none_one = [i for i in largest if i != 1.0]\n",
    "print(len(none_one))\n",
    "print(len(largest))"
   ]
  },
  {
   "cell_type": "code",
   "execution_count": 9,
   "id": "e2ea1955",
   "metadata": {},
   "outputs": [],
   "source": [
    "# fingerprint similarity calculations\n",
    "dists, smallest_sim, largest_sim, reactions_dict_2, lengths = fings.calculate_similarity(reactions_dict)"
   ]
  },
  {
   "cell_type": "code",
   "execution_count": 21,
   "id": "9f762e51",
   "metadata": {},
   "outputs": [
    {
     "data": {
      "image/png": "[encoded data removed]",
      "text/plain": [
       "<Figure size 1080x360 with 3 Axes>"
      ]
     },
     "metadata": {
      "needs_background": "light",
      "transient": {}
     },
     "output_type": "display_data"
    }
   ],
   "source": [
    "#plot SCATTER of largest similarity + route length\n",
    "\n",
    "largest_sim_e = [i for index, i in enumerate(largest_sim) if reactions_dict_2[index].get('type') == 'explore']\n",
    "largest_sim_s = [i for index, i in enumerate(largest_sim) if reactions_dict_2[index].get('type') == 'normal']\n",
    "lengths_e = [i for index, i in enumerate(lengths) if reactions_dict_2[index].get('type') == 'explore']\n",
    "lengths_s = [i for index, i in enumerate(lengths) if reactions_dict_2[index].get('type') == 'normal']\n",
    "\n",
    "\n",
    "%matplotlib inline\n",
    "import matplotlib.pyplot as plt\n",
    "\n",
    "fig, (ax1, ax2 , ax3) = plt.subplots(1, 3, figsize=(15,5))\n",
    "fig.suptitle('Horizontally stacked subplots')\n",
    "ax1.scatter(largest_sim_e, lengths_e, c='red')\n",
    "ax2.scatter(largest_sim_s, lengths_s, c='blue')\n",
    "ax3.scatter(largest_sim_e, lengths_e, c='red')\n",
    "ax3.scatter(largest_sim_s, lengths_s, c='blue')\n",
    "plt.xlabel('Jaccard Similarity')\n",
    "plt.ylabel('Route Length')\n",
    "#plt.ylim(0,100)\n",
    "#plt.savefig('/data/localhost/not-backed-up/mokaya/exscientia/aizynthfinder/Maranga/Images/tg1_all_sim+len.png')\n",
    "plt.show()"
   ]
  },
  {
   "cell_type": "code",
   "execution_count": 19,
   "id": "5e489735",
   "metadata": {},
   "outputs": [
    {
     "name": "stdout",
     "output_type": "stream",
     "text": [
      "[363]\n"
     ]
    }
   ],
   "source": [
    "#find routes that have similarity ca. 0.9 and length 10 - 12\n",
    "indexes = []\n",
    "for index, (x, y) in enumerate(zip(largest_sim, lengths)):\n",
    "    if x < 0.92 and 10 <= y <= 14:\n",
    "        indexes.append(index)\n",
    "print(indexes)"
   ]
  },
  {
   "cell_type": "code",
   "execution_count": 10,
   "id": "70af666d",
   "metadata": {},
   "outputs": [
    {
     "data": {
      "image/png": "[encoded data removed]",
      "text/plain": [
       "<Figure size 432x288 with 1 Axes>"
      ]
     },
     "metadata": {
      "needs_background": "light",
      "transient": {}
     },
     "output_type": "display_data"
    }
   ],
   "source": [
    "%matplotlib inline\n",
    "import matplotlib.pyplot as plt\n",
    "\n",
    "x = np.arange(len(largest_sim))\n",
    "plt.hist(smallest_sim, bins=15)\n",
    "plt.xlabel('Jaccard Similarity')\n",
    "plt.ylabel('Frequency')\n",
    "#plt.ylim(0,100)\n",
    "#plt.savefig('/data/localhost/not-backed-up/mokaya/exscientia/aizynthfinder/Maranga/Images/tg1_exp_all_msim.png')\n",
    "plt.show()"
   ]
  },
  {
   "cell_type": "code",
   "execution_count": 13,
   "id": "79cfac09",
   "metadata": {},
   "outputs": [
    {
     "name": "stdout",
     "output_type": "stream",
     "text": [
      "0\n",
      "563\n",
      "[20, 103, 107, 234, 249, 289, 293, 409, 438, 454, 475, 561, 562]\n"
     ]
    }
   ],
   "source": [
    "zeros=[i for i in largest_sim if i < 0.90]\n",
    "print(len(zeros))\n",
    "\n",
    "print(len(largest_sim))\n",
    "\n",
    "indexes = [index for index, item in enumerate(smallest_sim) if item >= 0.975]\n",
    "print(indexes)"
   ]
  },
  {
   "cell_type": "code",
   "execution_count": 31,
   "id": "bec6a31c",
   "metadata": {},
   "outputs": [
    {
     "data": {
      "image/png": "[encoded data removed]",
      "text/plain": [
       "<Figure size 432x288 with 1 Axes>"
      ]
     },
     "metadata": {
      "needs_background": "light",
      "transient": {}
     },
     "output_type": "display_data"
    }
   ],
   "source": [
    "%matplotlib inline\n",
    "import matplotlib.pyplot as plt\n",
    "\n",
    "x = np.arange(len(smallest_sim))\n",
    "plt.hist(dists, bins=20)\n",
    "plt.xlabel('Jaccard Similarity')\n",
    "plt.ylabel('Frequency')\n",
    "#plt.ylim(0,100)\n",
    "plt.savefig('/data/localhost/not-backed-up/mokaya/exscientia/aizynthfinder/Maranga/Images/tg1_std_all_jacc.png')\n",
    "plt.show()"
   ]
  },
  {
   "cell_type": "code",
   "execution_count": null,
   "id": "892be8fe",
   "metadata": {},
   "outputs": [],
   "source": []
  },
  {
   "cell_type": "code",
   "execution_count": null,
   "id": "83107683",
   "metadata": {},
   "outputs": [],
   "source": []
  },
  {
   "cell_type": "code",
   "execution_count": null,
   "id": "a510e5f6",
   "metadata": {},
   "outputs": [],
   "source": []
  }
 ],
 "metadata": {
  "kernelspec": {
   "name": "python388jvsc74a57bd01ce81150a71727f589a159d7c025889054ace076bb44326ef3200601839cf7ad",
   "display_name": "Python 3.8.8 64-bit ('aizynth-dev': conda)"
  },
  "language_info": {
   "codemirror_mode": {
    "name": "ipython",
    "version": 3
   },
   "file_extension": ".py",
   "mimetype": "text/x-python",
   "name": "python",
   "nbconvert_exporter": "python",
   "pygments_lexer": "ipython3",
   "version": "3.8.8"
  }
 },
 "nbformat": 4,
 "nbformat_minor": 5
}