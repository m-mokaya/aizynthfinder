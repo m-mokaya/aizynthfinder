{
 "cells": [
  {
   "cell_type": "code",
   "execution_count": null,
   "metadata": {},
   "outputs": [],
   "source": [
    "# file to go through a json file depicting reaction tree and pull out interesting formation\n",
    "\n",
    "# []\n",
    "# []\n",
    "# []"
   ]
  },
  {
   "cell_type": "code",
   "execution_count": 1,
   "metadata": {},
   "outputs": [],
   "source": [
    "import aizynthfinder.analysis\n",
    "import aizynthfinder.chem\n",
    "import json"
   ]
  },
  {
   "cell_type": "code",
   "execution_count": 10,
   "metadata": {},
   "outputs": [],
   "source": [
    "# Load in json containing a list of json objects (containing reaction trees), separate each tree to list.aizynthfinder\n",
    "\n",
    "reaction_json = []\n",
    "\n",
    "with open('/data/localhost/not-backed-up/mokaya/exscientia/Retro/AiZynthFinder/aizynthfinder/data/Random/5/d12_aug1_test.json') as data_file:\n",
    "    data = json.load(data_file)\n",
    "    reaction_trees = data['reaction trees']\n",
    "\n",
    "json_reaction_trees = [json.loads(i) for i in reaction_trees]"
   ]
  },
  {
   "cell_type": "code",
   "execution_count": 11,
   "metadata": {},
   "outputs": [],
   "source": [
    "reaction_data = []\n",
    "\n",
    "for i in json_reaction_trees:\n",
    "    if 'children' in i:\n",
    "        child = i.get('children')[0]\n",
    "        if child.get('type') == 'reaction':\n",
    "            metadata = child.get('metadata')\n",
    "            reaction_data.append((child.get('smiles'), metadata.get('classification'), metadata.get('library_occurence'), metadata.get('policy_probability')))\n",
    "        else:\n",
    "            pass\n",
    "    else:\n",
    "        pass"
   ]
  },
  {
   "cell_type": "code",
   "execution_count": 12,
   "metadata": {},
   "outputs": [
    {
     "name": "stdout",
     "output_type": "stream",
     "text": [
      "9\n",
      "[('[N:1][CH3:2]>>O=C1c2ccccc2C(=O)[N:1]1[CH3:2]', 'NH deprotections', 1321, 0.003800000064074993), ('[O:1][C:2]([CH3:3])=[O:4]>>CC(C)(C)[O:1][C:2]([CH3:3])=[O:4]', 'RCO2H deprotections', 3028, 0.2784999907016754)]\n"
     ]
    }
   ],
   "source": [
    "print(len(reaction_data))\n",
    "print(reaction_data[:2])"
   ]
  },
  {
   "cell_type": "code",
   "execution_count": 13,
   "metadata": {},
   "outputs": [],
   "source": [
    "smiles = [i[0] for i in reaction_data]\n",
    "classification = [i[1] for i in reaction_data]\n",
    "uspto_freq = [i[2] for i in reaction_data]\n",
    "policy = [i[3] for i in reaction_data]"
   ]
  },
  {
   "cell_type": "code",
   "execution_count": 14,
   "metadata": {},
   "outputs": [
    {
     "name": "stdout",
     "output_type": "stream",
     "text": [
      "[N:1][CH3:2]>>O=C1c2ccccc2C(=O)[N:1]1[CH3:2]\n",
      "3\n"
     ]
    }
   ],
   "source": [
    "smiles_set = list(set(smiles))\n",
    "print(smiles_set[1])\n",
    "print(len(smiles_set))"
   ]
  },
  {
   "cell_type": "code",
   "execution_count": 15,
   "metadata": {},
   "outputs": [],
   "source": [
    "reaction_class = {}\n",
    "\n",
    "for i in classification:\n",
    "    if (i in reaction_class):\n",
    "        reaction_class[i]['Frequency'] += 1\n",
    "    else:\n",
    "        reaction_class[i] = {}\n",
    "        reaction_class[i]['Frequency'] = 1\n",
    "\n"
   ]
  },
  {
   "cell_type": "code",
   "execution_count": 16,
   "metadata": {},
   "outputs": [
    {
     "name": "stdout",
     "output_type": "stream",
     "text": [
      "{'NH deprotections': {'Frequency': 5}, 'RCO2H deprotections': {'Frequency': 4}}\n"
     ]
    }
   ],
   "source": [
    "reaction_class = dict(sorted(reaction_class.items(), key=lambda item: item[1]['Frequency'], reverse=True))\n",
    "print(reaction_class)"
   ]
  },
  {
   "cell_type": "code",
   "execution_count": 17,
   "metadata": {},
   "outputs": [],
   "source": [
    "import aizynthfinder.analysis\n",
    "import aizynthfinder.chem\n",
    "import json"
   ]
  },
  {
   "cell_type": "code",
   "execution_count": 18,
   "metadata": {},
   "outputs": [],
   "source": [
    "reaction_json = []\n",
    "\n",
    "with open('/data/localhost/not-backed-up/mokaya/exscientia/Retro/AiZynthFinder/aizynthfinder/data/Random/5/d12_aug1_reacton_trees.json') as data_file:\n",
    "    data = json.load(data_file)\n",
    "    reaction_trees = data['reaction trees']\n",
    "\n",
    "json_reaction_trees = [json.loads(i) for i in reaction_trees]\n",
    "\n"
   ]
  },
  {
   "cell_type": "code",
   "execution_count": null,
   "metadata": {},
   "outputs": [],
   "source": [
    "reaction_data = []\n",
    "\n",
    "for i in json_reaction_trees:\n",
    "    if 'children' in i:\n",
    "        child = i.get('children')[0]\n",
    "        if child.get('type') == 'reaction':\n",
    "            metadata = child.get('metadata')\n",
    "            reaction_data.append((child.get('smiles'), metadata.get('classification'), metadata.get('library_occurence'), metadata.get('policy_probability')))\n",
    "        else:\n",
    "            pass\n",
    "    else:\n",
    "        pass"
   ]
  },
  {
   "cell_type": "code",
   "execution_count": null,
   "metadata": {},
   "outputs": [],
   "source": [
    "print(len(reaction_data))\n",
    "print(reaction_data[:2])"
   ]
  },
  {
   "cell_type": "code",
   "execution_count": 19,
   "metadata": {},
   "outputs": [
    {
     "name": "stdout",
     "output_type": "stream",
     "text": [
      "Rank, Reaction, Frequency\n",
      "1,NH deprotections,5\n",
      "2,RCO2H deprotections,4\n"
     ]
    }
   ],
   "source": [
    "print('Rank, Reaction, Frequency')\n",
    "\n",
    "count = 1\n",
    "for x in reaction_class:\n",
    "    print (str(count)+','+ x + ','+ str(reaction_class[x]['Frequency']))\n",
    "    count+=1"
   ]
  },
  {
   "cell_type": "code",
   "execution_count": 11,
   "metadata": {},
   "outputs": [
    {
     "name": "stdout",
     "output_type": "stream",
     "text": [
      "RCO2H deprotections, 2.711199998855591\n",
      "RCO2H deprotections, 8\n",
      "0.33889999985694885\n",
      "\n",
      "\n",
      "NH deprotections, 0.15800000447779894\n",
      "NH deprotections, 3\n",
      "0.052666668159266315\n",
      "\n",
      "\n",
      "O-substitution, 0.1541999951004982\n",
      "O-substitution, 3\n",
      "0.05139999836683273\n",
      "\n",
      "\n",
      "Rank, Reaction, Frequency, Policy value\n",
      "0,N-acylation to amide, 10, 0.2904199993412476\n",
      "1,RCO2H deprotections, 8, 0.33889999985694885\n",
      "2,N-sulfonylation, 6, 0.00039999998989515007\n",
      "3,Other functional group interconversion, 4, 0.0012999999744351953\n",
      "4,NH deprotections, 3, 0.052666668159266315\n",
      "5,O-substitution, 3, 0.05139999836683273\n",
      "6,Halogenation, 2, 0.0008499999821651727\n",
      "7,N-arylation with Ar-X, 1, 0.6646999716758728\n",
      "8,Unassigned, 1, 0.002099999925121665\n",
      "9,Other reductions, 1, 0.03790000081062317\n"
     ]
    }
   ],
   "source": [
    "#calculate average policy predictions for each grouped reaction\n",
    "\n",
    "reaction_class_policy = {}\n",
    "reaction_class_freq = {}\n",
    "\n",
    "for i in reaction_data: \n",
    "    if i[1] in reaction_class_policy:\n",
    "        reaction_class_policy[i[1]] += i[3]\n",
    "        reaction_class_freq[i[1]] += 1\n",
    "    else:\n",
    "        reaction_class_policy[i[1]] = i[3]\n",
    "        reaction_class_freq[i[1]] = 1\n",
    "\n",
    "reaction_class_policy_mean = {}\n",
    "\n",
    "example = 0\n",
    "for i in reaction_class_policy:\n",
    "    reaction_class_policy_mean[i] = (reaction_class_policy.get(i)/reaction_class_freq.get(i))\n",
    "\n",
    "    if example < 3:\n",
    "        print(str(i)+', '+str(reaction_class_policy.get(i)))\n",
    "        print(str(i)+', '+str(reaction_class_freq.get(i)))\n",
    "        print(reaction_class_policy_mean[i])\n",
    "        print('\\n')\n",
    "        \n",
    "    example += 1\n",
    "\n",
    "#reaction_class_policy_mean = dict(sorted(reaction_class_policy_mean.items(), key=lambda item: item[1], reverse=True))\n",
    "\n",
    "print('Rank, Reaction, Frequency, Policy value')\n",
    "\n",
    "'''for x in reaction_class_policy_mean:\n",
    "    print (x + '    '+ str(reaction_class_policy_mean[x]))'''\n",
    "\n",
    "for i in reaction_class:\n",
    "    reaction_class[i]['Policy'] = reaction_class_policy_mean.get(i)\n",
    "\n",
    "count = 0\n",
    "for i in reaction_class:\n",
    "    print(str(count)+','+i+', '+str(reaction_class[i]['Frequency'])+', '+str(reaction_class[i]['Policy']))\n",
    "    count+=1\n",
    "\n",
    "\n"
   ]
  },
  {
   "cell_type": "code",
   "execution_count": 12,
   "metadata": {},
   "outputs": [
    {
     "name": "stdout",
     "output_type": "stream",
     "text": [
      "RCO2H deprotections, 75872\n",
      "RCO2H deprotections, 8\n",
      "9484.0\n",
      "\n",
      "\n",
      "NH deprotections, 14137\n",
      "NH deprotections, 3\n",
      "4712.333333333333\n",
      "\n",
      "\n",
      "O-substitution, 1605\n",
      "O-substitution, 3\n",
      "535.0\n",
      "\n",
      "\n",
      "Rank, Reaction, Frequency, Policy, Literature\n",
      "1,N-acylation to amide, 10, 0.2904, 1650.0\n",
      "2,RCO2H deprotections, 8, 0.3389, 9484.0\n",
      "3,N-sulfonylation, 6, 0.0004, 17.0\n",
      "4,Other functional group interconversion, 4, 0.0013, 98.0\n",
      "5,NH deprotections, 3, 0.0527, 4712.0\n",
      "6,O-substitution, 3, 0.0514, 535.0\n",
      "7,Halogenation, 2, 0.0008, 176.0\n",
      "8,N-arylation with Ar-X, 1, 0.6647, 1306.0\n",
      "9,Unassigned, 1, 0.0021, 14.0\n",
      "10,Other reductions, 1, 0.0379, 439.0\n"
     ]
    }
   ],
   "source": [
    "#calculate average literature prescence for each grouped reaction\n",
    "\n",
    "reaction_class_lit = {}\n",
    "reaction_class_freq = {}\n",
    "\n",
    "for i in reaction_data: \n",
    "    if i[1] in reaction_class_lit:\n",
    "        reaction_class_lit[i[1]] += i[2]\n",
    "        reaction_class_freq[i[1]] += 1\n",
    "    else:\n",
    "        reaction_class_lit[i[1]] = i[2]\n",
    "        reaction_class_freq[i[1]] = 1\n",
    "\n",
    "reaction_class_lit_mean = {}\n",
    "\n",
    "example = 0\n",
    "for i in reaction_class_lit:\n",
    "    reaction_class_lit_mean[i] = (reaction_class_lit.get(i)/reaction_class_freq.get(i))\n",
    "\n",
    "    if example < 3:\n",
    "        print(str(i)+', '+str(reaction_class_lit.get(i)))\n",
    "        print(str(i)+', '+str(reaction_class_freq.get(i)))\n",
    "        print(reaction_class_lit_mean[i])\n",
    "        print('\\n')\n",
    "        \n",
    "    example += 1\n",
    "\n",
    "reaction_class_lit_mean = dict(sorted(reaction_class_lit_mean.items(), key=lambda item: item[1], reverse=True))\n",
    "\n",
    "print('Rank, Reaction, Frequency, Policy, Literature')\n",
    "\n",
    "'''for x in reaction_class_lit_mean:\n",
    "    print (x + '    '+ str(reaction_class_lit_mean[x]))'''\n",
    "\n",
    "\n",
    "for i in reaction_class:\n",
    "    reaction_class[i]['Literature'] = reaction_class_lit_mean.get(i)\n",
    "\n",
    "count = 1\n",
    "for i in reaction_class:\n",
    "    print(str(count)+','+i+', '+str(reaction_class[i]['Frequency'])+', '+str(round(reaction_class[i]['Policy'], 4))+', '+str(round(reaction_class[i]['Literature'], 0)))\n",
    "    count+=1"
   ]
  },
  {
   "cell_type": "code",
   "execution_count": 13,
   "metadata": {},
   "outputs": [
    {
     "name": "stdout",
     "output_type": "stream",
     "text": [
      "('[c:1]1[cH:2][c:3]([CH3:4])[cH:5][cH:6][c:7]1[S:8]([NH2:9])(=[O:10])=[O:11]>>Br[c:1]1[cH:2][c:3]([CH3:4])[cH:5][cH:6][c:7]1[S:8]([NH2:9])(=[O:10])=[O:11]', 'Other functional group interconversion', 3, 0.0007999999797903001)\n",
      "NOVEL REACTION\n",
      "('[c:1]1[cH:2][c:3]([CH3:4])[cH:5][cH:6][c:7]1[S:8]([NH2:9])(=[O:10])=[O:11]>>Br[c:1]1[cH:2][c:3]([CH3:4])[cH:5][cH:6][c:7]1[S:8]([NH2:9])(=[O:10])=[O:11]', 'Other functional group interconversion', 3, 0.0007999999797903001)\n",
      "NOVEL REACTION\n",
      "Nothig new here\n"
     ]
    }
   ],
   "source": [
    "#test of model produces anything new ... (it doesn't)\n",
    "\n",
    "for i in reaction_data:\n",
    "    if i[2] == 3:\n",
    "        print(str(i)+'\\nNOVEL REACTION')\n",
    "    \n",
    "print('Nothig new here')\n"
   ]
  },
  {
   "cell_type": "code",
   "execution_count": 47,
   "metadata": {},
   "outputs": [],
   "source": [
    "from __future__ import annotations\n",
    "from typing import TYPE_CHECKING\n",
    "\n",
    "import numpy as np\n",
    "import pandas as pd\n",
    "\n",
    "from aizynthfinder.chem import RetroReaction\n",
    "from aizynthfinder.utils.models import load_model\n",
    "from aizynthfinder.context.collection import ContextCollection\n",
    "\n",
    "if TYPE_CHECKING:\n",
    "    from aizynthfinder.utils.type_utils import Union, Any, Sequence, List, Tuple\n",
    "    from aizynthfinder.context.config import Configuration\n",
    "    from aizynthfinder.chem import TreeMolecule\n",
    "\n",
    "def _make_fingerprint(obj: Union[TreeMolecule, RetroReaction], model: Any) -> np.ndarray:\n",
    "    fingerprint = obj.fingerprint(radius=2, nbits=len(model))\n",
    "    return fingerprint.reshape([1, len(model)])"
   ]
  },
  {
   "cell_type": "code",
   "execution_count": 48,
   "metadata": {},
   "outputs": [
    {
     "name": "stdout",
     "output_type": "stream",
     "text": [
      "[[1. 1. 1. 1. 1.]]\n"
     ]
    }
   ],
   "source": [
    "# test attributes of RetroReaction\n",
    "\n",
    "#make RetroReaction\n",
    "from aizynthfinder.chem import RetroReaction\n",
    "import aizynthfinder.chem as chem\n",
    "import rdkit\n",
    "\n",
    "mol_parent = rdkit.Chem.MolFromSmiles('CC1CC2C(C)N2CC1C')\n",
    "mol_child = rdkit.Chem.MolFromSmiles('CC1CN2C(C)C2C(=O)C1C')\n",
    "\n",
    "molecule = chem.Molecule(rd_mol=mol)\n",
    "#retroRxn = RetroReaction.from_reaction_smiles(smiles='CC1CC2C(C)N2CC1C', smarts='[C:1]([CH3:2])[CH3:3]>>O=[C:1]([CH3:2])[CH3:3]')\n",
    "\n",
    "tree_mol_parent = chem.TreeMolecule(smiles='CC1CN2C(C)C2C(=O)C1C', rd_mol=mol_child, transform=1, parent=None)\n",
    "\n",
    "fingerPrint = _make_fingerprint(tree_mol_parent, 'uspto')\n",
    "print(fingerPrint)"
   ]
  },
  {
   "cell_type": "code",
   "execution_count": null,
   "metadata": {},
   "outputs": [],
   "source": []
  }
 ],
 "metadata": {
  "kernelspec": {
   "display_name": "Python 3.8.8 64-bit ('aizynth-dev': conda)",
   "metadata": {
    "interpreter": {
     "hash": "1ce81150a71727f589a159d7c025889054ace076bb44326ef3200601839cf7ad"
    }
   },
   "name": "python3"
  },
  "language_info": {
   "codemirror_mode": {
    "name": "ipython",
    "version": 3
   },
   "file_extension": ".py",
   "mimetype": "text/x-python",
   "name": "python",
   "nbconvert_exporter": "python",
   "pygments_lexer": "ipython3",
   "version": "3.8.8"
  },
  "orig_nbformat": 2
 },
 "nbformat": 4,
 "nbformat_minor": 2
}