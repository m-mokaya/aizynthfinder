{
 "cells": [
  {
   "cell_type": "code",
   "execution_count": 1,
   "id": "f774385b",
   "metadata": {},
   "outputs": [],
   "source": [
    "import pandas as pd\n",
    "import pickle\n",
    "import json\n",
    "import numpy as np\n",
    "import sys\n",
    "\n",
    "sys.path.append('../../')\n",
    "\n",
    "from aizynthfinder.analysis import ReactionTree\n",
    "import aizynthfinder.context.scoring as scoring\n",
    "import aizynthfinder.context.config as con\n",
    "\n",
    "from aizynthfinder.analysis import ReactionTree"
   ]
  },
  {
   "cell_type": "code",
   "execution_count": 60,
   "metadata": {
    "tags": []
   },
   "outputs": [
    {
     "output_type": "stream",
     "name": "stdout",
     "text": [
      "True: 100.0\nFalse:  0.0\n<class 'dict'>\n"
     ]
    }
   ],
   "source": [
    "#import from .hdf5 files\n",
    "data = pd.read_hdf('/data/localhost/not-backed-up/mokaya/exscientia/aizynthfinder/Maranga/similarity/results/target_2_aug0_std.hdf5', 'table')\n",
    "\n",
    "solved_data = data.loc[(data.is_solved==True)]\n",
    "unsolved_data = data.loc[(data.is_solved==False)]\n",
    "all_solved = data.is_solved.values\n",
    "\n",
    "true = []\n",
    "false = []\n",
    "\n",
    "for i in range(len(all_solved)):\n",
    "    if all_solved[i] == True:\n",
    "        true.append(i)\n",
    "    else:\n",
    "        false.append(i)\n",
    "\n",
    "print('True:', (len(true)/len(all_solved))*100)\n",
    "print('False: ', (len(false)/len(all_solved))*100)\n",
    "\n",
    "from aizynthfinder.analysis import ReactionTree\n",
    "\n",
    "all_trees = data.trees.values\n",
    "all_solved_trees = solved_data.trees.values\n",
    "all_unsolved_trees = unsolved_data.trees.values\n",
    "print(type(all_solved_trees[0][0]))\n",
    "first_molecule_tree = all_trees[0]\n",
    "\n",
    "json_results = []\n",
    "solved_json_results = []\n",
    "unsolved_json_results = []\n",
    "\n",
    "solved_dict = []\n",
    "\n",
    "for i in all_trees:\n",
    "    for itree, tree in enumerate(i):\n",
    "        reaction_json = ReactionTree.from_dict(tree).to_json()\n",
    "        json_results.append(reaction_json)\n",
    "\n",
    "for i in all_unsolved_trees:\n",
    "    for itree, tree in enumerate(i):\n",
    "        unsolved_reaction_json = ReactionTree.from_dict(tree).to_json()\n",
    "        unsolved_json_results.append(unsolved_reaction_json)\n",
    "\n",
    "for i in all_solved_trees:\n",
    "    for itree, tree in enumerate(i):\n",
    "        solved_reaction_json = ReactionTree.from_dict(tree)\n",
    "        solved_dict.append(solved_reaction_json)\n",
    "\n",
    "data = {'reaction trees': solved_json_results}\n"
   ]
  },
  {
   "cell_type": "code",
   "execution_count": 2,
   "metadata": {},
   "outputs": [
    {
     "output_type": "error",
     "ename": "NameError",
     "evalue": "name 'data' is not defined",
     "traceback": [
      "\u001b[0;31m---------------------------------------------------------------------------\u001b[0m",
      "\u001b[0;31mNameError\u001b[0m                                 Traceback (most recent call last)",
      "\u001b[0;32m<ipython-input-2-409783a64e0f>\u001b[0m in \u001b[0;36m<module>\u001b[0;34m\u001b[0m\n\u001b[1;32m      1\u001b[0m \u001b[0;32mwith\u001b[0m \u001b[0mopen\u001b[0m\u001b[0;34m(\u001b[0m\u001b[0;34m'/data/localhost/not-backed-up/mokaya/exscientia/aizynthfinder/Maranga/parameters/results/t1_aug0_cluster.json'\u001b[0m\u001b[0;34m,\u001b[0m \u001b[0;34m'w'\u001b[0m\u001b[0;34m)\u001b[0m \u001b[0;32mas\u001b[0m \u001b[0moutfile\u001b[0m\u001b[0;34m:\u001b[0m\u001b[0;34m\u001b[0m\u001b[0;34m\u001b[0m\u001b[0m\n\u001b[0;32m----> 2\u001b[0;31m     \u001b[0mjson\u001b[0m\u001b[0;34m.\u001b[0m\u001b[0mdump\u001b[0m\u001b[0;34m(\u001b[0m\u001b[0mdata\u001b[0m\u001b[0;34m,\u001b[0m \u001b[0moutfile\u001b[0m\u001b[0;34m)\u001b[0m\u001b[0;34m\u001b[0m\u001b[0;34m\u001b[0m\u001b[0m\n\u001b[0m",
      "\u001b[0;31mNameError\u001b[0m: name 'data' is not defined"
     ]
    }
   ],
   "source": [
    "with open('/data/localhost/not-backed-up/mokaya/exscientia/aizynthfinder/Maranga/parameters/results/t1_aug0_cluster.json', 'w') as outfile:\n",
    "    json.dump(data, outfile)"
   ]
  },
  {
   "cell_type": "code",
   "execution_count": 47,
   "id": "585a61cb",
   "metadata": {},
   "outputs": [],
   "source": [
    "#import from json\n",
    "data_file = '/data/localhost/not-backed-up/mokaya/exscientia/aizynthfinder/Maranga/parameters/results/t1_aug0_time.json'"
   ]
  },
  {
   "cell_type": "code",
   "execution_count": 4,
   "id": "472339de",
   "metadata": {},
   "outputs": [],
   "source": [
    "configfile = '/data/localhost/not-backed-up/mokaya/exscientia/aiZynthFinder/aizynthfinder/data/config.yml'"
   ]
  },
  {
   "cell_type": "code",
   "execution_count": 5,
   "id": "15b6d4dd",
   "metadata": {},
   "outputs": [],
   "source": [
    "config = con.Configuration.from_file(filename=\"/data/pegasus/not-backed-up/mokaya/exscientia/aizynthfinder/aizynthfinder/data/config.yml\")"
   ]
  },
  {
   "cell_type": "code",
   "execution_count": 48,
   "id": "f18947c8",
   "metadata": {},
   "outputs": [],
   "source": [
    "with open(data_file) as data_file:\n",
    "    data = json.load(data_file)"
   ]
  },
  {
   "cell_type": "code",
   "execution_count": 49,
   "metadata": {
    "tags": []
   },
   "outputs": [
    {
     "output_type": "stream",
     "name": "stdout",
     "text": [
      "<class 'list'>\n"
     ]
    }
   ],
   "source": [
    "print(type(data))"
   ]
  },
  {
   "cell_type": "code",
   "execution_count": 51,
   "id": "57ba7155",
   "metadata": {},
   "outputs": [],
   "source": [
    "reaction_trees = [ReactionTree.from_dict(i) for i in data]"
   ]
  },
  {
   "cell_type": "code",
   "execution_count": 52,
   "id": "7384354a",
   "metadata": {},
   "outputs": [
    {
     "output_type": "stream",
     "name": "stdout",
     "text": [
      "5\n"
     ]
    }
   ],
   "source": [
    "print(len(reaction_trees))"
   ]
  },
  {
   "cell_type": "code",
   "execution_count": 53,
   "id": "493bab2c",
   "metadata": {},
   "outputs": [],
   "source": [
    "for i, tree in enumerate(reaction_trees):\n",
    "    imageFile = f'/data/localhost/not-backed-up/mokaya/exscientia/aizynthfinder/Maranga/parameters/images/t1_aug0_time/route_{i:03d}.png'\n",
    "    tree.to_image().save(imageFile)"
   ]
  },
  {
   "cell_type": "code",
   "execution_count": 62,
   "metadata": {},
   "outputs": [],
   "source": [
    "import random\n",
    "\n",
    "rnd_solved_trees = solved_dict.copy()\n",
    "\n",
    "random.shuffle(rnd_solved_trees)\n",
    "\n",
    "for i in range(10):\n",
    "    tree = rnd_solved_trees[i]\n",
    "    imageFile = '/data/localhost/not-backed-up/mokaya/exscientia/aizynthfinder/Maranga/similarity/results/images/t2_aug0_std_'+str(i)+'_.png'\n",
    "    tree.to_image().save(imageFile)"
   ]
  },
  {
   "cell_type": "code",
   "execution_count": 49,
   "id": "00539bd7",
   "metadata": {},
   "outputs": [
    {
     "output_type": "stream",
     "name": "stdout",
     "text": [
      "[58.3046875, 98.5390625, 109.28125, 106.15625, 923.9828071594238, 109.28125, 1939.4632454067469, 477.9854736328125, 588.3255920410156, 588.3255920410156, 89.75, 58.3046875, 98.5390625, 98.5390625, 109.28125, 106.15625, 82.669921875, 113.1875, 89.75, 98.5390625, 109.28125, 106.15625, 137.6015625, 89.75, 109.28125, 923.9828071594238, 268.03369140625, 107.71875, 98.34375, 89.75, 304.8935852050781, 107.71875, 165.9432373046875, 71.0, 109.28125, 161.6341552734375, 461.98609685897827, 141.8984375, 107.71875, 131.3515625, 89.75, 109.28125, 665.14963722229, 268.03369140625, 107.71875, 86.625, 109.28125, 137.6015625, 923.9828071594238, 219.14453125, 98.5390625, 89.75, 109.28125, 137.6015625, 923.9828071594238, 109.28125, 268.03369140625, 107.71875, 150.541015625, 165.9432373046875, 89.75, 98.5390625, 109.28125, 106.15625, 137.6015625, 137.6015625, 86.625, 109.28125, 213.626953125, 213.626953125, 268.03369140625, 109.28125, 137.6015625, 398.56786346435547, 388.41161346435547, 141.8984375, 89.75, 86.625, 109.28125, 113.1875, 137.6015625, 137.6015625, 89.75, 86.625, 109.28125, 107.71875, 198.63671875, 109.28125, 268.03369140625, 107.71875, 95.21875, 83.3046875, 95.21875, 109.28125, 268.03369140625, 107.71875, 95.21875, 83.3046875, 95.21875, 100.1015625, 100.1015625, 100.1015625, 30.375, 89.75, 98.5390625, 98.5390625, 86.625, 98.5390625, 109.28125, 923.9828071594238, 162.6015625, 219.14453125, 107.71875]\n"
     ]
    }
   ],
   "source": [
    "#scoring\n",
    "\n",
    "scorer = scoring.RouteCostScorer(config)\n",
    "cost = scorer(solved_dict)\n",
    "\n",
    "print(cost)"
   ]
  },
  {
   "cell_type": "code",
   "execution_count": 89,
   "id": "49b79c30",
   "metadata": {
    "tags": [
     "outputPrepend"
    ]
   },
   "outputs": [
    {
     "name": "stdout",
     "output_type": "stream",
     "text": [
      "y:  type\n",
      "Value mol\n",
      "mol found\n",
      "Key:  type\n",
      "Value reaction\n",
      "reaction found\n",
      "{'template_hash': '9860ae00c69ec5f62a57f92b2877531856501cab10bf169231c3b9a0', 'classification': 'Other functional group interconversion', 'library_occurence': 197, 'policy_probability': 0.002400000113993883, 'policy_name': 'uspto', 'template_code': 27892}\n",
      "Key:  type\n",
      "Value mol\n",
      "mol found\n",
      "Key:  type\n",
      "Value reaction\n",
      "reaction found\n",
      "{'template_hash': '164bcd5926595fb14a6a9bdfa6263711f1e81657ce47f1a9ea439ccb', 'classification': 'Amide to amine reduction', 'library_occurence': 1676, 'policy_probability': 0.03269999846816063, 'policy_name': 'uspto', 'template_code': 4087}\n",
      "Key:  type\n",
      "Value mol\n",
      "mol found\n",
      "Key:  type\n",
      "Value reaction\n",
      "reaction found\n",
      "{'template_hash': '4706e6cfa0d924430570646678e66958822140d1963f55fba6317d0e', 'classification': 'N-acylation to amide', 'library_occurence': 151, 'policy_probability': 0.6320000290870667, 'policy_name': 'uspto', 'template_code': 13000}\n",
      "Key:  type\n",
      "Value mol\n",
      "mol found\n",
      "Key:  type\n",
      "Value reaction\n",
      "reaction found\n",
      "{'template_hash': '0fe5fe96b875ce0c170facc38b72eaf6812177cb97668ba10aa2b6bc', 'classification': 'Heteroaryl N-alkylation', 'library_occurence': 4, 'policy_probability': 0.39820000529289246, 'policy_name': 'uspto', 'template_code': 2893}\n",
      "Key:  type\n",
      "Value mol\n",
      "mol found\n",
      "Key:  type\n",
      "Value reaction\n",
      "reaction found\n",
      "{'template_hash': '6e856cc81e13f8cff8f6e152bcc279f4674aac232ffcb59379cdffd5', 'classification': 'Halogenation', 'library_occurence': 3, 'policy_probability': 8.46980094909668, 'policy_name': 'uspto', 'template_code': 20299}\n",
      "Key:  hide\n",
      "Value False\n",
      "Key:  smiles\n",
      "Value Br[C:4]([C:2](=[O:1])[OH:3])[cH3:5]>>[O:1]=[C:2]([OH:3])[C:4][cH3:5]\n",
      "Key:  is_reaction\n",
      "Value True\n",
      "Key:  metadata\n",
      "Value {'template_hash': '6e856cc81e13f8cff8f6e152bcc279f4674aac232ffcb59379cdffd5', 'classification': 'Halogenation', 'library_occurence': 3, 'policy_probability': 8.46980094909668, 'policy_name': 'uspto', 'template_code': 20299}\n",
      "Key:  children\n",
      "Value [{'type': 'mol', 'hide': False, 'smiles': 'O=C(O)Cc1ccc(Cl)cc1', 'is_chemical': True, 'in_stock': True}]\n",
      "Key:  hide\n",
      "Value False\n",
      "Key:  smiles\n",
      "Value O=C(O)C(Br)c1ccc(Cl)cc1\n",
      "Key:  is_chemical\n",
      "Value True\n",
      "Key:  in_stock\n",
      "Value False\n",
      "Key:  children\n",
      "Value [{'type': 'reaction', 'hide': False, 'smiles': 'Br[C:4]([C:2](=[O:1])[OH:3])[cH3:5]>>[O:1]=[C:2]([OH:3])[C:4][cH3:5]', 'is_reaction': True, 'metadata': {'template_hash': '6e856cc81e13f8cff8f6e152bcc279f4674aac232ffcb59379cdffd5', 'classification': 'Halogenation', 'library_occurence': 3, 'policy_probability': 8.46980094909668, 'policy_name': 'uspto', 'template_code': 20299}, 'children': [{'type': 'mol', 'hide': False, 'smiles': 'O=C(O)Cc1ccc(Cl)cc1', 'is_chemical': True, 'in_stock': True}]}]\n",
      "Key:  hide\n",
      "Value False\n",
      "Key:  smiles\n",
      "Value [C:1]([cH3:2])([C:3](=[O:4])[OH:5])[N:7]([CH3:6])[CH3:8]>>Br[C:1]([cH3:2])[C:3](=[O:4])[OH:5].[CH3:6][N:7][CH3:8]\n",
      "Key:  is_reaction\n",
      "Value True\n",
      "Key:  metadata\n",
      "Value {'template_hash': '0fe5fe96b875ce0c170facc38b72eaf6812177cb97668ba10aa2b6bc', 'classification': 'Heteroaryl N-alkylation', 'library_occurence': 4, 'policy_probability': 0.39820000529289246, 'policy_name': 'uspto', 'template_code': 2893}\n",
      "Key:  children\n",
      "Value [{'type': 'mol', 'hide': False, 'smiles': 'C1CCCNCC1', 'is_chemical': True, 'in_stock': True}, {'type': 'mol', 'hide': False, 'smiles': 'O=C(O)C(Br)c1ccc(Cl)cc1', 'is_chemical': True, 'in_stock': False, 'children': [{'type': 'reaction', 'hide': False, 'smiles': 'Br[C:4]([C:2](=[O:1])[OH:3])[cH3:5]>>[O:1]=[C:2]([OH:3])[C:4][cH3:5]', 'is_reaction': True, 'metadata': {'template_hash': '6e856cc81e13f8cff8f6e152bcc279f4674aac232ffcb59379cdffd5', 'classification': 'Halogenation', 'library_occurence': 3, 'policy_probability': 8.46980094909668, 'policy_name': 'uspto', 'template_code': 20299}, 'children': [{'type': 'mol', 'hide': False, 'smiles': 'O=C(O)Cc1ccc(Cl)cc1', 'is_chemical': True, 'in_stock': True}]}]}]\n",
      "Key:  hide\n",
      "Value False\n",
      "Key:  smiles\n",
      "Value O=C(O)C(c1ccc(Cl)cc1)N1CCCCCC1\n",
      "Key:  is_chemical\n",
      "Value True\n",
      "Key:  in_stock\n",
      "Value False\n",
      "Key:  children\n",
      "Value [{'type': 'reaction', 'hide': False, 'smiles': '[C:1]([cH3:2])([C:3](=[O:4])[OH:5])[N:7]([CH3:6])[CH3:8]>>Br[C:1]([cH3:2])[C:3](=[O:4])[OH:5].[CH3:6][N:7][CH3:8]', 'is_reaction': True, 'metadata': {'template_hash': '0fe5fe96b875ce0c170facc38b72eaf6812177cb97668ba10aa2b6bc', 'classification': 'Heteroaryl N-alkylation', 'library_occurence': 4, 'policy_probability': 0.39820000529289246, 'policy_name': 'uspto', 'template_code': 2893}, 'children': [{'type': 'mol', 'hide': False, 'smiles': 'C1CCCNCC1', 'is_chemical': True, 'in_stock': True}, {'type': 'mol', 'hide': False, 'smiles': 'O=C(O)C(Br)c1ccc(Cl)cc1', 'is_chemical': True, 'in_stock': False, 'children': [{'type': 'reaction', 'hide': False, 'smiles': 'Br[C:4]([C:2](=[O:1])[OH:3])[cH3:5]>>[O:1]=[C:2]([OH:3])[C:4][cH3:5]', 'is_reaction': True, 'metadata': {'template_hash': '6e856cc81e13f8cff8f6e152bcc279f4674aac232ffcb59379cdffd5', 'classification': 'Halogenation', 'library_occurence': 3, 'policy_probability': 8.46980094909668, 'policy_name': 'uspto', 'template_code': 20299}, 'children': [{'type': 'mol', 'hide': False, 'smiles': 'O=C(O)Cc1ccc(Cl)cc1', 'is_chemical': True, 'in_stock': True}]}]}]}]\n",
      "Key:  hide\n",
      "Value False\n",
      "Key:  smiles\n",
      "Value [C:1]([CH3:2])(=[O:3])[N:4][S:5](=[O:6])(=[O:7])[cH3:8]>>O[C:1]([CH3:2])=[O:3].[N:4][S:5](=[O:6])(=[O:7])[cH3:8]\n",
      "Key:  is_reaction\n",
      "Value True\n",
      "Key:  metadata\n",
      "Value {'template_hash': '4706e6cfa0d924430570646678e66958822140d1963f55fba6317d0e', 'classification': 'N-acylation to amide', 'library_occurence': 151, 'policy_probability': 0.6320000290870667, 'policy_name': 'uspto', 'template_code': 13000}\n",
      "Key:  children\n",
      "Value [{'type': 'mol', 'hide': False, 'smiles': 'NS(=O)(=O)c1ccccc1', 'is_chemical': True, 'in_stock': True}, {'type': 'mol', 'hide': False, 'smiles': 'O=C(O)C(c1ccc(Cl)cc1)N1CCCCCC1', 'is_chemical': True, 'in_stock': False, 'children': [{'type': 'reaction', 'hide': False, 'smiles': '[C:1]([cH3:2])([C:3](=[O:4])[OH:5])[N:7]([CH3:6])[CH3:8]>>Br[C:1]([cH3:2])[C:3](=[O:4])[OH:5].[CH3:6][N:7][CH3:8]', 'is_reaction': True, 'metadata': {'template_hash': '0fe5fe96b875ce0c170facc38b72eaf6812177cb97668ba10aa2b6bc', 'classification': 'Heteroaryl N-alkylation', 'library_occurence': 4, 'policy_probability': 0.39820000529289246, 'policy_name': 'uspto', 'template_code': 2893}, 'children': [{'type': 'mol', 'hide': False, 'smiles': 'C1CCCNCC1', 'is_chemical': True, 'in_stock': True}, {'type': 'mol', 'hide': False, 'smiles': 'O=C(O)C(Br)c1ccc(Cl)cc1', 'is_chemical': True, 'in_stock': False, 'children': [{'type': 'reaction', 'hide': False, 'smiles': 'Br[C:4]([C:2](=[O:1])[OH:3])[cH3:5]>>[O:1]=[C:2]([OH:3])[C:4][cH3:5]', 'is_reaction': True, 'metadata': {'template_hash': '6e856cc81e13f8cff8f6e152bcc279f4674aac232ffcb59379cdffd5', 'classification': 'Halogenation', 'library_occurence': 3, 'policy_probability': 8.46980094909668, 'policy_name': 'uspto', 'template_code': 20299}, 'children': [{'type': 'mol', 'hide': False, 'smiles': 'O=C(O)Cc1ccc(Cl)cc1', 'is_chemical': True, 'in_stock': True}]}]}]}]}]\n",
      "Key:  hide\n",
      "Value False\n",
      "Key:  smiles\n",
      "Value O=C(NS(=O)(=O)c1ccccc1)C(c1ccc(Cl)cc1)N1CCCCCC1\n",
      "Key:  is_chemical\n",
      "Value True\n",
      "Key:  in_stock\n",
      "Value False\n",
      "Key:  children\n",
      "Value [{'type': 'reaction', 'hide': False, 'smiles': '[C:1]([CH3:2])(=[O:3])[N:4][S:5](=[O:6])(=[O:7])[cH3:8]>>O[C:1]([CH3:2])=[O:3].[N:4][S:5](=[O:6])(=[O:7])[cH3:8]', 'is_reaction': True, 'metadata': {'template_hash': '4706e6cfa0d924430570646678e66958822140d1963f55fba6317d0e', 'classification': 'N-acylation to amide', 'library_occurence': 151, 'policy_probability': 0.6320000290870667, 'policy_name': 'uspto', 'template_code': 13000}, 'children': [{'type': 'mol', 'hide': False, 'smiles': 'NS(=O)(=O)c1ccccc1', 'is_chemical': True, 'in_stock': True}, {'type': 'mol', 'hide': False, 'smiles': 'O=C(O)C(c1ccc(Cl)cc1)N1CCCCCC1', 'is_chemical': True, 'in_stock': False, 'children': [{'type': 'reaction', 'hide': False, 'smiles': '[C:1]([cH3:2])([C:3](=[O:4])[OH:5])[N:7]([CH3:6])[CH3:8]>>Br[C:1]([cH3:2])[C:3](=[O:4])[OH:5].[CH3:6][N:7][CH3:8]', 'is_reaction': True, 'metadata': {'template_hash': '0fe5fe96b875ce0c170facc38b72eaf6812177cb97668ba10aa2b6bc', 'classification': 'Heteroaryl N-alkylation', 'library_occurence': 4, 'policy_probability': 0.39820000529289246, 'policy_name': 'uspto', 'template_code': 2893}, 'children': [{'type': 'mol', 'hide': False, 'smiles': 'C1CCCNCC1', 'is_chemical': True, 'in_stock': True}, {'type': 'mol', 'hide': False, 'smiles': 'O=C(O)C(Br)c1ccc(Cl)cc1', 'is_chemical': True, 'in_stock': False, 'children': [{'type': 'reaction', 'hide': False, 'smiles': 'Br[C:4]([C:2](=[O:1])[OH:3])[cH3:5]>>[O:1]=[C:2]([OH:3])[C:4][cH3:5]', 'is_reaction': True, 'metadata': {'template_hash': '6e856cc81e13f8cff8f6e152bcc279f4674aac232ffcb59379cdffd5', 'classification': 'Halogenation', 'library_occurence': 3, 'policy_probability': 8.46980094909668, 'policy_name': 'uspto', 'template_code': 20299}, 'children': [{'type': 'mol', 'hide': False, 'smiles': 'O=C(O)Cc1ccc(Cl)cc1', 'is_chemical': True, 'in_stock': True}]}]}]}]}]}]\n",
      "Key:  hide\n",
      "Value False\n",
      "Key:  smiles\n",
      "Value [C:1]([NH2:2])[CH3:3]>>O=[C:1]([NH2:2])[CH3:3]\n",
      "Key:  is_reaction\n",
      "Value True\n",
      "Key:  metadata\n",
      "Value {'template_hash': '164bcd5926595fb14a6a9bdfa6263711f1e81657ce47f1a9ea439ccb', 'classification': 'Amide to amine reduction', 'library_occurence': 1676, 'policy_probability': 0.03269999846816063, 'policy_name': 'uspto', 'template_code': 4087}\n",
      "Key:  children\n",
      "Value [{'type': 'mol', 'hide': False, 'smiles': 'O=C(NS(=O)(=O)c1ccccc1)C(c1ccc(Cl)cc1)N1CCCCCC1', 'is_chemical': True, 'in_stock': False, 'children': [{'type': 'reaction', 'hide': False, 'smiles': '[C:1]([CH3:2])(=[O:3])[N:4][S:5](=[O:6])(=[O:7])[cH3:8]>>O[C:1]([CH3:2])=[O:3].[N:4][S:5](=[O:6])(=[O:7])[cH3:8]', 'is_reaction': True, 'metadata': {'template_hash': '4706e6cfa0d924430570646678e66958822140d1963f55fba6317d0e', 'classification': 'N-acylation to amide', 'library_occurence': 151, 'policy_probability': 0.6320000290870667, 'policy_name': 'uspto', 'template_code': 13000}, 'children': [{'type': 'mol', 'hide': False, 'smiles': 'NS(=O)(=O)c1ccccc1', 'is_chemical': True, 'in_stock': True}, {'type': 'mol', 'hide': False, 'smiles': 'O=C(O)C(c1ccc(Cl)cc1)N1CCCCCC1', 'is_chemical': True, 'in_stock': False, 'children': [{'type': 'reaction', 'hide': False, 'smiles': '[C:1]([cH3:2])([C:3](=[O:4])[OH:5])[N:7]([CH3:6])[CH3:8]>>Br[C:1]([cH3:2])[C:3](=[O:4])[OH:5].[CH3:6][N:7][CH3:8]', 'is_reaction': True, 'metadata': {'template_hash': '0fe5fe96b875ce0c170facc38b72eaf6812177cb97668ba10aa2b6bc', 'classification': 'Heteroaryl N-alkylation', 'library_occurence': 4, 'policy_probability': 0.39820000529289246, 'policy_name': 'uspto', 'template_code': 2893}, 'children': [{'type': 'mol', 'hide': False, 'smiles': 'C1CCCNCC1', 'is_chemical': True, 'in_stock': True}, {'type': 'mol', 'hide': False, 'smiles': 'O=C(O)C(Br)c1ccc(Cl)cc1', 'is_chemical': True, 'in_stock': False, 'children': [{'type': 'reaction', 'hide': False, 'smiles': 'Br[C:4]([C:2](=[O:1])[OH:3])[cH3:5]>>[O:1]=[C:2]([OH:3])[C:4][cH3:5]', 'is_reaction': True, 'metadata': {'template_hash': '6e856cc81e13f8cff8f6e152bcc279f4674aac232ffcb59379cdffd5', 'classification': 'Halogenation', 'library_occurence': 3, 'policy_probability': 8.46980094909668, 'policy_name': 'uspto', 'template_code': 20299}, 'children': [{'type': 'mol', 'hide': False, 'smiles': 'O=C(O)Cc1ccc(Cl)cc1', 'is_chemical': True, 'in_stock': True}]}]}]}]}]}]}]\n",
      "Key:  hide\n",
      "Value False\n",
      "Key:  smiles\n",
      "Value O=S(=O)(NCC(c1ccc(Cl)cc1)N1CCCCCC1)c1ccccc1\n",
      "Key:  is_chemical\n",
      "Value True\n",
      "Key:  in_stock\n",
      "Value False\n",
      "Key:  children\n",
      "Value [{'type': 'reaction', 'hide': False, 'smiles': '[C:1]([NH2:2])[CH3:3]>>O=[C:1]([NH2:2])[CH3:3]', 'is_reaction': True, 'metadata': {'template_hash': '164bcd5926595fb14a6a9bdfa6263711f1e81657ce47f1a9ea439ccb', 'classification': 'Amide to amine reduction', 'library_occurence': 1676, 'policy_probability': 0.03269999846816063, 'policy_name': 'uspto', 'template_code': 4087}, 'children': [{'type': 'mol', 'hide': False, 'smiles': 'O=C(NS(=O)(=O)c1ccccc1)C(c1ccc(Cl)cc1)N1CCCCCC1', 'is_chemical': True, 'in_stock': False, 'children': [{'type': 'reaction', 'hide': False, 'smiles': '[C:1]([CH3:2])(=[O:3])[N:4][S:5](=[O:6])(=[O:7])[cH3:8]>>O[C:1]([CH3:2])=[O:3].[N:4][S:5](=[O:6])(=[O:7])[cH3:8]', 'is_reaction': True, 'metadata': {'template_hash': '4706e6cfa0d924430570646678e66958822140d1963f55fba6317d0e', 'classification': 'N-acylation to amide', 'library_occurence': 151, 'policy_probability': 0.6320000290870667, 'policy_name': 'uspto', 'template_code': 13000}, 'children': [{'type': 'mol', 'hide': False, 'smiles': 'NS(=O)(=O)c1ccccc1', 'is_chemical': True, 'in_stock': True}, {'type': 'mol', 'hide': False, 'smiles': 'O=C(O)C(c1ccc(Cl)cc1)N1CCCCCC1', 'is_chemical': True, 'in_stock': False, 'children': [{'type': 'reaction', 'hide': False, 'smiles': '[C:1]([cH3:2])([C:3](=[O:4])[OH:5])[N:7]([CH3:6])[CH3:8]>>Br[C:1]([cH3:2])[C:3](=[O:4])[OH:5].[CH3:6][N:7][CH3:8]', 'is_reaction': True, 'metadata': {'template_hash': '0fe5fe96b875ce0c170facc38b72eaf6812177cb97668ba10aa2b6bc', 'classification': 'Heteroaryl N-alkylation', 'library_occurence': 4, 'policy_probability': 0.39820000529289246, 'policy_name': 'uspto', 'template_code': 2893}, 'children': [{'type': 'mol', 'hide': False, 'smiles': 'C1CCCNCC1', 'is_chemical': True, 'in_stock': True}, {'type': 'mol', 'hide': False, 'smiles': 'O=C(O)C(Br)c1ccc(Cl)cc1', 'is_chemical': True, 'in_stock': False, 'children': [{'type': 'reaction', 'hide': False, 'smiles': 'Br[C:4]([C:2](=[O:1])[OH:3])[cH3:5]>>[O:1]=[C:2]([OH:3])[C:4][cH3:5]', 'is_reaction': True, 'metadata': {'template_hash': '6e856cc81e13f8cff8f6e152bcc279f4674aac232ffcb59379cdffd5', 'classification': 'Halogenation', 'library_occurence': 3, 'policy_probability': 8.46980094909668, 'policy_name': 'uspto', 'template_code': 20299}, 'children': [{'type': 'mol', 'hide': False, 'smiles': 'O=C(O)Cc1ccc(Cl)cc1', 'is_chemical': True, 'in_stock': True}]}]}]}]}]}]}]}]\n",
      "Key:  hide\n",
      "Value False\n",
      "Key:  smiles\n",
      "Value [c:1]([cH2:2])[cH2:3]>>Cl[c:1]([cH2:2])[cH2:3]\n",
      "Key:  is_reaction\n",
      "Value True\n",
      "Key:  metadata\n",
      "Value {'template_hash': '9860ae00c69ec5f62a57f92b2877531856501cab10bf169231c3b9a0', 'classification': 'Other functional group interconversion', 'library_occurence': 197, 'policy_probability': 0.002400000113993883, 'policy_name': 'uspto', 'template_code': 27892}\n",
      "Key:  children\n",
      "Value [{'type': 'mol', 'hide': False, 'smiles': 'O=S(=O)(NCC(c1ccc(Cl)cc1)N1CCCCCC1)c1ccccc1', 'is_chemical': True, 'in_stock': False, 'children': [{'type': 'reaction', 'hide': False, 'smiles': '[C:1]([NH2:2])[CH3:3]>>O=[C:1]([NH2:2])[CH3:3]', 'is_reaction': True, 'metadata': {'template_hash': '164bcd5926595fb14a6a9bdfa6263711f1e81657ce47f1a9ea439ccb', 'classification': 'Amide to amine reduction', 'library_occurence': 1676, 'policy_probability': 0.03269999846816063, 'policy_name': 'uspto', 'template_code': 4087}, 'children': [{'type': 'mol', 'hide': False, 'smiles': 'O=C(NS(=O)(=O)c1ccccc1)C(c1ccc(Cl)cc1)N1CCCCCC1', 'is_chemical': True, 'in_stock': False, 'children': [{'type': 'reaction', 'hide': False, 'smiles': '[C:1]([CH3:2])(=[O:3])[N:4][S:5](=[O:6])(=[O:7])[cH3:8]>>O[C:1]([CH3:2])=[O:3].[N:4][S:5](=[O:6])(=[O:7])[cH3:8]', 'is_reaction': True, 'metadata': {'template_hash': '4706e6cfa0d924430570646678e66958822140d1963f55fba6317d0e', 'classification': 'N-acylation to amide', 'library_occurence': 151, 'policy_probability': 0.6320000290870667, 'policy_name': 'uspto', 'template_code': 13000}, 'children': [{'type': 'mol', 'hide': False, 'smiles': 'NS(=O)(=O)c1ccccc1', 'is_chemical': True, 'in_stock': True}, {'type': 'mol', 'hide': False, 'smiles': 'O=C(O)C(c1ccc(Cl)cc1)N1CCCCCC1', 'is_chemical': True, 'in_stock': False, 'children': [{'type': 'reaction', 'hide': False, 'smiles': '[C:1]([cH3:2])([C:3](=[O:4])[OH:5])[N:7]([CH3:6])[CH3:8]>>Br[C:1]([cH3:2])[C:3](=[O:4])[OH:5].[CH3:6][N:7][CH3:8]', 'is_reaction': True, 'metadata': {'template_hash': '0fe5fe96b875ce0c170facc38b72eaf6812177cb97668ba10aa2b6bc', 'classification': 'Heteroaryl N-alkylation', 'library_occurence': 4, 'policy_probability': 0.39820000529289246, 'policy_name': 'uspto', 'template_code': 2893}, 'children': [{'type': 'mol', 'hide': False, 'smiles': 'C1CCCNCC1', 'is_chemical': True, 'in_stock': True}, {'type': 'mol', 'hide': False, 'smiles': 'O=C(O)C(Br)c1ccc(Cl)cc1', 'is_chemical': True, 'in_stock': False, 'children': [{'type': 'reaction', 'hide': False, 'smiles': 'Br[C:4]([C:2](=[O:1])[OH:3])[cH3:5]>>[O:1]=[C:2]([OH:3])[C:4][cH3:5]', 'is_reaction': True, 'metadata': {'template_hash': '6e856cc81e13f8cff8f6e152bcc279f4674aac232ffcb59379cdffd5', 'classification': 'Halogenation', 'library_occurence': 3, 'policy_probability': 8.46980094909668, 'policy_name': 'uspto', 'template_code': 20299}, 'children': [{'type': 'mol', 'hide': False, 'smiles': 'O=C(O)Cc1ccc(Cl)cc1', 'is_chemical': True, 'in_stock': True}]}]}]}]}]}]}]}]}]\n",
      "Key:  hide\n",
      "Value False\n",
      "Key:  smiles\n",
      "Value O=S(=O)(NCC(c1ccccc1)N1CCCCCC1)c1ccccc1\n",
      "Key:  is_chemical\n",
      "Value True\n",
      "Key:  in_stock\n",
      "Value False\n",
      "Key:  children\n",
      "Value [{'type': 'reaction', 'hide': False, 'smiles': '[c:1]([cH2:2])[cH2:3]>>Cl[c:1]([cH2:2])[cH2:3]', 'is_reaction': True, 'metadata': {'template_hash': '9860ae00c69ec5f62a57f92b2877531856501cab10bf169231c3b9a0', 'classification': 'Other functional group interconversion', 'library_occurence': 197, 'policy_probability': 0.002400000113993883, 'policy_name': 'uspto', 'template_code': 27892}, 'children': [{'type': 'mol', 'hide': False, 'smiles': 'O=S(=O)(NCC(c1ccc(Cl)cc1)N1CCCCCC1)c1ccccc1', 'is_chemical': True, 'in_stock': False, 'children': [{'type': 'reaction', 'hide': False, 'smiles': '[C:1]([NH2:2])[CH3:3]>>O=[C:1]([NH2:2])[CH3:3]', 'is_reaction': True, 'metadata': {'template_hash': '164bcd5926595fb14a6a9bdfa6263711f1e81657ce47f1a9ea439ccb', 'classification': 'Amide to amine reduction', 'library_occurence': 1676, 'policy_probability': 0.03269999846816063, 'policy_name': 'uspto', 'template_code': 4087}, 'children': [{'type': 'mol', 'hide': False, 'smiles': 'O=C(NS(=O)(=O)c1ccccc1)C(c1ccc(Cl)cc1)N1CCCCCC1', 'is_chemical': True, 'in_stock': False, 'children': [{'type': 'reaction', 'hide': False, 'smiles': '[C:1]([CH3:2])(=[O:3])[N:4][S:5](=[O:6])(=[O:7])[cH3:8]>>O[C:1]([CH3:2])=[O:3].[N:4][S:5](=[O:6])(=[O:7])[cH3:8]', 'is_reaction': True, 'metadata': {'template_hash': '4706e6cfa0d924430570646678e66958822140d1963f55fba6317d0e', 'classification': 'N-acylation to amide', 'library_occurence': 151, 'policy_probability': 0.6320000290870667, 'policy_name': 'uspto', 'template_code': 13000}, 'children': [{'type': 'mol', 'hide': False, 'smiles': 'NS(=O)(=O)c1ccccc1', 'is_chemical': True, 'in_stock': True}, {'type': 'mol', 'hide': False, 'smiles': 'O=C(O)C(c1ccc(Cl)cc1)N1CCCCCC1', 'is_chemical': True, 'in_stock': False, 'children': [{'type': 'reaction', 'hide': False, 'smiles': '[C:1]([cH3:2])([C:3](=[O:4])[OH:5])[N:7]([CH3:6])[CH3:8]>>Br[C:1]([cH3:2])[C:3](=[O:4])[OH:5].[CH3:6][N:7][CH3:8]', 'is_reaction': True, 'metadata': {'template_hash': '0fe5fe96b875ce0c170facc38b72eaf6812177cb97668ba10aa2b6bc', 'classification': 'Heteroaryl N-alkylation', 'library_occurence': 4, 'policy_probability': 0.39820000529289246, 'policy_name': 'uspto', 'template_code': 2893}, 'children': [{'type': 'mol', 'hide': False, 'smiles': 'C1CCCNCC1', 'is_chemical': True, 'in_stock': True}, {'type': 'mol', 'hide': False, 'smiles': 'O=C(O)C(Br)c1ccc(Cl)cc1', 'is_chemical': True, 'in_stock': False, 'children': [{'type': 'reaction', 'hide': False, 'smiles': 'Br[C:4]([C:2](=[O:1])[OH:3])[cH3:5]>>[O:1]=[C:2]([OH:3])[C:4][cH3:5]', 'is_reaction': True, 'metadata': {'template_hash': '6e856cc81e13f8cff8f6e152bcc279f4674aac232ffcb59379cdffd5', 'classification': 'Halogenation', 'library_occurence': 3, 'policy_probability': 8.46980094909668, 'policy_name': 'uspto', 'template_code': 20299}, 'children': [{'type': 'mol', 'hide': False, 'smiles': 'O=C(O)Cc1ccc(Cl)cc1', 'is_chemical': True, 'in_stock': True}]}]}]}]}]}]}]}]}]}]\n",
      "26\n"
     ]
    }
   ],
   "source": [
    "# print reaction table\n",
    "\n",
    "reaction_data = []\n",
    "\n",
    "'''\n",
    "def check_children(dict):\n",
    "    if 'children' in dict:\n",
    "        return True\n",
    "    else:\n",
    "        return False\n",
    "\n",
    "def check_reaction(dict):\n",
    "    if dict.get('type') == 'reaction':\n",
    "        return True\n",
    "    else:\n",
    "        return False\n",
    "\n",
    "def get_children(dict):\n",
    "    if 'children' in dict:\n",
    "        child = dict.get('children')\n",
    "    else: \n",
    "        return 'done'\n",
    "    \n",
    "def get_reaction(dict):\n",
    "    if 'children' in dict:'''\n",
    "\n",
    "\n",
    "\n",
    "\n",
    "all_reactions = []\n",
    "\n",
    "def get_all_reactions(nested_dict):\n",
    "        for key, value in nested_dict.items():\n",
    "            print('Key: ', key)\n",
    "            print('Value', value)\n",
    "            if value == 'mol':\n",
    "                print('mol found')\n",
    "                children  = nested_dict.get('children')\n",
    "                for i in children:\n",
    "                    if 'children' in i:\n",
    "                        get_all_reactions(nested_dict=i)\n",
    "            elif value == 'reaction':\n",
    "                print('reaction found')\n",
    "                metadata = nested_dict.get('metadata')\n",
    "                print(metadata)\n",
    "                all_reactions.append((metadata.get('classification'), metadata.get('library_occurence'), metadata.get('policy_probability')))\n",
    "                children  = nested_dict.get('children')\n",
    "                for i in children:\n",
    "                    if 'children' in i:\n",
    "                        get_all_reactions(nested_dict=i)\n",
    "            elif (key == 'is_stock' and value=='True'):\n",
    "                print('REACHED STOCK')\n",
    "                pass\n",
    "            else:\n",
    "                continue\n",
    "        \n",
    "        '''if key == 'children':\n",
    "            child = nested_dict.get('children')\n",
    "            get_all_reactions(child)\n",
    "        else:''\n",
    "            print('reached stock')'''\n",
    "        \n",
    "\n",
    "for i in data:\n",
    "    get_all_reactions(i)\n",
    "\n",
    "'''\n",
    "for i in data:\n",
    "    stock = False\n",
    "    while stock == False:\n",
    "        if 'children' in i:\n",
    "            children = i.get('children')\n",
    "            for child in children:\n",
    "                if child.get('type') == 'reaction':\n",
    "                    metadata = child.get('metadata')\n",
    "                    print(metadata.get('classification'))\n",
    "                    all_reactions.append((child.get('smiles'), metadata.get('classification'), metadata.get('library_occurence'), metadata.get('policy_probability')))\n",
    "                    i = child\n",
    "                else:\n",
    "                    pass\n",
    "        else:\n",
    "            stock = True\n",
    "'''\n",
    "print(len(all_reactions))"
   ]
  },
  {
   "cell_type": "code",
   "execution_count": 90,
   "id": "9efad456",
   "metadata": {},
   "outputs": [
    {
     "name": "stdout",
     "output_type": "stream",
     "text": [
      "[('Amide to amine reduction', 1676, 0.014999999664723873), ('Heteroaryl N-alkylation', 17, 0.014499999582767487), ('N-acylation to amide', 151, 0.4880000054836273), ('Halogenation', 12, 7.284581661224365), ('Other functional group interconversion', 193, 0.0017000000225380063), ('Amide to amine reduction', 1676, 0.0203000009059906), ('N-acylation to amide', 151, 0.4887999892234802), ('Unassigned', 17, 0.5209000110626221), ('Heteroaryl N-alkylation', 39, 0.0008999999845400453), ('Amide to amine reduction', 1676, 0.0017000000225380063), ('N-acylation to amide', 151, 0.4880000054836273), ('Halogenation', 12, 7.284581661224365), ('Other functional group interconversion', 197, 0.002400000113993883), ('Amide to amine reduction', 1676, 0.02459999918937683), ('N-acylation to amide', 151, 0.7458000183105469), ('Unassigned', 17, 0.444599986076355), ('Amide to amine reduction', 1676, 0.014999999664723873), ('N-acylation to amide', 151, 0.5864999890327454), ('RCO2H deprotections', 9599, 0.27160000801086426), ('Heteroaryl N-alkylation', 17, 0.9876999855041504), ('Halogenation', 11, 6.335657238960266), ('Other functional group interconversion', 197, 0.002400000113993883), ('Amide to amine reduction', 1676, 0.03269999846816063), ('N-acylation to amide', 151, 0.6320000290870667), ('Heteroaryl N-alkylation', 4, 0.39820000529289246), ('Halogenation', 3, 8.46980094909668)]\n"
     ]
    }
   ],
   "source": [
    "reaction_data = all_reactions\n",
    "print(all_reactions)"
   ]
  },
  {
   "cell_type": "code",
   "execution_count": 91,
   "id": "6546e0bc",
   "metadata": {},
   "outputs": [
    {
     "name": "stdout",
     "output_type": "stream",
     "text": [
      "<class 'list'>\n"
     ]
    }
   ],
   "source": [
    "list = []\n",
    "print(type(list))"
   ]
  },
  {
   "cell_type": "code",
   "execution_count": 92,
   "id": "86626c64",
   "metadata": {},
   "outputs": [],
   "source": [
    "#smiles = [i[0] for i in reaction_data]\n",
    "classification = [i[0] for i in reaction_data]\n",
    "uspto_freq = [i[1] for i in reaction_data]\n",
    "policy = [i[2] for i in reaction_data]"
   ]
  },
  {
   "cell_type": "code",
   "execution_count": 93,
   "id": "6d3dc6ec",
   "metadata": {},
   "outputs": [],
   "source": [
    "reaction_class = {}\n",
    "\n",
    "for i in classification:\n",
    "    if (i in reaction_class):\n",
    "        reaction_class[i]['Frequency'] += 1\n",
    "    else:\n",
    "        reaction_class[i] = {}\n",
    "        reaction_class[i]['Frequency'] = 1\n"
   ]
  },
  {
   "cell_type": "code",
   "execution_count": 94,
   "id": "75ff186d",
   "metadata": {},
   "outputs": [
    {
     "name": "stdout",
     "output_type": "stream",
     "text": [
      "{'Amide to amine reduction': {'Frequency': 6}, 'N-acylation to amide': {'Frequency': 6}, 'Heteroaryl N-alkylation': {'Frequency': 4}, 'Halogenation': {'Frequency': 4}, 'Other functional group interconversion': {'Frequency': 3}, 'Unassigned': {'Frequency': 2}, 'RCO2H deprotections': {'Frequency': 1}}\n"
     ]
    }
   ],
   "source": [
    "reaction_class = dict(sorted(reaction_class.items(), key=lambda item: item[1]['Frequency'], reverse=True))\n",
    "print(reaction_class)"
   ]
  },
  {
   "cell_type": "code",
   "execution_count": 95,
   "id": "31375c62",
   "metadata": {},
   "outputs": [
    {
     "name": "stdout",
     "output_type": "stream",
     "text": [
      "Amide to amine reduction, 0.10929999791551381\n",
      "Amide to amine reduction, 6\n",
      "0.0182166663192523\n",
      "\n",
      "\n",
      "Heteroaryl N-alkylation, 1.4012999903643504\n",
      "Heteroaryl N-alkylation, 4\n",
      "0.3503249975910876\n",
      "\n",
      "\n",
      "N-acylation to amide, 3.4291000366210938\n",
      "N-acylation to amide, 6\n",
      "0.5715166727701823\n",
      "\n",
      "\n",
      "Rank, Reaction, Frequency, Policy value\n",
      "0,Amide to amine reduction, 6, 0.0182166663192523\n",
      "1,N-acylation to amide, 6, 0.5715166727701823\n",
      "2,Heteroaryl N-alkylation, 4, 0.3503249975910876\n",
      "3,Halogenation, 4, 7.343655377626419\n",
      "4,Other functional group interconversion, 3, 0.0021666667501752577\n",
      "5,Unassigned, 2, 0.4827499985694885\n",
      "6,RCO2H deprotections, 1, 0.27160000801086426\n"
     ]
    }
   ],
   "source": [
    "#calculate average policy predictions for each grouped reaction\n",
    "\n",
    "reaction_class_policy = {}\n",
    "reaction_class_freq = {}\n",
    "\n",
    "for i in reaction_data: \n",
    "    if i[0] in reaction_class_policy:\n",
    "        reaction_class_policy[i[0]] += i[2]\n",
    "        reaction_class_freq[i[0]] += 1\n",
    "    else:\n",
    "        reaction_class_policy[i[0]] = i[2]\n",
    "        reaction_class_freq[i[0]] = 1\n",
    "\n",
    "reaction_class_policy_mean = {}\n",
    "\n",
    "example = 0\n",
    "for i in reaction_class_policy:\n",
    "    reaction_class_policy_mean[i] = (reaction_class_policy.get(i)/reaction_class_freq.get(i))\n",
    "\n",
    "    if example < 3:\n",
    "        print(str(i)+', '+str(reaction_class_policy.get(i)))\n",
    "        print(str(i)+', '+str(reaction_class_freq.get(i)))\n",
    "        print(reaction_class_policy_mean[i])\n",
    "        print('\\n')\n",
    "        \n",
    "    example += 1\n",
    "\n",
    "#reaction_class_policy_mean = dict(sorted(reaction_class_policy_mean.items(), key=lambda item: item[1], reverse=True))\n",
    "\n",
    "print('Rank, Reaction, Frequency, Policy value')\n",
    "\n",
    "'''for x in reaction_class_policy_mean:\n",
    "    print (x + '    '+ str(reaction_class_policy_mean[x]))'''\n",
    "\n",
    "for i in reaction_class:\n",
    "    reaction_class[i]['Policy'] = reaction_class_policy_mean.get(i)\n",
    "\n",
    "count = 0\n",
    "for i in reaction_class:\n",
    "    print(str(count)+','+i+', '+str(reaction_class[i]['Frequency'])+', '+str(reaction_class[i]['Policy']))\n",
    "    count+=1\n"
   ]
  },
  {
   "cell_type": "code",
   "execution_count": 96,
   "id": "f8f6a86a",
   "metadata": {},
   "outputs": [
    {
     "name": "stdout",
     "output_type": "stream",
     "text": [
      "Amide to amine reduction, 1676\n",
      "Amide to amine reduction, 1\n",
      "1676.0\n",
      "\n",
      "\n",
      "Heteroaryl N-alkylation, 4\n",
      "Heteroaryl N-alkylation, 1\n",
      "4.0\n",
      "\n",
      "\n",
      "N-acylation to amide, 151\n",
      "N-acylation to amide, 1\n",
      "151.0\n",
      "\n",
      "\n",
      "Rank, Reaction, Frequency, Policy, Literature\n",
      "1,Amide to amine reduction, 6, 0.0182, 1676.0\n",
      "2,N-acylation to amide, 6, 0.5715, 151.0\n",
      "3,Heteroaryl N-alkylation, 4, 0.3503, 4.0\n",
      "4,Halogenation, 4, 7.3437, 3.0\n",
      "5,Other functional group interconversion, 3, 0.0022, 197.0\n",
      "6,Unassigned, 2, 0.4827, 17.0\n",
      "7,RCO2H deprotections, 1, 0.2716, 9599.0\n"
     ]
    }
   ],
   "source": [
    "#calculate average literature prescence for each grouped reaction\n",
    "\n",
    "reaction_class_lit = {}\n",
    "reaction_class_freq = {}\n",
    "\n",
    "for i in reaction_data: \n",
    "    if i[1] in reaction_class_lit:\n",
    "        reaction_class_lit[i[0]] += i[1]\n",
    "        reaction_class_freq[i[0]] += 1\n",
    "    else:\n",
    "        reaction_class_lit[i[0]] = i[1]\n",
    "        reaction_class_freq[i[0]] = 1\n",
    "\n",
    "reaction_class_lit_mean = {}\n",
    "\n",
    "example = 0\n",
    "for i in reaction_class_lit:\n",
    "    reaction_class_lit_mean[i] = (reaction_class_lit.get(i)/reaction_class_freq.get(i))\n",
    "\n",
    "    if example < 3:\n",
    "        print(str(i)+', '+str(reaction_class_lit.get(i)))\n",
    "        print(str(i)+', '+str(reaction_class_freq.get(i)))\n",
    "        print(reaction_class_lit_mean[i])\n",
    "        print('\\n')\n",
    "        \n",
    "    example += 1\n",
    "\n",
    "reaction_class_lit_mean = dict(sorted(reaction_class_lit_mean.items(), key=lambda item: item[1], reverse=True))\n",
    "\n",
    "print('Rank, Reaction, Frequency, Policy, Literature')\n",
    "\n",
    "'''for x in reaction_class_lit_mean:\n",
    "    print (x + '    '+ str(reaction_class_lit_mean[x]))'''\n",
    "\n",
    "\n",
    "for i in reaction_class:\n",
    "    reaction_class[i]['Literature'] = reaction_class_lit_mean.get(i)\n",
    "\n",
    "count = 1\n",
    "for i in reaction_class:\n",
    "    print(str(count)+','+i+', '+str(reaction_class[i]['Frequency'])+', '+str(round(reaction_class[i]['Policy'], 4))+', '+str(round(reaction_class[i]['Literature'], 0)))\n",
    "    count+=1"
   ]
  },
  {
   "cell_type": "code",
   "execution_count": 72,
   "id": "1455ab00",
   "metadata": {},
   "outputs": [
    {
     "name": "stdout",
     "output_type": "stream",
     "text": [
      "96.94285714285715\n"
     ]
    }
   ],
   "source": [
    "list = [89.75, 86.63, 98.54, 98.54, 109.28, 113.19, 82.67]\n",
    "print(np.mean(list))"
   ]
  },
  {
   "cell_type": "code",
   "execution_count": null,
   "id": "90b1364c",
   "metadata": {},
   "outputs": [],
   "source": []
  }
 ],
 "metadata": {
  "kernelspec": {
   "name": "python388jvsc74a57bd01ce81150a71727f589a159d7c025889054ace076bb44326ef3200601839cf7ad",
   "display_name": "Python 3.8.8 64-bit ('aizynth-dev': conda)"
  },
  "language_info": {
   "codemirror_mode": {
    "name": "ipython",
    "version": 3
   },
   "file_extension": ".py",
   "mimetype": "text/x-python",
   "name": "python",
   "nbconvert_exporter": "python",
   "pygments_lexer": "ipython3",
   "version": "3.8.8"
  }
 },
 "nbformat": 4,
 "nbformat_minor": 5
}