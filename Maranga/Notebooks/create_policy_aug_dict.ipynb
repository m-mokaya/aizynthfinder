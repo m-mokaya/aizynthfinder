{
 "cells": [
  {
   "cell_type": "code",
   "execution_count": 1,
   "metadata": {},
   "outputs": [],
   "source": [
    "import json"
   ]
  },
  {
   "cell_type": "code",
   "execution_count": 2,
   "metadata": {},
   "outputs": [],
   "source": [
    "output_filename = '/data/localhost/not-backed-up/mokaya/exscientia/Retro/AiZynthFinder/aizynthfinder/data/Random/PolicyDicts/aug1.json'"
   ]
  },
  {
   "cell_type": "code",
   "execution_count": 3,
   "metadata": {},
   "outputs": [
    {
     "name": "stdout",
     "output_type": "stream",
     "text": [
      "{'N-acylation to amide': 0.0, 'O-substitution': 0.0}\n"
     ]
    }
   ],
   "source": [
    "policy_dict  = {}\n",
    "\n",
    "reactions = ['N-acylation to amide', 'O-substitution']\n",
    "\n",
    "for i in reactions:\n",
    "    policy_dict[i] = float(0)\n",
    "\n",
    "print(policy_dict)"
   ]
  },
  {
   "cell_type": "code",
   "execution_count": 4,
   "metadata": {},
   "outputs": [],
   "source": [
    "#save to json file\n",
    "with open(output_filename, 'w') as outfile:\n",
    "    json.dump(policy_dict, outfile)"
   ]
  },
  {
   "cell_type": "code",
   "execution_count": null,
   "metadata": {},
   "outputs": [],
   "source": []
  }
 ],
 "metadata": {
  "kernelspec": {
   "display_name": "Python 3.6.10 64-bit ('reinvent': conda)",
   "metadata": {
    "interpreter": {
     "hash": "481803bc4b56c6cc82dc58ee31db0317a3b79a9ba6f1f35eec8dfcd87d0d1732"
    }
   },
   "name": "python3"
  },
  "language_info": {
   "codemirror_mode": {
    "name": "ipython",
    "version": 3
   },
   "file_extension": ".py",
   "mimetype": "text/x-python",
   "name": "python",
   "nbconvert_exporter": "python",
   "pygments_lexer": "ipython3",
   "version": "3.6.10"
  },
  "orig_nbformat": 2
 },
 "nbformat": 4,
 "nbformat_minor": 2
}