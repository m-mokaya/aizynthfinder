{
 "cells": [
  {
   "cell_type": "code",
   "execution_count": 1,
   "metadata": {},
   "outputs": [
    {
     "ename": "ModuleNotFoundError",
     "evalue": "No module named 'aizynthfinder.mcts.node'",
     "output_type": "error",
     "traceback": [
      "\u001b[0;31m---------------------------------------------------------------------------\u001b[0m",
      "\u001b[0;31mModuleNotFoundError\u001b[0m                       Traceback (most recent call last)",
      "\u001b[0;32m<ipython-input-1-a527005799d5>\u001b[0m in \u001b[0;36m<module>\u001b[0;34m\u001b[0m\n\u001b[1;32m      9\u001b[0m \u001b[0msys\u001b[0m\u001b[0;34m.\u001b[0m\u001b[0mpath\u001b[0m\u001b[0;34m.\u001b[0m\u001b[0mappend\u001b[0m\u001b[0;34m(\u001b[0m\u001b[0;34m'../../../'\u001b[0m\u001b[0;34m)\u001b[0m\u001b[0;34m\u001b[0m\u001b[0;34m\u001b[0m\u001b[0m\n\u001b[1;32m     10\u001b[0m \u001b[0;34m\u001b[0m\u001b[0m\n\u001b[0;32m---> 11\u001b[0;31m \u001b[0;32mimport\u001b[0m \u001b[0mMaranga\u001b[0m\u001b[0;34m.\u001b[0m\u001b[0mutils\u001b[0m\u001b[0;34m.\u001b[0m\u001b[0mparse_multismiles\u001b[0m \u001b[0;32mas\u001b[0m \u001b[0mmutils\u001b[0m\u001b[0;34m\u001b[0m\u001b[0;34m\u001b[0m\u001b[0m\n\u001b[0m\u001b[1;32m     12\u001b[0m \u001b[0;32mimport\u001b[0m \u001b[0mMaranga\u001b[0m\u001b[0;34m.\u001b[0m\u001b[0mscripts\u001b[0m\u001b[0;34m.\u001b[0m\u001b[0mfingerprints\u001b[0m \u001b[0;32mas\u001b[0m \u001b[0mfings\u001b[0m\u001b[0;34m\u001b[0m\u001b[0;34m\u001b[0m\u001b[0m\n\u001b[1;32m     13\u001b[0m \u001b[0;32mimport\u001b[0m \u001b[0maizynthfinder\u001b[0m\u001b[0;34m.\u001b[0m\u001b[0mcontext\u001b[0m\u001b[0;34m.\u001b[0m\u001b[0mscoring\u001b[0m \u001b[0;32mas\u001b[0m \u001b[0mscoring\u001b[0m\u001b[0;34m\u001b[0m\u001b[0;34m\u001b[0m\u001b[0m\n",
      "\u001b[0;32m/data/pegasus/not-backed-up/mokaya/exscientia/aizynthfinder/Maranga/utils/parse_multismiles.py\u001b[0m in \u001b[0;36m<module>\u001b[0;34m\u001b[0m\n\u001b[1;32m     11\u001b[0m \u001b[0;34m\u001b[0m\u001b[0m\n\u001b[1;32m     12\u001b[0m \u001b[0;32mimport\u001b[0m \u001b[0maizynthfinder\u001b[0m\u001b[0;34m.\u001b[0m\u001b[0manalysis\u001b[0m\u001b[0;34m\u001b[0m\u001b[0;34m\u001b[0m\u001b[0m\n\u001b[0;32m---> 13\u001b[0;31m \u001b[0;32mfrom\u001b[0m \u001b[0maizynthfinder\u001b[0m\u001b[0;34m.\u001b[0m\u001b[0mmcts\u001b[0m\u001b[0;34m.\u001b[0m\u001b[0mnode\u001b[0m \u001b[0;32mimport\u001b[0m \u001b[0mNode\u001b[0m\u001b[0;34m\u001b[0m\u001b[0;34m\u001b[0m\u001b[0m\n\u001b[0m\u001b[1;32m     14\u001b[0m \u001b[0;32mfrom\u001b[0m \u001b[0maizynthfinder\u001b[0m\u001b[0;34m.\u001b[0m\u001b[0manalysis\u001b[0m \u001b[0;32mimport\u001b[0m \u001b[0mReactionTree\u001b[0m\u001b[0;34m\u001b[0m\u001b[0;34m\u001b[0m\u001b[0m\n\u001b[1;32m     15\u001b[0m \u001b[0;32mfrom\u001b[0m \u001b[0maizynthfinder\u001b[0m\u001b[0;34m.\u001b[0m\u001b[0mmcts\u001b[0m\u001b[0;34m.\u001b[0m\u001b[0mstate\u001b[0m \u001b[0;32mimport\u001b[0m \u001b[0mState\u001b[0m\u001b[0;34m\u001b[0m\u001b[0;34m\u001b[0m\u001b[0m\n",
      "\u001b[0;31mModuleNotFoundError\u001b[0m: No module named 'aizynthfinder.mcts.node'"
     ]
    }
   ],
   "source": [
    "import os\n",
    "import sys\n",
    "import argparse\n",
    "\n",
    "import json\n",
    "import pandas as pd\n",
    "import numpy as np\n",
    "\n",
    "sys.path.append('../../../')\n",
    "\n",
    "import Maranga.utils.parse_multismiles as mutils\n",
    "import Maranga.scripts.fingerprints as fings\n",
    "import aizynthfinder.context.scoring as scoring\n",
    "import aizynthfinder.context.config as con\n",
    "\n",
    "from aizynthfinder.analysis import ReactionTree\n",
    "from rdkit.Chem import rdChemReactions\n",
    "from rdkit import DataStructs\n",
    "from rdkit.ML.Cluster import Butina\n",
    "from sklearn.metrics.pairwise import euclidean_distances\n",
    "from scipy.spatial.distance import euclidean\n",
    "\n"
   ]
  },
  {
   "cell_type": "markdown",
   "metadata": {},
   "source": [
    "### Input Data"
   ]
  },
  {
   "cell_type": "code",
   "execution_count": 2,
   "metadata": {},
   "outputs": [],
   "source": [
    "file_ext = '/data/localhost/not-backed-up/mokaya/exscientia/'"
   ]
  },
  {
   "cell_type": "code",
   "execution_count": 3,
   "metadata": {},
   "outputs": [],
   "source": [
    "#convert input to list of rxns\n",
    "data_e = mutils.read_hdf(file_ext+'aizynthfinder/Maranga/experiments/target_2/results/opt4_class/tg2_std_opt4_results_1.hdf5')\n",
    "solved_data_e = data_e.loc[(data_e.is_solved==True)]\n",
    "solved_trees_e = mutils.collect_trees(solved_data_e)"
   ]
  },
  {
   "cell_type": "code",
   "execution_count": 4,
   "metadata": {},
   "outputs": [],
   "source": [
    "#convert input to list of rxns\n",
    "data_s = mutils.read_hdf(file_ext+'aizynthfinder/Maranga/experiments/target_2/results/std/tg2_std_results.hdf5')\n",
    "solved_data_s = data_s.loc[(data_s.is_solved==True)]\n",
    "solved_trees_s = mutils.collect_trees(solved_data_s)"
   ]
  },
  {
   "cell_type": "code",
   "execution_count": 5,
   "metadata": {},
   "outputs": [
    {
     "name": "stdout",
     "output_type": "stream",
     "text": [
      "28\n",
      "26\n"
     ]
    }
   ],
   "source": [
    "print(len(solved_data_s))\n",
    "print(len(solved_data_e))"
   ]
  },
  {
   "cell_type": "code",
   "execution_count": 6,
   "metadata": {},
   "outputs": [
    {
     "name": "stdout",
     "output_type": "stream",
     "text": [
      "Multiple Molecules\n",
      "Multiple Molecules\n"
     ]
    }
   ],
   "source": [
    "#parse imported reaction trees\n",
    "reactions_e = fings.parse_input(solved_trees_e, 'explore')\n",
    "reactions_s = fings.parse_input(solved_trees_s, 'normal')\n",
    "reactions = reactions_e + reactions_s\n",
    "\n",
    "r_e = [i.get('reaction') for i in reactions_e]\n",
    "r_s = [i.get('reaction') for i in reactions_s]"
   ]
  },
  {
   "cell_type": "code",
   "execution_count": 7,
   "metadata": {},
   "outputs": [],
   "source": [
    "rs = [ReactionTree.from_dict(i) for i in r_s]\n",
    "re = [ReactionTree.from_dict(i) for i in r_e]"
   ]
  },
  {
   "cell_type": "markdown",
   "metadata": {},
   "source": [
    "Generate fingerprints"
   ]
  },
  {
   "cell_type": "code",
   "execution_count": 8,
   "metadata": {},
   "outputs": [
    {
     "name": "stdout",
     "output_type": "stream",
     "text": [
      "Print lengh of reaction vector:  186\n"
     ]
    }
   ],
   "source": [
    "#generate fingerprints\n",
    "fingerprints = fings.generate_fingerprints(reactions)"
   ]
  },
  {
   "cell_type": "code",
   "execution_count": 9,
   "metadata": {},
   "outputs": [],
   "source": [
    "# function to calculate the lenght of reaction\n",
    "def get_length(f):\n",
    "    return sum(1 if i != 0 else 0 for i in f)"
   ]
  },
  {
   "cell_type": "markdown",
   "metadata": {},
   "source": [
    "Calculate reaction similarity from fingerprints"
   ]
  },
  {
   "cell_type": "code",
   "execution_count": 10,
   "metadata": {},
   "outputs": [],
   "source": [
    "#determine the largset similarity of explore reactions to all other 'normal' reactions\n",
    "largest, lengths, all_distances, explore_reactions = fings.split_sim(reactions)"
   ]
  },
  {
   "cell_type": "code",
   "execution_count": 11,
   "metadata": {},
   "outputs": [],
   "source": [
    "stock_file = '/data/localhost/not-backed-up/mokaya/exscientia/aizynthfinder/aizynthfinder/data/molport_blocks_stock.hdf5'\n",
    "stock = pd.read_hdf(stock_file, 'table')\n",
    "stock_inchis = stock['inchi_key'].tolist()"
   ]
  },
  {
   "cell_type": "code",
   "execution_count": 12,
   "metadata": {},
   "outputs": [
    {
     "name": "stdout",
     "output_type": "stream",
     "text": [
      "485828\n"
     ]
    }
   ],
   "source": [
    "print(len(stock_inchis))"
   ]
  },
  {
   "cell_type": "markdown",
   "metadata": {},
   "source": [
    "Calculate costs"
   ]
  },
  {
   "cell_type": "code",
   "execution_count": 13,
   "metadata": {},
   "outputs": [],
   "source": [
    "# get all the reaction dicts for all explore reactions\n",
    "explore_rxn_trees = [ReactionTree.from_dict(i.get('reaction')) for i in explore_reactions]\n",
    "\n",
    "# calculate the cost of all routes\n",
    "costs = mutils.calculate_route_cost(explore_rxn_trees, stock_inchis, stock)"
   ]
  },
  {
   "cell_type": "code",
   "execution_count": 14,
   "metadata": {},
   "outputs": [],
   "source": [
    "nan_mean = np.nanmean(costs)\n",
    "costs = [nan_mean if np.isnan(i) else i for i in costs]"
   ]
  },
  {
   "cell_type": "code",
   "execution_count": 15,
   "metadata": {
    "tags": []
   },
   "outputs": [],
   "source": [
    "# add cost value to explore reactions in dict\n",
    "for index, i in enumerate(explore_reactions):\n",
    "    i['cost'] = costs[index]"
   ]
  },
  {
   "cell_type": "code",
   "execution_count": 16,
   "metadata": {},
   "outputs": [
    {
     "name": "stdout",
     "output_type": "stream",
     "text": [
      "26\n",
      "16.741790418736443\n",
      "11.123198141677861\n"
     ]
    }
   ],
   "source": [
    "# number of novel reactions\n",
    "novel_explore = [i for i in explore_reactions if i.get('largest') != 1.0] \n",
    "novel_costs = [i.get('cost') for i in novel_explore]\n",
    "print(len(novel_explore))\n",
    "print(np.mean(novel_costs))\n",
    "print(np.std(novel_costs))\n",
    "\n",
    "#print(novel_explore[0].get('reaction'))"
   ]
  },
  {
   "cell_type": "code",
   "execution_count": 32,
   "metadata": {},
   "outputs": [
    {
     "name": "stdout",
     "output_type": "stream",
     "text": [
      "<class 'dict'>\n",
      "<class 'str'>\n"
     ]
    },
    {
     "ename": "TypeError",
     "evalue": "Object of type float32 is not JSON serializable",
     "output_type": "error",
     "traceback": [
      "\u001b[0;31m---------------------------------------------------------------------------\u001b[0m",
      "\u001b[0;31mTypeError\u001b[0m                                 Traceback (most recent call last)",
      "\u001b[0;32m<ipython-input-32-8a6f4fd40a1a>\u001b[0m in \u001b[0;36m<module>\u001b[0;34m\u001b[0m\n\u001b[1;32m      7\u001b[0m \u001b[0;34m\u001b[0m\u001b[0m\n\u001b[1;32m      8\u001b[0m \u001b[0;32mwith\u001b[0m \u001b[0mopen\u001b[0m\u001b[0;34m(\u001b[0m\u001b[0mos\u001b[0m\u001b[0;34m.\u001b[0m\u001b[0mpath\u001b[0m\u001b[0;34m.\u001b[0m\u001b[0mjoin\u001b[0m\u001b[0;34m(\u001b[0m\u001b[0mfile_ext\u001b[0m\u001b[0;34m,\u001b[0m \u001b[0;34m'aizynthfinder/Maranga/experiments/target_2/results/opt4_class/tg2_std_opt4_novelrxns.json'\u001b[0m\u001b[0;34m)\u001b[0m\u001b[0;34m,\u001b[0m \u001b[0;34m'w'\u001b[0m\u001b[0;34m)\u001b[0m \u001b[0;32mas\u001b[0m \u001b[0moutfile\u001b[0m\u001b[0;34m:\u001b[0m\u001b[0;34m\u001b[0m\u001b[0;34m\u001b[0m\u001b[0m\n\u001b[0;32m----> 9\u001b[0;31m     \u001b[0mjson\u001b[0m\u001b[0;34m.\u001b[0m\u001b[0mdump\u001b[0m\u001b[0;34m(\u001b[0m\u001b[0mnet\u001b[0m\u001b[0;34m,\u001b[0m \u001b[0moutfile\u001b[0m\u001b[0;34m)\u001b[0m\u001b[0;34m\u001b[0m\u001b[0;34m\u001b[0m\u001b[0m\n\u001b[0m",
      "\u001b[0;32m/data/pegasus/mokaya/miniconda3/envs/aizynth-dev/lib/python3.8/json/__init__.py\u001b[0m in \u001b[0;36mdump\u001b[0;34m(obj, fp, skipkeys, ensure_ascii, check_circular, allow_nan, cls, indent, separators, default, sort_keys, **kw)\u001b[0m\n\u001b[1;32m    177\u001b[0m     \u001b[0;31m# could accelerate with writelines in some versions of Python, at\u001b[0m\u001b[0;34m\u001b[0m\u001b[0;34m\u001b[0m\u001b[0;34m\u001b[0m\u001b[0m\n\u001b[1;32m    178\u001b[0m     \u001b[0;31m# a debuggability cost\u001b[0m\u001b[0;34m\u001b[0m\u001b[0;34m\u001b[0m\u001b[0;34m\u001b[0m\u001b[0m\n\u001b[0;32m--> 179\u001b[0;31m     \u001b[0;32mfor\u001b[0m \u001b[0mchunk\u001b[0m \u001b[0;32min\u001b[0m \u001b[0miterable\u001b[0m\u001b[0;34m:\u001b[0m\u001b[0;34m\u001b[0m\u001b[0;34m\u001b[0m\u001b[0m\n\u001b[0m\u001b[1;32m    180\u001b[0m         \u001b[0mfp\u001b[0m\u001b[0;34m.\u001b[0m\u001b[0mwrite\u001b[0m\u001b[0;34m(\u001b[0m\u001b[0mchunk\u001b[0m\u001b[0;34m)\u001b[0m\u001b[0;34m\u001b[0m\u001b[0;34m\u001b[0m\u001b[0m\n\u001b[1;32m    181\u001b[0m \u001b[0;34m\u001b[0m\u001b[0m\n",
      "\u001b[0;32m/data/pegasus/mokaya/miniconda3/envs/aizynth-dev/lib/python3.8/json/encoder.py\u001b[0m in \u001b[0;36m_iterencode\u001b[0;34m(o, _current_indent_level)\u001b[0m\n\u001b[1;32m    427\u001b[0m             \u001b[0;32myield\u001b[0m \u001b[0m_floatstr\u001b[0m\u001b[0;34m(\u001b[0m\u001b[0mo\u001b[0m\u001b[0;34m)\u001b[0m\u001b[0;34m\u001b[0m\u001b[0;34m\u001b[0m\u001b[0m\n\u001b[1;32m    428\u001b[0m         \u001b[0;32melif\u001b[0m \u001b[0misinstance\u001b[0m\u001b[0;34m(\u001b[0m\u001b[0mo\u001b[0m\u001b[0;34m,\u001b[0m \u001b[0;34m(\u001b[0m\u001b[0mlist\u001b[0m\u001b[0;34m,\u001b[0m \u001b[0mtuple\u001b[0m\u001b[0;34m)\u001b[0m\u001b[0;34m)\u001b[0m\u001b[0;34m:\u001b[0m\u001b[0;34m\u001b[0m\u001b[0;34m\u001b[0m\u001b[0m\n\u001b[0;32m--> 429\u001b[0;31m             \u001b[0;32myield\u001b[0m \u001b[0;32mfrom\u001b[0m \u001b[0m_iterencode_list\u001b[0m\u001b[0;34m(\u001b[0m\u001b[0mo\u001b[0m\u001b[0;34m,\u001b[0m \u001b[0m_current_indent_level\u001b[0m\u001b[0;34m)\u001b[0m\u001b[0;34m\u001b[0m\u001b[0;34m\u001b[0m\u001b[0m\n\u001b[0m\u001b[1;32m    430\u001b[0m         \u001b[0;32melif\u001b[0m \u001b[0misinstance\u001b[0m\u001b[0;34m(\u001b[0m\u001b[0mo\u001b[0m\u001b[0;34m,\u001b[0m \u001b[0mdict\u001b[0m\u001b[0;34m)\u001b[0m\u001b[0;34m:\u001b[0m\u001b[0;34m\u001b[0m\u001b[0;34m\u001b[0m\u001b[0m\n\u001b[1;32m    431\u001b[0m             \u001b[0;32myield\u001b[0m \u001b[0;32mfrom\u001b[0m \u001b[0m_iterencode_dict\u001b[0m\u001b[0;34m(\u001b[0m\u001b[0mo\u001b[0m\u001b[0;34m,\u001b[0m \u001b[0m_current_indent_level\u001b[0m\u001b[0;34m)\u001b[0m\u001b[0;34m\u001b[0m\u001b[0;34m\u001b[0m\u001b[0m\n",
      "\u001b[0;32m/data/pegasus/mokaya/miniconda3/envs/aizynth-dev/lib/python3.8/json/encoder.py\u001b[0m in \u001b[0;36m_iterencode_list\u001b[0;34m(lst, _current_indent_level)\u001b[0m\n\u001b[1;32m    323\u001b[0m                 \u001b[0;32melse\u001b[0m\u001b[0;34m:\u001b[0m\u001b[0;34m\u001b[0m\u001b[0;34m\u001b[0m\u001b[0m\n\u001b[1;32m    324\u001b[0m                     \u001b[0mchunks\u001b[0m \u001b[0;34m=\u001b[0m \u001b[0m_iterencode\u001b[0m\u001b[0;34m(\u001b[0m\u001b[0mvalue\u001b[0m\u001b[0;34m,\u001b[0m \u001b[0m_current_indent_level\u001b[0m\u001b[0;34m)\u001b[0m\u001b[0;34m\u001b[0m\u001b[0;34m\u001b[0m\u001b[0m\n\u001b[0;32m--> 325\u001b[0;31m                 \u001b[0;32myield\u001b[0m \u001b[0;32mfrom\u001b[0m \u001b[0mchunks\u001b[0m\u001b[0;34m\u001b[0m\u001b[0;34m\u001b[0m\u001b[0m\n\u001b[0m\u001b[1;32m    326\u001b[0m         \u001b[0;32mif\u001b[0m \u001b[0mnewline_indent\u001b[0m \u001b[0;32mis\u001b[0m \u001b[0;32mnot\u001b[0m \u001b[0;32mNone\u001b[0m\u001b[0;34m:\u001b[0m\u001b[0;34m\u001b[0m\u001b[0;34m\u001b[0m\u001b[0m\n\u001b[1;32m    327\u001b[0m             \u001b[0m_current_indent_level\u001b[0m \u001b[0;34m-=\u001b[0m \u001b[0;36m1\u001b[0m\u001b[0;34m\u001b[0m\u001b[0;34m\u001b[0m\u001b[0m\n",
      "\u001b[0;32m/data/pegasus/mokaya/miniconda3/envs/aizynth-dev/lib/python3.8/json/encoder.py\u001b[0m in \u001b[0;36m_iterencode_dict\u001b[0;34m(dct, _current_indent_level)\u001b[0m\n\u001b[1;32m    403\u001b[0m                 \u001b[0;32melse\u001b[0m\u001b[0;34m:\u001b[0m\u001b[0;34m\u001b[0m\u001b[0;34m\u001b[0m\u001b[0m\n\u001b[1;32m    404\u001b[0m                     \u001b[0mchunks\u001b[0m \u001b[0;34m=\u001b[0m \u001b[0m_iterencode\u001b[0m\u001b[0;34m(\u001b[0m\u001b[0mvalue\u001b[0m\u001b[0;34m,\u001b[0m \u001b[0m_current_indent_level\u001b[0m\u001b[0;34m)\u001b[0m\u001b[0;34m\u001b[0m\u001b[0;34m\u001b[0m\u001b[0m\n\u001b[0;32m--> 405\u001b[0;31m                 \u001b[0;32myield\u001b[0m \u001b[0;32mfrom\u001b[0m \u001b[0mchunks\u001b[0m\u001b[0;34m\u001b[0m\u001b[0;34m\u001b[0m\u001b[0m\n\u001b[0m\u001b[1;32m    406\u001b[0m         \u001b[0;32mif\u001b[0m \u001b[0mnewline_indent\u001b[0m \u001b[0;32mis\u001b[0m \u001b[0;32mnot\u001b[0m \u001b[0;32mNone\u001b[0m\u001b[0;34m:\u001b[0m\u001b[0;34m\u001b[0m\u001b[0;34m\u001b[0m\u001b[0m\n\u001b[1;32m    407\u001b[0m             \u001b[0m_current_indent_level\u001b[0m \u001b[0;34m-=\u001b[0m \u001b[0;36m1\u001b[0m\u001b[0;34m\u001b[0m\u001b[0;34m\u001b[0m\u001b[0m\n",
      "\u001b[0;32m/data/pegasus/mokaya/miniconda3/envs/aizynth-dev/lib/python3.8/json/encoder.py\u001b[0m in \u001b[0;36m_iterencode_list\u001b[0;34m(lst, _current_indent_level)\u001b[0m\n\u001b[1;32m    323\u001b[0m                 \u001b[0;32melse\u001b[0m\u001b[0;34m:\u001b[0m\u001b[0;34m\u001b[0m\u001b[0;34m\u001b[0m\u001b[0m\n\u001b[1;32m    324\u001b[0m                     \u001b[0mchunks\u001b[0m \u001b[0;34m=\u001b[0m \u001b[0m_iterencode\u001b[0m\u001b[0;34m(\u001b[0m\u001b[0mvalue\u001b[0m\u001b[0;34m,\u001b[0m \u001b[0m_current_indent_level\u001b[0m\u001b[0;34m)\u001b[0m\u001b[0;34m\u001b[0m\u001b[0;34m\u001b[0m\u001b[0m\n\u001b[0;32m--> 325\u001b[0;31m                 \u001b[0;32myield\u001b[0m \u001b[0;32mfrom\u001b[0m \u001b[0mchunks\u001b[0m\u001b[0;34m\u001b[0m\u001b[0;34m\u001b[0m\u001b[0m\n\u001b[0m\u001b[1;32m    326\u001b[0m         \u001b[0;32mif\u001b[0m \u001b[0mnewline_indent\u001b[0m \u001b[0;32mis\u001b[0m \u001b[0;32mnot\u001b[0m \u001b[0;32mNone\u001b[0m\u001b[0;34m:\u001b[0m\u001b[0;34m\u001b[0m\u001b[0;34m\u001b[0m\u001b[0m\n\u001b[1;32m    327\u001b[0m             \u001b[0m_current_indent_level\u001b[0m \u001b[0;34m-=\u001b[0m \u001b[0;36m1\u001b[0m\u001b[0;34m\u001b[0m\u001b[0;34m\u001b[0m\u001b[0m\n",
      "\u001b[0;32m/data/pegasus/mokaya/miniconda3/envs/aizynth-dev/lib/python3.8/json/encoder.py\u001b[0m in \u001b[0;36m_iterencode_dict\u001b[0;34m(dct, _current_indent_level)\u001b[0m\n\u001b[1;32m    403\u001b[0m                 \u001b[0;32melse\u001b[0m\u001b[0;34m:\u001b[0m\u001b[0;34m\u001b[0m\u001b[0;34m\u001b[0m\u001b[0m\n\u001b[1;32m    404\u001b[0m                     \u001b[0mchunks\u001b[0m \u001b[0;34m=\u001b[0m \u001b[0m_iterencode\u001b[0m\u001b[0;34m(\u001b[0m\u001b[0mvalue\u001b[0m\u001b[0;34m,\u001b[0m \u001b[0m_current_indent_level\u001b[0m\u001b[0;34m)\u001b[0m\u001b[0;34m\u001b[0m\u001b[0;34m\u001b[0m\u001b[0m\n\u001b[0;32m--> 405\u001b[0;31m                 \u001b[0;32myield\u001b[0m \u001b[0;32mfrom\u001b[0m \u001b[0mchunks\u001b[0m\u001b[0;34m\u001b[0m\u001b[0;34m\u001b[0m\u001b[0m\n\u001b[0m\u001b[1;32m    406\u001b[0m         \u001b[0;32mif\u001b[0m \u001b[0mnewline_indent\u001b[0m \u001b[0;32mis\u001b[0m \u001b[0;32mnot\u001b[0m \u001b[0;32mNone\u001b[0m\u001b[0;34m:\u001b[0m\u001b[0;34m\u001b[0m\u001b[0;34m\u001b[0m\u001b[0m\n\u001b[1;32m    407\u001b[0m             \u001b[0m_current_indent_level\u001b[0m \u001b[0;34m-=\u001b[0m \u001b[0;36m1\u001b[0m\u001b[0;34m\u001b[0m\u001b[0;34m\u001b[0m\u001b[0m\n",
      "\u001b[0;32m/data/pegasus/mokaya/miniconda3/envs/aizynth-dev/lib/python3.8/json/encoder.py\u001b[0m in \u001b[0;36m_iterencode_dict\u001b[0;34m(dct, _current_indent_level)\u001b[0m\n\u001b[1;32m    403\u001b[0m                 \u001b[0;32melse\u001b[0m\u001b[0;34m:\u001b[0m\u001b[0;34m\u001b[0m\u001b[0;34m\u001b[0m\u001b[0m\n\u001b[1;32m    404\u001b[0m                     \u001b[0mchunks\u001b[0m \u001b[0;34m=\u001b[0m \u001b[0m_iterencode\u001b[0m\u001b[0;34m(\u001b[0m\u001b[0mvalue\u001b[0m\u001b[0;34m,\u001b[0m \u001b[0m_current_indent_level\u001b[0m\u001b[0;34m)\u001b[0m\u001b[0;34m\u001b[0m\u001b[0;34m\u001b[0m\u001b[0m\n\u001b[0;32m--> 405\u001b[0;31m                 \u001b[0;32myield\u001b[0m \u001b[0;32mfrom\u001b[0m \u001b[0mchunks\u001b[0m\u001b[0;34m\u001b[0m\u001b[0;34m\u001b[0m\u001b[0m\n\u001b[0m\u001b[1;32m    406\u001b[0m         \u001b[0;32mif\u001b[0m \u001b[0mnewline_indent\u001b[0m \u001b[0;32mis\u001b[0m \u001b[0;32mnot\u001b[0m \u001b[0;32mNone\u001b[0m\u001b[0;34m:\u001b[0m\u001b[0;34m\u001b[0m\u001b[0;34m\u001b[0m\u001b[0m\n\u001b[1;32m    407\u001b[0m             \u001b[0m_current_indent_level\u001b[0m \u001b[0;34m-=\u001b[0m \u001b[0;36m1\u001b[0m\u001b[0;34m\u001b[0m\u001b[0;34m\u001b[0m\u001b[0m\n",
      "\u001b[0;32m/data/pegasus/mokaya/miniconda3/envs/aizynth-dev/lib/python3.8/json/encoder.py\u001b[0m in \u001b[0;36m_iterencode\u001b[0;34m(o, _current_indent_level)\u001b[0m\n\u001b[1;32m    436\u001b[0m                     \u001b[0;32mraise\u001b[0m \u001b[0mValueError\u001b[0m\u001b[0;34m(\u001b[0m\u001b[0;34m\"Circular reference detected\"\u001b[0m\u001b[0;34m)\u001b[0m\u001b[0;34m\u001b[0m\u001b[0;34m\u001b[0m\u001b[0m\n\u001b[1;32m    437\u001b[0m                 \u001b[0mmarkers\u001b[0m\u001b[0;34m[\u001b[0m\u001b[0mmarkerid\u001b[0m\u001b[0;34m]\u001b[0m \u001b[0;34m=\u001b[0m \u001b[0mo\u001b[0m\u001b[0;34m\u001b[0m\u001b[0;34m\u001b[0m\u001b[0m\n\u001b[0;32m--> 438\u001b[0;31m             \u001b[0mo\u001b[0m \u001b[0;34m=\u001b[0m \u001b[0m_default\u001b[0m\u001b[0;34m(\u001b[0m\u001b[0mo\u001b[0m\u001b[0;34m)\u001b[0m\u001b[0;34m\u001b[0m\u001b[0;34m\u001b[0m\u001b[0m\n\u001b[0m\u001b[1;32m    439\u001b[0m             \u001b[0;32myield\u001b[0m \u001b[0;32mfrom\u001b[0m \u001b[0m_iterencode\u001b[0m\u001b[0;34m(\u001b[0m\u001b[0mo\u001b[0m\u001b[0;34m,\u001b[0m \u001b[0m_current_indent_level\u001b[0m\u001b[0;34m)\u001b[0m\u001b[0;34m\u001b[0m\u001b[0;34m\u001b[0m\u001b[0m\n\u001b[1;32m    440\u001b[0m             \u001b[0;32mif\u001b[0m \u001b[0mmarkers\u001b[0m \u001b[0;32mis\u001b[0m \u001b[0;32mnot\u001b[0m \u001b[0;32mNone\u001b[0m\u001b[0;34m:\u001b[0m\u001b[0;34m\u001b[0m\u001b[0;34m\u001b[0m\u001b[0m\n",
      "\u001b[0;32m/data/pegasus/mokaya/miniconda3/envs/aizynth-dev/lib/python3.8/json/encoder.py\u001b[0m in \u001b[0;36mdefault\u001b[0;34m(self, o)\u001b[0m\n\u001b[1;32m    177\u001b[0m \u001b[0;34m\u001b[0m\u001b[0m\n\u001b[1;32m    178\u001b[0m         \"\"\"\n\u001b[0;32m--> 179\u001b[0;31m         raise TypeError(f'Object of type {o.__class__.__name__} '\n\u001b[0m\u001b[1;32m    180\u001b[0m                         f'is not JSON serializable')\n\u001b[1;32m    181\u001b[0m \u001b[0;34m\u001b[0m\u001b[0m\n",
      "\u001b[0;31mTypeError\u001b[0m: Object of type float32 is not JSON serializable"
     ]
    }
   ],
   "source": [
    "net = [i.get('reaction') for i in explore_reactions if i.get('largest') != 1.0]\n",
    "\n",
    "print(type(net[0]))\n",
    "#mutils.save_json(novel_explore_trees, os.path.join(file_ext, 'aizynthfinder/Maranga/experiments/target_2/results/opt4_class/tg2_std_opt4_novelrxns.json'))\n",
    "#rt_net = [str(i) for i in net]\n",
    "print(type(rt_net[0]))\n",
    "\n",
    "with open(os.path.join(file_ext, 'aizynthfinder/Maranga/experiments/target_2/results/opt4_class/tg2_std_opt4_novelrxns.json'), 'w') as outfile:\n",
    "    json.dump(net, outfile)"
   ]
  },
  {
   "cell_type": "code",
   "execution_count": 29,
   "metadata": {},
   "outputs": [
    {
     "name": "stdout",
     "output_type": "stream",
     "text": [
      "210\n"
     ]
    }
   ],
   "source": [
    "#calculate costs of stndard reactions\n",
    "normal_reactions = [i for i in fingerprints if i.get('type') == 'normal']\n",
    "normal_rxn_trees = [ReactionTree.from_dict(i.get('reaction')) for i in normal_reactions]\n",
    "normal_costs = mutils.calculate_route_cost(normal_rxn_trees, stock_inchis, stock)\n",
    "print(len(normal_reactions))"
   ]
  },
  {
   "cell_type": "code",
   "execution_count": 33,
   "metadata": {},
   "outputs": [],
   "source": [
    "# get all reactions under cost of 70\n",
    "u70_explore = [i for i in explore_reactions if i.get('cost') < 70 and i.get('largest') != 1.0]"
   ]
  },
  {
   "cell_type": "code",
   "execution_count": 34,
   "metadata": {},
   "outputs": [
    {
     "name": "stdout",
     "output_type": "stream",
     "text": [
      "94\n"
     ]
    }
   ],
   "source": [
    "print(len(u70_explore))"
   ]
  },
  {
   "cell_type": "markdown",
   "metadata": {},
   "source": [
    "## COUNT REACTIONS"
   ]
  },
  {
   "cell_type": "code",
   "execution_count": 55,
   "metadata": {},
   "outputs": [],
   "source": [
    "# find classifications from list of reactio dicts and retuirn a dict with frequency\n",
    "def count_reactions(rxns):\n",
    "    templates = []\n",
    "    templates_dict = {}\n",
    "    for i in rxns:\n",
    "        templates.extend(list(mutils.findkeys(i, 'classification')))\n",
    "\n",
    "    print('# Templates: ', len(templates))\n",
    "\n",
    "    for i in templates:\n",
    "        if i in templates_dict:\n",
    "            templates_dict[i] += 1\n",
    "        else:\n",
    "            templates_dict[i] = 1\n",
    "    return templates_dict"
   ]
  },
  {
   "cell_type": "code",
   "execution_count": 56,
   "metadata": {},
   "outputs": [],
   "source": [
    "# find classifications from list of reactio dicts and retuirn a dict with frequency\n",
    "def count_ind_reactions(rxn):\n",
    "    templates = list(mutils.findkeys(rxn, 'classification'))\n",
    "    templates_dict = {}\n",
    "\n",
    "    print('# Templates: ', len(templates))\n",
    "\n",
    "    for i in templates:\n",
    "        if i in templates_dict:\n",
    "            templates_dict[i] += 1\n",
    "        else:\n",
    "            templates_dict[i] = 1\n",
    "    return templates_dict"
   ]
  },
  {
   "cell_type": "code",
   "execution_count": 57,
   "metadata": {},
   "outputs": [
    {
     "name": "stdout",
     "output_type": "stream",
     "text": [
      "# Templates:  8\n",
      "# Templates:  15\n",
      "# Templates:  16\n",
      "# Templates:  14\n",
      "# Templates:  15\n",
      "# Templates:  4\n",
      "# Templates:  4\n",
      "# Templates:  12\n",
      "# Templates:  5\n",
      "# Templates:  6\n",
      "# Templates:  7\n",
      "# Templates:  7\n",
      "# Templates:  7\n",
      "# Templates:  7\n",
      "# Templates:  8\n",
      "# Templates:  3\n",
      "# Templates:  5\n",
      "# Templates:  8\n",
      "# Templates:  3\n",
      "# Templates:  7\n",
      "# Templates:  7\n",
      "# Templates:  7\n",
      "# Templates:  8\n",
      "# Templates:  8\n",
      "# Templates:  2\n",
      "# Templates:  4\n"
     ]
    }
   ],
   "source": [
    "counts = [count_ind_reactions(i) for i in net]"
   ]
  },
  {
   "cell_type": "code",
   "execution_count": 58,
   "metadata": {},
   "outputs": [
    {
     "name": "stdout",
     "output_type": "stream",
     "text": [
      "# Templates:  197\n"
     ]
    }
   ],
   "source": [
    "templates_n = count_reactions(net)\n",
    "s_templates_e = dict(sorted(templates_n.items(), key=lambda kv: kv[1], reverse=True))"
   ]
  },
  {
   "cell_type": "code",
   "execution_count": 59,
   "metadata": {},
   "outputs": [
    {
     "name": "stdout",
     "output_type": "stream",
     "text": [
      "# Templates:  1226\n"
     ]
    }
   ],
   "source": [
    "templates_s = count_reactions(reactions_s)\n",
    "s_templates_s = dict(sorted(templates_s.items(), key=lambda kv: kv[1], reverse=True))"
   ]
  },
  {
   "cell_type": "code",
   "execution_count": 60,
   "metadata": {},
   "outputs": [
    {
     "ename": "NameError",
     "evalue": "name 'u70_explore' is not defined",
     "output_type": "error",
     "traceback": [
      "\u001b[0;31m---------------------------------------------------------------------------\u001b[0m",
      "\u001b[0;31mNameError\u001b[0m                                 Traceback (most recent call last)",
      "\u001b[0;32m<ipython-input-60-e09fc74ff057>\u001b[0m in \u001b[0;36m<module>\u001b[0;34m\u001b[0m\n\u001b[0;32m----> 1\u001b[0;31m \u001b[0mtemplates_e_u70\u001b[0m \u001b[0;34m=\u001b[0m \u001b[0mcount_reactions\u001b[0m\u001b[0;34m(\u001b[0m\u001b[0mu70_explore\u001b[0m\u001b[0;34m)\u001b[0m\u001b[0;34m\u001b[0m\u001b[0;34m\u001b[0m\u001b[0m\n\u001b[0m\u001b[1;32m      2\u001b[0m \u001b[0ms_templates_e_u70\u001b[0m \u001b[0;34m=\u001b[0m \u001b[0mdict\u001b[0m\u001b[0;34m(\u001b[0m\u001b[0msorted\u001b[0m\u001b[0;34m(\u001b[0m\u001b[0mtemplates_e_u70\u001b[0m\u001b[0;34m.\u001b[0m\u001b[0mitems\u001b[0m\u001b[0;34m(\u001b[0m\u001b[0;34m)\u001b[0m\u001b[0;34m,\u001b[0m \u001b[0mkey\u001b[0m\u001b[0;34m=\u001b[0m\u001b[0;32mlambda\u001b[0m \u001b[0mkv\u001b[0m\u001b[0;34m:\u001b[0m \u001b[0mkv\u001b[0m\u001b[0;34m[\u001b[0m\u001b[0;36m1\u001b[0m\u001b[0;34m]\u001b[0m\u001b[0;34m,\u001b[0m \u001b[0mreverse\u001b[0m\u001b[0;34m=\u001b[0m\u001b[0;32mTrue\u001b[0m\u001b[0;34m)\u001b[0m\u001b[0;34m)\u001b[0m\u001b[0;34m\u001b[0m\u001b[0;34m\u001b[0m\u001b[0m\n",
      "\u001b[0;31mNameError\u001b[0m: name 'u70_explore' is not defined"
     ]
    }
   ],
   "source": [
    "templates_e_u70 = count_reactions(u70_explore)\n",
    "s_templates_e_u70 = dict(sorted(templates_e_u70.items(), key=lambda kv: kv[1], reverse=True))"
   ]
  },
  {
   "cell_type": "code",
   "execution_count": 61,
   "metadata": {},
   "outputs": [
    {
     "name": "stdout",
     "output_type": "stream",
     "text": [
      "Index:  0\n",
      "Reductive amination 2         \n",
      "Unassigned      2         \n",
      "RCO2H deprotections 1         \n",
      "Heteroaryl N-alkylation 1         \n",
      "Halogenation    1         \n",
      "Other deprotections 1         \n",
      "\n",
      "\n",
      "Index:  1\n",
      "Heteroaryl N-alkylation 1         \n",
      "Unassigned      1         \n",
      "Other reductions 1         \n",
      "RCO2H deprotections 4         \n",
      "ROH deprotections 2         \n",
      "O-acylation to ester 4         \n",
      "O-substitution  2         \n",
      "\n",
      "\n",
      "Index:  2\n",
      "Heteroaryl N-alkylation 1         \n",
      "Unassigned      1         \n",
      "Other reductions 1         \n",
      "RCO2H deprotections 5         \n",
      "ROH deprotections 2         \n",
      "O-acylation to ester 4         \n",
      "O-substitution  2         \n",
      "\n",
      "\n",
      "Index:  3\n",
      "Heteroaryl N-alkylation 1         \n",
      "Unassigned      1         \n",
      "Other reductions 1         \n",
      "RCO2H deprotections 4         \n",
      "ROH deprotections 2         \n",
      "O-acylation to ester 3         \n",
      "O-substitution  2         \n",
      "\n",
      "\n",
      "Index:  4\n",
      "Amide to amine reduction 1         \n",
      "ROH deprotections 2         \n",
      "Heteroaryl N-alkylation 1         \n",
      "Alcohol to halide 1         \n",
      "Other reductions 1         \n",
      "RCO2H deprotections 3         \n",
      "O-substitution  2         \n",
      "O-acylation to ester 3         \n",
      "N-arylation with Ar-X 1         \n",
      "\n",
      "\n",
      "Index:  5\n",
      "Other functional group interconversion 1         \n",
      "Alcohol to halide 1         \n",
      "Ketone to alcohol 1         \n",
      "Heteroaryl N-alkylation 1         \n",
      "\n",
      "\n",
      "Index:  6\n",
      "N-arylation with Ar-X 1         \n",
      "NH deprotections 1         \n",
      "Heteroaryl N-alkylation 1         \n",
      "Other reductions 1         \n",
      "\n",
      "\n",
      "Index:  7\n",
      "Unassigned      3         \n",
      "Reductive amination 2         \n",
      "Other deprotections 1         \n",
      "Acid to acid chloride 1         \n",
      "RCO2H deprotections 2         \n",
      "Heteroaryl N-alkylation 2         \n",
      "Halogenation    1         \n",
      "\n",
      "\n",
      "Index:  8\n",
      "Reductive amination 1         \n",
      "S-substitution  2         \n",
      "Unassigned      2         \n",
      "\n",
      "\n",
      "Index:  9\n",
      "Reductive amination 1         \n",
      "ROH deprotections 1         \n",
      "O-substitution  1         \n",
      "Other reductions 1         \n",
      "RCO2H deprotections 1         \n",
      "Other functional group interconversion 1         \n",
      "\n",
      "\n",
      "Index:  10\n",
      "Heteroaryl N-alkylation 1         \n",
      "ROH deprotections 1         \n",
      "O-sulfonylation 1         \n",
      "O-substitution  1         \n",
      "Other reductions 1         \n",
      "RCO2H deprotections 1         \n",
      "Other functional group interconversion 1         \n",
      "\n",
      "\n",
      "Index:  11\n",
      "ROH deprotections 1         \n",
      "Heteroaryl N-alkylation 1         \n",
      "Alcohol to halide 1         \n",
      "O-substitution  1         \n",
      "Other reductions 1         \n",
      "RCO2H deprotections 1         \n",
      "Other functional group interconversion 1         \n",
      "\n",
      "\n",
      "Index:  12\n",
      "Unassigned      1         \n",
      "Heteroaryl N-alkylation 1         \n",
      "Alcohol to halide 1         \n",
      "O-substitution  1         \n",
      "Other reductions 1         \n",
      "RCO2H deprotections 1         \n",
      "Other functional group interconversion 1         \n",
      "\n",
      "\n",
      "Index:  13\n",
      "Heteroaryl N-alkylation 1         \n",
      "O-sulfonylation 1         \n",
      "ROH deprotections 1         \n",
      "O-substitution  1         \n",
      "Other reductions 1         \n",
      "RCO2H deprotections 1         \n",
      "Other functional group interconversion 1         \n",
      "\n",
      "\n",
      "Index:  14\n",
      "Reductive amination 2         \n",
      "Unassigned      2         \n",
      "RCO2H deprotections 1         \n",
      "Heteroaryl N-alkylation 1         \n",
      "Halogenation    1         \n",
      "Other deprotections 1         \n",
      "\n",
      "\n",
      "Index:  15\n",
      "Heteroaryl N-alkylation 2         \n",
      "Other reductions 1         \n",
      "\n",
      "\n",
      "Index:  16\n",
      "Heteroaryl N-alkylation 1         \n",
      "Amide to amine reduction 1         \n",
      "N-acylation to amide 1         \n",
      "O-acylation to ester 1         \n",
      "Other reductions 1         \n",
      "\n",
      "\n",
      "Index:  17\n",
      "Reductive amination 2         \n",
      "Unassigned      2         \n",
      "RCO2H deprotections 1         \n",
      "Heteroaryl N-alkylation 1         \n",
      "Halogenation    1         \n",
      "Other deprotections 1         \n",
      "\n",
      "\n",
      "Index:  18\n",
      "Reductive amination 1         \n",
      "Other reductions 1         \n",
      "Other functional group interconversion 1         \n",
      "\n",
      "\n",
      "Index:  19\n",
      "Unassigned      2         \n",
      "RCO2H deprotections 1         \n",
      "Other functional group interconversion 1         \n",
      "Heteroaryl N-alkylation 1         \n",
      "O-sulfonylation 1         \n",
      "Other reductions 1         \n",
      "\n",
      "\n",
      "Index:  20\n",
      "Unassigned      2         \n",
      "RCO2H deprotections 1         \n",
      "Other functional group interconversion 1         \n",
      "Heteroaryl N-alkylation 1         \n",
      "O-sulfonylation 1         \n",
      "Other reductions 1         \n",
      "\n",
      "\n",
      "Index:  21\n",
      "Reductive amination 1         \n",
      "Unassigned      2         \n",
      "Other functional group interconversion 1         \n",
      "Other reductions 1         \n",
      "RCO2H deprotections 1         \n",
      "O-acylation to ester 1         \n",
      "\n",
      "\n",
      "Index:  22\n",
      "Heteroaryl N-alkylation 1         \n",
      "O-sulfonylation 1         \n",
      "Unassigned      2         \n",
      "Other functional group interconversion 1         \n",
      "Other reductions 1         \n",
      "RCO2H deprotections 1         \n",
      "O-acylation to ester 1         \n",
      "\n",
      "\n",
      "Index:  23\n",
      "Heteroaryl N-alkylation 1         \n",
      "O-sulfonylation 1         \n",
      "Unassigned      2         \n",
      "Other functional group interconversion 1         \n",
      "Other reductions 1         \n",
      "RCO2H deprotections 1         \n",
      "O-acylation to ester 1         \n",
      "\n",
      "\n",
      "Index:  24\n",
      "Heteroaryl N-alkylation 1         \n",
      "Unassigned      1         \n",
      "\n",
      "\n",
      "Index:  25\n",
      "Heteroaryl N-alkylation 1         \n",
      "O-sulfonylation 1         \n",
      "Unassigned      1         \n",
      "Friedel-Crafts reaction 1         \n",
      "\n",
      "\n"
     ]
    }
   ],
   "source": [
    "for ind, i in enumerate(counts):\n",
    "    print('Index: ', ind)\n",
    "    # print reaction template breakdown\n",
    "    for k, v in i.items():\n",
    "        label, num = k, v\n",
    "        print (\"{:<15} {:<10}\".format(label, num))\n",
    "    print('\\n')"
   ]
  },
  {
   "cell_type": "code",
   "execution_count": 62,
   "metadata": {},
   "outputs": [
    {
     "name": "stdout",
     "output_type": "stream",
     "text": [
      "Reductive amination 12        \n",
      "Unassigned      27        \n",
      "RCO2H deprotections 31        \n",
      "Heteroaryl N-alkylation 24        \n",
      "Halogenation    4         \n",
      "Other deprotections 4         \n",
      "Other reductions 18        \n",
      "ROH deprotections 12        \n",
      "O-acylation to ester 18        \n",
      "O-substitution  13        \n",
      "Amide to amine reduction 2         \n",
      "Alcohol to halide 4         \n",
      "N-arylation with Ar-X 2         \n",
      "Other functional group interconversion 12        \n",
      "Ketone to alcohol 1         \n",
      "NH deprotections 1         \n",
      "Acid to acid chloride 1         \n",
      "S-substitution  2         \n",
      "O-sulfonylation 7         \n",
      "N-acylation to amide 1         \n",
      "Friedel-Crafts reaction 1         \n"
     ]
    }
   ],
   "source": [
    "# print reaction template breakdown\n",
    "for k, v in templates_n.items():\n",
    "    label, num = k, v\n",
    "    print (\"{:<15} {:<10}\".format(label, num))"
   ]
  },
  {
   "cell_type": "code",
   "execution_count": 47,
   "metadata": {},
   "outputs": [
    {
     "name": "stdout",
     "output_type": "stream",
     "text": [
      "Unassigned      250       \n",
      "Heteroaryl N-alkylation 201       \n",
      "Reductive amination 158       \n",
      "Halogenation    133       \n",
      "RCO2H deprotections 110       \n",
      "Other functional group interconversion 49        \n",
      "O-acylation to ester 31        \n",
      "Amide to amine reduction 27        \n",
      "Other reductions 26        \n",
      "ROH deprotections 20        \n",
      "O-substitution  20        \n",
      "Alcohol to halide 19        \n",
      "N-arylation with Ar-X 18        \n",
      "Alcohols to aldehydes 15        \n",
      "NH deprotections 15        \n",
      "N-acylation to amide 15        \n",
      "Friedel-Crafts reaction 13        \n",
      "Ester to alcohol 13        \n",
      "Stille reaction 12        \n",
      "Acid to acid chloride 11        \n",
      "Alkene oxidative cleavage 9         \n",
      "S-substitution  9         \n",
      "N-substitution with alkyl-X 8         \n",
      "Ketone to alcohol 8         \n",
      "O-sulfonylation 7         \n",
      "Other functional group addition 5         \n",
      "Nitro to amine reduction 4         \n",
      "NH protections  4         \n",
      "O-containing heterocycle formation 3         \n",
      "Alkene to alkane 3         \n",
      "Suzuki coupling 2         \n",
      "Other deprotections 2         \n",
      "Other organometallic C-C bond formation 2         \n",
      "Cyano or imine to amine 1         \n",
      "RSH deprotections 1         \n",
      "Alkyne to alkane 1         \n",
      "Other C-C bond formation 1         \n"
     ]
    }
   ],
   "source": [
    "# print reaction template breakdown\n",
    "for k, v in s_templates_s.items():\n",
    "    label, num = k, v\n",
    "    print (\"{:<15} {:<10}\".format(label, num))"
   ]
  },
  {
   "cell_type": "code",
   "execution_count": 46,
   "metadata": {},
   "outputs": [],
   "source": [
    "optimisations = []\n",
    "for k, v in s_templates_e_u70.items():\n",
    "    optimisations.append(k)"
   ]
  },
  {
   "cell_type": "code",
   "execution_count": 47,
   "metadata": {},
   "outputs": [
    {
     "name": "stdout",
     "output_type": "stream",
     "text": [
      "['Unassigned', 'Heteroaryl N-alkylation', 'Halogenation', 'Reductive amination', 'Alcohol to halide', 'RCO2H deprotections', 'Other reductions', 'O-containing heterocycle formation', 'Other functional group interconversion', 'Stille reaction', 'Ketone to alcohol', 'ROH deprotections', 'O-substitution', 'Friedel-Crafts reaction', 'NH deprotections', 'O-sulfonylation', 'S-substitution', 'N-substitution with alkyl-X', 'Nitro to amine reduction', 'Amide to amine reduction', 'N-arylation with Ar-X', 'Other deprotections', 'Alkene to alkane', 'O-acylation to ester', 'NH protections', 'Dehydration', 'N-acylation to amide']\n"
     ]
    }
   ],
   "source": [
    "print(optimisations)"
   ]
  },
  {
   "cell_type": "code",
   "execution_count": 43,
   "metadata": {},
   "outputs": [],
   "source": [
    "plot_largest = [i.get('largest') for i in explore_reactions]\n",
    "plot_costs = [i.get('cost') for i in explore_reactions]"
   ]
  },
  {
   "cell_type": "code",
   "execution_count": 22,
   "metadata": {},
   "outputs": [
    {
     "name": "stdout",
     "output_type": "stream",
     "text": [
      "64\n"
     ]
    }
   ],
   "source": [
    "opt_reactions = [i.get('reaction') for i in explore_reactions if (i.get('largest') < 1.0 and i.get('cost') < 25.0)]\n",
    "print(len(opt_reactions))\n",
    "\n",
    "for i in opt_reactions:\n",
    "    jsons = []\n",
    "    jsons.append(ReactionTree.from_dict(i).to_json)\n",
    "\n",
    "# save reaction trees to JSON file as dict under 'reaction trees': \n",
    "\n",
    "data_json = {\n",
    "    'reaction trees': opt_reactions\n",
    "}\n",
    "\n",
    "with open('/data/localhost/not-backed-up/mokaya/exscientia/aizynthfinder/Maranga/experiments/target_2/results/tg2_exp_u25_solved.json', 'w') as outfile:\n",
    "    json.dump(data_json, outfile)"
   ]
  },
  {
   "cell_type": "code",
   "execution_count": 20,
   "metadata": {
    "tags": []
   },
   "outputs": [
    {
     "name": "stdout",
     "output_type": "stream",
     "text": [
      "Index:  1\n",
      "Index:  2\n",
      "Index:  3\n",
      "Index:  4\n",
      "Index:  5\n",
      "Index:  6\n",
      "Index:  7\n",
      "Index:  8\n",
      "Index:  9\n"
     ]
    }
   ],
   "source": [
    "# get all the results for reactions that are the same length\n",
    "\n",
    "largest = []\n",
    "lengths = []\n",
    "distances = []\n",
    "all_numbers = []\n",
    "for i in range(1, 10):\n",
    "    print('Index: ', i)\n",
    "    number = [x for x in fingerprints if (get_length(x.get('fingerprint')) == i)]\n",
    "    all_numbers.extend(number)\n",
    "    lar, lens, dist = fings.split_sim(number)\n",
    "    largest.extend(lar)\n",
    "    lengths.extend(lens)\n",
    "    distances.extend(dist)"
   ]
  },
  {
   "cell_type": "code",
   "execution_count": 13,
   "metadata": {},
   "outputs": [],
   "source": [
    "five = [i for i in fingerprints if get_length(i.get('fingerprint')) == 5]\n",
    "\n",
    "la5, le5, d5 = fings.split_sim(five)"
   ]
  },
  {
   "cell_type": "code",
   "execution_count": 21,
   "metadata": {},
   "outputs": [],
   "source": [
    "odd_la, odd_le, odd_dist = fings.split_sim(all_numbers)"
   ]
  },
  {
   "cell_type": "code",
   "execution_count": 69,
   "metadata": {
    "tags": []
   },
   "outputs": [],
   "source": [
    "five_e = [i for i in five if i.get('type') == 'explore']\n",
    "five_s = [i for i in five if i.get('type') == 'normal']\n",
    "\n",
    "for index, i in enumerate(five_e):\n",
    "    f = i.get('fingerprint')\n",
    "    for index2, p in enumerate(five_s):\n",
    "        count = 0\n",
    "        f2 = p.get('fingerprint')\n",
    "        for z,v in zip(f, f2):\n",
    "            if z == v:\n",
    "                count+= 1\n",
    "        if count == 0:\n",
    "            print(index)\n",
    "            print(index2)\n",
    "            print('new')"
   ]
  },
  {
   "cell_type": "code",
   "execution_count": 53,
   "metadata": {},
   "outputs": [],
   "source": [
    "e_fingerprints = [i for i in fingerprints if i.get('type') == 'explore']\n",
    "s_fingerprints = [i for i in fingerprints if i.get('type') == 'normal']"
   ]
  },
  {
   "cell_type": "code",
   "execution_count": 87,
   "metadata": {
    "tags": []
   },
   "outputs": [
    {
     "name": "stdout",
     "output_type": "stream",
     "text": [
      "0\n",
      "1\n",
      "17\n",
      "18\n",
      "19\n",
      "20\n",
      "21\n",
      "22\n",
      "23\n",
      "24\n",
      "25\n",
      "26\n",
      "27\n",
      "28\n",
      "29\n",
      "30\n",
      "31\n",
      "32\n",
      "33\n",
      "34\n",
      "35\n",
      "36\n",
      "37\n",
      "38\n",
      "39\n",
      "53\n",
      "54\n",
      "55\n",
      "56\n",
      "57\n",
      "58\n",
      "59\n",
      "60\n",
      "61\n",
      "62\n",
      "63\n",
      "64\n",
      "65\n",
      "66\n",
      "67\n",
      "68\n",
      "69\n",
      "70\n",
      "71\n",
      "72\n",
      "73\n",
      "74\n",
      "83\n",
      "84\n",
      "85\n",
      "86\n",
      "87\n",
      "88\n",
      "89\n",
      "90\n",
      "91\n",
      "92\n",
      "102\n",
      "103\n",
      "104\n",
      "105\n",
      "106\n",
      "107\n",
      "108\n",
      "109\n",
      "110\n",
      "111\n",
      "112\n",
      "113\n",
      "114\n",
      "115\n",
      "116\n",
      "117\n",
      "118\n",
      "119\n",
      "120\n",
      "121\n",
      "122\n",
      "123\n",
      "127\n",
      "128\n",
      "129\n",
      "130\n",
      "131\n",
      "132\n",
      "133\n",
      "134\n",
      "135\n",
      "139\n",
      "140\n",
      "141\n",
      "142\n",
      "143\n",
      "144\n",
      "145\n",
      "146\n",
      "147\n",
      "148\n",
      "149\n"
     ]
    }
   ],
   "source": [
    "for index, i in enumerate(e_fingerprints[50:200]):\n",
    "    rxn_fp = i.get('fingerprint')\n",
    "    t = 0\n",
    "    for p in rxn_fp:\n",
    "        if p != 0:\n",
    "            t += 1\n",
    "    \n",
    "    \n",
    "    \n",
    "    if t == 2:\n",
    "        print(index)"
   ]
  },
  {
   "cell_type": "code",
   "execution_count": 52,
   "metadata": {},
   "outputs": [
    {
     "name": "stdout",
     "output_type": "stream",
     "text": [
      "5\n",
      "24\n",
      "25\n",
      "26\n"
     ]
    }
   ],
   "source": [
    "item_fp = e_fingerprints[52].get('fingerprint')\n",
    "for index, it in enumerate(item_fp):\n",
    "    if it != 0:\n",
    "        print(index)"
   ]
  },
  {
   "cell_type": "code",
   "execution_count": 93,
   "metadata": {},
   "outputs": [],
   "source": [
    "e_fing_two = []\n",
    "for i in e_fingerprints:\n",
    "    _fp = i.get('fingerprint')\n",
    "    t = 0\n",
    "    for p in _fp:\n",
    "        if p != 0:\n",
    "            t += 1\n",
    "    \n",
    "    \n",
    "    \n",
    "    if t == 2:\n",
    "        e_fing_two.append(i)\n",
    "    "
   ]
  },
  {
   "cell_type": "code",
   "execution_count": 94,
   "metadata": {},
   "outputs": [],
   "source": [
    "e_fing_two.append(s_fingerprints[88])"
   ]
  },
  {
   "cell_type": "code",
   "execution_count": 80,
   "metadata": {},
   "outputs": [
    {
     "name": "stdout",
     "output_type": "stream",
     "text": [
      "None\n"
     ]
    }
   ],
   "source": []
  },
  {
   "cell_type": "code",
   "execution_count": 68,
   "metadata": {},
   "outputs": [
    {
     "name": "stdout",
     "output_type": "stream",
     "text": [
      "1485\n"
     ]
    }
   ],
   "source": [
    "print(len(rxns_teste))"
   ]
  },
  {
   "cell_type": "code",
   "execution_count": 95,
   "metadata": {},
   "outputs": [],
   "source": [
    "larg_sub, len_sub, all_dist_sub = fings.split_sim(e_fing_two)"
   ]
  },
  {
   "cell_type": "code",
   "execution_count": 96,
   "metadata": {},
   "outputs": [
    {
     "name": "stdout",
     "output_type": "stream",
     "text": [
      "{0.9883720930232558, 0.9806201550387597}\n"
     ]
    }
   ],
   "source": [
    "print(set(all_dist_sub))"
   ]
  },
  {
   "cell_type": "code",
   "execution_count": 98,
   "metadata": {
    "tags": []
   },
   "outputs": [
    {
     "name": "stdout",
     "output_type": "stream",
     "text": [
      "0\n",
      "4\n",
      "5\n",
      "7\n",
      "8\n",
      "9\n",
      "10\n",
      "11\n",
      "12\n",
      "13\n",
      "14\n",
      "15\n",
      "16\n",
      "17\n",
      "19\n",
      "20\n",
      "21\n",
      "22\n",
      "23\n",
      "26\n",
      "31\n",
      "32\n",
      "33\n",
      "34\n",
      "35\n",
      "36\n",
      "37\n",
      "38\n",
      "39\n",
      "40\n",
      "41\n",
      "46\n",
      "49\n",
      "50\n",
      "51\n",
      "52\n",
      "53\n",
      "54\n",
      "55\n",
      "56\n",
      "57\n",
      "58\n",
      "59\n",
      "60\n",
      "61\n",
      "64\n",
      "65\n",
      "70\n",
      "73\n",
      "74\n",
      "75\n",
      "76\n",
      "77\n",
      "78\n",
      "79\n",
      "80\n",
      "81\n",
      "82\n",
      "83\n",
      "84\n",
      "95\n",
      "96\n",
      "97\n",
      "98\n",
      "102\n",
      "104\n",
      "107\n",
      "109\n",
      "110\n",
      "111\n",
      "112\n",
      "113\n",
      "114\n",
      "115\n",
      "116\n",
      "126\n",
      "127\n",
      "128\n",
      "131\n",
      "132\n",
      "134\n",
      "135\n",
      "138\n",
      "141\n",
      "142\n",
      "143\n",
      "144\n",
      "145\n",
      "146\n",
      "147\n",
      "156\n",
      "157\n",
      "158\n",
      "159\n",
      "160\n",
      "161\n",
      "163\n",
      "164\n",
      "169\n",
      "170\n",
      "171\n",
      "172\n",
      "173\n",
      "174\n",
      "175\n",
      "176\n",
      "177\n",
      "178\n",
      "179\n",
      "180\n",
      "181\n",
      "182\n",
      "184\n",
      "185\n",
      "186\n",
      "187\n",
      "188\n",
      "189\n",
      "190\n",
      "191\n",
      "192\n",
      "193\n",
      "194\n",
      "195\n",
      "201\n",
      "202\n",
      "203\n",
      "204\n",
      "205\n",
      "206\n",
      "207\n",
      "208\n",
      "210\n",
      "212\n",
      "213\n",
      "214\n",
      "215\n",
      "216\n",
      "217\n",
      "218\n",
      "219\n",
      "220\n",
      "221\n",
      "222\n",
      "223\n",
      "224\n",
      "227\n",
      "228\n",
      "229\n",
      "230\n",
      "231\n",
      "232\n",
      "233\n",
      "234\n",
      "235\n",
      "261\n",
      "263\n",
      "266\n",
      "267\n",
      "268\n",
      "271\n",
      "272\n",
      "273\n",
      "274\n",
      "275\n",
      "276\n",
      "277\n",
      "278\n",
      "279\n",
      "280\n",
      "281\n",
      "282\n",
      "285\n",
      "286\n",
      "287\n",
      "290\n",
      "291\n",
      "292\n",
      "293\n",
      "294\n",
      "295\n",
      "296\n",
      "297\n",
      "298\n",
      "301\n",
      "302\n",
      "303\n",
      "304\n",
      "305\n",
      "306\n",
      "307\n",
      "308\n",
      "309\n",
      "310\n",
      "311\n",
      "312\n",
      "313\n",
      "314\n",
      "315\n",
      "316\n",
      "317\n",
      "318\n",
      "319\n",
      "322\n",
      "323\n",
      "324\n",
      "325\n",
      "328\n",
      "330\n",
      "331\n",
      "332\n",
      "333\n",
      "338\n",
      "339\n",
      "342\n",
      "343\n",
      "344\n",
      "345\n",
      "346\n",
      "347\n",
      "348\n",
      "352\n",
      "353\n",
      "354\n",
      "355\n",
      "356\n",
      "357\n",
      "358\n",
      "359\n",
      "360\n",
      "361\n",
      "362\n",
      "363\n",
      "364\n",
      "365\n",
      "366\n",
      "367\n",
      "368\n",
      "369\n",
      "370\n",
      "372\n",
      "374\n",
      "375\n",
      "376\n",
      "377\n",
      "378\n",
      "379\n",
      "380\n",
      "381\n",
      "382\n",
      "383\n",
      "384\n",
      "400\n",
      "401\n",
      "402\n",
      "403\n",
      "405\n",
      "406\n",
      "407\n",
      "408\n",
      "409\n",
      "410\n",
      "418\n",
      "422\n",
      "424\n",
      "425\n",
      "426\n",
      "428\n",
      "430\n",
      "432\n",
      "433\n",
      "434\n",
      "435\n",
      "436\n",
      "439\n",
      "440\n",
      "441\n",
      "444\n",
      "446\n",
      "449\n",
      "450\n",
      "451\n",
      "452\n",
      "453\n",
      "454\n",
      "455\n",
      "456\n",
      "457\n",
      "458\n",
      "459\n",
      "461\n",
      "462\n",
      "464\n",
      "465\n",
      "466\n",
      "473\n",
      "474\n",
      "475\n",
      "476\n",
      "477\n",
      "478\n",
      "481\n",
      "482\n",
      "485\n",
      "486\n",
      "487\n",
      "488\n",
      "489\n",
      "490\n",
      "491\n",
      "492\n",
      "493\n",
      "494\n",
      "495\n",
      "496\n",
      "497\n",
      "500\n",
      "501\n",
      "506\n",
      "507\n",
      "510\n",
      "513\n",
      "514\n",
      "515\n",
      "516\n",
      "517\n",
      "518\n",
      "519\n",
      "523\n",
      "526\n",
      "527\n",
      "528\n",
      "529\n",
      "530\n",
      "531\n",
      "532\n",
      "533\n",
      "534\n",
      "535\n",
      "539\n",
      "540\n",
      "541\n",
      "542\n",
      "543\n",
      "544\n",
      "545\n",
      "551\n",
      "552\n",
      "553\n",
      "554\n",
      "555\n",
      "556\n",
      "557\n",
      "558\n",
      "559\n",
      "560\n",
      "561\n",
      "562\n",
      "564\n",
      "565\n",
      "569\n",
      "570\n",
      "571\n",
      "572\n",
      "573\n",
      "575\n",
      "577\n",
      "579\n",
      "580\n",
      "583\n",
      "584\n",
      "585\n",
      "587\n",
      "588\n",
      "589\n",
      "591\n",
      "592\n",
      "594\n",
      "599\n",
      "606\n",
      "608\n",
      "609\n",
      "610\n",
      "611\n",
      "612\n",
      "613\n",
      "616\n",
      "619\n",
      "620\n",
      "621\n",
      "622\n",
      "623\n",
      "624\n",
      "625\n",
      "626\n",
      "627\n",
      "628\n",
      "629\n",
      "630\n",
      "631\n",
      "632\n",
      "633\n",
      "636\n",
      "637\n",
      "638\n",
      "639\n",
      "640\n",
      "641\n",
      "644\n",
      "645\n",
      "646\n",
      "647\n",
      "648\n",
      "649\n",
      "650\n",
      "651\n",
      "654\n",
      "655\n",
      "658\n",
      "659\n",
      "661\n",
      "662\n",
      "663\n",
      "664\n",
      "665\n",
      "666\n",
      "667\n",
      "668\n",
      "670\n",
      "671\n",
      "672\n",
      "674\n",
      "675\n",
      "676\n",
      "677\n",
      "678\n",
      "679\n",
      "680\n",
      "684\n",
      "688\n",
      "689\n",
      "690\n",
      "691\n",
      "692\n",
      "693\n",
      "694\n",
      "695\n",
      "696\n",
      "697\n",
      "698\n",
      "699\n",
      "700\n",
      "701\n",
      "702\n",
      "703\n",
      "704\n",
      "705\n",
      "706\n",
      "707\n",
      "712\n",
      "713\n",
      "714\n",
      "715\n",
      "733\n",
      "736\n",
      "739\n",
      "742\n",
      "743\n",
      "744\n",
      "745\n",
      "746\n",
      "750\n",
      "751\n",
      "752\n",
      "753\n",
      "754\n",
      "755\n",
      "759\n",
      "761\n",
      "763\n",
      "764\n",
      "765\n",
      "766\n",
      "767\n",
      "768\n",
      "769\n",
      "770\n",
      "773\n",
      "774\n",
      "775\n",
      "776\n",
      "781\n",
      "783\n",
      "784\n",
      "785\n",
      "786\n",
      "787\n",
      "788\n",
      "789\n"
     ]
    }
   ],
   "source": [
    "vals = []\n",
    "for ind, i in enumerate(all_dist_sub):\n",
    "    if i == 255/258:\n",
    "        print(ind)"
   ]
  },
  {
   "cell_type": "code",
   "execution_count": null,
   "metadata": {},
   "outputs": [],
   "source": [
    "print()"
   ]
  },
  {
   "cell_type": "code",
   "execution_count": 75,
   "metadata": {},
   "outputs": [
    {
     "name": "stdout",
     "output_type": "stream",
     "text": [
      "[0.9883720930232558, 0.9883720930232558, 0.9883720930232558, 0.9883720930232558, 0.9883720930232558, 0.9883720930232558, 0.9883720930232558, 0.9883720930232558, 0.9883720930232558, 0.9883720930232558]\n"
     ]
    }
   ],
   "source": [
    "print(all_dist_sub[:10])"
   ]
  },
  {
   "cell_type": "code",
   "execution_count": 100,
   "metadata": {},
   "outputs": [],
   "source": [
    "# save picture of reaction\n",
    "e_tree = ReactionTree.from_dict(e_fing_two[12].get('reaction')).to_image().save('/data/localhost/not-backed-up/mokaya/exscientia/aizynthfinder/Maranga/experiments/price/results/images/figures/tg1_sub_example_2b_e.png')\n",
    "# s_tree = ReactionTree.from_dict(five_s[7].get('reaction')).to_image().save('/data/localhost/not-backed-up/mokaya/exscientia/aizynthfinder/Maranga/experiments/price/results/images/figures/ex_one_s_5(3).png')"
   ]
  },
  {
   "cell_type": "code",
   "execution_count": 33,
   "metadata": {},
   "outputs": [
    {
     "name": "stdout",
     "output_type": "stream",
     "text": [
      "['7d30de1baf17b3adffc5cb03e7ad551f26a20475d3a92733e82b7ab5', '677b2598725218cb04c751df543c67caf9bb1559fc14ca130453d8cb', 'd9381630c8affe1876dfcd902fbefe3e36835cf8e28617cc92c5e261', 'ace077327b65885e2493775e77cea5434d2da2918de8308af58629a6', '2808c54891d2ec97e49ef2bf07a2550b6ef29671d72f88f71a119e95', '8c06b827d9f644ced2afc4ca529ba35cf97a331927df42997aa2e424']\n"
     ]
    }
   ],
   "source": [
    "# return a list of reaction clasification from reaction\n",
    "print(list(mutils.findkeys(e_fingerprints[835].get('reaction'), 'template_hash')))\n",
    "#print(list(mutils.findkeys(five_s[7].get('reaction'), 'template_hash')))"
   ]
  },
  {
   "cell_type": "code",
   "execution_count": 1,
   "metadata": {},
   "outputs": [
    {
     "ename": "NameError",
     "evalue": "name 'min_distances' is not defined",
     "output_type": "error",
     "traceback": [
      "\u001b[0;31m---------------------------------------------------------------------------\u001b[0m",
      "\u001b[0;31mNameError\u001b[0m                                 Traceback (most recent call last)",
      "\u001b[0;32m<ipython-input-1-482649af2b88>\u001b[0m in \u001b[0;36m<module>\u001b[0;34m\u001b[0m\n\u001b[1;32m      5\u001b[0m \u001b[0;34m\u001b[0m\u001b[0m\n\u001b[1;32m      6\u001b[0m \u001b[0;34m\u001b[0m\u001b[0m\n\u001b[0;32m----> 7\u001b[0;31m \u001b[0mplt\u001b[0m\u001b[0;34m.\u001b[0m\u001b[0mhist\u001b[0m\u001b[0;34m(\u001b[0m\u001b[0mmin_distances\u001b[0m\u001b[0;34m)\u001b[0m\u001b[0;34m\u001b[0m\u001b[0;34m\u001b[0m\u001b[0m\n\u001b[0m\u001b[1;32m      8\u001b[0m \u001b[0;31m#plt.hist(largest)\u001b[0m\u001b[0;34m\u001b[0m\u001b[0;34m\u001b[0m\u001b[0;34m\u001b[0m\u001b[0m\n\u001b[1;32m      9\u001b[0m \u001b[0mplt\u001b[0m\u001b[0;34m.\u001b[0m\u001b[0mxlabel\u001b[0m\u001b[0;34m(\u001b[0m\u001b[0;34m'Distance'\u001b[0m\u001b[0;34m)\u001b[0m\u001b[0;34m\u001b[0m\u001b[0;34m\u001b[0m\u001b[0m\n",
      "\u001b[0;31mNameError\u001b[0m: name 'min_distances' is not defined"
     ]
    }
   ],
   "source": [
    "#plot SCATTER of all distances\n",
    "\n",
    "%matplotlib inline\n",
    "import matplotlib.pyplot as plt\n",
    "\n",
    "\n",
    "plt.hist(min_distances)\n",
    "#plt.hist(largest)\n",
    "plt.xlabel('Distance')\n",
    "plt.ylabel('Freq')\n",
    "#plt.ylim(0,100)\n",
    "#plt.savefig('/data/localhost/not-backed-up/mokaya/exscientia/aizynthfinder/Maranga/Images/tg1e3_split_lsim.png')\n",
    "plt.show()"
   ]
  },
  {
   "cell_type": "code",
   "execution_count": 6,
   "metadata": {
    "tags": []
   },
   "outputs": [
    {
     "name": "stdout",
     "output_type": "stream",
     "text": [
      "{'molecule': 0, 'index': 1, 'reaction': {'type': 'mol', 'hide': False, 'smiles': 'O=S(=O)(NCC(c1ccco1)N1CCN(c2ccccc2)CC1)c1ccccc1', 'is_chemical': True, 'in_stock': False, 'children': [{'type': 'reaction', 'hide': False, 'smiles': '[c:1]([cH2:2])[cH2:3]>>Cl[c:1]([cH2:2])[cH2:3]', 'is_reaction': True, 'metadata': {'template_hash': '9860ae00c69ec5f62a57f92b2877531856501cab10bf169231c3b9a0', 'classification': 'Other functional group interconversion', 'library_occurence': 197, 'policy_probability': 0.0006000000284984708, 'policy_name': 'uspto', 'template_code': 27892}, 'children': [{'type': 'mol', 'hide': False, 'smiles': 'O=S(=O)(NCC(c1ccco1)N1CCN(c2ccccc2)CC1)c1ccc(Cl)cc1', 'is_chemical': True, 'in_stock': True}]}]}, 'type': 'explore'}\n",
      "1145\n"
     ]
    }
   ],
   "source": [
    "print(reactions_e[1])\n",
    "print(len(reactions_e))"
   ]
  },
  {
   "cell_type": "code",
   "execution_count": 16,
   "metadata": {},
   "outputs": [
    {
     "name": "stdout",
     "output_type": "stream",
     "text": [
      "Print lengh of reaction vector:  173\n",
      "Print lengh of reaction vector:  205\n"
     ]
    }
   ],
   "source": [
    "rxns_s = fings.generate_fingerprints(reactions_s)\n",
    "rxns_e = fings.generate_fingerprints(reactions_e)\n"
   ]
  },
  {
   "cell_type": "code",
   "execution_count": 12,
   "metadata": {},
   "outputs": [
    {
     "name": "stdout",
     "output_type": "stream",
     "text": [
      "{0.9942196531791907, 1.0}\n"
     ]
    }
   ],
   "source": [
    "print(set(largest))"
   ]
  },
  {
   "cell_type": "code",
   "execution_count": 13,
   "metadata": {},
   "outputs": [
    {
     "name": "stdout",
     "output_type": "stream",
     "text": [
      "{0, 1, 2, 3, 4, 5, 6, 7, 8}\n"
     ]
    }
   ],
   "source": [
    "print(set(lengths))"
   ]
  },
  {
   "cell_type": "code",
   "execution_count": 27,
   "metadata": {},
   "outputs": [
    {
     "name": "stdout",
     "output_type": "stream",
     "text": [
      "INDEX:  835\n",
      "lar:  0.9767441860465116\n",
      "len:  6\n"
     ]
    }
   ],
   "source": [
    "for index, (x, y) in enumerate(zip(largest, lengths)):\n",
    "    if (y == 6 and x < 0.98):\n",
    "        print('INDEX: ', index)\n",
    "        print('lar: ', x)\n",
    "        print('len: ', y)"
   ]
  },
  {
   "cell_type": "code",
   "execution_count": null,
   "metadata": {},
   "outputs": [],
   "source": []
  },
  {
   "cell_type": "code",
   "execution_count": 37,
   "metadata": {},
   "outputs": [
    {
     "name": "stdout",
     "output_type": "stream",
     "text": [
      "{0.9961240310077519, 1.0, 0.9922480620155039, 0.9883720930232558, 0.9767441860465116, 0.9806201550387597}\n",
      "{0.9883720930232558, 0.9767441860465116, 0.9922480620155039, 0.9806201550387597, 0.9844961240310077, 0.9728682170542635, 0.9689922480620154, 0.9961240310077519, 0.9651162790697675, 1.0, 0.9612403100775194, 0.9573643410852714, 0.9534883720930233, 0.9496124031007752}\n",
      "6\n"
     ]
    }
   ],
   "source": [
    "print((set(largest)))\n",
    "print((set(all_distances)))\n",
    "print(max(lengths))"
   ]
  },
  {
   "cell_type": "code",
   "execution_count": null,
   "metadata": {},
   "outputs": [],
   "source": [
    "# find a pair of reactions that are the same + same length\n",
    "five = [i for i in ]"
   ]
  },
  {
   "cell_type": "code",
   "execution_count": 41,
   "metadata": {},
   "outputs": [
    {
     "data": {
      "image/png": "[encoded data removed]",
      "text/plain": [
       "<Figure size 432x288 with 1 Axes>"
      ]
     },
     "metadata": {
      "needs_background": "light"
     },
     "output_type": "display_data"
    }
   ],
   "source": [
    "#plot HIST of largest similarity\n",
    "\n",
    "%matplotlib inline\n",
    "import matplotlib.pyplot as plt\n",
    "\n",
    "\n",
    "plt.hist(normal_costs, bins=400)\n",
    "#plt.hist(largest)\n",
    "plt.xlabel('Cost')\n",
    "plt.ylabel('Freq')\n",
    "plt.xlim(0,80)\n",
    "plt.savefig('/data/localhost/not-backed-up/mokaya/exscientia/aizynthfinder/Maranga/experiments/target_2/results/images/tg2_std_cost_hist0-80.png')\n",
    "plt.show()"
   ]
  },
  {
   "cell_type": "code",
   "execution_count": 27,
   "metadata": {},
   "outputs": [
    {
     "data": {
      "image/png": "[encoded data removed]",
      "text/plain": [
       "<Figure size 432x288 with 1 Axes>"
      ]
     },
     "metadata": {
      "needs_background": "light"
     },
     "output_type": "display_data"
    }
   ],
   "source": [
    "#plot SCATTER of largest similarity for explore against all normal\n",
    "\n",
    "%matplotlib inline\n",
    "import matplotlib.pyplot as plt\n",
    "\n",
    "\n",
    "plt.scatter(largest, lengths, c='b')\n",
    "#plt.hist(largest)\n",
    "plt.ylabel('Lengths')\n",
    "plt.xlabel('Jaccard Similarity')\n",
    "#plt.ylim(0,20)\n",
    "#plt.ylim(0,100)\n",
    "plt.savefig('/data/localhost/not-backed-up/mokaya/exscientia/aizynthfinder/Maranga/experiments/target_2/results/images/tg2_std_opt4_lenlar.png')\n",
    "plt.show()"
   ]
  },
  {
   "cell_type": "code",
   "execution_count": 46,
   "metadata": {},
   "outputs": [
    {
     "name": "stdout",
     "output_type": "stream",
     "text": [
      "188\n"
     ]
    }
   ],
   "source": [
    "print(sum(1 if i.get('cost' ) < 100 else 0 for i in explore_reactions))"
   ]
  },
  {
   "cell_type": "code",
   "execution_count": 10,
   "metadata": {},
   "outputs": [
    {
     "ename": "KeyboardInterrupt",
     "evalue": "",
     "output_type": "error",
     "traceback": [
      "\u001b[0;31m---------------------------------------------------------------------------\u001b[0m",
      "\u001b[0;31mKeyboardInterrupt\u001b[0m                         Traceback (most recent call last)",
      "\u001b[0;32m<ipython-input-10-28011a0c565b>\u001b[0m in \u001b[0;36m<module>\u001b[0;34m\u001b[0m\n\u001b[1;32m      1\u001b[0m \u001b[0;31m# fingerprint distance calculations\u001b[0m\u001b[0;34m\u001b[0m\u001b[0;34m\u001b[0m\u001b[0;34m\u001b[0m\u001b[0m\n\u001b[0;32m----> 2\u001b[0;31m \u001b[0mdistances\u001b[0m\u001b[0;34m,\u001b[0m \u001b[0mlargest_distances\u001b[0m\u001b[0;34m,\u001b[0m \u001b[0mreactions_dict\u001b[0m \u001b[0;34m=\u001b[0m \u001b[0mfings\u001b[0m\u001b[0;34m.\u001b[0m\u001b[0mcalculate_distances\u001b[0m\u001b[0;34m(\u001b[0m\u001b[0mfingerprints\u001b[0m\u001b[0;34m)\u001b[0m\u001b[0;34m\u001b[0m\u001b[0;34m\u001b[0m\u001b[0m\n\u001b[0m",
      "\u001b[0;32m/data/pegasus/not-backed-up/mokaya/exscientia/aizynthfinder/Maranga/scripts/fingerprints.py\u001b[0m in \u001b[0;36mcalculate_distances\u001b[0;34m(rxn_dict)\u001b[0m\n\u001b[1;32m    106\u001b[0m         \u001b[0;32mfor\u001b[0m \u001b[0mindex2\u001b[0m\u001b[0;34m,\u001b[0m \u001b[0mitem2\u001b[0m \u001b[0;32min\u001b[0m \u001b[0menumerate\u001b[0m\u001b[0;34m(\u001b[0m\u001b[0mfingerprints\u001b[0m\u001b[0;34m)\u001b[0m\u001b[0;34m:\u001b[0m\u001b[0;34m\u001b[0m\u001b[0;34m\u001b[0m\u001b[0m\n\u001b[1;32m    107\u001b[0m             \u001b[0;32mif\u001b[0m \u001b[0mindex1\u001b[0m \u001b[0;34m!=\u001b[0m \u001b[0mindex2\u001b[0m\u001b[0;34m:\u001b[0m\u001b[0;34m\u001b[0m\u001b[0;34m\u001b[0m\u001b[0m\n\u001b[0;32m--> 108\u001b[0;31m                 \u001b[0mdist\u001b[0m\u001b[0;34m.\u001b[0m\u001b[0mappend\u001b[0m\u001b[0;34m(\u001b[0m\u001b[0meuclidean\u001b[0m\u001b[0;34m(\u001b[0m\u001b[0mitem1\u001b[0m\u001b[0;34m,\u001b[0m \u001b[0mitem2\u001b[0m\u001b[0;34m)\u001b[0m\u001b[0;34m)\u001b[0m\u001b[0;34m\u001b[0m\u001b[0;34m\u001b[0m\u001b[0m\n\u001b[0m\u001b[1;32m    109\u001b[0m         \u001b[0mlargest_distances\u001b[0m\u001b[0;34m.\u001b[0m\u001b[0mappend\u001b[0m\u001b[0;34m(\u001b[0m\u001b[0mmin\u001b[0m\u001b[0;34m(\u001b[0m\u001b[0mdist\u001b[0m\u001b[0;34m)\u001b[0m\u001b[0;34m)\u001b[0m\u001b[0;34m\u001b[0m\u001b[0;34m\u001b[0m\u001b[0m\n\u001b[1;32m    110\u001b[0m         \u001b[0mrxn_dict\u001b[0m\u001b[0;34m[\u001b[0m\u001b[0mindex1\u001b[0m\u001b[0;34m]\u001b[0m\u001b[0;34m[\u001b[0m\u001b[0;34m'max distance'\u001b[0m\u001b[0;34m]\u001b[0m \u001b[0;34m=\u001b[0m \u001b[0mmin\u001b[0m\u001b[0;34m(\u001b[0m\u001b[0mdist\u001b[0m\u001b[0;34m)\u001b[0m\u001b[0;34m\u001b[0m\u001b[0;34m\u001b[0m\u001b[0m\n",
      "\u001b[0;32m/data/pegasus/mokaya/miniconda3/envs/aizynth-dev/lib/python3.8/site-packages/scipy/spatial/distance.py\u001b[0m in \u001b[0;36meuclidean\u001b[0;34m(u, v, w)\u001b[0m\n\u001b[1;32m    624\u001b[0m \u001b[0;34m\u001b[0m\u001b[0m\n\u001b[1;32m    625\u001b[0m     \"\"\"\n\u001b[0;32m--> 626\u001b[0;31m     \u001b[0;32mreturn\u001b[0m \u001b[0mminkowski\u001b[0m\u001b[0;34m(\u001b[0m\u001b[0mu\u001b[0m\u001b[0;34m,\u001b[0m \u001b[0mv\u001b[0m\u001b[0;34m,\u001b[0m \u001b[0mp\u001b[0m\u001b[0;34m=\u001b[0m\u001b[0;36m2\u001b[0m\u001b[0;34m,\u001b[0m \u001b[0mw\u001b[0m\u001b[0;34m=\u001b[0m\u001b[0mw\u001b[0m\u001b[0;34m)\u001b[0m\u001b[0;34m\u001b[0m\u001b[0;34m\u001b[0m\u001b[0m\n\u001b[0m\u001b[1;32m    627\u001b[0m \u001b[0;34m\u001b[0m\u001b[0m\n\u001b[1;32m    628\u001b[0m \u001b[0;34m\u001b[0m\u001b[0m\n",
      "\u001b[0;32m/data/pegasus/mokaya/miniconda3/envs/aizynth-dev/lib/python3.8/site-packages/scipy/spatial/distance.py\u001b[0m in \u001b[0;36mminkowski\u001b[0;34m(u, v, p, w)\u001b[0m\n\u001b[1;32m    511\u001b[0m \u001b[0;34m\u001b[0m\u001b[0m\n\u001b[1;32m    512\u001b[0m     \"\"\"\n\u001b[0;32m--> 513\u001b[0;31m     \u001b[0mu\u001b[0m \u001b[0;34m=\u001b[0m \u001b[0m_validate_vector\u001b[0m\u001b[0;34m(\u001b[0m\u001b[0mu\u001b[0m\u001b[0;34m)\u001b[0m\u001b[0;34m\u001b[0m\u001b[0;34m\u001b[0m\u001b[0m\n\u001b[0m\u001b[1;32m    514\u001b[0m     \u001b[0mv\u001b[0m \u001b[0;34m=\u001b[0m \u001b[0m_validate_vector\u001b[0m\u001b[0;34m(\u001b[0m\u001b[0mv\u001b[0m\u001b[0;34m)\u001b[0m\u001b[0;34m\u001b[0m\u001b[0;34m\u001b[0m\u001b[0m\n\u001b[1;32m    515\u001b[0m     \u001b[0;32mif\u001b[0m \u001b[0mp\u001b[0m \u001b[0;34m<\u001b[0m \u001b[0;36m1\u001b[0m\u001b[0;34m:\u001b[0m\u001b[0;34m\u001b[0m\u001b[0;34m\u001b[0m\u001b[0m\n",
      "\u001b[0;32m/data/pegasus/mokaya/miniconda3/envs/aizynth-dev/lib/python3.8/site-packages/scipy/spatial/distance.py\u001b[0m in \u001b[0;36m_validate_vector\u001b[0;34m(u, dtype)\u001b[0m\n\u001b[1;32m    334\u001b[0m \u001b[0;32mdef\u001b[0m \u001b[0m_validate_vector\u001b[0m\u001b[0;34m(\u001b[0m\u001b[0mu\u001b[0m\u001b[0;34m,\u001b[0m \u001b[0mdtype\u001b[0m\u001b[0;34m=\u001b[0m\u001b[0;32mNone\u001b[0m\u001b[0;34m)\u001b[0m\u001b[0;34m:\u001b[0m\u001b[0;34m\u001b[0m\u001b[0;34m\u001b[0m\u001b[0m\n\u001b[1;32m    335\u001b[0m     \u001b[0;31m# XXX Is order='c' really necessary?\u001b[0m\u001b[0;34m\u001b[0m\u001b[0;34m\u001b[0m\u001b[0;34m\u001b[0m\u001b[0m\n\u001b[0;32m--> 336\u001b[0;31m     \u001b[0mu\u001b[0m \u001b[0;34m=\u001b[0m \u001b[0mnp\u001b[0m\u001b[0;34m.\u001b[0m\u001b[0masarray\u001b[0m\u001b[0;34m(\u001b[0m\u001b[0mu\u001b[0m\u001b[0;34m,\u001b[0m \u001b[0mdtype\u001b[0m\u001b[0;34m=\u001b[0m\u001b[0mdtype\u001b[0m\u001b[0;34m,\u001b[0m \u001b[0morder\u001b[0m\u001b[0;34m=\u001b[0m\u001b[0;34m'c'\u001b[0m\u001b[0;34m)\u001b[0m\u001b[0;34m.\u001b[0m\u001b[0msqueeze\u001b[0m\u001b[0;34m(\u001b[0m\u001b[0;34m)\u001b[0m\u001b[0;34m\u001b[0m\u001b[0;34m\u001b[0m\u001b[0m\n\u001b[0m\u001b[1;32m    337\u001b[0m     \u001b[0;31m# Ensure values such as u=1 and u=[1] still return 1-D arrays.\u001b[0m\u001b[0;34m\u001b[0m\u001b[0;34m\u001b[0m\u001b[0;34m\u001b[0m\u001b[0m\n\u001b[1;32m    338\u001b[0m     \u001b[0mu\u001b[0m \u001b[0;34m=\u001b[0m \u001b[0mnp\u001b[0m\u001b[0;34m.\u001b[0m\u001b[0matleast_1d\u001b[0m\u001b[0;34m(\u001b[0m\u001b[0mu\u001b[0m\u001b[0;34m)\u001b[0m\u001b[0;34m\u001b[0m\u001b[0;34m\u001b[0m\u001b[0m\n",
      "\u001b[0;32m/data/pegasus/mokaya/miniconda3/envs/aizynth-dev/lib/python3.8/site-packages/numpy/core/_asarray.py\u001b[0m in \u001b[0;36masarray\u001b[0;34m(a, dtype, order, like)\u001b[0m\n\u001b[1;32m    100\u001b[0m         \u001b[0;32mreturn\u001b[0m \u001b[0m_asarray_with_like\u001b[0m\u001b[0;34m(\u001b[0m\u001b[0ma\u001b[0m\u001b[0;34m,\u001b[0m \u001b[0mdtype\u001b[0m\u001b[0;34m=\u001b[0m\u001b[0mdtype\u001b[0m\u001b[0;34m,\u001b[0m \u001b[0morder\u001b[0m\u001b[0;34m=\u001b[0m\u001b[0morder\u001b[0m\u001b[0;34m,\u001b[0m \u001b[0mlike\u001b[0m\u001b[0;34m=\u001b[0m\u001b[0mlike\u001b[0m\u001b[0;34m)\u001b[0m\u001b[0;34m\u001b[0m\u001b[0;34m\u001b[0m\u001b[0m\n\u001b[1;32m    101\u001b[0m \u001b[0;34m\u001b[0m\u001b[0m\n\u001b[0;32m--> 102\u001b[0;31m     \u001b[0;32mreturn\u001b[0m \u001b[0marray\u001b[0m\u001b[0;34m(\u001b[0m\u001b[0ma\u001b[0m\u001b[0;34m,\u001b[0m \u001b[0mdtype\u001b[0m\u001b[0;34m,\u001b[0m \u001b[0mcopy\u001b[0m\u001b[0;34m=\u001b[0m\u001b[0;32mFalse\u001b[0m\u001b[0;34m,\u001b[0m \u001b[0morder\u001b[0m\u001b[0;34m=\u001b[0m\u001b[0morder\u001b[0m\u001b[0;34m)\u001b[0m\u001b[0;34m\u001b[0m\u001b[0;34m\u001b[0m\u001b[0m\n\u001b[0m\u001b[1;32m    103\u001b[0m \u001b[0;34m\u001b[0m\u001b[0m\n\u001b[1;32m    104\u001b[0m \u001b[0;34m\u001b[0m\u001b[0m\n",
      "\u001b[0;31mKeyboardInterrupt\u001b[0m: "
     ]
    }
   ],
   "source": [
    "# fingerprint distance calculations\n",
    "distances, largest_distances, reactions_dict = fings.calculate_distances(fingerprints)"
   ]
  },
  {
   "cell_type": "code",
   "execution_count": 16,
   "metadata": {},
   "outputs": [
    {
     "name": "stdout",
     "output_type": "stream",
     "text": [
      "2\n",
      "705\n"
     ]
    }
   ],
   "source": [
    "none_one = [i for i in largest if i != 1.0]\n",
    "print(len(none_one))\n",
    "print(len(largest))"
   ]
  },
  {
   "cell_type": "code",
   "execution_count": 9,
   "metadata": {},
   "outputs": [],
   "source": [
    "# fingerprint similarity calculations\n",
    "dists, smallest_sim, largest_sim, reactions_dict_2, lengths = fings.calculate_similarity(reactions_dict)"
   ]
  },
  {
   "cell_type": "code",
   "execution_count": 21,
   "metadata": {},
   "outputs": [
    {
     "data": {
      "image/png": "[encoded data removed]",
      "text/plain": [
       "<Figure size 1080x360 with 3 Axes>"
      ]
     },
     "metadata": {
      "needs_background": "light",
      "transient": {}
     },
     "output_type": "display_data"
    }
   ],
   "source": [
    "#plot SCATTER of largest similarity + route length\n",
    "\n",
    "largest_sim_e = [i for index, i in enumerate(largest_sim) if reactions_dict_2[index].get('type') == 'explore']\n",
    "largest_sim_s = [i for index, i in enumerate(largest_sim) if reactions_dict_2[index].get('type') == 'normal']\n",
    "lengths_e = [i for index, i in enumerate(lengths) if reactions_dict_2[index].get('type') == 'explore']\n",
    "lengths_s = [i for index, i in enumerate(lengths) if reactions_dict_2[index].get('type') == 'normal']\n",
    "\n",
    "\n",
    "%matplotlib inline\n",
    "import matplotlib.pyplot as plt\n",
    "\n",
    "fig, (ax1, ax2 , ax3) = plt.subplots(1, 3, figsize=(15,5))\n",
    "fig.suptitle('Horizontally stacked subplots')\n",
    "ax1.scatter(largest_sim_e, lengths_e, c='red')\n",
    "ax2.scatter(largest_sim_s, lengths_s, c='blue')\n",
    "ax3.scatter(largest_sim_e, lengths_e, c='red')\n",
    "ax3.scatter(largest_sim_s, lengths_s, c='blue')\n",
    "plt.xlabel('Jaccard Similarity')\n",
    "plt.ylabel('Route Length')\n",
    "#plt.ylim(0,100)\n",
    "#plt.savefig('/data/localhost/not-backed-up/mokaya/exscientia/aizynthfinder/Maranga/Images/tg1_all_sim+len.png')\n",
    "plt.show()"
   ]
  },
  {
   "cell_type": "code",
   "execution_count": 19,
   "metadata": {},
   "outputs": [
    {
     "name": "stdout",
     "output_type": "stream",
     "text": [
      "[363]\n"
     ]
    }
   ],
   "source": [
    "#find routes that have similarity ca. 0.9 and length 10 - 12\n",
    "indexes = []\n",
    "for index, (x, y) in enumerate(zip(largest_sim, lengths)):\n",
    "    if x < 0.92 and 10 <= y <= 14:\n",
    "        indexes.append(index)\n",
    "print(indexes)"
   ]
  },
  {
   "cell_type": "code",
   "execution_count": 10,
   "metadata": {},
   "outputs": [
    {
     "data": {
      "image/png": "[encoded data removed]",
      "text/plain": [
       "<Figure size 432x288 with 1 Axes>"
      ]
     },
     "metadata": {
      "needs_background": "light",
      "transient": {}
     },
     "output_type": "display_data"
    }
   ],
   "source": [
    "%matplotlib inline\n",
    "import matplotlib.pyplot as plt\n",
    "\n",
    "x = np.arange(len(largest_sim))\n",
    "plt.hist(smallest_sim, bins=15)\n",
    "plt.xlabel('Jaccard Similarity')\n",
    "plt.ylabel('Frequency')\n",
    "#plt.ylim(0,100)\n",
    "#plt.savefig('/data/localhost/not-backed-up/mokaya/exscientia/aizynthfinder/Maranga/Images/tg1_exp_all_msim.png')\n",
    "plt.show()"
   ]
  },
  {
   "cell_type": "code",
   "execution_count": 13,
   "metadata": {},
   "outputs": [
    {
     "name": "stdout",
     "output_type": "stream",
     "text": [
      "0\n",
      "563\n",
      "[20, 103, 107, 234, 249, 289, 293, 409, 438, 454, 475, 561, 562]\n"
     ]
    }
   ],
   "source": [
    "zeros=[i for i in largest_sim if i < 0.90]\n",
    "print(len(zeros))\n",
    "\n",
    "print(len(largest_sim))\n",
    "\n",
    "indexes = [index for index, item in enumerate(smallest_sim) if item >= 0.975]\n",
    "print(indexes)"
   ]
  },
  {
   "cell_type": "code",
   "execution_count": 31,
   "metadata": {},
   "outputs": [
    {
     "data": {
      "image/png": "[encoded data removed]",
      "text/plain": [
       "<Figure size 432x288 with 1 Axes>"
      ]
     },
     "metadata": {
      "needs_background": "light",
      "transient": {}
     },
     "output_type": "display_data"
    }
   ],
   "source": [
    "%matplotlib inline\n",
    "import matplotlib.pyplot as plt\n",
    "\n",
    "x = np.arange(len(smallest_sim))\n",
    "plt.hist(dists, bins=20)\n",
    "plt.xlabel('Jaccard Similarity')\n",
    "plt.ylabel('Frequency')\n",
    "#plt.ylim(0,100)\n",
    "plt.savefig('/data/localhost/not-backed-up/mokaya/exscientia/aizynthfinder/Maranga/Images/tg1_std_all_jacc.png')\n",
    "plt.show()"
   ]
  },
  {
   "cell_type": "code",
   "execution_count": null,
   "metadata": {},
   "outputs": [],
   "source": []
  },
  {
   "cell_type": "code",
   "execution_count": null,
   "metadata": {},
   "outputs": [],
   "source": []
  },
  {
   "cell_type": "code",
   "execution_count": null,
   "metadata": {},
   "outputs": [],
   "source": []
  }
 ],
 "metadata": {
  "kernelspec": {
   "display_name": "aizynthfinder",
   "language": "python",
   "name": "aizynthfinder"
  },
  "language_info": {
   "codemirror_mode": {
    "name": "ipython",
    "version": 3
   },
   "file_extension": ".py",
   "mimetype": "text/x-python",
   "name": "python",
   "nbconvert_exporter": "python",
   "pygments_lexer": "ipython3",
   "version": "3.8.10"
  }
 },
 "nbformat": 4,
 "nbformat_minor": 5
}