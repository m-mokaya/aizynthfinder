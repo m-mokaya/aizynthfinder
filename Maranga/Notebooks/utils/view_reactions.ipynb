{
 "cells": [
  {
   "cell_type": "code",
   "execution_count": 1,
   "metadata": {},
   "outputs": [],
   "source": [
    "# Notebook to view the classifications of reactions used for set of retrosynthetic routes"
   ]
  },
  {
   "cell_type": "code",
   "execution_count": 17,
   "metadata": {},
   "outputs": [],
   "source": [
    "import pandas as pd\n",
    "import json\n",
    "import sys\n",
    "\n",
    "sys.path.append('../../../')\n",
    "\n",
    "#import aizynthfinder.chem as chem\n",
    "import aizynthfinder.analysis\n",
    "\n",
    "from aizynthfinder.mcts.node import Node\n",
    "from aizynthfinder.analysis import ReactionTree\n",
    "from aizynthfinder.mcts.state import State\n",
    "from aizynthfinder.chem import TreeMolecule\n",
    "from aizynthfinder.context.collection import ContextCollection\n",
    "from aizynthfinder.context.stock import StockException\n",
    "\n",
    "from Maranga.utils.parse_multismiles import findkeys"
   ]
  },
  {
   "cell_type": "code",
   "execution_count": 45,
   "metadata": {
    "tags": []
   },
   "outputs": [],
   "source": [
    "# file location of json file\n",
    "json_file_1 = '/data/localhost/not-backed-up/mokaya/exscientia/aizynthfinder/Maranga/experiments/price/results/json/tg1_std_solved_1.json'\n",
    "\n",
    "with open(json_file_1) as f:\n",
    "    data_1 = json.load(f)\n",
    "\n",
    "data_1_r = data_1.get('reaction trees')\n",
    "reactions_1 = [json.loads(i) for i in data_1_r]"
   ]
  },
  {
   "cell_type": "code",
   "execution_count": 46,
   "metadata": {},
   "outputs": [],
   "source": [
    " # file location of json file\n",
    "json_file_2 = '/data/localhost/not-backed-up/mokaya/exscientia/aizynthfinder/Maranga/experiments/price/results/json/tg1_exp_solved_1.json'\n",
    "\n",
    "with open(json_file_2) as f:\n",
    "    data_2 = json.load(f)\n",
    "\n",
    "data_2_r = data_2.get('reaction trees')\n",
    "reactions_2 = [json.loads(i) for i in data_2_r]"
   ]
  },
  {
   "cell_type": "code",
   "execution_count": 101,
   "metadata": {},
   "outputs": [],
   "source": [
    "# find classifications from list of reactio dicts and retuirn a dict with frequency\n",
    "def count_reactions(rxns):\n",
    "    templates = []\n",
    "    templates_dict = {}\n",
    "    for i in rxns:\n",
    "        templates.extend(list(findkeys(i, 'classification')))\n",
    "\n",
    "    print('# Templates: ', len(templates))\n",
    "\n",
    "    for i in templates:\n",
    "        if i in templates_dict:\n",
    "            templates_dict[i] += 1\n",
    "        else:\n",
    "            templates_dict[i] = 1\n",
    "    return templates_dict\n"
   ]
  },
  {
   "cell_type": "code",
   "execution_count": 102,
   "metadata": {},
   "outputs": [
    {
     "output_type": "stream",
     "name": "stdout",
     "text": [
      "# Templates:  1729\n"
     ]
    }
   ],
   "source": [
    "templates_1 = count_reactions(reactions_1)\n",
    "s_templates_1 = dict(sorted(templates_1.items(), key=lambda kv: kv[1], reverse=True))\n"
   ]
  },
  {
   "cell_type": "code",
   "execution_count": 103,
   "metadata": {},
   "outputs": [
    {
     "output_type": "stream",
     "name": "stdout",
     "text": [
      "# Templates:  2142\n"
     ]
    }
   ],
   "source": [
    "templates_2 = count_reactions(reactions_2)\n",
    "s_templates_2 = dict(sorted(templates_2.items(), key=lambda kv: kv[1], reverse=True))"
   ]
  },
  {
   "cell_type": "code",
   "execution_count": 104,
   "metadata": {},
   "outputs": [
    {
     "output_type": "stream",
     "name": "stdout",
     "text": [
      "N-sulfonylation 481       \nOther functional group interconversion 235       \nAmide to amine reduction 144       \nN-acylation to amide 110       \nReductive amination 91        \nHeteroaryl N-alkylation 84        \nNH deprotections 76        \nUnassigned      70        \nCyano or imine to amine 58        \nN-arylation with Ar-X 58        \nHalogenation    58        \nOther C-C bond formation 41        \nO-containing heterocycle formation 25        \nS-substitution  17        \nAlcohol to halide 17        \nOther functional group addition 16        \nOxidations at sulfur 15        \nNH protections  14        \nRCO2H deprotections 12        \nO-substitution  11        \nDehydration     10        \nN-containing heterocycle formation 10        \nROH deprotections 10        \nN-substitution with alkyl-X 9         \nO-acylation to ester 9         \nRSH deprotections 8         \nNitro to amine reduction 8         \nAlcohols to aldehydes 7         \nROH protections 7         \nKetone to alcohol 6         \nOther deprotections 4         \nAlkene oxidative cleavage 2         \nEster to alcohol 2         \nOther oxidations 2         \nAcid to acid chloride 1         \nOther organometallic C-C bond formation 1         \n"
     ]
    }
   ],
   "source": [
    "for k, v in s_templates_1.items():\n",
    "    label, num = k, v\n",
    "    print (\"{:<15} {:<10}\".format(label, num))"
   ]
  },
  {
   "cell_type": "code",
   "execution_count": 105,
   "metadata": {},
   "outputs": [
    {
     "output_type": "stream",
     "name": "stdout",
     "text": [
      "N-sulfonylation 734       \nOther functional group interconversion 414       \nUnassigned      201       \nReductive amination 147       \nO-containing heterocycle formation 82        \nHalogenation    69        \nHeteroaryl N-alkylation 69        \nN-acylation to amide 58        \nAmide to amine reduction 53        \nN-arylation with Ar-X 50        \nNH protections  33        \nNH deprotections 30        \nAlcohol to halide 23        \nOther functional group addition 22        \nO-substitution  21        \nS-substitution  20        \nN-containing heterocycle formation 14        \nCyano or imine to amine 12        \nN-substitution with alkyl-X 11        \nOxidations at sulfur 10        \nOther C-C bond formation 10        \nKetone to alcohol 10        \nNitro to amine reduction 9         \nRSH deprotections 8         \nOther organometallic C-C bond formation 6         \nOther oxidations 5         \nROH deprotections 4         \nSuzuki coupling 3         \nDehydration     3         \nCarbamate/carbonate formation 2         \nOther reductions 2         \nRCO2H deprotections 2         \nEster to alcohol 2         \nAlcohols to aldehydes 1         \nAcid to acid chloride 1         \nAlkene to alkane 1         \n"
     ]
    }
   ],
   "source": [
    "for k, v in s_templates_2.items():\n",
    "    label, num = k, v\n",
    "    print (\"{:<15} {:<10}\".format(label, num))"
   ]
  },
  {
   "cell_type": "code",
   "execution_count": 106,
   "metadata": {},
   "outputs": [
    {
     "output_type": "stream",
     "name": "stdout",
     "text": [
      "Suzuki coupling\nCarbamate/carbonate formation\nOther reductions\nAlkene to alkane\n"
     ]
    }
   ],
   "source": [
    "to_optimise_hash = []\n",
    "for i in s_templates_2:\n",
    "    if i not in s_templates_1:\n",
    "        print(i)\n",
    "        to_optimise_hash.append(i)"
   ]
  },
  {
   "cell_type": "code",
   "execution_count": 107,
   "metadata": {},
   "outputs": [
    {
     "output_type": "stream",
     "name": "stdout",
     "text": [
      "['Suzuki coupling', 'Carbamate/carbonate formation', 'Other reductions', 'Alkene to alkane']\nLength:  4\n"
     ]
    }
   ],
   "source": [
    "print(to_optimise_hash)\n",
    "print('Length: ', len(to_optimise_hash))"
   ]
  },
  {
   "cell_type": "code",
   "execution_count": null,
   "metadata": {},
   "outputs": [],
   "source": []
  }
 ],
 "metadata": {
  "kernelspec": {
   "display_name": "aizynthfinder",
   "language": "python",
   "name": "aizynthfinder"
  },
  "language_info": {
   "codemirror_mode": {
    "name": "ipython",
    "version": 3
   },
   "file_extension": ".py",
   "mimetype": "text/x-python",
   "name": "python",
   "nbconvert_exporter": "python",
   "pygments_lexer": "ipython3",
   "version": "3.8.8"
  },
  "orig_nbformat": 2
 },
 "nbformat": 4,
 "nbformat_minor": 2
}