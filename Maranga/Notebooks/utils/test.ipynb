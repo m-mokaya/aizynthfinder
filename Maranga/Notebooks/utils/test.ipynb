{
 "metadata": {
  "language_info": {
   "codemirror_mode": {
    "name": "ipython",
    "version": 3
   },
   "file_extension": ".py",
   "mimetype": "text/x-python",
   "name": "python",
   "nbconvert_exporter": "python",
   "pygments_lexer": "ipython3",
   "version": "3.8.8"
  },
  "orig_nbformat": 2,
  "kernelspec": {
   "name": "python388jvsc74a57bd01ce81150a71727f589a159d7c025889054ace076bb44326ef3200601839cf7ad",
   "display_name": "Python 3.8.8 64-bit ('aizynth-dev': conda)"
  }
 },
 "nbformat": 4,
 "nbformat_minor": 2,
 "cells": [
  {
   "cell_type": "code",
   "execution_count": 1,
   "metadata": {},
   "outputs": [],
   "source": [
    "import json\n",
    "import pandas as pd\n",
    "import numpy as np\n",
    "import sys\n",
    "import h5py\n",
    "\n",
    "sys.path.append('../../')\n",
    "\n",
    "from aizynthfinder.analysis import ReactionTree\n",
    "import aizynthfinder.context.scoring as scoring\n",
    "import aizynthfinder.context.config as con\n"
   ]
  },
  {
   "cell_type": "code",
   "execution_count": 4,
   "metadata": {},
   "outputs": [],
   "source": [
    "filename = \"/data/localhost/not-backed-up/mokaya/exscientia/aizynthfinder/Maranga/experiments/target/data/CHEMBL2111406_actives.csv\"\n",
    "\n",
    "df = pd.read_csv(filename, delimiter=';')"
   ]
  },
  {
   "cell_type": "code",
   "execution_count": 7,
   "metadata": {},
   "outputs": [],
   "source": [
    "smiles = df['Smiles'].tolist()"
   ]
  },
  {
   "cell_type": "code",
   "execution_count": 8,
   "metadata": {},
   "outputs": [
    {
     "output_type": "stream",
     "name": "stdout",
     "text": [
      "['CN1CCN([C@H]2Cn3cccc3Sc3ccc(Cl)cc32)CC1', 'CN1CCN(C2Cn3cccc3Sc3ccc(Cl)cc32)CC1', 'OCCN1CCN(C2Cn3cccc3Sc3ccc(Br)cc32)CC1', 'CN1CCN([C@@H]2Cc3ccccc3Sc3ccc(Cl)cc32)CC1', 'O=C(CCCN1CCC(O)(c2ccc(Cl)cc2)CC1)c1ccc(F)cc1', 'CN1CCN(C2=Cc3ccccc3Cn3cccc32)CC1', 'CN1CCN([C@@H]2Cn3cccc3Sc3ccccc32)CC1', 'CC(C)OCc1ccc2n1C=C(N1CCN(C)CC1)c1ccccc1S2', 'Oc1nc2ccc(CCN3CCN(c4nsc5ccccc45)CC3)cc2o1', 'CN1CCN(C2=Cn3c(CO)ccc3Sc3ccccc32)CC1', 'Cc1cc2c(s1)Nc1ccccc1N=C2N1CCN(C)CC1', 'CN1CCN(C2=Cn3cccc3Sc3ccc(Cl)cc32)CC1', 'CN1CCN(C2=Nc3cc(Cl)ccc3Nc3ccccc32)CC1', 'CN1CCN([C@H]2Cc3ccccc3Sc3ccc(Cl)cc32)CC1', 'CC1(C)C(=O)Nc2ccc(CCN3CCN(c4nsc5ccccc45)CC3)cc21', 'O=C1NCCN1CCN1CCN(C2Cn3cccc3Sc3ccc(Cl)cc32)CC1', 'Cc1nc2n(c(=O)c1CCN1CCC(c3noc4cc(F)ccc34)CC1)CCCC2', 'CCN1CCN(C2Cn3cccc3Sc3ccc(F)cc32)CC1', 'CSc1ccc2c(c1)C(N1CCN(C)CC1)Cc1ccccc1S2', 'Oc1nc2ccc(CCN3CCN(c4nsc5ccccc45)CC3)cc2s1', 'CN1CCN(C2=Cn3c(C=O)ccc3Sc3ccccc32)CC1', 'CN1CCN(C2=Cn3cccc3Sc3sccc32)CC1', 'OCCN1CCN(C2Cn3cccc3Sc3ccc(Cl)cc32)CC1', 'CN1CCN(C2Cn3cccc3Sc3ccccc32)CC1', 'CN1CCN(C2=Cc3cc(Cl)ccc3Cn3cccc32)CC1', 'CCN1C(=O)Cc2cc(CCN3CCN(c4nsc5ccccc45)CC3)ccc21', 'CN1CCN([C@H]2Cn3cccc3Sc3ccc(F)cc32)CC1', 'OCCN1CCN(C2Cn3cccc3Sc3ccc(F)cc32)CC1', 'CN1CCN(C2Cc3ccccc3Sc3ccc(Cl)cc32)CC1', 'CN1CCCN(C2Cn3cccc3Sc3ccc(Cl)cc32)CC1', 'Cc1ccc2n1Cc1ccccc1C=C2N1CCN(C)CC1', 'Cc1ccc2n1C=C(N1CCN(C)CC1)c1ccccc1S2', 'O=C1Nc2ccc(CCN3CCN(c4nsc5ccccc45)CC3)cc2C12CCCC2', 'CN1CCN(C2Cn3cccc3Sc3ccc(Br)cc32)CC1', 'CN1CCN([C@@H]2Cn3cccc3Sc3ccc(Cl)cc32)CC1', 'CN1CCN(C2=Cn3cccc3Sc3ccc(Br)cc32)CC1', 'CN1CCN(C2=Cn3cccc3Sc3ccccc32)CC1', 'O=C1Cc2cc(CCN3CCN(c4nsc5ccccc45)CC3)ccc2N1', 'CCN1CCN(C2Cn3cccc3Sc3ccc(Cl)cc32)CC1', 'O=C1Cc2cc(CCN3CCN(c4nsc5ccccc45)CC3)c(F)cc2N1', 'CCN1CCN(C2Cn3cccc3Sc3ccc(Br)cc32)CC1', 'O=C1CC2(CCCC2)CC(=O)N1CCCCN1CCN(c2nsc3ccccc23)CC1', 'CN1CCN(C2Cn3cccc3Sc3ccc(F)cc32)CC1', 'O=C1Cc2cc(CCN3CCN(c4nsc5ccccc45)CC3)c(Cl)cc2N1', 'CN1CCN(C2=Cn3cccc3Sc3ccc(F)cc32)CC1']\n"
     ]
    }
   ],
   "source": [
    "print(smiles)"
   ]
  },
  {
   "cell_type": "code",
   "execution_count": 14,
   "metadata": {},
   "outputs": [],
   "source": [
    "with open('/data/localhost/not-backed-up/mokaya/exscientia/aizynthfinder/Maranga/experiments/target/data/tg1_smiles.txt', mode='wt') as myfile:\n",
    "    myfile.write('\\n'.join(smiles))"
   ]
  },
  {
   "cell_type": "code",
   "execution_count": 32,
   "metadata": {},
   "outputs": [
    {
     "output_type": "stream",
     "name": "stdout",
     "text": [
      "[['RYYVLZVUVIJVGH-UHFFFAOYSA-N']\n ['DDOVHJODVHQLCS-UHFFFAOYSA-N']]\n"
     ]
    }
   ],
   "source": [
    "print(subsetvalues)"
   ]
  },
  {
   "cell_type": "code",
   "execution_count": 7,
   "metadata": {},
   "outputs": [
    {
     "output_type": "stream",
     "name": "stdout",
     "text": [
      "Keys: <KeysViewHDF5 ['table']>\n"
     ]
    }
   ],
   "source": [
    "#import stock file\n",
    "\n",
    "filename = '/data/localhost/not-backed-up/mokaya/exscientia/aizynthfinder/aizynthfinder/data/zinc_stock.hdf5'\n",
    "\n",
    "with h5py.File(filename, \"r\") as f:\n",
    "    # List all groups\n",
    "    print(\"Keys: %s\" % f.keys())\n",
    "    a_group_key = list(f.keys())[0]\n",
    "\n",
    "    # Get the data\n",
    "    data = list(f[a_group_key])\n",
    "\n"
   ]
  },
  {
   "cell_type": "code",
   "execution_count": 11,
   "metadata": {},
   "outputs": [
    {
     "output_type": "stream",
     "name": "stdout",
     "text": [
      "['axis0', 'axis1', 'block0_items', 'block0_values']\n"
     ]
    }
   ],
   "source": [
    "print(data)"
   ]
  },
  {
   "cell_type": "code",
   "execution_count": null,
   "metadata": {},
   "outputs": [],
   "source": []
  }
 ]
}