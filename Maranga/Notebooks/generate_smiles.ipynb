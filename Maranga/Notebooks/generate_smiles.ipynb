{
 "cells": [
  {
   "cell_type": "code",
   "execution_count": 1,
   "metadata": {},
   "outputs": [],
   "source": [
    "###\n",
    "# [] import ChEMBL files \n",
    "# [] randomly select 100 molecules\n",
    "# [] write those files to new 'smiles.txt' files\n"
   ]
  },
  {
   "cell_type": "code",
   "execution_count": 5,
   "metadata": {},
   "outputs": [],
   "source": [
    "import random\n",
    "import rdkit\n",
    "\n",
    "from rdkit import Chem\n",
    "from rdkit import DataStructs"
   ]
  },
  {
   "cell_type": "code",
   "execution_count": 8,
   "metadata": {},
   "outputs": [],
   "source": [
    "f = open('/data/localhost/not-backed-up/mokaya/exscientia/aizynthfinder/aizynthfinder/data/chembl_canonical.smi', 'r')\n",
    "\n",
    "smiles = []\n",
    "for line in f:\n",
    "    smiles.append(line.strip('\\n'))\n"
   ]
  },
  {
   "cell_type": "code",
   "execution_count": null,
   "metadata": {},
   "outputs": [],
   "source": [
    "#RANDOM SAMPLE"
   ]
  },
  {
   "cell_type": "code",
   "execution_count": 3,
   "metadata": {},
   "outputs": [],
   "source": [
    "random_smiles = random.sample(smiles, 200)"
   ]
  },
  {
   "cell_type": "code",
   "execution_count": 4,
   "metadata": {},
   "outputs": [],
   "source": [
    "with open('/data/localhost/not-backed-up/mokaya/exscientia/Retro/AiZynthFinder/aizynthfinder/data/Random/aug1/200/200_smiles.txt', 'w') as fr:\n",
    "    for item in random_smiles:\n",
    "        fr.write(\"%s\\n\" % item)"
   ]
  },
  {
   "cell_type": "code",
   "execution_count": 7,
   "metadata": {},
   "outputs": [
    {
     "name": "stdout",
     "output_type": "stream",
     "text": [
      "['COc1ccnc2c1C(=O)c1ncc(OC)c3ccnc-2c13\\n', 'O=S(=O)(NCC(c1ccccc1)N1CCCCCC1)c1ccccc1\\n', 'O=C(Nc1cccc(NC(=O)c2cccc(Br)c2)c1)c1cccc(Br)c1\\n', 'CCCCn1c2ccc(N)cc2c2c3c(c4c(c21)CCc1nn(C)cc1-4)C(=O)NC3\\n', 'COCCn1c(-c2ccc(C(C)C)cc2)nc2c(Br)c(Cc3cccnc3)cc(OC)c21\\n']\n",
      "['COc1ccnc2c1C(=O)c1ncc(OC)c3ccnc-2c13', 'O=S(=O)(NCC(c1ccccc1)N1CCCCCC1)c1ccccc1', 'O=C(Nc1cccc(NC(=O)c2cccc(Br)c2)c1)c1cccc(Br)c1', 'CCCCn1c2ccc(N)cc2c2c3c(c4c(c21)CCc1nn(C)cc1-4)C(=O)NC3', 'COCCn1c(-c2ccc(C(C)C)cc2)nc2c(Br)c(Cc3cccnc3)cc(OC)c21']\n"
     ]
    }
   ],
   "source": [
    "#split files to smaller ones\n",
    "\n",
    "infile = open('/data/localhost/not-backed-up/mokaya/exscientia/Retro/AiZynthFinder/aizynthfinder/data/Random/aug1/200/200_smiles.txt', 'r')\n",
    "\n",
    "smiles = []\n",
    "for line in infile:\n",
    "    smiles.append(line.strip('/n'))\n",
    "\n",
    "print(smiles[:5])\n",
    "\n",
    "smiles = [i.rstrip() for i in smiles]\n",
    "\n",
    "print(smiles[:5])"
   ]
  },
  {
   "cell_type": "code",
   "execution_count": 8,
   "metadata": {},
   "outputs": [],
   "source": [
    "chunks = [smiles[x:x+10] for x in range(0, len(smiles), 10)]"
   ]
  },
  {
   "cell_type": "code",
   "execution_count": 11,
   "metadata": {},
   "outputs": [],
   "source": [
    "for i in range(len(chunks)):\n",
    "    with open('/data/localhost/not-backed-up/mokaya/exscientia/Retro/AiZynthFinder/aizynthfinder/data/Random/aug1/200/c/200_'+str(i)+'_smiles.txt', 'w') as out:\n",
    "        for item in chunks[i]:\n",
    "            out.write(\"%s\\n\" % item)\n",
    "    "
   ]
  },
  {
   "cell_type": "code",
   "execution_count": 6,
   "metadata": {},
   "outputs": [],
   "source": [
    "#CDK2 MOLECULES"
   ]
  },
  {
   "cell_type": "code",
   "execution_count": 14,
   "metadata": {},
   "outputs": [],
   "source": [
    "#input CDK2 smiles molecules\n",
    "\n",
    "cdk2_smiles = 'CC(CCn1[nH]c(=O)ccc1=O)=NNC(=N)N'\n",
    "cdk2_mol = Chem.MolFromSmiles(cdk2_smiles)\n",
    "cdk2_fng = Chem.RDKFingerprint(cdk2_mol)"
   ]
  },
  {
   "cell_type": "code",
   "execution_count": 21,
   "metadata": {},
   "outputs": [
    {
     "name": "stdout",
     "output_type": "stream",
     "text": [
      "ITERATION: 0.0\n",
      "ITERATION: 1.0\n",
      "SMILE:  121673\n",
      "TANI:  0.7805907172995781\n",
      "TOTAL:  1\n",
      "ITERATION: 2.0\n",
      "ITERATION: 3.0\n",
      "SMILE:  396490\n",
      "TANI:  0.7919847328244275\n",
      "TOTAL:  2\n",
      "ITERATION: 4.0\n",
      "ITERATION: 5.0\n",
      "ITERATION: 6.0\n",
      "ITERATION: 7.0\n",
      "ITERATION: 8.0\n",
      "ITERATION: 9.0\n",
      "ITERATION: 10.0\n",
      "SMILE:  1020126\n",
      "TANI:  1.0\n",
      "TOTAL:  3\n",
      "ITERATION: 11.0\n",
      "ITERATION: 12.0\n",
      "ITERATION: 13.0\n",
      "SMILE:  1326280\n",
      "TANI:  0.7393617021276596\n",
      "TOTAL:  4\n",
      "ITERATION: 14.0\n",
      "ITERATION: 15.0\n"
     ]
    }
   ],
   "source": [
    "#for collect random sample of randomised list from chemble smile which are similar to cdk2 smiles\n",
    "\n",
    "random.shuffle(smiles)\n",
    "\n",
    "sim_smiles = {}\n",
    "\n",
    "full = False\n",
    "\n",
    "index = 0\n",
    "\n",
    "for i in range(len(smiles)):\n",
    "    if i % 100000 == 0:\n",
    "        print('ITERATION: '+str(i/100000))\n",
    "    if len(sim_smiles) < 200:\n",
    "        mol = Chem.MolFromSmiles(smiles[i])\n",
    "        fng = Chem.RDKFingerprint(mol)\n",
    "\n",
    "        tani = DataStructs.FingerprintSimilarity(cdk2_fng, fng)\n",
    "        \n",
    "        if tani >= 0.7:\n",
    "            print('SMILE: ', i)\n",
    "            print('TANI: ', tani)\n",
    "            sim_smiles[i] = tani\n",
    "            \n",
    "            print('TOTAL: ', len(sim_smiles))\n",
    "    else:\n",
    "        break"
   ]
  },
  {
   "cell_type": "code",
   "execution_count": 13,
   "metadata": {},
   "outputs": [
    {
     "name": "stdout",
     "output_type": "stream",
     "text": [
      "['c1ccc(C(NCc2nnc(-c3ccco3)o2)C2CCC2)cc1', 'CNCC1CCN(c2cc3c(cc2F)c(=O)c(C(=O)O)cn3C(C)(C)C)C1', 'O=C(NC1CCCCC1)n1c(=O)oc2cc(S(=O)(=O)N3CCCCC3)ccc21', 'O=C(c1ccc(Oc2ccccc2Cl)nc1)N1CCN(C2CCCC2)CC1', 'COc1ccc(CSC2=NCCN2)cc1Br', 'Cc1nnc(-c2cccc(-c3ccc(C(=O)NCC4CC4)cc3C)c2)o1', 'Cc1ccc(C)c(N2CCN(C(=O)CN3CCSc4ccccc43)CC2)c1', 'COc1cc(-n2ncnc2-c2ccc(OC(F)(F)F)cc2)cc(OC)c1OC', 'FC(F)(F)C1(c2nnc(-c3nn(-c4ccc(Cl)cc4Cl)c(-c4ccc(Cl)cc4)c3Cn3cncn3)s2)CCC1', 'O=C(O)c1nn2c(=O)[nH]c3cc(Cl)c(-n4cnnc4)cc3c2c1C(=O)O', 'O=S(=O)(Cc1ccccc1)Oc1ccccc1Cl', 'CC(=O)N(N=Nc1cccc(F)c1)c1cccc(F)c1', 'Nc1ccc(-c2ccc(NC(=O)Nc3cc(C(F)(F)F)ccc3F)cc2)cn1', 'COc1cc(C(=O)c2ccn(-c3cccc(NC(C)C)c3)c2)cc(OC)c1OC', 'CC(=O)N1Cc2c(O)c3c(c(O)c2C(OC2CC(NC(=O)C(F)(F)F)C(O)C(C)O2)C1)C(=O)c1ccccc1C3=O', 'NC1CCC(Nc2nc(Nc3ccc(P(=O)(O)O)c(P(=O)(O)O)c3)c3ncn(C4CCCC4)c3n2)CC1', 'CCOC(=O)c1c(C)[nH]c2cc(Br)c(OC)cc12', 'CSc1ccc(C2Nc3ccccc3C(=O)N2c2ccccc2F)cc1', 'O=C(O)c1cccc(Nc2nc(-c3ccccc3)nc3ccccc23)c1', 'CC1CCC(Oc2cc(C#N)ccn2)CN1C(=O)c1cccc(F)c1-n1nccn1', 'CC(C)C1CCC(C(=O)NC(Cc2ccccc2)C(=O)OCc2cccc(CO[N+](=O)[O-])c2)CC1', 'CC(C)(C)OC(=O)NC(CO)C(=O)NCC(=O)NCc1ccc(C(=N)N)cc1', 'CCCCN(CCCC)CC(O)c1ccc(-c2ccc(Cl)cc2)c2c(Cl)cc(Cl)cc12', 'N#CC(c1ccncc1)N1CCN(C(=O)CC(O)(c2ccccc2)c2ccccc2)CC1', 'CC(CCn1[nH]c(=O)ccc1=O)=NNC(=N)N', 'COc1ccc(CCNc2ccc(C(F)(F)F)cc2[N+](=O)[O-])cc1OC', 'CC1(C)CCCC2(C)c3cc4c(cc3CCC12)C(=O)C=CC4=O', 'COC(=O)c1sc(C(C)(C)C)cc1NC(=O)Nc1ccc(Cl)cc1', 'COc1ccc2[nH]c3c(C(=O)NCCN4CCC(C5CCN(CCNC(=O)c6cc7ccncc7c7c6[nH]c6ccc(OC)cc67)CC5)CC4)cc4ccncc4c3c2c1', 'COc1ccc(NC(=O)N(C)c2ccc3[nH]c(-c4n[nH]c5ccccc45)cc3n2)cc1']\n"
     ]
    }
   ],
   "source": [
    "print(smiles[:30])"
   ]
  },
  {
   "cell_type": "code",
   "execution_count": null,
   "metadata": {},
   "outputs": [],
   "source": []
  }
 ],
 "metadata": {
  "kernelspec": {
   "display_name": "ReLeaSE",
   "language": "python",
   "name": "release"
  },
  "language_info": {
   "codemirror_mode": {
    "name": "ipython",
    "version": 3
   },
   "file_extension": ".py",
   "mimetype": "text/x-python",
   "name": "python",
   "nbconvert_exporter": "python",
   "pygments_lexer": "ipython3",
   "version": "3.7.9"
  }
 },
 "nbformat": 4,
 "nbformat_minor": 4
}
