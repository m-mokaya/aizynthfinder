{
 "cells": [
  {
   "cell_type": "code",
   "execution_count": 4,
   "metadata": {},
   "outputs": [],
   "source": [
    "import pandas as pd\n",
    "import json\n",
    "import sys\n",
    "\n",
    "sys.path.append('../../../')\n",
    "\n",
    "#import aizynthfinder.chem as chem\n",
    "import aizynthfinder.analysis\n",
    "\n",
    "from aizynthfinder.mcts.node import Node\n",
    "from aizynthfinder.analysis import ReactionTree\n",
    "from aizynthfinder.mcts.state import State\n",
    "from aizynthfinder.chem import TreeMolecule\n",
    "from aizynthfinder.context.collection import ContextCollection\n",
    "from aizynthfinder.context.stock import StockException\n",
    "\n",
    "from Maranga.utils.parse_multismiles import findkeys"
   ]
  },
  {
   "cell_type": "code",
   "execution_count": 26,
   "metadata": {},
   "outputs": [],
   "source": [
    "json_file = '/data/localhost/not-backed-up/mokaya/exscientia/aizynthfinder/Maranga/experiments/price/results/json/tg1_393_std_opt1.json'"
   ]
  },
  {
   "cell_type": "code",
   "execution_count": 27,
   "metadata": {},
   "outputs": [],
   "source": [
    "with open(json_file) as f:\n",
    "    data = json.load(f)\n",
    "\n",
    "reactions = [ReactionTree.from_dict(i) for i in data]"
   ]
  },
  {
   "cell_type": "code",
   "execution_count": 28,
   "metadata": {},
   "outputs": [
    {
     "output_type": "stream",
     "name": "stdout",
     "text": [
      "8\n"
     ]
    }
   ],
   "source": [
    "print(len(data))"
   ]
  },
  {
   "cell_type": "code",
   "execution_count": 29,
   "metadata": {},
   "outputs": [],
   "source": [
    "templates = []\n",
    "for i in data:\n",
    "    templates.append(list(findkeys(i, 'classification')))\n",
    "\n",
    "all_templates = []\n",
    "for i in templates:\n",
    "    for p in i:\n",
    "        all_templates.append(p)"
   ]
  },
  {
   "cell_type": "code",
   "execution_count": 30,
   "metadata": {},
   "outputs": [],
   "source": [
    "temp_dict = {}\n",
    "for i in all_templates:\n",
    "    if i in temp_dict:\n",
    "        temp_dict[i] += 1\n",
    "    else:\n",
    "        temp_dict[i] = 1 "
   ]
  },
  {
   "cell_type": "code",
   "execution_count": 31,
   "metadata": {},
   "outputs": [
    {
     "output_type": "stream",
     "name": "stdout",
     "text": [
      "{'N-sulfonylation': 7, 'Cyano or imine to amine': 5, 'Other C-C bond formation': 5, 'NH deprotections': 2, 'Reductive amination': 2, 'Other organometallic C-C bond formation': 1, 'N-acylation to amide': 2, 'Other functional group interconversion': 5, 'Amide to amine reduction': 1, 'Unassigned': 1}\n"
     ]
    }
   ],
   "source": [
    "print(temp_dict)"
   ]
  },
  {
   "cell_type": "code",
   "execution_count": 13,
   "metadata": {},
   "outputs": [],
   "source": [
    " "
   ]
  },
  {
   "cell_type": "code",
   "execution_count": null,
   "metadata": {},
   "outputs": [],
   "source": []
  }
 ],
 "metadata": {
  "kernelspec": {
   "display_name": "aizynthfinder",
   "language": "python",
   "name": "aizynthfinder"
  },
  "language_info": {
   "codemirror_mode": {
    "name": "ipython",
    "version": 3
   },
   "file_extension": ".py",
   "mimetype": "text/x-python",
   "name": "python",
   "nbconvert_exporter": "python",
   "pygments_lexer": "ipython3",
   "version": "3.8.8"
  },
  "orig_nbformat": 2
 },
 "nbformat": 4,
 "nbformat_minor": 2
}