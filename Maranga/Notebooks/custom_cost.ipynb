{
 "cells": [
  {
   "cell_type": "code",
   "execution_count": 2,
   "metadata": {},
   "outputs": [],
   "source": [
    "#file to determine the cost for a specfic or several molecules from custom cost calculator"
   ]
  },
  {
   "cell_type": "code",
   "execution_count": 1,
   "metadata": {},
   "outputs": [],
   "source": [
    "import os\n",
    "import sys\n",
    "import argparse\n",
    "\n",
    "import json\n",
    "import pandas as pd\n",
    "import numpy as np\n",
    "\n",
    "sys.path.append('../../')\n",
    "\n",
    "import Maranga.utils.parse_multismiles as mutils\n",
    "import Maranga.scripts.fingerprints as fings\n",
    "import aizynthfinder.context.scoring as scoring\n",
    "import aizynthfinder.context.config as con\n",
    "\n",
    "from aizynthfinder.analysis import ReactionTree\n",
    "from rdkit.Chem import rdChemReactions\n",
    "from rdkit import DataStructs\n",
    "from rdkit.ML.Cluster import Butina\n",
    "from sklearn.metrics.pairwise import euclidean_distances\n",
    "from scipy.spatial.distance import euclidean"
   ]
  },
  {
   "cell_type": "code",
   "execution_count": 49,
   "metadata": {},
   "outputs": [],
   "source": [
    "# read in file and generate list of molecules from first 20\n",
    "smiles = []\n",
    "with open('/data/localhost/not-backed-up/mokaya/exscientia/aizynthfinder/Maranga/experiments/explore/data/tg1_smiles.txt') as file:\n",
    "    firstNlines=file.readlines()[0:20]\n",
    "smiles = [i.strip('\\n') for i in firstNlines]"
   ]
  },
  {
   "cell_type": "code",
   "execution_count": 2,
   "metadata": {},
   "outputs": [],
   "source": [
    "config_file = '/data/localhost/not-backed-up/mokaya/exscientia/aizynthfinder/aizynthfinder/data/config.yml'"
   ]
  },
  {
   "cell_type": "code",
   "execution_count": 73,
   "metadata": {},
   "outputs": [],
   "source": [
    "# import data from file\n",
    "data = mutils.read_hdf('/data/localhost/not-backed-up/mokaya/exscientia/aizynthfinder/Maranga/experiments/explore/results/tg1_explore_3.hdf5')"
   ]
  },
  {
   "cell_type": "code",
   "execution_count": null,
   "metadata": {},
   "outputs": [],
   "source": []
  },
  {
   "cell_type": "code",
   "execution_count": 74,
   "metadata": {},
   "outputs": [
    {
     "name": "stdout",
     "output_type": "stream",
     "text": [
      "Multiple Molecules\n"
     ]
    }
   ],
   "source": [
    "# filter reactions for specific molecule\n",
    "molecule_data = data.loc[(data.target=='O=S(=O)(NCC(c1ccsc1)N1CCCCCC1)c1cccs1')]\n",
    "trees = mutils.collect_trees(molecule_data)\n",
    "rxn_trees = fings.parse_input(trees, 'explore')\n",
    "pathways = [i.get('reaction') for i in rxn_trees]"
   ]
  },
  {
   "cell_type": "code",
   "execution_count": 75,
   "metadata": {},
   "outputs": [
    {
     "name": "stdout",
     "output_type": "stream",
     "text": [
      "Reaction:  0\n",
      "Policy:  0.3751999978533907\n",
      "Precursors:  40.0\n",
      "Score:  106.60980871228573\n",
      "/n\n",
      "Reaction:  1\n",
      "Policy:  0.42408889295943986\n",
      "Precursors:  70.0\n",
      "Score:  165.05973432012246\n",
      "/n\n",
      "Reaction:  2\n",
      "Policy:  0.6384999930858613\n",
      "Precursors:  50.0\n",
      "Score:  78.30853647836506\n",
      "/n\n",
      "Reaction:  3\n",
      "Policy:  0.5976333364160382\n",
      "Precursors:  40.0\n",
      "Score:  66.93067063473562\n",
      "/n\n",
      "Reaction:  4\n",
      "Policy:  0.4719600041513331\n",
      "Precursors:  40.0\n",
      "Score:  84.75294441936244\n",
      "/n\n",
      "Mean cost:  100.33233891297427\n",
      "Mean cost:  34.84961748286587\n"
     ]
    }
   ],
   "source": [
    "# calculate cost for each route\n",
    "cost = mutils.calculate_cost_from_trees(pathways, config_file)\n",
    "print('Mean cost: ', np.mean(cost))\n",
    "print('Mean cost: ', np.std(cost))"
   ]
  },
  {
   "cell_type": "code",
   "execution_count": 43,
   "metadata": {},
   "outputs": [],
   "source": [
    "# determine the reaction classifications used\n",
    "classes = [list(mutils.findkeys(i, 'classification')) for i in pathways]\n",
    "\n",
    "#flatten list\n",
    "class_ = []\n",
    "for i in classes:\n",
    "    class_.extend(i)\n",
    "    \n",
    "# convert to frequency dict    \n",
    "reaction_dict = {}\n",
    "for i in class_:\n",
    "    if i in reaction_dict:\n",
    "        reaction_dict[i] += 1\n",
    "    else:\n",
    "        reaction_dict[i] = 1\n"
   ]
  },
  {
   "cell_type": "code",
   "execution_count": 44,
   "metadata": {},
   "outputs": [
    {
     "name": "stdout",
     "output_type": "stream",
     "text": [
      "{'Amide to amine reduction': 1, 'N-acylation to amide': 2, 'Unassigned': 1, 'Alkene to alkane': 1, 'N-sulfonylation': 4, 'Nitro to amine reduction': 2, 'Other organometallic C-C bond formation': 2, 'Heteroaryl N-alkylation': 2, 'Reductive amination': 3, 'Sulfonation': 4, 'Other C-C bond formation': 1, 'Cyano or imine to amine': 1, 'Halogenation': 1}\n"
     ]
    }
   ],
   "source": [
    "print(reaction_dict)"
   ]
  },
  {
   "cell_type": "code",
   "execution_count": 60,
   "metadata": {},
   "outputs": [],
   "source": [
    "json_files = '/data/localhost/not-backed-up/mokaya/exscientia/aizynthfinder/Maranga/experiments/explore/results/tg1_393_opt2.json'"
   ]
  },
  {
   "cell_type": "code",
   "execution_count": 65,
   "metadata": {},
   "outputs": [],
   "source": [
    "with open(json_files, 'r') as input:\n",
    "        data = json.load(input)"
   ]
  },
  {
   "cell_type": "code",
   "execution_count": 68,
   "metadata": {},
   "outputs": [
    {
     "name": "stdout",
     "output_type": "stream",
     "text": [
      "5\n"
     ]
    }
   ],
   "source": [
    "print(len(data))"
   ]
  },
  {
   "cell_type": "code",
   "execution_count": null,
   "metadata": {},
   "outputs": [],
   "source": []
  }
 ],
 "metadata": {
  "kernelspec": {
   "display_name": "aizynthfinder",
   "language": "python",
   "name": "aizynthfinder"
  },
  "language_info": {
   "codemirror_mode": {
    "name": "ipython",
    "version": 3
   },
   "file_extension": ".py",
   "mimetype": "text/x-python",
   "name": "python",
   "nbconvert_exporter": "python",
   "pygments_lexer": "ipython3",
   "version": "3.8.8"
  }
 },
 "nbformat": 4,
 "nbformat_minor": 4
}
