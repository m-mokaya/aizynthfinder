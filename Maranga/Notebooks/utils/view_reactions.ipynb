{
 "cells": [
  {
   "cell_type": "code",
   "execution_count": 1,
   "metadata": {},
   "outputs": [],
   "source": [
    "# Notebook to view the classifications of reactions used for set of retrosynthetic routes"
   ]
  },
  {
   "cell_type": "code",
   "execution_count": 48,
   "metadata": {},
   "outputs": [],
   "source": [
    "import pandas as pd\n",
    "import json\n",
    "import sys\n",
    "\n",
    "sys.path.append('../../../')\n",
    "\n",
    "#import aizynthfinder.chem as chem\n",
    "import aizynthfinder.analysis\n",
    "\n",
    "from aizynthfinder.mcts.node import Node\n",
    "from aizynthfinder.analysis import ReactionTree\n",
    "from aizynthfinder.mcts.state import State\n",
    "from aizynthfinder.chem import TreeMolecule\n",
    "from aizynthfinder.context.collection import ContextCollection\n",
    "from aizynthfinder.context.stock import StockException\n",
    "\n",
    "from Maranga.utils.parse_multismiles import findkeys"
   ]
  },
  {
   "cell_type": "code",
   "execution_count": 49,
   "metadata": {
    "tags": []
   },
   "outputs": [],
   "source": [
    "# file location of json file\n",
    "json_file_1 = '/data/localhost/not-backed-up/mokaya/exscientia/aizynthfinder/Maranga/experiments/target_2/results/tg2_std_solved.json'\n",
    "\n",
    "with open(json_file_1) as f:\n",
    "    data_1 = json.load(f)\n",
    "\n",
    "data_1_r = data_1.get('reaction trees')\n",
    "reactions_1 = [json.loads(i) for i in data_1_r]"
   ]
  },
  {
   "cell_type": "code",
   "execution_count": 52,
   "metadata": {},
   "outputs": [],
   "source": [
    " # file location of json file\n",
    "json_file_2 = '/data/localhost/not-backed-up/mokaya/exscientia/aizynthfinder/Maranga/experiments/target_2/results/tg2_exp_u25_solved.json'\n",
    "\n",
    "with open(json_file_2) as f:\n",
    "    data_2 = json.load(f)\n",
    "\n",
    "reactions_2 = data_2.get('reaction trees')\n",
    "# reactions_2 = [json.loads(i) for i in data_2_r]"
   ]
  },
  {
   "cell_type": "code",
   "execution_count": 53,
   "metadata": {},
   "outputs": [],
   "source": [
    "# find classifications from list of reactio dicts and retuirn a dict with frequency\n",
    "def count_reactions(rxns):\n",
    "    templates = []\n",
    "    templates_dict = {}\n",
    "    for i in rxns:\n",
    "        templates.extend(list(findkeys(i, 'classification')))\n",
    "\n",
    "    print('# Templates: ', len(templates))\n",
    "\n",
    "    for i in templates:\n",
    "        if i in templates_dict:\n",
    "            templates_dict[i] += 1\n",
    "        else:\n",
    "            templates_dict[i] = 1\n",
    "    return templates_dict\n"
   ]
  },
  {
   "cell_type": "code",
   "execution_count": 54,
   "metadata": {},
   "outputs": [
    {
     "output_type": "stream",
     "name": "stdout",
     "text": [
      "# Templates:  1226\n"
     ]
    }
   ],
   "source": [
    "templates_1 = count_reactions(reactions_1)\n",
    "s_templates_1 = dict(sorted(templates_1.items(), key=lambda kv: kv[1], reverse=True))\n"
   ]
  },
  {
   "cell_type": "code",
   "execution_count": 55,
   "metadata": {},
   "outputs": [
    {
     "output_type": "stream",
     "name": "stdout",
     "text": [
      "# Templates:  384\n"
     ]
    }
   ],
   "source": [
    "templates_2 = count_reactions(reactions_2)\n",
    "s_templates_2 = dict(sorted(templates_2.items(), key=lambda kv: kv[1], reverse=True))"
   ]
  },
  {
   "cell_type": "code",
   "execution_count": 56,
   "metadata": {},
   "outputs": [
    {
     "output_type": "stream",
     "name": "stdout",
     "text": [
      "Unassigned      250       \nHeteroaryl N-alkylation 201       \nReductive amination 158       \nHalogenation    133       \nRCO2H deprotections 110       \nOther functional group interconversion 49        \nO-acylation to ester 31        \nAmide to amine reduction 27        \nOther reductions 26        \nROH deprotections 20        \nO-substitution  20        \nAlcohol to halide 19        \nN-arylation with Ar-X 18        \nAlcohols to aldehydes 15        \nNH deprotections 15        \nN-acylation to amide 15        \nFriedel-Crafts reaction 13        \nEster to alcohol 13        \nStille reaction 12        \nAcid to acid chloride 11        \nAlkene oxidative cleavage 9         \nS-substitution  9         \nN-substitution with alkyl-X 8         \nKetone to alcohol 8         \nO-sulfonylation 7         \nOther functional group addition 5         \nNitro to amine reduction 4         \nNH protections  4         \nO-containing heterocycle formation 3         \nAlkene to alkane 3         \nSuzuki coupling 2         \nOther deprotections 2         \nOther organometallic C-C bond formation 2         \nCyano or imine to amine 1         \nRSH deprotections 1         \nAlkyne to alkane 1         \nOther C-C bond formation 1         \n"
     ]
    }
   ],
   "source": [
    "for k, v in s_templates_1.items():\n",
    "    label, num = k, v\n",
    "    print (\"{:<15} {:<10}\".format(label, num))"
   ]
  },
  {
   "cell_type": "code",
   "execution_count": 57,
   "metadata": {},
   "outputs": [
    {
     "output_type": "stream",
     "name": "stdout",
     "text": [
      "Unassigned      92        \nHeteroaryl N-alkylation 81        \nHalogenation    49        \nReductive amination 42        \nRCO2H deprotections 30        \nAlcohol to halide 27        \nO-containing heterocycle formation 16        \nOther reductions 13        \nOther functional group interconversion 8         \nKetone to alcohol 5         \nO-sulfonylation 3         \nS-substitution  3         \nFriedel-Crafts reaction 3         \nN-substitution with alkyl-X 2         \nNitro to amine reduction 2         \nO-substitution  2         \nROH deprotections 1         \nNH deprotections 1         \nOther deprotections 1         \nAmide to amine reduction 1         \nDehydration     1         \nStille reaction 1         \n"
     ]
    }
   ],
   "source": [
    "for k, v in s_templates_2.items():\n",
    "    label, num = k, v\n",
    "    print (\"{:<15} {:<10}\".format(label, num))"
   ]
  },
  {
   "cell_type": "code",
   "execution_count": 58,
   "metadata": {},
   "outputs": [
    {
     "output_type": "stream",
     "name": "stdout",
     "text": [
      "Dehydration\n"
     ]
    }
   ],
   "source": [
    "to_optimise_hash = []\n",
    "for i in s_templates_2:\n",
    "    if i not in s_templates_1:\n",
    "        print(i)\n",
    "        to_optimise_hash.append(i)"
   ]
  },
  {
   "cell_type": "code",
   "execution_count": 59,
   "metadata": {},
   "outputs": [
    {
     "output_type": "stream",
     "name": "stdout",
     "text": [
      "['Dehydration']\nLength:  1\n"
     ]
    }
   ],
   "source": [
    "print(to_optimise_hash)\n",
    "print('Length: ', len(to_optimise_hash))"
   ]
  },
  {
   "cell_type": "code",
   "execution_count": 60,
   "metadata": {},
   "outputs": [
    {
     "output_type": "stream",
     "name": "stdout",
     "text": [
      "{'Unassigned': 250, 'Heteroaryl N-alkylation': 201, 'Reductive amination': 158, 'Halogenation': 133, 'RCO2H deprotections': 110, 'Other functional group interconversion': 49, 'O-acylation to ester': 31, 'Amide to amine reduction': 27, 'Other reductions': 26, 'ROH deprotections': 20, 'O-substitution': 20, 'Alcohol to halide': 19, 'N-arylation with Ar-X': 18, 'Alcohols to aldehydes': 15, 'NH deprotections': 15, 'N-acylation to amide': 15, 'Friedel-Crafts reaction': 13, 'Ester to alcohol': 13, 'Stille reaction': 12, 'Acid to acid chloride': 11, 'Alkene oxidative cleavage': 9, 'S-substitution': 9, 'N-substitution with alkyl-X': 8, 'Ketone to alcohol': 8, 'O-sulfonylation': 7, 'Other functional group addition': 5, 'Nitro to amine reduction': 4, 'NH protections': 4, 'O-containing heterocycle formation': 3, 'Alkene to alkane': 3, 'Suzuki coupling': 2, 'Other deprotections': 2, 'Other organometallic C-C bond formation': 2, 'Cyano or imine to amine': 1, 'RSH deprotections': 1, 'Alkyne to alkane': 1, 'Other C-C bond formation': 1}\n"
     ]
    }
   ],
   "source": [
    "print(s_templates_1)"
   ]
  },
  {
   "cell_type": "code",
   "execution_count": 61,
   "metadata": {},
   "outputs": [
    {
     "output_type": "stream",
     "name": "stdout",
     "text": [
      "1226\n384\n"
     ]
    }
   ],
   "source": [
    "s_total_1 = sum(list(s_templates_1.values()))\n",
    "s_total_2 = sum(list(s_templates_2.values()))\n",
    "print(s_total_1)\n",
    "print(s_total_2)"
   ]
  },
  {
   "cell_type": "code",
   "execution_count": 24,
   "metadata": {},
   "outputs": [
    {
     "output_type": "error",
     "ename": "TypeError",
     "evalue": "unhashable type: 'slice'",
     "traceback": [
      "\u001b[0;31m---------------------------------------------------------------------------\u001b[0m",
      "\u001b[0;31mTypeError\u001b[0m                                 Traceback (most recent call last)",
      "\u001b[0;32m<ipython-input-24-981a6cd973d7>\u001b[0m in \u001b[0;36m<module>\u001b[0;34m\u001b[0m\n\u001b[0;32m----> 1\u001b[0;31m \u001b[0mprint\u001b[0m\u001b[0;34m(\u001b[0m\u001b[0ms_templates_1\u001b[0m\u001b[0;34m[\u001b[0m\u001b[0;34m:\u001b[0m\u001b[0;36m5\u001b[0m\u001b[0;34m]\u001b[0m\u001b[0;34m)\u001b[0m\u001b[0;34m\u001b[0m\u001b[0;34m\u001b[0m\u001b[0m\n\u001b[0m",
      "\u001b[0;31mTypeError\u001b[0m: unhashable type: 'slice'"
     ]
    }
   ],
   "source": []
  },
  {
   "cell_type": "code",
   "execution_count": 62,
   "metadata": {
    "tags": []
   },
   "outputs": [
    {
     "output_type": "stream",
     "name": "stdout",
     "text": [
      "Alcohol to halide\nprop:  0.015497553017944535\np:  0.018505825908156272\n\nO-containing heterocycle formation\nprop:  0.0024469820554649264\np:  0.010966415352981495\n\n"
     ]
    }
   ],
   "source": [
    "for label, val in s_templates_1.items():\n",
    "    prop = val / 1226\n",
    "    for lab, v in s_templates_2.items():\n",
    "        p = v / 1459\n",
    "        if label == lab and p > prop:\n",
    "            print(label)\n",
    "            print('prop: ', prop)\n",
    "            print('p: ', p)\n",
    "            to_optimise_hash.append(label)\n",
    "            print('')"
   ]
  },
  {
   "cell_type": "code",
   "execution_count": 63,
   "metadata": {},
   "outputs": [
    {
     "output_type": "stream",
     "name": "stdout",
     "text": [
      "['Dehydration', 'Alcohol to halide', 'O-containing heterocycle formation']\n3\n"
     ]
    }
   ],
   "source": [
    "print(to_optimise_hash)\n",
    "print(len(to_optimise_hash))"
   ]
  },
  {
   "cell_type": "code",
   "execution_count": 64,
   "metadata": {},
   "outputs": [
    {
     "output_type": "stream",
     "name": "stdout",
     "text": [
      "3\n"
     ]
    }
   ],
   "source": [
    "print(len(set(to_optimise_hash)))"
   ]
  },
  {
   "cell_type": "code",
   "execution_count": null,
   "metadata": {},
   "outputs": [],
   "source": []
  }
 ],
 "metadata": {
  "kernelspec": {
   "display_name": "aizynthfinder",
   "language": "python",
   "name": "aizynthfinder"
  },
  "language_info": {
   "codemirror_mode": {
    "name": "ipython",
    "version": 3
   },
   "file_extension": ".py",
   "mimetype": "text/x-python",
   "name": "python",
   "nbconvert_exporter": "python",
   "pygments_lexer": "ipython3",
   "version": "3.8.8"
  },
  "orig_nbformat": 2
 },
 "nbformat": 4,
 "nbformat_minor": 2
}