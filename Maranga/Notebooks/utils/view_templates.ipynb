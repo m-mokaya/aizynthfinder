{
 "cells": [
  {
   "cell_type": "code",
   "execution_count": 2,
   "metadata": {},
   "outputs": [],
   "source": [
    "import pandas as pd\n",
    "import json\n",
    "import sys\n",
    "import os\n",
    "import ast\n",
    "\n",
    "\n",
    "sys.path.append('../../../')\n",
    "\n",
    "#import aizynthfinder.chem as chem\n",
    "import aizynthfinder.analysis\n",
    "\n",
    "from aizynthfinder.mcts.node import Node\n",
    "from aizynthfinder.analysis import ReactionTree\n",
    "from aizynthfinder.mcts.state import State\n",
    "from aizynthfinder.chem import TreeMolecule\n",
    "from aizynthfinder.context.collection import ContextCollection\n",
    "from aizynthfinder.context.stock import StockException\n",
    "\n",
    "from Maranga.utils.parse_multismiles import findkeys\n",
    "\n",
    "import matplotlib.pyplot as plt"
   ]
  },
  {
   "cell_type": "code",
   "execution_count": 3,
   "metadata": {},
   "outputs": [],
   "source": [
    "# read in template file\n",
    "f = '/data/localhost/not-backed-up/mokaya/exscientia/aizynthfinder/aizynthfinder/data/uspto_templates.hdf5'\n",
    "data = pd.read_hdf(f, 'table')"
   ]
  },
  {
   "cell_type": "code",
   "execution_count": 4,
   "metadata": {},
   "outputs": [],
   "source": [
    "#convert 'clasification column to list'\n",
    "classes = data['classification'].tolist()\n",
    "unique_class = list(set(classes))\n"
   ]
  },
  {
   "cell_type": "code",
   "execution_count": 5,
   "metadata": {},
   "outputs": [
    {
     "name": "stdout",
     "output_type": "stream",
     "text": [
      "Heck reaction\n",
      "Nitro to amine reduction\n",
      "Carbamate/carbonate formation\n",
      "Sulfonation\n",
      "Ketone to alcohol\n",
      "Other reductions\n",
      "Resolution\n",
      "Unassigned\n",
      "Other functional group addition\n",
      "Dehydration\n",
      "O-sulfonylation\n",
      "Alcohol to halide\n",
      "NH protections\n",
      "Other heteroatom alkylation/arylation\n",
      "Other functional group interconversion\n",
      "RSH deprotections\n",
      "Heteroaryl N-alkylation\n",
      "Sonogashira reaction\n",
      "Other organometallic C-C bond formation\n",
      "Other oxidations\n",
      "Reductive amination\n",
      "N-acylation to amide\n",
      "Stille reaction\n",
      "Alkene oxidative cleavage\n",
      "Alkene oxidation\n",
      "Wittig olefination\n",
      "Other C-C bond formation\n",
      "N-containing heterocycle formation\n",
      "Acid to acid chloride\n",
      "ROH deprotections\n",
      "Alcohols to aldehydes\n",
      "Other acylation\n",
      "Cyano or imine to amine\n",
      "Salt formation\n",
      "N-substitution with alkyl-X\n",
      "Other deprotections\n",
      "Oxidations at nitrogen\n",
      "N-sulfonylation\n",
      "O-substitution\n",
      "Alcohols to acids\n",
      "Alkene to alkane\n",
      "Other protections\n",
      "Halogenation\n",
      "N-arylation with Ar-X\n",
      "Suzuki coupling\n",
      "RCO2H protections\n",
      "RCO2H deprotections\n",
      "ROH protections\n",
      "O-containing heterocycle formation\n",
      "NH deprotections\n",
      "Oxidations at sulfur\n",
      "Ester to alcohol\n",
      "Amide to amine reduction\n",
      "Other Pd-catalyzed reactions (Negishi,Kumada,etc.)\n",
      "N-acylation to urea\n",
      "S-substitution\n",
      "S-containing heterocycle formation\n",
      "Grignard reaction\n",
      "Alkyne to alkane\n",
      "Nitrile to acid\n",
      "O-acylation to ester\n",
      "Amidine formation\n",
      "Friedel-Crafts reaction\n"
     ]
    }
   ],
   "source": [
    "for i in unique_class:\n",
    "    print(i)"
   ]
  },
  {
   "cell_type": "code",
   "execution_count": 4,
   "metadata": {},
   "outputs": [
    {
     "name": "stdout",
     "output_type": "stream",
     "text": [
      "['NH deprotections', 'O-containing heterocycle formation', 'RCO2H deprotections', 'Other heteroatom alkylation/arylation', 'Acid to acid chloride', 'O-substitution', 'Other reductions', 'Alcohols to aldehydes', 'Grignard reaction', 'Salt formation', 'Amidine formation', 'Sulfonation', 'N-substitution with alkyl-X', 'N-arylation with Ar-X', 'O-acylation to ester', 'Alkene to alkane', 'Other functional group interconversion', 'Friedel-Crafts reaction', 'Other protections']\n",
      "['O-containing heterocycle formation', 'Nitrile to acid', 'Other functional group interconversion', 'Other Pd-catalyzed reactions (Negishi,Kumada,etc.)', 'RSH deprotections', 'O-acylation to ester', 'N-arylation with Ar-X', 'Alkene to alkane', 'RCO2H deprotections', 'Ester to alcohol']\n"
     ]
    }
   ],
   "source": [
    "import random\n",
    "\n",
    "rand19 = random.sample(unique_class, 19)\n",
    "print(rand19)\n",
    "\n",
    "rand10 = random.sample(unique_class, 10)\n",
    "print(rand10)"
   ]
  },
  {
   "cell_type": "code",
   "execution_count": null,
   "metadata": {},
   "outputs": [],
   "source": []
  }
 ],
 "metadata": {
  "kernelspec": {
   "display_name": "Python 3.8.8 64-bit ('aizynth-dev': conda)",
   "name": "python388jvsc74a57bd01ce81150a71727f589a159d7c025889054ace076bb44326ef3200601839cf7ad"
  },
  "language_info": {
   "name": "python",
   "version": ""
  },
  "orig_nbformat": 2
 },
 "nbformat": 4,
 "nbformat_minor": 2
}