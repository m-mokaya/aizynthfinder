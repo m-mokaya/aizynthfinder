{
 "cells": [
  {
   "cell_type": "code",
   "execution_count": 1,
   "metadata": {},
   "outputs": [],
   "source": [
    "# Notebook to read in to the results of AiZynthFinders and parse reaction trees to json for further analysis"
   ]
  },
  {
   "cell_type": "code",
   "execution_count": 2,
   "metadata": {},
   "outputs": [],
   "source": [
    "import pandas as pd\n",
    "import json\n",
    "import sys\n",
    "\n",
    "sys.path.append('../../')"
   ]
  },
  {
   "cell_type": "code",
   "execution_count": 3,
   "metadata": {},
   "outputs": [],
   "source": [
    "#import aizynthfinder.chem as chem\n",
    "import aizynthfinder.analysis\n",
    "\n",
    "from aizynthfinder.mcts.node import Node\n",
    "from aizynthfinder.analysis import ReactionTree\n",
    "from aizynthfinder.mcts.state import State\n",
    "from aizynthfinder.chem import TreeMolecule\n",
    "from aizynthfinder.context.collection import ContextCollection\n",
    "from aizynthfinder.context.stock import StockException"
   ]
  },
  {
   "cell_type": "code",
   "execution_count": 4,
   "metadata": {},
   "outputs": [],
   "source": [
    "import pandas as pd\n",
    "\n",
    "data = pd.read_hdf('/data/localhost/not-backed-up/mokaya/exscientia/aizynthfinder/Maranga/experiments/explore/results/tg1_std_1.hdf5', 'table')"
   ]
  },
  {
   "cell_type": "code",
   "execution_count": 5,
   "metadata": {},
   "outputs": [
    {
     "output_type": "stream",
     "name": "stdout",
     "text": [
      "<bound method NDFrame.head of                                                target  search_time  \\\n0     O=S(=O)(NCC(c1ccco1)N1CCN(c2ccccc2)CC1)c1ccccc1    81.547154   \n1        Cc1ccc(C(CNS(=O)(=O)c2ccccc2)N2CCN(C)CC2)cc1   116.712183   \n2       O=S(=O)(NCC(c1ccccc1)N1CCCCCC1)c1ccc(F)c(F)c1   120.173156   \n3   CCCS(=O)(=O)c1ccc(C(CNS(=O)(=O)c2ccc(C(F)(F)F)...   112.410574   \n4    Cc1ccc(S(=O)(=O)NCC(c2ccccc2)N2CCN(CCC#N)CC2)cc1   116.261097   \n..                                                ...          ...   \n12  O=S(=O)(NCC(c1cccnc1)N1CCN(Cc2ccccc2)CC1)c1ccc...    70.618498   \n13                c1ccc(C[C@@H](c2ccccc2)N2CCCCC2)cc1    40.119433   \n14            O=S(=O)(NCC(c1ccccc1)N1CCCCCC1)c1cccnc1   117.678594   \n15     O=S(=O)(NCC(c1ccccc1)N1CCCCCC1)c1ccc(F)c(Cl)c1   120.622877   \n16  NS(=O)(=O)c1ccc(C(CNS(=O)(=O)c2ccc(C(F)(F)F)cc...   120.473612   \n\n    number_of_nodes  max_transforms  max_children  number_of_leafs  \\\n0               735               7            46              116   \n1               646               7            30              156   \n2               464               7            36              104   \n3               665               7            22              109   \n4               861               7            43              262   \n..              ...             ...           ...              ...   \n12              740               7            23              145   \n13              507               7            25              164   \n14              539               7            28              116   \n15              465               7            33              104   \n16              614               7            16              121   \n\n    number_of_solved_leafs  top_score  is_solved  number_of_steps  \\\n0                        1   0.955960       True                6   \n1                        7   0.986553       True                3   \n2                        8   0.975000       True                4   \n3                        5   0.963447       True                5   \n4                        3   0.975000       True                4   \n..                     ...        ...        ...              ...   \n12                       4   0.963447       True                5   \n13                      30   0.997629       True                1   \n14                      10   0.975000       True                4   \n15                      12   0.986553       True                3   \n16                       7   0.975000       True                4   \n\n    number_of_precursors  number_of_precursors_in_stock  \\\n0                      5                              5   \n1                      4                              4   \n2                      4                              4   \n3                      5                              5   \n4                      4                              4   \n..                   ...                            ...   \n12                     5                              5   \n13                     2                              2   \n14                     4                              4   \n15                     3                              3   \n16                     4                              4   \n\n                                  precursors_in_stock precursors_not_in_stock  \\\n0   NS(=O)(=O)c1ccccc1, c1ccc(N2CCNCC2)cc1, O=C(O)...                           \n1   NS(=O)(=O)c1ccccc1, CN1CCNCC1, Cc1ccc(B(O)O)cc...                           \n2   C1CCCNCC1, NS(=O)(=O)c1ccc(F)c(F)c1, O=C(O)Cc1...                           \n3   CCCS, NS(=O)(=O)c1ccc(C(F)(F)F)cc1, C1CCCNCC1,...                           \n4   N#CCCN1CCNCC1, Cc1ccc(S(N)(=O)=O)cc1, O=C(O)Cc...                           \n..                                                ...                     ...   \n12  O=S(=O)(O)c1ccc(Cl)cc1, O=S(Cl)Cl, BrCc1ccccc1...                           \n13              BrCCCCCBr, N[C@@H](Cc1ccccc1)c1ccccc1                           \n14  NS(=O)(=O)c1cccnc1, C1CCCNCC1, O=CC(=O)O, OB(O...                           \n15       C1CCCNCC1, NCC(=O)c1ccccc1, Nc1ccc(F)c(Cl)c1                           \n16  C1CCCNCC1, NS(=O)(=O)c1ccc(C(F)(F)F)cc1, NS(=O...                           \n\n   policy_used_counts                                         top_scores  \\\n0      {'uspto': 734}  0.9560, 0.7976, 0.7940, 0.7940, 0.7940, 0.7940...   \n1      {'uspto': 645}             0.9866, 0.9750, 0.9750, 0.9750, 0.9560   \n2      {'uspto': 463}     0.9750, 0.9750, 0.9634, 0.9560, 0.9560, 0.9560   \n3      {'uspto': 664}     0.9634, 0.9524, 0.9524, 0.9524, 0.8051, 0.8051   \n4      {'uspto': 860}     0.9750, 0.9524, 0.9524, 0.8051, 0.7850, 0.7850   \n..                ...                                                ...   \n12     {'uspto': 739}     0.9634, 0.9560, 0.9560, 0.9560, 0.7976, 0.7976   \n13     {'uspto': 506}     0.9976, 0.9976, 0.9976, 0.9940, 0.9940, 0.9940   \n14     {'uspto': 538}             0.9750, 0.9750, 0.9634, 0.9634, 0.9634   \n15     {'uspto': 464}     0.9866, 0.9750, 0.9750, 0.9750, 0.9634, 0.9634   \n16     {'uspto': 613}             0.9750, 0.9750, 0.9750, 0.9634, 0.9524   \n\n                                                trees  \n0   [{'type': 'mol', 'hide': False, 'smiles': 'O=S...  \n1   [{'type': 'mol', 'hide': False, 'smiles': 'Cc1...  \n2   [{'type': 'mol', 'hide': False, 'smiles': 'O=S...  \n3   [{'type': 'mol', 'hide': False, 'smiles': 'CCC...  \n4   [{'type': 'mol', 'hide': False, 'smiles': 'Cc1...  \n..                                                ...  \n12  [{'type': 'mol', 'hide': False, 'smiles': 'O=S...  \n13  [{'type': 'mol', 'hide': False, 'smiles': 'c1c...  \n14  [{'type': 'mol', 'hide': False, 'smiles': 'O=S...  \n15  [{'type': 'mol', 'hide': False, 'smiles': 'O=S...  \n16  [{'type': 'mol', 'hide': False, 'smiles': 'NS(...  \n\n[89 rows x 17 columns]>\n"
     ]
    }
   ],
   "source": [
    "print(data.head)"
   ]
  },
  {
   "cell_type": "code",
   "execution_count": 6,
   "metadata": {},
   "outputs": [],
   "source": [
    "solved_data = data.loc[(data.is_solved==True)]\n",
    "unsolved_data = data.loc[(data.is_solved==False)]\n",
    "all_solved = data.is_solved.values"
   ]
  },
  {
   "cell_type": "code",
   "execution_count": 7,
   "metadata": {},
   "outputs": [],
   "source": [
    "true = []\n",
    "false = []\n",
    "\n",
    "for i in range(len(all_solved)):\n",
    "    if all_solved[i] == True:\n",
    "        true.append(i)\n",
    "    else:\n",
    "        false.append(i)\n"
   ]
  },
  {
   "cell_type": "code",
   "execution_count": 8,
   "metadata": {},
   "outputs": [
    {
     "output_type": "stream",
     "name": "stdout",
     "text": [
      "True: 98.87640449438202\nFalse:  1.1235955056179776\n"
     ]
    }
   ],
   "source": [
    "print('True:', (len(true)/len(all_solved))*100)\n",
    "print('False: ', (len(false)/len(all_solved))*100)"
   ]
  },
  {
   "cell_type": "code",
   "execution_count": 9,
   "metadata": {
    "tags": [
     "outputPrepend"
    ]
   },
   "outputs": [
    {
     "output_type": "stream",
     "name": "stdout",
     "text": [
      "ren': [{'type': 'reaction', 'hide': False, 'smiles': '[c:1]([cH2:2])([cH2:3])[N:5]([CH3:4])[CH3:6]>>F[c:1]([cH2:2])[cH2:3].[CH3:4][N:5][CH3:6]', 'is_reaction': True, 'metadata': {'template_hash': 'd6ea9b633b6bf4e6067258d496eb35f7d14e90bca4edf5fe58c28c1b', 'classification': 'N-arylation with Ar-X', 'library_occurence': 1380, 'policy_probability': 0.010499999858438969, 'policy_name': 'uspto', 'template_code': 39330}, 'children': [{'type': 'mol', 'hide': False, 'smiles': 'Fc1ccccc1', 'is_chemical': True, 'in_stock': True}, {'type': 'mol', 'hide': False, 'smiles': 'O=S(=O)(NCC(c1ccco1)N1CCNCC1)c1ccccc1', 'is_chemical': True, 'in_stock': False, 'children': [{'type': 'reaction', 'hide': False, 'smiles': '[CH3:1][N:2][CH3:3]>>c1ccc(C[N:2]([CH3:1])[CH3:3])cc1', 'is_reaction': True, 'metadata': {'template_hash': 'f58207c6c64a5b48e40756ac3ba50fe69cdf9b1d18b6063ebd95ff15', 'classification': 'NH deprotections', 'library_occurence': 1854, 'policy_probability': 0.1388999968767166, 'policy_name': 'uspto', 'template_code': 44806}, 'children': [{'type': 'mol', 'hide': False, 'smiles': 'O=S(=O)(NCC(c1ccco1)N1CCN(Cc2ccccc2)CC1)c1ccccc1', 'is_chemical': True, 'in_stock': False, 'children': [{'type': 'reaction', 'hide': False, 'smiles': '[S:1](=[O:2])(=[O:3])([cH3:4])[N:6][CH3:5]>>Cl[S:1](=[O:2])(=[O:3])[cH3:4].[CH3:5][N:6]', 'is_reaction': True, 'metadata': {'template_hash': '39c3f693e065fda9f5882e30404d820313d65e719c7613e0b2e1faa1', 'classification': 'N-sulfonylation', 'library_occurence': 1522, 'policy_probability': 0.9509999752044678, 'policy_name': 'uspto', 'template_code': 10503}, 'children': [{'type': 'mol', 'hide': False, 'smiles': 'NCC(c1ccco1)N1CCN(Cc2ccccc2)CC1', 'is_chemical': True, 'in_stock': False, 'children': [{'type': 'reaction', 'hide': False, 'smiles': '[CH3:1][C:2][N:3]>>[CH3:1][C:2]#[N:3]', 'is_reaction': True, 'metadata': {'template_hash': 'a6a560e6a4e37275ec6c4d64bf3e0ca249f135b1541102f34f75dc07', 'classification': 'Cyano or imine to amine', 'library_occurence': 1120, 'policy_probability': 0.40950000286102295, 'policy_name': 'uspto', 'template_code': 30495}, 'children': [{'type': 'mol', 'hide': False, 'smiles': 'N#CC(c1ccco1)N1CCN(Cc2ccccc2)CC1', 'is_chemical': True, 'in_stock': False, 'children': [{'type': 'reaction', 'hide': False, 'smiles': '[C:1]([cH3:2])[N:4]([CH3:3])[CH3:5]>>Br[C:1][cH3:2].[CH3:3][N:4][CH3:5]', 'is_reaction': True, 'metadata': {'template_hash': '83224be0473e190f3e9801b4a42490bc28eb62b70434bda042317a86', 'classification': 'Heteroaryl N-alkylation', 'library_occurence': 915, 'policy_probability': 0.3720000088214874, 'policy_name': 'uspto', 'template_code': 24035}, 'children': [{'type': 'mol', 'hide': False, 'smiles': 'BrCc1ccccc1', 'is_chemical': True, 'in_stock': True}, {'type': 'mol', 'hide': False, 'smiles': 'N#CC(c1ccco1)N1CCNCC1', 'is_chemical': True, 'in_stock': False, 'children': [{'type': 'reaction', 'hide': False, 'smiles': '[N:1]([CH3:2])[CH3:3]>>CC(C)(C)OC(=O)[N:1]([CH3:2])[CH3:3]', 'is_reaction': True, 'metadata': {'template_hash': '55396c1492cc3823f0701ef923544f9f4c1af584b69f4ce5650dc5ae', 'classification': 'NH deprotections', 'library_occurence': 7879, 'policy_probability': 0.5273000001907349, 'policy_name': 'uspto', 'template_code': 15609}, 'children': [{'type': 'mol', 'hide': False, 'smiles': 'CC(C)(C)OC(=O)N1CCN(C(C#N)c2ccco2)CC1', 'is_chemical': True, 'in_stock': False, 'children': [{'type': 'reaction', 'hide': False, 'smiles': 'N#C[C:1]([cH3:2])[N:4]([CH3:3])[CH3:5]>>O=[C:1][cH3:2].[CH3:3][N:4][CH3:5]', 'is_reaction': True, 'metadata': {'template_hash': 'f005d5c2973b625b07d8ab93cedf2816dee58e0dbea2988013c2ffe7', 'classification': 'Other C-C bond formation', 'library_occurence': 7, 'policy_probability': 0.3366999924182892, 'policy_name': 'uspto', 'template_code': 43772}, 'children': [{'type': 'mol', 'hide': False, 'smiles': 'CC(C)(C)OC(=O)N1CCNCC1', 'is_chemical': True, 'in_stock': True}, {'type': 'mol', 'hide': False, 'smiles': 'O=Cc1ccco1', 'is_chemical': True, 'in_stock': True}]}]}]}]}]}]}]}]}, {'type': 'mol', 'hide': False, 'smiles': 'O=S(=O)(Cl)c1ccccc1', 'is_chemical': True, 'in_stock': False, 'children': [{'type': 'reaction', 'hide': False, 'smiles': '[S:1]([Cl:2])(=[O:3])(=[O:4])[c:6]([cH2:5])[cH2:7]>>O[S:1]([Cl:2])(=[O:3])=[O:4].[cH2:5][c:6][cH2:7]', 'is_reaction': True, 'metadata': {'template_hash': '17d1e9f83f0d5f9a5150376a589031278906299deee311524cf33e00', 'classification': 'Sulfonation', 'library_occurence': 539, 'policy_probability': 0.5435000061988831, 'policy_name': 'uspto', 'template_code': 4359}, 'children': [{'type': 'mol', 'hide': False, 'smiles': 'O=S(=O)(O)Cl', 'is_chemical': True, 'in_stock': False}, {'type': 'mol', 'hide': False, 'smiles': 'c1ccccc1', 'is_chemical': True, 'in_stock': True}]}]}]}]}]}]}]}]}, {'type': 'mol', 'hide': False, 'smiles': 'O=S(=O)(NCC(c1ccco1)N1CCN(c2ccccc2)CC1)c1ccccc1', 'is_chemical': True, 'in_stock': False, 'children': [{'type': 'reaction', 'hide': False, 'smiles': '[c:1]([cH2:2])([cH2:3])[N:5]([CH3:4])[CH3:6]>>Cl[c:1]([cH2:2])[cH2:3].[CH3:4][N:5][CH3:6]', 'is_reaction': True, 'metadata': {'template_hash': '5a203e57ca0dbeccabdf2d5992454159aa9ad1ac96d59fe9f9c711c9', 'classification': 'N-arylation with Ar-X', 'library_occurence': 380, 'policy_probability': 0.00039999998989515007, 'policy_name': 'uspto', 'template_code': 16553}, 'children': [{'type': 'mol', 'hide': False, 'smiles': 'Clc1ccccc1', 'is_chemical': True, 'in_stock': True}, {'type': 'mol', 'hide': False, 'smiles': 'O=S(=O)(NCC(c1ccco1)N1CCNCC1)c1ccccc1', 'is_chemical': True, 'in_stock': False, 'children': [{'type': 'reaction', 'hide': False, 'smiles': '[CH3:1][N:2][CH3:3]>>c1ccc(C[N:2]([CH3:1])[CH3:3])cc1', 'is_reaction': True, 'metadata': {'template_hash': 'f58207c6c64a5b48e40756ac3ba50fe69cdf9b1d18b6063ebd95ff15', 'classification': 'NH deprotections', 'library_occurence': 1854, 'policy_probability': 0.1388999968767166, 'policy_name': 'uspto', 'template_code': 44806}, 'children': [{'type': 'mol', 'hide': False, 'smiles': 'O=S(=O)(NCC(c1ccco1)N1CCN(Cc2ccccc2)CC1)c1ccccc1', 'is_chemical': True, 'in_stock': False, 'children': [{'type': 'reaction', 'hide': False, 'smiles': '[S:1](=[O:2])(=[O:3])([cH3:4])[N:6][CH3:5]>>Cl[S:1](=[O:2])(=[O:3])[cH3:4].[CH3:5][N:6]', 'is_reaction': True, 'metadata': {'template_hash': '39c3f693e065fda9f5882e30404d820313d65e719c7613e0b2e1faa1', 'classification': 'N-sulfonylation', 'library_occurence': 1522, 'policy_probability': 0.9509999752044678, 'policy_name': 'uspto', 'template_code': 10503}, 'children': [{'type': 'mol', 'hide': False, 'smiles': 'NCC(c1ccco1)N1CCN(Cc2ccccc2)CC1', 'is_chemical': True, 'in_stock': False, 'children': [{'type': 'reaction', 'hide': False, 'smiles': '[CH3:1][C:2][N:3]>>[CH3:1][C:2]#[N:3]', 'is_reaction': True, 'metadata': {'template_hash': 'a6a560e6a4e37275ec6c4d64bf3e0ca249f135b1541102f34f75dc07', 'classification': 'Cyano or imine to amine', 'library_occurence': 1120, 'policy_probability': 0.40950000286102295, 'policy_name': 'uspto', 'template_code': 30495}, 'children': [{'type': 'mol', 'hide': False, 'smiles': 'N#CC(c1ccco1)N1CCN(Cc2ccccc2)CC1', 'is_chemical': True, 'in_stock': False, 'children': [{'type': 'reaction', 'hide': False, 'smiles': '[C:1]([cH3:2])[N:4]([CH3:3])[CH3:5]>>Br[C:1][cH3:2].[CH3:3][N:4][CH3:5]', 'is_reaction': True, 'metadata': {'template_hash': '83224be0473e190f3e9801b4a42490bc28eb62b70434bda042317a86', 'classification': 'Heteroaryl N-alkylation', 'library_occurence': 915, 'policy_probability': 0.3720000088214874, 'policy_name': 'uspto', 'template_code': 24035}, 'children': [{'type': 'mol', 'hide': False, 'smiles': 'BrCc1ccccc1', 'is_chemical': True, 'in_stock': True}, {'type': 'mol', 'hide': False, 'smiles': 'N#CC(c1ccco1)N1CCNCC1', 'is_chemical': True, 'in_stock': False, 'children': [{'type': 'reaction', 'hide': False, 'smiles': '[N:1]([CH3:2])[CH3:3]>>CC(C)(C)OC(=O)[N:1]([CH3:2])[CH3:3]', 'is_reaction': True, 'metadata': {'template_hash': '55396c1492cc3823f0701ef923544f9f4c1af584b69f4ce5650dc5ae', 'classification': 'NH deprotections', 'library_occurence': 7879, 'policy_probability': 0.5273000001907349, 'policy_name': 'uspto', 'template_code': 15609}, 'children': [{'type': 'mol', 'hide': False, 'smiles': 'CC(C)(C)OC(=O)N1CCN(C(C#N)c2ccco2)CC1', 'is_chemical': True, 'in_stock': False, 'children': [{'type': 'reaction', 'hide': False, 'smiles': 'N#C[C:1]([cH3:2])[N:4]([CH3:3])[CH3:5]>>O=[C:1][cH3:2].[CH3:3][N:4][CH3:5]', 'is_reaction': True, 'metadata': {'template_hash': 'f005d5c2973b625b07d8ab93cedf2816dee58e0dbea2988013c2ffe7', 'classification': 'Other C-C bond formation', 'library_occurence': 7, 'policy_probability': 0.3366999924182892, 'policy_name': 'uspto', 'template_code': 43772}, 'children': [{'type': 'mol', 'hide': False, 'smiles': 'CC(C)(C)OC(=O)N1CCNCC1', 'is_chemical': True, 'in_stock': True}, {'type': 'mol', 'hide': False, 'smiles': 'O=Cc1ccco1', 'is_chemical': True, 'in_stock': True}]}]}]}]}]}]}]}]}, {'type': 'mol', 'hide': False, 'smiles': 'O=S(=O)(Cl)c1ccccc1', 'is_chemical': True, 'in_stock': False, 'children': [{'type': 'reaction', 'hide': False, 'smiles': '[S:1]([Cl:2])(=[O:3])(=[O:4])[c:6]([cH2:5])[cH2:7]>>O[S:1]([Cl:2])(=[O:3])=[O:4].[cH2:5][c:6][cH2:7]', 'is_reaction': True, 'metadata': {'template_hash': '17d1e9f83f0d5f9a5150376a589031278906299deee311524cf33e00', 'classification': 'Sulfonation', 'library_occurence': 539, 'policy_probability': 0.5435000061988831, 'policy_name': 'uspto', 'template_code': 4359}, 'children': [{'type': 'mol', 'hide': False, 'smiles': 'O=S(=O)(O)Cl', 'is_chemical': True, 'in_stock': False}, {'type': 'mol', 'hide': False, 'smiles': 'c1ccccc1', 'is_chemical': True, 'in_stock': True}]}]}]}]}]}]}]}]}, {'type': 'mol', 'hide': False, 'smiles': 'O=S(=O)(NCC(c1ccco1)N1CCN(c2ccccc2)CC1)c1ccccc1', 'is_chemical': True, 'in_stock': False, 'children': [{'type': 'reaction', 'hide': False, 'smiles': '[c:1]([cH2:2])([cH2:3])[N:5]([CH3:4])[CH3:6]>>I[c:1]([cH2:2])[cH2:3].[CH3:4][N:5][CH3:6]', 'is_reaction': True, 'metadata': {'template_hash': '24dbb55a32ae806913466ba1a330e1c593513859170d1642ca74a845', 'classification': 'N-arylation with Ar-X', 'library_occurence': 173, 'policy_probability': 0.00019999999494757503, 'policy_name': 'uspto', 'template_code': 6696}, 'children': [{'type': 'mol', 'hide': False, 'smiles': 'Ic1ccccc1', 'is_chemical': True, 'in_stock': True}, {'type': 'mol', 'hide': False, 'smiles': 'O=S(=O)(NCC(c1ccco1)N1CCNCC1)c1ccccc1', 'is_chemical': True, 'in_stock': False, 'children': [{'type': 'reaction', 'hide': False, 'smiles': '[CH3:1][N:2][CH3:3]>>c1ccc(C[N:2]([CH3:1])[CH3:3])cc1', 'is_reaction': True, 'metadata': {'template_hash': 'f58207c6c64a5b48e40756ac3ba50fe69cdf9b1d18b6063ebd95ff15', 'classification': 'NH deprotections', 'library_occurence': 1854, 'policy_probability': 0.1388999968767166, 'policy_name': 'uspto', 'template_code': 44806}, 'children': [{'type': 'mol', 'hide': False, 'smiles': 'O=S(=O)(NCC(c1ccco1)N1CCN(Cc2ccccc2)CC1)c1ccccc1', 'is_chemical': True, 'in_stock': False, 'children': [{'type': 'reaction', 'hide': False, 'smiles': '[S:1](=[O:2])(=[O:3])([cH3:4])[N:6][CH3:5]>>Cl[S:1](=[O:2])(=[O:3])[cH3:4].[CH3:5][N:6]', 'is_reaction': True, 'metadata': {'template_hash': '39c3f693e065fda9f5882e30404d820313d65e719c7613e0b2e1faa1', 'classification': 'N-sulfonylation', 'library_occurence': 1522, 'policy_probability': 0.9509999752044678, 'policy_name': 'uspto', 'template_code': 10503}, 'children': [{'type': 'mol', 'hide': False, 'smiles': 'NCC(c1ccco1)N1CCN(Cc2ccccc2)CC1', 'is_chemical': True, 'in_stock': False, 'children': [{'type': 'reaction', 'hide': False, 'smiles': '[CH3:1][C:2][N:3]>>[CH3:1][C:2]#[N:3]', 'is_reaction': True, 'metadata': {'template_hash': 'a6a560e6a4e37275ec6c4d64bf3e0ca249f135b1541102f34f75dc07', 'classification': 'Cyano or imine to amine', 'library_occurence': 1120, 'policy_probability': 0.40950000286102295, 'policy_name': 'uspto', 'template_code': 30495}, 'children': [{'type': 'mol', 'hide': False, 'smiles': 'N#CC(c1ccco1)N1CCN(Cc2ccccc2)CC1', 'is_chemical': True, 'in_stock': False, 'children': [{'type': 'reaction', 'hide': False, 'smiles': '[C:1]([cH3:2])[N:4]([CH3:3])[CH3:5]>>Br[C:1][cH3:2].[CH3:3][N:4][CH3:5]', 'is_reaction': True, 'metadata': {'template_hash': '83224be0473e190f3e9801b4a42490bc28eb62b70434bda042317a86', 'classification': 'Heteroaryl N-alkylation', 'library_occurence': 915, 'policy_probability': 0.3720000088214874, 'policy_name': 'uspto', 'template_code': 24035}, 'children': [{'type': 'mol', 'hide': False, 'smiles': 'BrCc1ccccc1', 'is_chemical': True, 'in_stock': True}, {'type': 'mol', 'hide': False, 'smiles': 'N#CC(c1ccco1)N1CCNCC1', 'is_chemical': True, 'in_stock': False, 'children': [{'type': 'reaction', 'hide': False, 'smiles': '[N:1]([CH3:2])[CH3:3]>>CC(C)(C)OC(=O)[N:1]([CH3:2])[CH3:3]', 'is_reaction': True, 'metadata': {'template_hash': '55396c1492cc3823f0701ef923544f9f4c1af584b69f4ce5650dc5ae', 'classification': 'NH deprotections', 'library_occurence': 7879, 'policy_probability': 0.5273000001907349, 'policy_name': 'uspto', 'template_code': 15609}, 'children': [{'type': 'mol', 'hide': False, 'smiles': 'CC(C)(C)OC(=O)N1CCN(C(C#N)c2ccco2)CC1', 'is_chemical': True, 'in_stock': False, 'children': [{'type': 'reaction', 'hide': False, 'smiles': 'N#C[C:1]([cH3:2])[N:4]([CH3:3])[CH3:5]>>O=[C:1][cH3:2].[CH3:3][N:4][CH3:5]', 'is_reaction': True, 'metadata': {'template_hash': 'f005d5c2973b625b07d8ab93cedf2816dee58e0dbea2988013c2ffe7', 'classification': 'Other C-C bond formation', 'library_occurence': 7, 'policy_probability': 0.3366999924182892, 'policy_name': 'uspto', 'template_code': 43772}, 'children': [{'type': 'mol', 'hide': False, 'smiles': 'CC(C)(C)OC(=O)N1CCNCC1', 'is_chemical': True, 'in_stock': True}, {'type': 'mol', 'hide': False, 'smiles': 'O=Cc1ccco1', 'is_chemical': True, 'in_stock': True}]}]}]}]}]}]}]}]}, {'type': 'mol', 'hide': False, 'smiles': 'O=S(=O)(Cl)c1ccccc1', 'is_chemical': True, 'in_stock': False, 'children': [{'type': 'reaction', 'hide': False, 'smiles': '[S:1]([Cl:2])(=[O:3])(=[O:4])[c:6]([cH2:5])[cH2:7]>>O[S:1]([Cl:2])(=[O:3])=[O:4].[cH2:5][c:6][cH2:7]', 'is_reaction': True, 'metadata': {'template_hash': '17d1e9f83f0d5f9a5150376a589031278906299deee311524cf33e00', 'classification': 'Sulfonation', 'library_occurence': 539, 'policy_probability': 0.5435000061988831, 'policy_name': 'uspto', 'template_code': 4359}, 'children': [{'type': 'mol', 'hide': False, 'smiles': 'O=S(=O)(O)Cl', 'is_chemical': True, 'in_stock': False}, {'type': 'mol', 'hide': False, 'smiles': 'c1ccccc1', 'is_chemical': True, 'in_stock': True}]}]}]}]}]}]}]}]}, {'type': 'mol', 'hide': False, 'smiles': 'O=S(=O)(NCC(c1ccco1)N1CCN(c2ccccc2)CC1)c1ccccc1', 'is_chemical': True, 'in_stock': False, 'children': [{'type': 'reaction', 'hide': False, 'smiles': '[c:1]([cH2:2])[cH2:3]>>Br[c:1]([cH2:2])[cH2:3]', 'is_reaction': True, 'metadata': {'template_hash': '0b3c21f06ca16236914754283451a7cc64e549c75373335b7717c09e', 'classification': 'Other functional group interconversion', 'library_occurence': 193, 'policy_probability': 0.0003000000142492354, 'policy_name': 'uspto', 'template_code': 2085}, 'children': [{'type': 'mol', 'hide': False, 'smiles': 'O=S(=O)(NCC(c1ccco1)N1CCN(c2ccc(Br)cc2)CC1)c1ccccc1', 'is_chemical': True, 'in_stock': False, 'children': [{'type': 'reaction', 'hide': False, 'smiles': '[S:1](=[O:2])(=[O:3])([cH3:4])[N:6][CH3:5]>>Cl[S:1](=[O:2])(=[O:3])[cH3:4].[CH3:5][N:6]', 'is_reaction': True, 'metadata': {'template_hash': '39c3f693e065fda9f5882e30404d820313d65e719c7613e0b2e1faa1', 'classification': 'N-sulfonylation', 'library_occurence': 1522, 'policy_probability': 0.9426000118255615, 'policy_name': 'uspto', 'template_code': 10503}, 'children': [{'type': 'mol', 'hide': False, 'smiles': 'NCC(c1ccco1)N1CCN(c2ccc(Br)cc2)CC1', 'is_chemical': True, 'in_stock': False, 'children': [{'type': 'reaction', 'hide': False, 'smiles': '[CH3:1][N:2]>>[N-]=[N+]=[N:2][CH3:1]', 'is_reaction': True, 'metadata': {'template_hash': '070a946412681dc3cde4c63e0e9dd945476d44bb1aa5127f721cc5fd', 'classification': 'Other functional group interconversion', 'library_occurence': 1547, 'policy_probability': 0.24150000512599945, 'policy_name': 'uspto', 'template_code': 1329}, 'children': [{'type': 'mol', 'hide': False, 'smiles': '[N-]=[N+]=NCC(c1ccco1)N1CCN(c2ccc(Br)cc2)CC1', 'is_chemical': True, 'in_stock': False, 'children': [{'type': 'reaction', 'hide': False, 'smiles': '[c:1]([cH2:2])([cH2:3])[N:5]([CH3:4])[CH3:6]>>I[c:1]([cH2:2])[cH2:3].[CH3:4][N:5][CH3:6]', 'is_reaction': True, 'metadata': {'template_hash': '24dbb55a32ae806913466ba1a330e1c593513859170d1642ca74a845', 'classification': 'N-arylation with Ar-X', 'library_occurence': 173, 'policy_probability': 0.1867000013589859, 'policy_name': 'uspto', 'template_code': 6696}, 'children': [{'type': 'mol', 'hide': False, 'smiles': 'Brc1ccc(I)cc1', 'is_chemical': True, 'in_stock': False, 'children': [{'type': 'reaction', 'hide': False, 'smiles': 'I[c:2]([cH2:1])[cH2:3]>>[cH2:1][c:2][cH2:3]', 'is_reaction': True, 'metadata': {'template_hash': '8e3f7318d4cc8981219203f9cd396da74b4d3cb144cc5c4e316a4925', 'classification': 'Halogenation', 'library_occurence': 867, 'policy_probability': 0.3292999863624573, 'policy_name': 'uspto', 'template_code': 25982}, 'children': [{'type': 'mol', 'hide': False, 'smiles': 'Brc1ccccc1', 'is_chemical': True, 'in_stock': True}]}]}, {'type': 'mol', 'hide': False, 'smiles': '[N-]=[N+]=NCC(c1ccco1)N1CCNCC1', 'is_chemical': True, 'in_stock': False, 'children': [{'type': 'reaction', 'hide': False, 'smiles': '[N:1]([CH3:2])[CH3:3]>>CC(C)(C)OC(=O)[N:1]([CH3:2])[CH3:3]', 'is_reaction': True, 'metadata': {'template_hash': '55396c1492cc3823f0701ef923544f9f4c1af584b69f4ce5650dc5ae', 'classification': 'NH deprotections', 'library_occurence': 7879, 'policy_probability': 0.7106000185012817, 'policy_name': 'uspto', 'template_code': 15609}, 'children': [{'type': 'mol', 'hide': False, 'smiles': 'CC(C)(C)OC(=O)N1CCN(C(CN=[N+]=[N-])c2ccco2)CC1', 'is_chemical': True, 'in_stock': False, 'children': [{'type': 'reaction', 'hide': False, 'smiles': '[C:1]([CH3:2])([cH3:3])[N:5]([CH3:4])[CH3:6]>>O=[C:1]([CH3:2])[cH3:3].[CH3:4][N:5][CH3:6]', 'is_reaction': True, 'metadata': {'template_hash': 'e2c3ee5da9aa9675ad987be40beb5130d31e54544c07aad9093e3547', 'classification': 'Reductive amination', 'library_occurence': 82, 'policy_probability': 0.017999999225139618, 'policy_name': 'uspto', 'template_code': 41471}, 'children': [{'type': 'mol', 'hide': False, 'smiles': 'CC(C)(C)OC(=O)N1CCNCC1', 'is_chemical': True, 'in_stock': True}, {'type': 'mol', 'hide': False, 'smiles': '[N-]=[N+]=NCC(=O)c1ccco1', 'is_chemical': True, 'in_stock': False, 'children': [{'type': 'reaction', 'hide': False, 'smiles': '[C:1]([CH3:2])(=[O:3])[c:5](:[O:4])[cH2:6]>>O=[C:1]([CH3:2])[O:3].[O:4]:[c:5][cH2:6]', 'is_reaction': True, 'metadata': {'template_hash': '0f94d3c389743aba887e0e63b6b5b3ded0b3b448301a339586a0a08a', 'classification': 'Unassigned', 'library_occurence': 8, 'policy_probability': 0.06719999760389328, 'policy_name': 'uspto', 'template_code': 2849}, 'children': [{'type': 'mol', 'hide': False, 'smiles': '[N-]=[N+]=NCC(=O)O', 'is_chemical': True, 'in_stock': True}, {'type': 'mol', 'hide': False, 'smiles': 'c1ccoc1', 'is_chemical': True, 'in_stock': True}]}]}]}]}]}]}]}]}]}]}, {'type': 'mol', 'hide': False, 'smiles': 'O=S(=O)(Cl)c1ccccc1', 'is_chemical': True, 'in_stock': False, 'children': [{'type': 'reaction', 'hide': False, 'smiles': '[S:1]([Cl:2])(=[O:3])(=[O:4])[c:6]([cH2:5])[cH2:7]>>O[S:1]([Cl:2])(=[O:3])=[O:4].[cH2:5][c:6][cH2:7]', 'is_reaction': True, 'metadata': {'template_hash': '17d1e9f83f0d5f9a5150376a589031278906299deee311524cf33e00', 'classification': 'Sulfonation', 'library_occurence': 539, 'policy_probability': 0.5435000061988831, 'policy_name': 'uspto', 'template_code': 4359}, 'children': [{'type': 'mol', 'hide': False, 'smiles': 'O=S(=O)(O)Cl', 'is_chemical': True, 'in_stock': False}, {'type': 'mol', 'hide': False, 'smiles': 'c1ccccc1', 'is_chemical': True, 'in_stock': True}]}]}]}]}]}]}]\n"
     ]
    }
   ],
   "source": [
    "from aizynthfinder.analysis import ReactionTree\n",
    "\n",
    "all_trees = data.trees.values\n",
    "all_solved_trees = solved_data.trees.values\n",
    "all_unsolved_trees = unsolved_data.trees.values\n",
    "first_molecule_tree = all_trees[0]\n",
    "\n",
    "print(first_molecule_tree)\n",
    "\n"
   ]
  },
  {
   "cell_type": "code",
   "execution_count": 10,
   "metadata": {},
   "outputs": [],
   "source": [
    "json_results = []\n",
    "solved_json_results = []\n",
    "unsolved_json_results = []\n",
    "\n",
    "for i in all_trees:\n",
    "    for itree, tree in enumerate(i):\n",
    "        reaction_json = ReactionTree.from_dict(tree).to_json()\n",
    "        json_results.append(reaction_json)\n",
    "\n",
    "for i in all_unsolved_trees:\n",
    "    for itree, tree in enumerate(i):\n",
    "        unsolved_reaction_json = ReactionTree.from_dict(tree).to_json()\n",
    "        unsolved_json_results.append(unsolved_reaction_json)\n",
    "\n",
    "for i in all_solved_trees:\n",
    "    for itree, tree in enumerate(i):\n",
    "        solved_reaction_json = ReactionTree.from_dict(tree).to_json()\n",
    "        solved_json_results.append(solved_reaction_json)\n",
    "\n"
   ]
  },
  {
   "cell_type": "code",
   "execution_count": 11,
   "metadata": {},
   "outputs": [],
   "source": [
    "# save reaction trees to file\n",
    "\n",
    "data = {\n",
    "    'reaction trees': solved_json_results\n",
    "}\n",
    "\n",
    "with open('/data/localhost/not-backed-up/mokaya/exscientia/aizynthfinder/Maranga/experiments/explore/results/tg1_std_solved.json', 'w') as outfile:\n",
    "    json.dump(data, outfile)"
   ]
  },
  {
   "cell_type": "code",
   "execution_count": 13,
   "metadata": {},
   "outputs": [
    {
     "output_type": "stream",
     "name": "stdout",
     "text": [
      "{\n  \"type\": \"mol\",\n  \"hide\": false,\n  \"smiles\": \"O=S(=O)(NCC(c1ccco1)N1CCN(c2ccccc2)CC1)c1ccccc1\",\n  \"is_chemical\": true,\n  \"in_stock\": false,\n  \"children\": [\n    {\n      \"type\": \"reaction\",\n      \"hide\": false,\n      \"smiles\": \"[c:1]([cH2:2])[cH2:3]>>N#C[c:1]([cH2:2])[cH2:3]\",\n      \"is_reaction\": true,\n      \"metadata\": {\n        \"template_hash\": \"741c4d3be97c223dbcadd0d058f632a979821dd0ad35e03f37d4a4a2\",\n        \"classification\": \"Unassigned\",\n        \"library_occurence\": 14,\n        \"policy_probability\": 0.0003000000142492354,\n        \"policy_name\": \"uspto\",\n        \"template_code\": 21326\n      },\n      \"children\": [\n        {\n          \"type\": \"mol\",\n          \"hide\": false,\n          \"smiles\": \"N#Cc1ccccc1S(=O)(=O)NCC(c1ccco1)N1CCN(c2ccccc2)CC1\",\n          \"is_chemical\": true,\n          \"in_stock\": false,\n          \"children\": [\n            {\n              \"type\": \"reaction\",\n              \"hide\": false,\n              \"smiles\": \"[S:1](=[O:2])(=[O:3])([cH3:4])[N:6][CH3:5]>>Cl[S:1](=[O:2])(=[O:3])[cH3:4].[CH3:5][N:6]\",\n              \"is_reaction\": true,\n              \"metadata\": {\n                \"template_hash\": \"39c3f693e065fda9f5882e30404d820313d65e719c7613e0b2e1faa1\",\n                \"classification\": \"N-sulfonylation\",\n                \"library_occurence\": 1522,\n                \"policy_probability\": 0.609000027179718,\n                \"policy_name\": \"uspto\",\n                \"template_code\": 10503\n              },\n              \"children\": [\n                {\n                  \"type\": \"mol\",\n                  \"hide\": false,\n                  \"smiles\": \"N#Cc1ccccc1S(=O)(=O)Cl\",\n                  \"is_chemical\": true,\n                  \"in_stock\": false,\n                  \"children\": [\n                    {\n                      \"type\": \"reaction\",\n                      \"hide\": false,\n                      \"smiles\": \"O=S(=O)(Cl)[c:1]([cH2:2])[cH2:3]>>N[c:1]([cH2:2])[cH2:3]\",\n                      \"is_reaction\": true,\n                      \"metadata\": {\n                        \"template_hash\": \"3890c36aa7b30ee48e2f2c86fbf73f66cdf04942e03399e277d41693\",\n                        \"classification\": \"Other functional group interconversion\",\n                        \"library_occurence\": 27,\n                        \"policy_probability\": 0.5633000135421753,\n                        \"policy_name\": \"uspto\",\n                        \"template_code\": 10273\n                      },\n                      \"children\": [\n                        {\n                          \"type\": \"mol\",\n                          \"hide\": false,\n                          \"smiles\": \"N#Cc1ccccc1N\",\n                          \"is_chemical\": true,\n                          \"in_stock\": true\n                        }\n                      ]\n                    }\n                  ]\n                },\n                {\n                  \"type\": \"mol\",\n                  \"hide\": false,\n                  \"smiles\": \"NCC(c1ccco1)N1CCN(c2ccccc2)CC1\",\n                  \"is_chemical\": true,\n                  \"in_stock\": false,\n                  \"children\": [\n                    {\n                      \"type\": \"reaction\",\n                      \"hide\": false,\n                      \"smiles\": \"[N:1][CH3:2]>>O=C1c2ccccc2C(=O)[N:1]1[CH3:2]\",\n                      \"is_reaction\": true,\n                      \"metadata\": {\n                        \"template_hash\": \"7399a60fd7378a24dfa10a10ff432b29a0c80f1c6d7ac70d27cfe818\",\n                        \"classification\": \"NH deprotections\",\n                        \"library_occurence\": 1321,\n                        \"policy_probability\": 0.34209999442100525,\n                        \"policy_name\": \"uspto\",\n                        \"template_code\": 21226\n                      },\n                      \"children\": [\n                        {\n                          \"type\": \"mol\",\n                          \"hide\": false,\n                          \"smiles\": \"O=C1c2ccccc2C(=O)N1CC(c1ccco1)N1CCN(c2ccccc2)CC1\",\n                          \"is_chemical\": true,\n                          \"in_stock\": false,\n                          \"children\": [\n                            {\n                              \"type\": \"reaction\",\n                              \"hide\": false,\n                              \"smiles\": \"[C:1]([CH3:2])[N:5]1[C:4](=[O:3])[c:13]2[c:8]([cH:9][cH:10][cH:11][cH:12]2)[C:6]1=[O:7]>>O[C:1][CH3:2].[O:3]=[C:4]1[N:5][C:6](=[O:7])[c:8]2[cH:9][cH:10][cH:11][cH:12][c:13]21\",\n                              \"is_reaction\": true,\n                              \"metadata\": {\n                                \"template_hash\": \"4188c1573ceb6063bb6ef444f59b675aa1e5e38b5a55405cdcf8f840\",\n                                \"classification\": \"Reductive amination\",\n                                \"library_occurence\": 159,\n                                \"policy_probability\": 0.7232000231742859,\n                                \"policy_name\": \"uspto\",\n                                \"template_code\": 11974\n                              },\n                              \"children\": [\n                                {\n                                  \"type\": \"mol\",\n                                  \"hide\": false,\n                                  \"smiles\": \"O=C1NC(=O)c2ccccc21\",\n                                  \"is_chemical\": true,\n                                  \"in_stock\": true\n                                },\n                                {\n                                  \"type\": \"mol\",\n                                  \"hide\": false,\n                                  \"smiles\": \"OCC(c1ccco1)N1CCN(c2ccccc2)CC1\",\n                                  \"is_chemical\": true,\n                                  \"in_stock\": false,\n                                  \"children\": [\n                                    {\n                                      \"type\": \"reaction\",\n                                      \"hide\": false,\n                                      \"smiles\": \"[C:1]([CH3:2])[O:3]>>CO[C:1]([CH3:2])=[O:3]\",\n                                      \"is_reaction\": true,\n                                      \"metadata\": {\n                                        \"template_hash\": \"ace077327b65885e2493775e77cea5434d2da2918de8308af58629a6\",\n                                        \"classification\": \"Ester to alcohol\",\n                                        \"library_occurence\": 1139,\n                                        \"policy_probability\": 0.2184000015258789,\n                                        \"policy_name\": \"uspto\",\n                                        \"template_code\": 31596\n                                      },\n                                      \"children\": [\n                                        {\n                                          \"type\": \"mol\",\n                                          \"hide\": false,\n                                          \"smiles\": \"COC(=O)C(c1ccco1)N1CCN(c2ccccc2)CC1\",\n                                          \"is_chemical\": true,\n                                          \"in_stock\": false,\n                                          \"children\": [\n                                            {\n                                              \"type\": \"reaction\",\n                                              \"hide\": false,\n                                              \"smiles\": \"[C:1]([cH3:2])([C:3](=[O:4])[O:5][CH3:6])[N:8]([CH3:7])[CH3:9]>>Br[C:1]([cH3:2])[C:3](=[O:4])[O:5][CH3:6].[CH3:7][N:8][CH3:9]\",\n                                              \"is_reaction\": true,\n                                              \"metadata\": {\n                                                \"template_hash\": \"2808c54891d2ec97e49ef2bf07a2550b6ef29671d72f88f71a119e95\",\n                                                \"classification\": \"Heteroaryl N-alkylation\",\n                                                \"library_occurence\": 23,\n                                                \"policy_probability\": 0.3752000033855438,\n                                                \"policy_name\": \"uspto\",\n                                                \"template_code\": 7312\n                                              },\n                                              \"children\": [\n                                                {\n                                                  \"type\": \"mol\",\n                                                  \"hide\": false,\n                                                  \"smiles\": \"COC(=O)C(Br)c1ccco1\",\n                                                  \"is_chemical\": true,\n                                                  \"in_stock\": false,\n                                                  \"children\": [\n                                                    {\n                                                      \"type\": \"reaction\",\n                                                      \"hide\": false,\n                                                      \"smiles\": \"[C:1][O:4][CH:3]=[O:2]>>O[C:1].[O:2]=[CH:3][O:4]\",\n                                                      \"is_reaction\": true,\n                                                      \"metadata\": {\n                                                        \"template_hash\": \"e189425e090fce77131c907ebf1468461240dd27d4457a40d701e43e\",\n                                                        \"classification\": \"O-acylation to ester\",\n                                                        \"library_occurence\": 4349,\n                                                        \"policy_probability\": 0.4262000024318695,\n                                                        \"policy_name\": \"uspto\",\n                                                        \"template_code\": 41244\n                                                      },\n                                                      \"children\": [\n                                                        {\n                                                          \"type\": \"mol\",\n                                                          \"hide\": false,\n                                                          \"smiles\": \"CO\",\n                                                          \"is_chemical\": true,\n                                                          \"in_stock\": false,\n                                                          \"children\": [\n                                                            {\n                                                              \"type\": \"reaction\",\n                                                              \"hide\": false,\n                                                              \"smiles\": \"[CH3:1][O:2]>>c1ccc(C[O:2][CH3:1])cc1\",\n                                                              \"is_reaction\": true,\n                                                              \"metadata\": {\n                                                                \"template_hash\": \"b09baddfd5988158c3a819435de5f508e6fb5e1babae0fd337ba07ac\",\n                                                                \"classification\": \"ROH deprotections\",\n                                                                \"library_occurence\": 862,\n                                                                \"policy_probability\": 0.00139999995008111,\n                                                                \"policy_name\": \"uspto\",\n                                                                \"template_code\": 32269\n                                                              },\n                                                              \"children\": [\n                                                                {\n                                                                  \"type\": \"mol\",\n                                                                  \"hide\": false,\n                                                                  \"smiles\": \"COCc1ccccc1\",\n                                                                  \"is_chemical\": true,\n                                                                  \"in_stock\": true\n                                                                }\n                                                              ]\n                                                            }\n                                                          ]\n                                                        },\n                                                        {\n                                                          \"type\": \"mol\",\n                                                          \"hide\": false,\n                                                          \"smiles\": \"O=C(O)C(Br)c1ccco1\",\n                                                          \"is_chemical\": true,\n                                                          \"in_stock\": false,\n                                                          \"children\": [\n                                                            {\n                                                              \"type\": \"reaction\",\n                                                              \"hide\": false,\n                                                              \"smiles\": \"[Br:1][C:5]([C:3](=[O:2])[OH:4])[cH3:6]>>O=C1CCC(=O)N1[Br:1].[O:2]=[C:3]([OH:4])[C:5][cH3:6]\",\n                                                              \"is_reaction\": true,\n                                                              \"metadata\": {\n                                                                \"template_hash\": \"d657e39736321b514ec1b19399aef5f74d4ad26a8d8c75b998b45919\",\n                                                                \"classification\": \"Halogenation\",\n                                                                \"library_occurence\": 12,\n                                                                \"policy_probability\": 0.6049000024795532,\n                                                                \"policy_name\": \"uspto\",\n                                                                \"template_code\": 39213\n                                                              },\n                                                              \"children\": [\n                                                                {\n                                                                  \"type\": \"mol\",\n                                                                  \"hide\": false,\n                                                                  \"smiles\": \"O=C(O)Cc1ccco1\",\n                                                                  \"is_chemical\": true,\n                                                                  \"in_stock\": true\n                                                                },\n                                                                {\n                                                                  \"type\": \"mol\",\n                                                                  \"hide\": false,\n                                                                  \"smiles\": \"O=C1CCC(=O)N1Br\",\n                                                                  \"is_chemical\": true,\n                                                                  \"in_stock\": true\n                                                                }\n                                                              ]\n                                                            }\n                                                          ]\n                                                        }\n                                                      ]\n                                                    }\n                                                  ]\n                                                },\n                                                {\n                                                  \"type\": \"mol\",\n                                                  \"hide\": false,\n                                                  \"smiles\": \"c1ccc(N2CCNCC2)cc1\",\n                                                  \"is_chemical\": true,\n                                                  \"in_stock\": true\n                                                }\n                                              ]\n                                            }\n                                          ]\n                                        }\n                                      ]\n                                    }\n                                  ]\n                                }\n                              ]\n                            }\n                          ]\n                        }\n                      ]\n                    }\n                  ]\n                }\n              ]\n            }\n          ]\n        }\n      ]\n    }\n  ]\n}\n"
     ]
    }
   ],
   "source": [
    "print(solved_json_results[2])"
   ]
  },
  {
   "cell_type": "code",
   "execution_count": 14,
   "metadata": {},
   "outputs": [
    {
     "output_type": "stream",
     "name": "stdout",
     "text": [
      "545\n"
     ]
    }
   ],
   "source": [
    "print(len(solved_json_results))"
   ]
  },
  {
   "cell_type": "code",
   "execution_count": null,
   "metadata": {},
   "outputs": [],
   "source": []
  }
 ],
 "metadata": {
  "kernelspec": {
   "name": "python388jvsc74a57bd01ce81150a71727f589a159d7c025889054ace076bb44326ef3200601839cf7ad",
   "display_name": "Python 3.8.8 64-bit ('aizynth-dev': conda)"
  },
  "language_info": {
   "codemirror_mode": {
    "name": "ipython",
    "version": 3
   },
   "file_extension": ".py",
   "mimetype": "text/x-python",
   "name": "python",
   "nbconvert_exporter": "python",
   "pygments_lexer": "ipython3",
   "version": "3.8.8"
  },
  "orig_nbformat": 2
 },
 "nbformat": 4,
 "nbformat_minor": 2
}