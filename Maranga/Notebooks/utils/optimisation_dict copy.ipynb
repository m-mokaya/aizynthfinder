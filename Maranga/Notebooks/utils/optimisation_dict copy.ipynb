{
 "cells": [
  {
   "cell_type": "code",
   "execution_count": 34,
   "metadata": {},
   "outputs": [],
   "source": [
    "# Notebook to generate a json file as input for optimisation of specific reactions\n",
    "\n",
    "import json\n",
    "import pandas as pd"
   ]
  },
  {
   "cell_type": "code",
   "execution_count": 35,
   "metadata": {},
   "outputs": [],
   "source": [
    "file_ext = '/data/localhost/not-backed-up/mokaya/exscientia/'"
   ]
  },
  {
   "cell_type": "code",
   "execution_count": 48,
   "metadata": {},
   "outputs": [],
   "source": [
    "opt_list = ['Heteroaryl N-alkylation', 'Cyano or imine to amine', 'Oxidations at sulfur', 'S-substitution', 'O-acylation to ester', 'NH deprotections', 'O-containing heterocycle formation', 'Unassigned', 'Friedel-Crafts reaction', 'N-acylation to amide', 'Reductive amination', 'Ketone to alcohol', 'N-substitution with alkyl-X', 'RCO2H protections', 'Acid to acid chloride', 'Alcohol to halide', 'Nitrile to acid', 'N-arylation with Ar-X', 'NH protections', 'Alkene to alkane', 'Alkene oxidative cleavage', 'Stille reaction', 'Other reductions', 'Halogenation', 'ROH protections', 'O-substitution', 'Other Pd-catalyzed reactions (Negishi,Kumada,etc.)', 'Ester to alcohol', 'Other functional group interconversion', 'Other functional group addition', 'RCO2H deprotections', 'Alcohols to aldehydes', 'Amide to amine reduction', 'Nitro to amine reduction', 'ROH deprotections']"
   ]
  },
  {
   "cell_type": "code",
   "execution_count": 37,
   "metadata": {},
   "outputs": [],
   "source": [
    "dist = list(set(opt_list))"
   ]
  },
  {
   "cell_type": "code",
   "execution_count": 38,
   "metadata": {},
   "outputs": [
    {
     "name": "stdout",
     "output_type": "stream",
     "text": [
      "24\n",
      "24\n"
     ]
    }
   ],
   "source": [
    "print(len(opt_list))\n",
    "print(len(dist))"
   ]
  },
  {
   "cell_type": "code",
   "execution_count": 39,
   "metadata": {},
   "outputs": [],
   "source": [
    "opt_dict = {}\n",
    "\n",
    "for i in dist:\n",
    "    opt_dict[i] = 10.0"
   ]
  },
  {
   "cell_type": "code",
   "execution_count": 40,
   "metadata": {},
   "outputs": [
    {
     "name": "stdout",
     "output_type": "stream",
     "text": [
      "{'NH protections': 10.0, 'RCO2H deprotections': 10.0, 'Halogenation': 10.0, 'O-acylation to ester': 10.0, 'ROH deprotections': 10.0, 'O-substitution': 10.0, 'Nitro to amine reduction': 10.0, 'Alkene to alkane': 10.0, 'Ketone to alcohol': 10.0, 'Unassigned': 10.0, 'S-substitution': 10.0, 'Friedel-Crafts reaction': 10.0, 'Other functional group interconversion': 10.0, 'Stille reaction': 10.0, 'Other reductions': 10.0, 'N-arylation with Ar-X': 10.0, 'N-acylation to amide': 10.0, 'Heteroaryl N-alkylation': 10.0, 'Amide to amine reduction': 10.0, 'Reductive amination': 10.0, 'NH deprotections': 10.0, 'Alcohol to halide': 10.0, 'N-substitution with alkyl-X': 10.0, 'O-containing heterocycle formation': 10.0}\n"
     ]
    }
   ],
   "source": [
    "print(opt_dict)"
   ]
  },
  {
   "cell_type": "code",
   "execution_count": 26,
   "metadata": {},
   "outputs": [],
   "source": [
    "with open('/data/localhost/not-backed-up/mokaya/exscientia/aizynthfinder/Maranga/experiments/target_2/opt_dicts/opt12_class.json', 'w') as f:\n",
    "    json.dump(opt_dict , f)"
   ]
  },
  {
   "cell_type": "code",
   "execution_count": 5,
   "metadata": {},
   "outputs": [],
   "source": [
    "all_dicts = []\n",
    "for i in opt_list:\n",
    "    opt_dict = {}\n",
    "    opt_dict[i] = 10.0\n",
    "    all_dicts.append(opt_dict)"
   ]
  },
  {
   "cell_type": "code",
   "execution_count": 10,
   "metadata": {},
   "outputs": [],
   "source": [
    "for ind, i in enumerate(all_dicts):\n",
    "    with open(\"/data/localhost/not-backed-up/mokaya/exscientia/aizynthfinder/Maranga/experiments/target_2/opt4_class_{}.json\".format(ind), 'w') as f:\n",
    "        json.dump(i , f)\n",
    "        f.close()"
   ]
  },
  {
   "cell_type": "code",
   "execution_count": 6,
   "metadata": {},
   "outputs": [
    {
     "name": "stdout",
     "output_type": "stream",
     "text": [
      "{'N-substitution with alkyl-X': 10.0, 'N-arylation with Ar-X': 10.0, 'Heteroaryl N-alkylation': 10.0, 'NH deprotections': 10.0, 'O-substitution': 10.0, 'Other functional group interconversion': 10.0, 'S-substitution': 10.0, 'O-containing heterocycle formation': 10.0, 'N-acylation to amide': 10.0, 'NH protections': 10.0, 'Other reductions': 10.0, 'O-acylation to ester': 10.0, 'Unassigned': 10.0, 'Stille reaction': 10.0, 'Halogenation': 10.0, 'Nitro to amine reduction': 10.0, 'Reductive amination': 10.0, 'Dehydration': 10.0, 'Friedel-Crafts reaction': 10.0, 'Alkene to alkane': 10.0, 'Other deprotections': 10.0, 'Ketone to alcohol': 10.0, 'ROH deprotections': 10.0, 'RCO2H deprotections': 10.0, 'Alcohol to halide': 10.0, 'Amide to amine reduction': 10.0, 'O-sulfonylation': 10.0}\n",
      "dict_keys(['N-substitution with alkyl-X', 'N-arylation with Ar-X', 'Heteroaryl N-alkylation', 'NH deprotections', 'O-substitution', 'Other functional group interconversion', 'S-substitution', 'O-containing heterocycle formation', 'N-acylation to amide', 'NH protections', 'Other reductions', 'O-acylation to ester', 'Unassigned', 'Stille reaction', 'Halogenation', 'Nitro to amine reduction', 'Reductive amination', 'Dehydration', 'Friedel-Crafts reaction', 'Alkene to alkane', 'Other deprotections', 'Ketone to alcohol', 'ROH deprotections', 'RCO2H deprotections', 'Alcohol to halide', 'Amide to amine reduction', 'O-sulfonylation'])\n"
     ]
    }
   ],
   "source": [
    "# load item change value, save and close\n",
    "\n",
    "with open('/data/localhost/not-backed-up/mokaya/exscientia/aizynthfinder/Maranga/experiments/target_2/opt_dicts/opt4_class.json') as read_file: \n",
    "    #read in config\n",
    "    dict1 = json.load(read_file)\n",
    "    \n",
    "print(dict1)\n",
    "print(dict1.keys())"
   ]
  },
  {
   "cell_type": "code",
   "execution_count": 49,
   "metadata": {},
   "outputs": [
    {
     "name": "stdout",
     "output_type": "stream",
     "text": [
      "0\n",
      "[]\n",
      "{}\n",
      "1\n",
      "['Other reductions']\n",
      "{'Other reductions': 10.0}\n",
      "2\n",
      "['Alcohols to aldehydes', 'Nitrile to acid']\n",
      "{'Alcohols to aldehydes': 10.0, 'Nitrile to acid': 10.0}\n",
      "3\n",
      "['O-substitution', 'O-containing heterocycle formation', 'Unassigned']\n",
      "{'O-substitution': 10.0, 'O-containing heterocycle formation': 10.0, 'Unassigned': 10.0}\n",
      "4\n",
      "['Cyano or imine to amine', 'Alkene oxidative cleavage', 'O-containing heterocycle formation', 'Alcohol to halide']\n",
      "{'Cyano or imine to amine': 10.0, 'Alkene oxidative cleavage': 10.0, 'O-containing heterocycle formation': 10.0, 'Alcohol to halide': 10.0}\n",
      "5\n",
      "['O-acylation to ester', 'Other functional group interconversion', 'Nitrile to acid', 'ROH protections', 'RCO2H deprotections']\n",
      "{'O-acylation to ester': 10.0, 'Other functional group interconversion': 10.0, 'Nitrile to acid': 10.0, 'ROH protections': 10.0, 'RCO2H deprotections': 10.0}\n",
      "6\n",
      "['Nitro to amine reduction', 'Amide to amine reduction', 'Cyano or imine to amine', 'O-substitution', 'Acid to acid chloride', 'Other reductions']\n",
      "{'Nitro to amine reduction': 10.0, 'Amide to amine reduction': 10.0, 'Cyano or imine to amine': 10.0, 'O-substitution': 10.0, 'Acid to acid chloride': 10.0, 'Other reductions': 10.0}\n",
      "7\n",
      "['Alcohols to aldehydes', 'Cyano or imine to amine', 'Nitro to amine reduction', 'S-substitution', 'Friedel-Crafts reaction', 'Unassigned', 'N-substitution with alkyl-X']\n",
      "{'Alcohols to aldehydes': 10.0, 'Cyano or imine to amine': 10.0, 'Nitro to amine reduction': 10.0, 'S-substitution': 10.0, 'Friedel-Crafts reaction': 10.0, 'Unassigned': 10.0, 'N-substitution with alkyl-X': 10.0}\n",
      "8\n",
      "['Halogenation', 'Alkene to alkane', 'ROH protections', 'Amide to amine reduction', 'Friedel-Crafts reaction', 'Acid to acid chloride', 'Oxidations at sulfur', 'Other functional group interconversion']\n",
      "{'Halogenation': 10.0, 'Alkene to alkane': 10.0, 'ROH protections': 10.0, 'Amide to amine reduction': 10.0, 'Friedel-Crafts reaction': 10.0, 'Acid to acid chloride': 10.0, 'Oxidations at sulfur': 10.0, 'Other functional group interconversion': 10.0}\n",
      "9\n",
      "['Unassigned', 'Alkene oxidative cleavage', 'Stille reaction', 'Oxidations at sulfur', 'Amide to amine reduction', 'O-containing heterocycle formation', 'N-acylation to amide', 'Halogenation', 'O-acylation to ester']\n",
      "{'Unassigned': 10.0, 'Alkene oxidative cleavage': 10.0, 'Stille reaction': 10.0, 'Oxidations at sulfur': 10.0, 'Amide to amine reduction': 10.0, 'O-containing heterocycle formation': 10.0, 'N-acylation to amide': 10.0, 'Halogenation': 10.0, 'O-acylation to ester': 10.0}\n",
      "10\n",
      "['Alkene to alkane', 'Amide to amine reduction', 'N-substitution with alkyl-X', 'Reductive amination', 'Halogenation', 'Other functional group addition', 'Other Pd-catalyzed reactions (Negishi,Kumada,etc.)', 'NH deprotections', 'N-arylation with Ar-X', 'ROH deprotections']\n",
      "{'Alkene to alkane': 10.0, 'Amide to amine reduction': 10.0, 'N-substitution with alkyl-X': 10.0, 'Reductive amination': 10.0, 'Halogenation': 10.0, 'Other functional group addition': 10.0, 'Other Pd-catalyzed reactions (Negishi,Kumada,etc.)': 10.0, 'NH deprotections': 10.0, 'N-arylation with Ar-X': 10.0, 'ROH deprotections': 10.0}\n",
      "11\n",
      "['Nitro to amine reduction', 'NH deprotections', 'Heteroaryl N-alkylation', 'ROH protections', 'O-containing heterocycle formation', 'O-acylation to ester', 'Alkene to alkane', 'Alkene oxidative cleavage', 'Oxidations at sulfur', 'RCO2H deprotections', 'O-substitution']\n",
      "{'Nitro to amine reduction': 10.0, 'NH deprotections': 10.0, 'Heteroaryl N-alkylation': 10.0, 'ROH protections': 10.0, 'O-containing heterocycle formation': 10.0, 'O-acylation to ester': 10.0, 'Alkene to alkane': 10.0, 'Alkene oxidative cleavage': 10.0, 'Oxidations at sulfur': 10.0, 'RCO2H deprotections': 10.0, 'O-substitution': 10.0}\n",
      "12\n",
      "['Nitrile to acid', 'N-arylation with Ar-X', 'Reductive amination', 'Other reductions', 'O-acylation to ester', 'Cyano or imine to amine', 'Other functional group addition', 'Unassigned', 'Oxidations at sulfur', 'N-acylation to amide', 'Acid to acid chloride', 'NH protections']\n",
      "{'Nitrile to acid': 10.0, 'N-arylation with Ar-X': 10.0, 'Reductive amination': 10.0, 'Other reductions': 10.0, 'O-acylation to ester': 10.0, 'Cyano or imine to amine': 10.0, 'Other functional group addition': 10.0, 'Unassigned': 10.0, 'Oxidations at sulfur': 10.0, 'N-acylation to amide': 10.0, 'Acid to acid chloride': 10.0, 'NH protections': 10.0}\n",
      "13\n",
      "['NH deprotections', 'Nitrile to acid', 'Ester to alcohol', 'RCO2H deprotections', 'Stille reaction', 'ROH deprotections', 'Reductive amination', 'Alcohol to halide', 'Alkene oxidative cleavage', 'Oxidations at sulfur', 'O-substitution', 'Acid to acid chloride', 'Friedel-Crafts reaction']\n",
      "{'NH deprotections': 10.0, 'Nitrile to acid': 10.0, 'Ester to alcohol': 10.0, 'RCO2H deprotections': 10.0, 'Stille reaction': 10.0, 'ROH deprotections': 10.0, 'Reductive amination': 10.0, 'Alcohol to halide': 10.0, 'Alkene oxidative cleavage': 10.0, 'Oxidations at sulfur': 10.0, 'O-substitution': 10.0, 'Acid to acid chloride': 10.0, 'Friedel-Crafts reaction': 10.0}\n",
      "14\n",
      "['Ketone to alcohol', 'Unassigned', 'Acid to acid chloride', 'Other functional group addition', 'NH deprotections', 'O-substitution', 'Stille reaction', 'Friedel-Crafts reaction', 'Ester to alcohol', 'Cyano or imine to amine', 'Nitrile to acid', 'Other Pd-catalyzed reactions (Negishi,Kumada,etc.)', 'O-containing heterocycle formation', 'RCO2H deprotections']\n",
      "{'Ketone to alcohol': 10.0, 'Unassigned': 10.0, 'Acid to acid chloride': 10.0, 'Other functional group addition': 10.0, 'NH deprotections': 10.0, 'O-substitution': 10.0, 'Stille reaction': 10.0, 'Friedel-Crafts reaction': 10.0, 'Ester to alcohol': 10.0, 'Cyano or imine to amine': 10.0, 'Nitrile to acid': 10.0, 'Other Pd-catalyzed reactions (Negishi,Kumada,etc.)': 10.0, 'O-containing heterocycle formation': 10.0, 'RCO2H deprotections': 10.0}\n",
      "15\n",
      "['Alkene oxidative cleavage', 'Friedel-Crafts reaction', 'Cyano or imine to amine', 'Nitrile to acid', 'Ester to alcohol', 'Other functional group addition', 'Alcohols to aldehydes', 'RCO2H deprotections', 'N-substitution with alkyl-X', 'Other Pd-catalyzed reactions (Negishi,Kumada,etc.)', 'NH protections', 'Amide to amine reduction', 'Other reductions', 'Halogenation', 'Unassigned']\n",
      "{'Alkene oxidative cleavage': 10.0, 'Friedel-Crafts reaction': 10.0, 'Cyano or imine to amine': 10.0, 'Nitrile to acid': 10.0, 'Ester to alcohol': 10.0, 'Other functional group addition': 10.0, 'Alcohols to aldehydes': 10.0, 'RCO2H deprotections': 10.0, 'N-substitution with alkyl-X': 10.0, 'Other Pd-catalyzed reactions (Negishi,Kumada,etc.)': 10.0, 'NH protections': 10.0, 'Amide to amine reduction': 10.0, 'Other reductions': 10.0, 'Halogenation': 10.0, 'Unassigned': 10.0}\n",
      "16\n",
      "['Friedel-Crafts reaction', 'S-substitution', 'Nitro to amine reduction', 'Alkene to alkane', 'Heteroaryl N-alkylation', 'N-acylation to amide', 'ROH protections', 'Amide to amine reduction', 'Oxidations at sulfur', 'NH deprotections', 'N-arylation with Ar-X', 'N-substitution with alkyl-X', 'Nitrile to acid', 'O-containing heterocycle formation', 'O-acylation to ester', 'ROH deprotections']\n",
      "{'Friedel-Crafts reaction': 10.0, 'S-substitution': 10.0, 'Nitro to amine reduction': 10.0, 'Alkene to alkane': 10.0, 'Heteroaryl N-alkylation': 10.0, 'N-acylation to amide': 10.0, 'ROH protections': 10.0, 'Amide to amine reduction': 10.0, 'Oxidations at sulfur': 10.0, 'NH deprotections': 10.0, 'N-arylation with Ar-X': 10.0, 'N-substitution with alkyl-X': 10.0, 'Nitrile to acid': 10.0, 'O-containing heterocycle formation': 10.0, 'O-acylation to ester': 10.0, 'ROH deprotections': 10.0}\n",
      "17\n",
      "['Cyano or imine to amine', 'Alkene oxidative cleavage', 'Oxidations at sulfur', 'Alcohol to halide', 'Other functional group addition', 'Friedel-Crafts reaction', 'Alkene to alkane', 'ROH protections', 'N-acylation to amide', 'Amide to amine reduction', 'Other Pd-catalyzed reactions (Negishi,Kumada,etc.)', 'O-substitution', 'N-arylation with Ar-X', 'NH deprotections', 'Stille reaction', 'Alcohols to aldehydes', 'S-substitution']\n",
      "{'Cyano or imine to amine': 10.0, 'Alkene oxidative cleavage': 10.0, 'Oxidations at sulfur': 10.0, 'Alcohol to halide': 10.0, 'Other functional group addition': 10.0, 'Friedel-Crafts reaction': 10.0, 'Alkene to alkane': 10.0, 'ROH protections': 10.0, 'N-acylation to amide': 10.0, 'Amide to amine reduction': 10.0, 'Other Pd-catalyzed reactions (Negishi,Kumada,etc.)': 10.0, 'O-substitution': 10.0, 'N-arylation with Ar-X': 10.0, 'NH deprotections': 10.0, 'Stille reaction': 10.0, 'Alcohols to aldehydes': 10.0, 'S-substitution': 10.0}\n",
      "18\n",
      "['Ketone to alcohol', 'N-acylation to amide', 'Nitrile to acid', 'Halogenation', 'Other reductions', 'Other functional group interconversion', 'RCO2H deprotections', 'O-acylation to ester', 'S-substitution', 'Stille reaction', 'RCO2H protections', 'O-containing heterocycle formation', 'Acid to acid chloride', 'Alkene to alkane', 'Alcohols to aldehydes', 'Heteroaryl N-alkylation', 'Alkene oxidative cleavage', 'Ester to alcohol']\n",
      "{'Ketone to alcohol': 10.0, 'N-acylation to amide': 10.0, 'Nitrile to acid': 10.0, 'Halogenation': 10.0, 'Other reductions': 10.0, 'Other functional group interconversion': 10.0, 'RCO2H deprotections': 10.0, 'O-acylation to ester': 10.0, 'S-substitution': 10.0, 'Stille reaction': 10.0, 'RCO2H protections': 10.0, 'O-containing heterocycle formation': 10.0, 'Acid to acid chloride': 10.0, 'Alkene to alkane': 10.0, 'Alcohols to aldehydes': 10.0, 'Heteroaryl N-alkylation': 10.0, 'Alkene oxidative cleavage': 10.0, 'Ester to alcohol': 10.0}\n",
      "19\n",
      "['O-acylation to ester', 'Other reductions', 'O-containing heterocycle formation', 'Oxidations at sulfur', 'ROH deprotections', 'Reductive amination', 'S-substitution', 'Nitro to amine reduction', 'Ketone to alcohol', 'O-substitution', 'Other Pd-catalyzed reactions (Negishi,Kumada,etc.)', 'N-arylation with Ar-X', 'Alcohols to aldehydes', 'Nitrile to acid', 'Heteroaryl N-alkylation', 'Other functional group addition', 'NH deprotections', 'Halogenation', 'RCO2H deprotections']\n",
      "{'O-acylation to ester': 10.0, 'Other reductions': 10.0, 'O-containing heterocycle formation': 10.0, 'Oxidations at sulfur': 10.0, 'ROH deprotections': 10.0, 'Reductive amination': 10.0, 'S-substitution': 10.0, 'Nitro to amine reduction': 10.0, 'Ketone to alcohol': 10.0, 'O-substitution': 10.0, 'Other Pd-catalyzed reactions (Negishi,Kumada,etc.)': 10.0, 'N-arylation with Ar-X': 10.0, 'Alcohols to aldehydes': 10.0, 'Nitrile to acid': 10.0, 'Heteroaryl N-alkylation': 10.0, 'Other functional group addition': 10.0, 'NH deprotections': 10.0, 'Halogenation': 10.0, 'RCO2H deprotections': 10.0}\n",
      "20\n",
      "['ROH deprotections', 'O-substitution', 'O-acylation to ester', 'ROH protections', 'Nitro to amine reduction', 'NH protections', 'Ketone to alcohol', 'Heteroaryl N-alkylation', 'Acid to acid chloride', 'RCO2H deprotections', 'Cyano or imine to amine', 'Other reductions', 'N-substitution with alkyl-X', 'N-acylation to amide', 'Stille reaction', 'NH deprotections', 'Alkene oxidative cleavage', 'Alcohol to halide', 'Unassigned', 'N-arylation with Ar-X']\n",
      "{'ROH deprotections': 10.0, 'O-substitution': 10.0, 'O-acylation to ester': 10.0, 'ROH protections': 10.0, 'Nitro to amine reduction': 10.0, 'NH protections': 10.0, 'Ketone to alcohol': 10.0, 'Heteroaryl N-alkylation': 10.0, 'Acid to acid chloride': 10.0, 'RCO2H deprotections': 10.0, 'Cyano or imine to amine': 10.0, 'Other reductions': 10.0, 'N-substitution with alkyl-X': 10.0, 'N-acylation to amide': 10.0, 'Stille reaction': 10.0, 'NH deprotections': 10.0, 'Alkene oxidative cleavage': 10.0, 'Alcohol to halide': 10.0, 'Unassigned': 10.0, 'N-arylation with Ar-X': 10.0}\n",
      "21\n",
      "['ROH deprotections', 'Other functional group interconversion', 'O-substitution', 'Acid to acid chloride', 'Ester to alcohol', 'Stille reaction', 'Other functional group addition', 'Alcohol to halide', 'Cyano or imine to amine', 'Other reductions', 'Alcohols to aldehydes', 'Unassigned', 'N-substitution with alkyl-X', 'RCO2H deprotections', 'Amide to amine reduction', 'Alkene oxidative cleavage', 'NH deprotections', 'RCO2H protections', 'Friedel-Crafts reaction', 'Halogenation', 'Nitrile to acid']\n",
      "{'ROH deprotections': 10.0, 'Other functional group interconversion': 10.0, 'O-substitution': 10.0, 'Acid to acid chloride': 10.0, 'Ester to alcohol': 10.0, 'Stille reaction': 10.0, 'Other functional group addition': 10.0, 'Alcohol to halide': 10.0, 'Cyano or imine to amine': 10.0, 'Other reductions': 10.0, 'Alcohols to aldehydes': 10.0, 'Unassigned': 10.0, 'N-substitution with alkyl-X': 10.0, 'RCO2H deprotections': 10.0, 'Amide to amine reduction': 10.0, 'Alkene oxidative cleavage': 10.0, 'NH deprotections': 10.0, 'RCO2H protections': 10.0, 'Friedel-Crafts reaction': 10.0, 'Halogenation': 10.0, 'Nitrile to acid': 10.0}\n",
      "22\n",
      "['Halogenation', 'Unassigned', 'O-substitution', 'Friedel-Crafts reaction', 'Amide to amine reduction', 'N-arylation with Ar-X', 'Other functional group interconversion', 'Alkene to alkane', 'Acid to acid chloride', 'Nitrile to acid', 'Nitro to amine reduction', 'Heteroaryl N-alkylation', 'Alkene oxidative cleavage', 'ROH deprotections', 'N-acylation to amide', 'Oxidations at sulfur', 'O-containing heterocycle formation', 'Stille reaction', 'Alcohol to halide', 'S-substitution', 'RCO2H deprotections', 'Ester to alcohol']\n",
      "{'Halogenation': 10.0, 'Unassigned': 10.0, 'O-substitution': 10.0, 'Friedel-Crafts reaction': 10.0, 'Amide to amine reduction': 10.0, 'N-arylation with Ar-X': 10.0, 'Other functional group interconversion': 10.0, 'Alkene to alkane': 10.0, 'Acid to acid chloride': 10.0, 'Nitrile to acid': 10.0, 'Nitro to amine reduction': 10.0, 'Heteroaryl N-alkylation': 10.0, 'Alkene oxidative cleavage': 10.0, 'ROH deprotections': 10.0, 'N-acylation to amide': 10.0, 'Oxidations at sulfur': 10.0, 'O-containing heterocycle formation': 10.0, 'Stille reaction': 10.0, 'Alcohol to halide': 10.0, 'S-substitution': 10.0, 'RCO2H deprotections': 10.0, 'Ester to alcohol': 10.0}\n",
      "23\n",
      "['Oxidations at sulfur', 'Other functional group interconversion', 'O-containing heterocycle formation', 'NH protections', 'Acid to acid chloride', 'Nitrile to acid', 'Halogenation', 'Alkene oxidative cleavage', 'O-acylation to ester', 'Stille reaction', 'Alkene to alkane', 'RCO2H protections', 'O-substitution', 'Friedel-Crafts reaction', 'Other Pd-catalyzed reactions (Negishi,Kumada,etc.)', 'Alcohol to halide', 'Ketone to alcohol', 'Nitro to amine reduction', 'Other functional group addition', 'Alcohols to aldehydes', 'NH deprotections', 'N-arylation with Ar-X', 'Other reductions']\n",
      "{'Oxidations at sulfur': 10.0, 'Other functional group interconversion': 10.0, 'O-containing heterocycle formation': 10.0, 'NH protections': 10.0, 'Acid to acid chloride': 10.0, 'Nitrile to acid': 10.0, 'Halogenation': 10.0, 'Alkene oxidative cleavage': 10.0, 'O-acylation to ester': 10.0, 'Stille reaction': 10.0, 'Alkene to alkane': 10.0, 'RCO2H protections': 10.0, 'O-substitution': 10.0, 'Friedel-Crafts reaction': 10.0, 'Other Pd-catalyzed reactions (Negishi,Kumada,etc.)': 10.0, 'Alcohol to halide': 10.0, 'Ketone to alcohol': 10.0, 'Nitro to amine reduction': 10.0, 'Other functional group addition': 10.0, 'Alcohols to aldehydes': 10.0, 'NH deprotections': 10.0, 'N-arylation with Ar-X': 10.0, 'Other reductions': 10.0}\n",
      "24\n",
      "['Oxidations at sulfur', 'Cyano or imine to amine', 'N-substitution with alkyl-X', 'Alkene to alkane', 'Nitro to amine reduction', 'Other functional group addition', 'RCO2H deprotections', 'Unassigned', 'NH deprotections', 'S-substitution', 'ROH protections', 'Stille reaction', 'Alcohols to aldehydes', 'N-acylation to amide', 'NH protections', 'Alkene oxidative cleavage', 'N-arylation with Ar-X', 'O-containing heterocycle formation', 'Other reductions', 'Reductive amination', 'Ketone to alcohol', 'Halogenation', 'Amide to amine reduction', 'Other functional group interconversion']\n",
      "{'Oxidations at sulfur': 10.0, 'Cyano or imine to amine': 10.0, 'N-substitution with alkyl-X': 10.0, 'Alkene to alkane': 10.0, 'Nitro to amine reduction': 10.0, 'Other functional group addition': 10.0, 'RCO2H deprotections': 10.0, 'Unassigned': 10.0, 'NH deprotections': 10.0, 'S-substitution': 10.0, 'ROH protections': 10.0, 'Stille reaction': 10.0, 'Alcohols to aldehydes': 10.0, 'N-acylation to amide': 10.0, 'NH protections': 10.0, 'Alkene oxidative cleavage': 10.0, 'N-arylation with Ar-X': 10.0, 'O-containing heterocycle formation': 10.0, 'Other reductions': 10.0, 'Reductive amination': 10.0, 'Ketone to alcohol': 10.0, 'Halogenation': 10.0, 'Amide to amine reduction': 10.0, 'Other functional group interconversion': 10.0}\n",
      "25\n",
      "['O-acylation to ester', 'Other functional group addition', 'O-containing heterocycle formation', 'Unassigned', 'N-substitution with alkyl-X', 'Friedel-Crafts reaction', 'NH protections', 'Nitro to amine reduction', 'Heteroaryl N-alkylation', 'S-substitution', 'Other Pd-catalyzed reactions (Negishi,Kumada,etc.)', 'Alkene oxidative cleavage', 'Ester to alcohol', 'Alcohol to halide', 'Ketone to alcohol', 'Oxidations at sulfur', 'RCO2H protections', 'ROH deprotections', 'Cyano or imine to amine', 'Stille reaction', 'Alkene to alkane', 'Alcohols to aldehydes', 'Reductive amination', 'Nitrile to acid', 'Halogenation']\n",
      "{'O-acylation to ester': 10.0, 'Other functional group addition': 10.0, 'O-containing heterocycle formation': 10.0, 'Unassigned': 10.0, 'N-substitution with alkyl-X': 10.0, 'Friedel-Crafts reaction': 10.0, 'NH protections': 10.0, 'Nitro to amine reduction': 10.0, 'Heteroaryl N-alkylation': 10.0, 'S-substitution': 10.0, 'Other Pd-catalyzed reactions (Negishi,Kumada,etc.)': 10.0, 'Alkene oxidative cleavage': 10.0, 'Ester to alcohol': 10.0, 'Alcohol to halide': 10.0, 'Ketone to alcohol': 10.0, 'Oxidations at sulfur': 10.0, 'RCO2H protections': 10.0, 'ROH deprotections': 10.0, 'Cyano or imine to amine': 10.0, 'Stille reaction': 10.0, 'Alkene to alkane': 10.0, 'Alcohols to aldehydes': 10.0, 'Reductive amination': 10.0, 'Nitrile to acid': 10.0, 'Halogenation': 10.0}\n",
      "26\n",
      "['Other Pd-catalyzed reactions (Negishi,Kumada,etc.)', 'Other functional group addition', 'Alcohols to aldehydes', 'Alkene oxidative cleavage', 'Stille reaction', 'Nitro to amine reduction', 'NH deprotections', 'ROH protections', 'O-acylation to ester', 'NH protections', 'Alcohol to halide', 'Unassigned', 'Nitrile to acid', 'Friedel-Crafts reaction', 'Ketone to alcohol', 'O-substitution', 'N-acylation to amide', 'Reductive amination', 'ROH deprotections', 'Halogenation', 'Ester to alcohol', 'RCO2H protections', 'Other functional group interconversion', 'Alkene to alkane', 'S-substitution', 'RCO2H deprotections']\n",
      "{'Other Pd-catalyzed reactions (Negishi,Kumada,etc.)': 10.0, 'Other functional group addition': 10.0, 'Alcohols to aldehydes': 10.0, 'Alkene oxidative cleavage': 10.0, 'Stille reaction': 10.0, 'Nitro to amine reduction': 10.0, 'NH deprotections': 10.0, 'ROH protections': 10.0, 'O-acylation to ester': 10.0, 'NH protections': 10.0, 'Alcohol to halide': 10.0, 'Unassigned': 10.0, 'Nitrile to acid': 10.0, 'Friedel-Crafts reaction': 10.0, 'Ketone to alcohol': 10.0, 'O-substitution': 10.0, 'N-acylation to amide': 10.0, 'Reductive amination': 10.0, 'ROH deprotections': 10.0, 'Halogenation': 10.0, 'Ester to alcohol': 10.0, 'RCO2H protections': 10.0, 'Other functional group interconversion': 10.0, 'Alkene to alkane': 10.0, 'S-substitution': 10.0, 'RCO2H deprotections': 10.0}\n",
      "27\n",
      "['RCO2H protections', 'O-containing heterocycle formation', 'NH protections', 'Alkene to alkane', 'Acid to acid chloride', 'Unassigned', 'Heteroaryl N-alkylation', 'N-acylation to amide', 'Stille reaction', 'ROH protections', 'ROH deprotections', 'S-substitution', 'Ketone to alcohol', 'N-arylation with Ar-X', 'Reductive amination', 'Oxidations at sulfur', 'Halogenation', 'N-substitution with alkyl-X', 'Nitro to amine reduction', 'Other reductions', 'Cyano or imine to amine', 'Nitrile to acid', 'O-acylation to ester', 'RCO2H deprotections', 'Alkene oxidative cleavage', 'Friedel-Crafts reaction', 'Alcohols to aldehydes']\n",
      "{'RCO2H protections': 10.0, 'O-containing heterocycle formation': 10.0, 'NH protections': 10.0, 'Alkene to alkane': 10.0, 'Acid to acid chloride': 10.0, 'Unassigned': 10.0, 'Heteroaryl N-alkylation': 10.0, 'N-acylation to amide': 10.0, 'Stille reaction': 10.0, 'ROH protections': 10.0, 'ROH deprotections': 10.0, 'S-substitution': 10.0, 'Ketone to alcohol': 10.0, 'N-arylation with Ar-X': 10.0, 'Reductive amination': 10.0, 'Oxidations at sulfur': 10.0, 'Halogenation': 10.0, 'N-substitution with alkyl-X': 10.0, 'Nitro to amine reduction': 10.0, 'Other reductions': 10.0, 'Cyano or imine to amine': 10.0, 'Nitrile to acid': 10.0, 'O-acylation to ester': 10.0, 'RCO2H deprotections': 10.0, 'Alkene oxidative cleavage': 10.0, 'Friedel-Crafts reaction': 10.0, 'Alcohols to aldehydes': 10.0}\n",
      "28\n",
      "['Cyano or imine to amine', 'Halogenation', 'Oxidations at sulfur', 'O-containing heterocycle formation', 'Reductive amination', 'O-substitution', 'Alcohols to aldehydes', 'NH deprotections', 'Heteroaryl N-alkylation', 'NH protections', 'Acid to acid chloride', 'O-acylation to ester', 'Other Pd-catalyzed reactions (Negishi,Kumada,etc.)', 'Other functional group interconversion', 'RCO2H deprotections', 'N-substitution with alkyl-X', 'N-acylation to amide', 'Other functional group addition', 'Unassigned', 'RCO2H protections', 'ROH protections', 'Ketone to alcohol', 'ROH deprotections', 'Alkene to alkane', 'Friedel-Crafts reaction', 'Stille reaction', 'Alcohol to halide', 'S-substitution']\n",
      "{'Cyano or imine to amine': 10.0, 'Halogenation': 10.0, 'Oxidations at sulfur': 10.0, 'O-containing heterocycle formation': 10.0, 'Reductive amination': 10.0, 'O-substitution': 10.0, 'Alcohols to aldehydes': 10.0, 'NH deprotections': 10.0, 'Heteroaryl N-alkylation': 10.0, 'NH protections': 10.0, 'Acid to acid chloride': 10.0, 'O-acylation to ester': 10.0, 'Other Pd-catalyzed reactions (Negishi,Kumada,etc.)': 10.0, 'Other functional group interconversion': 10.0, 'RCO2H deprotections': 10.0, 'N-substitution with alkyl-X': 10.0, 'N-acylation to amide': 10.0, 'Other functional group addition': 10.0, 'Unassigned': 10.0, 'RCO2H protections': 10.0, 'ROH protections': 10.0, 'Ketone to alcohol': 10.0, 'ROH deprotections': 10.0, 'Alkene to alkane': 10.0, 'Friedel-Crafts reaction': 10.0, 'Stille reaction': 10.0, 'Alcohol to halide': 10.0, 'S-substitution': 10.0}\n",
      "29\n",
      "['Other reductions', 'NH deprotections', 'Alkene oxidative cleavage', 'O-containing heterocycle formation', 'Other functional group interconversion', 'N-acylation to amide', 'NH protections', 'RCO2H deprotections', 'Ketone to alcohol', 'S-substitution', 'O-acylation to ester', 'Nitrile to acid', 'Alcohols to aldehydes', 'Cyano or imine to amine', 'RCO2H protections', 'Reductive amination', 'Unassigned', 'Friedel-Crafts reaction', 'Alcohol to halide', 'ROH protections', 'Halogenation', 'O-substitution', 'Nitro to amine reduction', 'Acid to acid chloride', 'N-arylation with Ar-X', 'Ester to alcohol', 'Oxidations at sulfur', 'Alkene to alkane', 'Amide to amine reduction']\n",
      "{'Other reductions': 10.0, 'NH deprotections': 10.0, 'Alkene oxidative cleavage': 10.0, 'O-containing heterocycle formation': 10.0, 'Other functional group interconversion': 10.0, 'N-acylation to amide': 10.0, 'NH protections': 10.0, 'RCO2H deprotections': 10.0, 'Ketone to alcohol': 10.0, 'S-substitution': 10.0, 'O-acylation to ester': 10.0, 'Nitrile to acid': 10.0, 'Alcohols to aldehydes': 10.0, 'Cyano or imine to amine': 10.0, 'RCO2H protections': 10.0, 'Reductive amination': 10.0, 'Unassigned': 10.0, 'Friedel-Crafts reaction': 10.0, 'Alcohol to halide': 10.0, 'ROH protections': 10.0, 'Halogenation': 10.0, 'O-substitution': 10.0, 'Nitro to amine reduction': 10.0, 'Acid to acid chloride': 10.0, 'N-arylation with Ar-X': 10.0, 'Ester to alcohol': 10.0, 'Oxidations at sulfur': 10.0, 'Alkene to alkane': 10.0, 'Amide to amine reduction': 10.0}\n",
      "30\n",
      "['N-arylation with Ar-X', 'Ketone to alcohol', 'O-substitution', 'Unassigned', 'N-acylation to amide', 'Other functional group addition', 'Reductive amination', 'Alcohol to halide', 'S-substitution', 'NH deprotections', 'Alkene oxidative cleavage', 'Halogenation', 'ROH deprotections', 'Acid to acid chloride', 'Stille reaction', 'Alcohols to aldehydes', 'ROH protections', 'O-containing heterocycle formation', 'RCO2H deprotections', 'O-acylation to ester', 'Cyano or imine to amine', 'Friedel-Crafts reaction', 'Oxidations at sulfur', 'Other reductions', 'Heteroaryl N-alkylation', 'Other functional group interconversion', 'RCO2H protections', 'Other Pd-catalyzed reactions (Negishi,Kumada,etc.)', 'Amide to amine reduction', 'Ester to alcohol']\n",
      "{'N-arylation with Ar-X': 10.0, 'Ketone to alcohol': 10.0, 'O-substitution': 10.0, 'Unassigned': 10.0, 'N-acylation to amide': 10.0, 'Other functional group addition': 10.0, 'Reductive amination': 10.0, 'Alcohol to halide': 10.0, 'S-substitution': 10.0, 'NH deprotections': 10.0, 'Alkene oxidative cleavage': 10.0, 'Halogenation': 10.0, 'ROH deprotections': 10.0, 'Acid to acid chloride': 10.0, 'Stille reaction': 10.0, 'Alcohols to aldehydes': 10.0, 'ROH protections': 10.0, 'O-containing heterocycle formation': 10.0, 'RCO2H deprotections': 10.0, 'O-acylation to ester': 10.0, 'Cyano or imine to amine': 10.0, 'Friedel-Crafts reaction': 10.0, 'Oxidations at sulfur': 10.0, 'Other reductions': 10.0, 'Heteroaryl N-alkylation': 10.0, 'Other functional group interconversion': 10.0, 'RCO2H protections': 10.0, 'Other Pd-catalyzed reactions (Negishi,Kumada,etc.)': 10.0, 'Amide to amine reduction': 10.0, 'Ester to alcohol': 10.0}\n",
      "31\n",
      "['ROH protections', 'ROH deprotections', 'O-containing heterocycle formation', 'Unassigned', 'O-substitution', 'Alcohols to aldehydes', 'O-acylation to ester', 'Reductive amination', 'Ester to alcohol', 'Stille reaction', 'Alcohol to halide', 'N-acylation to amide', 'Other reductions', 'Nitrile to acid', 'Other functional group addition', 'Other Pd-catalyzed reactions (Negishi,Kumada,etc.)', 'N-arylation with Ar-X', 'NH protections', 'Ketone to alcohol', 'N-substitution with alkyl-X', 'Nitro to amine reduction', 'Amide to amine reduction', 'Acid to acid chloride', 'RCO2H protections', 'S-substitution', 'Friedel-Crafts reaction', 'Alkene to alkane', 'Cyano or imine to amine', 'Halogenation', 'Other functional group interconversion', 'NH deprotections']\n",
      "{'ROH protections': 10.0, 'ROH deprotections': 10.0, 'O-containing heterocycle formation': 10.0, 'Unassigned': 10.0, 'O-substitution': 10.0, 'Alcohols to aldehydes': 10.0, 'O-acylation to ester': 10.0, 'Reductive amination': 10.0, 'Ester to alcohol': 10.0, 'Stille reaction': 10.0, 'Alcohol to halide': 10.0, 'N-acylation to amide': 10.0, 'Other reductions': 10.0, 'Nitrile to acid': 10.0, 'Other functional group addition': 10.0, 'Other Pd-catalyzed reactions (Negishi,Kumada,etc.)': 10.0, 'N-arylation with Ar-X': 10.0, 'NH protections': 10.0, 'Ketone to alcohol': 10.0, 'N-substitution with alkyl-X': 10.0, 'Nitro to amine reduction': 10.0, 'Amide to amine reduction': 10.0, 'Acid to acid chloride': 10.0, 'RCO2H protections': 10.0, 'S-substitution': 10.0, 'Friedel-Crafts reaction': 10.0, 'Alkene to alkane': 10.0, 'Cyano or imine to amine': 10.0, 'Halogenation': 10.0, 'Other functional group interconversion': 10.0, 'NH deprotections': 10.0}\n",
      "32\n",
      "['Acid to acid chloride', 'ROH deprotections', 'Ketone to alcohol', 'Amide to amine reduction', 'S-substitution', 'RCO2H deprotections', 'NH deprotections', 'Cyano or imine to amine', 'Other functional group interconversion', 'Nitrile to acid', 'O-containing heterocycle formation', 'Heteroaryl N-alkylation', 'Other Pd-catalyzed reactions (Negishi,Kumada,etc.)', 'Friedel-Crafts reaction', 'O-acylation to ester', 'NH protections', 'Ester to alcohol', 'N-substitution with alkyl-X', 'Oxidations at sulfur', 'ROH protections', 'RCO2H protections', 'Alcohol to halide', 'Stille reaction', 'Unassigned', 'O-substitution', 'Reductive amination', 'Other functional group addition', 'Alkene oxidative cleavage', 'N-acylation to amide', 'Other reductions', 'N-arylation with Ar-X', 'Nitro to amine reduction']\n",
      "{'Acid to acid chloride': 10.0, 'ROH deprotections': 10.0, 'Ketone to alcohol': 10.0, 'Amide to amine reduction': 10.0, 'S-substitution': 10.0, 'RCO2H deprotections': 10.0, 'NH deprotections': 10.0, 'Cyano or imine to amine': 10.0, 'Other functional group interconversion': 10.0, 'Nitrile to acid': 10.0, 'O-containing heterocycle formation': 10.0, 'Heteroaryl N-alkylation': 10.0, 'Other Pd-catalyzed reactions (Negishi,Kumada,etc.)': 10.0, 'Friedel-Crafts reaction': 10.0, 'O-acylation to ester': 10.0, 'NH protections': 10.0, 'Ester to alcohol': 10.0, 'N-substitution with alkyl-X': 10.0, 'Oxidations at sulfur': 10.0, 'ROH protections': 10.0, 'RCO2H protections': 10.0, 'Alcohol to halide': 10.0, 'Stille reaction': 10.0, 'Unassigned': 10.0, 'O-substitution': 10.0, 'Reductive amination': 10.0, 'Other functional group addition': 10.0, 'Alkene oxidative cleavage': 10.0, 'N-acylation to amide': 10.0, 'Other reductions': 10.0, 'N-arylation with Ar-X': 10.0, 'Nitro to amine reduction': 10.0}\n",
      "33\n",
      "['RCO2H deprotections', 'Ketone to alcohol', 'Nitro to amine reduction', 'Other reductions', 'Unassigned', 'O-substitution', 'N-arylation with Ar-X', 'Acid to acid chloride', 'Stille reaction', 'Alkene to alkane', 'O-containing heterocycle formation', 'S-substitution', 'NH deprotections', 'O-acylation to ester', 'Other Pd-catalyzed reactions (Negishi,Kumada,etc.)', 'Alkene oxidative cleavage', 'ROH protections', 'Heteroaryl N-alkylation', 'Other functional group interconversion', 'Friedel-Crafts reaction', 'N-acylation to amide', 'Oxidations at sulfur', 'Cyano or imine to amine', 'NH protections', 'Amide to amine reduction', 'Alcohols to aldehydes', 'Ester to alcohol', 'Nitrile to acid', 'Halogenation', 'N-substitution with alkyl-X', 'Reductive amination', 'Other functional group addition', 'RCO2H protections']\n",
      "{'RCO2H deprotections': 10.0, 'Ketone to alcohol': 10.0, 'Nitro to amine reduction': 10.0, 'Other reductions': 10.0, 'Unassigned': 10.0, 'O-substitution': 10.0, 'N-arylation with Ar-X': 10.0, 'Acid to acid chloride': 10.0, 'Stille reaction': 10.0, 'Alkene to alkane': 10.0, 'O-containing heterocycle formation': 10.0, 'S-substitution': 10.0, 'NH deprotections': 10.0, 'O-acylation to ester': 10.0, 'Other Pd-catalyzed reactions (Negishi,Kumada,etc.)': 10.0, 'Alkene oxidative cleavage': 10.0, 'ROH protections': 10.0, 'Heteroaryl N-alkylation': 10.0, 'Other functional group interconversion': 10.0, 'Friedel-Crafts reaction': 10.0, 'N-acylation to amide': 10.0, 'Oxidations at sulfur': 10.0, 'Cyano or imine to amine': 10.0, 'NH protections': 10.0, 'Amide to amine reduction': 10.0, 'Alcohols to aldehydes': 10.0, 'Ester to alcohol': 10.0, 'Nitrile to acid': 10.0, 'Halogenation': 10.0, 'N-substitution with alkyl-X': 10.0, 'Reductive amination': 10.0, 'Other functional group addition': 10.0, 'RCO2H protections': 10.0}\n",
      "34\n",
      "['Oxidations at sulfur', 'O-substitution', 'Amide to amine reduction', 'Unassigned', 'Ketone to alcohol', 'Alkene oxidative cleavage', 'Ester to alcohol', 'Other reductions', 'Alcohols to aldehydes', 'N-arylation with Ar-X', 'Reductive amination', 'O-acylation to ester', 'Alcohol to halide', 'Acid to acid chloride', 'Stille reaction', 'N-acylation to amide', 'RCO2H protections', 'Halogenation', 'S-substitution', 'Nitro to amine reduction', 'O-containing heterocycle formation', 'NH protections', 'Cyano or imine to amine', 'RCO2H deprotections', 'Heteroaryl N-alkylation', 'Other functional group interconversion', 'ROH deprotections', 'NH deprotections', 'ROH protections', 'Alkene to alkane', 'Nitrile to acid', 'Friedel-Crafts reaction', 'Other Pd-catalyzed reactions (Negishi,Kumada,etc.)', 'N-substitution with alkyl-X']\n",
      "{'Oxidations at sulfur': 10.0, 'O-substitution': 10.0, 'Amide to amine reduction': 10.0, 'Unassigned': 10.0, 'Ketone to alcohol': 10.0, 'Alkene oxidative cleavage': 10.0, 'Ester to alcohol': 10.0, 'Other reductions': 10.0, 'Alcohols to aldehydes': 10.0, 'N-arylation with Ar-X': 10.0, 'Reductive amination': 10.0, 'O-acylation to ester': 10.0, 'Alcohol to halide': 10.0, 'Acid to acid chloride': 10.0, 'Stille reaction': 10.0, 'N-acylation to amide': 10.0, 'RCO2H protections': 10.0, 'Halogenation': 10.0, 'S-substitution': 10.0, 'Nitro to amine reduction': 10.0, 'O-containing heterocycle formation': 10.0, 'NH protections': 10.0, 'Cyano or imine to amine': 10.0, 'RCO2H deprotections': 10.0, 'Heteroaryl N-alkylation': 10.0, 'Other functional group interconversion': 10.0, 'ROH deprotections': 10.0, 'NH deprotections': 10.0, 'ROH protections': 10.0, 'Alkene to alkane': 10.0, 'Nitrile to acid': 10.0, 'Friedel-Crafts reaction': 10.0, 'Other Pd-catalyzed reactions (Negishi,Kumada,etc.)': 10.0, 'N-substitution with alkyl-X': 10.0}\n"
     ]
    }
   ],
   "source": [
    "import random\n",
    "\n",
    "for index in range(len(opt_list)):\n",
    "    t_list = random.sample(opt_list, index)\n",
    "    print(len(t_list))\n",
    "    print(t_list)\n",
    "\n",
    "    t_dict = {}\n",
    "    for i in t_list:\n",
    "        t_dict[i] = 10.0\n",
    "\n",
    "    print(t_dict)\n",
    "    \n",
    "    with open('/data/localhost/not-backed-up/mokaya/exscientia/aizynthfinder/Maranga/experiments/target_2/opt_dicts/opt13_'+str(index)+'b_class.json', 'w') as f:\n",
    "        json.dump(t_dict , f)\n",
    "    \n",
    "    t_list = []\n",
    "        "
   ]
  },
  {
   "cell_type": "code",
   "execution_count": null,
   "metadata": {},
   "outputs": [],
   "source": []
  }
 ],
 "metadata": {
  "kernelspec": {
   "display_name": "aizynthfinder",
   "language": "python",
   "name": "aizynthfinder"
  },
  "language_info": {
   "codemirror_mode": {
    "name": "ipython",
    "version": 3
   },
   "file_extension": ".py",
   "mimetype": "text/x-python",
   "name": "python",
   "nbconvert_exporter": "python",
   "pygments_lexer": "ipython3",
   "version": "3.8.8"
  }
 },
 "nbformat": 4,
 "nbformat_minor": 4
}