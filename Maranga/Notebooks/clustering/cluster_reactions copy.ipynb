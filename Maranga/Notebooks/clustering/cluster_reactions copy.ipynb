{
 "cells": [
  {
   "cell_type": "code",
   "execution_count": 2,
   "metadata": {},
   "outputs": [],
   "source": [
    "import os \n",
    "import sys\n",
    "\n",
    "sys.path.append('../../')\n",
    "\n",
    "import pandas as pd\n",
    "import numpy as np\n",
    "import sklearn\n",
    "import json\n",
    "\n",
    "from rdkit.Chem import rdChemReactions\n",
    "from rdkit import DataStructs\n",
    "\n",
    "import aizynthfinder.analysis\n",
    "from aizynthfinder.mcts.node import Node\n",
    "from aizynthfinder.analysis import ReactionTree\n",
    "from aizynthfinder.mcts.state import State\n",
    "from aizynthfinder.chem import TreeMolecule\n",
    "from aizynthfinder.context.collection import ContextCollection\n",
    "from aizynthfinder.context.stock import StockException\n",
    "\n",
    "import Maranga.utils.parse_multismiles as mutils\n",
    "from Maranga.utils.butina_clustering import SmartsCluster\n"
   ]
  },
  {
   "cell_type": "code",
   "execution_count": 43,
   "metadata": {},
   "outputs": [],
   "source": [
    "input_filename = '/data/localhost/not-backed-up/mokaya/exscientia/aizynthfinder/Maranga/experiments/explore/results/tg1_explore_1.hdf5'\n"
   ]
  },
  {
   "cell_type": "code",
   "execution_count": 3,
   "metadata": {},
   "outputs": [],
   "source": [
    "input = '/data/localhost/not-backed-up/mokaya/exscientia/aizynthfinder/Maranga/experiments/explore/results/tg1_a_aug0_results.json'\n",
    "with open(input) as inf:\n",
    "    jsonfile = json.load(inf)"
   ]
  },
  {
   "cell_type": "code",
   "execution_count": 4,
   "metadata": {},
   "outputs": [],
   "source": [
    "config_file = '/data/localhost/not-backed-up/mokaya/exscientia/aizynthfinder/Maranga/experiments/explore/config.yml'"
   ]
  },
  {
   "cell_type": "code",
   "execution_count": 45,
   "metadata": {},
   "outputs": [],
   "source": [
    "#read in data file\n",
    "data = mutils.read_hdf(input_filename)\n",
    "solved_data = data.loc[(data.is_solved==True)]\n",
    "solved_trees = mutils.collect_trees(solved_data)"
   ]
  },
  {
   "cell_type": "code",
   "execution_count": 6,
   "metadata": {},
   "outputs": [
    {
     "output_type": "stream",
     "name": "stdout",
     "text": [
      "{'type': 'mol', 'hide': False, 'smiles': 'N#CCCN1CCN(C(CNS(=O)(=O)c2ccc(Cl)cc2)c2ccccc2)CC1', 'is_chemical': True, 'in_stock': False, 'children': [{'type': 'reaction', 'hide': False, 'smiles': '[C:1]([CH3:2])([cH3:3])[N:5]([CH3:4])[CH3:6]>>Br[C:1]([CH3:2])[cH3:3].[CH3:4][N:5][CH3:6]', 'is_reaction': True, 'metadata': {'template_hash': '2fbf3ea24a021eafe714a6863ba7f5fc5a496b4c3332dd618d244dfe', 'classification': 'Heteroaryl N-alkylation', 'library_occurence': 39, 'policy_probability': 0.0007999999797903001, 'policy_name': 'uspto', 'template_code': 8674}, 'children': [{'type': 'mol', 'hide': False, 'smiles': 'N#CCCN1CCNCC1', 'is_chemical': True, 'in_stock': True}, {'type': 'mol', 'hide': False, 'smiles': 'O=S(=O)(NCC(Br)c1ccccc1)c1ccc(Cl)cc1', 'is_chemical': True, 'in_stock': False, 'children': [{'type': 'reaction', 'hide': False, 'smiles': '[C:1]([NH2:2])[CH3:3]>>O=[C:1]([NH2:2])[CH3:3]', 'is_reaction': True, 'metadata': {'template_hash': '164bcd5926595fb14a6a9bdfa6263711f1e81657ce47f1a9ea439ccb', 'classification': 'Amide to amine reduction', 'library_occurence': 1676, 'policy_probability': 0.0015999999595806003, 'policy_name': 'uspto', 'template_code': 4087}, 'children': [{'type': 'mol', 'hide': False, 'smiles': 'O=C(NS(=O)(=O)c1ccc(Cl)cc1)C(Br)c1ccccc1', 'is_chemical': True, 'in_stock': False, 'children': [{'type': 'reaction', 'hide': False, 'smiles': '[C:1]([CH3:2])(=[O:3])[N:4][S:5](=[O:6])(=[O:7])[cH3:8]>>O[C:1]([CH3:2])=[O:3].[N:4][S:5](=[O:6])(=[O:7])[cH3:8]', 'is_reaction': True, 'metadata': {'template_hash': '4706e6cfa0d924430570646678e66958822140d1963f55fba6317d0e', 'classification': 'N-acylation to amide', 'library_occurence': 151, 'policy_probability': 0.2757999897003174, 'policy_name': 'uspto', 'template_code': 13000}, 'children': [{'type': 'mol', 'hide': False, 'smiles': 'NS(=O)(=O)c1ccc(Cl)cc1', 'is_chemical': True, 'in_stock': True}, {'type': 'mol', 'hide': False, 'smiles': 'O=C(O)C(Br)c1ccccc1', 'is_chemical': True, 'in_stock': False, 'children': [{'type': 'reaction', 'hide': False, 'smiles': '[Br:1][C:5]([C:3](=[O:2])[OH:4])[cH3:6]>>O=C1CCC(=O)N1[Br:1].[O:2]=[C:3]([OH:4])[C:5][cH3:6]', 'is_reaction': True, 'metadata': {'template_hash': 'd657e39736321b514ec1b19399aef5f74d4ad26a8d8c75b998b45919', 'classification': 'Halogenation', 'library_occurence': 12, 'policy_probability': 0.7285000085830688, 'policy_name': 'uspto', 'template_code': 39213}, 'children': [{'type': 'mol', 'hide': False, 'smiles': 'O=C(O)Cc1ccccc1', 'is_chemical': True, 'in_stock': True}, {'type': 'mol', 'hide': False, 'smiles': 'O=C1CCC(=O)N1Br', 'is_chemical': True, 'in_stock': True}]}]}]}]}]}]}]}]}\n"
     ]
    }
   ],
   "source": [
    "print(jsonfile[0])"
   ]
  },
  {
   "cell_type": "code",
   "execution_count": 5,
   "metadata": {},
   "outputs": [
    {
     "output_type": "error",
     "ename": "TypeError",
     "evalue": "string indices must be integers",
     "traceback": [
      "\u001b[0;31m---------------------------------------------------------------------------\u001b[0m",
      "\u001b[0;31mTypeError\u001b[0m                                 Traceback (most recent call last)",
      "\u001b[0;32m<ipython-input-5-b2db329d8849>\u001b[0m in \u001b[0;36m<module>\u001b[0;34m\u001b[0m\n\u001b[0;32m----> 1\u001b[0;31m \u001b[0mcosts\u001b[0m \u001b[0;34m=\u001b[0m \u001b[0;34m[\u001b[0m\u001b[0mmutils\u001b[0m\u001b[0;34m.\u001b[0m\u001b[0mcalculate_cost_from_trees\u001b[0m\u001b[0;34m(\u001b[0m\u001b[0mi\u001b[0m\u001b[0;34m,\u001b[0m \u001b[0mconfig_file\u001b[0m\u001b[0;34m)\u001b[0m \u001b[0;32mfor\u001b[0m \u001b[0mi\u001b[0m \u001b[0;32min\u001b[0m \u001b[0mjsonfile\u001b[0m\u001b[0;34m]\u001b[0m\u001b[0;34m\u001b[0m\u001b[0;34m\u001b[0m\u001b[0m\n\u001b[0m",
      "\u001b[0;32m<ipython-input-5-b2db329d8849>\u001b[0m in \u001b[0;36m<listcomp>\u001b[0;34m(.0)\u001b[0m\n\u001b[0;32m----> 1\u001b[0;31m \u001b[0mcosts\u001b[0m \u001b[0;34m=\u001b[0m \u001b[0;34m[\u001b[0m\u001b[0mmutils\u001b[0m\u001b[0;34m.\u001b[0m\u001b[0mcalculate_cost_from_trees\u001b[0m\u001b[0;34m(\u001b[0m\u001b[0mi\u001b[0m\u001b[0;34m,\u001b[0m \u001b[0mconfig_file\u001b[0m\u001b[0;34m)\u001b[0m \u001b[0;32mfor\u001b[0m \u001b[0mi\u001b[0m \u001b[0;32min\u001b[0m \u001b[0mjsonfile\u001b[0m\u001b[0;34m]\u001b[0m\u001b[0;34m\u001b[0m\u001b[0;34m\u001b[0m\u001b[0m\n\u001b[0m",
      "\u001b[0;32m/data/pegasus/not-backed-up/mokaya/exscientia/aizynthfinder/Maranga/utils/parse_multismiles.py\u001b[0m in \u001b[0;36mcalculate_cost_from_trees\u001b[0;34m(tree_list, configfile)\u001b[0m\n\u001b[1;32m    123\u001b[0m     \u001b[0mscores\u001b[0m \u001b[0;34m=\u001b[0m \u001b[0;34m[\u001b[0m\u001b[0;34m]\u001b[0m\u001b[0;34m\u001b[0m\u001b[0;34m\u001b[0m\u001b[0m\n\u001b[1;32m    124\u001b[0m     \u001b[0;32mfor\u001b[0m \u001b[0mind\u001b[0m\u001b[0;34m,\u001b[0m \u001b[0mi\u001b[0m \u001b[0;32min\u001b[0m \u001b[0menumerate\u001b[0m\u001b[0;34m(\u001b[0m\u001b[0mtree_list\u001b[0m\u001b[0;34m)\u001b[0m\u001b[0;34m:\u001b[0m\u001b[0;34m\u001b[0m\u001b[0;34m\u001b[0m\u001b[0m\n\u001b[0;32m--> 125\u001b[0;31m         \u001b[0mtree\u001b[0m \u001b[0;34m=\u001b[0m \u001b[0mReactionTree\u001b[0m\u001b[0;34m.\u001b[0m\u001b[0mfrom_dict\u001b[0m\u001b[0;34m(\u001b[0m\u001b[0mi\u001b[0m\u001b[0;34m)\u001b[0m\u001b[0;34m\u001b[0m\u001b[0;34m\u001b[0m\u001b[0m\n\u001b[0m\u001b[1;32m    126\u001b[0m         \u001b[0mcost\u001b[0m \u001b[0;34m=\u001b[0m \u001b[0mcost_scorer\u001b[0m\u001b[0;34m(\u001b[0m\u001b[0mtree\u001b[0m\u001b[0;34m)\u001b[0m\u001b[0;34m\u001b[0m\u001b[0;34m\u001b[0m\u001b[0m\n\u001b[1;32m    127\u001b[0m         \u001b[0mpolicy\u001b[0m \u001b[0;34m=\u001b[0m \u001b[0mpolicy_scorer\u001b[0m\u001b[0;34m(\u001b[0m\u001b[0mtree\u001b[0m\u001b[0;34m)\u001b[0m\u001b[0;34m\u001b[0m\u001b[0;34m\u001b[0m\u001b[0m\n",
      "\u001b[0;32m/data/pegasus/not-backed-up/mokaya/exscientia/aizynthfinder/aizynthfinder/analysis.py\u001b[0m in \u001b[0;36mfrom_dict\u001b[0;34m(cls, tree_dict)\u001b[0m\n\u001b[1;32m    227\u001b[0m         \u001b[0;34m:\u001b[0m\u001b[0mreturns\u001b[0m\u001b[0;34m:\u001b[0m \u001b[0mthe\u001b[0m \u001b[0mreaction\u001b[0m \u001b[0mtree\u001b[0m\u001b[0;34m\u001b[0m\u001b[0;34m\u001b[0m\u001b[0m\n\u001b[1;32m    228\u001b[0m         \"\"\"\n\u001b[0;32m--> 229\u001b[0;31m         \u001b[0;32mreturn\u001b[0m \u001b[0mReactionTreeFromDict\u001b[0m\u001b[0;34m(\u001b[0m\u001b[0mtree_dict\u001b[0m\u001b[0;34m)\u001b[0m\u001b[0;34m.\u001b[0m\u001b[0mtree\u001b[0m\u001b[0;34m\u001b[0m\u001b[0;34m\u001b[0m\u001b[0m\n\u001b[0m\u001b[1;32m    230\u001b[0m \u001b[0;34m\u001b[0m\u001b[0m\n\u001b[1;32m    231\u001b[0m     \u001b[0;32mdef\u001b[0m \u001b[0mdepth\u001b[0m\u001b[0;34m(\u001b[0m\u001b[0mself\u001b[0m\u001b[0;34m,\u001b[0m \u001b[0mnode\u001b[0m\u001b[0;34m:\u001b[0m \u001b[0mUnion\u001b[0m\u001b[0;34m[\u001b[0m\u001b[0mUniqueMolecule\u001b[0m\u001b[0;34m,\u001b[0m \u001b[0mFixedRetroReaction\u001b[0m\u001b[0;34m]\u001b[0m\u001b[0;34m)\u001b[0m \u001b[0;34m->\u001b[0m \u001b[0mint\u001b[0m\u001b[0;34m:\u001b[0m\u001b[0;34m\u001b[0m\u001b[0;34m\u001b[0m\u001b[0m\n",
      "\u001b[0;32m/data/pegasus/not-backed-up/mokaya/exscientia/aizynthfinder/aizynthfinder/utils/analysis_helpers.py\u001b[0m in \u001b[0;36m__init__\u001b[0;34m(self, *args, **kwargs)\u001b[0m\n\u001b[1;32m     40\u001b[0m \u001b[0;34m\u001b[0m\u001b[0m\n\u001b[1;32m     41\u001b[0m         \u001b[0mself\u001b[0m\u001b[0;34m.\u001b[0m\u001b[0mtree\u001b[0m \u001b[0;34m=\u001b[0m \u001b[0mReactionTree\u001b[0m\u001b[0;34m(\u001b[0m\u001b[0;34m)\u001b[0m\u001b[0;34m\u001b[0m\u001b[0;34m\u001b[0m\u001b[0m\n\u001b[0;32m---> 42\u001b[0;31m         \u001b[0mself\u001b[0m\u001b[0;34m.\u001b[0m\u001b[0m_load\u001b[0m\u001b[0;34m(\u001b[0m\u001b[0;34m*\u001b[0m\u001b[0margs\u001b[0m\u001b[0;34m,\u001b[0m \u001b[0;34m**\u001b[0m\u001b[0mkwargs\u001b[0m\u001b[0;34m)\u001b[0m\u001b[0;34m\u001b[0m\u001b[0;34m\u001b[0m\u001b[0m\n\u001b[0m\u001b[1;32m     43\u001b[0m \u001b[0;34m\u001b[0m\u001b[0m\n\u001b[1;32m     44\u001b[0m         self.tree.is_solved = all(\n",
      "\u001b[0;32m/data/pegasus/not-backed-up/mokaya/exscientia/aizynthfinder/aizynthfinder/utils/analysis_helpers.py\u001b[0m in \u001b[0;36m_load\u001b[0;34m(self, tree_dict)\u001b[0m\n\u001b[1;32m     74\u001b[0m \u001b[0;34m\u001b[0m\u001b[0m\n\u001b[1;32m     75\u001b[0m     \u001b[0;32mdef\u001b[0m \u001b[0m_load\u001b[0m\u001b[0;34m(\u001b[0m\u001b[0mself\u001b[0m\u001b[0;34m,\u001b[0m \u001b[0mtree_dict\u001b[0m\u001b[0;34m:\u001b[0m \u001b[0mStrDict\u001b[0m\u001b[0;34m)\u001b[0m \u001b[0;34m->\u001b[0m \u001b[0;32mNone\u001b[0m\u001b[0;34m:\u001b[0m  \u001b[0;31m# type: ignore\u001b[0m\u001b[0;34m\u001b[0m\u001b[0;34m\u001b[0m\u001b[0m\n\u001b[0;32m---> 76\u001b[0;31m         \u001b[0mself\u001b[0m\u001b[0;34m.\u001b[0m\u001b[0m_parse_tree_dict\u001b[0m\u001b[0;34m(\u001b[0m\u001b[0mtree_dict\u001b[0m\u001b[0;34m)\u001b[0m\u001b[0;34m\u001b[0m\u001b[0;34m\u001b[0m\u001b[0m\n\u001b[0m\u001b[1;32m     77\u001b[0m \u001b[0;34m\u001b[0m\u001b[0m\n\u001b[1;32m     78\u001b[0m     \u001b[0;32mdef\u001b[0m \u001b[0m_parse_tree_dict\u001b[0m\u001b[0;34m(\u001b[0m\u001b[0mself\u001b[0m\u001b[0;34m,\u001b[0m \u001b[0mtree_dict\u001b[0m\u001b[0;34m:\u001b[0m \u001b[0mStrDict\u001b[0m\u001b[0;34m,\u001b[0m \u001b[0mncalls\u001b[0m\u001b[0;34m:\u001b[0m \u001b[0mint\u001b[0m \u001b[0;34m=\u001b[0m \u001b[0;36m0\u001b[0m\u001b[0;34m)\u001b[0m \u001b[0;34m->\u001b[0m \u001b[0mUniqueMolecule\u001b[0m\u001b[0;34m:\u001b[0m\u001b[0;34m\u001b[0m\u001b[0;34m\u001b[0m\u001b[0m\n",
      "\u001b[0;32m/data/pegasus/not-backed-up/mokaya/exscientia/aizynthfinder/aizynthfinder/utils/analysis_helpers.py\u001b[0m in \u001b[0;36m_parse_tree_dict\u001b[0;34m(self, tree_dict, ncalls)\u001b[0m\n\u001b[1;32m     77\u001b[0m \u001b[0;34m\u001b[0m\u001b[0m\n\u001b[1;32m     78\u001b[0m     \u001b[0;32mdef\u001b[0m \u001b[0m_parse_tree_dict\u001b[0m\u001b[0;34m(\u001b[0m\u001b[0mself\u001b[0m\u001b[0;34m,\u001b[0m \u001b[0mtree_dict\u001b[0m\u001b[0;34m:\u001b[0m \u001b[0mStrDict\u001b[0m\u001b[0;34m,\u001b[0m \u001b[0mncalls\u001b[0m\u001b[0;34m:\u001b[0m \u001b[0mint\u001b[0m \u001b[0;34m=\u001b[0m \u001b[0;36m0\u001b[0m\u001b[0;34m)\u001b[0m \u001b[0;34m->\u001b[0m \u001b[0mUniqueMolecule\u001b[0m\u001b[0;34m:\u001b[0m\u001b[0;34m\u001b[0m\u001b[0;34m\u001b[0m\u001b[0m\n\u001b[0;32m---> 79\u001b[0;31m         \u001b[0mproduct_node\u001b[0m \u001b[0;34m=\u001b[0m \u001b[0mUniqueMolecule\u001b[0m\u001b[0;34m(\u001b[0m\u001b[0msmiles\u001b[0m\u001b[0;34m=\u001b[0m\u001b[0mtree_dict\u001b[0m\u001b[0;34m[\u001b[0m\u001b[0;34m\"smiles\"\u001b[0m\u001b[0;34m]\u001b[0m\u001b[0;34m)\u001b[0m\u001b[0;34m\u001b[0m\u001b[0;34m\u001b[0m\u001b[0m\n\u001b[0m\u001b[1;32m     80\u001b[0m         self._add_node(\n\u001b[1;32m     81\u001b[0m             \u001b[0mproduct_node\u001b[0m\u001b[0;34m,\u001b[0m\u001b[0;34m\u001b[0m\u001b[0;34m\u001b[0m\u001b[0m\n",
      "\u001b[0;31mTypeError\u001b[0m: string indices must be integers"
     ]
    }
   ],
   "source": [
    "costs = [mutils.calculate_cost_from_trees(i, config_file) for i in jsonfile]"
   ]
  },
  {
   "cell_type": "code",
   "execution_count": 5,
   "metadata": {},
   "outputs": [
    {
     "name": "stdout",
     "output_type": "stream",
     "text": [
      "0\n",
      "1\n",
      "2\n",
      "3\n",
      "4\n",
      "5\n",
      "mol:  0\n",
      "0\n",
      "1\n",
      "2\n",
      "3\n",
      "4\n",
      "mol:  1\n",
      "0\n",
      "1\n",
      "2\n",
      "3\n",
      "4\n",
      "mol:  2\n",
      "0\n",
      "1\n",
      "2\n",
      "3\n",
      "4\n",
      "mol:  3\n",
      "0\n",
      "1\n",
      "2\n",
      "3\n",
      "4\n",
      "mol:  4\n",
      "0\n",
      "1\n",
      "2\n",
      "3\n",
      "4\n",
      "5\n",
      "6\n",
      "7\n",
      "mol:  5\n",
      "0\n",
      "1\n",
      "2\n",
      "3\n",
      "4\n",
      "mol:  6\n",
      "0\n",
      "1\n",
      "2\n",
      "3\n",
      "4\n",
      "5\n",
      "6\n",
      "7\n",
      "8\n",
      "9\n",
      "10\n",
      "11\n",
      "mol:  7\n",
      "0\n",
      "1\n",
      "2\n",
      "3\n",
      "4\n",
      "5\n",
      "6\n",
      "7\n",
      "8\n",
      "9\n",
      "10\n",
      "mol:  8\n",
      "0\n",
      "1\n",
      "2\n",
      "3\n",
      "4\n",
      "mol:  9\n",
      "0\n",
      "1\n",
      "2\n",
      "3\n",
      "4\n",
      "mol:  10\n",
      "0\n",
      "1\n",
      "2\n",
      "3\n",
      "4\n",
      "mol:  11\n",
      "0\n",
      "1\n",
      "2\n",
      "3\n",
      "4\n",
      "mol:  12\n",
      "0\n",
      "1\n",
      "2\n",
      "3\n",
      "4\n",
      "5\n",
      "6\n",
      "7\n",
      "mol:  13\n",
      "0\n",
      "1\n",
      "2\n",
      "3\n",
      "4\n",
      "mol:  14\n",
      "0\n",
      "1\n",
      "2\n",
      "3\n",
      "4\n",
      "mol:  15\n",
      "0\n",
      "1\n",
      "2\n",
      "3\n",
      "4\n",
      "mol:  16\n"
     ]
    },
    {
     "ename": "KeyboardInterrupt",
     "evalue": "",
     "output_type": "error",
     "traceback": [
      "\u001b[0;31m---------------------------------------------------------------------------\u001b[0m",
      "\u001b[0;31mKeyboardInterrupt\u001b[0m                         Traceback (most recent call last)",
      "\u001b[0;32m<ipython-input-5-8a47f4cd4920>\u001b[0m in \u001b[0;36m<module>\u001b[0;34m\u001b[0m\n\u001b[1;32m      2\u001b[0m \u001b[0mtop_scores\u001b[0m \u001b[0;34m=\u001b[0m \u001b[0;34m[\u001b[0m\u001b[0;34m]\u001b[0m\u001b[0;34m\u001b[0m\u001b[0;34m\u001b[0m\u001b[0m\n\u001b[1;32m      3\u001b[0m \u001b[0;32mfor\u001b[0m \u001b[0mint\u001b[0m\u001b[0;34m,\u001b[0m \u001b[0mi\u001b[0m \u001b[0;32min\u001b[0m \u001b[0menumerate\u001b[0m\u001b[0;34m(\u001b[0m\u001b[0msolved_trees\u001b[0m\u001b[0;34m)\u001b[0m\u001b[0;34m:\u001b[0m\u001b[0;34m\u001b[0m\u001b[0;34m\u001b[0m\u001b[0m\n\u001b[0;32m----> 4\u001b[0;31m     \u001b[0mval\u001b[0m \u001b[0;34m=\u001b[0m \u001b[0mmutils\u001b[0m\u001b[0;34m.\u001b[0m\u001b[0mcalculate_cost_from_trees\u001b[0m\u001b[0;34m(\u001b[0m\u001b[0mi\u001b[0m\u001b[0;34m,\u001b[0m \u001b[0mconfig_file\u001b[0m\u001b[0;34m)\u001b[0m\u001b[0;34m\u001b[0m\u001b[0;34m\u001b[0m\u001b[0m\n\u001b[0m\u001b[1;32m      5\u001b[0m     \u001b[0mprint\u001b[0m\u001b[0;34m(\u001b[0m\u001b[0;34m'mol: '\u001b[0m\u001b[0;34m,\u001b[0m \u001b[0mint\u001b[0m\u001b[0;34m)\u001b[0m\u001b[0;34m\u001b[0m\u001b[0;34m\u001b[0m\u001b[0m\n\u001b[1;32m      6\u001b[0m     \u001b[0mtop_scores\u001b[0m\u001b[0;34m.\u001b[0m\u001b[0mappend\u001b[0m\u001b[0;34m(\u001b[0m\u001b[0mval\u001b[0m\u001b[0;34m)\u001b[0m\u001b[0;34m\u001b[0m\u001b[0;34m\u001b[0m\u001b[0m\n",
      "\u001b[0;32m/data/pegasus/not-backed-up/mokaya/exscientia/aizynthfinder/Maranga/utils/parse_multismiles.py\u001b[0m in \u001b[0;36mcalculate_cost_from_trees\u001b[0;34m(tree_list, configfile)\u001b[0m\n\u001b[1;32m    107\u001b[0m     \u001b[0;31m#initalise config\u001b[0m\u001b[0;34m\u001b[0m\u001b[0;34m\u001b[0m\u001b[0;34m\u001b[0m\u001b[0m\n\u001b[1;32m    108\u001b[0m     \u001b[0mconfig\u001b[0m \u001b[0;34m=\u001b[0m \u001b[0mcon\u001b[0m\u001b[0;34m.\u001b[0m\u001b[0mConfiguration\u001b[0m\u001b[0;34m(\u001b[0m\u001b[0;34m)\u001b[0m\u001b[0;34m\u001b[0m\u001b[0;34m\u001b[0m\u001b[0m\n\u001b[0;32m--> 109\u001b[0;31m     \u001b[0mconfig\u001b[0m \u001b[0;34m=\u001b[0m \u001b[0mconfig\u001b[0m\u001b[0;34m.\u001b[0m\u001b[0mfrom_file\u001b[0m\u001b[0;34m(\u001b[0m\u001b[0mconfigfile\u001b[0m\u001b[0;34m)\u001b[0m\u001b[0;34m\u001b[0m\u001b[0;34m\u001b[0m\u001b[0m\n\u001b[0m\u001b[1;32m    110\u001b[0m \u001b[0;34m\u001b[0m\u001b[0m\n\u001b[1;32m    111\u001b[0m     \u001b[0mpolicy_scorer\u001b[0m \u001b[0;34m=\u001b[0m \u001b[0mscoring\u001b[0m\u001b[0;34m.\u001b[0m\u001b[0mUSPTOModelPolicyProbabilityScorer\u001b[0m\u001b[0;34m(\u001b[0m\u001b[0;34m)\u001b[0m\u001b[0;34m\u001b[0m\u001b[0;34m\u001b[0m\u001b[0m\n",
      "\u001b[0;32m/data/pegasus/not-backed-up/mokaya/exscientia/aizynthfinder/aizynthfinder/context/config.py\u001b[0m in \u001b[0;36mfrom_file\u001b[0;34m(cls, filename)\u001b[0m\n\u001b[1;32m    114\u001b[0m         \u001b[0;32mwith\u001b[0m \u001b[0mopen\u001b[0m\u001b[0;34m(\u001b[0m\u001b[0mfilename\u001b[0m\u001b[0;34m,\u001b[0m \u001b[0;34m\"r\"\u001b[0m\u001b[0;34m)\u001b[0m \u001b[0;32mas\u001b[0m \u001b[0mfileobj\u001b[0m\u001b[0;34m:\u001b[0m\u001b[0;34m\u001b[0m\u001b[0;34m\u001b[0m\u001b[0m\n\u001b[1;32m    115\u001b[0m             \u001b[0m_config\u001b[0m \u001b[0;34m=\u001b[0m \u001b[0myaml\u001b[0m\u001b[0;34m.\u001b[0m\u001b[0mload\u001b[0m\u001b[0;34m(\u001b[0m\u001b[0mfileobj\u001b[0m\u001b[0;34m.\u001b[0m\u001b[0mread\u001b[0m\u001b[0;34m(\u001b[0m\u001b[0;34m)\u001b[0m\u001b[0;34m,\u001b[0m \u001b[0mLoader\u001b[0m\u001b[0;34m=\u001b[0m\u001b[0myaml\u001b[0m\u001b[0;34m.\u001b[0m\u001b[0mSafeLoader\u001b[0m\u001b[0;34m)\u001b[0m\u001b[0;34m\u001b[0m\u001b[0;34m\u001b[0m\u001b[0m\n\u001b[0;32m--> 116\u001b[0;31m         \u001b[0;32mreturn\u001b[0m \u001b[0mConfiguration\u001b[0m\u001b[0;34m.\u001b[0m\u001b[0mfrom_dict\u001b[0m\u001b[0;34m(\u001b[0m\u001b[0m_config\u001b[0m\u001b[0;34m)\u001b[0m\u001b[0;34m\u001b[0m\u001b[0;34m\u001b[0m\u001b[0m\n\u001b[0m\u001b[1;32m    117\u001b[0m \u001b[0;34m\u001b[0m\u001b[0m\n\u001b[1;32m    118\u001b[0m     \u001b[0;32mdef\u001b[0m \u001b[0mupdate\u001b[0m\u001b[0;34m(\u001b[0m\u001b[0mself\u001b[0m\u001b[0;34m,\u001b[0m \u001b[0;34m**\u001b[0m\u001b[0msettings\u001b[0m\u001b[0;34m:\u001b[0m \u001b[0mAny\u001b[0m\u001b[0;34m)\u001b[0m \u001b[0;34m->\u001b[0m \u001b[0;32mNone\u001b[0m\u001b[0;34m:\u001b[0m\u001b[0;34m\u001b[0m\u001b[0;34m\u001b[0m\u001b[0m\n",
      "\u001b[0;32m/data/pegasus/not-backed-up/mokaya/exscientia/aizynthfinder/aizynthfinder/context/config.py\u001b[0m in \u001b[0;36mfrom_dict\u001b[0;34m(cls, source)\u001b[0m\n\u001b[1;32m     96\u001b[0m             \u001b[0;34m**\u001b[0m\u001b[0msource\u001b[0m\u001b[0;34m.\u001b[0m\u001b[0mget\u001b[0m\u001b[0;34m(\u001b[0m\u001b[0;34m\"filter\"\u001b[0m\u001b[0;34m,\u001b[0m \u001b[0;34m{\u001b[0m\u001b[0;34m}\u001b[0m\u001b[0;34m)\u001b[0m\u001b[0;34m.\u001b[0m\u001b[0mget\u001b[0m\u001b[0;34m(\u001b[0m\u001b[0;34m\"files\"\u001b[0m\u001b[0;34m,\u001b[0m \u001b[0;34m{\u001b[0m\u001b[0;34m}\u001b[0m\u001b[0;34m)\u001b[0m\u001b[0;34m\u001b[0m\u001b[0;34m\u001b[0m\u001b[0m\n\u001b[1;32m     97\u001b[0m         )\n\u001b[0;32m---> 98\u001b[0;31m         \u001b[0mconfig_obj\u001b[0m\u001b[0;34m.\u001b[0m\u001b[0mstock\u001b[0m\u001b[0;34m.\u001b[0m\u001b[0mload_from_config\u001b[0m\u001b[0;34m(\u001b[0m\u001b[0;34m**\u001b[0m\u001b[0msource\u001b[0m\u001b[0;34m.\u001b[0m\u001b[0mget\u001b[0m\u001b[0;34m(\u001b[0m\u001b[0;34m\"stock\"\u001b[0m\u001b[0;34m,\u001b[0m \u001b[0;34m{\u001b[0m\u001b[0;34m}\u001b[0m\u001b[0;34m)\u001b[0m\u001b[0;34m)\u001b[0m\u001b[0;34m\u001b[0m\u001b[0;34m\u001b[0m\u001b[0m\n\u001b[0m\u001b[1;32m     99\u001b[0m         \u001b[0mconfig_obj\u001b[0m\u001b[0;34m.\u001b[0m\u001b[0mscorers\u001b[0m\u001b[0;34m.\u001b[0m\u001b[0mload_from_config\u001b[0m\u001b[0;34m(\u001b[0m\u001b[0;34m**\u001b[0m\u001b[0msource\u001b[0m\u001b[0;34m.\u001b[0m\u001b[0mget\u001b[0m\u001b[0;34m(\u001b[0m\u001b[0;34m\"scorer\"\u001b[0m\u001b[0;34m,\u001b[0m \u001b[0;34m{\u001b[0m\u001b[0;34m}\u001b[0m\u001b[0;34m)\u001b[0m\u001b[0;34m)\u001b[0m\u001b[0;34m\u001b[0m\u001b[0;34m\u001b[0m\u001b[0m\n\u001b[1;32m    100\u001b[0m \u001b[0;34m\u001b[0m\u001b[0m\n",
      "\u001b[0;32m/data/pegasus/not-backed-up/mokaya/exscientia/aizynthfinder/aizynthfinder/context/stock.py\u001b[0m in \u001b[0;36mload_from_config\u001b[0;34m(self, **config)\u001b[0m\n\u001b[1;32m    306\u001b[0m \u001b[0;34m\u001b[0m\u001b[0m\n\u001b[1;32m    307\u001b[0m         \u001b[0;32mfor\u001b[0m \u001b[0mkey\u001b[0m\u001b[0;34m,\u001b[0m \u001b[0mstockfile\u001b[0m \u001b[0;32min\u001b[0m \u001b[0mconfig\u001b[0m\u001b[0;34m.\u001b[0m\u001b[0mget\u001b[0m\u001b[0;34m(\u001b[0m\u001b[0;34m\"files\"\u001b[0m\u001b[0;34m,\u001b[0m \u001b[0;34m{\u001b[0m\u001b[0;34m}\u001b[0m\u001b[0;34m)\u001b[0m\u001b[0;34m.\u001b[0m\u001b[0mitems\u001b[0m\u001b[0;34m(\u001b[0m\u001b[0;34m)\u001b[0m\u001b[0;34m:\u001b[0m\u001b[0;34m\u001b[0m\u001b[0;34m\u001b[0m\u001b[0m\n\u001b[0;32m--> 308\u001b[0;31m             \u001b[0mself\u001b[0m\u001b[0;34m.\u001b[0m\u001b[0mload\u001b[0m\u001b[0;34m(\u001b[0m\u001b[0mstockfile\u001b[0m\u001b[0;34m,\u001b[0m \u001b[0mkey\u001b[0m\u001b[0;34m)\u001b[0m\u001b[0;34m\u001b[0m\u001b[0;34m\u001b[0m\u001b[0m\n\u001b[0m\u001b[1;32m    309\u001b[0m \u001b[0;34m\u001b[0m\u001b[0m\n\u001b[1;32m    310\u001b[0m         \u001b[0;32mif\u001b[0m \u001b[0;34m\"mongodb\"\u001b[0m \u001b[0;32min\u001b[0m \u001b[0mconfig\u001b[0m\u001b[0;34m:\u001b[0m\u001b[0;34m\u001b[0m\u001b[0;34m\u001b[0m\u001b[0m\n",
      "\u001b[0;32m/data/pegasus/not-backed-up/mokaya/exscientia/aizynthfinder/aizynthfinder/context/stock.py\u001b[0m in \u001b[0;36mload\u001b[0;34m(self, source, key)\u001b[0m\n\u001b[1;32m    286\u001b[0m \u001b[0;34m\u001b[0m\u001b[0m\n\u001b[1;32m    287\u001b[0m         \u001b[0;32mif\u001b[0m \u001b[0misinstance\u001b[0m\u001b[0;34m(\u001b[0m\u001b[0msource\u001b[0m\u001b[0;34m,\u001b[0m \u001b[0mstr\u001b[0m\u001b[0;34m)\u001b[0m\u001b[0;34m:\u001b[0m\u001b[0;34m\u001b[0m\u001b[0;34m\u001b[0m\u001b[0m\n\u001b[0;32m--> 288\u001b[0;31m             \u001b[0msource\u001b[0m \u001b[0;34m=\u001b[0m \u001b[0mInMemoryInchiKeyQuery\u001b[0m\u001b[0;34m(\u001b[0m\u001b[0msource\u001b[0m\u001b[0;34m)\u001b[0m\u001b[0;34m\u001b[0m\u001b[0;34m\u001b[0m\u001b[0m\n\u001b[0m\u001b[1;32m    289\u001b[0m         \u001b[0mself\u001b[0m\u001b[0;34m.\u001b[0m\u001b[0m_items\u001b[0m\u001b[0;34m[\u001b[0m\u001b[0mkey\u001b[0m\u001b[0;34m]\u001b[0m \u001b[0;34m=\u001b[0m \u001b[0msource\u001b[0m\u001b[0;34m\u001b[0m\u001b[0;34m\u001b[0m\u001b[0m\n\u001b[1;32m    290\u001b[0m \u001b[0;34m\u001b[0m\u001b[0m\n",
      "\u001b[0;32m/data/pegasus/not-backed-up/mokaya/exscientia/aizynthfinder/aizynthfinder/context/stock.py\u001b[0m in \u001b[0;36m__init__\u001b[0;34m(self, filename)\u001b[0m\n\u001b[1;32m    101\u001b[0m         \u001b[0mext\u001b[0m \u001b[0;34m=\u001b[0m \u001b[0mos\u001b[0m\u001b[0;34m.\u001b[0m\u001b[0mpath\u001b[0m\u001b[0;34m.\u001b[0m\u001b[0msplitext\u001b[0m\u001b[0;34m(\u001b[0m\u001b[0mfilename\u001b[0m\u001b[0;34m)\u001b[0m\u001b[0;34m[\u001b[0m\u001b[0;36m1\u001b[0m\u001b[0;34m]\u001b[0m\u001b[0;34m\u001b[0m\u001b[0;34m\u001b[0m\u001b[0m\n\u001b[1;32m    102\u001b[0m         \u001b[0;32mif\u001b[0m \u001b[0mext\u001b[0m \u001b[0;32min\u001b[0m \u001b[0;34m[\u001b[0m\u001b[0;34m\".h5\"\u001b[0m\u001b[0;34m,\u001b[0m \u001b[0;34m\".hdf5\"\u001b[0m\u001b[0;34m]\u001b[0m\u001b[0;34m:\u001b[0m\u001b[0;34m\u001b[0m\u001b[0;34m\u001b[0m\u001b[0m\n\u001b[0;32m--> 103\u001b[0;31m             \u001b[0mstock\u001b[0m \u001b[0;34m=\u001b[0m \u001b[0mpd\u001b[0m\u001b[0;34m.\u001b[0m\u001b[0mread_hdf\u001b[0m\u001b[0;34m(\u001b[0m\u001b[0mfilename\u001b[0m\u001b[0;34m,\u001b[0m \u001b[0mkey\u001b[0m\u001b[0;34m=\u001b[0m\u001b[0;34m\"table\"\u001b[0m\u001b[0;34m)\u001b[0m  \u001b[0;31m# type: ignore\u001b[0m\u001b[0;34m\u001b[0m\u001b[0;34m\u001b[0m\u001b[0m\n\u001b[0m\u001b[1;32m    104\u001b[0m             \u001b[0minchis\u001b[0m \u001b[0;34m=\u001b[0m \u001b[0mstock\u001b[0m\u001b[0;34m.\u001b[0m\u001b[0minchi_key\u001b[0m\u001b[0;34m.\u001b[0m\u001b[0mvalues\u001b[0m  \u001b[0;31m# type: ignore\u001b[0m\u001b[0;34m\u001b[0m\u001b[0;34m\u001b[0m\u001b[0m\n\u001b[1;32m    105\u001b[0m         \u001b[0;32melif\u001b[0m \u001b[0mext\u001b[0m \u001b[0;34m==\u001b[0m \u001b[0;34m\".csv\"\u001b[0m\u001b[0;34m:\u001b[0m\u001b[0;34m\u001b[0m\u001b[0;34m\u001b[0m\u001b[0m\n",
      "\u001b[0;32m/data/pegasus/mokaya/miniconda3/envs/aizynth-dev/lib/python3.8/site-packages/pandas/io/pytables.py\u001b[0m in \u001b[0;36mread_hdf\u001b[0;34m(path_or_buf, key, mode, errors, where, start, stop, columns, iterator, chunksize, **kwargs)\u001b[0m\n\u001b[1;32m    413\u001b[0m                     )\n\u001b[1;32m    414\u001b[0m             \u001b[0mkey\u001b[0m \u001b[0;34m=\u001b[0m \u001b[0mcandidate_only_group\u001b[0m\u001b[0;34m.\u001b[0m\u001b[0m_v_pathname\u001b[0m\u001b[0;34m\u001b[0m\u001b[0;34m\u001b[0m\u001b[0m\n\u001b[0;32m--> 415\u001b[0;31m         return store.select(\n\u001b[0m\u001b[1;32m    416\u001b[0m             \u001b[0mkey\u001b[0m\u001b[0;34m,\u001b[0m\u001b[0;34m\u001b[0m\u001b[0;34m\u001b[0m\u001b[0m\n\u001b[1;32m    417\u001b[0m             \u001b[0mwhere\u001b[0m\u001b[0;34m=\u001b[0m\u001b[0mwhere\u001b[0m\u001b[0;34m,\u001b[0m\u001b[0;34m\u001b[0m\u001b[0;34m\u001b[0m\u001b[0m\n",
      "\u001b[0;32m/data/pegasus/mokaya/miniconda3/envs/aizynth-dev/lib/python3.8/site-packages/pandas/io/pytables.py\u001b[0m in \u001b[0;36mselect\u001b[0;34m(self, key, where, start, stop, columns, iterator, chunksize, auto_close)\u001b[0m\n\u001b[1;32m    865\u001b[0m         )\n\u001b[1;32m    866\u001b[0m \u001b[0;34m\u001b[0m\u001b[0m\n\u001b[0;32m--> 867\u001b[0;31m         \u001b[0;32mreturn\u001b[0m \u001b[0mit\u001b[0m\u001b[0;34m.\u001b[0m\u001b[0mget_result\u001b[0m\u001b[0;34m(\u001b[0m\u001b[0;34m)\u001b[0m\u001b[0;34m\u001b[0m\u001b[0;34m\u001b[0m\u001b[0m\n\u001b[0m\u001b[1;32m    868\u001b[0m \u001b[0;34m\u001b[0m\u001b[0m\n\u001b[1;32m    869\u001b[0m     def select_as_coordinates(\n",
      "\u001b[0;32m/data/pegasus/mokaya/miniconda3/envs/aizynth-dev/lib/python3.8/site-packages/pandas/io/pytables.py\u001b[0m in \u001b[0;36mget_result\u001b[0;34m(self, coordinates)\u001b[0m\n\u001b[1;32m   1919\u001b[0m \u001b[0;34m\u001b[0m\u001b[0m\n\u001b[1;32m   1920\u001b[0m         \u001b[0;31m# directly return the result\u001b[0m\u001b[0;34m\u001b[0m\u001b[0;34m\u001b[0m\u001b[0;34m\u001b[0m\u001b[0m\n\u001b[0;32m-> 1921\u001b[0;31m         \u001b[0mresults\u001b[0m \u001b[0;34m=\u001b[0m \u001b[0mself\u001b[0m\u001b[0;34m.\u001b[0m\u001b[0mfunc\u001b[0m\u001b[0;34m(\u001b[0m\u001b[0mself\u001b[0m\u001b[0;34m.\u001b[0m\u001b[0mstart\u001b[0m\u001b[0;34m,\u001b[0m \u001b[0mself\u001b[0m\u001b[0;34m.\u001b[0m\u001b[0mstop\u001b[0m\u001b[0;34m,\u001b[0m \u001b[0mwhere\u001b[0m\u001b[0;34m)\u001b[0m\u001b[0;34m\u001b[0m\u001b[0;34m\u001b[0m\u001b[0m\n\u001b[0m\u001b[1;32m   1922\u001b[0m         \u001b[0mself\u001b[0m\u001b[0;34m.\u001b[0m\u001b[0mclose\u001b[0m\u001b[0;34m(\u001b[0m\u001b[0;34m)\u001b[0m\u001b[0;34m\u001b[0m\u001b[0;34m\u001b[0m\u001b[0m\n\u001b[1;32m   1923\u001b[0m         \u001b[0;32mreturn\u001b[0m \u001b[0mresults\u001b[0m\u001b[0;34m\u001b[0m\u001b[0;34m\u001b[0m\u001b[0m\n",
      "\u001b[0;32m/data/pegasus/mokaya/miniconda3/envs/aizynth-dev/lib/python3.8/site-packages/pandas/io/pytables.py\u001b[0m in \u001b[0;36mfunc\u001b[0;34m(_start, _stop, _where)\u001b[0m\n\u001b[1;32m    849\u001b[0m         \u001b[0;31m# function to call on iteration\u001b[0m\u001b[0;34m\u001b[0m\u001b[0;34m\u001b[0m\u001b[0;34m\u001b[0m\u001b[0m\n\u001b[1;32m    850\u001b[0m         \u001b[0;32mdef\u001b[0m \u001b[0mfunc\u001b[0m\u001b[0;34m(\u001b[0m\u001b[0m_start\u001b[0m\u001b[0;34m,\u001b[0m \u001b[0m_stop\u001b[0m\u001b[0;34m,\u001b[0m \u001b[0m_where\u001b[0m\u001b[0;34m)\u001b[0m\u001b[0;34m:\u001b[0m\u001b[0;34m\u001b[0m\u001b[0;34m\u001b[0m\u001b[0m\n\u001b[0;32m--> 851\u001b[0;31m             \u001b[0;32mreturn\u001b[0m \u001b[0ms\u001b[0m\u001b[0;34m.\u001b[0m\u001b[0mread\u001b[0m\u001b[0;34m(\u001b[0m\u001b[0mstart\u001b[0m\u001b[0;34m=\u001b[0m\u001b[0m_start\u001b[0m\u001b[0;34m,\u001b[0m \u001b[0mstop\u001b[0m\u001b[0;34m=\u001b[0m\u001b[0m_stop\u001b[0m\u001b[0;34m,\u001b[0m \u001b[0mwhere\u001b[0m\u001b[0;34m=\u001b[0m\u001b[0m_where\u001b[0m\u001b[0;34m,\u001b[0m \u001b[0mcolumns\u001b[0m\u001b[0;34m=\u001b[0m\u001b[0mcolumns\u001b[0m\u001b[0;34m)\u001b[0m\u001b[0;34m\u001b[0m\u001b[0;34m\u001b[0m\u001b[0m\n\u001b[0m\u001b[1;32m    852\u001b[0m \u001b[0;34m\u001b[0m\u001b[0m\n\u001b[1;32m    853\u001b[0m         \u001b[0;31m# create the iterator\u001b[0m\u001b[0;34m\u001b[0m\u001b[0;34m\u001b[0m\u001b[0;34m\u001b[0m\u001b[0m\n",
      "\u001b[0;32m/data/pegasus/mokaya/miniconda3/envs/aizynth-dev/lib/python3.8/site-packages/pandas/io/pytables.py\u001b[0m in \u001b[0;36mread\u001b[0;34m(self, where, columns, start, stop)\u001b[0m\n\u001b[1;32m   3159\u001b[0m \u001b[0;34m\u001b[0m\u001b[0m\n\u001b[1;32m   3160\u001b[0m             \u001b[0mblk_items\u001b[0m \u001b[0;34m=\u001b[0m \u001b[0mself\u001b[0m\u001b[0;34m.\u001b[0m\u001b[0mread_index\u001b[0m\u001b[0;34m(\u001b[0m\u001b[0;34mf\"block{i}_items\"\u001b[0m\u001b[0;34m)\u001b[0m\u001b[0;34m\u001b[0m\u001b[0;34m\u001b[0m\u001b[0m\n\u001b[0;32m-> 3161\u001b[0;31m             \u001b[0mvalues\u001b[0m \u001b[0;34m=\u001b[0m \u001b[0mself\u001b[0m\u001b[0;34m.\u001b[0m\u001b[0mread_array\u001b[0m\u001b[0;34m(\u001b[0m\u001b[0;34mf\"block{i}_values\"\u001b[0m\u001b[0;34m,\u001b[0m \u001b[0mstart\u001b[0m\u001b[0;34m=\u001b[0m\u001b[0m_start\u001b[0m\u001b[0;34m,\u001b[0m \u001b[0mstop\u001b[0m\u001b[0;34m=\u001b[0m\u001b[0m_stop\u001b[0m\u001b[0;34m)\u001b[0m\u001b[0;34m\u001b[0m\u001b[0;34m\u001b[0m\u001b[0m\n\u001b[0m\u001b[1;32m   3162\u001b[0m \u001b[0;34m\u001b[0m\u001b[0m\n\u001b[1;32m   3163\u001b[0m             \u001b[0mcolumns\u001b[0m \u001b[0;34m=\u001b[0m \u001b[0mitems\u001b[0m\u001b[0;34m[\u001b[0m\u001b[0mitems\u001b[0m\u001b[0;34m.\u001b[0m\u001b[0mget_indexer\u001b[0m\u001b[0;34m(\u001b[0m\u001b[0mblk_items\u001b[0m\u001b[0;34m)\u001b[0m\u001b[0;34m]\u001b[0m\u001b[0;34m\u001b[0m\u001b[0;34m\u001b[0m\u001b[0m\n",
      "\u001b[0;32m/data/pegasus/mokaya/miniconda3/envs/aizynth-dev/lib/python3.8/site-packages/pandas/io/pytables.py\u001b[0m in \u001b[0;36mread_array\u001b[0;34m(self, key, start, stop)\u001b[0m\n\u001b[1;32m   2816\u001b[0m \u001b[0;34m\u001b[0m\u001b[0m\n\u001b[1;32m   2817\u001b[0m         \u001b[0;32mif\u001b[0m \u001b[0misinstance\u001b[0m\u001b[0;34m(\u001b[0m\u001b[0mnode\u001b[0m\u001b[0;34m,\u001b[0m \u001b[0mtables\u001b[0m\u001b[0;34m.\u001b[0m\u001b[0mVLArray\u001b[0m\u001b[0;34m)\u001b[0m\u001b[0;34m:\u001b[0m\u001b[0;34m\u001b[0m\u001b[0;34m\u001b[0m\u001b[0m\n\u001b[0;32m-> 2818\u001b[0;31m             \u001b[0mret\u001b[0m \u001b[0;34m=\u001b[0m \u001b[0mnode\u001b[0m\u001b[0;34m[\u001b[0m\u001b[0;36m0\u001b[0m\u001b[0;34m]\u001b[0m\u001b[0;34m[\u001b[0m\u001b[0mstart\u001b[0m\u001b[0;34m:\u001b[0m\u001b[0mstop\u001b[0m\u001b[0;34m]\u001b[0m\u001b[0;34m\u001b[0m\u001b[0;34m\u001b[0m\u001b[0m\n\u001b[0m\u001b[1;32m   2819\u001b[0m         \u001b[0;32melse\u001b[0m\u001b[0;34m:\u001b[0m\u001b[0;34m\u001b[0m\u001b[0;34m\u001b[0m\u001b[0m\n\u001b[1;32m   2820\u001b[0m             \u001b[0mdtype\u001b[0m \u001b[0;34m=\u001b[0m \u001b[0m_ensure_decoded\u001b[0m\u001b[0;34m(\u001b[0m\u001b[0mgetattr\u001b[0m\u001b[0;34m(\u001b[0m\u001b[0mattrs\u001b[0m\u001b[0;34m,\u001b[0m \u001b[0;34m\"value_type\"\u001b[0m\u001b[0;34m,\u001b[0m \u001b[0;32mNone\u001b[0m\u001b[0;34m)\u001b[0m\u001b[0;34m)\u001b[0m\u001b[0;34m\u001b[0m\u001b[0;34m\u001b[0m\u001b[0m\n",
      "\u001b[0;32m/data/pegasus/mokaya/miniconda3/envs/aizynth-dev/lib/python3.8/site-packages/tables/vlarray.py\u001b[0m in \u001b[0;36m__getitem__\u001b[0;34m(self, key)\u001b[0m\n\u001b[1;32m    675\u001b[0m                 \u001b[0mkey\u001b[0m \u001b[0;34m+=\u001b[0m \u001b[0mself\u001b[0m\u001b[0;34m.\u001b[0m\u001b[0mnrows\u001b[0m\u001b[0;34m\u001b[0m\u001b[0;34m\u001b[0m\u001b[0m\n\u001b[1;32m    676\u001b[0m             \u001b[0;34m(\u001b[0m\u001b[0mstart\u001b[0m\u001b[0;34m,\u001b[0m \u001b[0mstop\u001b[0m\u001b[0;34m,\u001b[0m \u001b[0mstep\u001b[0m\u001b[0;34m)\u001b[0m \u001b[0;34m=\u001b[0m \u001b[0mself\u001b[0m\u001b[0;34m.\u001b[0m\u001b[0m_process_range\u001b[0m\u001b[0;34m(\u001b[0m\u001b[0mkey\u001b[0m\u001b[0;34m,\u001b[0m \u001b[0mkey\u001b[0m \u001b[0;34m+\u001b[0m \u001b[0;36m1\u001b[0m\u001b[0;34m,\u001b[0m \u001b[0;36m1\u001b[0m\u001b[0;34m)\u001b[0m\u001b[0;34m\u001b[0m\u001b[0;34m\u001b[0m\u001b[0m\n\u001b[0;32m--> 677\u001b[0;31m             \u001b[0;32mreturn\u001b[0m \u001b[0mself\u001b[0m\u001b[0;34m.\u001b[0m\u001b[0mread\u001b[0m\u001b[0;34m(\u001b[0m\u001b[0mstart\u001b[0m\u001b[0;34m,\u001b[0m \u001b[0mstop\u001b[0m\u001b[0;34m,\u001b[0m \u001b[0mstep\u001b[0m\u001b[0;34m)\u001b[0m\u001b[0;34m[\u001b[0m\u001b[0;36m0\u001b[0m\u001b[0;34m]\u001b[0m\u001b[0;34m\u001b[0m\u001b[0;34m\u001b[0m\u001b[0m\n\u001b[0m\u001b[1;32m    678\u001b[0m         \u001b[0;32melif\u001b[0m \u001b[0misinstance\u001b[0m\u001b[0;34m(\u001b[0m\u001b[0mkey\u001b[0m\u001b[0;34m,\u001b[0m \u001b[0mslice\u001b[0m\u001b[0;34m)\u001b[0m\u001b[0;34m:\u001b[0m\u001b[0;34m\u001b[0m\u001b[0;34m\u001b[0m\u001b[0m\n\u001b[1;32m    679\u001b[0m             start, stop, step = self._process_range(\n",
      "\u001b[0;32m/data/pegasus/mokaya/miniconda3/envs/aizynth-dev/lib/python3.8/site-packages/tables/vlarray.py\u001b[0m in \u001b[0;36mread\u001b[0;34m(self, start, stop, step)\u001b[0m\n\u001b[1;32m    819\u001b[0m         \u001b[0matom\u001b[0m \u001b[0;34m=\u001b[0m \u001b[0mself\u001b[0m\u001b[0;34m.\u001b[0m\u001b[0matom\u001b[0m\u001b[0;34m\u001b[0m\u001b[0;34m\u001b[0m\u001b[0m\n\u001b[1;32m    820\u001b[0m         \u001b[0;32mif\u001b[0m \u001b[0;32mnot\u001b[0m \u001b[0mhasattr\u001b[0m\u001b[0;34m(\u001b[0m\u001b[0matom\u001b[0m\u001b[0;34m,\u001b[0m \u001b[0;34m'size'\u001b[0m\u001b[0;34m)\u001b[0m\u001b[0;34m:\u001b[0m  \u001b[0;31m# it is a pseudo-atom\u001b[0m\u001b[0;34m\u001b[0m\u001b[0;34m\u001b[0m\u001b[0m\n\u001b[0;32m--> 821\u001b[0;31m             \u001b[0moutlistarr\u001b[0m \u001b[0;34m=\u001b[0m \u001b[0;34m[\u001b[0m\u001b[0matom\u001b[0m\u001b[0;34m.\u001b[0m\u001b[0mfromarray\u001b[0m\u001b[0;34m(\u001b[0m\u001b[0marr\u001b[0m\u001b[0;34m)\u001b[0m \u001b[0;32mfor\u001b[0m \u001b[0marr\u001b[0m \u001b[0;32min\u001b[0m \u001b[0mlistarr\u001b[0m\u001b[0;34m]\u001b[0m\u001b[0;34m\u001b[0m\u001b[0;34m\u001b[0m\u001b[0m\n\u001b[0m\u001b[1;32m    822\u001b[0m         \u001b[0;32melse\u001b[0m\u001b[0;34m:\u001b[0m\u001b[0;34m\u001b[0m\u001b[0;34m\u001b[0m\u001b[0m\n\u001b[1;32m    823\u001b[0m             \u001b[0;31m# Convert the list to the right flavor\u001b[0m\u001b[0;34m\u001b[0m\u001b[0;34m\u001b[0m\u001b[0;34m\u001b[0m\u001b[0m\n",
      "\u001b[0;32m/data/pegasus/mokaya/miniconda3/envs/aizynth-dev/lib/python3.8/site-packages/tables/vlarray.py\u001b[0m in \u001b[0;36m<listcomp>\u001b[0;34m(.0)\u001b[0m\n\u001b[1;32m    819\u001b[0m         \u001b[0matom\u001b[0m \u001b[0;34m=\u001b[0m \u001b[0mself\u001b[0m\u001b[0;34m.\u001b[0m\u001b[0matom\u001b[0m\u001b[0;34m\u001b[0m\u001b[0;34m\u001b[0m\u001b[0m\n\u001b[1;32m    820\u001b[0m         \u001b[0;32mif\u001b[0m \u001b[0;32mnot\u001b[0m \u001b[0mhasattr\u001b[0m\u001b[0;34m(\u001b[0m\u001b[0matom\u001b[0m\u001b[0;34m,\u001b[0m \u001b[0;34m'size'\u001b[0m\u001b[0;34m)\u001b[0m\u001b[0;34m:\u001b[0m  \u001b[0;31m# it is a pseudo-atom\u001b[0m\u001b[0;34m\u001b[0m\u001b[0;34m\u001b[0m\u001b[0m\n\u001b[0;32m--> 821\u001b[0;31m             \u001b[0moutlistarr\u001b[0m \u001b[0;34m=\u001b[0m \u001b[0;34m[\u001b[0m\u001b[0matom\u001b[0m\u001b[0;34m.\u001b[0m\u001b[0mfromarray\u001b[0m\u001b[0;34m(\u001b[0m\u001b[0marr\u001b[0m\u001b[0;34m)\u001b[0m \u001b[0;32mfor\u001b[0m \u001b[0marr\u001b[0m \u001b[0;32min\u001b[0m \u001b[0mlistarr\u001b[0m\u001b[0;34m]\u001b[0m\u001b[0;34m\u001b[0m\u001b[0;34m\u001b[0m\u001b[0m\n\u001b[0m\u001b[1;32m    822\u001b[0m         \u001b[0;32melse\u001b[0m\u001b[0;34m:\u001b[0m\u001b[0;34m\u001b[0m\u001b[0;34m\u001b[0m\u001b[0m\n\u001b[1;32m    823\u001b[0m             \u001b[0;31m# Convert the list to the right flavor\u001b[0m\u001b[0;34m\u001b[0m\u001b[0;34m\u001b[0m\u001b[0;34m\u001b[0m\u001b[0m\n",
      "\u001b[0;32m/data/pegasus/mokaya/miniconda3/envs/aizynth-dev/lib/python3.8/site-packages/tables/atom.py\u001b[0m in \u001b[0;36mfromarray\u001b[0;34m(self, array)\u001b[0m\n\u001b[1;32m   1222\u001b[0m         \u001b[0;32mif\u001b[0m \u001b[0marray\u001b[0m\u001b[0;34m.\u001b[0m\u001b[0msize\u001b[0m \u001b[0;34m==\u001b[0m \u001b[0;36m0\u001b[0m\u001b[0;34m:\u001b[0m\u001b[0;34m\u001b[0m\u001b[0;34m\u001b[0m\u001b[0m\n\u001b[1;32m   1223\u001b[0m             \u001b[0;32mreturn\u001b[0m \u001b[0;32mNone\u001b[0m\u001b[0;34m\u001b[0m\u001b[0;34m\u001b[0m\u001b[0m\n\u001b[0;32m-> 1224\u001b[0;31m         \u001b[0;32mreturn\u001b[0m \u001b[0mpickle\u001b[0m\u001b[0;34m.\u001b[0m\u001b[0mloads\u001b[0m\u001b[0;34m(\u001b[0m\u001b[0marray\u001b[0m\u001b[0;34m.\u001b[0m\u001b[0mtostring\u001b[0m\u001b[0;34m(\u001b[0m\u001b[0;34m)\u001b[0m\u001b[0;34m)\u001b[0m\u001b[0;34m\u001b[0m\u001b[0;34m\u001b[0m\u001b[0m\n\u001b[0m",
      "\u001b[0;31mKeyboardInterrupt\u001b[0m: "
     ]
    }
   ],
   "source": [
    "#create list of all pathways scores => Route cost scorer\n",
    "top_scores = []\n",
    "for int, i in enumerate(solved_trees):\n",
    "    val = mutils.calculate_cost_from_trees(i, config_file)\n",
    "    print('mol: ', int)\n",
    "    top_scores.append(val)"
   ]
  },
  {
   "cell_type": "code",
   "execution_count": 6,
   "metadata": {},
   "outputs": [
    {
     "ename": "NameError",
     "evalue": "name 'top_scores' is not defined",
     "output_type": "error",
     "traceback": [
      "\u001b[0;31m---------------------------------------------------------------------------\u001b[0m",
      "\u001b[0;31mNameError\u001b[0m                                 Traceback (most recent call last)",
      "\u001b[0;32m<ipython-input-6-cec93803d594>\u001b[0m in \u001b[0;36m<module>\u001b[0;34m\u001b[0m\n\u001b[1;32m      1\u001b[0m \u001b[0;31m# all scores\u001b[0m\u001b[0;34m\u001b[0m\u001b[0;34m\u001b[0m\u001b[0;34m\u001b[0m\u001b[0m\n\u001b[1;32m      2\u001b[0m \u001b[0mall_scores\u001b[0m \u001b[0;34m=\u001b[0m \u001b[0;34m[\u001b[0m\u001b[0;34m]\u001b[0m\u001b[0;34m\u001b[0m\u001b[0;34m\u001b[0m\u001b[0m\n\u001b[0;32m----> 3\u001b[0;31m \u001b[0;32mfor\u001b[0m \u001b[0mi\u001b[0m \u001b[0;32min\u001b[0m \u001b[0mtop_scores\u001b[0m\u001b[0;34m:\u001b[0m\u001b[0;34m\u001b[0m\u001b[0;34m\u001b[0m\u001b[0m\n\u001b[0m\u001b[1;32m      4\u001b[0m     \u001b[0;32mfor\u001b[0m \u001b[0mp\u001b[0m \u001b[0;32min\u001b[0m \u001b[0mi\u001b[0m\u001b[0;34m:\u001b[0m\u001b[0;34m\u001b[0m\u001b[0;34m\u001b[0m\u001b[0m\n\u001b[1;32m      5\u001b[0m         \u001b[0mall_scores\u001b[0m\u001b[0;34m.\u001b[0m\u001b[0mappend\u001b[0m\u001b[0;34m(\u001b[0m\u001b[0;34m)\u001b[0m\u001b[0;34m\u001b[0m\u001b[0;34m\u001b[0m\u001b[0m\n",
      "\u001b[0;31mNameError\u001b[0m: name 'top_scores' is not defined"
     ]
    }
   ],
   "source": [
    "# all scores\n",
    "all_scores = []\n",
    "for i in top_scores:\n",
    "    for p in i:\n",
    "        all_scores.append()\n"
   ]
  },
  {
   "cell_type": "code",
   "execution_count": 46,
   "metadata": {},
   "outputs": [],
   "source": [
    "#create list containing all pathway 'top_scores'\n",
    "top_scores = solved_data.top_scores.values\n",
    "int_top_scores = [float(s) for i in top_scores for s in i.split(',')]"
   ]
  },
  {
   "cell_type": "code",
   "execution_count": 47,
   "metadata": {},
   "outputs": [
    {
     "data": {
      "text/plain": "\"\\nimage_folder = '/data/localhost/not-backed-up/mokaya/exscientia/aizynthfinder/Maranga/experiments/explore/results/images/tg1_std/'\\n\\nmutils.generate_images_from_hdf(input_filename, image_folder)\\n\""
     },
     "execution_count": 47,
     "metadata": {},
     "output_type": "execute_result"
    }
   ],
   "source": [
    "#UNCOMMENT IF FIRST TIME WITH NEW FILE\n",
    "\n",
    "#save images of solved reactions to filename ouput\n",
    "'''\n",
    "image_folder = '/data/localhost/not-backed-up/mokaya/exscientia/aizynthfinder/Maranga/experiments/explore/results/images/tg1_std/'\n",
    "\n",
    "mutils.generate_images_from_hdf(input_filename, image_folder)\n",
    "'''"
   ]
  },
  {
   "cell_type": "code",
   "execution_count": 48,
   "metadata": {},
   "outputs": [],
   "source": [
    "#pull out smile/smarts for each => list of lists\n",
    "smiles_smarts_gen = [[index, mutils.findkeys(pathway, 'smiles')] for index, molecule in enumerate(solved_trees) for pathway in molecule]\n",
    "smiles_smarts = [[i[0], list(i[1])] for i in smiles_smarts_gen]\n",
    "smarts = [[i[0], mutils.remove_non_smarts(i[1])] for i in smiles_smarts]"
   ]
  },
  {
   "cell_type": "code",
   "execution_count": 49,
   "metadata": {},
   "outputs": [],
   "source": [
    "#convert list of list of smarts to list of rxns => [[rnx1, rnx2, ..], [rxn2, rxn2, ...]]\n",
    "pathway_rxns = []\n",
    "for pathway in smarts:\n",
    "    rxns = [pathway[0]]\n",
    "    actual_rxns = [mutils.generate_rxns(i) for i in pathway[1]]\n",
    "    rxns.append(actual_rxns)\n",
    "    pathway_rxns.append(rxns)\n"
   ]
  },
  {
   "cell_type": "code",
   "execution_count": 50,
   "metadata": {},
   "outputs": [
    {
     "name": "stdout",
     "output_type": "stream",
     "text": [
      "545\n"
     ]
    }
   ],
   "source": [
    "num_reactions = len(pathway_rxns)\n",
    "print(num_reactions)"
   ]
  },
  {
   "cell_type": "code",
   "execution_count": 51,
   "metadata": {},
   "outputs": [],
   "source": [
    "#generate reaction finderprint for eac hreaction => [[rnx1fp, rnx2fp, ..], [rxn2fp, rxn2fp, ...]]\n",
    "pathway_fps = []\n",
    "all_fingerprints= []\n",
    "\n",
    "count = 0\n",
    "previous_length = 0\n",
    "for index, pathway in enumerate(pathway_rxns):\n",
    "    fingerprints = [[pathway[0], index, rindex+previous_length, rdChemReactions.CreateStructuralFingerprintForReaction(reaction)] for rindex, reaction in enumerate(pathway[1])]\n",
    "    all_fingerprints.extend(fingerprints)\n",
    "    previous_length += len(pathway[1])"
   ]
  },
  {
   "cell_type": "code",
   "execution_count": 52,
   "metadata": {
    "tags": []
   },
   "outputs": [],
   "source": [
    "#butina cluster all the reactions\n",
    "from rdkit.ML.Cluster import Butina\n",
    "\n",
    "cutoff = 0.2\n",
    "\n",
    "dists = []\n",
    "\n",
    "for i in range(len(all_fingerprints)):\n",
    "    sims = DataStructs.BulkTanimotoSimilarity(all_fingerprints[i][3], [x[3] for x in all_fingerprints[:i]])\n",
    "    dists.extend([1-x for x in sims])\n",
    "\n",
    "clusters = Butina.ClusterData(dists, len(all_fingerprints), cutoff, isDistData=True)"
   ]
  },
  {
   "cell_type": "code",
   "execution_count": 53,
   "metadata": {},
   "outputs": [],
   "source": [
    "#convert 'all_fingerprints' to dict'\n",
    "all_fp_dict = {}\n",
    "for i in all_fingerprints:\n",
    "    all_fp_dict[i[2]] = {\n",
    "        'molecule': i[0],\n",
    "        'pathway': i[1],\n",
    "        'reaction index': i[2],\n",
    "        'fingerprint': i[3]\n",
    "    }"
   ]
  },
  {
   "cell_type": "code",
   "execution_count": 54,
   "metadata": {},
   "outputs": [],
   "source": [
    "#add cluster to each reaction info list (in all_fingerprints => [[mol, pathway, rxn index, fingerprint, cluster]])\n",
    "for index in range(len(clusters)):\n",
    "    for val in clusters[index]:\n",
    "        all_fingerprints[val].append(index)\n",
    "        all_fp_dict[val]['cluster'] = index"
   ]
  },
  {
   "cell_type": "code",
   "execution_count": 55,
   "metadata": {
    "tags": []
   },
   "outputs": [],
   "source": [
    "#convert each fingperint to a dict representing each pathway \n",
    "all_vectors = []\n",
    "for r in range(num_reactions):\n",
    "    checklist = [i for i in all_fingerprints if i[1] == r]\n",
    "    vector_dict = dict.fromkeys(range(len(clusters)), 0)\n",
    "    for reaction in checklist:\n",
    "        vector_dict[reaction[4]] += 1\n",
    "    all_vectors.append(vector_dict)"
   ]
  },
  {
   "cell_type": "code",
   "execution_count": 56,
   "metadata": {},
   "outputs": [],
   "source": [
    "#convert dict to vector representing each pathway\n",
    "rxn_vectors = [[indx, list(i.values())] for indx, i in enumerate(all_vectors)]"
   ]
  },
  {
   "cell_type": "code",
   "execution_count": 57,
   "metadata": {},
   "outputs": [],
   "source": [
    "#kmeans clustering in to X groups\n",
    "from sklearn.cluster import KMeans\n",
    "\n",
    "num_clusters = 5\n",
    "\n",
    "X = [i[1] for i in rxn_vectors]\n",
    "\n",
    "kmeans = KMeans(n_clusters=num_clusters, random_state=0).fit(X)\n",
    "\n",
    "centres = kmeans.cluster_centers_\n",
    "labels = kmeans.labels_"
   ]
  },
  {
   "cell_type": "code",
   "execution_count": 58,
   "metadata": {},
   "outputs": [],
   "source": [
    "#elbow method to generate clusters\n",
    "px = [i[0] for i in centres]\n",
    "py = [i[1] for i in centres]"
   ]
  },
  {
   "cell_type": "code",
   "execution_count": 59,
   "metadata": {},
   "outputs": [
    {
     "data": {
      "image/png": "[encoded data removed]",
      "text/plain": "<Figure size 432x288 with 1 Axes>"
     },
     "metadata": {
      "needs_background": "light",
      "transient": {}
     },
     "output_type": "display_data"
    }
   ],
   "source": [
    "#generate stacked bar chart\n",
    "%matplotlib inline\n",
    "import matplotlib.pyplot as plt \n",
    "\n",
    "plt.scatter(px, py)\n",
    "plt.xlabel('Feature 1')\n",
    "plt.ylabel('Feature 2')\n",
    "plt.savefig('/data/localhost/not-backed-up/mokaya/exscientia/aizynthfinder/Maranga/Images/centres_explore_1.png')\n",
    "plt.show()"
   ]
  },
  {
   "cell_type": "code",
   "execution_count": 60,
   "metadata": {},
   "outputs": [],
   "source": [
    "#generate list of lists for each pathway => index, vector, cluster, score.\n",
    "cost_vector = []\n",
    "for i in range(num_reactions):\n",
    "    cost_vector.append([i, rxn_vectors[i][1], labels[i], int_top_scores[i]])"
   ]
  },
  {
   "cell_type": "code",
   "execution_count": 23,
   "metadata": {},
   "outputs": [
    {
     "name": "stdout",
     "output_type": "stream",
     "text": [
      "0.9008555555555554\n"
     ]
    }
   ],
   "source": [
    "check_one = [i[3] for i in cost_vector if (i[2] == 4)]\n",
    "print(np.mean(check_one))"
   ]
  },
  {
   "cell_type": "code",
   "execution_count": 38,
   "metadata": {},
   "outputs": [],
   "source": [
    "#create dataframe with columns: pathway index, clusters, vector\n",
    "indexes = list(np.arange(0,num_reactions))\n",
    "vectors = [p[1] for p in rxn_vectors]\n",
    "zero = [p[1][0] for p in rxn_vectors]\n",
    "one = [p[1][1] for p in rxn_vectors]\n",
    "two = [p[1][2] for p in rxn_vectors]\n",
    "three = [p[1][3] for p in rxn_vectors]\n",
    "cluster_labels = list(kmeans.labels_)"
   ]
  },
  {
   "cell_type": "code",
   "execution_count": 39,
   "metadata": {},
   "outputs": [],
   "source": [
    "df_data = {\n",
    "    'reaction_indx': indexes,\n",
    "    'vectors': vectors,\n",
    "    'zero': zero,\n",
    "    'one': one,\n",
    "    'two': two,\n",
    "    'three': three,\n",
    "    'clusters': cluster_labels\n",
    "}\n",
    "\n",
    "dataframe = pd.DataFrame(df_data, columns=list(df_data.keys()))"
   ]
  },
  {
   "cell_type": "code",
   "execution_count": 40,
   "metadata": {
    "tags": []
   },
   "outputs": [
    {
     "name": "stdout",
     "output_type": "stream",
     "text": [
      "   reaction_indx                                            vectors  zero  \\\n",
      "0              0  [2, 1, 0, 1, 1, 0, 1, 0, 0, 0, 0, 0, 0, 0, 0, ...     2   \n",
      "1              1  [0, 0, 1, 0, 0, 3, 0, 0, 0, 0, 0, 0, 0, 0, 1, ...     0   \n",
      "2              2  [0, 2, 0, 0, 0, 1, 0, 0, 1, 0, 0, 0, 0, 0, 1, ...     0   \n",
      "3              3  [0, 2, 0, 0, 0, 1, 0, 0, 1, 0, 0, 0, 0, 0, 1, ...     0   \n",
      "4              4  [0, 2, 0, 0, 0, 1, 0, 0, 1, 0, 0, 0, 0, 0, 1, ...     0   \n",
      "\n",
      "   one  two  three  clusters  \n",
      "0    1    0      1         1  \n",
      "1    0    1      0         0  \n",
      "2    2    0      0         4  \n",
      "3    2    0      0         4  \n",
      "4    2    0      0         4  \n"
     ]
    }
   ],
   "source": [
    "print(dataframe.head())"
   ]
  },
  {
   "cell_type": "code",
   "execution_count": 47,
   "metadata": {},
   "outputs": [
    {
     "name": "stdout",
     "output_type": "stream",
     "text": [
      "C [1, 1, 1, 1, 2, 3, 3, 3, 4, 4]\n"
     ]
    },
    {
     "data": {
      "image/png": "[encoded data removed]",
      "image/svg+xml": "<?xml version=\"1.0\" encoding=\"utf-8\" standalone=\"no\"?>\n<!DOCTYPE svg PUBLIC \"-//W3C//DTD SVG 1.1//EN\"\n  \"http://www.w3.org/Graphics/SVG/1.1/DTD/svg11.dtd\">\n<!-- Created with matplotlib (https://matplotlib.org/) -->\n<svg height=\"588.35625pt\" version=\"1.1\" viewBox=\"0 0 864.7625 588.35625\" width=\"864.7625pt\" xmlns=\"http://www.w3.org/2000/svg\" xmlns:xlink=\"http://www.w3.org/1999/xlink\">\n <metadata>\n  <rdf:RDF xmlns:cc=\"http://creativecommons.org/ns#\" xmlns:dc=\"http://purl.org/dc/elements/1.1/\" xmlns:rdf=\"http://www.w3.org/1999/02/22-rdf-syntax-ns#\">\n   <cc:Work>\n    <dc:type rdf:resource=\"http://purl.org/dc/dcmitype/StillImage\"/>\n    <dc:date>2021-04-23T12:08:03.626062</dc:date>\n    <dc:format>image/svg+xml</dc:format>\n    <dc:creator>\n     <cc:Agent>\n      <dc:title>Matplotlib v3.3.4, https://matplotlib.org/</dc:title>\n     </cc:Agent>\n    </dc:creator>\n   </cc:Work>\n  </rdf:RDF>\n </metadata>\n <defs>\n  <style type=\"text/css\">*{stroke-linecap:butt;stroke-linejoin:round;}</style>\n </defs>\n <g id=\"figure_1\">\n  <g id=\"patch_1\">\n   <path d=\"M 0 588.35625 \nL 864.7625 588.35625 \nL 864.7625 0 \nL 0 0 \nz\n\" style=\"fill:none;\"/>\n  </g>\n  <g id=\"axes_1\">\n   <g id=\"patch_2\">\n    <path d=\"M 20.5625 550.8 \nL 857.5625 550.8 \nL 857.5625 7.2 \nL 20.5625 7.2 \nz\n\" style=\"fill:#ffffff;\"/>\n   </g>\n   <g id=\"patch_3\">\n    <path clip-path=\"url(#p5cf7b88256)\" d=\"M 58.607955 550.8 \nL 196.955062 550.8 \nL 196.955062 447.257143 \nL 58.607955 447.257143 \nz\n\" style=\"fill:#0000ff;\"/>\n   </g>\n   <g id=\"patch_4\">\n    <path clip-path=\"url(#p5cf7b88256)\" d=\"M 127.781508 550.8 \nL 266.128616 550.8 \nL 266.128616 447.257143 \nL 127.781508 447.257143 \nz\n\" style=\"fill:#0000ff;\"/>\n   </g>\n   <g id=\"patch_5\">\n    <path clip-path=\"url(#p5cf7b88256)\" d=\"M 196.955062 550.8 \nL 335.302169 550.8 \nL 335.302169 343.714286 \nL 196.955062 343.714286 \nz\n\" style=\"fill:#0000ff;\"/>\n   </g>\n   <g id=\"patch_6\">\n    <path clip-path=\"url(#p5cf7b88256)\" d=\"M 266.128616 550.8 \nL 404.475723 550.8 \nL 404.475723 447.257143 \nL 266.128616 447.257143 \nz\n\" style=\"fill:#0000ff;\"/>\n   </g>\n   <g id=\"patch_7\">\n    <path clip-path=\"url(#p5cf7b88256)\" d=\"M 335.302169 550.8 \nL 473.649277 550.8 \nL 473.649277 550.8 \nL 335.302169 550.8 \nz\n\" style=\"fill:#0000ff;\"/>\n   </g>\n   <g id=\"patch_8\">\n    <path clip-path=\"url(#p5cf7b88256)\" d=\"M 404.475723 550.8 \nL 542.822831 550.8 \nL 542.822831 240.171429 \nL 404.475723 240.171429 \nz\n\" style=\"fill:#0000ff;\"/>\n   </g>\n   <g id=\"patch_9\">\n    <path clip-path=\"url(#p5cf7b88256)\" d=\"M 473.649277 550.8 \nL 611.996384 550.8 \nL 611.996384 343.714286 \nL 473.649277 343.714286 \nz\n\" style=\"fill:#0000ff;\"/>\n   </g>\n   <g id=\"patch_10\">\n    <path clip-path=\"url(#p5cf7b88256)\" d=\"M 542.822831 550.8 \nL 681.169938 550.8 \nL 681.169938 343.714286 \nL 542.822831 343.714286 \nz\n\" style=\"fill:#0000ff;\"/>\n   </g>\n   <g id=\"patch_11\">\n    <path clip-path=\"url(#p5cf7b88256)\" d=\"M 611.996384 550.8 \nL 750.343492 550.8 \nL 750.343492 447.257143 \nL 611.996384 447.257143 \nz\n\" style=\"fill:#0000ff;\"/>\n   </g>\n   <g id=\"patch_12\">\n    <path clip-path=\"url(#p5cf7b88256)\" d=\"M 681.169938 550.8 \nL 819.517045 550.8 \nL 819.517045 447.257143 \nL 681.169938 447.257143 \nz\n\" style=\"fill:#0000ff;\"/>\n   </g>\n   <g id=\"patch_13\">\n    <path clip-path=\"url(#p5cf7b88256)\" d=\"M 58.607955 447.257143 \nL 196.955062 447.257143 \nL 196.955062 447.257143 \nL 58.607955 447.257143 \nz\n\" style=\"fill:#808080;\"/>\n   </g>\n   <g id=\"patch_14\">\n    <path clip-path=\"url(#p5cf7b88256)\" d=\"M 127.781508 447.257143 \nL 266.128616 447.257143 \nL 266.128616 343.714286 \nL 127.781508 343.714286 \nz\n\" style=\"fill:#808080;\"/>\n   </g>\n   <g id=\"patch_15\">\n    <path clip-path=\"url(#p5cf7b88256)\" d=\"M 196.955062 343.714286 \nL 335.302169 343.714286 \nL 335.302169 240.171429 \nL 196.955062 240.171429 \nz\n\" style=\"fill:#808080;\"/>\n   </g>\n   <g id=\"patch_16\">\n    <path clip-path=\"url(#p5cf7b88256)\" d=\"M 266.128616 447.257143 \nL 404.475723 447.257143 \nL 404.475723 343.714286 \nL 266.128616 343.714286 \nz\n\" style=\"fill:#808080;\"/>\n   </g>\n   <g id=\"patch_17\">\n    <path clip-path=\"url(#p5cf7b88256)\" d=\"M 335.302169 550.8 \nL 473.649277 550.8 \nL 473.649277 447.257143 \nL 335.302169 447.257143 \nz\n\" style=\"fill:#808080;\"/>\n   </g>\n   <g id=\"patch_18\">\n    <path clip-path=\"url(#p5cf7b88256)\" d=\"M 404.475723 240.171429 \nL 542.822831 240.171429 \nL 542.822831 136.628571 \nL 404.475723 136.628571 \nz\n\" style=\"fill:#808080;\"/>\n   </g>\n   <g id=\"patch_19\">\n    <path clip-path=\"url(#p5cf7b88256)\" d=\"M 473.649277 343.714286 \nL 611.996384 343.714286 \nL 611.996384 240.171429 \nL 473.649277 240.171429 \nz\n\" style=\"fill:#808080;\"/>\n   </g>\n   <g id=\"patch_20\">\n    <path clip-path=\"url(#p5cf7b88256)\" d=\"M 542.822831 343.714286 \nL 681.169938 343.714286 \nL 681.169938 240.171429 \nL 542.822831 240.171429 \nz\n\" style=\"fill:#808080;\"/>\n   </g>\n   <g id=\"patch_21\">\n    <path clip-path=\"url(#p5cf7b88256)\" d=\"M 611.996384 447.257143 \nL 750.343492 447.257143 \nL 750.343492 343.714286 \nL 611.996384 343.714286 \nz\n\" style=\"fill:#808080;\"/>\n   </g>\n   <g id=\"patch_22\">\n    <path clip-path=\"url(#p5cf7b88256)\" d=\"M 681.169938 447.257143 \nL 819.517045 447.257143 \nL 819.517045 343.714286 \nL 681.169938 343.714286 \nz\n\" style=\"fill:#808080;\"/>\n   </g>\n   <g id=\"patch_23\">\n    <path clip-path=\"url(#p5cf7b88256)\" d=\"M 58.607955 447.257143 \nL 196.955062 447.257143 \nL 196.955062 447.257143 \nL 58.607955 447.257143 \nz\n\" style=\"fill:#008000;\"/>\n   </g>\n   <g id=\"patch_24\">\n    <path clip-path=\"url(#p5cf7b88256)\" d=\"M 127.781508 343.714286 \nL 266.128616 343.714286 \nL 266.128616 343.714286 \nL 127.781508 343.714286 \nz\n\" style=\"fill:#008000;\"/>\n   </g>\n   <g id=\"patch_25\">\n    <path clip-path=\"url(#p5cf7b88256)\" d=\"M 196.955062 240.171429 \nL 335.302169 240.171429 \nL 335.302169 240.171429 \nL 196.955062 240.171429 \nz\n\" style=\"fill:#008000;\"/>\n   </g>\n   <g id=\"patch_26\">\n    <path clip-path=\"url(#p5cf7b88256)\" d=\"M 266.128616 343.714286 \nL 404.475723 343.714286 \nL 404.475723 343.714286 \nL 266.128616 343.714286 \nz\n\" style=\"fill:#008000;\"/>\n   </g>\n   <g id=\"patch_27\">\n    <path clip-path=\"url(#p5cf7b88256)\" d=\"M 335.302169 447.257143 \nL 473.649277 447.257143 \nL 473.649277 447.257143 \nL 335.302169 447.257143 \nz\n\" style=\"fill:#008000;\"/>\n   </g>\n   <g id=\"patch_28\">\n    <path clip-path=\"url(#p5cf7b88256)\" d=\"M 404.475723 136.628571 \nL 542.822831 136.628571 \nL 542.822831 136.628571 \nL 404.475723 136.628571 \nz\n\" style=\"fill:#008000;\"/>\n   </g>\n   <g id=\"patch_29\">\n    <path clip-path=\"url(#p5cf7b88256)\" d=\"M 473.649277 240.171429 \nL 611.996384 240.171429 \nL 611.996384 240.171429 \nL 473.649277 240.171429 \nz\n\" style=\"fill:#008000;\"/>\n   </g>\n   <g id=\"patch_30\">\n    <path clip-path=\"url(#p5cf7b88256)\" d=\"M 542.822831 240.171429 \nL 681.169938 240.171429 \nL 681.169938 240.171429 \nL 542.822831 240.171429 \nz\n\" style=\"fill:#008000;\"/>\n   </g>\n   <g id=\"patch_31\">\n    <path clip-path=\"url(#p5cf7b88256)\" d=\"M 611.996384 343.714286 \nL 750.343492 343.714286 \nL 750.343492 343.714286 \nL 611.996384 343.714286 \nz\n\" style=\"fill:#008000;\"/>\n   </g>\n   <g id=\"patch_32\">\n    <path clip-path=\"url(#p5cf7b88256)\" d=\"M 681.169938 343.714286 \nL 819.517045 343.714286 \nL 819.517045 343.714286 \nL 681.169938 343.714286 \nz\n\" style=\"fill:#008000;\"/>\n   </g>\n   <g id=\"patch_33\">\n    <path clip-path=\"url(#p5cf7b88256)\" d=\"M 58.607955 447.257143 \nL 196.955062 447.257143 \nL 196.955062 343.714286 \nL 58.607955 343.714286 \nz\n\" style=\"fill:#ffa500;\"/>\n   </g>\n   <g id=\"patch_34\">\n    <path clip-path=\"url(#p5cf7b88256)\" d=\"M 127.781508 343.714286 \nL 266.128616 343.714286 \nL 266.128616 240.171429 \nL 127.781508 240.171429 \nz\n\" style=\"fill:#ffa500;\"/>\n   </g>\n   <g id=\"patch_35\">\n    <path clip-path=\"url(#p5cf7b88256)\" d=\"M 196.955062 240.171429 \nL 335.302169 240.171429 \nL 335.302169 136.628571 \nL 196.955062 136.628571 \nz\n\" style=\"fill:#ffa500;\"/>\n   </g>\n   <g id=\"patch_36\">\n    <path clip-path=\"url(#p5cf7b88256)\" d=\"M 266.128616 343.714286 \nL 404.475723 343.714286 \nL 404.475723 240.171429 \nL 266.128616 240.171429 \nz\n\" style=\"fill:#ffa500;\"/>\n   </g>\n   <g id=\"patch_37\">\n    <path clip-path=\"url(#p5cf7b88256)\" d=\"M 335.302169 447.257143 \nL 473.649277 447.257143 \nL 473.649277 343.714286 \nL 335.302169 343.714286 \nz\n\" style=\"fill:#ffa500;\"/>\n   </g>\n   <g id=\"patch_38\">\n    <path clip-path=\"url(#p5cf7b88256)\" d=\"M 404.475723 136.628571 \nL 542.822831 136.628571 \nL 542.822831 33.085714 \nL 404.475723 33.085714 \nz\n\" style=\"fill:#ffa500;\"/>\n   </g>\n   <g id=\"patch_39\">\n    <path clip-path=\"url(#p5cf7b88256)\" d=\"M 473.649277 240.171429 \nL 611.996384 240.171429 \nL 611.996384 136.628571 \nL 473.649277 136.628571 \nz\n\" style=\"fill:#ffa500;\"/>\n   </g>\n   <g id=\"patch_40\">\n    <path clip-path=\"url(#p5cf7b88256)\" d=\"M 542.822831 240.171429 \nL 681.169938 240.171429 \nL 681.169938 136.628571 \nL 542.822831 136.628571 \nz\n\" style=\"fill:#ffa500;\"/>\n   </g>\n   <g id=\"patch_41\">\n    <path clip-path=\"url(#p5cf7b88256)\" d=\"M 611.996384 343.714286 \nL 750.343492 343.714286 \nL 750.343492 343.714286 \nL 611.996384 343.714286 \nz\n\" style=\"fill:#ffa500;\"/>\n   </g>\n   <g id=\"patch_42\">\n    <path clip-path=\"url(#p5cf7b88256)\" d=\"M 681.169938 343.714286 \nL 819.517045 343.714286 \nL 819.517045 343.714286 \nL 681.169938 343.714286 \nz\n\" style=\"fill:#ffa500;\"/>\n   </g>\n   <g id=\"matplotlib.axis_1\">\n    <g id=\"xtick_1\">\n     <g id=\"line2d_1\">\n      <defs>\n       <path d=\"M 0 0 \nL 0 3.5 \n\" id=\"mafbc2babe8\" style=\"stroke:#000000;stroke-width:0.8;\"/>\n      </defs>\n      <g>\n       <use style=\"stroke:#000000;stroke-width:0.8;\" x=\"127.781508\" xlink:href=\"#mafbc2babe8\" y=\"550.8\"/>\n      </g>\n     </g>\n     <g id=\"text_1\">\n      <!-- 107 -->\n      <g transform=\"translate(117.34479 565.398438)scale(0.1 -0.1)\">\n       <defs>\n        <path d=\"M 11.71875 12.984375 \nL 28.328125 12.984375 \nL 28.328125 60.109375 \nL 11.28125 56.59375 \nL 11.28125 69.390625 \nL 28.21875 72.90625 \nL 46.09375 72.90625 \nL 46.09375 12.984375 \nL 62.703125 12.984375 \nL 62.703125 0 \nL 11.71875 0 \nz\n\" id=\"DejaVuSans-Bold-49\"/>\n        <path d=\"M 46 36.53125 \nQ 46 50.203125 43.4375 55.78125 \nQ 40.875 61.375 34.8125 61.375 \nQ 28.765625 61.375 26.171875 55.78125 \nQ 23.578125 50.203125 23.578125 36.53125 \nQ 23.578125 22.703125 26.171875 17.03125 \nQ 28.765625 11.375 34.8125 11.375 \nQ 40.828125 11.375 43.40625 17.03125 \nQ 46 22.703125 46 36.53125 \nz\nM 64.796875 36.375 \nQ 64.796875 18.265625 56.984375 8.421875 \nQ 49.171875 -1.421875 34.8125 -1.421875 \nQ 20.40625 -1.421875 12.59375 8.421875 \nQ 4.78125 18.265625 4.78125 36.375 \nQ 4.78125 54.546875 12.59375 64.375 \nQ 20.40625 74.21875 34.8125 74.21875 \nQ 49.171875 74.21875 56.984375 64.375 \nQ 64.796875 54.546875 64.796875 36.375 \nz\n\" id=\"DejaVuSans-Bold-48\"/>\n        <path d=\"M 6.6875 72.90625 \nL 61.625 72.90625 \nL 61.625 62.3125 \nL 33.203125 0 \nL 14.890625 0 \nL 41.796875 59.078125 \nL 6.6875 59.078125 \nz\n\" id=\"DejaVuSans-Bold-55\"/>\n       </defs>\n       <use xlink:href=\"#DejaVuSans-Bold-49\"/>\n       <use x=\"69.580078\" xlink:href=\"#DejaVuSans-Bold-48\"/>\n       <use x=\"139.160156\" xlink:href=\"#DejaVuSans-Bold-55\"/>\n      </g>\n     </g>\n    </g>\n    <g id=\"xtick_2\">\n     <g id=\"line2d_2\">\n      <g>\n       <use style=\"stroke:#000000;stroke-width:0.8;\" x=\"196.955062\" xlink:href=\"#mafbc2babe8\" y=\"550.8\"/>\n      </g>\n     </g>\n     <g id=\"text_2\">\n      <!-- 286 -->\n      <g transform=\"translate(186.518343 565.398438)scale(0.1 -0.1)\">\n       <defs>\n        <path d=\"M 28.8125 13.8125 \nL 60.890625 13.8125 \nL 60.890625 0 \nL 7.90625 0 \nL 7.90625 13.8125 \nL 34.515625 37.3125 \nQ 38.09375 40.53125 39.796875 43.609375 \nQ 41.5 46.6875 41.5 50 \nQ 41.5 55.125 38.0625 58.25 \nQ 34.625 61.375 28.90625 61.375 \nQ 24.515625 61.375 19.28125 59.5 \nQ 14.0625 57.625 8.109375 53.90625 \nL 8.109375 69.921875 \nQ 14.453125 72.015625 20.65625 73.109375 \nQ 26.859375 74.21875 32.8125 74.21875 \nQ 45.90625 74.21875 53.15625 68.453125 \nQ 60.40625 62.703125 60.40625 52.390625 \nQ 60.40625 46.4375 57.328125 41.28125 \nQ 54.25 36.140625 44.390625 27.484375 \nz\n\" id=\"DejaVuSans-Bold-50\"/>\n        <path d=\"M 34.8125 32.625 \nQ 29.546875 32.625 26.703125 29.734375 \nQ 23.875 26.859375 23.875 21.484375 \nQ 23.875 16.109375 26.703125 13.25 \nQ 29.546875 10.40625 34.8125 10.40625 \nQ 40.046875 10.40625 42.828125 13.25 \nQ 45.609375 16.109375 45.609375 21.484375 \nQ 45.609375 26.90625 42.828125 29.765625 \nQ 40.046875 32.625 34.8125 32.625 \nz\nM 21.09375 38.8125 \nQ 14.453125 40.828125 11.078125 44.96875 \nQ 7.71875 49.125 7.71875 55.328125 \nQ 7.71875 64.546875 14.59375 69.375 \nQ 21.484375 74.21875 34.8125 74.21875 \nQ 48.046875 74.21875 54.921875 69.40625 \nQ 61.8125 64.59375 61.8125 55.328125 \nQ 61.8125 49.125 58.421875 44.96875 \nQ 55.03125 40.828125 48.390625 38.8125 \nQ 55.8125 36.765625 59.59375 32.15625 \nQ 63.375 27.546875 63.375 20.515625 \nQ 63.375 9.671875 56.171875 4.125 \nQ 48.96875 -1.421875 34.8125 -1.421875 \nQ 20.609375 -1.421875 13.359375 4.125 \nQ 6.109375 9.671875 6.109375 20.515625 \nQ 6.109375 27.546875 9.890625 32.15625 \nQ 13.671875 36.765625 21.09375 38.8125 \nz\nM 25.484375 53.421875 \nQ 25.484375 49.078125 27.90625 46.734375 \nQ 30.328125 44.390625 34.8125 44.390625 \nQ 39.203125 44.390625 41.59375 46.734375 \nQ 44 49.078125 44 53.421875 \nQ 44 57.765625 41.59375 60.078125 \nQ 39.203125 62.40625 34.8125 62.40625 \nQ 30.328125 62.40625 27.90625 60.0625 \nQ 25.484375 57.71875 25.484375 53.421875 \nz\n\" id=\"DejaVuSans-Bold-56\"/>\n        <path d=\"M 36.1875 35.984375 \nQ 31.25 35.984375 28.78125 32.78125 \nQ 26.3125 29.59375 26.3125 23.1875 \nQ 26.3125 16.796875 28.78125 13.59375 \nQ 31.25 10.40625 36.1875 10.40625 \nQ 41.15625 10.40625 43.625 13.59375 \nQ 46.09375 16.796875 46.09375 23.1875 \nQ 46.09375 29.59375 43.625 32.78125 \nQ 41.15625 35.984375 36.1875 35.984375 \nz\nM 59.421875 71 \nL 59.421875 57.515625 \nQ 54.78125 59.71875 50.671875 60.765625 \nQ 46.578125 61.8125 42.671875 61.8125 \nQ 34.28125 61.8125 29.59375 57.140625 \nQ 24.90625 52.484375 24.125 43.3125 \nQ 27.34375 45.703125 31.09375 46.890625 \nQ 34.859375 48.09375 39.3125 48.09375 \nQ 50.484375 48.09375 57.34375 41.546875 \nQ 64.203125 35.015625 64.203125 24.421875 \nQ 64.203125 12.703125 56.53125 5.640625 \nQ 48.875 -1.421875 35.984375 -1.421875 \nQ 21.78125 -1.421875 13.984375 8.171875 \nQ 6.203125 17.78125 6.203125 35.40625 \nQ 6.203125 53.46875 15.3125 63.796875 \nQ 24.421875 74.125 40.28125 74.125 \nQ 45.3125 74.125 50.046875 73.34375 \nQ 54.78125 72.5625 59.421875 71 \nz\n\" id=\"DejaVuSans-Bold-54\"/>\n       </defs>\n       <use xlink:href=\"#DejaVuSans-Bold-50\"/>\n       <use x=\"69.580078\" xlink:href=\"#DejaVuSans-Bold-56\"/>\n       <use x=\"139.160156\" xlink:href=\"#DejaVuSans-Bold-54\"/>\n      </g>\n     </g>\n    </g>\n    <g id=\"xtick_3\">\n     <g id=\"line2d_3\">\n      <g>\n       <use style=\"stroke:#000000;stroke-width:0.8;\" x=\"266.128616\" xlink:href=\"#mafbc2babe8\" y=\"550.8\"/>\n      </g>\n     </g>\n     <g id=\"text_3\">\n      <!-- 154 -->\n      <g transform=\"translate(255.691897 565.398438)scale(0.1 -0.1)\">\n       <defs>\n        <path d=\"M 10.59375 72.90625 \nL 57.328125 72.90625 \nL 57.328125 59.078125 \nL 25.59375 59.078125 \nL 25.59375 47.796875 \nQ 27.734375 48.390625 29.90625 48.703125 \nQ 32.078125 49.03125 34.421875 49.03125 \nQ 47.75 49.03125 55.171875 42.359375 \nQ 62.59375 35.6875 62.59375 23.78125 \nQ 62.59375 11.96875 54.515625 5.265625 \nQ 46.4375 -1.421875 32.078125 -1.421875 \nQ 25.875 -1.421875 19.796875 -0.21875 \nQ 13.71875 0.984375 7.71875 3.421875 \nL 7.71875 18.21875 \nQ 13.671875 14.796875 19.015625 13.078125 \nQ 24.359375 11.375 29.109375 11.375 \nQ 35.9375 11.375 39.859375 14.71875 \nQ 43.796875 18.0625 43.796875 23.78125 \nQ 43.796875 29.546875 39.859375 32.859375 \nQ 35.9375 36.1875 29.109375 36.1875 \nQ 25.046875 36.1875 20.453125 35.125 \nQ 15.875 34.078125 10.59375 31.890625 \nz\n\" id=\"DejaVuSans-Bold-53\"/>\n        <path d=\"M 36.8125 57.421875 \nL 16.21875 26.90625 \nL 36.8125 26.90625 \nz\nM 33.6875 72.90625 \nL 54.59375 72.90625 \nL 54.59375 26.90625 \nL 64.984375 26.90625 \nL 64.984375 13.28125 \nL 54.59375 13.28125 \nL 54.59375 0 \nL 36.8125 0 \nL 36.8125 13.28125 \nL 4.5 13.28125 \nL 4.5 29.390625 \nz\n\" id=\"DejaVuSans-Bold-52\"/>\n       </defs>\n       <use xlink:href=\"#DejaVuSans-Bold-49\"/>\n       <use x=\"69.580078\" xlink:href=\"#DejaVuSans-Bold-53\"/>\n       <use x=\"139.160156\" xlink:href=\"#DejaVuSans-Bold-52\"/>\n      </g>\n     </g>\n    </g>\n    <g id=\"xtick_4\">\n     <g id=\"line2d_4\">\n      <g>\n       <use style=\"stroke:#000000;stroke-width:0.8;\" x=\"335.302169\" xlink:href=\"#mafbc2babe8\" y=\"550.8\"/>\n      </g>\n     </g>\n     <g id=\"text_4\">\n      <!-- 448 -->\n      <g transform=\"translate(324.865451 565.398438)scale(0.1 -0.1)\">\n       <use xlink:href=\"#DejaVuSans-Bold-52\"/>\n       <use x=\"69.580078\" xlink:href=\"#DejaVuSans-Bold-52\"/>\n       <use x=\"139.160156\" xlink:href=\"#DejaVuSans-Bold-56\"/>\n      </g>\n     </g>\n    </g>\n    <g id=\"xtick_5\">\n     <g id=\"line2d_5\">\n      <g>\n       <use style=\"stroke:#000000;stroke-width:0.8;\" x=\"404.475723\" xlink:href=\"#mafbc2babe8\" y=\"550.8\"/>\n      </g>\n     </g>\n     <g id=\"text_5\">\n      <!-- 230 -->\n      <g transform=\"translate(394.039004 565.398438)scale(0.1 -0.1)\">\n       <defs>\n        <path d=\"M 46.578125 39.3125 \nQ 53.953125 37.40625 57.78125 32.6875 \nQ 61.625 27.984375 61.625 20.703125 \nQ 61.625 9.859375 53.3125 4.21875 \nQ 45.015625 -1.421875 29.109375 -1.421875 \nQ 23.484375 -1.421875 17.84375 -0.515625 \nQ 12.203125 0.390625 6.6875 2.203125 \nL 6.6875 16.703125 \nQ 11.96875 14.0625 17.15625 12.71875 \nQ 22.359375 11.375 27.390625 11.375 \nQ 34.859375 11.375 38.84375 13.953125 \nQ 42.828125 16.546875 42.828125 21.390625 \nQ 42.828125 26.375 38.75 28.9375 \nQ 34.671875 31.5 26.703125 31.5 \nL 19.1875 31.5 \nL 19.1875 43.609375 \nL 27.09375 43.609375 \nQ 34.1875 43.609375 37.640625 45.828125 \nQ 41.109375 48.046875 41.109375 52.59375 \nQ 41.109375 56.78125 37.734375 59.078125 \nQ 34.375 61.375 28.21875 61.375 \nQ 23.6875 61.375 19.046875 60.34375 \nQ 14.40625 59.328125 9.8125 57.328125 \nL 9.8125 71.09375 \nQ 15.375 72.65625 20.84375 73.4375 \nQ 26.3125 74.21875 31.59375 74.21875 \nQ 45.796875 74.21875 52.84375 69.546875 \nQ 59.90625 64.890625 59.90625 55.515625 \nQ 59.90625 49.125 56.53125 45.046875 \nQ 53.171875 40.96875 46.578125 39.3125 \nz\n\" id=\"DejaVuSans-Bold-51\"/>\n       </defs>\n       <use xlink:href=\"#DejaVuSans-Bold-50\"/>\n       <use x=\"69.580078\" xlink:href=\"#DejaVuSans-Bold-51\"/>\n       <use x=\"139.160156\" xlink:href=\"#DejaVuSans-Bold-48\"/>\n      </g>\n     </g>\n    </g>\n    <g id=\"xtick_6\">\n     <g id=\"line2d_6\">\n      <g>\n       <use style=\"stroke:#000000;stroke-width:0.8;\" x=\"473.649277\" xlink:href=\"#mafbc2babe8\" y=\"550.8\"/>\n      </g>\n     </g>\n     <g id=\"text_6\">\n      <!-- 508 -->\n      <g transform=\"translate(463.212558 565.398438)scale(0.1 -0.1)\">\n       <use xlink:href=\"#DejaVuSans-Bold-53\"/>\n       <use x=\"69.580078\" xlink:href=\"#DejaVuSans-Bold-48\"/>\n       <use x=\"139.160156\" xlink:href=\"#DejaVuSans-Bold-56\"/>\n      </g>\n     </g>\n    </g>\n    <g id=\"xtick_7\">\n     <g id=\"line2d_7\">\n      <g>\n       <use style=\"stroke:#000000;stroke-width:0.8;\" x=\"542.822831\" xlink:href=\"#mafbc2babe8\" y=\"550.8\"/>\n      </g>\n     </g>\n     <g id=\"text_7\">\n      <!-- 121 -->\n      <g transform=\"translate(532.386112 565.398438)scale(0.1 -0.1)\">\n       <use xlink:href=\"#DejaVuSans-Bold-49\"/>\n       <use x=\"69.580078\" xlink:href=\"#DejaVuSans-Bold-50\"/>\n       <use x=\"139.160156\" xlink:href=\"#DejaVuSans-Bold-49\"/>\n      </g>\n     </g>\n    </g>\n    <g id=\"xtick_8\">\n     <g id=\"line2d_8\">\n      <g>\n       <use style=\"stroke:#000000;stroke-width:0.8;\" x=\"611.996384\" xlink:href=\"#mafbc2babe8\" y=\"550.8\"/>\n      </g>\n     </g>\n     <g id=\"text_8\">\n      <!-- 335 -->\n      <g transform=\"translate(601.559666 565.398438)scale(0.1 -0.1)\">\n       <use xlink:href=\"#DejaVuSans-Bold-51\"/>\n       <use x=\"69.580078\" xlink:href=\"#DejaVuSans-Bold-51\"/>\n       <use x=\"139.160156\" xlink:href=\"#DejaVuSans-Bold-53\"/>\n      </g>\n     </g>\n    </g>\n    <g id=\"xtick_9\">\n     <g id=\"line2d_9\">\n      <g>\n       <use style=\"stroke:#000000;stroke-width:0.8;\" x=\"681.169938\" xlink:href=\"#mafbc2babe8\" y=\"550.8\"/>\n      </g>\n     </g>\n     <g id=\"text_9\">\n      <!-- 496 -->\n      <g transform=\"translate(670.733219 565.398438)scale(0.1 -0.1)\">\n       <defs>\n        <path d=\"M 10.015625 1.609375 \nL 10.015625 15.09375 \nQ 14.5 12.984375 18.59375 11.9375 \nQ 22.703125 10.890625 26.703125 10.890625 \nQ 35.109375 10.890625 39.796875 15.546875 \nQ 44.484375 20.21875 45.3125 29.390625 \nQ 42 26.953125 38.234375 25.734375 \nQ 34.46875 24.515625 30.078125 24.515625 \nQ 18.890625 24.515625 12.03125 31.03125 \nQ 5.171875 37.546875 5.171875 48.1875 \nQ 5.171875 59.96875 12.8125 67.046875 \nQ 20.453125 74.125 33.296875 74.125 \nQ 47.5625 74.125 55.375 64.5 \nQ 63.1875 54.890625 63.1875 37.3125 \nQ 63.1875 19.234375 54.046875 8.90625 \nQ 44.921875 -1.421875 29 -1.421875 \nQ 23.875 -1.421875 19.1875 -0.65625 \nQ 14.5 0.09375 10.015625 1.609375 \nz\nM 33.203125 36.71875 \nQ 38.140625 36.71875 40.625 39.90625 \nQ 43.109375 43.109375 43.109375 49.515625 \nQ 43.109375 55.859375 40.625 59.078125 \nQ 38.140625 62.3125 33.203125 62.3125 \nQ 28.265625 62.3125 25.78125 59.078125 \nQ 23.296875 55.859375 23.296875 49.515625 \nQ 23.296875 43.109375 25.78125 39.90625 \nQ 28.265625 36.71875 33.203125 36.71875 \nz\n\" id=\"DejaVuSans-Bold-57\"/>\n       </defs>\n       <use xlink:href=\"#DejaVuSans-Bold-52\"/>\n       <use x=\"69.580078\" xlink:href=\"#DejaVuSans-Bold-57\"/>\n       <use x=\"139.160156\" xlink:href=\"#DejaVuSans-Bold-54\"/>\n      </g>\n     </g>\n    </g>\n    <g id=\"xtick_10\">\n     <g id=\"line2d_10\">\n      <g>\n       <use style=\"stroke:#000000;stroke-width:0.8;\" x=\"750.343492\" xlink:href=\"#mafbc2babe8\" y=\"550.8\"/>\n      </g>\n     </g>\n     <g id=\"text_10\">\n      <!-- 525 -->\n      <g transform=\"translate(739.906773 565.398438)scale(0.1 -0.1)\">\n       <use xlink:href=\"#DejaVuSans-Bold-53\"/>\n       <use x=\"69.580078\" xlink:href=\"#DejaVuSans-Bold-50\"/>\n       <use x=\"139.160156\" xlink:href=\"#DejaVuSans-Bold-53\"/>\n      </g>\n     </g>\n    </g>\n    <g id=\"text_11\">\n     <!-- Pathway Index -->\n     <g transform=\"translate(402.611719 579.076563)scale(0.1 -0.1)\">\n      <defs>\n       <path d=\"M 19.671875 64.796875 \nL 19.671875 37.40625 \nL 32.078125 37.40625 \nQ 38.96875 37.40625 42.71875 40.96875 \nQ 46.484375 44.53125 46.484375 51.125 \nQ 46.484375 57.671875 42.71875 61.234375 \nQ 38.96875 64.796875 32.078125 64.796875 \nz\nM 9.8125 72.90625 \nL 32.078125 72.90625 \nQ 44.34375 72.90625 50.609375 67.359375 \nQ 56.890625 61.8125 56.890625 51.125 \nQ 56.890625 40.328125 50.609375 34.8125 \nQ 44.34375 29.296875 32.078125 29.296875 \nL 19.671875 29.296875 \nL 19.671875 0 \nL 9.8125 0 \nz\n\" id=\"DejaVuSans-80\"/>\n       <path d=\"M 34.28125 27.484375 \nQ 23.390625 27.484375 19.1875 25 \nQ 14.984375 22.515625 14.984375 16.5 \nQ 14.984375 11.71875 18.140625 8.90625 \nQ 21.296875 6.109375 26.703125 6.109375 \nQ 34.1875 6.109375 38.703125 11.40625 \nQ 43.21875 16.703125 43.21875 25.484375 \nL 43.21875 27.484375 \nz\nM 52.203125 31.203125 \nL 52.203125 0 \nL 43.21875 0 \nL 43.21875 8.296875 \nQ 40.140625 3.328125 35.546875 0.953125 \nQ 30.953125 -1.421875 24.3125 -1.421875 \nQ 15.921875 -1.421875 10.953125 3.296875 \nQ 6 8.015625 6 15.921875 \nQ 6 25.140625 12.171875 29.828125 \nQ 18.359375 34.515625 30.609375 34.515625 \nL 43.21875 34.515625 \nL 43.21875 35.40625 \nQ 43.21875 41.609375 39.140625 45 \nQ 35.0625 48.390625 27.6875 48.390625 \nQ 23 48.390625 18.546875 47.265625 \nQ 14.109375 46.140625 10.015625 43.890625 \nL 10.015625 52.203125 \nQ 14.9375 54.109375 19.578125 55.046875 \nQ 24.21875 56 28.609375 56 \nQ 40.484375 56 46.34375 49.84375 \nQ 52.203125 43.703125 52.203125 31.203125 \nz\n\" id=\"DejaVuSans-97\"/>\n       <path d=\"M 18.3125 70.21875 \nL 18.3125 54.6875 \nL 36.8125 54.6875 \nL 36.8125 47.703125 \nL 18.3125 47.703125 \nL 18.3125 18.015625 \nQ 18.3125 11.328125 20.140625 9.421875 \nQ 21.96875 7.515625 27.59375 7.515625 \nL 36.8125 7.515625 \nL 36.8125 0 \nL 27.59375 0 \nQ 17.1875 0 13.234375 3.875 \nQ 9.28125 7.765625 9.28125 18.015625 \nL 9.28125 47.703125 \nL 2.6875 47.703125 \nL 2.6875 54.6875 \nL 9.28125 54.6875 \nL 9.28125 70.21875 \nz\n\" id=\"DejaVuSans-116\"/>\n       <path d=\"M 54.890625 33.015625 \nL 54.890625 0 \nL 45.90625 0 \nL 45.90625 32.71875 \nQ 45.90625 40.484375 42.875 44.328125 \nQ 39.84375 48.1875 33.796875 48.1875 \nQ 26.515625 48.1875 22.3125 43.546875 \nQ 18.109375 38.921875 18.109375 30.90625 \nL 18.109375 0 \nL 9.078125 0 \nL 9.078125 75.984375 \nL 18.109375 75.984375 \nL 18.109375 46.1875 \nQ 21.34375 51.125 25.703125 53.5625 \nQ 30.078125 56 35.796875 56 \nQ 45.21875 56 50.046875 50.171875 \nQ 54.890625 44.34375 54.890625 33.015625 \nz\n\" id=\"DejaVuSans-104\"/>\n       <path d=\"M 4.203125 54.6875 \nL 13.1875 54.6875 \nL 24.421875 12.015625 \nL 35.59375 54.6875 \nL 46.1875 54.6875 \nL 57.421875 12.015625 \nL 68.609375 54.6875 \nL 77.59375 54.6875 \nL 63.28125 0 \nL 52.6875 0 \nL 40.921875 44.828125 \nL 29.109375 0 \nL 18.5 0 \nz\n\" id=\"DejaVuSans-119\"/>\n       <path d=\"M 32.171875 -5.078125 \nQ 28.375 -14.84375 24.75 -17.8125 \nQ 21.140625 -20.796875 15.09375 -20.796875 \nL 7.90625 -20.796875 \nL 7.90625 -13.28125 \nL 13.1875 -13.28125 \nQ 16.890625 -13.28125 18.9375 -11.515625 \nQ 21 -9.765625 23.484375 -3.21875 \nL 25.09375 0.875 \nL 2.984375 54.6875 \nL 12.5 54.6875 \nL 29.59375 11.921875 \nL 46.6875 54.6875 \nL 56.203125 54.6875 \nz\n\" id=\"DejaVuSans-121\"/>\n       <path id=\"DejaVuSans-32\"/>\n       <path d=\"M 9.8125 72.90625 \nL 19.671875 72.90625 \nL 19.671875 0 \nL 9.8125 0 \nz\n\" id=\"DejaVuSans-73\"/>\n       <path d=\"M 54.890625 33.015625 \nL 54.890625 0 \nL 45.90625 0 \nL 45.90625 32.71875 \nQ 45.90625 40.484375 42.875 44.328125 \nQ 39.84375 48.1875 33.796875 48.1875 \nQ 26.515625 48.1875 22.3125 43.546875 \nQ 18.109375 38.921875 18.109375 30.90625 \nL 18.109375 0 \nL 9.078125 0 \nL 9.078125 54.6875 \nL 18.109375 54.6875 \nL 18.109375 46.1875 \nQ 21.34375 51.125 25.703125 53.5625 \nQ 30.078125 56 35.796875 56 \nQ 45.21875 56 50.046875 50.171875 \nQ 54.890625 44.34375 54.890625 33.015625 \nz\n\" id=\"DejaVuSans-110\"/>\n       <path d=\"M 45.40625 46.390625 \nL 45.40625 75.984375 \nL 54.390625 75.984375 \nL 54.390625 0 \nL 45.40625 0 \nL 45.40625 8.203125 \nQ 42.578125 3.328125 38.25 0.953125 \nQ 33.9375 -1.421875 27.875 -1.421875 \nQ 17.96875 -1.421875 11.734375 6.484375 \nQ 5.515625 14.40625 5.515625 27.296875 \nQ 5.515625 40.1875 11.734375 48.09375 \nQ 17.96875 56 27.875 56 \nQ 33.9375 56 38.25 53.625 \nQ 42.578125 51.265625 45.40625 46.390625 \nz\nM 14.796875 27.296875 \nQ 14.796875 17.390625 18.875 11.75 \nQ 22.953125 6.109375 30.078125 6.109375 \nQ 37.203125 6.109375 41.296875 11.75 \nQ 45.40625 17.390625 45.40625 27.296875 \nQ 45.40625 37.203125 41.296875 42.84375 \nQ 37.203125 48.484375 30.078125 48.484375 \nQ 22.953125 48.484375 18.875 42.84375 \nQ 14.796875 37.203125 14.796875 27.296875 \nz\n\" id=\"DejaVuSans-100\"/>\n       <path d=\"M 56.203125 29.59375 \nL 56.203125 25.203125 \nL 14.890625 25.203125 \nQ 15.484375 15.921875 20.484375 11.0625 \nQ 25.484375 6.203125 34.421875 6.203125 \nQ 39.59375 6.203125 44.453125 7.46875 \nQ 49.3125 8.734375 54.109375 11.28125 \nL 54.109375 2.78125 \nQ 49.265625 0.734375 44.1875 -0.34375 \nQ 39.109375 -1.421875 33.890625 -1.421875 \nQ 20.796875 -1.421875 13.15625 6.1875 \nQ 5.515625 13.8125 5.515625 26.8125 \nQ 5.515625 40.234375 12.765625 48.109375 \nQ 20.015625 56 32.328125 56 \nQ 43.359375 56 49.78125 48.890625 \nQ 56.203125 41.796875 56.203125 29.59375 \nz\nM 47.21875 32.234375 \nQ 47.125 39.59375 43.09375 43.984375 \nQ 39.0625 48.390625 32.421875 48.390625 \nQ 24.90625 48.390625 20.390625 44.140625 \nQ 15.875 39.890625 15.1875 32.171875 \nz\n\" id=\"DejaVuSans-101\"/>\n       <path d=\"M 54.890625 54.6875 \nL 35.109375 28.078125 \nL 55.90625 0 \nL 45.3125 0 \nL 29.390625 21.484375 \nL 13.484375 0 \nL 2.875 0 \nL 24.125 28.609375 \nL 4.6875 54.6875 \nL 15.28125 54.6875 \nL 29.78125 35.203125 \nL 44.28125 54.6875 \nz\n\" id=\"DejaVuSans-120\"/>\n      </defs>\n      <use xlink:href=\"#DejaVuSans-80\"/>\n      <use x=\"55.802734\" xlink:href=\"#DejaVuSans-97\"/>\n      <use x=\"117.082031\" xlink:href=\"#DejaVuSans-116\"/>\n      <use x=\"156.291016\" xlink:href=\"#DejaVuSans-104\"/>\n      <use x=\"219.669922\" xlink:href=\"#DejaVuSans-119\"/>\n      <use x=\"301.457031\" xlink:href=\"#DejaVuSans-97\"/>\n      <use x=\"362.736328\" xlink:href=\"#DejaVuSans-121\"/>\n      <use x=\"421.916016\" xlink:href=\"#DejaVuSans-32\"/>\n      <use x=\"453.703125\" xlink:href=\"#DejaVuSans-73\"/>\n      <use x=\"483.195312\" xlink:href=\"#DejaVuSans-110\"/>\n      <use x=\"546.574219\" xlink:href=\"#DejaVuSans-100\"/>\n      <use x=\"610.050781\" xlink:href=\"#DejaVuSans-101\"/>\n      <use x=\"669.824219\" xlink:href=\"#DejaVuSans-120\"/>\n     </g>\n    </g>\n   </g>\n   <g id=\"matplotlib.axis_2\">\n    <g id=\"ytick_1\">\n     <g id=\"line2d_11\">\n      <defs>\n       <path d=\"M 0 0 \nL -3.5 0 \n\" id=\"m129da973bb\" style=\"stroke:#000000;stroke-width:0.8;\"/>\n      </defs>\n      <g>\n       <use style=\"stroke:#000000;stroke-width:0.8;\" x=\"20.5625\" xlink:href=\"#m129da973bb\" y=\"550.8\"/>\n      </g>\n     </g>\n     <g id=\"text_12\">\n      <!-- 0 -->\n      <g transform=\"translate(7.2 554.599219)scale(0.1 -0.1)\">\n       <defs>\n        <path d=\"M 31.78125 66.40625 \nQ 24.171875 66.40625 20.328125 58.90625 \nQ 16.5 51.421875 16.5 36.375 \nQ 16.5 21.390625 20.328125 13.890625 \nQ 24.171875 6.390625 31.78125 6.390625 \nQ 39.453125 6.390625 43.28125 13.890625 \nQ 47.125 21.390625 47.125 36.375 \nQ 47.125 51.421875 43.28125 58.90625 \nQ 39.453125 66.40625 31.78125 66.40625 \nz\nM 31.78125 74.21875 \nQ 44.046875 74.21875 50.515625 64.515625 \nQ 56.984375 54.828125 56.984375 36.375 \nQ 56.984375 17.96875 50.515625 8.265625 \nQ 44.046875 -1.421875 31.78125 -1.421875 \nQ 19.53125 -1.421875 13.0625 8.265625 \nQ 6.59375 17.96875 6.59375 36.375 \nQ 6.59375 54.828125 13.0625 64.515625 \nQ 19.53125 74.21875 31.78125 74.21875 \nz\n\" id=\"DejaVuSans-48\"/>\n       </defs>\n       <use xlink:href=\"#DejaVuSans-48\"/>\n      </g>\n     </g>\n    </g>\n    <g id=\"ytick_2\">\n     <g id=\"line2d_12\">\n      <g>\n       <use style=\"stroke:#000000;stroke-width:0.8;\" x=\"20.5625\" xlink:href=\"#m129da973bb\" y=\"447.257143\"/>\n      </g>\n     </g>\n     <g id=\"text_13\">\n      <!-- 1 -->\n      <g transform=\"translate(7.2 451.056362)scale(0.1 -0.1)\">\n       <defs>\n        <path d=\"M 12.40625 8.296875 \nL 28.515625 8.296875 \nL 28.515625 63.921875 \nL 10.984375 60.40625 \nL 10.984375 69.390625 \nL 28.421875 72.90625 \nL 38.28125 72.90625 \nL 38.28125 8.296875 \nL 54.390625 8.296875 \nL 54.390625 0 \nL 12.40625 0 \nz\n\" id=\"DejaVuSans-49\"/>\n       </defs>\n       <use xlink:href=\"#DejaVuSans-49\"/>\n      </g>\n     </g>\n    </g>\n    <g id=\"ytick_3\">\n     <g id=\"line2d_13\">\n      <g>\n       <use style=\"stroke:#000000;stroke-width:0.8;\" x=\"20.5625\" xlink:href=\"#m129da973bb\" y=\"343.714286\"/>\n      </g>\n     </g>\n     <g id=\"text_14\">\n      <!-- 2 -->\n      <g transform=\"translate(7.2 347.513504)scale(0.1 -0.1)\">\n       <defs>\n        <path d=\"M 19.1875 8.296875 \nL 53.609375 8.296875 \nL 53.609375 0 \nL 7.328125 0 \nL 7.328125 8.296875 \nQ 12.9375 14.109375 22.625 23.890625 \nQ 32.328125 33.6875 34.8125 36.53125 \nQ 39.546875 41.84375 41.421875 45.53125 \nQ 43.3125 49.21875 43.3125 52.78125 \nQ 43.3125 58.59375 39.234375 62.25 \nQ 35.15625 65.921875 28.609375 65.921875 \nQ 23.96875 65.921875 18.8125 64.3125 \nQ 13.671875 62.703125 7.8125 59.421875 \nL 7.8125 69.390625 \nQ 13.765625 71.78125 18.9375 73 \nQ 24.125 74.21875 28.421875 74.21875 \nQ 39.75 74.21875 46.484375 68.546875 \nQ 53.21875 62.890625 53.21875 53.421875 \nQ 53.21875 48.921875 51.53125 44.890625 \nQ 49.859375 40.875 45.40625 35.40625 \nQ 44.1875 33.984375 37.640625 27.21875 \nQ 31.109375 20.453125 19.1875 8.296875 \nz\n\" id=\"DejaVuSans-50\"/>\n       </defs>\n       <use xlink:href=\"#DejaVuSans-50\"/>\n      </g>\n     </g>\n    </g>\n    <g id=\"ytick_4\">\n     <g id=\"line2d_14\">\n      <g>\n       <use style=\"stroke:#000000;stroke-width:0.8;\" x=\"20.5625\" xlink:href=\"#m129da973bb\" y=\"240.171429\"/>\n      </g>\n     </g>\n     <g id=\"text_15\">\n      <!-- 3 -->\n      <g transform=\"translate(7.2 243.970647)scale(0.1 -0.1)\">\n       <defs>\n        <path d=\"M 40.578125 39.3125 \nQ 47.65625 37.796875 51.625 33 \nQ 55.609375 28.21875 55.609375 21.1875 \nQ 55.609375 10.40625 48.1875 4.484375 \nQ 40.765625 -1.421875 27.09375 -1.421875 \nQ 22.515625 -1.421875 17.65625 -0.515625 \nQ 12.796875 0.390625 7.625 2.203125 \nL 7.625 11.71875 \nQ 11.71875 9.328125 16.59375 8.109375 \nQ 21.484375 6.890625 26.8125 6.890625 \nQ 36.078125 6.890625 40.9375 10.546875 \nQ 45.796875 14.203125 45.796875 21.1875 \nQ 45.796875 27.640625 41.28125 31.265625 \nQ 36.765625 34.90625 28.71875 34.90625 \nL 20.21875 34.90625 \nL 20.21875 43.015625 \nL 29.109375 43.015625 \nQ 36.375 43.015625 40.234375 45.921875 \nQ 44.09375 48.828125 44.09375 54.296875 \nQ 44.09375 59.90625 40.109375 62.90625 \nQ 36.140625 65.921875 28.71875 65.921875 \nQ 24.65625 65.921875 20.015625 65.03125 \nQ 15.375 64.15625 9.8125 62.3125 \nL 9.8125 71.09375 \nQ 15.4375 72.65625 20.34375 73.4375 \nQ 25.25 74.21875 29.59375 74.21875 \nQ 40.828125 74.21875 47.359375 69.109375 \nQ 53.90625 64.015625 53.90625 55.328125 \nQ 53.90625 49.265625 50.4375 45.09375 \nQ 46.96875 40.921875 40.578125 39.3125 \nz\n\" id=\"DejaVuSans-51\"/>\n       </defs>\n       <use xlink:href=\"#DejaVuSans-51\"/>\n      </g>\n     </g>\n    </g>\n    <g id=\"ytick_5\">\n     <g id=\"line2d_15\">\n      <g>\n       <use style=\"stroke:#000000;stroke-width:0.8;\" x=\"20.5625\" xlink:href=\"#m129da973bb\" y=\"136.628571\"/>\n      </g>\n     </g>\n     <g id=\"text_16\">\n      <!-- 4 -->\n      <g transform=\"translate(7.2 140.42779)scale(0.1 -0.1)\">\n       <defs>\n        <path d=\"M 37.796875 64.3125 \nL 12.890625 25.390625 \nL 37.796875 25.390625 \nz\nM 35.203125 72.90625 \nL 47.609375 72.90625 \nL 47.609375 25.390625 \nL 58.015625 25.390625 \nL 58.015625 17.1875 \nL 47.609375 17.1875 \nL 47.609375 0 \nL 37.796875 0 \nL 37.796875 17.1875 \nL 4.890625 17.1875 \nL 4.890625 26.703125 \nz\n\" id=\"DejaVuSans-52\"/>\n       </defs>\n       <use xlink:href=\"#DejaVuSans-52\"/>\n      </g>\n     </g>\n    </g>\n    <g id=\"ytick_6\">\n     <g id=\"line2d_16\">\n      <g>\n       <use style=\"stroke:#000000;stroke-width:0.8;\" x=\"20.5625\" xlink:href=\"#m129da973bb\" y=\"33.085714\"/>\n      </g>\n     </g>\n     <g id=\"text_17\">\n      <!-- 5 -->\n      <g transform=\"translate(7.2 36.884933)scale(0.1 -0.1)\">\n       <defs>\n        <path d=\"M 10.796875 72.90625 \nL 49.515625 72.90625 \nL 49.515625 64.59375 \nL 19.828125 64.59375 \nL 19.828125 46.734375 \nQ 21.96875 47.46875 24.109375 47.828125 \nQ 26.265625 48.1875 28.421875 48.1875 \nQ 40.625 48.1875 47.75 41.5 \nQ 54.890625 34.8125 54.890625 23.390625 \nQ 54.890625 11.625 47.5625 5.09375 \nQ 40.234375 -1.421875 26.90625 -1.421875 \nQ 22.3125 -1.421875 17.546875 -0.640625 \nQ 12.796875 0.140625 7.71875 1.703125 \nL 7.71875 11.625 \nQ 12.109375 9.234375 16.796875 8.0625 \nQ 21.484375 6.890625 26.703125 6.890625 \nQ 35.15625 6.890625 40.078125 11.328125 \nQ 45.015625 15.765625 45.015625 23.390625 \nQ 45.015625 31 40.078125 35.4375 \nQ 35.15625 39.890625 26.703125 39.890625 \nQ 22.75 39.890625 18.8125 39.015625 \nQ 14.890625 38.140625 10.796875 36.28125 \nz\n\" id=\"DejaVuSans-53\"/>\n       </defs>\n       <use xlink:href=\"#DejaVuSans-53\"/>\n      </g>\n     </g>\n    </g>\n   </g>\n   <g id=\"patch_43\">\n    <path d=\"M 20.5625 550.8 \nL 20.5625 7.2 \n\" style=\"fill:none;stroke:#000000;stroke-linecap:square;stroke-linejoin:miter;stroke-width:0.8;\"/>\n   </g>\n   <g id=\"patch_44\">\n    <path d=\"M 857.5625 550.8 \nL 857.5625 7.2 \n\" style=\"fill:none;stroke:#000000;stroke-linecap:square;stroke-linejoin:miter;stroke-width:0.8;\"/>\n   </g>\n   <g id=\"patch_45\">\n    <path d=\"M 20.5625 550.8 \nL 857.5625 550.8 \n\" style=\"fill:none;stroke:#000000;stroke-linecap:square;stroke-linejoin:miter;stroke-width:0.8;\"/>\n   </g>\n   <g id=\"patch_46\">\n    <path d=\"M 20.5625 7.2 \nL 857.5625 7.2 \n\" style=\"fill:none;stroke:#000000;stroke-linecap:square;stroke-linejoin:miter;stroke-width:0.8;\"/>\n   </g>\n  </g>\n </g>\n <defs>\n  <clipPath id=\"p5cf7b88256\">\n   <rect height=\"543.6\" width=\"837\" x=\"20.5625\" y=\"7.2\"/>\n  </clipPath>\n </defs>\n</svg>\n",
      "text/plain": "<Figure size 1080x720 with 1 Axes>"
     },
     "metadata": {
      "needs_background": "light"
     },
     "output_type": "display_data"
    }
   ],
   "source": [
    "#generate stacked bar chart\n",
    "%matplotlib inline\n",
    "import matplotlib.pyplot as plt \n",
    "\n",
    "N = 10\n",
    "\n",
    "random_df = dataframe.sample(n=N)\n",
    "s_random_df = random_df.sort_values(['clusters'])\n",
    "\n",
    "\n",
    "z = s_random_df['zero'].tolist()\n",
    "o = s_random_df['one'].tolist()\n",
    "t = s_random_df['two'].tolist()\n",
    "th = s_random_df['three'].tolist()\n",
    "c = s_random_df['clusters'].tolist()\n",
    "print('C', c)\n",
    "\n",
    "fig, ax = plt.subplots(1, figsize=(15, 10))\n",
    "\n",
    "barst = np.add(z, o).tolist()\n",
    "barsth = np.add(barst,t).tolist()\n",
    "\n",
    "b = list(np.arange(0,N))\n",
    "barwidth = 2\n",
    "names = s_random_df['reaction_indx'].tolist()\n",
    "\n",
    "plt.bar(b, z, color='blue', width=barwidth)\n",
    "plt.bar(b,  o, bottom=z, color='grey', width=barwidth)\n",
    "plt.bar(b, t, bottom=barst, color='green', width=barwidth)\n",
    "plt.bar(b, th, bottom=barsth, color='orange', width=barwidth)\n",
    "\n",
    "plt.xticks(b, names, fontweight='bold')\n",
    "plt.xlabel(\"Pathway Index\")\n",
    "\n",
    "\n",
    "plt.show()"
   ]
  },
  {
   "cell_type": "code",
   "execution_count": 48,
   "metadata": {},
   "outputs": [
    {
     "name": "stdout",
     "output_type": "stream",
     "text": [
      "Number of molecules:  88\n",
      "Number of reactions:  563\n"
     ]
    }
   ],
   "source": [
    "print('Number of molecules: ', len(solved_trees))\n",
    "print('Number of reactions: ', num_reactions)\n"
   ]
  },
  {
   "cell_type": "code",
   "execution_count": 50,
   "metadata": {},
   "outputs": [
    {
     "name": "stdout",
     "output_type": "stream",
     "text": [
      "563\n"
     ]
    }
   ],
   "source": [
    "print(len(rxn_vectors))"
   ]
  },
  {
   "cell_type": "code",
   "execution_count": null,
   "metadata": {},
   "outputs": [],
   "source": []
  }
 ],
 "metadata": {
  "kernelspec": {
   "name": "python388jvsc74a57bd01ce81150a71727f589a159d7c025889054ace076bb44326ef3200601839cf7ad",
   "display_name": "Python 3.8.8 64-bit ('aizynth-dev': conda)"
  },
  "language_info": {
   "codemirror_mode": {
    "name": "ipython",
    "version": 3
   },
   "file_extension": ".py",
   "mimetype": "text/x-python",
   "name": "python",
   "nbconvert_exporter": "python",
   "pygments_lexer": "ipython3",
   "version": "3.8.8"
  },
  "orig_nbformat": 2
 },
 "nbformat": 4,
 "nbformat_minor": 2
}