{
 "cells": [
  {
   "cell_type": "code",
   "execution_count": 1,
   "metadata": {},
   "outputs": [],
   "source": [
    "# Notebook to view the classifications of reactions used for set of retrosynthetic routes"
   ]
  },
  {
   "cell_type": "code",
   "execution_count": 1,
   "metadata": {},
   "outputs": [],
   "source": [
    "import pandas as pd\n",
    "import json\n",
    "import sys\n",
    "\n",
    "sys.path.append('../../../')\n",
    "\n",
    "#import aizynthfinder.chem as chem\n",
    "import aizynthfinder.analysis\n",
    "\n",
    "from aizynthfinder.mcts.node import Node\n",
    "from aizynthfinder.analysis import ReactionTree\n",
    "from aizynthfinder.mcts.state import State\n",
    "from aizynthfinder.chem import TreeMolecule\n",
    "from aizynthfinder.context.collection import ContextCollection\n",
    "from aizynthfinder.context.stock import StockException\n",
    "\n",
    "from Maranga.utils.parse_multismiles import findkeys"
   ]
  },
  {
   "cell_type": "code",
   "execution_count": 2,
   "metadata": {
    "tags": []
   },
   "outputs": [],
   "source": [
    "# file location of json file\n",
    "json_file_1 = '/data/localhost/not-backed-up/mokaya/exscientia/aizynthfinder/Maranga/experiments/target_2/results/tg2_std_solved.json'\n",
    "\n",
    "with open(json_file_1) as f:\n",
    "    data_1 = json.load(f)\n",
    "\n",
    "data_1_r = data_1.get('reaction trees')\n",
    "reactions_1 = [json.loads(i) for i in data_1_r]"
   ]
  },
  {
   "cell_type": "code",
   "execution_count": 3,
   "metadata": {},
   "outputs": [],
   "source": [
    " # file location of json file\n",
    "json_file_2 = '/data/localhost/not-backed-up/mokaya/exscientia/aizynthfinder/Maranga/experiments/target_2/results/tg2_exp_solved.json'\n",
    "\n",
    "with open(json_file_2) as f:\n",
    "    data_2 = json.load(f)\n",
    "\n",
    "data_2_r = data_2.get('reaction trees')\n",
    "reactions_2 = [json.loads(i) for i in data_2_r]"
   ]
  },
  {
   "cell_type": "code",
   "execution_count": 4,
   "metadata": {},
   "outputs": [],
   "source": [
    "# find classifications from list of reactio dicts and retuirn a dict with frequency\n",
    "def count_reactions(rxns):\n",
    "    templates = []\n",
    "    templates_dict = {}\n",
    "    for i in rxns:\n",
    "        templates.extend(list(findkeys(i, 'classification')))\n",
    "\n",
    "    print('# Templates: ', len(templates))\n",
    "\n",
    "    for i in templates:\n",
    "        if i in templates_dict:\n",
    "            templates_dict[i] += 1\n",
    "        else:\n",
    "            templates_dict[i] = 1\n",
    "    return templates_dict\n"
   ]
  },
  {
   "cell_type": "code",
   "execution_count": 5,
   "metadata": {},
   "outputs": [
    {
     "output_type": "stream",
     "name": "stdout",
     "text": [
      "# Templates:  1226\n"
     ]
    }
   ],
   "source": [
    "templates_1 = count_reactions(reactions_1)\n",
    "s_templates_1 = dict(sorted(templates_1.items(), key=lambda kv: kv[1], reverse=True))\n"
   ]
  },
  {
   "cell_type": "code",
   "execution_count": 6,
   "metadata": {},
   "outputs": [
    {
     "output_type": "stream",
     "name": "stdout",
     "text": [
      "# Templates:  1459\n"
     ]
    }
   ],
   "source": [
    "templates_2 = count_reactions(reactions_2)\n",
    "s_templates_2 = dict(sorted(templates_2.items(), key=lambda kv: kv[1], reverse=True))"
   ]
  },
  {
   "cell_type": "code",
   "execution_count": 7,
   "metadata": {},
   "outputs": [
    {
     "output_type": "stream",
     "name": "stdout",
     "text": [
      "Unassigned      250       \nHeteroaryl N-alkylation 201       \nReductive amination 158       \nHalogenation    133       \nRCO2H deprotections 110       \nOther functional group interconversion 49        \nO-acylation to ester 31        \nAmide to amine reduction 27        \nOther reductions 26        \nROH deprotections 20        \nO-substitution  20        \nAlcohol to halide 19        \nN-arylation with Ar-X 18        \nAlcohols to aldehydes 15        \nNH deprotections 15        \nN-acylation to amide 15        \nFriedel-Crafts reaction 13        \nEster to alcohol 13        \nStille reaction 12        \nAcid to acid chloride 11        \nAlkene oxidative cleavage 9         \nS-substitution  9         \nN-substitution with alkyl-X 8         \nKetone to alcohol 8         \nO-sulfonylation 7         \nOther functional group addition 5         \nNitro to amine reduction 4         \nNH protections  4         \nO-containing heterocycle formation 3         \nAlkene to alkane 3         \nSuzuki coupling 2         \nOther deprotections 2         \nOther organometallic C-C bond formation 2         \nCyano or imine to amine 1         \nRSH deprotections 1         \nAlkyne to alkane 1         \nOther C-C bond formation 1         \n"
     ]
    }
   ],
   "source": [
    "for k, v in s_templates_1.items():\n",
    "    label, num = k, v\n",
    "    print (\"{:<15} {:<10}\".format(label, num))"
   ]
  },
  {
   "cell_type": "code",
   "execution_count": 8,
   "metadata": {},
   "outputs": [
    {
     "output_type": "stream",
     "name": "stdout",
     "text": [
      "Unassigned      344       \nHeteroaryl N-alkylation 283       \nReductive amination 182       \nHalogenation    179       \nRCO2H deprotections 125       \nAlcohol to halide 54        \nOther reductions 40        \nOther functional group interconversion 26        \nO-containing heterocycle formation 23        \nO-acylation to ester 19        \nROH deprotections 18        \nKetone to alcohol 17        \nO-substitution  17        \nFriedel-Crafts reaction 15        \nAmide to amine reduction 13        \nN-arylation with Ar-X 13        \nStille reaction 13        \nAcid to acid chloride 10        \nN-substitution with alkyl-X 9         \nEster to alcohol 9         \nO-sulfonylation 6         \nS-substitution  6         \nAlcohols to aldehydes 5         \nNH deprotections 5         \nAlkene oxidative cleavage 4         \nROH protections 4         \nOther functional group addition 3         \nNitro to amine reduction 2         \nWittig olefination 2         \nN-acylation to amide 2         \nNH protections  2         \nAlkene to alkane 2         \nSuzuki coupling 1         \nCyano or imine to amine 1         \nN-containing heterocycle formation 1         \nOther deprotections 1         \nDehydration     1         \nAlkyne to alkane 1         \nOther C-C bond formation 1         \n"
     ]
    }
   ],
   "source": [
    "for k, v in s_templates_2.items():\n",
    "    label, num = k, v\n",
    "    print (\"{:<15} {:<10}\".format(label, num))"
   ]
  },
  {
   "cell_type": "code",
   "execution_count": 9,
   "metadata": {},
   "outputs": [
    {
     "output_type": "stream",
     "name": "stdout",
     "text": [
      "ROH protections\nWittig olefination\nN-containing heterocycle formation\nDehydration\n"
     ]
    }
   ],
   "source": [
    "to_optimise_hash = []\n",
    "for i in s_templates_2:\n",
    "    if i not in s_templates_1:\n",
    "        print(i)\n",
    "        to_optimise_hash.append(i)"
   ]
  },
  {
   "cell_type": "code",
   "execution_count": 10,
   "metadata": {},
   "outputs": [
    {
     "output_type": "stream",
     "name": "stdout",
     "text": [
      "['ROH protections', 'Wittig olefination', 'N-containing heterocycle formation', 'Dehydration']\nLength:  4\n"
     ]
    }
   ],
   "source": [
    "print(to_optimise_hash)\n",
    "print('Length: ', len(to_optimise_hash))"
   ]
  },
  {
   "cell_type": "code",
   "execution_count": null,
   "metadata": {},
   "outputs": [],
   "source": []
  }
 ],
 "metadata": {
  "kernelspec": {
   "display_name": "aizynthfinder",
   "language": "python",
   "name": "aizynthfinder"
  },
  "language_info": {
   "codemirror_mode": {
    "name": "ipython",
    "version": 3
   },
   "file_extension": ".py",
   "mimetype": "text/x-python",
   "name": "python",
   "nbconvert_exporter": "python",
   "pygments_lexer": "ipython3",
   "version": "3.8.8"
  },
  "orig_nbformat": 2
 },
 "nbformat": 4,
 "nbformat_minor": 2
}