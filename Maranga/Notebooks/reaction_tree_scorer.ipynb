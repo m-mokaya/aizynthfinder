{
 "cells": [
  {
   "cell_type": "code",
   "execution_count": 1,
   "metadata": {},
   "outputs": [
    {
     "data": {
      "text/plain": "'\\n\\n# Notebook to score each target through all reaction tree data.\\n\\n[] import results file\\n[] get list of reactants associated to each target\\n[] score each reaction\\n[] collect all scores calculate overall score\\n[] calculate average\\n\\n'"
     },
     "execution_count": 1,
     "metadata": {},
     "output_type": "execute_result"
    }
   ],
   "source": [
    "'''\n",
    "\n",
    "# Notebook to score each target through all reaction tree data.\n",
    "\n",
    "[] import results file\n",
    "[] get list of reactants associated to each target\n",
    "[] score each reaction\n",
    "[] collect all scores calculate overall score\n",
    "[] calculate average\n",
    "\n",
    "'''"
   ]
  },
  {
   "cell_type": "code",
   "execution_count": 1,
   "metadata": {},
   "outputs": [],
   "source": [
    "import pandas as pd\n",
    "import numpy as np\n",
    "import json\n",
    "\n",
    "import aizynthfinder.chem as chem\n",
    "import aizynthfinder.analysis\n",
    "import aizynthfinder.context.scoring as scoring\n",
    "import aizynthfinder.context.config as con\n",
    "\n",
    "from aizynthfinder.mcts.node import Node\n",
    "from aizynthfinder.analysis import ReactionTree\n",
    "from aizynthfinder.mcts.state import State\n",
    "from aizynthfinder.chem import TreeMolecule\n",
    "from aizynthfinder.context.collection import ContextCollection\n",
    "from aizynthfinder.context.stock import StockException"
   ]
  },
  {
   "cell_type": "code",
   "execution_count": 4,
   "metadata": {},
   "outputs": [
    {
     "name": "stdout",
     "output_type": "stream",
     "text": [
      "/data/pegasus/not-backed-up/mokaya/exscientia/Retro/Notebooks\n"
     ]
    }
   ],
   "source": [
    "!pwd"
   ]
  },
  {
   "cell_type": "code",
   "execution_count": 2,
   "metadata": {},
   "outputs": [],
   "source": [
    "# import results .hdf5 file\n",
    "\n",
    "data = pd.read_hdf('/data/localhost/not-backed-up/mokaya/exscientia/Retro/AiZynthFinder/aizynthfinder/data/Random/5/5_d12_smiles_output_2.hdf5', 'table')"
   ]
  },
  {
   "cell_type": "code",
   "execution_count": 27,
   "metadata": {},
   "outputs": [
    {
     "ename": "SyntaxError",
     "evalue": "unexpected EOF while parsing (<ipython-input-27-41ed1ba2f59c>, line 3)",
     "output_type": "error",
     "traceback": [
      "\u001b[0;36m  File \u001b[0;32m\"<ipython-input-27-41ed1ba2f59c>\"\u001b[0;36m, line \u001b[0;32m3\u001b[0m\n\u001b[0;31m    #int(x.get('children'))\u001b[0m\n\u001b[0m                           ^\u001b[0m\n\u001b[0;31mSyntaxError\u001b[0m\u001b[0;31m:\u001b[0m unexpected EOF while parsing\n"
     ]
    }
   ],
   "source": [
    "for i in all_trees[:3]:\n",
    "    for x in i:\n",
    "        #int(x.get('children'))"
   ]
  },
  {
   "cell_type": "code",
   "execution_count": 28,
   "metadata": {},
   "outputs": [],
   "source": [
    "# only calcuate scores using trees for solved targets\n",
    "\n",
    "data_solved = data.loc[(data.is_solved == True)]\n",
    "data_solved_trees = data_solved.trees.values"
   ]
  },
  {
   "cell_type": "code",
   "execution_count": 29,
   "metadata": {},
   "outputs": [
    {
     "name": "stdout",
     "output_type": "stream",
     "text": [
      "<class 'numpy.ndarray'>\n",
      "20\n"
     ]
    }
   ],
   "source": [
    "print(type(data_solved_trees))\n",
    "\n",
    "reactions = [ReactionTree.from_dict(tree) for i in data_solved_trees for x, tree in enumerate(i)]\n",
    "\n",
    "print(len(reactions))\n"
   ]
  },
  {
   "cell_type": "code",
   "execution_count": 24,
   "metadata": {},
   "outputs": [],
   "source": [
    "#load config from file\n",
    "\n",
    "\n",
    "config = con.Configuration.from_file(filename=\"/data/pegasus/not-backed-up/mokaya/exscientia/Retro/AiZynthFinder/aizynthfinder/data/config_aug0.yml\")\n"
   ]
  },
  {
   "cell_type": "code",
   "execution_count": 25,
   "metadata": {},
   "outputs": [
    {
     "data": {
      "text/plain": "'/data/localhost/not-backed-up/mokaya/exscientia/aizynthfinder/aizynthfinder/data/Random/PolicyDicts/aug0.json'"
     },
     "execution_count": 25,
     "metadata": {},
     "output_type": "execute_result"
    }
   ],
   "source": [
    "config.policy_values"
   ]
  },
  {
   "cell_type": "code",
   "execution_count": 32,
   "metadata": {},
   "outputs": [
    {
     "name": "stdout",
     "output_type": "stream",
     "text": [
      "policy:  0.2923347154076814\n",
      "Cost:  276.3582649230957\n",
      "Cost Term:  2.763582649230957\n",
      "Num reactions:  8.6\n",
      "Target Library Synthesis Cost:  1.1627906976744187\n"
     ]
    }
   ],
   "source": [
    "policy_scorer = scoring.USPTOModelPolicyProbabilityScorer()\n",
    "policy_scores = policy_scorer(reactions)\n",
    "policy_mean = np.mean(policy_scores)\n",
    "\n",
    "cost_scorer = scoring.RouteCostScorer(config=config)\n",
    "cost_scores = cost_scorer(reactions)\n",
    "cost_mean = np.mean(cost_scores)\n",
    "\n",
    "num_reactions_scorer = scoring.NumberOfReactionsScorer()\n",
    "num_reactions_scores = num_reactions_scorer(reactions)\n",
    "num_reactions_mean = np.mean(num_reactions_scores)\n",
    "\n",
    "overall_cost = (0.2*100 - (1/10)*100)/num_reactions_mean\n",
    "\n",
    "print('policy: ', policy_mean)\n",
    "print('Cost: ', cost_mean)\n",
    "print('Cost Term: ', cost_mean/100)\n",
    "print('Num reactions: ', num_reactions_mean)\n",
    "\n",
    "print('Target Library Synthesis Cost: ', overall_cost)"
   ]
  },
  {
   "cell_type": "code",
   "execution_count": null,
   "metadata": {},
   "outputs": [],
   "source": []
  },
  {
   "cell_type": "code",
   "execution_count": null,
   "metadata": {},
   "outputs": [],
   "source": []
  }
 ],
 "metadata": {
  "kernelspec": {
   "display_name": "Python 3.8.8 64-bit ('aizynth-dev': conda)",
   "metadata": {
    "interpreter": {
     "hash": "1ce81150a71727f589a159d7c025889054ace076bb44326ef3200601839cf7ad"
    }
   },
   "name": "python3"
  },
  "language_info": {
   "codemirror_mode": {
    "name": "ipython",
    "version": 3
   },
   "file_extension": ".py",
   "mimetype": "text/x-python",
   "name": "python",
   "nbconvert_exporter": "python",
   "pygments_lexer": "ipython3",
   "version": "3.8.8"
  },
  "orig_nbformat": 2
 },
 "nbformat": 4,
 "nbformat_minor": 2
}