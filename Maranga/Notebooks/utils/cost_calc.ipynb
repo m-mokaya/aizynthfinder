{
 "cells": [
  {
   "cell_type": "code",
   "execution_count": 2,
   "metadata": {},
   "outputs": [],
   "source": [
    "import sys\n",
    "import json\n",
    "import argparse\n",
    "import pandas as pd\n",
    "import numpy as np\n",
    "\n",
    "sys.path.append('../../../')\n",
    "\n",
    "import aizynthfinder.analysis\n",
    "import aizynthfinder.chem\n",
    "import aizynthfinder.context.config as con\n",
    "\n",
    "\n",
    "from aizynthfinder.mcts.node import Node\n",
    "from aizynthfinder.analysis import ReactionTree\n",
    "from aizynthfinder.mcts.state import State\n",
    "from aizynthfinder.chem import TreeMolecule, Molecule, UniqueMolecule\n",
    "from aizynthfinder.context.collection import ContextCollection\n",
    "from aizynthfinder.context.stock import StockException\n",
    "import aizynthfinder.context.scoring as scoring"
   ]
  },
  {
   "cell_type": "code",
   "execution_count": 1,
   "metadata": {},
   "outputs": [],
   "source": [
    "args_output = '/data/localhost/not-backed-up/mokaya/exscientia/aizynthfinder/Maranga/experiments/explore/results/txt.txt'\n",
    "args_input = '/data/localhost/not-backed-up/mokaya/exscientia/aizynthfinder/Maranga/experiments/price/results/json/tg1_393_3.json'\n",
    "args_config = '/data/localhost/not-backed-up/mokaya/exscientia/aizynthfinder/Maranga/experiments/price/config_std.yml'"
   ]
  },
  {
   "cell_type": "code",
   "execution_count": 3,
   "metadata": {},
   "outputs": [],
   "source": [
    "# create stock object\n",
    "config = con.Configuration().from_file(args_config)\n",
    "stock = config.stock"
   ]
  },
  {
   "cell_type": "code",
   "execution_count": 4,
   "metadata": {},
   "outputs": [
    {
     "output_type": "stream",
     "name": "stdout",
     "text": [
      "Mol:  O=S(=O)(Cl)c1cccs1\nSOMETHING\n[]\n"
     ]
    },
    {
     "output_type": "error",
     "ename": "StockException",
     "evalue": "Could not obtain price of molecule",
     "traceback": [
      "\u001b[0;31m---------------------------------------------------------------------------\u001b[0m",
      "\u001b[0;31mStockException\u001b[0m                            Traceback (most recent call last)",
      "\u001b[0;32m<ipython-input-4-227a5a219e26>\u001b[0m in \u001b[0;36m<module>\u001b[0;34m\u001b[0m\n\u001b[0;32m----> 1\u001b[0;31m \u001b[0mstock\u001b[0m\u001b[0;34m.\u001b[0m\u001b[0mprice\u001b[0m\u001b[0;34m(\u001b[0m\u001b[0mUniqueMolecule\u001b[0m\u001b[0;34m(\u001b[0m\u001b[0msmiles\u001b[0m\u001b[0;34m=\u001b[0m\u001b[0;34m\"O=S(=O)(Cl)c1cccs1\"\u001b[0m\u001b[0;34m)\u001b[0m\u001b[0;34m)\u001b[0m\u001b[0;34m\u001b[0m\u001b[0;34m\u001b[0m\u001b[0m\n\u001b[0m",
      "\u001b[0;32m/data/pegasus/not-backed-up/mokaya/exscientia/aizynthfinder/aizynthfinder/context/stock.py\u001b[0m in \u001b[0;36mprice\u001b[0;34m(self, mol)\u001b[0m\n\u001b[1;32m    373\u001b[0m         \u001b[0mprices\u001b[0m \u001b[0;34m=\u001b[0m \u001b[0mself\u001b[0m\u001b[0;34m.\u001b[0m\u001b[0m_mol_property\u001b[0m\u001b[0;34m(\u001b[0m\u001b[0mmol\u001b[0m\u001b[0;34m,\u001b[0m \u001b[0;34m\"price\"\u001b[0m\u001b[0;34m)\u001b[0m\u001b[0;34m\u001b[0m\u001b[0;34m\u001b[0m\u001b[0m\n\u001b[1;32m    374\u001b[0m         \u001b[0;32mif\u001b[0m \u001b[0;32mnot\u001b[0m \u001b[0mprices\u001b[0m\u001b[0;34m:\u001b[0m\u001b[0;34m\u001b[0m\u001b[0;34m\u001b[0m\u001b[0m\n\u001b[0;32m--> 375\u001b[0;31m             \u001b[0;32mraise\u001b[0m \u001b[0mStockException\u001b[0m\u001b[0;34m(\u001b[0m\u001b[0;34m\"Could not obtain price of molecule\"\u001b[0m\u001b[0;34m)\u001b[0m\u001b[0;34m\u001b[0m\u001b[0;34m\u001b[0m\u001b[0m\n\u001b[0m\u001b[1;32m    376\u001b[0m         \u001b[0;32mreturn\u001b[0m \u001b[0mmin\u001b[0m\u001b[0;34m(\u001b[0m\u001b[0mprices\u001b[0m\u001b[0;34m)\u001b[0m\u001b[0;34m\u001b[0m\u001b[0;34m\u001b[0m\u001b[0m\n\u001b[1;32m    377\u001b[0m \u001b[0;34m\u001b[0m\u001b[0m\n",
      "\u001b[0;31mStockException\u001b[0m: Could not obtain price of molecule"
     ]
    }
   ],
   "source": [
    "stock.price(UniqueMolecule(smiles=\"O=S(=O)(Cl)c1cccs1\"))"
   ]
  },
  {
   "cell_type": "code",
   "execution_count": 3,
   "metadata": {},
   "outputs": [],
   "source": [
    "with open(args_input) as inf:\n",
    "    data = json.load(inf)"
   ]
  },
  {
   "cell_type": "code",
   "execution_count": 4,
   "metadata": {},
   "outputs": [
    {
     "name": "stdout",
     "output_type": "stream",
     "text": [
      "5\n",
      "RUN:  0\n",
      "RUN:  1\n",
      "RUN:  2\n",
      "RUN:  3\n",
      "\n",
      "\n",
      "Rank, Reaction, Frequency, Policy value\n",
      "0,Amide to amine reduction, 12, 0.005499999970197678\n",
      "1,Heteroaryl N-alkylation, 8, 0.0007999999797903001\n",
      "Rank, Reaction, Frequency, Policy, Literature\n",
      "1,Amide to amine reduction, 12, 0.0055, 1676.0\n",
      "2,Heteroaryl N-alkylation, 8, 0.0008, 39.0\n"
     ]
    },
    {
     "ename": "TypeError",
     "evalue": "string indices must be integers",
     "output_type": "error",
     "traceback": [
      "\u001b[0;31m---------------------------------------------------------------------------\u001b[0m",
      "\u001b[0;31mTypeError\u001b[0m                                 Traceback (most recent call last)",
      "\u001b[0;32m<ipython-input-4-90e39dfc108f>\u001b[0m in \u001b[0;36m<module>\u001b[0;34m\u001b[0m\n\u001b[1;32m    162\u001b[0m \u001b[0mconfig\u001b[0m \u001b[0;34m=\u001b[0m \u001b[0mconfig\u001b[0m\u001b[0;34m.\u001b[0m\u001b[0mfrom_file\u001b[0m\u001b[0;34m(\u001b[0m\u001b[0margs_config\u001b[0m\u001b[0;34m)\u001b[0m\u001b[0;34m\u001b[0m\u001b[0;34m\u001b[0m\u001b[0m\n\u001b[1;32m    163\u001b[0m \u001b[0;34m\u001b[0m\u001b[0m\n\u001b[0;32m--> 164\u001b[0;31m \u001b[0mrxns\u001b[0m \u001b[0;34m=\u001b[0m \u001b[0;34m[\u001b[0m\u001b[0mReactionTree\u001b[0m\u001b[0;34m.\u001b[0m\u001b[0mfrom_dict\u001b[0m\u001b[0;34m(\u001b[0m\u001b[0mtree\u001b[0m\u001b[0;34m)\u001b[0m \u001b[0;32mfor\u001b[0m \u001b[0mi\u001b[0m \u001b[0;32min\u001b[0m \u001b[0mjsonfile\u001b[0m \u001b[0;32mfor\u001b[0m \u001b[0mx\u001b[0m\u001b[0;34m,\u001b[0m \u001b[0mtree\u001b[0m \u001b[0;32min\u001b[0m \u001b[0menumerate\u001b[0m\u001b[0;34m(\u001b[0m\u001b[0mi\u001b[0m\u001b[0;34m)\u001b[0m\u001b[0;34m]\u001b[0m\u001b[0;34m\u001b[0m\u001b[0;34m\u001b[0m\u001b[0m\n\u001b[0m\u001b[1;32m    165\u001b[0m \u001b[0;34m\u001b[0m\u001b[0m\n\u001b[1;32m    166\u001b[0m \u001b[0;34m\u001b[0m\u001b[0m\n",
      "\u001b[0;32m<ipython-input-4-90e39dfc108f>\u001b[0m in \u001b[0;36m<listcomp>\u001b[0;34m(.0)\u001b[0m\n\u001b[1;32m    162\u001b[0m \u001b[0mconfig\u001b[0m \u001b[0;34m=\u001b[0m \u001b[0mconfig\u001b[0m\u001b[0;34m.\u001b[0m\u001b[0mfrom_file\u001b[0m\u001b[0;34m(\u001b[0m\u001b[0margs_config\u001b[0m\u001b[0;34m)\u001b[0m\u001b[0;34m\u001b[0m\u001b[0;34m\u001b[0m\u001b[0m\n\u001b[1;32m    163\u001b[0m \u001b[0;34m\u001b[0m\u001b[0m\n\u001b[0;32m--> 164\u001b[0;31m \u001b[0mrxns\u001b[0m \u001b[0;34m=\u001b[0m \u001b[0;34m[\u001b[0m\u001b[0mReactionTree\u001b[0m\u001b[0;34m.\u001b[0m\u001b[0mfrom_dict\u001b[0m\u001b[0;34m(\u001b[0m\u001b[0mtree\u001b[0m\u001b[0;34m)\u001b[0m \u001b[0;32mfor\u001b[0m \u001b[0mi\u001b[0m \u001b[0;32min\u001b[0m \u001b[0mjsonfile\u001b[0m \u001b[0;32mfor\u001b[0m \u001b[0mx\u001b[0m\u001b[0;34m,\u001b[0m \u001b[0mtree\u001b[0m \u001b[0;32min\u001b[0m \u001b[0menumerate\u001b[0m\u001b[0;34m(\u001b[0m\u001b[0mi\u001b[0m\u001b[0;34m)\u001b[0m\u001b[0;34m]\u001b[0m\u001b[0;34m\u001b[0m\u001b[0;34m\u001b[0m\u001b[0m\n\u001b[0m\u001b[1;32m    165\u001b[0m \u001b[0;34m\u001b[0m\u001b[0m\n\u001b[1;32m    166\u001b[0m \u001b[0;34m\u001b[0m\u001b[0m\n",
      "\u001b[0;32m/data/pegasus/not-backed-up/mokaya/exscientia/aizynthfinder/aizynthfinder/analysis.py\u001b[0m in \u001b[0;36mfrom_dict\u001b[0;34m(cls, tree_dict)\u001b[0m\n\u001b[1;32m    227\u001b[0m         \u001b[0;34m:\u001b[0m\u001b[0mreturns\u001b[0m\u001b[0;34m:\u001b[0m \u001b[0mthe\u001b[0m \u001b[0mreaction\u001b[0m \u001b[0mtree\u001b[0m\u001b[0;34m\u001b[0m\u001b[0;34m\u001b[0m\u001b[0m\n\u001b[1;32m    228\u001b[0m         \"\"\"\n\u001b[0;32m--> 229\u001b[0;31m         \u001b[0;32mreturn\u001b[0m \u001b[0mReactionTreeFromDict\u001b[0m\u001b[0;34m(\u001b[0m\u001b[0mtree_dict\u001b[0m\u001b[0;34m)\u001b[0m\u001b[0;34m.\u001b[0m\u001b[0mtree\u001b[0m\u001b[0;34m\u001b[0m\u001b[0;34m\u001b[0m\u001b[0m\n\u001b[0m\u001b[1;32m    230\u001b[0m \u001b[0;34m\u001b[0m\u001b[0m\n\u001b[1;32m    231\u001b[0m     \u001b[0;32mdef\u001b[0m \u001b[0mdepth\u001b[0m\u001b[0;34m(\u001b[0m\u001b[0mself\u001b[0m\u001b[0;34m,\u001b[0m \u001b[0mnode\u001b[0m\u001b[0;34m:\u001b[0m \u001b[0mUnion\u001b[0m\u001b[0;34m[\u001b[0m\u001b[0mUniqueMolecule\u001b[0m\u001b[0;34m,\u001b[0m \u001b[0mFixedRetroReaction\u001b[0m\u001b[0;34m]\u001b[0m\u001b[0;34m)\u001b[0m \u001b[0;34m->\u001b[0m \u001b[0mint\u001b[0m\u001b[0;34m:\u001b[0m\u001b[0;34m\u001b[0m\u001b[0;34m\u001b[0m\u001b[0m\n",
      "\u001b[0;32m/data/pegasus/not-backed-up/mokaya/exscientia/aizynthfinder/aizynthfinder/utils/analysis_helpers.py\u001b[0m in \u001b[0;36m__init__\u001b[0;34m(self, *args, **kwargs)\u001b[0m\n\u001b[1;32m     40\u001b[0m \u001b[0;34m\u001b[0m\u001b[0m\n\u001b[1;32m     41\u001b[0m         \u001b[0mself\u001b[0m\u001b[0;34m.\u001b[0m\u001b[0mtree\u001b[0m \u001b[0;34m=\u001b[0m \u001b[0mReactionTree\u001b[0m\u001b[0;34m(\u001b[0m\u001b[0;34m)\u001b[0m\u001b[0;34m\u001b[0m\u001b[0;34m\u001b[0m\u001b[0m\n\u001b[0;32m---> 42\u001b[0;31m         \u001b[0mself\u001b[0m\u001b[0;34m.\u001b[0m\u001b[0m_load\u001b[0m\u001b[0;34m(\u001b[0m\u001b[0;34m*\u001b[0m\u001b[0margs\u001b[0m\u001b[0;34m,\u001b[0m \u001b[0;34m**\u001b[0m\u001b[0mkwargs\u001b[0m\u001b[0;34m)\u001b[0m\u001b[0;34m\u001b[0m\u001b[0;34m\u001b[0m\u001b[0m\n\u001b[0m\u001b[1;32m     43\u001b[0m \u001b[0;34m\u001b[0m\u001b[0m\n\u001b[1;32m     44\u001b[0m         self.tree.is_solved = all(\n",
      "\u001b[0;32m/data/pegasus/not-backed-up/mokaya/exscientia/aizynthfinder/aizynthfinder/utils/analysis_helpers.py\u001b[0m in \u001b[0;36m_load\u001b[0;34m(self, tree_dict)\u001b[0m\n\u001b[1;32m     74\u001b[0m \u001b[0;34m\u001b[0m\u001b[0m\n\u001b[1;32m     75\u001b[0m     \u001b[0;32mdef\u001b[0m \u001b[0m_load\u001b[0m\u001b[0;34m(\u001b[0m\u001b[0mself\u001b[0m\u001b[0;34m,\u001b[0m \u001b[0mtree_dict\u001b[0m\u001b[0;34m:\u001b[0m \u001b[0mStrDict\u001b[0m\u001b[0;34m)\u001b[0m \u001b[0;34m->\u001b[0m \u001b[0;32mNone\u001b[0m\u001b[0;34m:\u001b[0m  \u001b[0;31m# type: ignore\u001b[0m\u001b[0;34m\u001b[0m\u001b[0;34m\u001b[0m\u001b[0m\n\u001b[0;32m---> 76\u001b[0;31m         \u001b[0mself\u001b[0m\u001b[0;34m.\u001b[0m\u001b[0m_parse_tree_dict\u001b[0m\u001b[0;34m(\u001b[0m\u001b[0mtree_dict\u001b[0m\u001b[0;34m)\u001b[0m\u001b[0;34m\u001b[0m\u001b[0;34m\u001b[0m\u001b[0m\n\u001b[0m\u001b[1;32m     77\u001b[0m \u001b[0;34m\u001b[0m\u001b[0m\n\u001b[1;32m     78\u001b[0m     \u001b[0;32mdef\u001b[0m \u001b[0m_parse_tree_dict\u001b[0m\u001b[0;34m(\u001b[0m\u001b[0mself\u001b[0m\u001b[0;34m,\u001b[0m \u001b[0mtree_dict\u001b[0m\u001b[0;34m:\u001b[0m \u001b[0mStrDict\u001b[0m\u001b[0;34m,\u001b[0m \u001b[0mncalls\u001b[0m\u001b[0;34m:\u001b[0m \u001b[0mint\u001b[0m \u001b[0;34m=\u001b[0m \u001b[0;36m0\u001b[0m\u001b[0;34m)\u001b[0m \u001b[0;34m->\u001b[0m \u001b[0mUniqueMolecule\u001b[0m\u001b[0;34m:\u001b[0m\u001b[0;34m\u001b[0m\u001b[0;34m\u001b[0m\u001b[0m\n",
      "\u001b[0;32m/data/pegasus/not-backed-up/mokaya/exscientia/aizynthfinder/aizynthfinder/utils/analysis_helpers.py\u001b[0m in \u001b[0;36m_parse_tree_dict\u001b[0;34m(self, tree_dict, ncalls)\u001b[0m\n\u001b[1;32m     77\u001b[0m \u001b[0;34m\u001b[0m\u001b[0m\n\u001b[1;32m     78\u001b[0m     \u001b[0;32mdef\u001b[0m \u001b[0m_parse_tree_dict\u001b[0m\u001b[0;34m(\u001b[0m\u001b[0mself\u001b[0m\u001b[0;34m,\u001b[0m \u001b[0mtree_dict\u001b[0m\u001b[0;34m:\u001b[0m \u001b[0mStrDict\u001b[0m\u001b[0;34m,\u001b[0m \u001b[0mncalls\u001b[0m\u001b[0;34m:\u001b[0m \u001b[0mint\u001b[0m \u001b[0;34m=\u001b[0m \u001b[0;36m0\u001b[0m\u001b[0;34m)\u001b[0m \u001b[0;34m->\u001b[0m \u001b[0mUniqueMolecule\u001b[0m\u001b[0;34m:\u001b[0m\u001b[0;34m\u001b[0m\u001b[0;34m\u001b[0m\u001b[0m\n\u001b[0;32m---> 79\u001b[0;31m         \u001b[0mproduct_node\u001b[0m \u001b[0;34m=\u001b[0m \u001b[0mUniqueMolecule\u001b[0m\u001b[0;34m(\u001b[0m\u001b[0msmiles\u001b[0m\u001b[0;34m=\u001b[0m\u001b[0mtree_dict\u001b[0m\u001b[0;34m[\u001b[0m\u001b[0;34m\"smiles\"\u001b[0m\u001b[0;34m]\u001b[0m\u001b[0;34m)\u001b[0m\u001b[0;34m\u001b[0m\u001b[0;34m\u001b[0m\u001b[0m\n\u001b[0m\u001b[1;32m     80\u001b[0m         self._add_node(\n\u001b[1;32m     81\u001b[0m             \u001b[0mproduct_node\u001b[0m\u001b[0;34m,\u001b[0m\u001b[0;34m\u001b[0m\u001b[0;34m\u001b[0m\u001b[0m\n",
      "\u001b[0;31mTypeError\u001b[0m: string indices must be integers"
     ]
    }
   ],
   "source": [
    "\n",
    "#solved reaction parse rxn tree\n",
    "solved_reaction_data = []\n",
    "\n",
    "print(len(jsonfile))\n",
    "\n",
    "for p in range(len(jsonfile)-1):\n",
    "    print('RUN: ', p)\n",
    "    for i in jsonfile:\n",
    "        if 'children' in i:\n",
    "            child = i.get('children')[0]\n",
    "            if child.get('type') == 'reaction':\n",
    "                metadata = child.get('metadata')\n",
    "                solved_reaction_data.append((child.get('smiles'), metadata.get('classification'), metadata.get('library_occurence'), metadata.get('policy_probability')))\n",
    "            else:\n",
    "                pass\n",
    "        else:\n",
    "            del jsonfile[-1]\n",
    "\n",
    "smiles = [i[0] for i in solved_reaction_data]\n",
    "classification = [i[1] for i in solved_reaction_data]\n",
    "uspto_freq = [i[2] for i in solved_reaction_data]\n",
    "policy = [i[3] for i in solved_reaction_data]\n",
    "\n",
    "\n",
    "reaction_class = {}\n",
    "\n",
    "for i in classification:\n",
    "    if (i in reaction_class):\n",
    "        reaction_class[i]['Frequency'] += 1\n",
    "    else:\n",
    "        reaction_class[i] = {}\n",
    "        reaction_class[i]['Frequency'] = 1\n",
    "\n",
    "reaction_class = dict(sorted(reaction_class.items(), key=lambda item: item[1]['Frequency'], reverse=True))\n",
    "\n",
    "#calculate average policy predictions for each grouped reaction\n",
    "\n",
    "reaction_class_policy = {}\n",
    "reaction_class_freq = {}\n",
    "\n",
    "for i in solved_reaction_data: \n",
    "    if i[1] in reaction_class_policy:\n",
    "        reaction_class_policy[i[1]] += i[3]\n",
    "        reaction_class_freq[i[1]] += 1\n",
    "    else:\n",
    "        reaction_class_policy[i[1]] = i[3]\n",
    "        reaction_class_freq[i[1]] = 1\n",
    "\n",
    "reaction_class_policy_mean = {}\n",
    "\n",
    "for i in reaction_class_policy:\n",
    "    reaction_class_policy_mean[i] = (reaction_class_policy.get(i)/reaction_class_freq.get(i))\n",
    "\n",
    "#reaction_class_policy_mean = dict(sorted(reaction_class_policy_mean.items(), key=lambda item: item[1], reverse=True))\n",
    "print('\\n')\n",
    "print('Rank, Reaction, Frequency, Policy value')\n",
    "\n",
    "'''for x in reaction_class_policy_mean:\n",
    "    print (x + '    '+ str(reaction_class_policy_mean[x]))'''\n",
    "\n",
    "for i in reaction_class:\n",
    "    reaction_class[i]['Policy'] = reaction_class_policy_mean.get(i)\n",
    "\n",
    "count = 0\n",
    "for i in reaction_class:\n",
    "    print(str(count)+','+i+', '+str(reaction_class[i]['Frequency'])+', '+str(reaction_class[i]['Policy']))\n",
    "    count+=1\n",
    "\n",
    "reaction_class_lit = {}\n",
    "reaction_class_freq = {}\n",
    "\n",
    "for i in solved_reaction_data: \n",
    "    if i[1] in reaction_class_lit:\n",
    "        reaction_class_lit[i[1]] += i[2]\n",
    "        reaction_class_freq[i[1]] += 1\n",
    "    else:\n",
    "        reaction_class_lit[i[1]] = i[2]\n",
    "        reaction_class_freq[i[1]] = 1\n",
    "\n",
    "reaction_class_lit_mean = {}\n",
    "\n",
    "\n",
    "for i in reaction_class_lit:\n",
    "    reaction_class_lit_mean[i] = (reaction_class_lit.get(i)/reaction_class_freq.get(i))\n",
    "\n",
    "reaction_class_lit_mean = dict(sorted(reaction_class_lit_mean.items(), key=lambda item: item[1], reverse=True))\n",
    "\n",
    "print('Rank, Reaction, Frequency, Policy, Literature')\n",
    "#f.write('\\n\\nRank, Reaction, Frequency, Policy, Literature\\n')\n",
    "\n",
    "'''for x in reaction_class_lit_mean:\n",
    "    print (x + '    '+ str(reaction_class_lit_mean[x]))'''\n",
    "\n",
    "\n",
    "for i in reaction_class:\n",
    "    reaction_class[i]['Literature'] = reaction_class_lit_mean.get(i)\n",
    "\n",
    "count = 1\n",
    "for i in reaction_class:\n",
    "    print(str(count)+','+i+', '+str(reaction_class[i]['Frequency'])+', '+str(round(reaction_class[i]['Policy'], 4))+', '+str(round(reaction_class[i]['Literature'], 0)))\n",
    "    #f.write(str(count)+','+i+', '+str(reaction_class[i]['Frequency'])+', '+str(round(reaction_class[i]['Policy'], 4))+', '+str(round(reaction_class[i]['Literature'], 0))+'\\n')\n",
    "    count+=1\n",
    "\n",
    "\n",
    "# route cost calculator\n",
    "config = con.Configuration()\n",
    "config = config.from_file(args_config)\n",
    "\n",
    "rxns = [ReactionTree.from_dict(tree) for i in jsonfile for x, tree in enumerate(i)]\n",
    "\n",
    "\n",
    "policy_scorer = scoring.USPTOModelPolicyProbabilityScorer()\n",
    "policy_scores = policy_scorer(rxns)\n",
    "policy_mean = np.mean(policy_scores)\n",
    "\n",
    "cost_scorer = scoring.RouteCostScorer(config=config)\n",
    "cost_scores = cost_scorer(rxns)\n",
    "cost_mean = np.mean(cost_scores)\n",
    "\n",
    "num_reactions_scorer = scoring.NumberOfReactionsScorer()\n",
    "num_reactions_scores = num_reactions_scorer(rxns)\n",
    "num_reactions_mean = np.mean(num_reactions_scores)\n",
    "\n",
    "overall_cost = (0.2*100 - (1/10)*100)/num_reactions_mean\n",
    "\n",
    "print('policy: ', policy_mean)\n",
    "#f.write('\\n\\npolicy: '+ str(policy_mean)+'\\n')\n",
    "\n",
    "print('Cost: ', cost_mean)\n",
    "#f.write('Cost: '+ str(cost_mean)+'\\n')\n",
    "\n",
    "print('Cost Term: ', cost_mean/100)\n",
    "\n",
    "print('Num reactions: ', num_reactions_mean)\n",
    "#f.write('Num Reactions: '+ str(num_reactions_mean)+'\\n')\n",
    "\n",
    "print('Target Library Synthesis Cost: ', cost_mean)\n",
    "#f.write('Target Lib cost: '+ str(cost_mean)+'\\n')\n",
    "#f.close()"
   ]
  },
  {
   "cell_type": "code",
   "execution_count": 7,
   "metadata": {},
   "outputs": [],
   "source": [
    "def get_all_reactions(nested_dict, in_list):\n",
    "    all_reactions = []\n",
    "    for key, value in nested_dict.items():\n",
    "        #print('Key: ', key)\n",
    "        #print('Value', value)\n",
    "        if value == 'mol':\n",
    "            #print('mol found')\n",
    "            children  = nested_dict.get('children')\n",
    "            for i in children:\n",
    "                if 'children' in i:\n",
    "                    get_all_reactions(nested_dict=i, in)\n",
    "        elif value == 'reaction':\n",
    "            #print('reaction found')\n",
    "            metadata = nested_dict.get('metadata')\n",
    "            #print(metadata)\n",
    "            all_reactions.append((metadata.get('classification'), metadata.get('library_occurence'), metadata.get('policy_probability')))\n",
    "            children  = nested_dict.get('children')\n",
    "            for i in children:\n",
    "                if 'children' in i:\n",
    "                    get_all_reactions(nested_dict=i)\n",
    "        elif (key == 'is_stock' and value=='True'):\n",
    "            #print('REACHED STOCK')\n",
    "            pass\n",
    "        else:\n",
    "            continue\n",
    "    return in_list+all_reactions"
   ]
  },
  {
   "cell_type": "code",
   "execution_count": 4,
   "metadata": {},
   "outputs": [
    {
     "output_type": "error",
     "ename": "NameError",
     "evalue": "name 'jsonfile' is not defined",
     "traceback": [
      "\u001b[0;31m---------------------------------------------------------------------------\u001b[0m",
      "\u001b[0;31mNameError\u001b[0m                                 Traceback (most recent call last)",
      "\u001b[0;32m<ipython-input-4-079e668e57dc>\u001b[0m in \u001b[0;36m<module>\u001b[0;34m\u001b[0m\n\u001b[0;32m----> 1\u001b[0;31m \u001b[0;32mfor\u001b[0m \u001b[0mi\u001b[0m \u001b[0;32min\u001b[0m \u001b[0mjsonfile\u001b[0m\u001b[0;34m:\u001b[0m\u001b[0;34m\u001b[0m\u001b[0;34m\u001b[0m\u001b[0m\n\u001b[0m\u001b[1;32m      2\u001b[0m     \u001b[0mresults\u001b[0m \u001b[0;34m=\u001b[0m \u001b[0mget_all_reactions\u001b[0m\u001b[0;34m(\u001b[0m\u001b[0mi\u001b[0m\u001b[0;34m)\u001b[0m\u001b[0;34m\u001b[0m\u001b[0;34m\u001b[0m\u001b[0m\n",
      "\u001b[0;31mNameError\u001b[0m: name 'jsonfile' is not defined"
     ]
    }
   ],
   "source": [
    "for i in jsonfile:\n",
    "    results = get_all_reactions(i)"
   ]
  },
  {
   "cell_type": "code",
   "execution_count": 4,
   "metadata": {},
   "outputs": [],
   "source": [
    "rxns = [ReactionTree.from_dict(i) for i in data]"
   ]
  },
  {
   "cell_type": "code",
   "execution_count": 5,
   "metadata": {},
   "outputs": [
    {
     "output_type": "stream",
     "name": "stdout",
     "text": [
      "6\n<class 'aizynthfinder.analysis.ReactionTree'>\n[<aizynthfinder.analysis.ReactionTree object at 0x7f74249788b0>, <aizynthfinder.analysis.ReactionTree object at 0x7f7424978940>, <aizynthfinder.analysis.ReactionTree object at 0x7f74249782e0>, <aizynthfinder.analysis.ReactionTree object at 0x7f7424978730>, <aizynthfinder.analysis.ReactionTree object at 0x7f7424946130>, <aizynthfinder.analysis.ReactionTree object at 0x7f7424946670>]\n"
     ]
    }
   ],
   "source": [
    "print(len(rxns))\n",
    "print(type(rxns[1]))\n",
    "print(rxns)"
   ]
  },
  {
   "cell_type": "code",
   "execution_count": 16,
   "metadata": {},
   "outputs": [],
   "source": [
    "config = con.Configuration()\n",
    "config = config.from_file(args_config)"
   ]
  },
  {
   "cell_type": "code",
   "execution_count": 17,
   "metadata": {},
   "outputs": [],
   "source": [
    "stock = config.stock"
   ]
  },
  {
   "cell_type": "code",
   "execution_count": 18,
   "metadata": {},
   "outputs": [
    {
     "output_type": "error",
     "ename": "NameError",
     "evalue": "name 'leaves' is not defined",
     "traceback": [
      "\u001b[0;31m---------------------------------------------------------------------------\u001b[0m",
      "\u001b[0;31mNameError\u001b[0m                                 Traceback (most recent call last)",
      "\u001b[0;32m<ipython-input-18-c8aa2026c20e>\u001b[0m in \u001b[0;36m<module>\u001b[0;34m\u001b[0m\n\u001b[0;32m----> 1\u001b[0;31m \u001b[0minstock\u001b[0m \u001b[0;34m=\u001b[0m \u001b[0;34m[\u001b[0m\u001b[0mi\u001b[0m \u001b[0;32mfor\u001b[0m \u001b[0mi\u001b[0m \u001b[0;32min\u001b[0m \u001b[0mlist\u001b[0m\u001b[0;34m(\u001b[0m\u001b[0mleaves\u001b[0m\u001b[0;34m)\u001b[0m \u001b[0;32mif\u001b[0m \u001b[0mi\u001b[0m \u001b[0;32min\u001b[0m \u001b[0mstock\u001b[0m\u001b[0;34m]\u001b[0m\u001b[0;34m\u001b[0m\u001b[0;34m\u001b[0m\u001b[0m\n\u001b[0m",
      "\u001b[0;31mNameError\u001b[0m: name 'leaves' is not defined"
     ]
    }
   ],
   "source": [
    "instock = [i for i in list(leaves) if i in stock]"
   ]
  },
  {
   "cell_type": "code",
   "execution_count": 22,
   "metadata": {},
   "outputs": [
    {
     "output_type": "execute_result",
     "data": {
      "text/plain": [
       "'WETWJCDKMRHUPV-UHFFFAOYSA-N'"
      ]
     },
     "metadata": {},
     "execution_count": 22
    }
   ],
   "source": [
    "mol = Molecule(smiles=\"CC(=O)Cl\")\n",
    "mol.inchi_key"
   ]
  },
  {
   "cell_type": "code",
   "execution_count": 21,
   "metadata": {},
   "outputs": [
    {
     "output_type": "stream",
     "name": "stdout",
     "text": [
      "NO\n"
     ]
    }
   ],
   "source": [
    "if mol in stock:\n",
    "    print('YES')\n",
    "else: \n",
    "    print('NO')"
   ]
  },
  {
   "cell_type": "code",
   "execution_count": null,
   "metadata": {},
   "outputs": [],
   "source": [
    "tree = rxns[-1]\n",
    "leaves = tree.leafs()\n",
    "print(list(leaves))"
   ]
  },
  {
   "cell_type": "code",
   "execution_count": 23,
   "metadata": {},
   "outputs": [
    {
     "output_type": "error",
     "ename": "SyntaxError",
     "evalue": "invalid syntax (<ipython-input-23-2189c1f430d4>, line 2)",
     "traceback": [
      "\u001b[0;36m  File \u001b[0;32m\"<ipython-input-23-2189c1f430d4>\"\u001b[0;36m, line \u001b[0;32m2\u001b[0m\n\u001b[0;31m    leaves = tree.\u001b[0m\n\u001b[0m                  ^\u001b[0m\n\u001b[0;31mSyntaxError\u001b[0m\u001b[0;31m:\u001b[0m invalid syntax\n"
     ]
    }
   ],
   "source": [
    "tree = rxns[-1]\n",
    "leaves = tree.\n",
    "print(list(leaves))\n",
    "for i in list(leaves):\n",
    "    if i in stock:\n",
    "        print('in')\n",
    "    else:\n",
    "        print('out')"
   ]
  },
  {
   "cell_type": "code",
   "execution_count": 15,
   "metadata": {},
   "outputs": [
    {
     "output_type": "stream",
     "name": "stdout",
     "text": [
      "test\nmol:  (0, <aizynthfinder.chem.UniqueMolecule object at 0x7f996c4ead30>)\ntype:  <class 'aizynthfinder.chem.UniqueMolecule'>\nmol not in stock\ntest\nmol:  (0, <aizynthfinder.chem.UniqueMolecule object at 0x7f9900442040>)\ntype:  <class 'aizynthfinder.chem.UniqueMolecule'>\nmol not in stock\nmol:  (1, <aizynthfinder.chem.UniqueMolecule object at 0x7f9900442280>)\ntype:  <class 'aizynthfinder.chem.UniqueMolecule'>\nmol not in stock\nmol:  (2, <aizynthfinder.chem.UniqueMolecule object at 0x7f99004421c0>)\ntype:  <class 'aizynthfinder.chem.UniqueMolecule'>\nmol not in stock\nmol:  (3, <aizynthfinder.chem.UniqueMolecule object at 0x7f996c5155e0>)\ntype:  <class 'aizynthfinder.chem.UniqueMolecule'>\nmol not in stock\ntest\nmol:  (0, <aizynthfinder.chem.UniqueMolecule object at 0x7f9900442700>)\ntype:  <class 'aizynthfinder.chem.UniqueMolecule'>\nmol not in stock\nmol:  (1, <aizynthfinder.chem.UniqueMolecule object at 0x7f9900442790>)\ntype:  <class 'aizynthfinder.chem.UniqueMolecule'>\nmol not in stock\nmol:  (2, <aizynthfinder.chem.UniqueMolecule object at 0x7f9900442460>)\ntype:  <class 'aizynthfinder.chem.UniqueMolecule'>\nmol not in stock\nmol:  (3, <aizynthfinder.chem.UniqueMolecule object at 0x7f9900442190>)\ntype:  <class 'aizynthfinder.chem.UniqueMolecule'>\nmol not in stock\ntest\nmol:  (0, <aizynthfinder.chem.UniqueMolecule object at 0x7f9900442970>)\ntype:  <class 'aizynthfinder.chem.UniqueMolecule'>\nmol not in stock\nmol:  (1, <aizynthfinder.chem.UniqueMolecule object at 0x7f99004422b0>)\ntype:  <class 'aizynthfinder.chem.UniqueMolecule'>\nmol not in stock\nmol:  (2, <aizynthfinder.chem.UniqueMolecule object at 0x7f9900442130>)\ntype:  <class 'aizynthfinder.chem.UniqueMolecule'>\nmol not in stock\nmol:  (3, <aizynthfinder.chem.UniqueMolecule object at 0x7f9900442b20>)\ntype:  <class 'aizynthfinder.chem.UniqueMolecule'>\nmol not in stock\nmol:  (4, <aizynthfinder.chem.UniqueMolecule object at 0x7f9900442580>)\ntype:  <class 'aizynthfinder.chem.UniqueMolecule'>\nmol not in stock\ntest\nmol:  (0, <aizynthfinder.chem.UniqueMolecule object at 0x7f9900442e50>)\ntype:  <class 'aizynthfinder.chem.UniqueMolecule'>\nmol not in stock\nmol:  (1, <aizynthfinder.chem.UniqueMolecule object at 0x7f9900442fd0>)\ntype:  <class 'aizynthfinder.chem.UniqueMolecule'>\nmol not in stock\nmol:  (2, <aizynthfinder.chem.UniqueMolecule object at 0x7f9900486250>)\ntype:  <class 'aizynthfinder.chem.UniqueMolecule'>\nmol not in stock\nmol:  (3, <aizynthfinder.chem.UniqueMolecule object at 0x7f9900486460>)\ntype:  <class 'aizynthfinder.chem.UniqueMolecule'>\nmol not in stock\nmol:  (4, <aizynthfinder.chem.UniqueMolecule object at 0x7f99004861c0>)\ntype:  <class 'aizynthfinder.chem.UniqueMolecule'>\nmol not in stock\ntest\nmol:  (0, <aizynthfinder.chem.UniqueMolecule object at 0x7f99004866a0>)\ntype:  <class 'aizynthfinder.chem.UniqueMolecule'>\nmol not in stock\nmol:  (1, <aizynthfinder.chem.UniqueMolecule object at 0x7f9900486820>)\ntype:  <class 'aizynthfinder.chem.UniqueMolecule'>\nmol not in stock\nmol:  (2, <aizynthfinder.chem.UniqueMolecule object at 0x7f9900486730>)\ntype:  <class 'aizynthfinder.chem.UniqueMolecule'>\nmol not in stock\nmol:  (3, <aizynthfinder.chem.UniqueMolecule object at 0x7f9900486970>)\ntype:  <class 'aizynthfinder.chem.UniqueMolecule'>\nmol not in stock\nmol:  (4, <aizynthfinder.chem.UniqueMolecule object at 0x7f9900486af0>)\ntype:  <class 'aizynthfinder.chem.UniqueMolecule'>\nmol not in stock\nmol:  (5, <aizynthfinder.chem.UniqueMolecule object at 0x7f9900486b20>)\ntype:  <class 'aizynthfinder.chem.UniqueMolecule'>\nmol not in stock\n[18.0, 72.0, 72.0, 90.0, 90.0, 108.0]\n"
     ]
    }
   ],
   "source": [
    "cost_scorer = scoring.PriceSumScorer(config=config)\n",
    "cost_scoes = cost_scorer(rxns)\n",
    "print(cost_scoes)"
   ]
  },
  {
   "cell_type": "code",
   "execution_count": null,
   "metadata": {},
   "outputs": [],
   "source": []
  },
  {
   "cell_type": "code",
   "execution_count": null,
   "metadata": {},
   "outputs": [],
   "source": []
  }
 ],
 "metadata": {
  "language_info": {
   "version": "3.8.8"
  },
  "orig_nbformat": 3,
  "kernelspec": {
   "name": "python388jvsc74a57bd01ce81150a71727f589a159d7c025889054ace076bb44326ef3200601839cf7ad",
   "display_name": "Python 3.8.8 64-bit ('aizynth-dev': conda)"
  }
 },
 "nbformat": 4,
 "nbformat_minor": 2
}