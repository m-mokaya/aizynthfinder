{
 "cells": [
  {
   "cell_type": "code",
   "execution_count": 1,
   "metadata": {},
   "outputs": [],
   "source": [
    "# Notebook to generate a json file as input for optimisation of specific reactions\n",
    "\n",
    "import json"
   ]
  },
  {
   "cell_type": "code",
   "execution_count": 2,
   "metadata": {},
   "outputs": [],
   "source": [
    "opt_list = ['Unassigned', 'Heteroaryl N-alkylation', 'Halogenation', 'Reductive amination', 'Alcohol to halide', 'RCO2H deprotections', 'Other reductions', 'O-containing heterocycle formation', 'Other functional group interconversion', 'Stille reaction', 'Ketone to alcohol', 'ROH deprotections', 'O-substitution', 'Friedel-Crafts reaction', 'NH deprotections', 'O-sulfonylation', 'S-substitution', 'N-substitution with alkyl-X', 'Nitro to amine reduction', 'Amide to amine reduction', 'N-arylation with Ar-X', 'Other deprotections', 'Alkene to alkane', 'O-acylation to ester', 'NH protections', 'Dehydration', 'N-acylation to amide']"
   ]
  },
  {
   "cell_type": "code",
   "execution_count": 3,
   "metadata": {},
   "outputs": [],
   "source": [
    "dist = list(set(opt_list))"
   ]
  },
  {
   "cell_type": "code",
   "execution_count": 4,
   "metadata": {},
   "outputs": [
    {
     "name": "stdout",
     "output_type": "stream",
     "text": [
      "27\n",
      "27\n"
     ]
    }
   ],
   "source": [
    "print(len(opt_list))\n",
    "print(len(dist))"
   ]
  },
  {
   "cell_type": "code",
   "execution_count": 5,
   "metadata": {},
   "outputs": [],
   "source": [
    "opt_dict = {}\n",
    "\n",
    "for i in dist:\n",
    "    opt_dict[i] = 10.0"
   ]
  },
  {
   "cell_type": "code",
   "execution_count": 6,
   "metadata": {},
   "outputs": [
    {
     "name": "stdout",
     "output_type": "stream",
     "text": [
      "{'N-substitution with alkyl-X': 10.0, 'N-arylation with Ar-X': 10.0, 'Heteroaryl N-alkylation': 10.0, 'NH deprotections': 10.0, 'O-substitution': 10.0, 'Other functional group interconversion': 10.0, 'S-substitution': 10.0, 'O-containing heterocycle formation': 10.0, 'N-acylation to amide': 10.0, 'NH protections': 10.0, 'Other reductions': 10.0, 'O-acylation to ester': 10.0, 'Unassigned': 10.0, 'Stille reaction': 10.0, 'Halogenation': 10.0, 'Nitro to amine reduction': 10.0, 'Reductive amination': 10.0, 'Dehydration': 10.0, 'Friedel-Crafts reaction': 10.0, 'Alkene to alkane': 10.0, 'Other deprotections': 10.0, 'Ketone to alcohol': 10.0, 'ROH deprotections': 10.0, 'RCO2H deprotections': 10.0, 'Alcohol to halide': 10.0, 'Amide to amine reduction': 10.0, 'O-sulfonylation': 10.0}\n"
     ]
    }
   ],
   "source": [
    "print(opt_dict)"
   ]
  },
  {
   "cell_type": "code",
   "execution_count": 8,
   "metadata": {},
   "outputs": [],
   "source": [
    "with open('/data/localhost/not-backed-up/mokaya/exscientia/aizynthfinder/Maranga/experiments/target_2/opt4_class.json', 'w') as f:\n",
    "    json.dump(opt_dict , f)"
   ]
  },
  {
   "cell_type": "code",
   "execution_count": null,
   "metadata": {},
   "outputs": [],
   "source": []
  }
 ],
 "metadata": {
  "kernelspec": {
   "display_name": "aizynthfinder",
   "language": "python",
   "name": "aizynthfinder"
  },
  "language_info": {
   "codemirror_mode": {
    "name": "ipython",
    "version": 3
   },
   "file_extension": ".py",
   "mimetype": "text/x-python",
   "name": "python",
   "nbconvert_exporter": "python",
   "pygments_lexer": "ipython3",
   "version": "3.8.8"
  }
 },
 "nbformat": 4,
 "nbformat_minor": 4
}
