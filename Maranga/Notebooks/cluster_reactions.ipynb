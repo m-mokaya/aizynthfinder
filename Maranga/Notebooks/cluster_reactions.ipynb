{
 "metadata": {
  "language_info": {
   "codemirror_mode": {
    "name": "ipython",
    "version": 3
   },
   "file_extension": ".py",
   "mimetype": "text/x-python",
   "name": "python",
   "nbconvert_exporter": "python",
   "pygments_lexer": "ipython3",
   "version": "3.8.8"
  },
  "orig_nbformat": 2,
  "kernelspec": {
   "name": "python388jvsc74a57bd01ce81150a71727f589a159d7c025889054ace076bb44326ef3200601839cf7ad",
   "display_name": "Python 3.8.8 64-bit ('aizynth-dev': conda)"
  }
 },
 "nbformat": 4,
 "nbformat_minor": 2,
 "cells": [
  {
   "cell_type": "code",
   "execution_count": 3,
   "metadata": {},
   "outputs": [],
   "source": [
    "import os \n",
    "import sys\n",
    "\n",
    "sys.path.append('../../')\n",
    "\n",
    "import pandas as pd\n",
    "import numpy as np\n",
    "\n",
    "from rdkit.Chem import rdChemReactions\n",
    "\n",
    "import aizynthfinder.analysis\n",
    "from aizynthfinder.mcts.node import Node\n",
    "from aizynthfinder.analysis import ReactionTree\n",
    "from aizynthfinder.mcts.state import State\n",
    "from aizynthfinder.chem import TreeMolecule\n",
    "from aizynthfinder.context.collection import ContextCollection\n",
    "from aizynthfinder.context.stock import StockException\n"
   ]
  },
  {
   "cell_type": "code",
   "execution_count": null,
   "metadata": {},
   "outputs": [],
   "source": [
    "input_filename = ''"
   ]
  }
 ]
}