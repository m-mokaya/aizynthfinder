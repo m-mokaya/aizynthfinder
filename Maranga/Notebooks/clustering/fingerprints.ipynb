{
 "cells": [
  {
   "cell_type": "code",
   "execution_count": 1,
   "id": "cee513a0",
   "metadata": {},
   "outputs": [],
   "source": [
    "import os\n",
    "import sys\n",
    "import argparse\n",
    "\n",
    "import json\n",
    "import pandas as pd\n",
    "import numpy as np\n",
    "\n",
    "sys.path.append('../../')\n",
    "\n",
    "import Maranga.utils.parse_multismiles as mutils\n",
    "import Maranga.scripts.fingerprints as fings\n",
    "import aizynthfinder.context.scoring as scoring\n",
    "import aizynthfinder.context.config as con\n",
    "\n",
    "from aizynthfinder.analysis import ReactionTree\n",
    "from rdkit.Chem import rdChemReactions\n",
    "from rdkit import DataStructs\n",
    "from rdkit.ML.Cluster import Butina\n",
    "from sklearn.metrics.pairwise import euclidean_distances\n",
    "from scipy.spatial.distance import euclidean\n",
    "\n"
   ]
  },
  {
   "cell_type": "code",
   "execution_count": 2,
   "id": "0045a9ec",
   "metadata": {},
   "outputs": [],
   "source": [
    "#convert input to list of rxns\n",
    "data_e = mutils.read_hdf('/data/localhost/not-backed-up/mokaya/exscientia/aizynthfinder/Maranga/experiments/explore/results/tg1/tg1_explore_3.hdf5')\n",
    "solved_data_e = data_e.loc[(data_e.is_solved==True)]\n",
    "solved_trees_e = mutils.collect_trees(solved_data_e)"
   ]
  },
  {
   "cell_type": "code",
   "execution_count": 3,
   "id": "297e2220",
   "metadata": {},
   "outputs": [],
   "source": [
    "#convert input to list of rxns\n",
    "data_s = mutils.read_hdf('/data/localhost/not-backed-up/mokaya/exscientia/aizynthfinder/Maranga/experiments/explore/results/tg1/tg1_std_1.hdf5')\n",
    "solved_data_s = data_s.loc[(data_s.is_solved==True)]\n",
    "solved_trees_s = mutils.collect_trees(solved_data_s)"
   ]
  },
  {
   "cell_type": "code",
   "execution_count": 4,
   "id": "ba5643b9",
   "metadata": {},
   "outputs": [
    {
     "output_type": "stream",
     "name": "stdout",
     "text": [
      "88\n88\n<class 'list'>\n"
     ]
    }
   ],
   "source": [
    "print(len(solved_data_s))\n",
    "print(len(solved_data_e))\n",
    "\n",
    "print(type(solved_trees_e[0]))"
   ]
  },
  {
   "cell_type": "code",
   "execution_count": 9,
   "metadata": {},
   "outputs": [],
   "source": [
    "#test 'distance to':\n",
    "molecule_dists = []\n",
    "for mol in solved_trees_e:\n",
    "    reaction_dists = []\n",
    "    reactions = [ReactionTree.from_dict(i) for i in mol]\n",
    "    for index, r in enumerate(reactions):\n",
    "        for r2 in reactions[index:]:\n",
    "            reaction_dists.append(r.distance_to(r2))\n",
    "    molecule_dists.append(reaction_dists)\n"
   ]
  },
  {
   "cell_type": "code",
   "execution_count": null,
   "metadata": {},
   "outputs": [],
   "source": [
    "\n",
    "    for i in reactions_e:\n",
    "        es.extend(i)\n",
    "    for i in s:\n",
    "        ss.extend(i)\n",
    "\n",
    "    es = [ReactionTree.from_dict(i) for i in e]\n",
    "    ss = [ReactionTree.from_dict(i) for i in s]\n",
    "\n",
    "    all_distances = []\n",
    "    min_distances = []\n",
    "\n",
    "    for index, rxn in enumerate(es):\n",
    "        distances = []\n",
    "        for index2, rxn2 in enumerate(ss[index:]):\n",
    "            distances.append(rxn.distance_to(rxn2))\n",
    "        all_distances.extend(distances)\n",
    "        min_distances.append(min(distances))"
   ]
  },
  {
   "cell_type": "code",
   "execution_count": 13,
   "metadata": {},
   "outputs": [],
   "source": [
    "flatten = []\n",
    "for i in molecule_dists:\n",
    "    flatten.extend(i)\n",
    "\n",
    "largest = []\n",
    "for i in molecule_dists:\n",
    "    largest.append(max(i))  \n",
    "\n",
    "# print see whether the reactions are the same across both. \n",
    "# determine how exactly they are calculating distance. =>  distances.py file"
   ]
  },
  {
   "cell_type": "code",
   "execution_count": 7,
   "metadata": {},
   "outputs": [],
   "source": [
    "rs = [ReactionTree.from_dict(i) for i in r_s]\n",
    "re = [ReactionTree.from_dict(i) for i in r_e]"
   ]
  },
  {
   "cell_type": "code",
   "execution_count": 14,
   "metadata": {},
   "outputs": [
    {
     "output_type": "error",
     "ename": "TypeError",
     "evalue": "string indices must be integers",
     "traceback": [
      "\u001b[0;31m---------------------------------------------------------------------------\u001b[0m",
      "\u001b[0;31mTypeError\u001b[0m                                 Traceback (most recent call last)",
      "\u001b[0;32m<ipython-input-14-17a1608fa131>\u001b[0m in \u001b[0;36m<module>\u001b[0;34m\u001b[0m\n\u001b[1;32m      1\u001b[0m \u001b[0mrs\u001b[0m \u001b[0;34m=\u001b[0m \u001b[0;34m[\u001b[0m\u001b[0mReactionTree\u001b[0m\u001b[0;34m.\u001b[0m\u001b[0mfrom_dict\u001b[0m\u001b[0;34m(\u001b[0m\u001b[0mi\u001b[0m\u001b[0;34m)\u001b[0m \u001b[0;32mfor\u001b[0m \u001b[0mi\u001b[0m \u001b[0;32min\u001b[0m \u001b[0mr_s\u001b[0m\u001b[0;34m]\u001b[0m\u001b[0;34m\u001b[0m\u001b[0;34m\u001b[0m\u001b[0m\n\u001b[0;32m----> 2\u001b[0;31m \u001b[0mall_distances\u001b[0m\u001b[0;34m,\u001b[0m \u001b[0mmin_distances\u001b[0m \u001b[0;34m=\u001b[0m \u001b[0mfings\u001b[0m\u001b[0;34m.\u001b[0m\u001b[0msplit_aiz_distance\u001b[0m\u001b[0;34m(\u001b[0m\u001b[0mr_e\u001b[0m\u001b[0;34m,\u001b[0m \u001b[0mr_s\u001b[0m\u001b[0;34m)\u001b[0m\u001b[0;34m\u001b[0m\u001b[0;34m\u001b[0m\u001b[0m\n\u001b[0m",
      "\u001b[0;32m/data/pegasus/not-backed-up/mokaya/exscientia/aizynthfinder/Maranga/scripts/fingerprints.py\u001b[0m in \u001b[0;36msplit_aiz_distance\u001b[0;34m(e, s)\u001b[0m\n\u001b[1;32m    219\u001b[0m         \u001b[0mss\u001b[0m\u001b[0;34m.\u001b[0m\u001b[0mextend\u001b[0m\u001b[0;34m(\u001b[0m\u001b[0mi\u001b[0m\u001b[0;34m)\u001b[0m\u001b[0;34m\u001b[0m\u001b[0;34m\u001b[0m\u001b[0m\n\u001b[1;32m    220\u001b[0m \u001b[0;34m\u001b[0m\u001b[0m\n\u001b[0;32m--> 221\u001b[0;31m     \u001b[0mtrees_e\u001b[0m \u001b[0;34m=\u001b[0m \u001b[0;34m[\u001b[0m\u001b[0mReactionTree\u001b[0m\u001b[0;34m.\u001b[0m\u001b[0mfrom_dict\u001b[0m\u001b[0;34m(\u001b[0m\u001b[0mi\u001b[0m\u001b[0;34m)\u001b[0m \u001b[0;32mfor\u001b[0m \u001b[0mi\u001b[0m \u001b[0;32min\u001b[0m \u001b[0mes\u001b[0m\u001b[0;34m]\u001b[0m\u001b[0;34m\u001b[0m\u001b[0;34m\u001b[0m\u001b[0m\n\u001b[0m\u001b[1;32m    222\u001b[0m     \u001b[0mtrees_s\u001b[0m \u001b[0;34m=\u001b[0m \u001b[0;34m[\u001b[0m\u001b[0mReactionTree\u001b[0m\u001b[0;34m.\u001b[0m\u001b[0mfrom_dict\u001b[0m\u001b[0;34m(\u001b[0m\u001b[0mi\u001b[0m\u001b[0;34m)\u001b[0m \u001b[0;32mfor\u001b[0m \u001b[0mi\u001b[0m \u001b[0;32min\u001b[0m \u001b[0mss\u001b[0m\u001b[0;34m]\u001b[0m\u001b[0;34m\u001b[0m\u001b[0;34m\u001b[0m\u001b[0m\n\u001b[1;32m    223\u001b[0m \u001b[0;34m\u001b[0m\u001b[0m\n",
      "\u001b[0;32m/data/pegasus/not-backed-up/mokaya/exscientia/aizynthfinder/Maranga/scripts/fingerprints.py\u001b[0m in \u001b[0;36m<listcomp>\u001b[0;34m(.0)\u001b[0m\n\u001b[1;32m    219\u001b[0m         \u001b[0mss\u001b[0m\u001b[0;34m.\u001b[0m\u001b[0mextend\u001b[0m\u001b[0;34m(\u001b[0m\u001b[0mi\u001b[0m\u001b[0;34m)\u001b[0m\u001b[0;34m\u001b[0m\u001b[0;34m\u001b[0m\u001b[0m\n\u001b[1;32m    220\u001b[0m \u001b[0;34m\u001b[0m\u001b[0m\n\u001b[0;32m--> 221\u001b[0;31m     \u001b[0mtrees_e\u001b[0m \u001b[0;34m=\u001b[0m \u001b[0;34m[\u001b[0m\u001b[0mReactionTree\u001b[0m\u001b[0;34m.\u001b[0m\u001b[0mfrom_dict\u001b[0m\u001b[0;34m(\u001b[0m\u001b[0mi\u001b[0m\u001b[0;34m)\u001b[0m \u001b[0;32mfor\u001b[0m \u001b[0mi\u001b[0m \u001b[0;32min\u001b[0m \u001b[0mes\u001b[0m\u001b[0;34m]\u001b[0m\u001b[0;34m\u001b[0m\u001b[0;34m\u001b[0m\u001b[0m\n\u001b[0m\u001b[1;32m    222\u001b[0m     \u001b[0mtrees_s\u001b[0m \u001b[0;34m=\u001b[0m \u001b[0;34m[\u001b[0m\u001b[0mReactionTree\u001b[0m\u001b[0;34m.\u001b[0m\u001b[0mfrom_dict\u001b[0m\u001b[0;34m(\u001b[0m\u001b[0mi\u001b[0m\u001b[0;34m)\u001b[0m \u001b[0;32mfor\u001b[0m \u001b[0mi\u001b[0m \u001b[0;32min\u001b[0m \u001b[0mss\u001b[0m\u001b[0;34m]\u001b[0m\u001b[0;34m\u001b[0m\u001b[0;34m\u001b[0m\u001b[0m\n\u001b[1;32m    223\u001b[0m \u001b[0;34m\u001b[0m\u001b[0m\n",
      "\u001b[0;32m/data/pegasus/not-backed-up/mokaya/exscientia/aizynthfinder/aizynthfinder/analysis.py\u001b[0m in \u001b[0;36mfrom_dict\u001b[0;34m(cls, tree_dict)\u001b[0m\n\u001b[1;32m    227\u001b[0m         \u001b[0;34m:\u001b[0m\u001b[0mreturns\u001b[0m\u001b[0;34m:\u001b[0m \u001b[0mthe\u001b[0m \u001b[0mreaction\u001b[0m \u001b[0mtree\u001b[0m\u001b[0;34m\u001b[0m\u001b[0;34m\u001b[0m\u001b[0m\n\u001b[1;32m    228\u001b[0m         \"\"\"\n\u001b[0;32m--> 229\u001b[0;31m         \u001b[0;32mreturn\u001b[0m \u001b[0mReactionTreeFromDict\u001b[0m\u001b[0;34m(\u001b[0m\u001b[0mtree_dict\u001b[0m\u001b[0;34m)\u001b[0m\u001b[0;34m.\u001b[0m\u001b[0mtree\u001b[0m\u001b[0;34m\u001b[0m\u001b[0;34m\u001b[0m\u001b[0m\n\u001b[0m\u001b[1;32m    230\u001b[0m \u001b[0;34m\u001b[0m\u001b[0m\n\u001b[1;32m    231\u001b[0m     \u001b[0;32mdef\u001b[0m \u001b[0mdepth\u001b[0m\u001b[0;34m(\u001b[0m\u001b[0mself\u001b[0m\u001b[0;34m,\u001b[0m \u001b[0mnode\u001b[0m\u001b[0;34m:\u001b[0m \u001b[0mUnion\u001b[0m\u001b[0;34m[\u001b[0m\u001b[0mUniqueMolecule\u001b[0m\u001b[0;34m,\u001b[0m \u001b[0mFixedRetroReaction\u001b[0m\u001b[0;34m]\u001b[0m\u001b[0;34m)\u001b[0m \u001b[0;34m->\u001b[0m \u001b[0mint\u001b[0m\u001b[0;34m:\u001b[0m\u001b[0;34m\u001b[0m\u001b[0;34m\u001b[0m\u001b[0m\n",
      "\u001b[0;32m/data/pegasus/not-backed-up/mokaya/exscientia/aizynthfinder/aizynthfinder/utils/analysis_helpers.py\u001b[0m in \u001b[0;36m__init__\u001b[0;34m(self, *args, **kwargs)\u001b[0m\n\u001b[1;32m     40\u001b[0m \u001b[0;34m\u001b[0m\u001b[0m\n\u001b[1;32m     41\u001b[0m         \u001b[0mself\u001b[0m\u001b[0;34m.\u001b[0m\u001b[0mtree\u001b[0m \u001b[0;34m=\u001b[0m \u001b[0mReactionTree\u001b[0m\u001b[0;34m(\u001b[0m\u001b[0;34m)\u001b[0m\u001b[0;34m\u001b[0m\u001b[0;34m\u001b[0m\u001b[0m\n\u001b[0;32m---> 42\u001b[0;31m         \u001b[0mself\u001b[0m\u001b[0;34m.\u001b[0m\u001b[0m_load\u001b[0m\u001b[0;34m(\u001b[0m\u001b[0;34m*\u001b[0m\u001b[0margs\u001b[0m\u001b[0;34m,\u001b[0m \u001b[0;34m**\u001b[0m\u001b[0mkwargs\u001b[0m\u001b[0;34m)\u001b[0m\u001b[0;34m\u001b[0m\u001b[0;34m\u001b[0m\u001b[0m\n\u001b[0m\u001b[1;32m     43\u001b[0m \u001b[0;34m\u001b[0m\u001b[0m\n\u001b[1;32m     44\u001b[0m         self.tree.is_solved = all(\n",
      "\u001b[0;32m/data/pegasus/not-backed-up/mokaya/exscientia/aizynthfinder/aizynthfinder/utils/analysis_helpers.py\u001b[0m in \u001b[0;36m_load\u001b[0;34m(self, tree_dict)\u001b[0m\n\u001b[1;32m     74\u001b[0m \u001b[0;34m\u001b[0m\u001b[0m\n\u001b[1;32m     75\u001b[0m     \u001b[0;32mdef\u001b[0m \u001b[0m_load\u001b[0m\u001b[0;34m(\u001b[0m\u001b[0mself\u001b[0m\u001b[0;34m,\u001b[0m \u001b[0mtree_dict\u001b[0m\u001b[0;34m:\u001b[0m \u001b[0mStrDict\u001b[0m\u001b[0;34m)\u001b[0m \u001b[0;34m->\u001b[0m \u001b[0;32mNone\u001b[0m\u001b[0;34m:\u001b[0m  \u001b[0;31m# type: ignore\u001b[0m\u001b[0;34m\u001b[0m\u001b[0;34m\u001b[0m\u001b[0m\n\u001b[0;32m---> 76\u001b[0;31m         \u001b[0mself\u001b[0m\u001b[0;34m.\u001b[0m\u001b[0m_parse_tree_dict\u001b[0m\u001b[0;34m(\u001b[0m\u001b[0mtree_dict\u001b[0m\u001b[0;34m)\u001b[0m\u001b[0;34m\u001b[0m\u001b[0;34m\u001b[0m\u001b[0m\n\u001b[0m\u001b[1;32m     77\u001b[0m \u001b[0;34m\u001b[0m\u001b[0m\n\u001b[1;32m     78\u001b[0m     \u001b[0;32mdef\u001b[0m \u001b[0m_parse_tree_dict\u001b[0m\u001b[0;34m(\u001b[0m\u001b[0mself\u001b[0m\u001b[0;34m,\u001b[0m \u001b[0mtree_dict\u001b[0m\u001b[0;34m:\u001b[0m \u001b[0mStrDict\u001b[0m\u001b[0;34m,\u001b[0m \u001b[0mncalls\u001b[0m\u001b[0;34m:\u001b[0m \u001b[0mint\u001b[0m \u001b[0;34m=\u001b[0m \u001b[0;36m0\u001b[0m\u001b[0;34m)\u001b[0m \u001b[0;34m->\u001b[0m \u001b[0mUniqueMolecule\u001b[0m\u001b[0;34m:\u001b[0m\u001b[0;34m\u001b[0m\u001b[0;34m\u001b[0m\u001b[0m\n",
      "\u001b[0;32m/data/pegasus/not-backed-up/mokaya/exscientia/aizynthfinder/aizynthfinder/utils/analysis_helpers.py\u001b[0m in \u001b[0;36m_parse_tree_dict\u001b[0;34m(self, tree_dict, ncalls)\u001b[0m\n\u001b[1;32m     77\u001b[0m \u001b[0;34m\u001b[0m\u001b[0m\n\u001b[1;32m     78\u001b[0m     \u001b[0;32mdef\u001b[0m \u001b[0m_parse_tree_dict\u001b[0m\u001b[0;34m(\u001b[0m\u001b[0mself\u001b[0m\u001b[0;34m,\u001b[0m \u001b[0mtree_dict\u001b[0m\u001b[0;34m:\u001b[0m \u001b[0mStrDict\u001b[0m\u001b[0;34m,\u001b[0m \u001b[0mncalls\u001b[0m\u001b[0;34m:\u001b[0m \u001b[0mint\u001b[0m \u001b[0;34m=\u001b[0m \u001b[0;36m0\u001b[0m\u001b[0;34m)\u001b[0m \u001b[0;34m->\u001b[0m \u001b[0mUniqueMolecule\u001b[0m\u001b[0;34m:\u001b[0m\u001b[0;34m\u001b[0m\u001b[0;34m\u001b[0m\u001b[0m\n\u001b[0;32m---> 79\u001b[0;31m         \u001b[0mproduct_node\u001b[0m \u001b[0;34m=\u001b[0m \u001b[0mUniqueMolecule\u001b[0m\u001b[0;34m(\u001b[0m\u001b[0msmiles\u001b[0m\u001b[0;34m=\u001b[0m\u001b[0mtree_dict\u001b[0m\u001b[0;34m[\u001b[0m\u001b[0;34m\"smiles\"\u001b[0m\u001b[0;34m]\u001b[0m\u001b[0;34m)\u001b[0m\u001b[0;34m\u001b[0m\u001b[0;34m\u001b[0m\u001b[0m\n\u001b[0m\u001b[1;32m     80\u001b[0m         self._add_node(\n\u001b[1;32m     81\u001b[0m             \u001b[0mproduct_node\u001b[0m\u001b[0;34m,\u001b[0m\u001b[0;34m\u001b[0m\u001b[0;34m\u001b[0m\u001b[0m\n",
      "\u001b[0;31mTypeError\u001b[0m: string indices must be integers"
     ]
    }
   ],
   "source": [
    "all_distances, min_distances = fings.split_aiz_distance(re, rs)"
   ]
  },
  {
   "cell_type": "code",
   "execution_count": 19,
   "metadata": {},
   "outputs": [
    {
     "output_type": "error",
     "ename": "NameError",
     "evalue": "name 'largest' is not defined",
     "traceback": [
      "\u001b[0;31m---------------------------------------------------------------------------\u001b[0m",
      "\u001b[0;31mNameError\u001b[0m                                 Traceback (most recent call last)",
      "\u001b[0;32m<ipython-input-19-58548465af06>\u001b[0m in \u001b[0;36m<module>\u001b[0;34m\u001b[0m\n\u001b[1;32m      5\u001b[0m \u001b[0;34m\u001b[0m\u001b[0m\n\u001b[1;32m      6\u001b[0m \u001b[0;34m\u001b[0m\u001b[0m\n\u001b[0;32m----> 7\u001b[0;31m \u001b[0mplt\u001b[0m\u001b[0;34m.\u001b[0m\u001b[0mhist\u001b[0m\u001b[0;34m(\u001b[0m\u001b[0mlargest\u001b[0m\u001b[0;34m)\u001b[0m\u001b[0;34m\u001b[0m\u001b[0;34m\u001b[0m\u001b[0m\n\u001b[0m\u001b[1;32m      8\u001b[0m \u001b[0;31m#plt.hist(largest)\u001b[0m\u001b[0;34m\u001b[0m\u001b[0;34m\u001b[0m\u001b[0;34m\u001b[0m\u001b[0m\n\u001b[1;32m      9\u001b[0m \u001b[0mplt\u001b[0m\u001b[0;34m.\u001b[0m\u001b[0mxlabel\u001b[0m\u001b[0;34m(\u001b[0m\u001b[0;34m'Similarity'\u001b[0m\u001b[0;34m)\u001b[0m\u001b[0;34m\u001b[0m\u001b[0;34m\u001b[0m\u001b[0m\n",
      "\u001b[0;31mNameError\u001b[0m: name 'largest' is not defined"
     ]
    }
   ],
   "source": [
    "#plot SCATTER of all distances\n",
    "\n",
    "%matplotlib inline\n",
    "import matplotlib.pyplot as plt\n",
    "\n",
    "\n",
    "plt.hist(largest)\n",
    "#plt.hist(largest)\n",
    "plt.xlabel('Similarity')\n",
    "plt.ylabel('Freq')\n",
    "#plt.ylim(0,100)\n",
    "#plt.savefig('/data/localhost/not-backed-up/mokaya/exscientia/aizynthfinder/Maranga/Images/tg1e3_split_lsim.png')\n",
    "plt.show()"
   ]
  },
  {
   "cell_type": "code",
   "execution_count": 6,
   "id": "01bcf59a",
   "metadata": {},
   "outputs": [
    {
     "output_type": "stream",
     "name": "stdout",
     "text": [
      "Multiple Molecules\nMultiple Molecules\n"
     ]
    }
   ],
   "source": [
    "#parse imported reaction trees\n",
    "reactions_e = fings.parse_input(solved_trees_e, 'explore')\n",
    "reactions_s = fings.parse_input(solved_trees_s, 'normal')\n",
    "reactions = reactions_e + reactions_s\n",
    "\n",
    "r_e = [i.get('reaction') for i in reactions_e]\n",
    "r_s = [i.get('reaction') for i in reactions_s]"
   ]
  },
  {
   "cell_type": "code",
   "execution_count": 21,
   "metadata": {},
   "outputs": [
    {
     "output_type": "error",
     "ename": "KeyError",
     "evalue": "'smiles'",
     "traceback": [
      "\u001b[0;31m---------------------------------------------------------------------------\u001b[0m",
      "\u001b[0;31mKeyError\u001b[0m                                  Traceback (most recent call last)",
      "\u001b[0;32m<ipython-input-21-20ad777896dd>\u001b[0m in \u001b[0;36m<module>\u001b[0;34m\u001b[0m\n\u001b[0;32m----> 1\u001b[0;31m \u001b[0mtrees_e\u001b[0m \u001b[0;34m=\u001b[0m \u001b[0;34m[\u001b[0m\u001b[0mReactionTree\u001b[0m\u001b[0;34m.\u001b[0m\u001b[0mfrom_dict\u001b[0m\u001b[0;34m(\u001b[0m\u001b[0mi\u001b[0m\u001b[0;34m)\u001b[0m \u001b[0;32mfor\u001b[0m \u001b[0mi\u001b[0m \u001b[0;32min\u001b[0m \u001b[0mreactions_e\u001b[0m\u001b[0;34m]\u001b[0m\u001b[0;34m\u001b[0m\u001b[0;34m\u001b[0m\u001b[0m\n\u001b[0m",
      "\u001b[0;32m<ipython-input-21-20ad777896dd>\u001b[0m in \u001b[0;36m<listcomp>\u001b[0;34m(.0)\u001b[0m\n\u001b[0;32m----> 1\u001b[0;31m \u001b[0mtrees_e\u001b[0m \u001b[0;34m=\u001b[0m \u001b[0;34m[\u001b[0m\u001b[0mReactionTree\u001b[0m\u001b[0;34m.\u001b[0m\u001b[0mfrom_dict\u001b[0m\u001b[0;34m(\u001b[0m\u001b[0mi\u001b[0m\u001b[0;34m)\u001b[0m \u001b[0;32mfor\u001b[0m \u001b[0mi\u001b[0m \u001b[0;32min\u001b[0m \u001b[0mreactions_e\u001b[0m\u001b[0;34m]\u001b[0m\u001b[0;34m\u001b[0m\u001b[0;34m\u001b[0m\u001b[0m\n\u001b[0m",
      "\u001b[0;32m/data/pegasus/not-backed-up/mokaya/exscientia/aizynthfinder/aizynthfinder/analysis.py\u001b[0m in \u001b[0;36mfrom_dict\u001b[0;34m(cls, tree_dict)\u001b[0m\n\u001b[1;32m    227\u001b[0m         \u001b[0;34m:\u001b[0m\u001b[0mreturns\u001b[0m\u001b[0;34m:\u001b[0m \u001b[0mthe\u001b[0m \u001b[0mreaction\u001b[0m \u001b[0mtree\u001b[0m\u001b[0;34m\u001b[0m\u001b[0;34m\u001b[0m\u001b[0m\n\u001b[1;32m    228\u001b[0m         \"\"\"\n\u001b[0;32m--> 229\u001b[0;31m         \u001b[0;32mreturn\u001b[0m \u001b[0mReactionTreeFromDict\u001b[0m\u001b[0;34m(\u001b[0m\u001b[0mtree_dict\u001b[0m\u001b[0;34m)\u001b[0m\u001b[0;34m.\u001b[0m\u001b[0mtree\u001b[0m\u001b[0;34m\u001b[0m\u001b[0;34m\u001b[0m\u001b[0m\n\u001b[0m\u001b[1;32m    230\u001b[0m \u001b[0;34m\u001b[0m\u001b[0m\n\u001b[1;32m    231\u001b[0m     \u001b[0;32mdef\u001b[0m \u001b[0mdepth\u001b[0m\u001b[0;34m(\u001b[0m\u001b[0mself\u001b[0m\u001b[0;34m,\u001b[0m \u001b[0mnode\u001b[0m\u001b[0;34m:\u001b[0m \u001b[0mUnion\u001b[0m\u001b[0;34m[\u001b[0m\u001b[0mUniqueMolecule\u001b[0m\u001b[0;34m,\u001b[0m \u001b[0mFixedRetroReaction\u001b[0m\u001b[0;34m]\u001b[0m\u001b[0;34m)\u001b[0m \u001b[0;34m->\u001b[0m \u001b[0mint\u001b[0m\u001b[0;34m:\u001b[0m\u001b[0;34m\u001b[0m\u001b[0;34m\u001b[0m\u001b[0m\n",
      "\u001b[0;32m/data/pegasus/not-backed-up/mokaya/exscientia/aizynthfinder/aizynthfinder/utils/analysis_helpers.py\u001b[0m in \u001b[0;36m__init__\u001b[0;34m(self, *args, **kwargs)\u001b[0m\n\u001b[1;32m     40\u001b[0m \u001b[0;34m\u001b[0m\u001b[0m\n\u001b[1;32m     41\u001b[0m         \u001b[0mself\u001b[0m\u001b[0;34m.\u001b[0m\u001b[0mtree\u001b[0m \u001b[0;34m=\u001b[0m \u001b[0mReactionTree\u001b[0m\u001b[0;34m(\u001b[0m\u001b[0;34m)\u001b[0m\u001b[0;34m\u001b[0m\u001b[0;34m\u001b[0m\u001b[0m\n\u001b[0;32m---> 42\u001b[0;31m         \u001b[0mself\u001b[0m\u001b[0;34m.\u001b[0m\u001b[0m_load\u001b[0m\u001b[0;34m(\u001b[0m\u001b[0;34m*\u001b[0m\u001b[0margs\u001b[0m\u001b[0;34m,\u001b[0m \u001b[0;34m**\u001b[0m\u001b[0mkwargs\u001b[0m\u001b[0;34m)\u001b[0m\u001b[0;34m\u001b[0m\u001b[0;34m\u001b[0m\u001b[0m\n\u001b[0m\u001b[1;32m     43\u001b[0m \u001b[0;34m\u001b[0m\u001b[0m\n\u001b[1;32m     44\u001b[0m         self.tree.is_solved = all(\n",
      "\u001b[0;32m/data/pegasus/not-backed-up/mokaya/exscientia/aizynthfinder/aizynthfinder/utils/analysis_helpers.py\u001b[0m in \u001b[0;36m_load\u001b[0;34m(self, tree_dict)\u001b[0m\n\u001b[1;32m     74\u001b[0m \u001b[0;34m\u001b[0m\u001b[0m\n\u001b[1;32m     75\u001b[0m     \u001b[0;32mdef\u001b[0m \u001b[0m_load\u001b[0m\u001b[0;34m(\u001b[0m\u001b[0mself\u001b[0m\u001b[0;34m,\u001b[0m \u001b[0mtree_dict\u001b[0m\u001b[0;34m:\u001b[0m \u001b[0mStrDict\u001b[0m\u001b[0;34m)\u001b[0m \u001b[0;34m->\u001b[0m \u001b[0;32mNone\u001b[0m\u001b[0;34m:\u001b[0m  \u001b[0;31m# type: ignore\u001b[0m\u001b[0;34m\u001b[0m\u001b[0;34m\u001b[0m\u001b[0m\n\u001b[0;32m---> 76\u001b[0;31m         \u001b[0mself\u001b[0m\u001b[0;34m.\u001b[0m\u001b[0m_parse_tree_dict\u001b[0m\u001b[0;34m(\u001b[0m\u001b[0mtree_dict\u001b[0m\u001b[0;34m)\u001b[0m\u001b[0;34m\u001b[0m\u001b[0;34m\u001b[0m\u001b[0m\n\u001b[0m\u001b[1;32m     77\u001b[0m \u001b[0;34m\u001b[0m\u001b[0m\n\u001b[1;32m     78\u001b[0m     \u001b[0;32mdef\u001b[0m \u001b[0m_parse_tree_dict\u001b[0m\u001b[0;34m(\u001b[0m\u001b[0mself\u001b[0m\u001b[0;34m,\u001b[0m \u001b[0mtree_dict\u001b[0m\u001b[0;34m:\u001b[0m \u001b[0mStrDict\u001b[0m\u001b[0;34m,\u001b[0m \u001b[0mncalls\u001b[0m\u001b[0;34m:\u001b[0m \u001b[0mint\u001b[0m \u001b[0;34m=\u001b[0m \u001b[0;36m0\u001b[0m\u001b[0;34m)\u001b[0m \u001b[0;34m->\u001b[0m \u001b[0mUniqueMolecule\u001b[0m\u001b[0;34m:\u001b[0m\u001b[0;34m\u001b[0m\u001b[0;34m\u001b[0m\u001b[0m\n",
      "\u001b[0;32m/data/pegasus/not-backed-up/mokaya/exscientia/aizynthfinder/aizynthfinder/utils/analysis_helpers.py\u001b[0m in \u001b[0;36m_parse_tree_dict\u001b[0;34m(self, tree_dict, ncalls)\u001b[0m\n\u001b[1;32m     77\u001b[0m \u001b[0;34m\u001b[0m\u001b[0m\n\u001b[1;32m     78\u001b[0m     \u001b[0;32mdef\u001b[0m \u001b[0m_parse_tree_dict\u001b[0m\u001b[0;34m(\u001b[0m\u001b[0mself\u001b[0m\u001b[0;34m,\u001b[0m \u001b[0mtree_dict\u001b[0m\u001b[0;34m:\u001b[0m \u001b[0mStrDict\u001b[0m\u001b[0;34m,\u001b[0m \u001b[0mncalls\u001b[0m\u001b[0;34m:\u001b[0m \u001b[0mint\u001b[0m \u001b[0;34m=\u001b[0m \u001b[0;36m0\u001b[0m\u001b[0;34m)\u001b[0m \u001b[0;34m->\u001b[0m \u001b[0mUniqueMolecule\u001b[0m\u001b[0;34m:\u001b[0m\u001b[0;34m\u001b[0m\u001b[0;34m\u001b[0m\u001b[0m\n\u001b[0;32m---> 79\u001b[0;31m         \u001b[0mproduct_node\u001b[0m \u001b[0;34m=\u001b[0m \u001b[0mUniqueMolecule\u001b[0m\u001b[0;34m(\u001b[0m\u001b[0msmiles\u001b[0m\u001b[0;34m=\u001b[0m\u001b[0mtree_dict\u001b[0m\u001b[0;34m[\u001b[0m\u001b[0;34m\"smiles\"\u001b[0m\u001b[0;34m]\u001b[0m\u001b[0;34m)\u001b[0m\u001b[0;34m\u001b[0m\u001b[0;34m\u001b[0m\u001b[0m\n\u001b[0m\u001b[1;32m     80\u001b[0m         self._add_node(\n\u001b[1;32m     81\u001b[0m             \u001b[0mproduct_node\u001b[0m\u001b[0;34m,\u001b[0m\u001b[0;34m\u001b[0m\u001b[0;34m\u001b[0m\u001b[0m\n",
      "\u001b[0;31mKeyError\u001b[0m: 'smiles'"
     ]
    }
   ],
   "source": []
  },
  {
   "cell_type": "code",
   "execution_count": 16,
   "metadata": {
    "tags": []
   },
   "outputs": [
    {
     "output_type": "stream",
     "name": "stdout",
     "text": [
      "<class 'dict'>\n538\n"
     ]
    }
   ],
   "source": [
    "print(type(reactions_e[0]))\n",
    "print(len(reactions_e))"
   ]
  },
  {
   "cell_type": "code",
   "execution_count": 13,
   "id": "5b077802",
   "metadata": {},
   "outputs": [
    {
     "output_type": "stream",
     "name": "stdout",
     "text": [
      "Print lengh of reaction vector:  258\n"
     ]
    }
   ],
   "source": [
    "#generate fingerprints\n",
    "fingerprints = fings.generate_fingerprints(reactions)"
   ]
  },
  {
   "cell_type": "code",
   "execution_count": null,
   "metadata": {},
   "outputs": [],
   "source": []
  },
  {
   "cell_type": "code",
   "execution_count": 32,
   "id": "82ab474c",
   "metadata": {},
   "outputs": [],
   "source": [
    "#determine the largset similarity of explore reactions to all other 'normal' reactions\n",
    "largest, lengths = fings.split_similarity(reactions_e, reactions_s)"
   ]
  },
  {
   "cell_type": "code",
   "execution_count": 34,
   "id": "5e5da15c",
   "metadata": {},
   "outputs": [
    {
     "name": "stdout",
     "output_type": "stream",
     "text": [
      "[1.0, 0.9767441860465116, 0.9922480620155039, 0.9728682170542635, 0.9728682170542635, 0.9689922480620154, 1.0, 0.9883720930232558, 1.0, 0.9767441860465116, 1.0, 0.9922480620155039, 1.0, 0.9844961240310077, 0.9844961240310077, 0.9883720930232558, 0.9961240310077519, 0.9883720930232558, 0.9844961240310077, 1.0, 0.9767441860465116, 1.0, 1.0, 0.9806201550387597, 0.9806201550387597, 1.0, 0.9689922480620154, 0.9806201550387597, 1.0, 1.0, 1.0, 0.9961240310077519, 1.0, 0.9806201550387597, 1.0, 0.9883720930232558, 1.0, 0.9612403100775194, 0.9612403100775194, 1.0, 1.0, 1.0, 1.0, 0.9961240310077519, 0.9961240310077519, 0.9961240310077519, 0.9961240310077519, 0.9961240310077519, 0.9961240310077519, 0.9961240310077519, 1.0, 1.0, 1.0, 1.0, 0.9844961240310077, 0.9844961240310077, 1.0, 1.0, 1.0, 0.9922480620155039, 1.0, 1.0, 0.9961240310077519, 1.0, 1.0, 0.9922480620155039, 0.9922480620155039, 1.0, 0.9922480620155039, 1.0, 0.9922480620155039, 1.0, 1.0, 1.0, 0.9844961240310077, 1.0, 1.0, 1.0, 0.9922480620155039, 0.9922480620155039, 0.9844961240310077, 0.9922480620155039, 1.0, 1.0, 1.0, 1.0, 0.9844961240310077, 1.0, 0.9961240310077519, 1.0, 1.0, 1.0, 1.0, 1.0, 1.0, 1.0, 0.9922480620155039, 1.0, 0.9922480620155039, 0.9922480620155039, 1.0, 1.0, 1.0, 1.0, 0.9844961240310077, 0.9844961240310077, 1.0, 1.0, 0.9961240310077519, 1.0, 1.0, 1.0, 1.0, 0.9651162790697675, 0.9961240310077519, 0.9883720930232558, 1.0, 1.0, 1.0, 1.0, 1.0, 1.0, 1.0, 0.9922480620155039, 0.9767441860465116, 1.0, 0.9961240310077519, 0.9728682170542635, 0.9961240310077519, 0.9961240310077519, 0.9961240310077519, 1.0, 1.0, 1.0, 0.9922480620155039, 0.9922480620155039, 1.0, 0.9728682170542635, 0.9689922480620154, 0.9689922480620154, 0.9883720930232558, 1.0, 1.0, 0.9961240310077519, 0.9961240310077519, 0.9961240310077519, 0.9961240310077519, 1.0, 0.9961240310077519, 0.9767441860465116, 0.9767441860465116, 0.9961240310077519, 1.0, 0.9961240310077519, 0.9806201550387597, 0.9806201550387597, 0.9883720930232558, 0.9806201550387597, 1.0, 1.0, 1.0, 1.0, 1.0, 1.0, 1.0, 1.0, 0.9961240310077519, 0.9844961240310077, 0.9844961240310077, 1.0, 1.0, 0.9767441860465116, 0.9883720930232558, 0.9844961240310077, 0.9844961240310077, 0.9767441860465116, 0.9922480620155039, 1.0, 0.9844961240310077, 1.0, 0.9922480620155039, 1.0, 0.9922480620155039, 0.9767441860465116, 1.0, 0.9961240310077519, 0.9728682170542635, 0.9961240310077519, 0.9961240310077519, 0.9961240310077519, 0.9883720930232558, 0.9844961240310077, 1.0, 1.0, 1.0, 0.9844961240310077, 1.0, 0.9961240310077519, 0.9922480620155039, 1.0, 1.0, 1.0, 1.0, 1.0, 1.0, 1.0, 1.0, 0.9961240310077519, 0.9961240310077519, 0.9728682170542635, 0.9883720930232558, 0.9883720930232558, 0.9883720930232558, 0.9767441860465116, 1.0, 1.0, 1.0, 0.9961240310077519, 0.9806201550387597, 1.0, 1.0, 0.9961240310077519, 1.0, 1.0, 1.0, 1.0, 1.0, 0.9961240310077519, 0.9961240310077519, 0.9961240310077519, 0.9961240310077519, 0.9961240310077519, 0.9961240310077519, 0.9961240310077519, 1.0, 1.0, 0.9961240310077519, 1.0, 1.0, 0.9961240310077519, 1.0, 1.0, 1.0, 1.0, 0.9767441860465116, 0.9844961240310077, 1.0, 1.0, 1.0, 1.0, 1.0, 0.9961240310077519, 1.0, 1.0, 1.0, 1.0, 1.0, 1.0, 1.0, 0.9961240310077519, 1.0, 0.9961240310077519, 1.0, 1.0, 1.0, 1.0, 0.9961240310077519, 0.9806201550387597, 0.9844961240310077, 0.9844961240310077, 0.9883720930232558, 1.0, 1.0, 0.9883720930232558, 0.9883720930232558, 0.9883720930232558, 0.9883720930232558, 0.9806201550387597, 1.0, 1.0, 1.0, 0.9961240310077519, 0.9844961240310077, 1.0, 1.0, 1.0, 1.0, 0.9961240310077519, 0.9961240310077519, 1.0, 1.0, 1.0, 0.9961240310077519, 0.9922480620155039, 0.9844961240310077, 1.0, 1.0, 0.9728682170542635, 0.9844961240310077, 0.9728682170542635, 1.0, 1.0, 1.0, 1.0, 1.0, 1.0, 1.0, 0.9767441860465116, 0.9922480620155039, 0.9961240310077519, 0.9844961240310077, 1.0, 1.0, 0.9844961240310077, 0.9844961240310077, 1.0, 1.0, 1.0, 1.0, 0.9844961240310077, 0.9961240310077519, 1.0, 1.0, 1.0, 0.9922480620155039, 0.9922480620155039, 0.9922480620155039, 0.9883720930232558, 0.9883720930232558, 1.0, 0.9844961240310077, 0.9883720930232558, 1.0, 1.0, 0.9961240310077519, 1.0, 1.0, 1.0, 0.9844961240310077, 0.9806201550387597, 0.9806201550387597, 1.0, 1.0, 1.0, 1.0, 0.9844961240310077, 1.0, 1.0, 1.0, 0.9844961240310077, 0.9883720930232558, 0.9961240310077519, 1.0, 1.0, 0.9728682170542635, 0.9922480620155039, 0.9922480620155039, 0.9844961240310077, 0.9922480620155039, 0.9844961240310077, 1.0, 0.9961240310077519, 1.0, 0.9922480620155039, 1.0, 0.9844961240310077, 0.9922480620155039, 1.0, 1.0, 0.9922480620155039, 0.9806201550387597, 1.0, 1.0, 0.9844961240310077, 1.0, 0.9844961240310077, 1.0, 1.0, 0.9961240310077519, 0.9844961240310077, 0.9883720930232558, 1.0, 0.9806201550387597, 0.9767441860465116, 0.9883720930232558, 1.0, 1.0, 0.9806201550387597, 1.0, 1.0, 0.9767441860465116, 1.0, 0.9922480620155039, 0.9612403100775194, 0.9844961240310077, 0.9922480620155039, 0.9806201550387597, 1.0, 0.9922480620155039, 0.9961240310077519, 0.9922480620155039, 0.9922480620155039, 1.0, 1.0, 0.9961240310077519, 0.9806201550387597, 0.9728682170542635, 0.9844961240310077, 1.0, 0.9883720930232558, 0.9883720930232558, 0.9883720930232558, 0.9883720930232558, 1.0, 1.0, 0.9961240310077519, 1.0, 1.0, 1.0, 1.0, 1.0, 1.0, 1.0, 1.0, 1.0, 1.0, 0.9806201550387597, 0.9883720930232558, 0.9806201550387597, 0.9806201550387597, 1.0, 1.0, 1.0, 0.9922480620155039, 0.9922480620155039, 1.0, 0.9844961240310077, 1.0, 0.9961240310077519, 0.9922480620155039, 0.9922480620155039, 1.0, 0.9806201550387597, 0.9883720930232558, 0.9961240310077519, 1.0, 1.0, 0.9961240310077519, 0.9844961240310077, 0.9806201550387597, 1.0, 0.9767441860465116, 0.9961240310077519, 0.9767441860465116, 0.9922480620155039, 1.0, 1.0, 0.9961240310077519, 1.0, 0.9922480620155039, 1.0, 0.9922480620155039, 1.0, 1.0, 1.0, 1.0, 0.9922480620155039, 1.0, 0.9844961240310077, 0.9806201550387597, 1.0, 0.9806201550387597, 1.0, 1.0, 1.0, 1.0, 1.0, 1.0, 1.0, 1.0, 1.0, 1.0, 1.0, 1.0, 1.0, 0.9883720930232558, 0.9883720930232558, 0.9883720930232558, 0.9961240310077519, 0.9961240310077519, 0.9961240310077519, 0.9961240310077519, 0.9883720930232558, 1.0, 0.9689922480620154, 0.9689922480620154, 1.0, 0.9689922480620154, 1.0, 1.0, 0.9961240310077519, 0.9767441860465116, 0.9883720930232558, 1.0, 1.0, 0.9922480620155039, 0.9922480620155039, 0.9728682170542635, 1.0, 1.0, 1.0, 1.0, 0.9883720930232558, 0.9883720930232558, 0.9883720930232558, 0.9961240310077519, 1.0, 0.9961240310077519, 0.9961240310077519, 0.9883720930232558, 0.9961240310077519, 1.0, 0.9844961240310077, 0.9767441860465116, 0.9922480620155039, 0.9883720930232558, 0.9844961240310077, 0.9922480620155039, 1.0, 1.0, 1.0, 0.9961240310077519, 0.9806201550387597, 1.0, 1.0, 0.9922480620155039, 0.9922480620155039, 1.0]\n"
     ]
    }
   ],
   "source": [
    "print(largest)"
   ]
  },
  {
   "cell_type": "code",
   "execution_count": 35,
   "id": "7feeb446",
   "metadata": {},
   "outputs": [
    {
     "name": "stdout",
     "output_type": "stream",
     "text": [
      "265\n"
     ]
    }
   ],
   "source": [
    "print(sum(1 if i == 1.0 else 0 for i in largest))"
   ]
  },
  {
   "cell_type": "code",
   "execution_count": 37,
   "id": "72b0e92c",
   "metadata": {},
   "outputs": [
    {
     "data": {
      "image/png": "[encoded data removed]",
      "text/plain": [
       "<Figure size 432x288 with 1 Axes>"
      ]
     },
     "metadata": {
      "needs_background": "light",
      "transient": {}
     },
     "output_type": "display_data"
    }
   ],
   "source": [
    "#plot SCATTER of largest similarity for explore against all normal\n",
    "\n",
    "%matplotlib inline\n",
    "import matplotlib.pyplot as plt\n",
    "\n",
    "\n",
    "plt.scatter(largest, lengths)\n",
    "#plt.hist(largest)\n",
    "plt.xlabel('Jaccard Similarity')\n",
    "plt.ylabel('Freq')\n",
    "#plt.ylim(0,100)\n",
    "plt.savefig('/data/localhost/not-backed-up/mokaya/exscientia/aizynthfinder/Maranga/Images/tg1e3_split_lsim.png')\n",
    "plt.show()"
   ]
  },
  {
   "cell_type": "code",
   "execution_count": 42,
   "id": "770f2c3f",
   "metadata": {},
   "outputs": [
    {
     "name": "stdout",
     "output_type": "stream",
     "text": [
      "[37, 38, 393]\n"
     ]
    }
   ],
   "source": [
    "# return index of reactions within a specific range\n",
    "\n",
    "val = [index for index, (x, y) in enumerate(zip(largest, lengths)) if (x < 0.965 and y < 13)]\n",
    "print(val)"
   ]
  },
  {
   "cell_type": "code",
   "execution_count": 43,
   "id": "9d72e454",
   "metadata": {},
   "outputs": [],
   "source": [
    "# fingerprint distance calculations\n",
    "distances, largest_distances, reactions_dict = fings.calculate_distances(fingerprints)"
   ]
  },
  {
   "cell_type": "code",
   "execution_count": 44,
   "id": "9f27058d",
   "metadata": {},
   "outputs": [
    {
     "name": "stdout",
     "output_type": "stream",
     "text": [
      "{'molecule': 64, 'index': 393, 'reaction': {'type': 'mol', 'hide': False, 'smiles': 'O=S(=O)(NCC(c1ccsc1)N1CCCCCC1)c1cccs1', 'is_chemical': True, 'in_stock': False, 'children': [{'type': 'reaction', 'hide': False, 'smiles': '[NH2:1][CH2:2][C:3][C:4][CH3:5]>>[NH2:1][CH2:2][C:3]=[C:4][CH3:5]', 'is_reaction': True, 'metadata': {'template_hash': '8528f36b2382a78b703484f2e48cbd5766bb32b4e37b88a8cb85e135', 'classification': 'Alkene to alkane', 'library_occurence': 23, 'policy_probability': 9.999999747378752e-05, 'policy_name': 'uspto', 'template_code': 24391}, 'children': [{'type': 'mol', 'hide': False, 'smiles': 'O=S(=O)(NCC(c1ccsc1)N1CC=CCCC1)c1cccs1', 'is_chemical': True, 'in_stock': False, 'children': [{'type': 'reaction', 'hide': False, 'smiles': '[S:1](=[O:2])(=[O:3])([cH:4]:[S:5])[N:7][CH3:6]>>Cl[S:1](=[O:2])(=[O:3])[cH:4]:[S:5].[CH3:6][N:7]', 'is_reaction': True, 'metadata': {'template_hash': '1d781aebc1a47a7de08f204e0c37cc0fda5b48b67df5728be40e398a', 'classification': 'N-sulfonylation', 'library_occurence': 150, 'policy_probability': 0.5963000059127808, 'policy_name': 'uspto', 'template_code': 5374}, 'children': [{'type': 'mol', 'hide': False, 'smiles': 'NCC(c1ccsc1)N1CC=CCCC1', 'is_chemical': True, 'in_stock': False, 'children': [{'type': 'reaction', 'hide': False, 'smiles': '[N:1][CH3:2]>>O=[N:1]([O-])[CH3:2]', 'is_reaction': True, 'metadata': {'template_hash': '3c04bb94cdc004d27a70f3e0095c88d7e55a882e6808ba41937bbfde', 'classification': 'Nitro to amine reduction', 'library_occurence': 355, 'policy_probability': 0.3767000138759613, 'policy_name': 'uspto', 'template_code': 10940}, 'children': [{'type': 'mol', 'hide': False, 'smiles': 'O=[N+]([O-])CC(c1ccsc1)N1CC=CCCC1', 'is_chemical': True, 'in_stock': False, 'children': [{'type': 'reaction', 'hide': False, 'smiles': '[C:1]([CH3:2])=[C:3][CH3:4]>>(C=[C:1][CH3:2].C=[C:3][CH3:4])', 'is_reaction': True, 'metadata': {'template_hash': '24936e072ee9740c53d88935e3764c28567e31f14960c22e5f782f86', 'classification': 'Other organometallic C-C bond formation', 'library_occurence': 120, 'policy_probability': 0.7314000129699707, 'policy_name': 'uspto', 'template_code': 6633}, 'children': [{'type': 'mol', 'hide': False, 'smiles': 'C=CCCCN(CC=C)C(C[N+](=O)[O-])c1ccsc1', 'is_chemical': True, 'in_stock': False, 'children': [{'type': 'reaction', 'hide': False, 'smiles': '[C:1]([CH3:2])[N:6]([CH2:5][CH:4]=[CH2:3])[CH3:7]>>Br[C:1][CH3:2].[CH2:3]=[CH:4][CH2:5][N:6][CH3:7]', 'is_reaction': True, 'metadata': {'template_hash': '4d45c9d0fb0a80f166ee4651ccb167f4e3dbd5a9b78077fefc743915', 'classification': 'Heteroaryl N-alkylation', 'library_occurence': 55, 'policy_probability': 0.07590000331401825, 'policy_name': 'uspto', 'template_code': 14151}, 'children': [{'type': 'mol', 'hide': False, 'smiles': 'C=CCCCBr', 'is_chemical': True, 'in_stock': True}, {'type': 'mol', 'hide': False, 'smiles': 'C=CCNC(C[N+](=O)[O-])c1ccsc1', 'is_chemical': True, 'in_stock': False, 'children': [{'type': 'reaction', 'hide': False, 'smiles': '[C:1]([CH3:2])([cH3:3])[N:5][CH3:4]>>O=[C:1]([CH3:2])[cH3:3].[CH3:4][N:5]', 'is_reaction': True, 'metadata': {'template_hash': 'f9b51a1561c31dfb6db7043d020e9689da19d5d052209dc102fc2074', 'classification': 'Reductive amination', 'library_occurence': 108, 'policy_probability': 0.008200000040233135, 'policy_name': 'uspto', 'template_code': 45583}, 'children': [{'type': 'mol', 'hide': False, 'smiles': 'C=CCN', 'is_chemical': True, 'in_stock': True}, {'type': 'mol', 'hide': False, 'smiles': 'O=C(C[N+](=O)[O-])c1ccsc1', 'is_chemical': True, 'in_stock': False, 'children': [{'type': 'reaction', 'hide': False, 'smiles': '[c:1]1([C:6]([CH3:7])=[O:8])[cH:2]:[SH:3]:[cH:4][cH:5]1>>Br[c:1]1[cH:2]:[SH:3]:[cH:4][cH:5]1.CON(C)[C:6]([CH3:7])=[O:8]', 'is_reaction': True, 'metadata': {'template_hash': '87b4663c2de004fb25d1f3490a2a2268d114ca1565499ce02d5994a7', 'classification': 'Other organometallic C-C bond formation', 'library_occurence': 6, 'policy_probability': 0.24480000138282776, 'policy_name': 'uspto', 'template_code': 24857}, 'children': [{'type': 'mol', 'hide': False, 'smiles': 'Brc1ccsc1', 'is_chemical': True, 'in_stock': True}, {'type': 'mol', 'hide': False, 'smiles': 'CON(C)C(=O)C[N+](=O)[O-]', 'is_chemical': True, 'in_stock': False, 'children': [{'type': 'reaction', 'hide': False, 'smiles': '[C:1]([CH3:2])(=[O:3])[N:5]([OH:4])[CH3:6]>>O[C:1]([CH3:2])=[O:3].[OH:4][N:5][CH3:6]', 'is_reaction': True, 'metadata': {'template_hash': 'e12e17c16fdd82cb71a098517c68119425dd3668f93c08def7cb5247', 'classification': 'N-acylation to amide', 'library_occurence': 478, 'policy_probability': 0.8148999810218811, 'policy_name': 'uspto', 'template_code': 41166}, 'children': [{'type': 'mol', 'hide': False, 'smiles': 'CNOC', 'is_chemical': True, 'in_stock': True}, {'type': 'mol', 'hide': False, 'smiles': 'O=C(O)C[N+](=O)[O-]', 'is_chemical': True, 'in_stock': True}]}]}]}]}]}]}]}]}]}]}]}]}, {'type': 'mol', 'hide': False, 'smiles': 'O=S(=O)(Cl)c1cccs1', 'is_chemical': True, 'in_stock': False, 'children': [{'type': 'reaction', 'hide': False, 'smiles': '[S:1]([Cl:2])(=[O:3])(=[O:4])[c:6](:[S:5])[cH2:7]>>O[S:1]([Cl:2])(=[O:3])=[O:4].[S:5]:[c:6][cH2:7]', 'is_reaction': True, 'metadata': {'template_hash': 'd1f4dc83ad1e7fe98a2adb43df2eafaba13169660f48a677f197a7d5', 'classification': 'Sulfonation', 'library_occurence': 47, 'policy_probability': 0.968500018119812, 'policy_name': 'uspto', 'template_code': 38433}, 'children': [{'type': 'mol', 'hide': False, 'smiles': 'O=S(=O)(O)Cl', 'is_chemical': True, 'in_stock': False}, {'type': 'mol', 'hide': False, 'smiles': 'c1ccsc1', 'is_chemical': True, 'in_stock': True}]}]}]}]}]}]}, 'type': 'explore', 'fingerprint': [0, 0, 0, 0, 0, 0, 0, 0, 0, 0, 0, 0, 0, 0, 0, 0, 0, 0, 0, 0, 0, 0, 0, 0, 0, 0, 0, 0, 0, 0, 0, 0, 1, 0, 0, 0, 0, 0, 0, 0, 0, 0, 0, 0, 0, 0, 0, 0, 0, 0, 0, 0, 0, 0, 0, 0, 0, 0, 0, 0, 0, 0, 0, 0, 0, 0, 0, 0, 0, 0, 0, 0, 0, 0, 0, 0, 0, 0, 0, 0, 0, 0, 0, 0, 0, 0, 0, 0, 0, 0, 0, 0, 0, 0, 0, 0, 0, 0, 0, 0, 0, 0, 0, 0, 0, 1, 1, 0, 0, 0, 0, 0, 0, 0, 0, 0, 0, 0, 0, 0, 0, 0, 0, 0, 0, 0, 0, 0, 0, 0, 0, 0, 0, 0, 0, 0, 0, 0, 0, 0, 0, 0, 0, 0, 0, 0, 0, 0, 0, 0, 0, 0, 0, 0, 0, 0, 0, 0, 0, 0, 0, 0, 0, 0, 0, 0, 0, 0, 0, 0, 0, 0, 0, 0, 0, 0, 0, 0, 0, 0, 0, 0, 0, 0, 0, 0, 0, 0, 0, 0, 1, 1, 1, 1, 1, 1, 0, 0, 0, 0, 0, 0, 0, 0, 0, 0, 0, 0, 0, 0, 0, 0, 0, 0, 0, 0, 0, 0, 0, 0, 0, 0, 0, 0, 0, 0, 0, 0, 0, 0, 0, 0, 0, 0, 0, 0, 0, 0, 0, 0, 0, 0, 0, 0, 0, 0, 0, 0, 0, 0, 0, 0, 0, 0, 0, 0, 0, 0], 'max distance': 2.8284271247461903}\n"
     ]
    }
   ],
   "source": [
    "print(reactions_dict[393])"
   ]
  },
  {
   "cell_type": "code",
   "execution_count": 9,
   "id": "e2ea1955",
   "metadata": {},
   "outputs": [],
   "source": [
    "# fingerprint similarity calculations\n",
    "dists, smallest_sim, largest_sim, reactions_dict_2, lengths = fings.calculate_similarity(reactions_dict)"
   ]
  },
  {
   "cell_type": "code",
   "execution_count": 21,
   "id": "9f762e51",
   "metadata": {},
   "outputs": [
    {
     "data": {
      "image/png": "[encoded data removed]",
      "text/plain": [
       "<Figure size 1080x360 with 3 Axes>"
      ]
     },
     "metadata": {
      "needs_background": "light",
      "transient": {}
     },
     "output_type": "display_data"
    }
   ],
   "source": [
    "#plot SCATTER of largest similarity + route length\n",
    "\n",
    "largest_sim_e = [i for index, i in enumerate(largest_sim) if reactions_dict_2[index].get('type') == 'explore']\n",
    "largest_sim_s = [i for index, i in enumerate(largest_sim) if reactions_dict_2[index].get('type') == 'normal']\n",
    "lengths_e = [i for index, i in enumerate(lengths) if reactions_dict_2[index].get('type') == 'explore']\n",
    "lengths_s = [i for index, i in enumerate(lengths) if reactions_dict_2[index].get('type') == 'normal']\n",
    "\n",
    "\n",
    "%matplotlib inline\n",
    "import matplotlib.pyplot as plt\n",
    "\n",
    "fig, (ax1, ax2 , ax3) = plt.subplots(1, 3, figsize=(15,5))\n",
    "fig.suptitle('Horizontally stacked subplots')\n",
    "ax1.scatter(largest_sim_e, lengths_e, c='red')\n",
    "ax2.scatter(largest_sim_s, lengths_s, c='blue')\n",
    "ax3.scatter(largest_sim_e, lengths_e, c='red')\n",
    "ax3.scatter(largest_sim_s, lengths_s, c='blue')\n",
    "plt.xlabel('Jaccard Similarity')\n",
    "plt.ylabel('Route Length')\n",
    "#plt.ylim(0,100)\n",
    "#plt.savefig('/data/localhost/not-backed-up/mokaya/exscientia/aizynthfinder/Maranga/Images/tg1_all_sim+len.png')\n",
    "plt.show()"
   ]
  },
  {
   "cell_type": "code",
   "execution_count": 19,
   "id": "5e489735",
   "metadata": {},
   "outputs": [
    {
     "name": "stdout",
     "output_type": "stream",
     "text": [
      "[363]\n"
     ]
    }
   ],
   "source": [
    "#find routes that have similarity ca. 0.9 and length 10 - 12\n",
    "indexes = []\n",
    "for index, (x, y) in enumerate(zip(largest_sim, lengths)):\n",
    "    if x < 0.92 and 10 <= y <= 14:\n",
    "        indexes.append(index)\n",
    "print(indexes)"
   ]
  },
  {
   "cell_type": "code",
   "execution_count": 10,
   "id": "70af666d",
   "metadata": {},
   "outputs": [
    {
     "data": {
      "image/png": "[encoded data removed]",
      "text/plain": [
       "<Figure size 432x288 with 1 Axes>"
      ]
     },
     "metadata": {
      "needs_background": "light",
      "transient": {}
     },
     "output_type": "display_data"
    }
   ],
   "source": [
    "%matplotlib inline\n",
    "import matplotlib.pyplot as plt\n",
    "\n",
    "x = np.arange(len(largest_sim))\n",
    "plt.hist(smallest_sim, bins=15)\n",
    "plt.xlabel('Jaccard Similarity')\n",
    "plt.ylabel('Frequency')\n",
    "#plt.ylim(0,100)\n",
    "#plt.savefig('/data/localhost/not-backed-up/mokaya/exscientia/aizynthfinder/Maranga/Images/tg1_exp_all_msim.png')\n",
    "plt.show()"
   ]
  },
  {
   "cell_type": "code",
   "execution_count": 13,
   "id": "79cfac09",
   "metadata": {},
   "outputs": [
    {
     "name": "stdout",
     "output_type": "stream",
     "text": [
      "0\n",
      "563\n",
      "[20, 103, 107, 234, 249, 289, 293, 409, 438, 454, 475, 561, 562]\n"
     ]
    }
   ],
   "source": [
    "zeros=[i for i in largest_sim if i < 0.90]\n",
    "print(len(zeros))\n",
    "\n",
    "print(len(largest_sim))\n",
    "\n",
    "indexes = [index for index, item in enumerate(smallest_sim) if item >= 0.975]\n",
    "print(indexes)"
   ]
  },
  {
   "cell_type": "code",
   "execution_count": 31,
   "id": "bec6a31c",
   "metadata": {},
   "outputs": [
    {
     "data": {
      "image/png": "[encoded data removed]",
      "text/plain": [
       "<Figure size 432x288 with 1 Axes>"
      ]
     },
     "metadata": {
      "needs_background": "light",
      "transient": {}
     },
     "output_type": "display_data"
    }
   ],
   "source": [
    "%matplotlib inline\n",
    "import matplotlib.pyplot as plt\n",
    "\n",
    "x = np.arange(len(smallest_sim))\n",
    "plt.hist(dists, bins=20)\n",
    "plt.xlabel('Jaccard Similarity')\n",
    "plt.ylabel('Frequency')\n",
    "#plt.ylim(0,100)\n",
    "plt.savefig('/data/localhost/not-backed-up/mokaya/exscientia/aizynthfinder/Maranga/Images/tg1_std_all_jacc.png')\n",
    "plt.show()"
   ]
  },
  {
   "cell_type": "code",
   "execution_count": null,
   "id": "892be8fe",
   "metadata": {},
   "outputs": [],
   "source": []
  },
  {
   "cell_type": "code",
   "execution_count": null,
   "id": "83107683",
   "metadata": {},
   "outputs": [],
   "source": []
  },
  {
   "cell_type": "code",
   "execution_count": null,
   "id": "a510e5f6",
   "metadata": {},
   "outputs": [],
   "source": []
  }
 ],
 "metadata": {
  "kernelspec": {
   "display_name": "aizynthfinder",
   "language": "python",
   "name": "aizynthfinder"
  },
  "language_info": {
   "codemirror_mode": {
    "name": "ipython",
    "version": 3
   },
   "file_extension": ".py",
   "mimetype": "text/x-python",
   "name": "python",
   "nbconvert_exporter": "python",
   "pygments_lexer": "ipython3",
   "version": "3.8.8"
  }
 },
 "nbformat": 4,
 "nbformat_minor": 5
}