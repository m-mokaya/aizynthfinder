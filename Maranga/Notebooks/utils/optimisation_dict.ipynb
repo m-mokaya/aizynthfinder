{
 "cells": [
  {
   "cell_type": "code",
   "execution_count": 7,
   "metadata": {},
   "outputs": [],
   "source": [
    "# Notebook to generate a json file as input for optimisation of specific reactions\n",
    "\n",
    "import json"
   ]
  },
  {
   "cell_type": "code",
   "execution_count": 8,
   "metadata": {},
   "outputs": [],
   "source": [
    "file_ext = '/data/localhost/not-backed-up/mokaya/exscientia/'"
   ]
  },
  {
   "cell_type": "code",
   "execution_count": 15,
   "metadata": {},
   "outputs": [],
   "source": [
    "opt_list = ['55396c1492cc3823f0701ef923544f9f4c1af584b69f4ce5650dc5ae', 'fb44fedb5e2cc8d07bdd0b6fb6f327584934b65e8fb8e97e63bb7532', '4adaee2f919129a728a81156383c0a0b04988e7bc84e82c9b95523a9', 'e189425e090fce77131c907ebf1468461240dd27d4457a40d701e43e', 'bc7193984167c71913195a0abce257da8748eb7d4b76769dceef2d3f', '5b2ff2a69fb7bd6a032938e468684773bcc668928b037bbec0ac8335', 'a320ddb3757b01284fda83a0e3c578c5f2f64f0ce6fab4668551b443', '368b3f927702b41932c1075690d6eeba50254e115711ea09825c0c9c', '2198be2381e37a3334f25c59fbeede1694f6fea560c8926b33da47aa', '3d15f069778b9af5a2330e3dc34ba771954d176a2e0bad76d157aeca', '9860ae00c69ec5f62a57f92b2877531856501cab10bf169231c3b9a0', '3f112fb289bac1f05b1a74f7afd73d0dad9ae0e80c6f59107df8cdb1', '164bcd5926595fb14a6a9bdfa6263711f1e81657ce47f1a9ea439ccb', 'f0a489cd79c24ed642d5256650cdb0f98e5344b2c074824b17336ecc', '0f35e4698af78868189072042f755bea621b23e196ec3dd2372ca253', '0b3c21f06ca16236914754283451a7cc64e549c75373335b7717c09e', 'b09baddfd5988158c3a819435de5f508e6fb5e1babae0fd337ba07ac', '64a6d4910232f1acf64becb85f504144f0b60a2b59776f77c9c8a0ee', '9ed3b9447fbafa6505b63e54c66f2bcf14c9f2653d3c0585de45bb14', 'cd4c8dfb74ae00d4ec8387e8837370d2f9fd4ad5e54ff56c9878f839', 'f58207c6c64a5b48e40756ac3ba50fe69cdf9b1d18b6063ebd95ff15', 'e4209383939f49c0378a8859c2af8829f35179fef3a6302d2bd2297e', 'f858818c0c1f2f66f02bcbcb6a52f9947e9808c326bd2f9e81f608a4', '77494952857051fb56b0441b3ec8d4563dd28159420bfe58ab4ec208', 'c626b51dbfae1ef30104be824476d702942d2ace5ee9f92e8bd851fd', 'ab43fdb7d07dc634653dbd1837069eeab92de794abab67effe20b3da', '7cd7e266aedc14d9b7e5af47d0741a5fd02fa6cefb13f61e640897e5', '06b980a4ac02eb1648e9dc3bafcf52d811d8abe3d76571149104d498', 'e90dc892577cf2ac30194cfccc635a1f819320aad538be6aee81716c', 'cf1d9c1cfaca7950cbcceb845065f844c6609f4540f3d39060f11bd4', '56b5c31191aefa4c1fcac8790519679cc694954849b9d5deb2a54e0a', '68ed8bbec90a1ac31b5fbc3e08089ca5738aa5e868a05e35b0069282', '282e99ef8d8c9452c505eac4bce60a562cfd17decaf0000e682de8e4', 'ea516f23add124b9f85cde9ccfc2b2531b45e4d60b77ef5b384cfb0e', 'ea9f8d80dccdcd80502d80ab51dc8f26cd63ed89bfafd6175b25064e', 'e9e6ddc12c7087adb0d37830da1dc4f8e465efac40216eae85d94f9c', 'b8574ab562194382031fa205cd12dd4f70593d59ef88fa77fe651ec7', 'b57929d9e3209af75d43bacb21ca1b88be1d99c459fe4b70a2c9beda', '5fbd658aecaede25ed81857771b15f7915745ca9308d7eada94dae78', '9530566a7a51605a818515446d3e2d5bdf0af59e8058923825364b37', 'fc6fab65fb339dbd7dfcd04c121911749ca2392ca0b8fedb59c018a1', '59f8fb7db3cbf455c98226881dd360106df04985a332e79a683379c8', 'b16058e06e13e3fc52e1861f743cb43b36208716c35d4f6490a5f00b', '9700dfbbea18932b10f40ed49527a6efd0b261364d0b5e3b1e240441', 'ee5e6a32a920e1ba097da36f0ff9430de5d8e4b7860e9e03690e5b68', '5136ed1521abf9884891419e6ea0cba8e8725addd208a98f601ab364', 'adfa2bcf2ed92d2f2015f257b0380d51610a9b12d9d1ba05d4038674', '0b9a9479b1c446347ac4a74f966a9f49d5b8033679f7f121b2392e31', '48da85188cfcb64f46d4ea1bb3ea877a1f572e8068af659846658d4f', 'b53a00627033c015a02275a68480e22f4e46f9df18b7c92df7b6ba0d', '84b5e1d28e550f78882f7c153822152b20e04d07131d106a9db5673f', '0f53679774729750968324fa45a796297bf0dc97ec413c3fe75fa763', '6a0626af2588944873e4b3030d4d6a8ec90610d1a5d941580d94be77', '2f9adf7a5323d651eaf0205149a2a57bde8c458a90e2a0fb7f375d6c', 'c6aa92c1629c5b64400c886935638b7b3f5321965d97c9db33cc5f6f', 'cd3fd28f00ca2c630c3b7c27a7a5457bdd834a12787eaf1df9501fd2', '4aeb94f05a2554de6f7fe6d26a2b278fffe8b9e8dcd005e84f5d2923', '3d318435686eb05bc5adf30e13086f008cb15993c9575c154f5ede63', 'd775cf39c89817610201eb77d7f2c05750999ab6870ec4bcf35a0a78', '5aae93a61569145ed18632d801932cdc99b7a496825e1c5156904263', '30f3b6d11f39f1b5e9bca8de6a88c092d203da3455758c1e85e9f02a', 'faafe15908733f62a51dcacbeeefe13083c70721f4a054ab98175e58', '3a5560eae7465a0cc85354aacbdde7007cfdee76590f0d68b2f79fee', '243d4d70ed956e3ba4e5bc0d489e1112d3a0eba27892f1d71f3a13af', 'd8e154d3775812c745ab92044a202c83dcbb7349540b7fe48f0f396d', 'f96c40bf02880ec1ad4e904cade957ea5e76e19468c355c581b3c8c8', '95e944b0bcd838bf90fb367a5b7fe79d4dc0134e5def5cf37cca343a', '41ef56bad32f088936eb0ea52941924fa9d3a0c1b9f60e4c2c7ef9ae', '4cfe0629efd25f60ac82137b46ce3a2c5b8ef77b2783726545e08e5d', '6744b6da9ed990d9e04bc2e5cba97e24866326ef579e4c88e3392980', '2a680215c1c69f116045ff1696194ac3ca890d5406b0abc3856bedc8', '501050fd83a951204010154c86c5c53f5a81532ed38ee6aae2c98ef9', '44c785fb5a8d587d2ec1ca5060ffda34ecfc782c8160e866fb6e01e9', 'b7b6f2efc722a1cbfc7ef551228f4090dbd1a72d44d2cead0bb05872', '21f1516d1bc55470578e44cfd7467daa0d35e9d7afb976a677af3083', '4d4a0dc6d6d549d7df2788d8d1f27513ad4264b446e339f7599f49e5', 'cd43bf36485e3d947480c17977c7dddb0a0e5816a29f4aeac5d058d3', '6e929049cd21721652c195585e552c4169b91f835e2013417b912693', '782bf8d5a2ffe41551f705ac6cb3e5edf1298a11e59e03f365b83419', '397c6727c6e12f6f4cf7284922e95b275029b3d5ae63102208155aee', '5d0e903c6bfb5b19534e0041886e3660ae8325955a5dfb16c85fc7d9', '776ef38231861dc4f1a1b0673f8a5b2acb11c756c437ddf192c47e36', '5d359b7d98bebc6ce399b1d7a9963c1021f8786abc95d14d5129c6d5', 'f50e6edd43215fd09e75ad8277fe209f633bdb24972a58fad4063f8f', '9bf4542b6ebf1b0dbc776e9c158fdb37e9984a15e06ba7fbdad968ad', '19ea0b41ce34ad96a8275f097d0c11f47736ca7f973cd7c4aee5b189', 'f4b38824f683bf381c9aa5fd7b484bbde56e2482c8df45c4f3383d61', '04aac57316494f5621172b80523cd496e017f4d0104703ad33b2fa4b', '0d80cfa7f9d1ab63ceb7fdd7712d6120524088f3751de74832ede90b', 'c558acaa3102f970d9cf390a86d77cc5b532eb6c24249bc9fee65f32', 'afdc04abcbda6a0c77a02783507103a3be5a465b2f073641ceaea1ca', 'c0b6d11f5f84b80b77886c883720fd851f0f367226589724f610ad4e', 'e6a2bdbcc4f5a07d16d1378bda9062f49c0e662afb341f561c32304a', 'e9afa703b0ce1ae6beee8caa75610d7a9299fc62a12297fdbddaa49d', 'ec4cadfa6747724043a249bd3bb87c9eeb325c6711c85ba00fa25604', '84cba62ead5314a4bd98891d749886ccfe4174585a65261599c12670', '491647e089969205d82bcdacc23232b9964014fa5e105ea540db7ba8', '0106d81e76bebb85b11172629556291776374f8f143385962b178eb3', '874f533cb23b97c467028e6036fbaafdbd21166dcb2c66b52ef718e1', '0a02d2d47df007d05d29f7b852c5bfe9dcbd7a32224d027cc636bd27', '1eecabe0173fa39f206a365ccea98e2b763ff157e33c23433b777de4', 'c38df6bb72f417e54d2346e687e032ed86554f208af48effa9422912', 'cdf64d3572667bc7e141ba45c11101067cadbeb96e61acfa3c7a910d', '53994dd2d8bb14288cdfb7c2951155e80ca49e2c98f7d531177a38b3', '49c1628032788008e8b4aa844c67dfa3dc3da53c87bef32faff5e68f', '9a4c5ceadb3b4a753bb8f03491f138cd875a84f1d327e818237f90df', '9a5276992ccda13b6431b631a7a99deea628d1ae4a1226bec315ced4', '69b86575f88b9f0c270424306fd5889c8e4ec122f68301130afe06ca', 'cca685540fa090059d4b84008cff5859b106a1b153e3a038da801bc9', 'e2c3ee5da9aa9675ad987be40beb5130d31e54544c07aad9093e3547']"
   ]
  },
  {
   "cell_type": "code",
   "execution_count": 16,
   "metadata": {},
   "outputs": [],
   "source": [
    "dist = list(set(opt_list))"
   ]
  },
  {
   "cell_type": "code",
   "execution_count": 17,
   "metadata": {},
   "outputs": [
    {
     "name": "stdout",
     "output_type": "stream",
     "text": [
      "110\n",
      "110\n"
     ]
    }
   ],
   "source": [
    "print(len(opt_list))\n",
    "print(len(dist))"
   ]
  },
  {
   "cell_type": "code",
   "execution_count": 18,
   "metadata": {},
   "outputs": [],
   "source": [
    "opt_dict = {}\n",
    "\n",
    "for i in dist:\n",
    "    opt_dict[i] = 10.0"
   ]
  },
  {
   "cell_type": "code",
   "execution_count": 19,
   "metadata": {},
   "outputs": [
    {
     "name": "stdout",
     "output_type": "stream",
     "text": [
      "{'501050fd83a951204010154c86c5c53f5a81532ed38ee6aae2c98ef9': 10.0, 'cd43bf36485e3d947480c17977c7dddb0a0e5816a29f4aeac5d058d3': 10.0, '0a02d2d47df007d05d29f7b852c5bfe9dcbd7a32224d027cc636bd27': 10.0, '368b3f927702b41932c1075690d6eeba50254e115711ea09825c0c9c': 10.0, '6e929049cd21721652c195585e552c4169b91f835e2013417b912693': 10.0, 'f50e6edd43215fd09e75ad8277fe209f633bdb24972a58fad4063f8f': 10.0, '5fbd658aecaede25ed81857771b15f7915745ca9308d7eada94dae78': 10.0, 'd8e154d3775812c745ab92044a202c83dcbb7349540b7fe48f0f396d': 10.0, '7cd7e266aedc14d9b7e5af47d0741a5fd02fa6cefb13f61e640897e5': 10.0, '0f35e4698af78868189072042f755bea621b23e196ec3dd2372ca253': 10.0, 'cd4c8dfb74ae00d4ec8387e8837370d2f9fd4ad5e54ff56c9878f839': 10.0, 'cf1d9c1cfaca7950cbcceb845065f844c6609f4540f3d39060f11bd4': 10.0, 'ee5e6a32a920e1ba097da36f0ff9430de5d8e4b7860e9e03690e5b68': 10.0, 'b53a00627033c015a02275a68480e22f4e46f9df18b7c92df7b6ba0d': 10.0, 'f0a489cd79c24ed642d5256650cdb0f98e5344b2c074824b17336ecc': 10.0, '95e944b0bcd838bf90fb367a5b7fe79d4dc0134e5def5cf37cca343a': 10.0, '6744b6da9ed990d9e04bc2e5cba97e24866326ef579e4c88e3392980': 10.0, '48da85188cfcb64f46d4ea1bb3ea877a1f572e8068af659846658d4f': 10.0, 'fb44fedb5e2cc8d07bdd0b6fb6f327584934b65e8fb8e97e63bb7532': 10.0, '84b5e1d28e550f78882f7c153822152b20e04d07131d106a9db5673f': 10.0, '41ef56bad32f088936eb0ea52941924fa9d3a0c1b9f60e4c2c7ef9ae': 10.0, '53994dd2d8bb14288cdfb7c2951155e80ca49e2c98f7d531177a38b3': 10.0, '0b3c21f06ca16236914754283451a7cc64e549c75373335b7717c09e': 10.0, '4adaee2f919129a728a81156383c0a0b04988e7bc84e82c9b95523a9': 10.0, 'f58207c6c64a5b48e40756ac3ba50fe69cdf9b1d18b6063ebd95ff15': 10.0, '21f1516d1bc55470578e44cfd7467daa0d35e9d7afb976a677af3083': 10.0, '5b2ff2a69fb7bd6a032938e468684773bcc668928b037bbec0ac8335': 10.0, 'ea9f8d80dccdcd80502d80ab51dc8f26cd63ed89bfafd6175b25064e': 10.0, '64a6d4910232f1acf64becb85f504144f0b60a2b59776f77c9c8a0ee': 10.0, 'e9afa703b0ce1ae6beee8caa75610d7a9299fc62a12297fdbddaa49d': 10.0, '491647e089969205d82bcdacc23232b9964014fa5e105ea540db7ba8': 10.0, '9bf4542b6ebf1b0dbc776e9c158fdb37e9984a15e06ba7fbdad968ad': 10.0, '19ea0b41ce34ad96a8275f097d0c11f47736ca7f973cd7c4aee5b189': 10.0, 'bc7193984167c71913195a0abce257da8748eb7d4b76769dceef2d3f': 10.0, 'b7b6f2efc722a1cbfc7ef551228f4090dbd1a72d44d2cead0bb05872': 10.0, '5d359b7d98bebc6ce399b1d7a9963c1021f8786abc95d14d5129c6d5': 10.0, '5aae93a61569145ed18632d801932cdc99b7a496825e1c5156904263': 10.0, 'cd3fd28f00ca2c630c3b7c27a7a5457bdd834a12787eaf1df9501fd2': 10.0, '3f112fb289bac1f05b1a74f7afd73d0dad9ae0e80c6f59107df8cdb1': 10.0, '0106d81e76bebb85b11172629556291776374f8f143385962b178eb3': 10.0, '59f8fb7db3cbf455c98226881dd360106df04985a332e79a683379c8': 10.0, '9530566a7a51605a818515446d3e2d5bdf0af59e8058923825364b37': 10.0, '30f3b6d11f39f1b5e9bca8de6a88c092d203da3455758c1e85e9f02a': 10.0, '5d0e903c6bfb5b19534e0041886e3660ae8325955a5dfb16c85fc7d9': 10.0, '4cfe0629efd25f60ac82137b46ce3a2c5b8ef77b2783726545e08e5d': 10.0, 'f96c40bf02880ec1ad4e904cade957ea5e76e19468c355c581b3c8c8': 10.0, '164bcd5926595fb14a6a9bdfa6263711f1e81657ce47f1a9ea439ccb': 10.0, 'f4b38824f683bf381c9aa5fd7b484bbde56e2482c8df45c4f3383d61': 10.0, '2f9adf7a5323d651eaf0205149a2a57bde8c458a90e2a0fb7f375d6c': 10.0, 'c626b51dbfae1ef30104be824476d702942d2ace5ee9f92e8bd851fd': 10.0, 'ea516f23add124b9f85cde9ccfc2b2531b45e4d60b77ef5b384cfb0e': 10.0, '77494952857051fb56b0441b3ec8d4563dd28159420bfe58ab4ec208': 10.0, '782bf8d5a2ffe41551f705ac6cb3e5edf1298a11e59e03f365b83419': 10.0, '9700dfbbea18932b10f40ed49527a6efd0b261364d0b5e3b1e240441': 10.0, '0f53679774729750968324fa45a796297bf0dc97ec413c3fe75fa763': 10.0, '56b5c31191aefa4c1fcac8790519679cc694954849b9d5deb2a54e0a': 10.0, '1eecabe0173fa39f206a365ccea98e2b763ff157e33c23433b777de4': 10.0, '2a680215c1c69f116045ff1696194ac3ca890d5406b0abc3856bedc8': 10.0, 'b09baddfd5988158c3a819435de5f508e6fb5e1babae0fd337ba07ac': 10.0, 'cca685540fa090059d4b84008cff5859b106a1b153e3a038da801bc9': 10.0, '0d80cfa7f9d1ab63ceb7fdd7712d6120524088f3751de74832ede90b': 10.0, '84cba62ead5314a4bd98891d749886ccfe4174585a65261599c12670': 10.0, '04aac57316494f5621172b80523cd496e017f4d0104703ad33b2fa4b': 10.0, '9860ae00c69ec5f62a57f92b2877531856501cab10bf169231c3b9a0': 10.0, 'cdf64d3572667bc7e141ba45c11101067cadbeb96e61acfa3c7a910d': 10.0, '69b86575f88b9f0c270424306fd5889c8e4ec122f68301130afe06ca': 10.0, 'f858818c0c1f2f66f02bcbcb6a52f9947e9808c326bd2f9e81f608a4': 10.0, 'ab43fdb7d07dc634653dbd1837069eeab92de794abab67effe20b3da': 10.0, '68ed8bbec90a1ac31b5fbc3e08089ca5738aa5e868a05e35b0069282': 10.0, '49c1628032788008e8b4aa844c67dfa3dc3da53c87bef32faff5e68f': 10.0, '6a0626af2588944873e4b3030d4d6a8ec90610d1a5d941580d94be77': 10.0, '874f533cb23b97c467028e6036fbaafdbd21166dcb2c66b52ef718e1': 10.0, 'b8574ab562194382031fa205cd12dd4f70593d59ef88fa77fe651ec7': 10.0, '5136ed1521abf9884891419e6ea0cba8e8725addd208a98f601ab364': 10.0, '9a5276992ccda13b6431b631a7a99deea628d1ae4a1226bec315ced4': 10.0, 'fc6fab65fb339dbd7dfcd04c121911749ca2392ca0b8fedb59c018a1': 10.0, 'e4209383939f49c0378a8859c2af8829f35179fef3a6302d2bd2297e': 10.0, 'ec4cadfa6747724043a249bd3bb87c9eeb325c6711c85ba00fa25604': 10.0, '397c6727c6e12f6f4cf7284922e95b275029b3d5ae63102208155aee': 10.0, 'c558acaa3102f970d9cf390a86d77cc5b532eb6c24249bc9fee65f32': 10.0, '2198be2381e37a3334f25c59fbeede1694f6fea560c8926b33da47aa': 10.0, 'b16058e06e13e3fc52e1861f743cb43b36208716c35d4f6490a5f00b': 10.0, '4d4a0dc6d6d549d7df2788d8d1f27513ad4264b446e339f7599f49e5': 10.0, 'c38df6bb72f417e54d2346e687e032ed86554f208af48effa9422912': 10.0, 'adfa2bcf2ed92d2f2015f257b0380d51610a9b12d9d1ba05d4038674': 10.0, '06b980a4ac02eb1648e9dc3bafcf52d811d8abe3d76571149104d498': 10.0, '9a4c5ceadb3b4a753bb8f03491f138cd875a84f1d327e818237f90df': 10.0, 'faafe15908733f62a51dcacbeeefe13083c70721f4a054ab98175e58': 10.0, '776ef38231861dc4f1a1b0673f8a5b2acb11c756c437ddf192c47e36': 10.0, 'c6aa92c1629c5b64400c886935638b7b3f5321965d97c9db33cc5f6f': 10.0, '3a5560eae7465a0cc85354aacbdde7007cfdee76590f0d68b2f79fee': 10.0, 'e189425e090fce77131c907ebf1468461240dd27d4457a40d701e43e': 10.0, '282e99ef8d8c9452c505eac4bce60a562cfd17decaf0000e682de8e4': 10.0, 'afdc04abcbda6a0c77a02783507103a3be5a465b2f073641ceaea1ca': 10.0, 'e2c3ee5da9aa9675ad987be40beb5130d31e54544c07aad9093e3547': 10.0, '3d318435686eb05bc5adf30e13086f008cb15993c9575c154f5ede63': 10.0, 'a320ddb3757b01284fda83a0e3c578c5f2f64f0ce6fab4668551b443': 10.0, 'd775cf39c89817610201eb77d7f2c05750999ab6870ec4bcf35a0a78': 10.0, '44c785fb5a8d587d2ec1ca5060ffda34ecfc782c8160e866fb6e01e9': 10.0, 'c0b6d11f5f84b80b77886c883720fd851f0f367226589724f610ad4e': 10.0, 'b57929d9e3209af75d43bacb21ca1b88be1d99c459fe4b70a2c9beda': 10.0, 'e9e6ddc12c7087adb0d37830da1dc4f8e465efac40216eae85d94f9c': 10.0, 'e90dc892577cf2ac30194cfccc635a1f819320aad538be6aee81716c': 10.0, '0b9a9479b1c446347ac4a74f966a9f49d5b8033679f7f121b2392e31': 10.0, '243d4d70ed956e3ba4e5bc0d489e1112d3a0eba27892f1d71f3a13af': 10.0, '9ed3b9447fbafa6505b63e54c66f2bcf14c9f2653d3c0585de45bb14': 10.0, '4aeb94f05a2554de6f7fe6d26a2b278fffe8b9e8dcd005e84f5d2923': 10.0, '55396c1492cc3823f0701ef923544f9f4c1af584b69f4ce5650dc5ae': 10.0, '3d15f069778b9af5a2330e3dc34ba771954d176a2e0bad76d157aeca': 10.0, 'e6a2bdbcc4f5a07d16d1378bda9062f49c0e662afb341f561c32304a': 10.0}\n"
     ]
    }
   ],
   "source": [
    "print(opt_dict)"
   ]
  },
  {
   "cell_type": "code",
   "execution_count": 20,
   "metadata": {},
   "outputs": [],
   "source": [
    "with open('/data/localhost/not-backed-up/mokaya/exscientia/aizynthfinder/Maranga/experiments/target_2/opt_dicts/opt12_class.json', 'w') as f:\n",
    "    json.dump(opt_dict , f)"
   ]
  },
  {
   "cell_type": "code",
   "execution_count": 5,
   "metadata": {},
   "outputs": [],
   "source": [
    "all_dicts = []\n",
    "for i in opt_list:\n",
    "    opt_dict = {}\n",
    "    opt_dict[i] = 10.0\n",
    "    all_dicts.append(opt_dict)"
   ]
  },
  {
   "cell_type": "code",
   "execution_count": 8,
   "metadata": {},
   "outputs": [
    {
     "name": "stdout",
     "output_type": "stream",
     "text": [
      "[{'Unassigned': 10.0}, {'Heteroaryl N-alkylation': 10.0}, {'Halogenation': 10.0}, {'Reductive amination': 10.0}, {'Alcohol to halide': 10.0}, {'RCO2H deprotections': 10.0}, {'Other reductions': 10.0}, {'O-containing heterocycle formation': 10.0}, {'Other functional group interconversion': 10.0}, {'Stille reaction': 10.0}, {'Ketone to alcohol': 10.0}, {'ROH deprotections': 10.0}, {'O-substitution': 10.0}, {'Friedel-Crafts reaction': 10.0}, {'NH deprotections': 10.0}, {'O-sulfonylation': 10.0}, {'S-substitution': 10.0}, {'N-substitution with alkyl-X': 10.0}, {'Nitro to amine reduction': 10.0}, {'Amide to amine reduction': 10.0}, {'N-arylation with Ar-X': 10.0}, {'Other deprotections': 10.0}, {'Alkene to alkane': 10.0}, {'O-acylation to ester': 10.0}, {'NH protections': 10.0}, {'Dehydration': 10.0}, {'N-acylation to amide': 10.0}]\n"
     ]
    }
   ],
   "source": [
    "print(all_dicts)"
   ]
  },
  {
   "cell_type": "code",
   "execution_count": 10,
   "metadata": {},
   "outputs": [],
   "source": [
    "for ind, i in enumerate(all_dicts):\n",
    "    with open(\"/data/localhost/not-backed-up/mokaya/exscientia/aizynthfinder/Maranga/experiments/target_2/opt4_class_{}.json\".format(ind), 'w') as f:\n",
    "        json.dump(i , f)\n",
    "        f.close()"
   ]
  },
  {
   "cell_type": "code",
   "execution_count": 6,
   "metadata": {},
   "outputs": [
    {
     "name": "stdout",
     "output_type": "stream",
     "text": [
      "{'N-substitution with alkyl-X': 10.0, 'N-arylation with Ar-X': 10.0, 'Heteroaryl N-alkylation': 10.0, 'NH deprotections': 10.0, 'O-substitution': 10.0, 'Other functional group interconversion': 10.0, 'S-substitution': 10.0, 'O-containing heterocycle formation': 10.0, 'N-acylation to amide': 10.0, 'NH protections': 10.0, 'Other reductions': 10.0, 'O-acylation to ester': 10.0, 'Unassigned': 10.0, 'Stille reaction': 10.0, 'Halogenation': 10.0, 'Nitro to amine reduction': 10.0, 'Reductive amination': 10.0, 'Dehydration': 10.0, 'Friedel-Crafts reaction': 10.0, 'Alkene to alkane': 10.0, 'Other deprotections': 10.0, 'Ketone to alcohol': 10.0, 'ROH deprotections': 10.0, 'RCO2H deprotections': 10.0, 'Alcohol to halide': 10.0, 'Amide to amine reduction': 10.0, 'O-sulfonylation': 10.0}\n",
      "dict_keys(['N-substitution with alkyl-X', 'N-arylation with Ar-X', 'Heteroaryl N-alkylation', 'NH deprotections', 'O-substitution', 'Other functional group interconversion', 'S-substitution', 'O-containing heterocycle formation', 'N-acylation to amide', 'NH protections', 'Other reductions', 'O-acylation to ester', 'Unassigned', 'Stille reaction', 'Halogenation', 'Nitro to amine reduction', 'Reductive amination', 'Dehydration', 'Friedel-Crafts reaction', 'Alkene to alkane', 'Other deprotections', 'Ketone to alcohol', 'ROH deprotections', 'RCO2H deprotections', 'Alcohol to halide', 'Amide to amine reduction', 'O-sulfonylation'])\n"
     ]
    }
   ],
   "source": [
    "# load item change value, save and close\n",
    "\n",
    "with open('/data/localhost/not-backed-up/mokaya/exscientia/aizynthfinder/Maranga/experiments/target_2/opt_dicts/opt4_class.json') as read_file: \n",
    "    #read in config\n",
    "    dict1 = json.load(read_file)\n",
    "    \n",
    "print(dict1)\n",
    "print(dict1.keys())"
   ]
  },
  {
   "cell_type": "code",
   "execution_count": 20,
   "metadata": {},
   "outputs": [
    {
     "ename": "SyntaxError",
     "evalue": "invalid syntax (<ipython-input-20-0dc434e75d34>, line 1)",
     "output_type": "error",
     "traceback": [
      "\u001b[0;36m  File \u001b[0;32m\"<ipython-input-20-0dc434e75d34>\"\u001b[0;36m, line \u001b[0;32m1\u001b[0m\n\u001b[0;31m    dict1 = {'properties': 'policy_values': '/data/localhost/not-backed-up/mokaya/exscientia/aizynthfinder/Maranga/experiments/target/opt4_class_0.json'\u001b[0m\n\u001b[0m                                          ^\u001b[0m\n\u001b[0;31mSyntaxError\u001b[0m\u001b[0;31m:\u001b[0m invalid syntax\n"
     ]
    }
   ],
   "source": [
    "dict1 = {'properties': 'policy_values': '/data/localhost/not-backed-up/mokaya/exscientia/aizynthfinder/Maranga/experiments/target/opt4_class_0.json'\n",
    "  'use_prior': true\n",
    "  'iteration_limit': 100\n",
    "  'return_first': false\n",
    "  'time_limit': 240\n",
    "  C: 1.4\n",
    "  cutoff_cumulative: 0.95\n",
    "  cutoff_number: 100\n",
    "  max_transforms: 15\n",
    "policy:\n",
    "  files:\n",
    "    uspto:\n",
    "      - /data/localhost/not-backed-up/mokaya/exscientia/aizynthfinder/aizynthfinder/data/uspto_model.hdf5\n",
    "      - /data/localhost/not-backed-up/mokaya/exscientia/aizynthfinder/aizynthfinder/data/uspto_templates.hdf5\n",
    "filter:\n",
    "  files:\n",
    "    uspto: /data/localhost/not-backed-up/mokaya/exscientia/aizynthfinder/aizynthfinder/data/uspto_filter_model.hdf5\n",
    "stock:\n",
    "  files:\n",
    "    molport: /data/localhost/not-backed-up/mokaya/exscientia/aizynthfinder/aizynthfinder/data/molport_blocks_stock.hdf5"
   ]
  },
  {
   "cell_type": "code",
   "execution_count": null,
   "metadata": {},
   "outputs": [],
   "source": []
  }
 ],
 "metadata": {
  "kernelspec": {
   "display_name": "aizynthfinder",
   "language": "python",
   "name": "aizynthfinder"
  },
  "language_info": {
   "codemirror_mode": {
    "name": "ipython",
    "version": 3
   },
   "file_extension": ".py",
   "mimetype": "text/x-python",
   "name": "python",
   "nbconvert_exporter": "python",
   "pygments_lexer": "ipython3",
   "version": "3.8.8"
  }
 },
 "nbformat": 4,
 "nbformat_minor": 4
}