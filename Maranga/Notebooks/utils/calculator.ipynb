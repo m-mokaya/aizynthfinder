{
 "cells": [
  {
   "cell_type": "code",
   "execution_count": 5,
   "metadata": {},
   "outputs": [],
   "source": [
    "# Notebook to calculate the cost of a reaction route\\"
   ]
  },
  {
   "cell_type": "code",
   "execution_count": 18,
   "metadata": {},
   "outputs": [],
   "source": [
    "import sys\n",
    "import json\n",
    "import argparse\n",
    "import pandas as pd\n",
    "import numpy as np\n",
    "import math\n",
    "import statistics\n",
    "\n",
    "sys.path.append('../../../')\n",
    "\n",
    "import aizynthfinder.analysis\n",
    "import aizynthfinder.chem\n",
    "import aizynthfinder.context.config as con\n",
    "\n",
    "\n",
    "from aizynthfinder.mcts.node import Node\n",
    "from aizynthfinder.analysis import ReactionTree\n",
    "from aizynthfinder.chem import TreeMolecule, Molecule, UniqueMolecule\n",
    "from aizynthfinder.context.collection import ContextCollection\n",
    "from aizynthfinder.context.stock import StockException\n",
    "import aizynthfinder.context.scoring as scoring\n",
    "import Maranga.utils.parse_multismiles as mutils"
   ]
  },
  {
   "cell_type": "code",
   "execution_count": 7,
   "metadata": {},
   "outputs": [],
   "source": [
    "# import stock\n",
    "stock_file = '/data/localhost/not-backed-up/mokaya/exscientia/aizynthfinder/aizynthfinder/data/molport_blocks_stock.hdf5'\n",
    "results_file = '/data/localhost/not-backed-up/mokaya/exscientia/aizynthfinder/Maranga/experiments/target_2/results/tg2_std_opt3_2_solved.json'"
   ]
  },
  {
   "cell_type": "code",
   "execution_count": 8,
   "metadata": {},
   "outputs": [],
   "source": [
    "# set defaults\n",
    "default_cost = 1.8\n",
    "not_in_stock_multiplier = 10"
   ]
  },
  {
   "cell_type": "code",
   "execution_count": 9,
   "metadata": {},
   "outputs": [
    {
     "name": "stdout",
     "output_type": "stream",
     "text": [
      "                     inchi_key  price\n",
      "0  BDJHVZSZVZKIRK-UHFFFAOYSA-N    3.0\n",
      "1  DFYRUELUNQRZTB-UHFFFAOYSA-N    1.0\n",
      "2  OCTRKCGAMLAULG-UHFFFAOYSA-N    3.0\n",
      "3  BXCJDECTRRMSCV-UHFFFAOYSA-N    1.0\n",
      "4  INLWEXRRMUMHKB-UHFFFAOYSA-N    1.0\n"
     ]
    }
   ],
   "source": [
    "#load dataframe\n",
    "stock = pd.read_hdf(stock_file, 'table')\n",
    "print(stock.head())"
   ]
  },
  {
   "cell_type": "code",
   "execution_count": 10,
   "metadata": {},
   "outputs": [],
   "source": [
    "stock_inchis = stock['inchi_key'].tolist()"
   ]
  },
  {
   "cell_type": "code",
   "execution_count": 11,
   "metadata": {},
   "outputs": [],
   "source": [
    "# convert json to reaction_treee\n",
    "with open(results_file, 'r') as f:\n",
    "    data = json.load(f)\n",
    "\n",
    "data_t = data.get('reaction trees')\n",
    "\n",
    "trees = [json.loads(i) for i in data_t]\n",
    "\n",
    "rxns = [ReactionTree.from_dict(i) for i in trees]"
   ]
  },
  {
   "cell_type": "code",
   "execution_count": 12,
   "metadata": {
    "tags": []
   },
   "outputs": [],
   "source": [
    "costs = mutils.calculate_route_cost(rxns, stock_inchis, stock)"
   ]
  },
  {
   "cell_type": "code",
   "execution_count": 25,
   "metadata": {},
   "outputs": [
    {
     "name": "stdout",
     "output_type": "stream",
     "text": [
      "82.89765379934535\n"
     ]
    }
   ],
   "source": [
    "print(statistics.mean(costs_3))"
   ]
  },
  {
   "cell_type": "code",
   "execution_count": 22,
   "metadata": {},
   "outputs": [],
   "source": [
    "costs_2 = [82.89765379934535 if np.isnan(i) else i for i in costs]"
   ]
  },
  {
   "cell_type": "code",
   "execution_count": 9,
   "metadata": {},
   "outputs": [
    {
     "name": "stdout",
     "output_type": "stream",
     "text": [
      "1721.3223513778069\n"
     ]
    }
   ],
   "source": [
    "print(np.mean(costs))"
   ]
  },
  {
   "cell_type": "code",
   "execution_count": 11,
   "metadata": {},
   "outputs": [
    {
     "name": "stdout",
     "output_type": "stream",
     "text": [
      "0\n"
     ]
    }
   ],
   "source": [
    "invalid = [i for i in costs if i == (1.8*10)]\n",
    "print(len(invalid))"
   ]
  },
  {
   "cell_type": "code",
   "execution_count": null,
   "metadata": {},
   "outputs": [],
   "source": [
    "pri"
   ]
  }
 ],
 "metadata": {
  "kernelspec": {
   "display_name": "aizynthfinder",
   "language": "python",
   "name": "aizynthfinder"
  },
  "language_info": {
   "codemirror_mode": {
    "name": "ipython",
    "version": 3
   },
   "file_extension": ".py",
   "mimetype": "text/x-python",
   "name": "python",
   "nbconvert_exporter": "python",
   "pygments_lexer": "ipython3",
   "version": "3.8.8"
  }
 },
 "nbformat": 4,
 "nbformat_minor": 4
}
