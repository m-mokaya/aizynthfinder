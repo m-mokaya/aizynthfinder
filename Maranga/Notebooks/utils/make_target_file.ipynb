{
 "cells": [
  {
   "cell_type": "code",
   "execution_count": 2,
   "metadata": {},
   "outputs": [],
   "source": [
    "# Notebook to generate a json file as input for optimisation of specific reactions\n",
    "\n",
    "import json\n",
    "import pandas as pd"
   ]
  },
  {
   "cell_type": "code",
   "execution_count": 27,
   "metadata": {},
   "outputs": [],
   "source": [
    "with open('/data/localhost/not-backed-up/mokaya/exscientia/aizynthfinder/Maranga/experiments/pipeline/data/DOWNLOAD-oA-s7Jef4U0vD6d_sBkJPxLHorpKL99_IZa7UzHiw4A=.csv', 'r') as f:\n",
    "    data = pd.read_csv(f, sep=';')"
   ]
  },
  {
   "cell_type": "code",
   "execution_count": 28,
   "metadata": {},
   "outputs": [
    {
     "name": "stdout",
     "output_type": "stream",
     "text": [
      "   Similarity     ChEMBL ID  Name  Synonyms     Type  Max Phase  \\\n",
      "0  100.000000  CHEMBL428097   NaN       NaN  Protein          0   \n",
      "1   86.301368  CHEMBL439356   NaN       NaN  Protein          0   \n",
      "2   75.609756  CHEMBL439307   NaN       NaN  Protein          0   \n",
      "3   92.424244  CHEMBL406383   NaN       NaN  Protein          0   \n",
      "4   76.829267  CHEMBL383861   NaN       NaN  Protein          0   \n",
      "\n",
      "   Molecular Weight  Targets  Bioactivities  AlogP  ... Structure Type  \\\n",
      "0           1109.34        1              1   None  ...           BOTH   \n",
      "1           1400.65        2              2   None  ...           BOTH   \n",
      "2           2597.12        2              2   None  ...           BOTH   \n",
      "3            995.24        1              1  -1.15  ...           BOTH   \n",
      "4           1679.01        2              2   None  ...           BOTH   \n",
      "\n",
      "  Inorganic Flag Heavy Atoms HBA (Lipinski) HBD (Lipinski)  \\\n",
      "0             -1        None           None           None   \n",
      "1             -1        None           None           None   \n",
      "2             -1        None           None           None   \n",
      "3             -1          71             23             20   \n",
      "4             -1        None           None           None   \n",
      "\n",
      "  #RO5 Violations (Lipinski) Molecular Weight (Monoisotopic)  \\\n",
      "0                       None                       1108.6505   \n",
      "1                       None                       1399.7725   \n",
      "2                       None                       2595.3679   \n",
      "3                          3                        994.6076   \n",
      "4                       None                       1677.9580   \n",
      "\n",
      "  Molecular Species Molecular Formula  \\\n",
      "0              None      C52H84N16O11   \n",
      "1              None     C66H101N19O15   \n",
      "2              None  C116H186N36O28S2   \n",
      "3              BASE       C48H78N14O9   \n",
      "4              None     C79H123N25O16   \n",
      "\n",
      "                                              Smiles  \n",
      "0  CC[C@H](C)[C@H](NC(=O)[C@H](CC(C)C)NC(=O)[C@@H...  \n",
      "1  CC[C@H](C)[C@H](NC(=O)[C@@H](N)Cc1ccc(O)cc1)C(...  \n",
      "2  CCC[C@H](NC(=O)[C@H](CCCN=C(N)N)NC(=O)[C@@H](N...  \n",
      "3  CC[C@H](C)[C@H](NC(=O)[C@@H](N)CC(C)C)C(=O)N[C...  \n",
      "4  CC[C@H](C)[C@H](NC(=O)[C@H](Cc1ccc(O)cc1)NC(=O...  \n",
      "\n",
      "[5 rows x 32 columns]\n"
     ]
    }
   ],
   "source": [
    "print(data.head())"
   ]
  },
  {
   "cell_type": "code",
   "execution_count": 29,
   "metadata": {},
   "outputs": [],
   "source": [
    "smiles = data[\"Smiles\"].tolist()"
   ]
  },
  {
   "cell_type": "code",
   "execution_count": 30,
   "metadata": {},
   "outputs": [],
   "source": [
    "with open('/data/localhost/not-backed-up/mokaya/exscientia/aizynthfinder/Maranga/experiments/pipeline/results/tg3/tg3_smiles.txt', 'w') as f:\n",
    "   f.write('\\n'.join(smiles))"
   ]
  },
  {
   "cell_type": "code",
   "execution_count": null,
   "metadata": {},
   "outputs": [],
   "source": []
  }
 ],
 "metadata": {
  "kernelspec": {
   "display_name": "Python 3.8.10 64-bit ('aizynth-dev': conda)",
   "name": "aizynthfinder"
  },
  "language_info": {
   "codemirror_mode": {
    "name": "ipython",
    "version": 3
   },
   "file_extension": ".py",
   "mimetype": "text/x-python",
   "name": "python",
   "nbconvert_exporter": "python",
   "pygments_lexer": "ipython3",
   "version": "3.8.10"
  },
  "orig_nbformat": 3
 },
 "nbformat": 4,
 "nbformat_minor": 4
}