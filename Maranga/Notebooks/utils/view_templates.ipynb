{
 "cells": [
  {
   "cell_type": "code",
   "execution_count": 1,
   "metadata": {},
   "outputs": [],
   "source": [
    "import pandas as pd\n",
    "import json\n",
    "import sys\n",
    "import os\n",
    "import ast\n",
    "\n",
    "\n",
    "sys.path.append('../../../')\n",
    "\n",
    "#import aizynthfinder.chem as chem\n",
    "import aizynthfinder.analysis\n",
    "\n",
    "from aizynthfinder.mcts.node import Node\n",
    "from aizynthfinder.analysis import ReactionTree\n",
    "from aizynthfinder.mcts.state import State\n",
    "from aizynthfinder.chem import TreeMolecule\n",
    "from aizynthfinder.context.collection import ContextCollection\n",
    "from aizynthfinder.context.stock import StockException\n",
    "\n",
    "from Maranga.utils.parse_multismiles import findkeys\n",
    "\n",
    "import matplotlib.pyplot as plt"
   ]
  },
  {
   "cell_type": "code",
   "execution_count": 2,
   "metadata": {},
   "outputs": [],
   "source": [
    "# read in template file\n",
    "f = '/data/localhost/not-backed-up/mokaya/exscientia/aizynthfinder/aizynthfinder/data/uspto_templates.hdf5'\n",
    "data = pd.read_hdf(f, 'table')"
   ]
  },
  {
   "cell_type": "code",
   "execution_count": 6,
   "metadata": {},
   "outputs": [],
   "source": [
    "#convert 'clasification column to list'\n",
    "classes = data['classification'].tolist()\n",
    "unique_class = list(set(classes))\n"
   ]
  },
  {
   "cell_type": "code",
   "execution_count": 13,
   "metadata": {},
   "outputs": [
    {
     "name": "stdout",
     "output_type": "stream",
     "text": [
      "['Other acylation', 'Nitrile to acid', 'Other C-C bond formation', 'Other Pd-catalyzed reactions (Negishi,Kumada,etc.)', 'N-arylation with Ar-X', 'Alcohols to acids', 'Cyano or imine to amine', 'Salt formation', 'S-containing heterocycle formation', 'Unassigned', 'Ketone to alcohol', 'ROH deprotections', 'RCO2H deprotections', 'N-acylation to urea', 'O-sulfonylation', 'Heck reaction', 'Heteroaryl N-alkylation', 'Dehydration', 'N-sulfonylation', 'N-containing heterocycle formation', 'Other oxidations', 'Other deprotections', 'Alkene oxidative cleavage', 'Alcohol to halide', 'Suzuki coupling', 'Halogenation', 'Alcohols to aldehydes']\n",
      "['N-containing heterocycle formation', 'RCO2H protections', 'Heteroaryl N-alkylation', 'N-arylation with Ar-X', 'Alkene oxidation', 'O-acylation to ester', 'Nitrile to acid', 'N-substitution with alkyl-X', 'Salt formation', 'Unassigned']\n"
     ]
    }
   ],
   "source": [
    "import random\n",
    "\n",
    "rand27 = random.sample(unique_class, 27)\n",
    "print(rand27)\n",
    "\n",
    "rand10 = random.sample(unique_class, 10)\n",
    "print(rand10)"
   ]
  },
  {
   "cell_type": "code",
   "execution_count": null,
   "metadata": {},
   "outputs": [],
   "source": []
  }
 ],
 "metadata": {
  "kernelspec": {
   "display_name": "Python 3.8.8 64-bit ('aizynth-dev': conda)",
   "name": "aizynthfinder"
  },
  "language_info": {
   "codemirror_mode": {
    "name": "ipython",
    "version": 3
   },
   "file_extension": ".py",
   "mimetype": "text/x-python",
   "name": "python",
   "nbconvert_exporter": "python",
   "pygments_lexer": "ipython3",
   "version": "3.8.8"
  },
  "orig_nbformat": 2
 },
 "nbformat": 4,
 "nbformat_minor": 2
}