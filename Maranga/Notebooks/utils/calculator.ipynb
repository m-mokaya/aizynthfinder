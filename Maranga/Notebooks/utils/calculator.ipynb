{
 "metadata": {
  "language_info": {
   "codemirror_mode": {
    "name": "ipython",
    "version": 3
   },
   "file_extension": ".py",
   "mimetype": "text/x-python",
   "name": "python",
   "nbconvert_exporter": "python",
   "pygments_lexer": "ipython3",
   "version": "3.8.8"
  },
  "orig_nbformat": 2,
  "kernelspec": {
   "name": "python388jvsc74a57bd01ce81150a71727f589a159d7c025889054ace076bb44326ef3200601839cf7ad",
   "display_name": "Python 3.8.8 64-bit ('aizynth-dev': conda)"
  }
 },
 "nbformat": 4,
 "nbformat_minor": 2,
 "cells": [
  {
   "cell_type": "code",
   "execution_count": 5,
   "metadata": {},
   "outputs": [],
   "source": [
    "# Notebook to calculate the cost of a reaction route\\"
   ]
  },
  {
   "cell_type": "code",
   "execution_count": 19,
   "metadata": {},
   "outputs": [],
   "source": [
    "import sys\n",
    "import json\n",
    "import argparse\n",
    "import pandas as pd\n",
    "import numpy as np\n",
    "\n",
    "sys.path.append('../../../')\n",
    "\n",
    "import aizynthfinder.analysis\n",
    "import aizynthfinder.chem\n",
    "import aizynthfinder.context.config as con\n",
    "\n",
    "\n",
    "from aizynthfinder.mcts.node import Node\n",
    "from aizynthfinder.analysis import ReactionTree\n",
    "from aizynthfinder.chem import TreeMolecule, Molecule, UniqueMolecule\n",
    "from aizynthfinder.context.collection import ContextCollection\n",
    "from aizynthfinder.context.stock import StockException\n",
    "import aizynthfinder.context.scoring as scoring\n",
    "import Maranga.utils.parse_multismiles as mutils"
   ]
  },
  {
   "cell_type": "code",
   "execution_count": 32,
   "metadata": {},
   "outputs": [],
   "source": [
    "# import stock\n",
    "stock_file = '/data/localhost/not-backed-up/mokaya/exscientia/aizynthfinder/aizynthfinder/data/molport_in_stock.hdf5'\n",
    "results_file = '/data/localhost/not-backed-up/mokaya/exscientia/aizynthfinder/Maranga/experiments/price/results/json/tg1_393_4.json'"
   ]
  },
  {
   "cell_type": "code",
   "execution_count": 33,
   "metadata": {},
   "outputs": [],
   "source": [
    "# set defaults\n",
    "default_cost = 1.8\n",
    "not_in_stock_multiplier = 10"
   ]
  },
  {
   "cell_type": "code",
   "execution_count": 34,
   "metadata": {},
   "outputs": [
    {
     "output_type": "stream",
     "name": "stdout",
     "text": [
      "                     inchi_key  price\n0  BDJHVZSZVZKIRK-UHFFFAOYSA-N    3.0\n1  DFYRUELUNQRZTB-UHFFFAOYSA-N    1.0\n2  OCTRKCGAMLAULG-UHFFFAOYSA-N    3.0\n3  BXCJDECTRRMSCV-UHFFFAOYSA-N    1.0\n4  INLWEXRRMUMHKB-UHFFFAOYSA-N    1.0\n"
     ]
    }
   ],
   "source": [
    "#load dataframe\n",
    "stock = pd.read_hdf(stock_file, 'table')\n",
    "print(stock.head())"
   ]
  },
  {
   "cell_type": "code",
   "execution_count": 35,
   "metadata": {},
   "outputs": [],
   "source": [
    "stock_inchis = stock['inchi_key'].tolist()"
   ]
  },
  {
   "cell_type": "code",
   "execution_count": 36,
   "metadata": {},
   "outputs": [],
   "source": [
    "# convert json to reaction_treee\n",
    "with open(results_file, 'r') as f:\n",
    "    data = json.load(f)\n",
    "\n",
    "rxns = [ReactionTree.from_dict(i) for i in data]"
   ]
  },
  {
   "cell_type": "code",
   "execution_count": 37,
   "metadata": {},
   "outputs": [
    {
     "output_type": "stream",
     "name": "stdout",
     "text": [
      "C1CCCNCC1 in stock\n",
      "Index:  [430731]\n",
      "Price:  1.0\n",
      "O=Cc1ccsc1 in stock\n",
      "Index:  [464214]\n",
      "Price:  1.0\n",
      "O=S(=O)(Cl)c1cccs1 in stock\n",
      "Index:  [23492]\n",
      "Price:  1.0\n",
      "C1CCCNCC1 in stock\n",
      "Index:  [430731]\n",
      "Price:  1.0\n",
      "CC(=O)Cl in stock\n",
      "Index:  [430889]\n",
      "Price:  1.0\n",
      "NCC(O)c1ccsc1 in stock\n",
      "Index:  [2122227]\n",
      "Price:  2.0\n",
      "O=S(=O)(Cl)c1cccs1 in stock\n",
      "Index:  [23492]\n",
      "Price:  1.0\n",
      "NS(=O)(=O)c1ccc(Cl)s1 in stock\n",
      "Index:  [32738]\n",
      "Price:  1.0\n",
      "C1CCCNCC1 in stock\n",
      "Index:  [430731]\n",
      "Price:  1.0\n",
      "O=CC(=O)O in stock\n",
      "Index:  [688383]\n",
      "Price:  1.0\n",
      "OB(O)c1ccsc1 in stock\n",
      "Index:  [21403]\n",
      "Price:  1.0\n",
      "C1CCCNCC1 in stock\n",
      "Index:  [430731]\n",
      "Price:  1.0\n",
      "O=Cc1csc(Br)c1 in stock\n",
      "Index:  [2435914]\n",
      "Price:  2.0\n",
      "O=S(=O)(Cl)c1cccs1 in stock\n",
      "Index:  [23492]\n",
      "Price:  1.0\n",
      "C1CCCNCC1 in stock\n",
      "Index:  [430731]\n",
      "Price:  1.0\n",
      "O=Cc1ccsc1Cl in stock\n",
      "Index:  [433498]\n",
      "Price:  1.0\n",
      "O=S(=O)(Cl)c1cccs1 in stock\n",
      "Index:  [23492]\n",
      "Price:  1.0\n"
     ]
    }
   ],
   "source": [
    "costs = mutils.calculate_route_cost(rxns, stock_inchis, stock)"
   ]
  },
  {
   "cell_type": "code",
   "execution_count": 38,
   "metadata": {},
   "outputs": [
    {
     "output_type": "stream",
     "name": "stdout",
     "text": [
      "[6.407518248061351, 14.118311615895637, 11.644832546735724, 9.28990304153593, 8.764241922411061]\n"
     ]
    }
   ],
   "source": [
    "print(costs)"
   ]
  },
  {
   "cell_type": "code",
   "execution_count": 39,
   "metadata": {},
   "outputs": [
    {
     "output_type": "stream",
     "name": "stdout",
     "text": [
      "10.044961474927941\n"
     ]
    }
   ],
   "source": [
    "print(np.mean(costs))"
   ]
  },
  {
   "cell_type": "code",
   "execution_count": null,
   "metadata": {},
   "outputs": [],
   "source": []
  },
  {
   "cell_type": "code",
   "execution_count": null,
   "metadata": {},
   "outputs": [],
   "source": []
  }
 ]
}