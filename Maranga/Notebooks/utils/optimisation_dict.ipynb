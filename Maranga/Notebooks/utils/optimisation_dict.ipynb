{
 "cells": [
  {
   "cell_type": "code",
   "execution_count": 7,
   "metadata": {},
   "outputs": [],
   "source": [
    "# Notebook to generate a json file as input for optimisation of specific reactions\n",
    "\n",
    "import json"
   ]
  },
  {
   "cell_type": "code",
   "execution_count": 8,
   "metadata": {},
   "outputs": [],
   "source": [
    "file_ext = '/data/localhost/not-backed-up/mokaya/exscientia/'"
   ]
  },
  {
   "cell_type": "code",
   "execution_count": 9,
   "metadata": {},
   "outputs": [],
   "source": [
    "opt_list = ['55396c1492cc3823f0701ef923544f9f4c1af584b69f4ce5650dc5ae', 'fb44fedb5e2cc8d07bdd0b6fb6f327584934b65e8fb8e97e63bb7532', '4adaee2f919129a728a81156383c0a0b04988e7bc84e82c9b95523a9', 'e189425e090fce77131c907ebf1468461240dd27d4457a40d701e43e', 'bc7193984167c71913195a0abce257da8748eb7d4b76769dceef2d3f', '5b2ff2a69fb7bd6a032938e468684773bcc668928b037bbec0ac8335', 'a320ddb3757b01284fda83a0e3c578c5f2f64f0ce6fab4668551b443', '368b3f927702b41932c1075690d6eeba50254e115711ea09825c0c9c', '2198be2381e37a3334f25c59fbeede1694f6fea560c8926b33da47aa', '3d15f069778b9af5a2330e3dc34ba771954d176a2e0bad76d157aeca', '9860ae00c69ec5f62a57f92b2877531856501cab10bf169231c3b9a0', '3f112fb289bac1f05b1a74f7afd73d0dad9ae0e80c6f59107df8cdb1', '164bcd5926595fb14a6a9bdfa6263711f1e81657ce47f1a9ea439ccb', 'f0a489cd79c24ed642d5256650cdb0f98e5344b2c074824b17336ecc', '0f35e4698af78868189072042f755bea621b23e196ec3dd2372ca253', '0b3c21f06ca16236914754283451a7cc64e549c75373335b7717c09e', 'b09baddfd5988158c3a819435de5f508e6fb5e1babae0fd337ba07ac', '64a6d4910232f1acf64becb85f504144f0b60a2b59776f77c9c8a0ee', '9ed3b9447fbafa6505b63e54c66f2bcf14c9f2653d3c0585de45bb14', 'cd4c8dfb74ae00d4ec8387e8837370d2f9fd4ad5e54ff56c9878f839']"
   ]
  },
  {
   "cell_type": "code",
   "execution_count": 10,
   "metadata": {},
   "outputs": [],
   "source": [
    "dist = list(set(opt_list))"
   ]
  },
  {
   "cell_type": "code",
   "execution_count": 11,
   "metadata": {},
   "outputs": [
    {
     "name": "stdout",
     "output_type": "stream",
     "text": [
      "20\n",
      "20\n"
     ]
    }
   ],
   "source": [
    "print(len(opt_list))\n",
    "print(len(dist))"
   ]
  },
  {
   "cell_type": "code",
   "execution_count": 12,
   "metadata": {},
   "outputs": [],
   "source": [
    "opt_dict = {}\n",
    "\n",
    "for i in dist:\n",
    "    opt_dict[i] = 10.0"
   ]
  },
  {
   "cell_type": "code",
   "execution_count": 13,
   "metadata": {},
   "outputs": [
    {
     "name": "stdout",
     "output_type": "stream",
     "text": [
      "{'368b3f927702b41932c1075690d6eeba50254e115711ea09825c0c9c': 10.0, 'e189425e090fce77131c907ebf1468461240dd27d4457a40d701e43e': 10.0, '5b2ff2a69fb7bd6a032938e468684773bcc668928b037bbec0ac8335': 10.0, 'b09baddfd5988158c3a819435de5f508e6fb5e1babae0fd337ba07ac': 10.0, 'bc7193984167c71913195a0abce257da8748eb7d4b76769dceef2d3f': 10.0, '0f35e4698af78868189072042f755bea621b23e196ec3dd2372ca253': 10.0, 'cd4c8dfb74ae00d4ec8387e8837370d2f9fd4ad5e54ff56c9878f839': 10.0, '9860ae00c69ec5f62a57f92b2877531856501cab10bf169231c3b9a0': 10.0, 'a320ddb3757b01284fda83a0e3c578c5f2f64f0ce6fab4668551b443': 10.0, 'f0a489cd79c24ed642d5256650cdb0f98e5344b2c074824b17336ecc': 10.0, '3f112fb289bac1f05b1a74f7afd73d0dad9ae0e80c6f59107df8cdb1': 10.0, 'fb44fedb5e2cc8d07bdd0b6fb6f327584934b65e8fb8e97e63bb7532': 10.0, '9ed3b9447fbafa6505b63e54c66f2bcf14c9f2653d3c0585de45bb14': 10.0, '55396c1492cc3823f0701ef923544f9f4c1af584b69f4ce5650dc5ae': 10.0, '0b3c21f06ca16236914754283451a7cc64e549c75373335b7717c09e': 10.0, '4adaee2f919129a728a81156383c0a0b04988e7bc84e82c9b95523a9': 10.0, '3d15f069778b9af5a2330e3dc34ba771954d176a2e0bad76d157aeca': 10.0, '164bcd5926595fb14a6a9bdfa6263711f1e81657ce47f1a9ea439ccb': 10.0, '2198be2381e37a3334f25c59fbeede1694f6fea560c8926b33da47aa': 10.0, '64a6d4910232f1acf64becb85f504144f0b60a2b59776f77c9c8a0ee': 10.0}\n"
     ]
    }
   ],
   "source": [
    "print(opt_dict)"
   ]
  },
  {
   "cell_type": "code",
   "execution_count": 14,
   "metadata": {},
   "outputs": [],
   "source": [
    "with open('/data/localhost/not-backed-up/mokaya/exscientia/aizynthfinder/Maranga/experiments/target_2/opt_dicts/opt11_class.json', 'w') as f:\n",
    "    json.dump(opt_dict , f)"
   ]
  },
  {
   "cell_type": "code",
   "execution_count": 5,
   "metadata": {},
   "outputs": [],
   "source": [
    "all_dicts = []\n",
    "for i in opt_list:\n",
    "    opt_dict = {}\n",
    "    opt_dict[i] = 10.0\n",
    "    all_dicts.append(opt_dict)"
   ]
  },
  {
   "cell_type": "code",
   "execution_count": 8,
   "metadata": {},
   "outputs": [
    {
     "name": "stdout",
     "output_type": "stream",
     "text": [
      "[{'Unassigned': 10.0}, {'Heteroaryl N-alkylation': 10.0}, {'Halogenation': 10.0}, {'Reductive amination': 10.0}, {'Alcohol to halide': 10.0}, {'RCO2H deprotections': 10.0}, {'Other reductions': 10.0}, {'O-containing heterocycle formation': 10.0}, {'Other functional group interconversion': 10.0}, {'Stille reaction': 10.0}, {'Ketone to alcohol': 10.0}, {'ROH deprotections': 10.0}, {'O-substitution': 10.0}, {'Friedel-Crafts reaction': 10.0}, {'NH deprotections': 10.0}, {'O-sulfonylation': 10.0}, {'S-substitution': 10.0}, {'N-substitution with alkyl-X': 10.0}, {'Nitro to amine reduction': 10.0}, {'Amide to amine reduction': 10.0}, {'N-arylation with Ar-X': 10.0}, {'Other deprotections': 10.0}, {'Alkene to alkane': 10.0}, {'O-acylation to ester': 10.0}, {'NH protections': 10.0}, {'Dehydration': 10.0}, {'N-acylation to amide': 10.0}]\n"
     ]
    }
   ],
   "source": [
    "print(all_dicts)"
   ]
  },
  {
   "cell_type": "code",
   "execution_count": 10,
   "metadata": {},
   "outputs": [],
   "source": [
    "for ind, i in enumerate(all_dicts):\n",
    "    with open(\"/data/localhost/not-backed-up/mokaya/exscientia/aizynthfinder/Maranga/experiments/target_2/opt4_class_{}.json\".format(ind), 'w') as f:\n",
    "        json.dump(i , f)\n",
    "        f.close()"
   ]
  },
  {
   "cell_type": "code",
   "execution_count": 6,
   "metadata": {},
   "outputs": [
    {
     "name": "stdout",
     "output_type": "stream",
     "text": [
      "{'N-substitution with alkyl-X': 10.0, 'N-arylation with Ar-X': 10.0, 'Heteroaryl N-alkylation': 10.0, 'NH deprotections': 10.0, 'O-substitution': 10.0, 'Other functional group interconversion': 10.0, 'S-substitution': 10.0, 'O-containing heterocycle formation': 10.0, 'N-acylation to amide': 10.0, 'NH protections': 10.0, 'Other reductions': 10.0, 'O-acylation to ester': 10.0, 'Unassigned': 10.0, 'Stille reaction': 10.0, 'Halogenation': 10.0, 'Nitro to amine reduction': 10.0, 'Reductive amination': 10.0, 'Dehydration': 10.0, 'Friedel-Crafts reaction': 10.0, 'Alkene to alkane': 10.0, 'Other deprotections': 10.0, 'Ketone to alcohol': 10.0, 'ROH deprotections': 10.0, 'RCO2H deprotections': 10.0, 'Alcohol to halide': 10.0, 'Amide to amine reduction': 10.0, 'O-sulfonylation': 10.0}\n",
      "dict_keys(['N-substitution with alkyl-X', 'N-arylation with Ar-X', 'Heteroaryl N-alkylation', 'NH deprotections', 'O-substitution', 'Other functional group interconversion', 'S-substitution', 'O-containing heterocycle formation', 'N-acylation to amide', 'NH protections', 'Other reductions', 'O-acylation to ester', 'Unassigned', 'Stille reaction', 'Halogenation', 'Nitro to amine reduction', 'Reductive amination', 'Dehydration', 'Friedel-Crafts reaction', 'Alkene to alkane', 'Other deprotections', 'Ketone to alcohol', 'ROH deprotections', 'RCO2H deprotections', 'Alcohol to halide', 'Amide to amine reduction', 'O-sulfonylation'])\n"
     ]
    }
   ],
   "source": [
    "# load item change value, save and close\n",
    "\n",
    "with open('/data/localhost/not-backed-up/mokaya/exscientia/aizynthfinder/Maranga/experiments/target_2/opt_dicts/opt4_class.json') as read_file: \n",
    "    #read in config\n",
    "    dict1 = json.load(read_file)\n",
    "    \n",
    "print(dict1)\n",
    "print(dict1.keys())"
   ]
  },
  {
   "cell_type": "code",
   "execution_count": 20,
   "metadata": {},
   "outputs": [
    {
     "ename": "SyntaxError",
     "evalue": "invalid syntax (<ipython-input-20-0dc434e75d34>, line 1)",
     "output_type": "error",
     "traceback": [
      "\u001b[0;36m  File \u001b[0;32m\"<ipython-input-20-0dc434e75d34>\"\u001b[0;36m, line \u001b[0;32m1\u001b[0m\n\u001b[0;31m    dict1 = {'properties': 'policy_values': '/data/localhost/not-backed-up/mokaya/exscientia/aizynthfinder/Maranga/experiments/target/opt4_class_0.json'\u001b[0m\n\u001b[0m                                          ^\u001b[0m\n\u001b[0;31mSyntaxError\u001b[0m\u001b[0;31m:\u001b[0m invalid syntax\n"
     ]
    }
   ],
   "source": [
    "dict1 = {'properties': 'policy_values': '/data/localhost/not-backed-up/mokaya/exscientia/aizynthfinder/Maranga/experiments/target/opt4_class_0.json'\n",
    "  'use_prior': true\n",
    "  'iteration_limit': 100\n",
    "  'return_first': false\n",
    "  'time_limit': 240\n",
    "  C: 1.4\n",
    "  cutoff_cumulative: 0.95\n",
    "  cutoff_number: 100\n",
    "  max_transforms: 15\n",
    "policy:\n",
    "  files:\n",
    "    uspto:\n",
    "      - /data/localhost/not-backed-up/mokaya/exscientia/aizynthfinder/aizynthfinder/data/uspto_model.hdf5\n",
    "      - /data/localhost/not-backed-up/mokaya/exscientia/aizynthfinder/aizynthfinder/data/uspto_templates.hdf5\n",
    "filter:\n",
    "  files:\n",
    "    uspto: /data/localhost/not-backed-up/mokaya/exscientia/aizynthfinder/aizynthfinder/data/uspto_filter_model.hdf5\n",
    "stock:\n",
    "  files:\n",
    "    molport: /data/localhost/not-backed-up/mokaya/exscientia/aizynthfinder/aizynthfinder/data/molport_blocks_stock.hdf5"
   ]
  },
  {
   "cell_type": "code",
   "execution_count": null,
   "metadata": {},
   "outputs": [],
   "source": []
  }
 ],
 "metadata": {
  "kernelspec": {
   "display_name": "aizynthfinder",
   "language": "python",
   "name": "aizynthfinder"
  },
  "language_info": {
   "codemirror_mode": {
    "name": "ipython",
    "version": 3
   },
   "file_extension": ".py",
   "mimetype": "text/x-python",
   "name": "python",
   "nbconvert_exporter": "python",
   "pygments_lexer": "ipython3",
   "version": "3.8.8"
  }
 },
 "nbformat": 4,
 "nbformat_minor": 4
}