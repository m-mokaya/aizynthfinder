{
 "cells": [
  {
   "cell_type": "code",
   "execution_count": 1,
   "metadata": {},
   "outputs": [],
   "source": [
    "# Notebook to view the classifications of reactions used for set of retrosynthetic routes"
   ]
  },
  {
   "cell_type": "code",
   "execution_count": 27,
   "metadata": {},
   "outputs": [],
   "source": [
    "import pandas as pd\n",
    "import json\n",
    "import sys\n",
    "import os\n",
    "import ast\n",
    "import numpy as np\n",
    "\n",
    "sys.path.append('../../../')\n",
    "\n",
    "#import aizynthfinder.chem as chem\n",
    "import aizynthfinder.analysis\n",
    "\n",
    "from aizynthfinder.mcts.node import Node\n",
    "from aizynthfinder.analysis import ReactionTree\n",
    "from aizynthfinder.mcts.state import State\n",
    "from aizynthfinder.chem import TreeMolecule\n",
    "from aizynthfinder.context.collection import ContextCollection\n",
    "from aizynthfinder.context.stock import StockException\n",
    "\n",
    "from Maranga.utils.parse_multismiles import findkeys\n",
    "\n",
    "import matplotlib.pyplot as plt"
   ]
  },
  {
   "cell_type": "code",
   "execution_count": 2,
   "metadata": {},
   "outputs": [],
   "source": [
    "file_ext = '/data/localhost/not-backed-up/mokaya/exscientia/'"
   ]
  },
  {
   "cell_type": "code",
   "execution_count": 13,
   "metadata": {},
   "outputs": [],
   "source": [
    "#load in opt_hashes\n",
    "with open('/data/localhost/not-backed-up/mokaya/exscientia/aizynthfinder/Maranga/experiments/target_2/results/opt4_class/opt_hashes.json', 'r') as f:\n",
    "    s_opt_hash = json.load(f)"
   ]
  },
  {
   "cell_type": "code",
   "execution_count": 3,
   "metadata": {},
   "outputs": [
    {
     "name": "stdout",
     "output_type": "stream",
     "text": [
      "28\n"
     ]
    }
   ],
   "source": [
    "# Load from hdf5 file\n",
    "hdf_file = '/data/localhost/not-backed-up/mokaya/exscientia/aizynthfinder/Maranga/experiments/target_2/results/std/tg2_std_results.hdf5'\n",
    "\n",
    "data = pd.read_hdf(hdf_file, 'table')\n",
    "solved_data = data.loc[(data.is_solved==True)]\n",
    "print(len(solved_data))\n",
    "reactions_1 = solved_data.trees.values"
   ]
  },
  {
   "cell_type": "code",
   "execution_count": 4,
   "metadata": {},
   "outputs": [],
   "source": [
    "# # file location of json file\n",
    "# json_file_1 = os.path.join(file_ext, 'aizynthfinder/Maranga/experiments/target_2/results/opt4_class/tg2_std_opt4_novelrxns.json')\n",
    "\n",
    "# with open(json_file_1) as f:\n",
    "#     data_1 = json.load(f)\n",
    "\n",
    "# data_1_r = data_1.get('reaction trees')\n",
    "# #data_1_r = [ast.literal_eval(i) for i in data_1_r]\n",
    "# reactions_1 = [json.loads(i) for i in data_1_r]"
   ]
  },
  {
   "cell_type": "code",
   "execution_count": 5,
   "metadata": {},
   "outputs": [],
   "source": [
    "#  # file location of json file\n",
    "# json_file_2 = '/data/localhost/not-backed-up/mokaya/exscientia/aizynthfinder/Maranga/experiments/target_2/results/tg2_std_solved.json'\n",
    "\n",
    "# with open(json_file_2) as f:\n",
    "#     data_2 = json.load(f)\n",
    "\n",
    "# data_2_r = data_2.get('reaction trees')\n",
    "# reactions_2 = [json.loads(i) for i in data_2_r]"
   ]
  },
  {
   "cell_type": "code",
   "execution_count": 10,
   "metadata": {},
   "outputs": [],
   "source": [
    "# Load from hdf5 file\n",
    "hdf_file = '/data/localhost/not-backed-up/mokaya/exscientia/aizynthfinder/Maranga/experiments/target_2/results/opt4_class/hdf5/tg2_results_std_opt4_4.hdf5'\n",
    "\n",
    "data_3 = pd.read_hdf(hdf_file, 'table')\n",
    "\n",
    "solved_data_3 = data.loc[(data_3.is_solved==True)]\n",
    "reactions_3 = solved_data_3.trees.values"
   ]
  },
  {
   "cell_type": "code",
   "execution_count": 4,
   "metadata": {},
   "outputs": [],
   "source": [
    "# find classifications from list of reactio dicts and retuirn a dict with frequency\n",
    "def count_reactions(rxns):\n",
    "    templates = []\n",
    "    templates_dict = {}\n",
    "    for i in rxns:\n",
    "        templates.extend(list(findkeys(i, 'template_hash')))\n",
    "\n",
    "    print('# Templates: ', len(templates))\n",
    "\n",
    "    for i in templates:\n",
    "        if i in templates_dict:\n",
    "            templates_dict[i] += 1\n",
    "        else:\n",
    "            templates_dict[i] = 1\n",
    "    return templates_dict\n"
   ]
  },
  {
   "cell_type": "code",
   "execution_count": 5,
   "metadata": {},
   "outputs": [
    {
     "name": "stdout",
     "output_type": "stream",
     "text": [
      "# Templates:  1226\n",
      "172\n"
     ]
    }
   ],
   "source": [
    "templates_1 = count_reactions(reactions_1)\n",
    "s_templates_1 = dict(sorted(templates_1.items(), key=lambda kv: kv[1], reverse=True))\n",
    "print(len(s_templates_1))\n",
    "\n"
   ]
  },
  {
   "cell_type": "code",
   "execution_count": 37,
   "metadata": {},
   "outputs": [
    {
     "name": "stdout",
     "output_type": "stream",
     "text": [
      "['Acid to acid chloride', 'N-substitution with alkyl-X', 'Other deprotections', 'Nitro to amine reduction', 'Alcohol to halide', 'O-substitution', 'Ketone to alcohol', 'O-acylation to ester', 'Heteroaryl N-alkylation', 'N-arylation with Ar-X']\n"
     ]
    }
   ],
   "source": [
    "import random\n",
    "\n",
    "random10 = random.sample(s_templates_1.keys(), 10)\n",
    "print(random10)"
   ]
  },
  {
   "cell_type": "code",
   "execution_count": null,
   "metadata": {},
   "outputs": [],
   "source": []
  },
  {
   "cell_type": "code",
   "execution_count": 24,
   "metadata": {},
   "outputs": [
    {
     "name": "stdout",
     "output_type": "stream",
     "text": [
      "# Templates:  1226\n",
      "37\n"
     ]
    }
   ],
   "source": [
    "templates_2 = count_reactions(reactions_2)\n",
    "print(len(templates_2))\n",
    "s_templates_2 = dict(sorted(templates_2.items(), key=lambda kv: kv[1], reverse=True))"
   ]
  },
  {
   "cell_type": "code",
   "execution_count": 11,
   "metadata": {},
   "outputs": [
    {
     "name": "stdout",
     "output_type": "stream",
     "text": [
      "# Templates:  1790\n",
      "180\n"
     ]
    }
   ],
   "source": [
    "templates_3 = count_reactions(reactions_3)\n",
    "print(len(templates_3))\n",
    "s_templates_3 = dict(sorted(templates_3.items(), key=lambda kv: kv[1], reverse=True))"
   ]
  },
  {
   "cell_type": "code",
   "execution_count": 6,
   "metadata": {},
   "outputs": [
    {
     "name": "stdout",
     "output_type": "stream",
     "text": [
      "e2c3ee5da9aa9675ad987be40beb5130d31e54544c07aad9093e3547 102       \n",
      "cca685540fa090059d4b84008cff5859b106a1b153e3a038da801bc9 102       \n",
      "69b86575f88b9f0c270424306fd5889c8e4ec122f68301130afe06ca 101       \n",
      "9a5276992ccda13b6431b631a7a99deea628d1ae4a1226bec315ced4 95        \n",
      "9a4c5ceadb3b4a753bb8f03491f138cd875a84f1d327e818237f90df 88        \n",
      "49c1628032788008e8b4aa844c67dfa3dc3da53c87bef32faff5e68f 80        \n",
      "53994dd2d8bb14288cdfb7c2951155e80ca49e2c98f7d531177a38b3 38        \n",
      "c38df6bb72f417e54d2346e687e032ed86554f208af48effa9422912 28        \n",
      "164bcd5926595fb14a6a9bdfa6263711f1e81657ce47f1a9ea439ccb 22        \n",
      "cdf64d3572667bc7e141ba45c11101067cadbeb96e61acfa3c7a910d 20        \n",
      "874f533cb23b97c467028e6036fbaafdbd21166dcb2c66b52ef718e1 19        \n",
      "0a02d2d47df007d05d29f7b852c5bfe9dcbd7a32224d027cc636bd27 19        \n",
      "bc7193984167c71913195a0abce257da8748eb7d4b76769dceef2d3f 18        \n",
      "1eecabe0173fa39f206a365ccea98e2b763ff157e33c23433b777de4 16        \n",
      "e189425e090fce77131c907ebf1468461240dd27d4457a40d701e43e 13        \n",
      "4330ec77fbf18cb0dde0ff33c2312f5657057c4617c52317baf0c95d 11        \n",
      "e6a2bdbcc4f5a07d16d1378bda9062f49c0e662afb341f561c32304a 11        \n",
      "c0b6d11f5f84b80b77886c883720fd851f0f367226589724f610ad4e 11        \n",
      "0106d81e76bebb85b11172629556291776374f8f143385962b178eb3 10        \n",
      "6e929049cd21721652c195585e552c4169b91f835e2013417b912693 10        \n",
      "61df3886a0291f08a9e9f8293588d04d916daa376a54f86534b439c2 10        \n",
      "a6631af41b21b01ef30bc6f050ba77f4649f41c184ba7ddaa745a395 10        \n",
      "490105cc38d6b77bea0da3abd8507718a67b3eeea61738fd7e4648d2 9         \n",
      "0b3c21f06ca16236914754283451a7cc64e549c75373335b7717c09e 9         \n",
      "fb44fedb5e2cc8d07bdd0b6fb6f327584934b65e8fb8e97e63bb7532 8         \n",
      "f50e6edd43215fd09e75ad8277fe209f633bdb24972a58fad4063f8f 8         \n",
      "491647e089969205d82bcdacc23232b9964014fa5e105ea540db7ba8 8         \n",
      "84cba62ead5314a4bd98891d749886ccfe4174585a65261599c12670 7         \n",
      "571615ea808e89a8f56883f704f80000c85502bd4345098a9fb594e9 7         \n",
      "64a6d4910232f1acf64becb85f504144f0b60a2b59776f77c9c8a0ee 6         \n",
      "e9afa703b0ce1ae6beee8caa75610d7a9299fc62a12297fdbddaa49d 6         \n",
      "9bf4542b6ebf1b0dbc776e9c158fdb37e9984a15e06ba7fbdad968ad 6         \n",
      "ec4cadfa6747724043a249bd3bb87c9eeb325c6711c85ba00fa25604 6         \n",
      "55396c1492cc3823f0701ef923544f9f4c1af584b69f4ce5650dc5ae 6         \n",
      "afdc04abcbda6a0c77a02783507103a3be5a465b2f073641ceaea1ca 6         \n",
      "368b3f927702b41932c1075690d6eeba50254e115711ea09825c0c9c 5         \n",
      "4cfe0629efd25f60ac82137b46ce3a2c5b8ef77b2783726545e08e5d 5         \n",
      "41ef56bad32f088936eb0ea52941924fa9d3a0c1b9f60e4c2c7ef9ae 5         \n",
      "0d80cfa7f9d1ab63ceb7fdd7712d6120524088f3751de74832ede90b 5         \n",
      "c558acaa3102f970d9cf390a86d77cc5b532eb6c24249bc9fee65f32 5         \n",
      "3ce1f4f533aa839698b3882185adcd4524eb6157f8dce3089b2b5a90 5         \n",
      "a320ddb3757b01284fda83a0e3c578c5f2f64f0ce6fab4668551b443 5         \n",
      "223b29ca83f5c389b6ec54b1d0a7d0893a5e8a81e9fed9957bbcb57f 5         \n",
      "776ef38231861dc4f1a1b0673f8a5b2acb11c756c437ddf192c47e36 5         \n",
      "397c6727c6e12f6f4cf7284922e95b275029b3d5ae63102208155aee 4         \n",
      "f4b38824f683bf381c9aa5fd7b484bbde56e2482c8df45c4f3383d61 4         \n",
      "04aac57316494f5621172b80523cd496e017f4d0104703ad33b2fa4b 4         \n",
      "19ea0b41ce34ad96a8275f097d0c11f47736ca7f973cd7c4aee5b189 4         \n",
      "f0a489cd79c24ed642d5256650cdb0f98e5344b2c074824b17336ecc 4         \n",
      "96be621effdd90c792899a6a93b780dc3489e8b772511ad36a4015c9 4         \n",
      "5d0e903c6bfb5b19534e0041886e3660ae8325955a5dfb16c85fc7d9 4         \n",
      "782bf8d5a2ffe41551f705ac6cb3e5edf1298a11e59e03f365b83419 4         \n",
      "5b2ff2a69fb7bd6a032938e468684773bcc668928b037bbec0ac8335 4         \n",
      "243d4d70ed956e3ba4e5bc0d489e1112d3a0eba27892f1d71f3a13af 4         \n",
      "9700dfbbea18932b10f40ed49527a6efd0b261364d0b5e3b1e240441 4         \n",
      "3a5560eae7465a0cc85354aacbdde7007cfdee76590f0d68b2f79fee 4         \n",
      "faafe15908733f62a51dcacbeeefe13083c70721f4a054ab98175e58 4         \n",
      "30f3b6d11f39f1b5e9bca8de6a88c092d203da3455758c1e85e9f02a 4         \n",
      "b7b6f2efc722a1cbfc7ef551228f4090dbd1a72d44d2cead0bb05872 3         \n",
      "44c785fb5a8d587d2ec1ca5060ffda34ecfc782c8160e866fb6e01e9 3         \n",
      "21f1516d1bc55470578e44cfd7467daa0d35e9d7afb976a677af3083 3         \n",
      "501050fd83a951204010154c86c5c53f5a81532ed38ee6aae2c98ef9 3         \n",
      "cd43bf36485e3d947480c17977c7dddb0a0e5816a29f4aeac5d058d3 3         \n",
      "3d15f069778b9af5a2330e3dc34ba771954d176a2e0bad76d157aeca 3         \n",
      "4aeb94f05a2554de6f7fe6d26a2b278fffe8b9e8dcd005e84f5d2923 3         \n",
      "2198be2381e37a3334f25c59fbeede1694f6fea560c8926b33da47aa 3         \n",
      "3d318435686eb05bc5adf30e13086f008cb15993c9575c154f5ede63 3         \n",
      "5f978a847bba3863bf5fb6d96bfd1d3cace2da93615c40c010102dd5 3         \n",
      "5d359b7d98bebc6ce399b1d7a9963c1021f8786abc95d14d5129c6d5 3         \n",
      "0626c67fe59485548b7c45c6f95fd4a8225d88d4553d8afbdd8dd5c3 3         \n",
      "d775cf39c89817610201eb77d7f2c05750999ab6870ec4bcf35a0a78 3         \n",
      "4d4a0dc6d6d549d7df2788d8d1f27513ad4264b446e339f7599f49e5 3         \n",
      "5aae93a61569145ed18632d801932cdc99b7a496825e1c5156904263 3         \n",
      "2a680215c1c69f116045ff1696194ac3ca890d5406b0abc3856bedc8 3         \n",
      "9860ae00c69ec5f62a57f92b2877531856501cab10bf169231c3b9a0 3         \n",
      "6744b6da9ed990d9e04bc2e5cba97e24866326ef579e4c88e3392980 3         \n",
      "d9439a9c947dce4bab09fd7d3897d86f374c7c7408248952ba7edd29 3         \n",
      "4adaee2f919129a728a81156383c0a0b04988e7bc84e82c9b95523a9 3         \n",
      "f58207c6c64a5b48e40756ac3ba50fe69cdf9b1d18b6063ebd95ff15 3         \n",
      "e4209383939f49c0378a8859c2af8829f35179fef3a6302d2bd2297e 3         \n",
      "dd2fdbd233407626d24330af0096988c30d6471ee9a6e9d629c560da 3         \n",
      "6f544a9b286c4786b46429a74b4a72e536e22ba10273cfcd1d3d737e 3         \n",
      "9291446e8f55b6f86c8d5201b11155cb95dda4254b057ed2d058f721 3         \n",
      "99db519e153161d9e1a0b089bc1dd8038bb89ab236fbb46bac2ac4f7 3         \n",
      "9ed3b9447fbafa6505b63e54c66f2bcf14c9f2653d3c0585de45bb14 2         \n",
      "d321d43c6fab3cb383516dc9c11de7de4aa1024ba89b0d68e1c1f722 2         \n",
      "5136ed1521abf9884891419e6ea0cba8e8725addd208a98f601ab364 2         \n",
      "84b5e1d28e550f78882f7c153822152b20e04d07131d106a9db5673f 2         \n",
      "ace077327b65885e2493775e77cea5434d2da2918de8308af58629a6 2         \n",
      "95e944b0bcd838bf90fb367a5b7fe79d4dc0134e5def5cf37cca343a 2         \n",
      "cd3fd28f00ca2c630c3b7c27a7a5457bdd834a12787eaf1df9501fd2 2         \n",
      "d8e154d3775812c745ab92044a202c83dcbb7349540b7fe48f0f396d 2         \n",
      "ee5e6a32a920e1ba097da36f0ff9430de5d8e4b7860e9e03690e5b68 2         \n",
      "f96c40bf02880ec1ad4e904cade957ea5e76e19468c355c581b3c8c8 2         \n",
      "89f0035837f1d13d5fcec24e5ca3375cf275a00d3c3a3e14ffedf66e 2         \n",
      "5ebffb3e4719772b03abeda4ff47650ea22369251e4dfdf31f6523ba 2         \n",
      "0f35e4698af78868189072042f755bea621b23e196ec3dd2372ca253 2         \n",
      "b53a00627033c015a02275a68480e22f4e46f9df18b7c92df7b6ba0d 2         \n",
      "c6aa92c1629c5b64400c886935638b7b3f5321965d97c9db33cc5f6f 2         \n",
      "2f9adf7a5323d651eaf0205149a2a57bde8c458a90e2a0fb7f375d6c 2         \n",
      "79d709e8ed19b20cb8f655792e21fd8158297657ee7fe94f0517932a 2         \n",
      "7a98b0b87a81b3315007bd639695c7a22b3ecfa81f3590f97d2e00a0 2         \n",
      "d67865a62d5eb104702a15302f20da51bc1944029edf93ccd3d472b9 2         \n",
      "51423705333aa191917ec4d45dee65b32402addcfca8dc55e4e6e37b 2         \n",
      "2fc1c8d9a996af80cb3bbb0dbcb1389e3f8f4f85ddc75376e3c9e64b 2         \n",
      "3625aaa32d5e1baefaf96db398cc1371c8f3a075fd478629411cac83 2         \n",
      "7de7096faf6d2371b3e516981e65b03fd948d01c7a7c47ffeee407fc 2         \n",
      "64f8699aa58f42c86d12276dfee65012b38e22e68afa6d6ed5b26453 2         \n",
      "adfa2bcf2ed92d2f2015f257b0380d51610a9b12d9d1ba05d4038674 2         \n",
      "cd4c8dfb74ae00d4ec8387e8837370d2f9fd4ad5e54ff56c9878f839 2         \n",
      "6c83f45f485301792011c63e6835be21ece3be24f5b32a6e45acc5be 2         \n",
      "de6af4e625235675a1c9b68295130891782e9082981a4c22338c2d2b 2         \n",
      "24bfb5ad3ab8733272e525d8abbb9a15cb47ad42b086b8eb67a527f9 2         \n",
      "48da85188cfcb64f46d4ea1bb3ea877a1f572e8068af659846658d4f 2         \n",
      "6a0626af2588944873e4b3030d4d6a8ec90610d1a5d941580d94be77 2         \n",
      "0b9a9479b1c446347ac4a74f966a9f49d5b8033679f7f121b2392e31 2         \n",
      "0f53679774729750968324fa45a796297bf0dc97ec413c3fe75fa763 2         \n",
      "7ba139dd17fd258af1de604b040912f547b4175379a289dbd0962986 1         \n",
      "226c424c2f0f732effd69df54e67734cf26e4b8b4dc8028c14bdaf6a 1         \n",
      "235b66953c00b522d6e1d24772e28d8d336f3a8b81d2c958e383b55a 1         \n",
      "d1937c2484b4f22777f85343045cce2ea837c71f2a46f762c72c76b7 1         \n",
      "e9f441ec127e68da90732c96aaba68c456aa65c80f0149c5430bbdf2 1         \n",
      "641ea3f66971b61c62111ecdbe88c70167fb48d8943d2f9d76501991 1         \n",
      "3f112fb289bac1f05b1a74f7afd73d0dad9ae0e80c6f59107df8cdb1 1         \n",
      "e9e6ddc12c7087adb0d37830da1dc4f8e465efac40216eae85d94f9c 1         \n",
      "ab43fdb7d07dc634653dbd1837069eeab92de794abab67effe20b3da 1         \n",
      "b09baddfd5988158c3a819435de5f508e6fb5e1babae0fd337ba07ac 1         \n",
      "b16058e06e13e3fc52e1861f743cb43b36208716c35d4f6490a5f00b 1         \n",
      "a6a560e6a4e37275ec6c4d64bf3e0ca249f135b1541102f34f75dc07 1         \n",
      "ea516f23add124b9f85cde9ccfc2b2531b45e4d60b77ef5b384cfb0e 1         \n",
      "9837206e9cbc012a1b67dbe24ef91db70782b4def0fddc7be5dd9197 1         \n",
      "b57929d9e3209af75d43bacb21ca1b88be1d99c459fe4b70a2c9beda 1         \n",
      "fc6fab65fb339dbd7dfcd04c121911749ca2392ca0b8fedb59c018a1 1         \n",
      "5c7c98358734164da7cd8fc78e707288537511b909567d4149f86df3 1         \n",
      "60d146fd6d1d5f71f6ef98b9474f4bd0f0f9cec586bef0cc94180dd2 1         \n",
      "8cbd1a1c9605c696db72cde57e5ef46d3de0246e74379fcf154e8ae7 1         \n",
      "c4f108b12719c39b2aa28b4489e5c7c15d1240c9e8fd5aefb447933a 1         \n",
      "f77d2d4d9a15d4520fb2c2b1b543d85bc3ecadfe2bbab957df900989 1         \n",
      "f858818c0c1f2f66f02bcbcb6a52f9947e9808c326bd2f9e81f608a4 1         \n",
      "9376d96863922e887a1f3d93ca23dff993a9d7e5998b24783ac43460 1         \n",
      "c57a8e388b4e9b41f471bbaa1af9e190f1153d143bc208d8ef03d27b 1         \n",
      "ab7d8d02d14878ee3a143792b6d5d074e6c185e8abdf2cfc57b98620 1         \n",
      "ea9f8d80dccdcd80502d80ab51dc8f26cd63ed89bfafd6175b25064e 1         \n",
      "c477578dbbd6525786340e9f57a6f3143381fa9ba90966387e7ec446 1         \n",
      "0832399050bd2e3d5c0553fd5a3c0b80a51a60006d375056ca8f45be 1         \n",
      "805de697d2835fa21a8b41bb8d5b3d25fbf5334799cb807a609fbac0 1         \n",
      "b8574ab562194382031fa205cd12dd4f70593d59ef88fa77fe651ec7 1         \n",
      "5fbd658aecaede25ed81857771b15f7915745ca9308d7eada94dae78 1         \n",
      "7cd7e266aedc14d9b7e5af47d0741a5fd02fa6cefb13f61e640897e5 1         \n",
      "68ed8bbec90a1ac31b5fbc3e08089ca5738aa5e868a05e35b0069282 1         \n",
      "930628898f315299254f63a60eee009c5292259a13e1b0c7dc8bcf7c 1         \n",
      "a7d77ace8169e6422b0d679b606a91f7d2decee976f91184f657dc85 1         \n",
      "a8ad6d981577e38ffa105f9cec0abb9f8b4d3de801fd8006168b839b 1         \n",
      "e90dc892577cf2ac30194cfccc635a1f819320aad538be6aee81716c 1         \n",
      "56b5c31191aefa4c1fcac8790519679cc694954849b9d5deb2a54e0a 1         \n",
      "282e99ef8d8c9452c505eac4bce60a562cfd17decaf0000e682de8e4 1         \n",
      "9530566a7a51605a818515446d3e2d5bdf0af59e8058923825364b37 1         \n",
      "34b6dca157bf4378599a4022b359f133254f6e0d7b05225c4a0852ec 1         \n",
      "3f3ceb507cf93012a6b23ea657d059320825ab2326079c1a8797a27f 1         \n",
      "e79b9f0e956cb38254670cbba4f53d0c22148efe9b15465e130440fe 1         \n",
      "cf1d9c1cfaca7950cbcceb845065f844c6609f4540f3d39060f11bd4 1         \n",
      "c626b51dbfae1ef30104be824476d702942d2ace5ee9f92e8bd851fd 1         \n",
      "06b980a4ac02eb1648e9dc3bafcf52d811d8abe3d76571149104d498 1         \n",
      "77494952857051fb56b0441b3ec8d4563dd28159420bfe58ab4ec208 1         \n",
      "0ef44101f86b26c62fc67b3c5018c4ce5a2b39774c9ad34db6b370ac 1         \n",
      "3c0289611c98a2c0838416cc1e268a907ed33f3c248cdb5dec8265f8 1         \n",
      "1358ee9bd1855fc326c70bc920177be13767210b43b4ea7630c99b39 1         \n",
      "d144676388e68cf6f70553ab5bb077e6a1426d1937f4fb871299967f 1         \n",
      "6b050fdbfc8bf2dfa37571632bd4ac5d5a7c47eddb03caa34a77b172 1         \n",
      "182e9c6cff5e2abb59b06e293844742e1ac0b81e6cb7a58ad7679dfd 1         \n",
      "59f8fb7db3cbf455c98226881dd360106df04985a332e79a683379c8 1         \n",
      "21db762c1d7b329002ff8e42d60fd630af447b13cec7654a7856e00b 1         \n"
     ]
    }
   ],
   "source": [
    "for k, v in s_templates_1.items():\n",
    "    label, num = k, v\n",
    "    print (\"{:<15} {:<10}\".format(label, num))"
   ]
  },
  {
   "cell_type": "code",
   "execution_count": 15,
   "metadata": {},
   "outputs": [
    {
     "name": "stdout",
     "output_type": "stream",
     "text": [
      "fb44fedb5e2cc8d07bdd0b6fb6f327584934b65e8fb8e97e63bb7532 101       \n",
      "55396c1492cc3823f0701ef923544f9f4c1af584b69f4ce5650dc5ae 101       \n",
      "cb56e889c4d58493f51dcb909ba7fe2cb033e7b9cef243223f406e96 72        \n",
      "bcfe289ae0f0e0813b1cd820cd4c7e6af63183ec43374bf2a60f7db7 72        \n",
      "4adaee2f919129a728a81156383c0a0b04988e7bc84e82c9b95523a9 65        \n",
      "e189425e090fce77131c907ebf1468461240dd27d4457a40d701e43e 62        \n",
      "bc7193984167c71913195a0abce257da8748eb7d4b76769dceef2d3f 58        \n",
      "cca685540fa090059d4b84008cff5859b106a1b153e3a038da801bc9 57        \n",
      "69b86575f88b9f0c270424306fd5889c8e4ec122f68301130afe06ca 56        \n",
      "9a4c5ceadb3b4a753bb8f03491f138cd875a84f1d327e818237f90df 55        \n",
      "e2c3ee5da9aa9675ad987be40beb5130d31e54544c07aad9093e3547 51        \n",
      "9a5276992ccda13b6431b631a7a99deea628d1ae4a1226bec315ced4 50        \n",
      "b8d35231a9d964a0bcde41cb860d8e6c4726c2823ff5946d3ed0c3c9 45        \n",
      "49c1628032788008e8b4aa844c67dfa3dc3da53c87bef32faff5e68f 44        \n",
      "164bcd5926595fb14a6a9bdfa6263711f1e81657ce47f1a9ea439ccb 37        \n",
      "b499e0b68ab8cc89df665c73ba592c6e17427fbd5b75a0a04b8fb5db 35        \n",
      "53994dd2d8bb14288cdfb7c2951155e80ca49e2c98f7d531177a38b3 34        \n",
      "a320ddb3757b01284fda83a0e3c578c5f2f64f0ce6fab4668551b443 29        \n",
      "5b2ff2a69fb7bd6a032938e468684773bcc668928b037bbec0ac8335 28        \n",
      "368b3f927702b41932c1075690d6eeba50254e115711ea09825c0c9c 28        \n",
      "c38df6bb72f417e54d2346e687e032ed86554f208af48effa9422912 25        \n",
      "f61aa5587cf130946b59d2654a33e9e781d9fb98e699ec5dc2bb12cc 25        \n",
      "5c0fec24ed7c8903219e40619769ac62e84351cfa10310d491efd2cc 23        \n",
      "2198be2381e37a3334f25c59fbeede1694f6fea560c8926b33da47aa 19        \n",
      "874f533cb23b97c467028e6036fbaafdbd21166dcb2c66b52ef718e1 18        \n",
      "0a02d2d47df007d05d29f7b852c5bfe9dcbd7a32224d027cc636bd27 18        \n",
      "3d15f069778b9af5a2330e3dc34ba771954d176a2e0bad76d157aeca 15        \n",
      "1508c5b0cc30fd12bcd85a481ecdf2409646ced61648be6cfb359dd8 14        \n",
      "0b3c21f06ca16236914754283451a7cc64e549c75373335b7717c09e 14        \n",
      "5a4b471314a9d16582c772175d4da637e8cc4c358126acefcc826e38 13        \n",
      "9860ae00c69ec5f62a57f92b2877531856501cab10bf169231c3b9a0 13        \n",
      "6e929049cd21721652c195585e552c4169b91f835e2013417b912693 12        \n",
      "cdf64d3572667bc7e141ba45c11101067cadbeb96e61acfa3c7a910d 11        \n",
      "1eecabe0173fa39f206a365ccea98e2b763ff157e33c23433b777de4 11        \n",
      "a6631af41b21b01ef30bc6f050ba77f4649f41c184ba7ddaa745a395 11        \n",
      "e6a2bdbcc4f5a07d16d1378bda9062f49c0e662afb341f561c32304a 11        \n",
      "c0b6d11f5f84b80b77886c883720fd851f0f367226589724f610ad4e 11        \n",
      "602e17afce10b895bb09c87badb2604c3948c65a9a67f2f7a1e9169a 10        \n",
      "e21cbc5dc2263b0652396beb92f05fda37bb9f2c606e45a3619c49bf 10        \n",
      "64a6d4910232f1acf64becb85f504144f0b60a2b59776f77c9c8a0ee 9         \n",
      "ed510723a58027934cc530922a15bb4680b6ec41a20fab408e17c010 9         \n",
      "2f6fed0e551b48a2a64b92d204b2d9c396cb66d2fb3210eba31281b5 9         \n",
      "6c7821c898cf26031c2d2c882dcf5bc3e92a06806ad9e5d231acc952 9         \n",
      "f0a489cd79c24ed642d5256650cdb0f98e5344b2c074824b17336ecc 8         \n",
      "f50e6edd43215fd09e75ad8277fe209f633bdb24972a58fad4063f8f 8         \n",
      "83baa43b653b2abc89d5b7630b4a5229baaaa06375c37a301c0f9f45 8         \n",
      "83224be0473e190f3e9801b4a42490bc28eb62b70434bda042317a86 8         \n",
      "37240c9dfd2f4d455017473330da8ff58135ce65c5b7eb51094562b5 8         \n",
      "3f112fb289bac1f05b1a74f7afd73d0dad9ae0e80c6f59107df8cdb1 7         \n",
      "67668ba5815d1162c8975c766cf919e963e250ee6a778e1a2ad1325d 7         \n",
      "493dfbb0afd083041fcf14557ee7dc8217381b2f2e0ce03b2961712e 7         \n",
      "b3fe7ac814fc07c8800f085dfe1339d6cd692028f4dd821b3c37d110 7         \n",
      "544e622f768110c85ab8902a26e25e3bd50d06685c593ee1f776f2c5 7         \n",
      "fa0bb6d907bde4c9e3e81661aedea03d23c0173afd7eccce9c8dc79b 7         \n",
      "8acc1cf57bc285cfdf4bcbae774b5eacdf73460ccfda058e5924dcec 7         \n",
      "41e20f607b9e9b89cd4fe1c124c0263ca345e5973e1fadb9fde6fefb 7         \n",
      "98cae37dbd4becbb5eeeb17ac25b5fb2db3c9049590e6aeb6ef8603f 7         \n",
      "490105cc38d6b77bea0da3abd8507718a67b3eeea61738fd7e4648d2 6         \n",
      "9616130405a6c9ca7b36fcef8547b64e1b0473809046dae0de3f159f 6         \n",
      "87845d9231a98ab7853badc9930dfc95e46c2625250cc8f7105be5b9 6         \n",
      "0106d81e76bebb85b11172629556291776374f8f143385962b178eb3 5         \n",
      "4330ec77fbf18cb0dde0ff33c2312f5657057c4617c52317baf0c95d 5         \n",
      "701cdfdda3ad4b079558ae8f26ac582ff4b30dfe8686db2b01ac2d32 5         \n",
      "0f35e4698af78868189072042f755bea621b23e196ec3dd2372ca253 5         \n",
      "a279567c4bb6b41971b2bc62440d9904ae1fb6210d80a103504244e4 5         \n",
      "9bf4542b6ebf1b0dbc776e9c158fdb37e9984a15e06ba7fbdad968ad 5         \n",
      "4cfe0629efd25f60ac82137b46ce3a2c5b8ef77b2783726545e08e5d 5         \n",
      "41ef56bad32f088936eb0ea52941924fa9d3a0c1b9f60e4c2c7ef9ae 5         \n",
      "9700dfbbea18932b10f40ed49527a6efd0b261364d0b5e3b1e240441 5         \n",
      "6290081537067f620a1d3120c5542c6d2ffe779a5c7381b9a4d69865 4         \n",
      "dfe5182ba25d28919995ae25443f32dc65f0664ec6fc1384ac54a4cd 4         \n",
      "f58207c6c64a5b48e40756ac3ba50fe69cdf9b1d18b6063ebd95ff15 4         \n",
      "e4209383939f49c0378a8859c2af8829f35179fef3a6302d2bd2297e 4         \n",
      "6f544a9b286c4786b46429a74b4a72e536e22ba10273cfcd1d3d737e 4         \n",
      "ea56049b4d5d4b56087c3ae7739b41315088270b3e2d24be93765463 4         \n",
      "c09358045c5762d4b3d908a204858662e92ec8df3fe14960ebdf3caa 4         \n",
      "243d4d70ed956e3ba4e5bc0d489e1112d3a0eba27892f1d71f3a13af 4         \n",
      "afdc04abcbda6a0c77a02783507103a3be5a465b2f073641ceaea1ca 4         \n",
      "3a5560eae7465a0cc85354aacbdde7007cfdee76590f0d68b2f79fee 4         \n",
      "776ef38231861dc4f1a1b0673f8a5b2acb11c756c437ddf192c47e36 4         \n",
      "faafe15908733f62a51dcacbeeefe13083c70721f4a054ab98175e58 4         \n",
      "30f3b6d11f39f1b5e9bca8de6a88c092d203da3455758c1e85e9f02a 4         \n",
      "397c6727c6e12f6f4cf7284922e95b275029b3d5ae63102208155aee 3         \n",
      "9ed3b9447fbafa6505b63e54c66f2bcf14c9f2653d3c0585de45bb14 3         \n",
      "eece798354409c857729b8ffcb1d9784ebdca6b0d62c935232f02dc9 3         \n",
      "cd4c8dfb74ae00d4ec8387e8837370d2f9fd4ad5e54ff56c9878f839 3         \n",
      "4aeb94f05a2554de6f7fe6d26a2b278fffe8b9e8dcd005e84f5d2923 3         \n",
      "3d318435686eb05bc5adf30e13086f008cb15993c9575c154f5ede63 3         \n",
      "491647e089969205d82bcdacc23232b9964014fa5e105ea540db7ba8 3         \n",
      "61df3886a0291f08a9e9f8293588d04d916daa376a54f86534b439c2 3         \n",
      "8cd4817a2f7f46a4d5aadd0bd8250e34751ceff0c936b41a76b0bea7 3         \n",
      "070a946412681dc3cde4c63e0e9dd945476d44bb1aa5127f721cc5fd 3         \n",
      "0626c67fe59485548b7c45c6f95fd4a8225d88d4553d8afbdd8dd5c3 3         \n",
      "d775cf39c89817610201eb77d7f2c05750999ab6870ec4bcf35a0a78 3         \n",
      "5d0e903c6bfb5b19534e0041886e3660ae8325955a5dfb16c85fc7d9 3         \n",
      "0d80cfa7f9d1ab63ceb7fdd7712d6120524088f3751de74832ede90b 3         \n",
      "c558acaa3102f970d9cf390a86d77cc5b532eb6c24249bc9fee65f32 3         \n",
      "84cba62ead5314a4bd98891d749886ccfe4174585a65261599c12670 3         \n",
      "782bf8d5a2ffe41551f705ac6cb3e5edf1298a11e59e03f365b83419 3         \n",
      "5aae93a61569145ed18632d801932cdc99b7a496825e1c5156904263 3         \n",
      "e9afa703b0ce1ae6beee8caa75610d7a9299fc62a12297fdbddaa49d 3         \n",
      "ec4cadfa6747724043a249bd3bb87c9eeb325c6711c85ba00fa25604 3         \n",
      "b7b6f2efc722a1cbfc7ef551228f4090dbd1a72d44d2cead0bb05872 2         \n",
      "f4b38824f683bf381c9aa5fd7b484bbde56e2482c8df45c4f3383d61 2         \n",
      "04aac57316494f5621172b80523cd496e017f4d0104703ad33b2fa4b 2         \n",
      "44c785fb5a8d587d2ec1ca5060ffda34ecfc782c8160e866fb6e01e9 2         \n",
      "21f1516d1bc55470578e44cfd7467daa0d35e9d7afb976a677af3083 2         \n",
      "501050fd83a951204010154c86c5c53f5a81532ed38ee6aae2c98ef9 2         \n",
      "cd43bf36485e3d947480c17977c7dddb0a0e5816a29f4aeac5d058d3 2         \n",
      "19ea0b41ce34ad96a8275f097d0c11f47736ca7f973cd7c4aee5b189 2         \n",
      "cd3fd28f00ca2c630c3b7c27a7a5457bdd834a12787eaf1df9501fd2 2         \n",
      "6b27a332a99fe032e7794ab0d0879a3b27624ed563530aded2cf9def 2         \n",
      "344d98b3e8b761b1d2b6b04465101ac9d4916bb5cdafe072aaa4a500 2         \n",
      "d321d43c6fab3cb383516dc9c11de7de4aa1024ba89b0d68e1c1f722 2         \n",
      "5136ed1521abf9884891419e6ea0cba8e8725addd208a98f601ab364 2         \n",
      "84b5e1d28e550f78882f7c153822152b20e04d07131d106a9db5673f 2         \n",
      "ace077327b65885e2493775e77cea5434d2da2918de8308af58629a6 2         \n",
      "b09baddfd5988158c3a819435de5f508e6fb5e1babae0fd337ba07ac 2         \n",
      "091f396e200e77d2a18415a2de0f629678ffbf02b4f8febd2489ce8d 2         \n",
      "ee5e6a32a920e1ba097da36f0ff9430de5d8e4b7860e9e03690e5b68 2         \n",
      "2a680215c1c69f116045ff1696194ac3ca890d5406b0abc3856bedc8 2         \n",
      "ec36d5143c0e7f77c4c7507b4d62e2a0cadc4fef154fae0e78c819ea 2         \n",
      "52f4067f8874b42787f038d23b3701c33e42fcc46a18d4b2b7532367 2         \n",
      "32b2d076d42f6c5d0d9e42aaee8ea11f9f6bde1dfbde54d0a3f692c3 2         \n",
      "9d4553b4df77d9aa277d90c4eaf3c3500960d3ec8fc0db64c00a323c 2         \n",
      "b53a00627033c015a02275a68480e22f4e46f9df18b7c92df7b6ba0d 2         \n",
      "6744b6da9ed990d9e04bc2e5cba97e24866326ef579e4c88e3392980 2         \n",
      "4d4a0dc6d6d549d7df2788d8d1f27513ad4264b446e339f7599f49e5 2         \n",
      "c6aa92c1629c5b64400c886935638b7b3f5321965d97c9db33cc5f6f 2         \n",
      "2f9adf7a5323d651eaf0205149a2a57bde8c458a90e2a0fb7f375d6c 2         \n",
      "48f3c58ed4b2eb976195200c79ebaafb36d7eb1c6248c7c6424a4457 2         \n",
      "adfa2bcf2ed92d2f2015f257b0380d51610a9b12d9d1ba05d4038674 2         \n",
      "48da85188cfcb64f46d4ea1bb3ea877a1f572e8068af659846658d4f 2         \n",
      "6a0626af2588944873e4b3030d4d6a8ec90610d1a5d941580d94be77 2         \n",
      "0b9a9479b1c446347ac4a74f966a9f49d5b8033679f7f121b2392e31 2         \n",
      "0f53679774729750968324fa45a796297bf0dc97ec413c3fe75fa763 2         \n",
      "9caf7d6bb856ffc7e92818b2cb431133bc33c5b09868c31f8422b1b2 1         \n",
      "2fb324789c7753272dd4812edfe0984dd386da869609c69a39f3f3e1 1         \n",
      "b5a88298537ea9977953536a28ad93c8633219fb868adacd7fa55430 1         \n",
      "2d44cd87675a2c3ec276c36bbd9871ce8f340b2e5da60c9005ba222c 1         \n",
      "a0b2e6de503dcdf511ed8fdaf5247c92e1161d45ad641bb25e002f28 1         \n",
      "8505341f55ce79398eac32d5026ef69fb4643eb768c31986300ce346 1         \n",
      "e9f441ec127e68da90732c96aaba68c456aa65c80f0149c5430bbdf2 1         \n",
      "641ea3f66971b61c62111ecdbe88c70167fb48d8943d2f9d76501991 1         \n",
      "e9e6ddc12c7087adb0d37830da1dc4f8e465efac40216eae85d94f9c 1         \n",
      "ab43fdb7d07dc634653dbd1837069eeab92de794abab67effe20b3da 1         \n",
      "b16058e06e13e3fc52e1861f743cb43b36208716c35d4f6490a5f00b 1         \n",
      "a6a560e6a4e37275ec6c4d64bf3e0ca249f135b1541102f34f75dc07 1         \n",
      "ea516f23add124b9f85cde9ccfc2b2531b45e4d60b77ef5b384cfb0e 1         \n",
      "9837206e9cbc012a1b67dbe24ef91db70782b4def0fddc7be5dd9197 1         \n",
      "b57929d9e3209af75d43bacb21ca1b88be1d99c459fe4b70a2c9beda 1         \n",
      "fc6fab65fb339dbd7dfcd04c121911749ca2392ca0b8fedb59c018a1 1         \n",
      "95e944b0bcd838bf90fb367a5b7fe79d4dc0134e5def5cf37cca343a 1         \n",
      "d38e35be4b83d88f25f3eaf53a9d1fc5a30203bd573b24f00dc80974 1         \n",
      "01eb7ebee28065e078188d8f5911d94043d0ed8be715dde0c587a4a2 1         \n",
      "9d1f2546b62a27bb4bed94827aada3841ca554ed72ba9cef799e64a3 1         \n",
      "ea9f8d80dccdcd80502d80ab51dc8f26cd63ed89bfafd6175b25064e 1         \n",
      "f858818c0c1f2f66f02bcbcb6a52f9947e9808c326bd2f9e81f608a4 1         \n",
      "b8574ab562194382031fa205cd12dd4f70593d59ef88fa77fe651ec7 1         \n",
      "5fbd658aecaede25ed81857771b15f7915745ca9308d7eada94dae78 1         \n",
      "7cd7e266aedc14d9b7e5af47d0741a5fd02fa6cefb13f61e640897e5 1         \n",
      "68ed8bbec90a1ac31b5fbc3e08089ca5738aa5e868a05e35b0069282 1         \n",
      "989f64fd9a06286676d3ada249ae7ab233db3378151ced61e58e0b4d 1         \n",
      "d686b528f7d9a8a5ca4b7eb4214b6610b9efd10376922b8c0f94759f 1         \n",
      "e90dc892577cf2ac30194cfccc635a1f819320aad538be6aee81716c 1         \n",
      "56b5c31191aefa4c1fcac8790519679cc694954849b9d5deb2a54e0a 1         \n",
      "282e99ef8d8c9452c505eac4bce60a562cfd17decaf0000e682de8e4 1         \n",
      "9530566a7a51605a818515446d3e2d5bdf0af59e8058923825364b37 1         \n",
      "5e943d034015a98166c98ef3aead7044729dae35ac57ff26b7efe786 1         \n",
      "cf1d9c1cfaca7950cbcceb845065f844c6609f4540f3d39060f11bd4 1         \n",
      "c626b51dbfae1ef30104be824476d702942d2ace5ee9f92e8bd851fd 1         \n",
      "06b980a4ac02eb1648e9dc3bafcf52d811d8abe3d76571149104d498 1         \n",
      "f96c40bf02880ec1ad4e904cade957ea5e76e19468c355c581b3c8c8 1         \n",
      "77494952857051fb56b0441b3ec8d4563dd28159420bfe58ab4ec208 1         \n",
      "6b050fdbfc8bf2dfa37571632bd4ac5d5a7c47eddb03caa34a77b172 1         \n",
      "182e9c6cff5e2abb59b06e293844742e1ac0b81e6cb7a58ad7679dfd 1         \n",
      "59f8fb7db3cbf455c98226881dd360106df04985a332e79a683379c8 1         \n",
      "d8e154d3775812c745ab92044a202c83dcbb7349540b7fe48f0f396d 1         \n",
      "5d359b7d98bebc6ce399b1d7a9963c1021f8786abc95d14d5129c6d5 1         \n",
      "21db762c1d7b329002ff8e42d60fd630af447b13cec7654a7856e00b 1         \n"
     ]
    }
   ],
   "source": [
    "for k, v in s_templates_3.items():\n",
    "    label, num = k, v\n",
    "    print (\"{:<15} {:<10}\".format(label, num))\n"
   ]
  },
  {
   "cell_type": "markdown",
   "metadata": {},
   "source": []
  },
  {
   "cell_type": "code",
   "execution_count": 23,
   "metadata": {},
   "outputs": [
    {
     "name": "stdout",
     "output_type": "stream",
     "text": [
      "['Alcohol to halide', 'Cyano or imine to amine', 'Alcohol to halide', 'N-substitution with alkyl-X', 'Alcohol to halide', 'RCO2H deprotections', 'O-sulfonylation', 'RCO2H deprotections', 'Other C-C bond formation', 'Dehydration', 'Reductive amination', 'Alcohol to halide', 'Alcohol to halide', 'S-substitution', 'Acid to acid chloride', 'O-substitution', 'Nitro to amine reduction', 'Stille reaction', 'Stille reaction', 'Heteroaryl N-alkylation', 'Reductive amination']\n"
     ]
    }
   ],
   "source": [
    "tem = list(s_templates_3.keys())\n",
    "\n",
    "import random\n",
    "\n",
    "rand21 = random.choices(tem, k=21)\n",
    "print(rand21)"
   ]
  },
  {
   "cell_type": "code",
   "execution_count": 11,
   "metadata": {},
   "outputs": [],
   "source": [
    "opt_list = ['Unassigned', 'Heteroaryl N-alkylation', 'Halogenation', 'Reductive amination', 'Alcohol to halide', 'RCO2H deprotections', 'Other reductions', 'O-containing heterocycle formation', 'Other functional group interconversion', 'Stille reaction', 'Ketone to alcohol', 'ROH deprotections', 'O-substitution', 'Friedel-Crafts reaction', 'NH deprotections', 'O-sulfonylation', 'S-substitution', 'N-substitution with alkyl-X', 'Nitro to amine reduction', 'Amide to amine reduction', 'N-arylation with Ar-X', 'Other deprotections', 'Alkene to alkane', 'O-acylation to ester', 'NH protections', 'Dehydration', 'N-acylation to amide']"
   ]
  },
  {
   "cell_type": "code",
   "execution_count": 19,
   "metadata": {},
   "outputs": [
    {
     "name": "stdout",
     "output_type": "stream",
     "text": [
      "Stille reaction\n",
      "Alkene to alkane\n",
      "NH protections\n",
      "Dehydration\n"
     ]
    }
   ],
   "source": [
    "# determine if any reactions optimised don't feature\n",
    "for i in opt_list:\n",
    "    if i not in s_templates_1.keys():\n",
    "        print(i)"
   ]
  },
  {
   "cell_type": "code",
   "execution_count": 36,
   "metadata": {},
   "outputs": [
    {
     "name": "stdout",
     "output_type": "stream",
     "text": [
      "1199\n"
     ]
    }
   ],
   "source": [
    "print(sum(s_templates_3.values()))"
   ]
  },
  {
   "cell_type": "code",
   "execution_count": 21,
   "metadata": {},
   "outputs": [],
   "source": [
    "def calculate_freq_difference(opt, std, hashes):\n",
    "    difference = {}\n",
    "\n",
    "    for i in hashes:\n",
    "        o = opt.get(i)\n",
    "        s = std.get(i)\n",
    "\n",
    "        opt_total = sum(opt.values())\n",
    "        std_total = sum(std.values())\n",
    "\n",
    "        if o != None and s != None:\n",
    "            difference[i] = (o/opt_total)*100 - (s/std_total)*100\n",
    "        \n",
    "            #print('Reaction not used before/after optimisation.')\n",
    "    \n",
    "    return difference"
   ]
  },
  {
   "cell_type": "code",
   "execution_count": 32,
   "metadata": {},
   "outputs": [],
   "source": [
    "diff = calculate_freq_difference(s_templates_3, s_templates_1, s_opt_hash)\n",
    "s_diff = dict(sorted(diff.items(), key=lambda kv: kv[1], reverse=True))\n",
    "\n",
    "hashes_to_optimise = []\n",
    "for key, val in s_diff.items():\n",
    "    if val > 0:\n",
    "        hashes_to_optimise.append(key)\n",
    "\n"
   ]
  },
  {
   "cell_type": "code",
   "execution_count": 33,
   "metadata": {},
   "outputs": [
    {
     "name": "stdout",
     "output_type": "stream",
     "text": [
      "['55396c1492cc3823f0701ef923544f9f4c1af584b69f4ce5650dc5ae', 'fb44fedb5e2cc8d07bdd0b6fb6f327584934b65e8fb8e97e63bb7532', '4adaee2f919129a728a81156383c0a0b04988e7bc84e82c9b95523a9', 'e189425e090fce77131c907ebf1468461240dd27d4457a40d701e43e', 'bc7193984167c71913195a0abce257da8748eb7d4b76769dceef2d3f', '5b2ff2a69fb7bd6a032938e468684773bcc668928b037bbec0ac8335', 'a320ddb3757b01284fda83a0e3c578c5f2f64f0ce6fab4668551b443', '368b3f927702b41932c1075690d6eeba50254e115711ea09825c0c9c', '2198be2381e37a3334f25c59fbeede1694f6fea560c8926b33da47aa', '3d15f069778b9af5a2330e3dc34ba771954d176a2e0bad76d157aeca', '9860ae00c69ec5f62a57f92b2877531856501cab10bf169231c3b9a0', '3f112fb289bac1f05b1a74f7afd73d0dad9ae0e80c6f59107df8cdb1', '164bcd5926595fb14a6a9bdfa6263711f1e81657ce47f1a9ea439ccb', 'f0a489cd79c24ed642d5256650cdb0f98e5344b2c074824b17336ecc', '0f35e4698af78868189072042f755bea621b23e196ec3dd2372ca253', '0b3c21f06ca16236914754283451a7cc64e549c75373335b7717c09e', 'b09baddfd5988158c3a819435de5f508e6fb5e1babae0fd337ba07ac', '64a6d4910232f1acf64becb85f504144f0b60a2b59776f77c9c8a0ee', '9ed3b9447fbafa6505b63e54c66f2bcf14c9f2653d3c0585de45bb14', 'cd4c8dfb74ae00d4ec8387e8837370d2f9fd4ad5e54ff56c9878f839']\n"
     ]
    }
   ],
   "source": [
    "print(hashes_to_optimise)"
   ]
  },
  {
   "cell_type": "code",
   "execution_count": 31,
   "metadata": {},
   "outputs": [
    {
     "data": {
      "text/plain": "<function matplotlib.pyplot.show(close=None, block=None)>"
     },
     "execution_count": 31,
     "metadata": {},
     "output_type": "execute_result"
    },
    {
     "data": {
      "image/png": "[encoded data removed]",
      "text/plain": "<Figure size 432x288 with 1 Axes>"
     },
     "metadata": {
      "needs_background": "light"
     },
     "output_type": "display_data"
    }
   ],
   "source": [
    "plt.plot(np.arange(len(s_diff.values())), s_diff.values())\n",
    "plt.xticks(rotation=90)\n",
    "plt.xlabel('Templates')\n",
    "plt.ylabel('Difference in FREQ (OPT - STD) / %')\n",
    "plt.axhline(y=0, alpha=0.3, c='red', linestyle='dotted')\n",
    "plt.show"
   ]
  },
  {
   "cell_type": "code",
   "execution_count": 58,
   "metadata": {},
   "outputs": [
    {
     "name": "stdout",
     "output_type": "stream",
     "text": [
      "Dehydration\n"
     ]
    }
   ],
   "source": [
    "to_optimise_hash = []\n",
    "for i in s_templates_2:\n",
    "    if i not in s_templates_1:\n",
    "        print(i)\n",
    "        to_optimise_hash.append(i)"
   ]
  },
  {
   "cell_type": "code",
   "execution_count": 59,
   "metadata": {},
   "outputs": [
    {
     "name": "stdout",
     "output_type": "stream",
     "text": [
      "['Dehydration']\n",
      "Length:  1\n"
     ]
    }
   ],
   "source": [
    "print(to_optimise_hash)\n",
    "print('Length: ', len(to_optimise_hash))"
   ]
  },
  {
   "cell_type": "code",
   "execution_count": 60,
   "metadata": {},
   "outputs": [
    {
     "name": "stdout",
     "output_type": "stream",
     "text": [
      "{'Unassigned': 250, 'Heteroaryl N-alkylation': 201, 'Reductive amination': 158, 'Halogenation': 133, 'RCO2H deprotections': 110, 'Other functional group interconversion': 49, 'O-acylation to ester': 31, 'Amide to amine reduction': 27, 'Other reductions': 26, 'ROH deprotections': 20, 'O-substitution': 20, 'Alcohol to halide': 19, 'N-arylation with Ar-X': 18, 'Alcohols to aldehydes': 15, 'NH deprotections': 15, 'N-acylation to amide': 15, 'Friedel-Crafts reaction': 13, 'Ester to alcohol': 13, 'Stille reaction': 12, 'Acid to acid chloride': 11, 'Alkene oxidative cleavage': 9, 'S-substitution': 9, 'N-substitution with alkyl-X': 8, 'Ketone to alcohol': 8, 'O-sulfonylation': 7, 'Other functional group addition': 5, 'Nitro to amine reduction': 4, 'NH protections': 4, 'O-containing heterocycle formation': 3, 'Alkene to alkane': 3, 'Suzuki coupling': 2, 'Other deprotections': 2, 'Other organometallic C-C bond formation': 2, 'Cyano or imine to amine': 1, 'RSH deprotections': 1, 'Alkyne to alkane': 1, 'Other C-C bond formation': 1}\n"
     ]
    }
   ],
   "source": [
    "print(s_templates_1)"
   ]
  },
  {
   "cell_type": "code",
   "execution_count": 61,
   "metadata": {},
   "outputs": [
    {
     "name": "stdout",
     "output_type": "stream",
     "text": [
      "1226\n",
      "384\n"
     ]
    }
   ],
   "source": [
    "s_total_1 = sum(list(s_templates_1.values()))\n",
    "s_total_2 = sum(list(s_templates_2.values()))\n",
    "print(s_total_1)\n",
    "print(s_total_2)"
   ]
  },
  {
   "cell_type": "code",
   "execution_count": 24,
   "metadata": {},
   "outputs": [
    {
     "ename": "TypeError",
     "evalue": "unhashable type: 'slice'",
     "output_type": "error",
     "traceback": [
      "\u001b[0;31m---------------------------------------------------------------------------\u001b[0m",
      "\u001b[0;31mTypeError\u001b[0m                                 Traceback (most recent call last)",
      "\u001b[0;32m<ipython-input-24-981a6cd973d7>\u001b[0m in \u001b[0;36m<module>\u001b[0;34m\u001b[0m\n\u001b[0;32m----> 1\u001b[0;31m \u001b[0mprint\u001b[0m\u001b[0;34m(\u001b[0m\u001b[0ms_templates_1\u001b[0m\u001b[0;34m[\u001b[0m\u001b[0;34m:\u001b[0m\u001b[0;36m5\u001b[0m\u001b[0;34m]\u001b[0m\u001b[0;34m)\u001b[0m\u001b[0;34m\u001b[0m\u001b[0;34m\u001b[0m\u001b[0m\n\u001b[0m",
      "\u001b[0;31mTypeError\u001b[0m: unhashable type: 'slice'"
     ]
    }
   ],
   "source": []
  },
  {
   "cell_type": "code",
   "execution_count": 62,
   "metadata": {
    "tags": []
   },
   "outputs": [
    {
     "name": "stdout",
     "output_type": "stream",
     "text": [
      "Alcohol to halide\n",
      "prop:  0.015497553017944535\n",
      "p:  0.018505825908156272\n",
      "\n",
      "O-containing heterocycle formation\n",
      "prop:  0.0024469820554649264\n",
      "p:  0.010966415352981495\n",
      "\n"
     ]
    }
   ],
   "source": [
    "for label, val in s_templates_1.items():\n",
    "    prop = val / 1226\n",
    "    for lab, v in s_templates_2.items():\n",
    "        p = v / 1459\n",
    "        if label == lab and p > prop:\n",
    "            print(label)\n",
    "            print('prop: ', prop)\n",
    "            print('p: ', p)\n",
    "            to_optimise_hash.append(label)\n",
    "            print('')"
   ]
  },
  {
   "cell_type": "code",
   "execution_count": 63,
   "metadata": {},
   "outputs": [
    {
     "name": "stdout",
     "output_type": "stream",
     "text": [
      "['Dehydration', 'Alcohol to halide', 'O-containing heterocycle formation']\n",
      "3\n"
     ]
    }
   ],
   "source": [
    "print(to_optimise_hash)\n",
    "print(len(to_optimise_hash))"
   ]
  },
  {
   "cell_type": "code",
   "execution_count": 64,
   "metadata": {},
   "outputs": [
    {
     "name": "stdout",
     "output_type": "stream",
     "text": [
      "3\n"
     ]
    }
   ],
   "source": [
    "print(len(set(to_optimise_hash)))"
   ]
  },
  {
   "cell_type": "code",
   "execution_count": 66,
   "metadata": {},
   "outputs": [
    {
     "name": "stdout",
     "output_type": "stream",
     "text": [
      "[246, 189, 132, 129, 107, 57, 49, 47, 32, 32, 28, 23, 22, 16, 14, 13, 11, 11, 7, 5, 5, 4, 4, 3, 2]\n",
      "[213, 168, 119, 107, 82, 34, 32, 13, 11, 9, 8, 7, 7, 5, 5, 4, 4, 4, 3, 3, 2, 2, 1]\n"
     ]
    },
    {
     "data": {
      "text/plain": "<function matplotlib.pyplot.show(close=None, block=None)>"
     },
     "execution_count": 66,
     "metadata": {},
     "output_type": "execute_result"
    },
    {
     "data": {
      "image/png": "[encoded data removed]",
      "text/plain": "<Figure size 432x288 with 1 Axes>"
     },
     "metadata": {
      "needs_background": "light"
     },
     "output_type": "display_data"
    }
   ],
   "source": [
    "import matplotlib.pyplot as plt\n",
    "\n",
    "temps = list(opt_s_templates_3.keys())\n",
    "dc = list(opt_s_templates_3.values())\n",
    "\n",
    "temps_1 = list(opt_s_templates_1.keys())\n",
    "dc_1 = list(opt_s_templates_1.values())\n",
    "print(dc)\n",
    "print(dc_1)\n",
    "\n",
    "plt.plot(temps, dc)\n",
    "plt.plot(temps_1, dc_1)\n",
    "plt.xticks(rotation=90)\n",
    "plt.xlabel('Tempalte')\n",
    "plt.ylabel('Frequency in Solved Routes')\n",
    "plt.show"
   ]
  },
  {
   "cell_type": "code",
   "execution_count": 58,
   "metadata": {},
   "outputs": [],
   "source": [
    "opt_list = ['Unassigned', 'Heteroaryl N-alkylation', 'Halogenation', 'Reductive amination', 'Alcohol to halide', 'RCO2H deprotections', 'Other reductions', 'O-containing heterocycle formation', 'Other functional group interconversion', 'Stille reaction', 'Ketone to alcohol', 'ROH deprotections', 'O-substitution', 'Friedel-Crafts reaction', 'NH deprotections', 'O-sulfonylation', 'S-substitution', 'N-substitution with alkyl-X', 'Nitro to amine reduction', 'Amide to amine reduction', 'N-arylation with Ar-X', 'Other deprotections', 'Alkene to alkane', 'O-acylation to ester', 'NH protections', 'Dehydration', 'N-acylation to amide']"
   ]
  },
  {
   "cell_type": "code",
   "execution_count": 70,
   "metadata": {},
   "outputs": [
    {
     "ename": "KeyError",
     "evalue": "'Alkene to alkane'",
     "output_type": "error",
     "traceback": [
      "\u001b[0;31m---------------------------------------------------------------------------\u001b[0m",
      "\u001b[0;31mKeyError\u001b[0m                                  Traceback (most recent call last)",
      "\u001b[0;32m<ipython-input-70-7eb779829b30>\u001b[0m in \u001b[0;36m<module>\u001b[0;34m\u001b[0m\n\u001b[1;32m     13\u001b[0m \u001b[0;34m\u001b[0m\u001b[0m\n\u001b[1;32m     14\u001b[0m \u001b[0;32mfor\u001b[0m \u001b[0mkey\u001b[0m \u001b[0;32min\u001b[0m \u001b[0mopt_o_temps\u001b[0m\u001b[0;34m:\u001b[0m\u001b[0;34m\u001b[0m\u001b[0;34m\u001b[0m\u001b[0m\n\u001b[0;32m---> 15\u001b[0;31m     \u001b[0mopt_template_1\u001b[0m\u001b[0;34m[\u001b[0m\u001b[0mkey\u001b[0m\u001b[0;34m]\u001b[0m \u001b[0;34m=\u001b[0m \u001b[0mopt_template_1\u001b[0m\u001b[0;34m.\u001b[0m\u001b[0mpop\u001b[0m\u001b[0;34m(\u001b[0m\u001b[0mkey\u001b[0m\u001b[0;34m)\u001b[0m\u001b[0;34m\u001b[0m\u001b[0;34m\u001b[0m\u001b[0m\n\u001b[0m\u001b[1;32m     16\u001b[0m \u001b[0;34m\u001b[0m\u001b[0m\n\u001b[1;32m     17\u001b[0m \u001b[0mprint\u001b[0m\u001b[0;34m(\u001b[0m\u001b[0mlen\u001b[0m\u001b[0;34m(\u001b[0m\u001b[0mopt_s_templates_3\u001b[0m\u001b[0;34m)\u001b[0m\u001b[0;34m)\u001b[0m\u001b[0;34m\u001b[0m\u001b[0;34m\u001b[0m\u001b[0m\n",
      "\u001b[0;31mKeyError\u001b[0m: 'Alkene to alkane'"
     ]
    }
   ],
   "source": [
    "opt_template_3 = {}\n",
    "for k,v in s_templates_3.items():\n",
    "    if k in opt_list:\n",
    "        opt_template_3[k] = v\n",
    "\n",
    "opt_s_templates_3 = dict(sorted(opt_template_3.items(), key=lambda kv: kv[1], reverse=True))\n",
    "\n",
    "opt_template_1 = {}\n",
    "for k,v in s_templates_1.items():\n",
    "    if k in opt_list:\n",
    "        opt_template_1[k] = v\n",
    "\n",
    "\n",
    "for key in opt_o_temps:\n",
    "    opt_template_1[key] = opt_template_1.pop(key)\n",
    "\n",
    "print(len(opt_s_templates_3))\n"
   ]
  },
  {
   "cell_type": "code",
   "execution_count": 69,
   "metadata": {},
   "outputs": [],
   "source": [
    "o_temps=['Unassigned', 'Heteroaryl N-alkylation', 'Reductive amination', 'RCO2H deprotections', 'Halogenation', 'O-acylation to ester', 'Other functional group interconversion', 'Other reductions', 'Alcohol to halide', 'ROH deprotections', 'O-substitution', 'NH deprotections', 'N-arylation with Ar-X', 'Amide to amine reduction', 'O-sulfonylation', 'Friedel-Crafts reaction', 'N-acylation to amide', 'Alkene to alkane', 'Acid to acid chloride', 'S-substitution', 'N-substitution with alkyl-X', 'NH protections', 'Other deprotections', 'Ketone to alcohol', 'O-containing heterocycle formation', 'Nitro to amine reduction', 'Alcohols to aldehydes']\n",
    "opt_o_temps = [i for i in o_temps if i in opt_list]"
   ]
  },
  {
   "cell_type": "code",
   "execution_count": null,
   "metadata": {},
   "outputs": [],
   "source": []
  }
 ],
 "metadata": {
  "kernelspec": {
   "display_name": "Python 3.7.4 64-bit ('base': conda)",
   "name": "python374jvsc74a57bd07b87193dc311a96dedb26d8e0dfc0dcaa4bf5f3dd89dae4225d4717d78168cf3"
  },
  "language_info": {
   "name": "python",
   "version": ""
  },
  "orig_nbformat": 3
 },
 "nbformat": 4,
 "nbformat_minor": 4
}