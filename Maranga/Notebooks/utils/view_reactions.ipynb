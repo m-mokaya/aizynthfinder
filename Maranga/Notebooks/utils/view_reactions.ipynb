{
 "cells": [
  {
   "cell_type": "code",
   "execution_count": 1,
   "metadata": {},
   "outputs": [],
   "source": [
    "# Notebook to view the classifications of reactions used for set of retrosynthetic routes"
   ]
  },
  {
   "cell_type": "code",
   "execution_count": 1,
   "metadata": {},
   "outputs": [],
   "source": [
    "import pandas as pd\n",
    "import json\n",
    "import sys\n",
    "\n",
    "sys.path.append('../../../')\n",
    "\n",
    "#import aizynthfinder.chem as chem\n",
    "import aizynthfinder.analysis\n",
    "\n",
    "from aizynthfinder.mcts.node import Node\n",
    "from aizynthfinder.analysis import ReactionTree\n",
    "from aizynthfinder.mcts.state import State\n",
    "from aizynthfinder.chem import TreeMolecule\n",
    "from aizynthfinder.context.collection import ContextCollection\n",
    "from aizynthfinder.context.stock import StockException\n",
    "\n",
    "from Maranga.utils.parse_multismiles import findkeys"
   ]
  },
  {
   "cell_type": "code",
   "execution_count": 2,
   "metadata": {},
   "outputs": [],
   "source": [
    "# Load from hdf5 file\n",
    "hdf_file = '/data/localhost/not-backed-up/mokaya/exscientia/aizynthfinder/Maranga/experiments/target_2/results/tg2_std_opt1_results_6.hdf5'\n",
    "\n",
    "data = pd.read_hdf(hdf_file, 'table')\n",
    "\n",
    "solved_data = data.loc[(data.is_solved==True)]\n",
    "reactions_1 = solved_data.trees.values"
   ]
  },
  {
   "cell_type": "code",
   "execution_count": 4,
   "metadata": {
    "tags": []
   },
   "outputs": [],
   "source": [
    "# file location of json file\n",
    "json_file_1 = '/data/localhost/not-backed-up/mokaya/exscientia/aizynthfinder/Maranga/experiments/target_2/results/tg2_std_solved.json'\n",
    "\n",
    "with open(json_file_1) as f:\n",
    "    data_1 = json.load(f)\n",
    "\n",
    "data_1_r = data_1.get('reaction trees')\n",
    "reactions_1 = [json.loads(i) for i in data_1_r]"
   ]
  },
  {
   "cell_type": "code",
   "execution_count": 3,
   "metadata": {},
   "outputs": [],
   "source": [
    " # file location of json file\n",
    "json_file_2 = '/data/localhost/not-backed-up/mokaya/exscientia/aizynthfinder/Maranga/experiments/target_2/results/tg2_std_solved.json'\n",
    "\n",
    "with open(json_file_2) as f:\n",
    "    data_2 = json.load(f)\n",
    "\n",
    "data_2_r = data_2.get('reaction trees')\n",
    "reactions_2 = [json.loads(i) for i in data_2_r]"
   ]
  },
  {
   "cell_type": "code",
   "execution_count": 4,
   "metadata": {},
   "outputs": [],
   "source": [
    "# Load from hdf5 file\n",
    "hdf_file = '/data/localhost/not-backed-up/mokaya/exscientia/aizynthfinder/Maranga/experiments/target_2/results/tg2_std_opt1_results_4.hdf5'\n",
    "\n",
    "data = pd.read_hdf(hdf_file, 'table')\n",
    "\n",
    "solved_data_3 = data.loc[(data.is_solved==True)]\n",
    "reactions_3 = solved_data.trees.values"
   ]
  },
  {
   "cell_type": "code",
   "execution_count": 5,
   "metadata": {},
   "outputs": [],
   "source": [
    "# find classifications from list of reactio dicts and retuirn a dict with frequency\n",
    "def count_reactions(rxns):\n",
    "    templates = []\n",
    "    templates_dict = {}\n",
    "    for i in rxns:\n",
    "        templates.extend(list(findkeys(i, 'classification')))\n",
    "\n",
    "    print('# Templates: ', len(templates))\n",
    "\n",
    "    for i in templates:\n",
    "        if i in templates_dict:\n",
    "            templates_dict[i] += 1\n",
    "        else:\n",
    "            templates_dict[i] = 1\n",
    "    return templates_dict\n"
   ]
  },
  {
   "cell_type": "code",
   "execution_count": 6,
   "metadata": {},
   "outputs": [
    {
     "name": "stdout",
     "output_type": "stream",
     "text": [
      "# Templates:  1596\n"
     ]
    }
   ],
   "source": [
    "templates_1 = count_reactions(reactions_1)\n",
    "s_templates_1 = dict(sorted(templates_1.items(), key=lambda kv: kv[1], reverse=True))\n"
   ]
  },
  {
   "cell_type": "code",
   "execution_count": 7,
   "metadata": {},
   "outputs": [
    {
     "name": "stdout",
     "output_type": "stream",
     "text": [
      "# Templates:  1226\n",
      "37\n"
     ]
    }
   ],
   "source": [
    "templates_2 = count_reactions(reactions_2)\n",
    "print(len(templates_2))\n",
    "s_templates_2 = dict(sorted(templates_2.items(), key=lambda kv: kv[1], reverse=True))"
   ]
  },
  {
   "cell_type": "code",
   "execution_count": 8,
   "metadata": {},
   "outputs": [
    {
     "name": "stdout",
     "output_type": "stream",
     "text": [
      "# Templates:  1596\n",
      "37\n"
     ]
    }
   ],
   "source": [
    "templates_3 = count_reactions(reactions_3)\n",
    "print(len(templates_3))\n",
    "s_templates_3 = dict(sorted(templates_3.items(), key=lambda kv: kv[1], reverse=True))"
   ]
  },
  {
   "cell_type": "code",
   "execution_count": 9,
   "metadata": {},
   "outputs": [
    {
     "name": "stdout",
     "output_type": "stream",
     "text": [
      "Unassigned      273       \n",
      "Heteroaryl N-alkylation 219       \n",
      "RCO2H deprotections 183       \n",
      "Reductive amination 147       \n",
      "O-acylation to ester 121       \n",
      "Halogenation    117       \n",
      "Other functional group interconversion 67        \n",
      "NH deprotections 57        \n",
      "Ester to alcohol 39        \n",
      "ROH deprotections 36        \n",
      "Other reductions 32        \n",
      "NH protections  32        \n",
      "O-substitution  31        \n",
      "Amide to amine reduction 27        \n",
      "Alcohol to halide 26        \n",
      "N-arylation with Ar-X 21        \n",
      "N-acylation to amide 21        \n",
      "O-sulfonylation 20        \n",
      "Friedel-Crafts reaction 15        \n",
      "Alcohols to aldehydes 15        \n",
      "S-substitution  13        \n",
      "Alkene to alkane 13        \n",
      "Dehydration     12        \n",
      "Acid to acid chloride 11        \n",
      "Ketone to alcohol 9         \n",
      "N-substitution with alkyl-X 8         \n",
      "Nitro to amine reduction 6         \n",
      "ROH protections 6         \n",
      "N-containing heterocycle formation 5         \n",
      "O-containing heterocycle formation 3         \n",
      "RSH deprotections 3         \n",
      "Alkene oxidative cleavage 2         \n",
      "Stille reaction 2         \n",
      "Other functional group addition 1         \n",
      "Cyano or imine to amine 1         \n",
      "Alkyne to alkane 1         \n",
      "Other C-C bond formation 1         \n"
     ]
    }
   ],
   "source": [
    "for k, v in s_templates_1.items():\n",
    "    label, num = k, v\n",
    "    print (\"{:<15} {:<10}\".format(label, num))"
   ]
  },
  {
   "cell_type": "code",
   "execution_count": 20,
   "metadata": {},
   "outputs": [
    {
     "name": "stdout",
     "output_type": "stream",
     "text": [
      "Unassigned      250       \n",
      "Heteroaryl N-alkylation 201       \n",
      "Reductive amination 158       \n",
      "Halogenation    133       \n",
      "RCO2H deprotections 110       \n",
      "Other functional group interconversion 49        \n",
      "O-acylation to ester 31        \n",
      "Amide to amine reduction 27        \n",
      "Other reductions 26        \n",
      "ROH deprotections 20        \n",
      "O-substitution  20        \n",
      "Alcohol to halide 19        \n",
      "N-arylation with Ar-X 18        \n",
      "Alcohols to aldehydes 15        \n",
      "NH deprotections 15        \n",
      "N-acylation to amide 15        \n",
      "Friedel-Crafts reaction 13        \n",
      "Ester to alcohol 13        \n",
      "Stille reaction 12        \n",
      "Acid to acid chloride 11        \n",
      "Alkene oxidative cleavage 9         \n",
      "S-substitution  9         \n",
      "N-substitution with alkyl-X 8         \n",
      "Ketone to alcohol 8         \n",
      "O-sulfonylation 7         \n",
      "Other functional group addition 5         \n",
      "Nitro to amine reduction 4         \n",
      "NH protections  4         \n",
      "O-containing heterocycle formation 3         \n",
      "Alkene to alkane 3         \n",
      "Suzuki coupling 2         \n",
      "Other deprotections 2         \n",
      "Other organometallic C-C bond formation 2         \n",
      "Cyano or imine to amine 1         \n",
      "RSH deprotections 1         \n",
      "Alkyne to alkane 1         \n",
      "Other C-C bond formation 1         \n"
     ]
    }
   ],
   "source": [
    "for k, v in s_templates_2.items():\n",
    "    label, num = k, v\n",
    "    print (\"{:<15} {:<10}\".format(label, num))"
   ]
  },
  {
   "cell_type": "code",
   "execution_count": 28,
   "metadata": {},
   "outputs": [
    {
     "name": "stdout",
     "output_type": "stream",
     "text": [
      "Unassigned      254       \n",
      "Heteroaryl N-alkylation 205       \n",
      "Reductive amination 153       \n",
      "RCO2H deprotections 144       \n",
      "Halogenation    121       \n",
      "O-acylation to ester 63        \n",
      "Other functional group interconversion 55        \n",
      "ROH deprotections 28        \n",
      "Other reductions 27        \n",
      "Ester to alcohol 24        \n",
      "Alcohol to halide 23        \n",
      "Amide to amine reduction 22        \n",
      "O-substitution  22        \n",
      "Alcohols to aldehydes 19        \n",
      "NH deprotections 18        \n",
      "N-arylation with Ar-X 15        \n",
      "N-acylation to amide 14        \n",
      "Friedel-Crafts reaction 13        \n",
      "Acid to acid chloride 13        \n",
      "ROH protections 12        \n",
      "O-sulfonylation 12        \n",
      "Ketone to alcohol 10        \n",
      "S-substitution  9         \n",
      "NH protections  9         \n",
      "N-substitution with alkyl-X 8         \n",
      "Other functional group addition 8         \n",
      "Dehydration     6         \n",
      "Alkene to alkane 6         \n",
      "Nitro to amine reduction 5         \n",
      "N-containing heterocycle formation 4         \n",
      "Other deprotections 4         \n",
      "O-containing heterocycle formation 3         \n",
      "Alkene oxidative cleavage 3         \n",
      "Wittig olefination 3         \n",
      "Stille reaction 2         \n",
      "RSH deprotections 1         \n",
      "Alkyne to alkane 1         \n",
      "Other C-C bond formation 1         \n"
     ]
    }
   ],
   "source": [
    "for k, v in s_templates_3.items():\n",
    "    label, num = k, v\n",
    "    print (\"{:<15} {:<10}\".format(label, num))"
   ]
  },
  {
   "cell_type": "code",
   "execution_count": 58,
   "metadata": {},
   "outputs": [
    {
     "name": "stdout",
     "output_type": "stream",
     "text": [
      "Dehydration\n"
     ]
    }
   ],
   "source": [
    "to_optimise_hash = []\n",
    "for i in s_templates_2:\n",
    "    if i not in s_templates_1:\n",
    "        print(i)\n",
    "        to_optimise_hash.append(i)"
   ]
  },
  {
   "cell_type": "code",
   "execution_count": 59,
   "metadata": {},
   "outputs": [
    {
     "name": "stdout",
     "output_type": "stream",
     "text": [
      "['Dehydration']\n",
      "Length:  1\n"
     ]
    }
   ],
   "source": [
    "print(to_optimise_hash)\n",
    "print('Length: ', len(to_optimise_hash))"
   ]
  },
  {
   "cell_type": "code",
   "execution_count": 60,
   "metadata": {},
   "outputs": [
    {
     "name": "stdout",
     "output_type": "stream",
     "text": [
      "{'Unassigned': 250, 'Heteroaryl N-alkylation': 201, 'Reductive amination': 158, 'Halogenation': 133, 'RCO2H deprotections': 110, 'Other functional group interconversion': 49, 'O-acylation to ester': 31, 'Amide to amine reduction': 27, 'Other reductions': 26, 'ROH deprotections': 20, 'O-substitution': 20, 'Alcohol to halide': 19, 'N-arylation with Ar-X': 18, 'Alcohols to aldehydes': 15, 'NH deprotections': 15, 'N-acylation to amide': 15, 'Friedel-Crafts reaction': 13, 'Ester to alcohol': 13, 'Stille reaction': 12, 'Acid to acid chloride': 11, 'Alkene oxidative cleavage': 9, 'S-substitution': 9, 'N-substitution with alkyl-X': 8, 'Ketone to alcohol': 8, 'O-sulfonylation': 7, 'Other functional group addition': 5, 'Nitro to amine reduction': 4, 'NH protections': 4, 'O-containing heterocycle formation': 3, 'Alkene to alkane': 3, 'Suzuki coupling': 2, 'Other deprotections': 2, 'Other organometallic C-C bond formation': 2, 'Cyano or imine to amine': 1, 'RSH deprotections': 1, 'Alkyne to alkane': 1, 'Other C-C bond formation': 1}\n"
     ]
    }
   ],
   "source": [
    "print(s_templates_1)"
   ]
  },
  {
   "cell_type": "code",
   "execution_count": 61,
   "metadata": {},
   "outputs": [
    {
     "name": "stdout",
     "output_type": "stream",
     "text": [
      "1226\n",
      "384\n"
     ]
    }
   ],
   "source": [
    "s_total_1 = sum(list(s_templates_1.values()))\n",
    "s_total_2 = sum(list(s_templates_2.values()))\n",
    "print(s_total_1)\n",
    "print(s_total_2)"
   ]
  },
  {
   "cell_type": "code",
   "execution_count": 24,
   "metadata": {},
   "outputs": [
    {
     "ename": "TypeError",
     "evalue": "unhashable type: 'slice'",
     "output_type": "error",
     "traceback": [
      "\u001b[0;31m---------------------------------------------------------------------------\u001b[0m",
      "\u001b[0;31mTypeError\u001b[0m                                 Traceback (most recent call last)",
      "\u001b[0;32m<ipython-input-24-981a6cd973d7>\u001b[0m in \u001b[0;36m<module>\u001b[0;34m\u001b[0m\n\u001b[0;32m----> 1\u001b[0;31m \u001b[0mprint\u001b[0m\u001b[0;34m(\u001b[0m\u001b[0ms_templates_1\u001b[0m\u001b[0;34m[\u001b[0m\u001b[0;34m:\u001b[0m\u001b[0;36m5\u001b[0m\u001b[0;34m]\u001b[0m\u001b[0;34m)\u001b[0m\u001b[0;34m\u001b[0m\u001b[0;34m\u001b[0m\u001b[0m\n\u001b[0m",
      "\u001b[0;31mTypeError\u001b[0m: unhashable type: 'slice'"
     ]
    }
   ],
   "source": []
  },
  {
   "cell_type": "code",
   "execution_count": 62,
   "metadata": {
    "tags": []
   },
   "outputs": [
    {
     "name": "stdout",
     "output_type": "stream",
     "text": [
      "Alcohol to halide\n",
      "prop:  0.015497553017944535\n",
      "p:  0.018505825908156272\n",
      "\n",
      "O-containing heterocycle formation\n",
      "prop:  0.0024469820554649264\n",
      "p:  0.010966415352981495\n",
      "\n"
     ]
    }
   ],
   "source": [
    "for label, val in s_templates_1.items():\n",
    "    prop = val / 1226\n",
    "    for lab, v in s_templates_2.items():\n",
    "        p = v / 1459\n",
    "        if label == lab and p > prop:\n",
    "            print(label)\n",
    "            print('prop: ', prop)\n",
    "            print('p: ', p)\n",
    "            to_optimise_hash.append(label)\n",
    "            print('')"
   ]
  },
  {
   "cell_type": "code",
   "execution_count": 63,
   "metadata": {},
   "outputs": [
    {
     "name": "stdout",
     "output_type": "stream",
     "text": [
      "['Dehydration', 'Alcohol to halide', 'O-containing heterocycle formation']\n",
      "3\n"
     ]
    }
   ],
   "source": [
    "print(to_optimise_hash)\n",
    "print(len(to_optimise_hash))"
   ]
  },
  {
   "cell_type": "code",
   "execution_count": 64,
   "metadata": {},
   "outputs": [
    {
     "name": "stdout",
     "output_type": "stream",
     "text": [
      "3\n"
     ]
    }
   ],
   "source": [
    "print(len(set(to_optimise_hash)))"
   ]
  },
  {
   "cell_type": "code",
   "execution_count": null,
   "metadata": {},
   "outputs": [],
   "source": []
  }
 ],
 "metadata": {
  "kernelspec": {
   "display_name": "aizynthfinder",
   "language": "python",
   "name": "aizynthfinder"
  },
  "language_info": {
   "codemirror_mode": {
    "name": "ipython",
    "version": 3
   },
   "file_extension": ".py",
   "mimetype": "text/x-python",
   "name": "python",
   "nbconvert_exporter": "python",
   "pygments_lexer": "ipython3",
   "version": "3.8.8"
  }
 },
 "nbformat": 4,
 "nbformat_minor": 4
}
